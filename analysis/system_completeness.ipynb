{
 "cells": [
  {
   "cell_type": "code",
   "execution_count": 109,
   "metadata": {},
   "outputs": [],
   "source": [
    "import arcpy, os\n",
    "from arcpy import env\n",
    "import geopandas as gpd\n",
    "import pandas as pd\n",
    "import numpy as np"
   ]
  },
  {
   "cell_type": "code",
   "execution_count": 32,
   "metadata": {},
   "outputs": [],
   "source": [
    "env.overwriteOutput = True"
   ]
  },
  {
   "cell_type": "code",
   "execution_count": 3,
   "metadata": {},
   "outputs": [],
   "source": [
    "path = r'T:\\MPO\\RTP\\FY20 2045 Update\\Data and Resources\\PerformanceAnalysis'"
   ]
  },
  {
   "cell_type": "code",
   "execution_count": 4,
   "metadata": {},
   "outputs": [],
   "source": [
    "arcpy.env.workspace = os.path.join(path, \"SystemCompleteness/SystemCompleteness.gdb\")"
   ]
  },
  {
   "cell_type": "code",
   "execution_count": 5,
   "metadata": {},
   "outputs": [],
   "source": [
    "network = os.path.join(path, \"network.shp\")"
   ]
  },
  {
   "cell_type": "code",
   "execution_count": 6,
   "metadata": {},
   "outputs": [],
   "source": [
    "facilities = os.path.join(path, 'sidewalk_bikeway_trails/facilities.shp')"
   ]
  },
  {
   "cell_type": "code",
   "execution_count": 65,
   "metadata": {},
   "outputs": [],
   "source": [
    "network_gpd = gpd.read_file(network)"
   ]
  },
  {
   "cell_type": "code",
   "execution_count": 83,
   "metadata": {},
   "outputs": [
    {
     "data": {
      "text/html": [
       "<div>\n",
       "<style scoped>\n",
       "    .dataframe tbody tr th:only-of-type {\n",
       "        vertical-align: middle;\n",
       "    }\n",
       "\n",
       "    .dataframe tbody tr th {\n",
       "        vertical-align: top;\n",
       "    }\n",
       "\n",
       "    .dataframe thead th {\n",
       "        text-align: right;\n",
       "    }\n",
       "</style>\n",
       "<table border=\"1\" class=\"dataframe\">\n",
       "  <thead>\n",
       "    <tr style=\"text-align: right;\">\n",
       "      <th></th>\n",
       "      <th>id</th>\n",
       "      <th>name</th>\n",
       "      <th>type</th>\n",
       "      <th>fed_class</th>\n",
       "      <th>length</th>\n",
       "      <th>Length_mi</th>\n",
       "      <th>geometry</th>\n",
       "    </tr>\n",
       "  </thead>\n",
       "  <tbody>\n",
       "    <tr>\n",
       "      <th>0</th>\n",
       "      <td>210</td>\n",
       "      <td>AYRES</td>\n",
       "      <td>RD</td>\n",
       "      <td>Major Collector</td>\n",
       "      <td>0.0</td>\n",
       "      <td>0.105734</td>\n",
       "      <td>LINESTRING (-13701910.120 5481217.713, -137019...</td>\n",
       "    </tr>\n",
       "    <tr>\n",
       "      <th>1</th>\n",
       "      <td>215</td>\n",
       "      <td>AYRES</td>\n",
       "      <td>RD</td>\n",
       "      <td>Major Collector</td>\n",
       "      <td>0.0</td>\n",
       "      <td>0.080414</td>\n",
       "      <td>LINESTRING (-13701615.348 5481206.862, -137016...</td>\n",
       "    </tr>\n",
       "    <tr>\n",
       "      <th>2</th>\n",
       "      <td>239</td>\n",
       "      <td>RIVER</td>\n",
       "      <td>AVE</td>\n",
       "      <td>Major Collector</td>\n",
       "      <td>0.0</td>\n",
       "      <td>0.191666</td>\n",
       "      <td>LINESTRING (-13705016.630 5480409.094, -137049...</td>\n",
       "    </tr>\n",
       "    <tr>\n",
       "      <th>3</th>\n",
       "      <td>254</td>\n",
       "      <td>RIVER</td>\n",
       "      <td>AVE</td>\n",
       "      <td>Major Collector</td>\n",
       "      <td>0.0</td>\n",
       "      <td>0.145884</td>\n",
       "      <td>LINESTRING (-13704575.406 5480372.173, -137045...</td>\n",
       "    </tr>\n",
       "    <tr>\n",
       "      <th>4</th>\n",
       "      <td>259</td>\n",
       "      <td>TERRY</td>\n",
       "      <td>ST</td>\n",
       "      <td>Major Collector</td>\n",
       "      <td>0.0</td>\n",
       "      <td>0.050614</td>\n",
       "      <td>LINESTRING (-13713458.691 5479775.646, -137134...</td>\n",
       "    </tr>\n",
       "  </tbody>\n",
       "</table>\n",
       "</div>"
      ],
      "text/plain": [
       "    id   name type        fed_class  length  Length_mi  \\\n",
       "0  210  AYRES   RD  Major Collector     0.0   0.105734   \n",
       "1  215  AYRES   RD  Major Collector     0.0   0.080414   \n",
       "2  239  RIVER  AVE  Major Collector     0.0   0.191666   \n",
       "3  254  RIVER  AVE  Major Collector     0.0   0.145884   \n",
       "4  259  TERRY   ST  Major Collector     0.0   0.050614   \n",
       "\n",
       "                                            geometry  \n",
       "0  LINESTRING (-13701910.120 5481217.713, -137019...  \n",
       "1  LINESTRING (-13701615.348 5481206.862, -137016...  \n",
       "2  LINESTRING (-13705016.630 5480409.094, -137049...  \n",
       "3  LINESTRING (-13704575.406 5480372.173, -137045...  \n",
       "4  LINESTRING (-13713458.691 5479775.646, -137134...  "
      ]
     },
     "execution_count": 83,
     "metadata": {},
     "output_type": "execute_result"
    }
   ],
   "source": [
    "network_gpd.head()"
   ]
  },
  {
   "cell_type": "code",
   "execution_count": 72,
   "metadata": {},
   "outputs": [
    {
     "data": {
      "text/plain": [
       "258.7563811014173"
      ]
     },
     "execution_count": 72,
     "metadata": {},
     "output_type": "execute_result"
    }
   ],
   "source": [
    "network_gpd['Length_mi'].sum()"
   ]
  },
  {
   "cell_type": "code",
   "execution_count": 67,
   "metadata": {},
   "outputs": [],
   "source": [
    "facilities_gpd = gpd.read_file(facilities)"
   ]
  },
  {
   "cell_type": "code",
   "execution_count": 68,
   "metadata": {},
   "outputs": [
    {
     "data": {
      "text/html": [
       "<div>\n",
       "<style scoped>\n",
       "    .dataframe tbody tr th:only-of-type {\n",
       "        vertical-align: middle;\n",
       "    }\n",
       "\n",
       "    .dataframe tbody tr th {\n",
       "        vertical-align: top;\n",
       "    }\n",
       "\n",
       "    .dataframe thead th {\n",
       "        text-align: right;\n",
       "    }\n",
       "</style>\n",
       "<table border=\"1\" class=\"dataframe\">\n",
       "  <thead>\n",
       "    <tr style=\"text-align: right;\">\n",
       "      <th></th>\n",
       "      <th>id</th>\n",
       "      <th>mode</th>\n",
       "      <th>geometry</th>\n",
       "    </tr>\n",
       "  </thead>\n",
       "  <tbody>\n",
       "    <tr>\n",
       "      <th>0</th>\n",
       "      <td>1</td>\n",
       "      <td>bikeway</td>\n",
       "      <td>LINESTRING (-13705805.396 5477828.642, -137058...</td>\n",
       "    </tr>\n",
       "    <tr>\n",
       "      <th>1</th>\n",
       "      <td>2</td>\n",
       "      <td>bikeway</td>\n",
       "      <td>LINESTRING (-13710446.573 5474013.658, -137104...</td>\n",
       "    </tr>\n",
       "    <tr>\n",
       "      <th>2</th>\n",
       "      <td>3</td>\n",
       "      <td>bikeway</td>\n",
       "      <td>LINESTRING (-13701510.497 5474278.039, -137015...</td>\n",
       "    </tr>\n",
       "    <tr>\n",
       "      <th>3</th>\n",
       "      <td>4</td>\n",
       "      <td>bikeway</td>\n",
       "      <td>LINESTRING (-13701521.145 5469198.971, -137014...</td>\n",
       "    </tr>\n",
       "    <tr>\n",
       "      <th>4</th>\n",
       "      <td>5</td>\n",
       "      <td>bikeway</td>\n",
       "      <td>LINESTRING (-13705017.230 5480591.833, -137050...</td>\n",
       "    </tr>\n",
       "  </tbody>\n",
       "</table>\n",
       "</div>"
      ],
      "text/plain": [
       "   id     mode                                           geometry\n",
       "0   1  bikeway  LINESTRING (-13705805.396 5477828.642, -137058...\n",
       "1   2  bikeway  LINESTRING (-13710446.573 5474013.658, -137104...\n",
       "2   3  bikeway  LINESTRING (-13701510.497 5474278.039, -137015...\n",
       "3   4  bikeway  LINESTRING (-13701521.145 5469198.971, -137014...\n",
       "4   5  bikeway  LINESTRING (-13705017.230 5480591.833, -137050..."
      ]
     },
     "execution_count": 68,
     "metadata": {},
     "output_type": "execute_result"
    }
   ],
   "source": [
    "facilities_gpd.head()"
   ]
  },
  {
   "cell_type": "code",
   "execution_count": 100,
   "metadata": {},
   "outputs": [
    {
     "data": {
      "text/plain": [
       "['bikeway', 'sidewalk', 'trail']"
      ]
     },
     "execution_count": 100,
     "metadata": {},
     "output_type": "execute_result"
    }
   ],
   "source": [
    "list(facilities_gpd['mode'].unique())"
   ]
  },
  {
   "cell_type": "code",
   "execution_count": 7,
   "metadata": {},
   "outputs": [
    {
     "data": {
      "text/html": [
       "<h2>Output</h2>a Layer object<h2>Messages</h2>Start Time: Monday, February 1, 2021 3:55:22 PM<br/>Succeeded at Monday, February 1, 2021 3:55:22 PM (Elapsed Time: 0.45 seconds)<br/><style>.rendered_html td, .rendered_html th {text-align: left;}.rendered_html tbody {border: 1px solid black;}</style>"
      ],
      "text/plain": [
       "<Result 'bikeway'>"
      ]
     },
     "execution_count": 7,
     "metadata": {},
     "output_type": "execute_result"
    }
   ],
   "source": [
    "arcpy.MakeFeatureLayer_management(facilities,\"bikeway\", \"mode = 'bikeway'\")"
   ]
  },
  {
   "cell_type": "code",
   "execution_count": 82,
   "metadata": {},
   "outputs": [
    {
     "data": {
      "text/html": [
       "<h2>Output</h2>a Layer object<h2>Messages</h2>Start Time: Monday, February 1, 2021 6:03:44 PM<br/>Succeeded at Monday, February 1, 2021 6:03:44 PM (Elapsed Time: 0.02 seconds)<br/><style>.rendered_html td, .rendered_html th {text-align: left;}.rendered_html tbody {border: 1px solid black;}</style>"
      ],
      "text/plain": [
       "<Result 'network'>"
      ]
     },
     "execution_count": 82,
     "metadata": {},
     "output_type": "execute_result"
    }
   ],
   "source": [
    "arcpy.MakeFeatureLayer_management(network, \"network\")"
   ]
  },
  {
   "cell_type": "code",
   "execution_count": 9,
   "metadata": {},
   "outputs": [],
   "source": [
    "fieldList = arcpy.ListFields(\"network\")\n",
    "field_names = [f.name for f in fieldList]\n",
    "newfield = \"Length_mi\"\n",
    "if newfield in field_names:\n",
    "    pass\n",
    "else:\n",
    "    arcpy.AddField_management(\"network\", newfield, \"DOUBLE\", \"\", \"\", 100)"
   ]
  },
  {
   "cell_type": "code",
   "execution_count": 10,
   "metadata": {},
   "outputs": [
    {
     "data": {
      "text/html": [
       "<h2>Output</h2>a Layer object<h2>Messages</h2>Start Time: Monday, February 1, 2021 3:55:24 PM<br/>Succeeded at Monday, February 1, 2021 3:55:28 PM (Elapsed Time: 4.65 seconds)<br/><style>.rendered_html td, .rendered_html th {text-align: left;}.rendered_html tbody {border: 1px solid black;}</style>"
      ],
      "text/plain": [
       "<Result 'network'>"
      ]
     },
     "execution_count": 10,
     "metadata": {},
     "output_type": "execute_result"
    }
   ],
   "source": [
    "arcpy.CalculateGeometryAttributes_management(\"network\", [[\"Length_mi\", \"LENGTH_GEODESIC\"]], \"MILES_US\")"
   ]
  },
  {
   "cell_type": "code",
   "execution_count": 37,
   "metadata": {},
   "outputs": [
    {
     "data": {
      "text/html": [
       "<h2>Output</h2><table><tr><th>id</th><th>value</th></tr><tr><td>0</td><td>a Layer object</td></tr><tr><td>1</td><td>network</td></tr><tr><td>2</td><td>2541</td></tr></table><h2>Messages</h2>Start Time: Monday, February 1, 2021 4:43:57 PM<br/>Succeeded at Monday, February 1, 2021 4:43:58 PM (Elapsed Time: 0.34 seconds)<br/><style>.rendered_html td, .rendered_html th {text-align: left;}.rendered_html tbody {border: 1px solid black;}</style>"
      ],
      "text/plain": [
       "<Result 'network'>"
      ]
     },
     "execution_count": 37,
     "metadata": {},
     "output_type": "execute_result"
    }
   ],
   "source": [
    "arcpy.SelectLayerByLocation_management(\"network\", \"INTERSECT\", \"bikeway\", \"70 Feet\")"
   ]
  },
  {
   "cell_type": "code",
   "execution_count": 38,
   "metadata": {},
   "outputs": [
    {
     "data": {
      "text/html": [
       "<h2>Output</h2>T:\\MPO\\RTP\\FY20 2045 Update\\Data and Resources\\PerformanceAnalysis\\SystemCompleteness/SystemCompleteness.gdb\\network_w_bikeway<h2>Messages</h2>Start Time: Monday, February 1, 2021 4:44:31 PM<br/>Succeeded at Monday, February 1, 2021 4:44:34 PM (Elapsed Time: 3.19 seconds)<br/><style>.rendered_html td, .rendered_html th {text-align: left;}.rendered_html tbody {border: 1px solid black;}</style>"
      ],
      "text/plain": [
       "<Result 'T:\\\\MPO\\\\RTP\\\\FY20 2045 Update\\\\Data and Resources\\\\PerformanceAnalysis\\\\SystemCompleteness/SystemCompleteness.gdb\\\\network_w_bikeway'>"
      ]
     },
     "execution_count": 38,
     "metadata": {},
     "output_type": "execute_result"
    }
   ],
   "source": [
    "arcpy.Statistics_analysis(\"network\", \"network_w_bikeway\", [[\"Length_mi\", \"SUM\"]])"
   ]
  },
  {
   "cell_type": "code",
   "execution_count": 42,
   "metadata": {},
   "outputs": [
    {
     "data": {
      "text/html": [
       "<h2>Output</h2><table><tr><th>id</th><th>value</th></tr><tr><td>0</td><td>a Layer object</td></tr><tr><td>1</td><td>-1</td></tr></table><h2>Messages</h2>Start Time: Monday, February 1, 2021 5:04:28 PM<br/>Succeeded at Monday, February 1, 2021 5:04:28 PM (Elapsed Time: 0.02 seconds)<br/><style>.rendered_html td, .rendered_html th {text-align: left;}.rendered_html tbody {border: 1px solid black;}</style>"
      ],
      "text/plain": [
       "<Result 'network'>"
      ]
     },
     "execution_count": 42,
     "metadata": {},
     "output_type": "execute_result"
    }
   ],
   "source": [
    "arcpy.SelectLayerByAttribute_management(\"network\", \"CLEAR_SELECTION\")"
   ]
  },
  {
   "cell_type": "code",
   "execution_count": 19,
   "metadata": {},
   "outputs": [],
   "source": [
    "fields = [f.name for f in arcpy.ListFields(\"network_w_bikeway\")]"
   ]
  },
  {
   "cell_type": "code",
   "execution_count": 20,
   "metadata": {},
   "outputs": [
    {
     "data": {
      "text/plain": [
       "['OBJECTID', 'FREQUENCY', 'SUM_Length_mi']"
      ]
     },
     "execution_count": 20,
     "metadata": {},
     "output_type": "execute_result"
    }
   ],
   "source": [
    "fields"
   ]
  },
  {
   "cell_type": "code",
   "execution_count": 39,
   "metadata": {},
   "outputs": [],
   "source": [
    "arr = arcpy.da.TableToNumPyArray(\"network_w_bikeway\", fields)"
   ]
  },
  {
   "cell_type": "code",
   "execution_count": 40,
   "metadata": {},
   "outputs": [],
   "source": [
    "table = pd.DataFrame(arr, columns=fields)"
   ]
  },
  {
   "cell_type": "code",
   "execution_count": 62,
   "metadata": {},
   "outputs": [
    {
     "data": {
      "text/plain": [
       "227.04"
      ]
     },
     "execution_count": 62,
     "metadata": {},
     "output_type": "execute_result"
    }
   ],
   "source": [
    "round(table['SUM_Length_mi'].values[0], 2)"
   ]
  },
  {
   "cell_type": "code",
   "execution_count": 187,
   "metadata": {},
   "outputs": [],
   "source": [
    "def network_with_facility(facility_mode, level):\n",
    "    arcpy.MakeFeatureLayer_management(facilities, facility_mode, \"mode = '{0}'\".format(facility_mode))\n",
    "    arcpy.MakeFeatureLayer_management(network, \"network\")\n",
    "    arcpy.CalculateGeometryAttributes_management(\"network\", [[\"Length_mi\", \"LENGTH_GEODESIC\"]], \"MILES_US\")\n",
    "    \n",
    "    if level == 'regionwide':\n",
    "        arcpy.SelectLayerByLocation_management(\"network\", \"INTERSECT\", facility_mode, \"70 Feet\")\n",
    "\n",
    "    elif level == 'equity-focused areas':\n",
    "        equity_area = os.path.join(path, 'service_transit_equity/equity_area.shp')\n",
    "        arcpy.MakeFeatureLayer_management(equity_area, \"equity_area\")\n",
    "        arcpy.SelectLayerByLocation_management(\"network\", \"COMPLETELY_WITHIN\", \"equity_area\")\n",
    "        arcpy.SelectLayerByLocation_management(\"network\", \"INTERSECT\", facility_mode, \"70 Feet\", \"SUBSET_SELECTION\")\n",
    "    else:\n",
    "        if level == '1/4 miles from transit stops':\n",
    "            transit_stops = os.path.join(path, 'service_transit_equity/transit_stops.shp')\n",
    "            arcpy.MakeFeatureLayer_management(transit_stops, \"transit_stops\")\n",
    "        else:\n",
    "            high_freq_transit = os.path.join(path, 'service_transit_equity/high_frequency_transit.shp')\n",
    "            arcpy.MakeFeatureLayer_management(high_freq_transit, \"transit_stops\")\n",
    "        \n",
    "        arcpy.SelectLayerByLocation_management(\"network\", \"WITHIN_A_DISTANCE_GEODESIC\", \"transit_stops\", \"0.25 Miles\")\n",
    "        arcpy.SelectLayerByLocation_management(\"network\", \"INTERSECT\", facility_mode, \"70 Feet\", \"SUBSET_SELECTION\")       \n",
    "        \n",
    "    \n",
    "    arcpy.Statistics_analysis(\"network\", \"network_w_\" + facility_mode, [[\"Length_mi\", \"SUM\"]])\n",
    "    fields = [f.name for f in arcpy.ListFields(\"network_w_\" + facility_mode)]\n",
    "    arr = arcpy.da.TableToNumPyArray(\"network_w_\" + facility_mode, fields)\n",
    "    table = pd.DataFrame(arr, columns=fields)\n",
    "    return round(table['SUM_Length_mi'].values[0], 2)  "
   ]
  },
  {
   "cell_type": "code",
   "execution_count": 91,
   "metadata": {},
   "outputs": [
    {
     "data": {
      "text/plain": [
       "227.04"
      ]
     },
     "execution_count": 91,
     "metadata": {},
     "output_type": "execute_result"
    }
   ],
   "source": [
    "network_with_facility('bikeway', level = 'regionwide')"
   ]
  },
  {
   "cell_type": "code",
   "execution_count": 75,
   "metadata": {},
   "outputs": [
    {
     "data": {
      "text/plain": [
       "202.05"
      ]
     },
     "execution_count": 75,
     "metadata": {},
     "output_type": "execute_result"
    }
   ],
   "source": [
    "network_with_facility('sidewalk', level = 'regionwide')"
   ]
  },
  {
   "cell_type": "code",
   "execution_count": 76,
   "metadata": {},
   "outputs": [
    {
     "data": {
      "text/plain": [
       "12.27"
      ]
     },
     "execution_count": 76,
     "metadata": {},
     "output_type": "execute_result"
    }
   ],
   "source": [
    "network_with_facility('trail', level = 'regionwide')"
   ]
  },
  {
   "cell_type": "code",
   "execution_count": 188,
   "metadata": {},
   "outputs": [
    {
     "data": {
      "text/plain": [
       "10.0"
      ]
     },
     "execution_count": 188,
     "metadata": {},
     "output_type": "execute_result"
    }
   ],
   "source": [
    "network_with_facility('trail', level = '1/4 miles from transit stops')"
   ]
  },
  {
   "cell_type": "code",
   "execution_count": 93,
   "metadata": {},
   "outputs": [
    {
     "data": {
      "text/plain": [
       "171.26"
      ]
     },
     "execution_count": 93,
     "metadata": {},
     "output_type": "execute_result"
    }
   ],
   "source": [
    "network_with_facility('sidewalk', level = '1/4 miles from transit stops')"
   ]
  },
  {
   "cell_type": "code",
   "execution_count": 92,
   "metadata": {},
   "outputs": [
    {
     "data": {
      "text/plain": [
       "179.41"
      ]
     },
     "execution_count": 92,
     "metadata": {},
     "output_type": "execute_result"
    }
   ],
   "source": [
    "network_with_facility('bikeway', level = '1/4 miles from transit stops')"
   ]
  },
  {
   "cell_type": "code",
   "execution_count": 95,
   "metadata": {},
   "outputs": [
    {
     "data": {
      "text/plain": [
       "42.29"
      ]
     },
     "execution_count": 95,
     "metadata": {},
     "output_type": "execute_result"
    }
   ],
   "source": [
    "network_with_facility('bikeway', level = 'equity-focused areas')"
   ]
  },
  {
   "cell_type": "code",
   "execution_count": 96,
   "metadata": {},
   "outputs": [
    {
     "data": {
      "text/plain": [
       "43.99"
      ]
     },
     "execution_count": 96,
     "metadata": {},
     "output_type": "execute_result"
    }
   ],
   "source": [
    "network_with_facility('sidewalk', level = 'equity-focused areas')"
   ]
  },
  {
   "cell_type": "code",
   "execution_count": 97,
   "metadata": {},
   "outputs": [
    {
     "data": {
      "text/plain": [
       "3.17"
      ]
     },
     "execution_count": 97,
     "metadata": {},
     "output_type": "execute_result"
    }
   ],
   "source": [
    "network_with_facility('trail', level = 'equity-focused areas')"
   ]
  },
  {
   "cell_type": "code",
   "execution_count": 172,
   "metadata": {},
   "outputs": [
    {
     "data": {
      "text/plain": [
       "94.27"
      ]
     },
     "execution_count": 172,
     "metadata": {},
     "output_type": "execute_result"
    }
   ],
   "source": [
    "network_with_facility('bikeway', level = '1/4 miles from high frequency transit stops')"
   ]
  },
  {
   "cell_type": "code",
   "execution_count": 173,
   "metadata": {},
   "outputs": [
    {
     "data": {
      "text/plain": [
       "7.83"
      ]
     },
     "execution_count": 173,
     "metadata": {},
     "output_type": "execute_result"
    }
   ],
   "source": [
    "network_with_facility('trail', level = '1/4 miles from high frequency transit stops')"
   ]
  },
  {
   "cell_type": "code",
   "execution_count": 174,
   "metadata": {},
   "outputs": [
    {
     "data": {
      "text/plain": [
       "100.83"
      ]
     },
     "execution_count": 174,
     "metadata": {},
     "output_type": "execute_result"
    }
   ],
   "source": [
    "network_with_facility('sidewalk', level = '1/4 miles from high frequency transit stops')"
   ]
  },
  {
   "cell_type": "code",
   "execution_count": 190,
   "metadata": {},
   "outputs": [],
   "source": [
    "levels = ['regionwide', '1/4 miles from transit stops', \n",
    "          '1/4 miles from high frequency transit stops', 'equity-focused areas']"
   ]
  },
  {
   "cell_type": "code",
   "execution_count": 101,
   "metadata": {},
   "outputs": [],
   "source": [
    "modes = list(facilities_gpd['mode'].unique())"
   ]
  },
  {
   "cell_type": "code",
   "execution_count": 184,
   "metadata": {},
   "outputs": [],
   "source": [
    "def get_completeness(facility_mode, level):\n",
    "    a = network_with_facility(facility_mode, level)\n",
    "    return a, round((a/258.76 * 100), 2)"
   ]
  },
  {
   "cell_type": "code",
   "execution_count": 185,
   "metadata": {},
   "outputs": [
    {
     "data": {
      "text/plain": [
       "(227.04, 87.74)"
      ]
     },
     "execution_count": 185,
     "metadata": {},
     "output_type": "execute_result"
    }
   ],
   "source": [
    "get_completeness('bikeway', level = 'regionwide')"
   ]
  },
  {
   "cell_type": "code",
   "execution_count": 191,
   "metadata": {},
   "outputs": [
    {
     "name": "stdout",
     "output_type": "stream",
     "text": [
      "Mode: bikeway; Level: regionwide\n",
      "(227.04, 87.74)\n",
      "Mode: sidewalk; Level: regionwide\n",
      "(202.05, 78.08)\n",
      "Mode: trail; Level: regionwide\n",
      "(12.27, 4.74)\n",
      "Mode: bikeway; Level: 1/4 miles from transit stops\n",
      "(179.41, 69.33)\n",
      "Mode: sidewalk; Level: 1/4 miles from transit stops\n",
      "(171.26, 66.18)\n",
      "Mode: trail; Level: 1/4 miles from transit stops\n",
      "(10.0, 3.86)\n",
      "Mode: bikeway; Level: 1/4 miles from high frequency transit stops\n",
      "(94.27, 36.43)\n",
      "Mode: sidewalk; Level: 1/4 miles from high frequency transit stops\n",
      "(100.83, 38.97)\n",
      "Mode: trail; Level: 1/4 miles from high frequency transit stops\n",
      "(7.83, 3.03)\n",
      "Mode: bikeway; Level: equity-focused areas\n",
      "(42.29, 16.34)\n",
      "Mode: sidewalk; Level: equity-focused areas\n",
      "(43.99, 17.0)\n",
      "Mode: trail; Level: equity-focused areas\n",
      "(3.17, 1.23)\n"
     ]
    }
   ],
   "source": [
    "for level in levels:\n",
    "    for mode in modes:\n",
    "        print(\"Mode: \" + mode + \"; Level: \" + level)\n",
    "        print(get_completeness(mode, level))"
   ]
  },
  {
   "cell_type": "code",
   "execution_count": 103,
   "metadata": {},
   "outputs": [],
   "source": [
    "transit_stops_freq = os.path.join(path, 'service_transit_equity/stops_frequency.shp')"
   ]
  },
  {
   "cell_type": "code",
   "execution_count": 105,
   "metadata": {},
   "outputs": [],
   "source": [
    "transit_stops_freq_gpd = gpd.read_file(transit_stops_freq)"
   ]
  },
  {
   "cell_type": "code",
   "execution_count": 106,
   "metadata": {},
   "outputs": [
    {
     "data": {
      "text/html": [
       "<div>\n",
       "<style scoped>\n",
       "    .dataframe tbody tr th:only-of-type {\n",
       "        vertical-align: middle;\n",
       "    }\n",
       "\n",
       "    .dataframe tbody tr th {\n",
       "        vertical-align: top;\n",
       "    }\n",
       "\n",
       "    .dataframe thead th {\n",
       "        text-align: right;\n",
       "    }\n",
       "</style>\n",
       "<table border=\"1\" class=\"dataframe\">\n",
       "  <thead>\n",
       "    <tr style=\"text-align: right;\">\n",
       "      <th></th>\n",
       "      <th>number</th>\n",
       "      <th>name</th>\n",
       "      <th>longitude</th>\n",
       "      <th>latitude</th>\n",
       "      <th>ons</th>\n",
       "      <th>geometry</th>\n",
       "    </tr>\n",
       "  </thead>\n",
       "  <tbody>\n",
       "    <tr>\n",
       "      <th>0</th>\n",
       "      <td>00001</td>\n",
       "      <td>E/S of 58th N of Main</td>\n",
       "      <td>-122.926727</td>\n",
       "      <td>44.046333</td>\n",
       "      <td>15416.0</td>\n",
       "      <td>POINT (-13684142.077 5472616.286)</td>\n",
       "    </tr>\n",
       "    <tr>\n",
       "      <th>1</th>\n",
       "      <td>00002</td>\n",
       "      <td>E/S of 58th S of D</td>\n",
       "      <td>-122.926224</td>\n",
       "      <td>44.049454</td>\n",
       "      <td>16027.0</td>\n",
       "      <td>POINT (-13684085.793 5473099.581)</td>\n",
       "    </tr>\n",
       "    <tr>\n",
       "      <th>2</th>\n",
       "      <td>00004</td>\n",
       "      <td>E/S of 58th S of Thurston Rd</td>\n",
       "      <td>-122.926247</td>\n",
       "      <td>44.052246</td>\n",
       "      <td>6427.0</td>\n",
       "      <td>POINT (-13684088.398 5473531.989)</td>\n",
       "    </tr>\n",
       "    <tr>\n",
       "      <th>3</th>\n",
       "      <td>00006</td>\n",
       "      <td>S/S of Thurston W of 64th</td>\n",
       "      <td>-122.916626</td>\n",
       "      <td>44.052948</td>\n",
       "      <td>10110.0</td>\n",
       "      <td>POINT (-13683018.050 5473640.676)</td>\n",
       "    </tr>\n",
       "    <tr>\n",
       "      <th>4</th>\n",
       "      <td>00007</td>\n",
       "      <td>S/S of Thurston E of 65th</td>\n",
       "      <td>-122.913231</td>\n",
       "      <td>44.052673</td>\n",
       "      <td>1498.0</td>\n",
       "      <td>POINT (-13682639.441 5473598.174)</td>\n",
       "    </tr>\n",
       "  </tbody>\n",
       "</table>\n",
       "</div>"
      ],
      "text/plain": [
       "  number                          name   longitude   latitude      ons  \\\n",
       "0  00001         E/S of 58th N of Main -122.926727  44.046333  15416.0   \n",
       "1  00002            E/S of 58th S of D -122.926224  44.049454  16027.0   \n",
       "2  00004  E/S of 58th S of Thurston Rd -122.926247  44.052246   6427.0   \n",
       "3  00006     S/S of Thurston W of 64th -122.916626  44.052948  10110.0   \n",
       "4  00007     S/S of Thurston E of 65th -122.913231  44.052673   1498.0   \n",
       "\n",
       "                            geometry  \n",
       "0  POINT (-13684142.077 5472616.286)  \n",
       "1  POINT (-13684085.793 5473099.581)  \n",
       "2  POINT (-13684088.398 5473531.989)  \n",
       "3  POINT (-13683018.050 5473640.676)  \n",
       "4  POINT (-13682639.441 5473598.174)  "
      ]
     },
     "execution_count": 106,
     "metadata": {},
     "output_type": "execute_result"
    }
   ],
   "source": [
    "transit_stops_freq_gpd.head()"
   ]
  },
  {
   "cell_type": "code",
   "execution_count": 107,
   "metadata": {},
   "outputs": [
    {
     "data": {
      "text/plain": [
       "count      1096.000000\n",
       "mean      12199.741788\n",
       "std       45142.536625\n",
       "min           0.000000\n",
       "25%         846.250000\n",
       "50%        2766.500000\n",
       "75%        7546.250000\n",
       "max      881282.000000\n",
       "Name: ons, dtype: float64"
      ]
     },
     "execution_count": 107,
     "metadata": {},
     "output_type": "execute_result"
    }
   ],
   "source": [
    "transit_stops_freq_gpd['ons'].describe()"
   ]
  },
  {
   "cell_type": "code",
   "execution_count": 160,
   "metadata": {},
   "outputs": [],
   "source": [
    "gdf = transit_stops_freq_gpd.dropna()"
   ]
  },
  {
   "cell_type": "code",
   "execution_count": 146,
   "metadata": {},
   "outputs": [],
   "source": [
    "gdf = gdf[gdf['ons'] >= np.percentile(gdf['ons'].values, 75)]"
   ]
  },
  {
   "cell_type": "code",
   "execution_count": 147,
   "metadata": {},
   "outputs": [
    {
     "data": {
      "text/plain": [
       "274"
      ]
     },
     "execution_count": 147,
     "metadata": {},
     "output_type": "execute_result"
    }
   ],
   "source": [
    "gdf.shape[0]"
   ]
  },
  {
   "cell_type": "code",
   "execution_count": 150,
   "metadata": {},
   "outputs": [
    {
     "data": {
      "text/plain": [
       "12199.741788321167"
      ]
     },
     "execution_count": 150,
     "metadata": {},
     "output_type": "execute_result"
    }
   ],
   "source": [
    "transit_stops_freq_gpd['ons'].mean()"
   ]
  },
  {
   "cell_type": "code",
   "execution_count": 161,
   "metadata": {},
   "outputs": [
    {
     "data": {
      "text/plain": [
       "12199.741788321167"
      ]
     },
     "execution_count": 161,
     "metadata": {},
     "output_type": "execute_result"
    }
   ],
   "source": [
    "gdf['ons'].mean()"
   ]
  },
  {
   "cell_type": "code",
   "execution_count": 162,
   "metadata": {},
   "outputs": [],
   "source": [
    "gdf = gdf[gdf['ons'] >= gdf['ons'].mean()]"
   ]
  },
  {
   "cell_type": "code",
   "execution_count": 166,
   "metadata": {},
   "outputs": [
    {
     "data": {
      "text/plain": [
       "0.16047297297297297"
      ]
     },
     "execution_count": 166,
     "metadata": {},
     "output_type": "execute_result"
    }
   ],
   "source": [
    "gdf.shape[0]/transit_stops_freq_gpd.shape[0]"
   ]
  },
  {
   "cell_type": "code",
   "execution_count": 169,
   "metadata": {},
   "outputs": [],
   "source": [
    "gdf.to_file(os.path.join(path, \"service_transit_equity/high_frequency_transit.shp\"))"
   ]
  },
  {
   "cell_type": "code",
   "execution_count": null,
   "metadata": {},
   "outputs": [],
   "source": []
  }
 ],
 "metadata": {
  "kernelspec": {
   "display_name": "Python 3",
   "language": "python",
   "name": "python3"
  },
  "language_info": {
   "codemirror_mode": {
    "name": "ipython",
    "version": 3
   },
   "file_extension": ".py",
   "mimetype": "text/x-python",
   "name": "python",
   "nbconvert_exporter": "python",
   "pygments_lexer": "ipython3",
   "version": "3.7.9"
  }
 },
 "nbformat": 4,
 "nbformat_minor": 4
}

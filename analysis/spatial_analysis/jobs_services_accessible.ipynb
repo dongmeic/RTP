{
 "cells": [
  {
   "cell_type": "code",
   "execution_count": 31,
   "metadata": {},
   "outputs": [],
   "source": [
    "import arcpy, os, numpy\n",
    "from arcpy import env"
   ]
  },
  {
   "cell_type": "code",
   "execution_count": 3,
   "metadata": {},
   "outputs": [],
   "source": [
    "env.workspace = r\"T:\\MPO\\RTP\\FY20 2045 Update\\Data and Resources\\Network_Analysis\\Network_Analysis.gdb\"\n",
    "env.overwriteOutput = True"
   ]
  },
  {
   "cell_type": "code",
   "execution_count": 4,
   "metadata": {},
   "outputs": [
    {
     "data": {
      "text/html": [
       "<h2>Output</h2>a Layer object<h2>Messages</h2>Start Time: Sunday, April 4, 2021 9:48:30 AM<br/>Succeeded at Sunday, April 4, 2021 9:48:30 AM (Elapsed Time: 0.42 seconds)<br/><style>.rendered_html td, .rendered_html th {text-align: left;}.rendered_html tbody {border: 1px solid black;}</style>"
      ],
      "text/plain": [
       "<Result 'baseyear_hh'>"
      ]
     },
     "execution_count": 4,
     "metadata": {},
     "output_type": "execute_result"
    }
   ],
   "source": [
    "arcpy.management.MakeFeatureLayer(\"parcels_FeatureToPoint\", \"baseyear_hh\", \"ohh > 0\")"
   ]
  },
  {
   "cell_type": "code",
   "execution_count": 5,
   "metadata": {},
   "outputs": [],
   "source": [
    "fieldList = arcpy.ListFields(\"baseyear_hh\")"
   ]
  },
  {
   "cell_type": "code",
   "execution_count": 6,
   "metadata": {},
   "outputs": [],
   "source": [
    "field_names = [f.name for f in fieldList]"
   ]
  },
  {
   "cell_type": "code",
   "execution_count": 7,
   "metadata": {},
   "outputs": [
    {
     "data": {
      "text/plain": [
       "['OBJECTID',\n",
       " 'Shape',\n",
       " 'btype',\n",
       " 'nrsqft',\n",
       " 'rsqft',\n",
       " 'du',\n",
       " 'yrbuilt',\n",
       " 'lpid',\n",
       " 'pundev',\n",
       " 'dev_land',\n",
       " 'developed',\n",
       " 'obtype',\n",
       " 'orsqft',\n",
       " 'onrsqft',\n",
       " 'odu',\n",
       " 'zid',\n",
       " 'rezoned',\n",
       " 'city',\n",
       " 'annexed',\n",
       " 'ozid',\n",
       " 'AreaPerJob',\n",
       " 'isNonRes',\n",
       " 'jobs',\n",
       " 'ojobs',\n",
       " 'hh',\n",
       " 'ohh',\n",
       " 'ORIG_FID']"
      ]
     },
     "execution_count": 7,
     "metadata": {},
     "output_type": "execute_result"
    }
   ],
   "source": [
    "field_names"
   ]
  },
  {
   "cell_type": "code",
   "execution_count": 8,
   "metadata": {},
   "outputs": [],
   "source": [
    "newfield = \"sa_jobs\""
   ]
  },
  {
   "cell_type": "code",
   "execution_count": 11,
   "metadata": {},
   "outputs": [],
   "source": [
    "desc = arcpy.Describe(\"baseyear_hh\")"
   ]
  },
  {
   "cell_type": "code",
   "execution_count": 12,
   "metadata": {},
   "outputs": [],
   "source": [
    "fields = desc.fields"
   ]
  },
  {
   "cell_type": "code",
   "execution_count": 20,
   "metadata": {},
   "outputs": [
    {
     "data": {
      "text/plain": [
       "'Double'"
      ]
     },
     "execution_count": 20,
     "metadata": {},
     "output_type": "execute_result"
    }
   ],
   "source": [
    "arcpy.ListFields(\"baseyear_hh\", \"jobs\")[0].type"
   ]
  },
  {
   "cell_type": "code",
   "execution_count": 9,
   "metadata": {},
   "outputs": [],
   "source": [
    "if newfield in field_names:\n",
    "    pass\n",
    "else:\n",
    "    arcpy.AddField_management(\"baseyear_hh\", newfield, \"FLOAT\", \"\", \"\", 20)"
   ]
  },
  {
   "cell_type": "code",
   "execution_count": null,
   "metadata": {},
   "outputs": [],
   "source": [
    "with arcpy.da.UpdateCursor(\"baseyear_hh\", ['ORIG_FID', 'sa_jobs']) as cursor: \n",
    "    for row in cursor:\n",
    "        arcpy.management.SelectLayerByAttribute(\"baseyear_hh\", \"NEW_SELECTION\", \"ORIG_FID = {0}\".format(row[0]), None)\n",
    "        arcpy.management.SelectLayerByLocation(\"baseyear_hh\", \"COMPLETELY_WITHIN\", \"SABikingJobs\", \n",
    "                                               None, \"NEW_SELECTION\", \"NOT_INVERT\")\n",
    "        table = arcpy.AddJoin_management(\"SABikingJobs\", \"ObjectID\", \"baseyearJobs_FeatureToPoint\", \"ORIG_FID\", \"KEEP_COMMON\")\n",
    "        arcpy.CopyFeatures_management(table, \"joinedtable\")\n",
    "        fieldsum = arcpy.da.TableToNumPyArray(\"joinedtable\", \"baseyearJobs_FeatureToPoint_jobs\", skip_nulls=True)\n",
    "        row[1] = fieldsum[\"baseyearJobs_FeatureToPoint_jobs\"].sum()\n",
    "        cursor.updateRow(row)"
   ]
  },
  {
   "cell_type": "code",
   "execution_count": null,
   "metadata": {},
   "outputs": [],
   "source": []
  },
  {
   "cell_type": "code",
   "execution_count": null,
   "metadata": {},
   "outputs": [],
   "source": []
  },
  {
   "cell_type": "code",
   "execution_count": null,
   "metadata": {},
   "outputs": [],
   "source": []
  }
 ],
 "metadata": {
  "kernelspec": {
   "display_name": "Python 3",
   "language": "python",
   "name": "python3"
  },
  "language_info": {
   "codemirror_mode": {
    "name": "ipython",
    "version": 3
   },
   "file_extension": ".py",
   "mimetype": "text/x-python",
   "name": "python",
   "nbconvert_exporter": "python",
   "pygments_lexer": "ipython3",
   "version": "3.7.9"
  }
 },
 "nbformat": 4,
 "nbformat_minor": 4
}

{
 "cells": [
  {
   "cell_type": "code",
   "execution_count": 3,
   "metadata": {},
   "outputs": [],
   "source": [
    "import arcpy, os, datetime\n",
    "from arcpy import env"
   ]
  },
  {
   "cell_type": "code",
   "execution_count": 4,
   "metadata": {},
   "outputs": [],
   "source": [
    "env.workspace = r\"T:\\MPO\\RTP\\FY20 2045 Update\\Data and Resources\\Network_Analysis\\Network_Analysis.gdb\"\n",
    "env.overwriteOutput = True"
   ]
  },
  {
   "cell_type": "code",
   "execution_count": 5,
   "metadata": {},
   "outputs": [
    {
     "data": {
      "text/html": [
       "<h2>Output</h2>T:\\MPO\\RTP\\FY20 2045 Update\\Data and Resources\\Network_Analysis\\Network_Analysis.gdb\\SAWalkingTransit_Dissolve<h2>Messages</h2>Start Time: Sunday, April 4, 2021 6:51:32 PM<br/>Dissolving...<br/>Succeeded at Sunday, April 4, 2021 6:51:38 PM (Elapsed Time: 6.41 seconds)<br/><style>.rendered_html td, .rendered_html th {text-align: left;}.rendered_html tbody {border: 1px solid black;}</style>"
      ],
      "text/plain": [
       "<Result 'T:\\\\MPO\\\\RTP\\\\FY20 2045 Update\\\\Data and Resources\\\\Network_Analysis\\\\Network_Analysis.gdb\\\\SAWalkingTransit_Dissolve'>"
      ]
     },
     "execution_count": 5,
     "metadata": {},
     "output_type": "execute_result"
    }
   ],
   "source": [
    "arcpy.management.Dissolve(\"SAWalkingTransit\", \"SAWalkingTransit_Dissolve\", None, None, \"MULTI_PART\", \"DISSOLVE_LINES\")"
   ]
  },
  {
   "cell_type": "code",
   "execution_count": 6,
   "metadata": {},
   "outputs": [
    {
     "data": {
      "text/html": [
       "<h2>Output</h2>T:\\MPO\\RTP\\FY20 2045 Update\\Data and Resources\\Network_Analysis\\Network_Analysis.gdb\\SAWalkingHighFreqTransit_Dis<h2>Messages</h2>Start Time: Sunday, April 4, 2021 6:52:49 PM<br/>Dissolving...<br/>Succeeded at Sunday, April 4, 2021 6:52:51 PM (Elapsed Time: 2.49 seconds)<br/><style>.rendered_html td, .rendered_html th {text-align: left;}.rendered_html tbody {border: 1px solid black;}</style>"
      ],
      "text/plain": [
       "<Result 'T:\\\\MPO\\\\RTP\\\\FY20 2045 Update\\\\Data and Resources\\\\Network_Analysis\\\\Network_Analysis.gdb\\\\SAWalkingHighFreqTransit_Dis'>"
      ]
     },
     "execution_count": 6,
     "metadata": {},
     "output_type": "execute_result"
    }
   ],
   "source": [
    "arcpy.management.Dissolve(\"SAWalkingHighFreqTransit\", \"SAWalkingHighFreqTransit_Dis\", None, None, \n",
    "                          \"MULTI_PART\", \"DISSOLVE_LINES\")"
   ]
  },
  {
   "cell_type": "code",
   "execution_count": null,
   "metadata": {},
   "outputs": [],
   "source": [
    "selectedParcel = arcpy.management.SelectLayerByLocation(\"parcels_FeatureToPoint\", \"COMPLETELY_WITHIN\", \n",
    "                                                   \"SAWalkingTransit_Dissolve\", \n",
    "                                                   None, \"SUBSET_SELECTION\", \"NOT_INVERT\")"
   ]
  },
  {
   "cell_type": "code",
   "execution_count": null,
   "metadata": {},
   "outputs": [],
   "source": [
    "fieldsum = arcpy.da.TableToNumPyArray(selectedParcel, \"hh\", skip_nulls=True)"
   ]
  },
  {
   "cell_type": "code",
   "execution_count": null,
   "metadata": {},
   "outputs": [],
   "source": [
    "val = fieldsum[\"hh\"].sum()"
   ]
  },
  {
   "cell_type": "code",
   "execution_count": null,
   "metadata": {},
   "outputs": [],
   "source": [
    "val"
   ]
  },
  {
   "cell_type": "code",
   "execution_count": null,
   "metadata": {},
   "outputs": [],
   "source": []
  },
  {
   "cell_type": "code",
   "execution_count": null,
   "metadata": {},
   "outputs": [],
   "source": []
  }
 ],
 "metadata": {
  "kernelspec": {
   "display_name": "Python 3",
   "language": "python",
   "name": "python3"
  },
  "language_info": {
   "codemirror_mode": {
    "name": "ipython",
    "version": 3
   },
   "file_extension": ".py",
   "mimetype": "text/x-python",
   "name": "python",
   "nbconvert_exporter": "python",
   "pygments_lexer": "ipython3",
   "version": "3.8.8"
  }
 },
 "nbformat": 4,
 "nbformat_minor": 4
}

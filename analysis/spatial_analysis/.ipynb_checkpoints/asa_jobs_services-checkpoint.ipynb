{
 "cells": [
  {
   "cell_type": "code",
   "execution_count": 1,
   "metadata": {},
   "outputs": [],
   "source": [
    "import arcpy, os, datetime\n",
    "from arcpy import env"
   ]
  },
  {
   "cell_type": "code",
   "execution_count": 2,
   "metadata": {},
   "outputs": [],
   "source": [
    "# need to restart the kernel after updating the function\n",
    "import AccessibilitySpatialAnalysis as asa"
   ]
  },
  {
   "cell_type": "code",
   "execution_count": 3,
   "metadata": {},
   "outputs": [],
   "source": [
    "env.workspace = r\"T:\\MPO\\RTP\\FY20 2045 Update\\Data and Resources\\Network_Analysis\\Network_Analysis.gdb\"\n",
    "env.overwriteOutput = True"
   ]
  },
  {
   "cell_type": "code",
   "execution_count": 4,
   "metadata": {},
   "outputs": [],
   "source": [
    "# 2 years * 3 AOI * 2 travel modes * 2 services\n",
    "layer_names = [\"baseyearHH_FeatureToPoint\", \"forecastHH_FeatureToPoint\"]\n",
    "jobfields = [\"ojobs\", \"jobs\"]\n",
    "AOIs = [\"MPO\", \"EFA\", \"NEFA\"]\n",
    "travel_modes = [\"Biking\", \"Walking\"]\n",
    "sas = [\"Jobs\", \"Amenities\"]\n",
    "years = [2020, 2045]"
   ]
  },
  {
   "cell_type": "code",
   "execution_count": 5,
   "metadata": {},
   "outputs": [
    {
     "name": "stdout",
     "output_type": "stream",
     "text": [
      "Spatial analysis for Jobs by Biking in MPO in 2020...\n",
      "Getting a join table between service area and job points...\n",
      "Completed...\n",
      "Getting the household points within the MPO boundary...\n",
      "Getting a spatial join between the selected household points and service area joined table...\n",
      "Completed spatial analysis for Jobs by Biking in MPO in 2020 completed with 0:05:51.680226 timesteps...\n",
      "Spatial analysis for Jobs by Walking in MPO in 2020...\n",
      "Getting a join table between service area and job points...\n",
      "Completed...\n",
      "Getting the household points within the MPO boundary...\n",
      "Getting a spatial join between the selected household points and service area joined table...\n",
      "Completed spatial analysis for Jobs by Walking in MPO in 2020 completed with 0:01:17.961673 timesteps...\n",
      "Spatial analysis for Amenities by Biking in MPO in 2020...\n",
      "Getting the household points within the MPO boundary...\n",
      "Getting a spatial join between the selected household points and service area joined table...\n",
      "Completed spatial analysis for Amenities by Biking in MPO in 2020 completed with 0:01:00.496470 timesteps...\n",
      "Spatial analysis for Amenities by Walking in MPO in 2020...\n",
      "Getting the household points within the MPO boundary...\n",
      "Getting a spatial join between the selected household points and service area joined table...\n",
      "Completed spatial analysis for Amenities by Walking in MPO in 2020 completed with 0:00:29.732628 timesteps...\n",
      "Spatial analysis for Jobs by Biking in EFA in 2020...\n",
      "Getting a join table between service area and job points...\n",
      "Completed...\n",
      "Getting the household points within the equity focused areas...\n",
      "Getting a spatial join between the selected household points and service area joined table...\n",
      "Completed spatial analysis for Jobs by Biking in EFA in 2020 completed with 0:01:48.011704 timesteps...\n",
      "Spatial analysis for Jobs by Walking in EFA in 2020...\n",
      "Getting a join table between service area and job points...\n",
      "Completed...\n",
      "Getting the household points within the equity focused areas...\n",
      "Getting a spatial join between the selected household points and service area joined table...\n",
      "Completed spatial analysis for Jobs by Walking in EFA in 2020 completed with 0:00:39.938835 timesteps...\n",
      "Spatial analysis for Amenities by Biking in EFA in 2020...\n",
      "Getting the household points within the equity focused areas...\n",
      "Getting a spatial join between the selected household points and service area joined table...\n",
      "Completed spatial analysis for Amenities by Biking in EFA in 2020 completed with 0:00:26.530075 timesteps...\n",
      "Spatial analysis for Amenities by Walking in EFA in 2020...\n",
      "Getting the household points within the equity focused areas...\n",
      "Getting a spatial join between the selected household points and service area joined table...\n",
      "Completed spatial analysis for Amenities by Walking in EFA in 2020 completed with 0:00:19.145375 timesteps...\n",
      "Spatial analysis for Jobs by Biking in NEFA in 2020...\n",
      "Getting a join table between service area and job points...\n",
      "Completed...\n",
      "Getting the household points within the equity focused areas...\n",
      "Switching the household points to the non-equtiy focused areas within MPO...\n",
      "Getting a spatial join between the selected household points and service area joined table...\n",
      "Completed spatial analysis for Jobs by Biking in NEFA in 2020 completed with 0:04:53.994515 timesteps...\n",
      "Spatial analysis for Jobs by Walking in NEFA in 2020...\n",
      "Getting a join table between service area and job points...\n",
      "Completed...\n",
      "Getting the household points within the equity focused areas...\n",
      "Switching the household points to the non-equtiy focused areas within MPO...\n",
      "Getting a spatial join between the selected household points and service area joined table...\n",
      "Completed spatial analysis for Jobs by Walking in NEFA in 2020 completed with 0:01:06.221738 timesteps...\n",
      "Spatial analysis for Amenities by Biking in NEFA in 2020...\n",
      "Getting the household points within the equity focused areas...\n",
      "Switching the household points to the non-equtiy focused areas within MPO...\n",
      "Getting a spatial join between the selected household points and service area joined table...\n",
      "Completed spatial analysis for Amenities by Biking in NEFA in 2020 completed with 0:00:55.462653 timesteps...\n",
      "Spatial analysis for Amenities by Walking in NEFA in 2020...\n",
      "Getting the household points within the equity focused areas...\n",
      "Switching the household points to the non-equtiy focused areas within MPO...\n",
      "Getting a spatial join between the selected household points and service area joined table...\n",
      "Completed spatial analysis for Amenities by Walking in NEFA in 2020 completed with 0:00:29.625702 timesteps...\n",
      "Spatial analysis for Jobs by Biking in MPO in 2045...\n",
      "Getting a join table between service area and job points...\n",
      "Completed...\n",
      "Getting the household points within the MPO boundary...\n",
      "Getting a spatial join between the selected household points and service area joined table...\n",
      "Completed spatial analysis for Jobs by Biking in MPO in 2045 completed with 0:06:21.279604 timesteps...\n",
      "Spatial analysis for Jobs by Walking in MPO in 2045...\n",
      "Getting a join table between service area and job points...\n",
      "Completed...\n",
      "Getting the household points within the MPO boundary...\n",
      "Getting a spatial join between the selected household points and service area joined table...\n",
      "Completed spatial analysis for Jobs by Walking in MPO in 2045 completed with 0:01:23.801617 timesteps...\n",
      "Spatial analysis for Amenities by Biking in MPO in 2045...\n",
      "Getting the household points within the MPO boundary...\n",
      "Getting a spatial join between the selected household points and service area joined table...\n",
      "Completed spatial analysis for Amenities by Biking in MPO in 2045 completed with 0:01:00.148120 timesteps...\n",
      "Spatial analysis for Amenities by Walking in MPO in 2045...\n",
      "Getting the household points within the MPO boundary...\n",
      "Getting a spatial join between the selected household points and service area joined table...\n",
      "Completed spatial analysis for Amenities by Walking in MPO in 2045 completed with 0:00:28.130347 timesteps...\n",
      "Spatial analysis for Jobs by Biking in EFA in 2045...\n",
      "Getting a join table between service area and job points...\n",
      "Completed...\n",
      "Getting the household points within the equity focused areas...\n",
      "Getting a spatial join between the selected household points and service area joined table...\n",
      "Completed spatial analysis for Jobs by Biking in EFA in 2045 completed with 0:01:57.509319 timesteps...\n",
      "Spatial analysis for Jobs by Walking in EFA in 2045...\n",
      "Getting a join table between service area and job points...\n",
      "Completed...\n",
      "Getting the household points within the equity focused areas...\n",
      "Getting a spatial join between the selected household points and service area joined table...\n",
      "Completed spatial analysis for Jobs by Walking in EFA in 2045 completed with 0:00:41.199850 timesteps...\n",
      "Spatial analysis for Amenities by Biking in EFA in 2045...\n",
      "Getting the household points within the equity focused areas...\n",
      "Getting a spatial join between the selected household points and service area joined table...\n",
      "Completed spatial analysis for Amenities by Biking in EFA in 2045 completed with 0:00:26.572485 timesteps...\n",
      "Spatial analysis for Amenities by Walking in EFA in 2045...\n",
      "Getting the household points within the equity focused areas...\n",
      "Getting a spatial join between the selected household points and service area joined table...\n",
      "Completed spatial analysis for Amenities by Walking in EFA in 2045 completed with 0:00:18.131655 timesteps...\n",
      "Spatial analysis for Jobs by Biking in NEFA in 2045...\n",
      "Getting a join table between service area and job points...\n",
      "Completed...\n",
      "Getting the household points within the equity focused areas...\n",
      "Switching the household points to the non-equtiy focused areas within MPO...\n",
      "Getting a spatial join between the selected household points and service area joined table...\n",
      "Completed spatial analysis for Jobs by Biking in NEFA in 2045 completed with 0:05:17.964565 timesteps...\n",
      "Spatial analysis for Jobs by Walking in NEFA in 2045...\n",
      "Getting a join table between service area and job points...\n",
      "Completed...\n",
      "Getting the household points within the equity focused areas...\n",
      "Switching the household points to the non-equtiy focused areas within MPO...\n",
      "Getting a spatial join between the selected household points and service area joined table...\n"
     ]
    },
    {
     "name": "stdout",
     "output_type": "stream",
     "text": [
      "Completed spatial analysis for Jobs by Walking in NEFA in 2045 completed with 0:01:04.878821 timesteps...\n",
      "Spatial analysis for Amenities by Biking in NEFA in 2045...\n",
      "Getting the household points within the equity focused areas...\n",
      "Switching the household points to the non-equtiy focused areas within MPO...\n",
      "Getting a spatial join between the selected household points and service area joined table...\n",
      "Completed spatial analysis for Amenities by Biking in NEFA in 2045 completed with 0:00:56.069662 timesteps...\n",
      "Spatial analysis for Amenities by Walking in NEFA in 2045...\n",
      "Getting the household points within the equity focused areas...\n",
      "Switching the household points to the non-equtiy focused areas within MPO...\n",
      "Getting a spatial join between the selected household points and service area joined table...\n",
      "Completed spatial analysis for Amenities by Walking in NEFA in 2045 completed with 0:00:28.769581 timesteps...\n"
     ]
    }
   ],
   "source": [
    "for layer_name in layer_names:\n",
    "    for AOI in AOIs:\n",
    "        for sa in sas:\n",
    "            for travel_mode in travel_modes:\n",
    "                asa.AccessibilitySpatialJoin(layer_name = layer_name,\n",
    "                    AOI = AOI,\n",
    "                    jobfield = jobfields[layer_names.index(layer_name)],\n",
    "                    service = sa,\n",
    "                    travel_mode = travel_mode,\n",
    "                    year = years[layer_names.index(layer_name)])"
   ]
  },
  {
   "cell_type": "code",
   "execution_count": 6,
   "metadata": {},
   "outputs": [
    {
     "name": "stdout",
     "output_type": "stream",
     "text": [
      "Got the accessibility number for Jobs in EFA5 by Biking in 2020...\n",
      "Got the accessibility number for Jobs in EFA6 by Biking in 2020...\n",
      "Got the accessibility number for Jobs in EFA10 by Biking in 2020...\n",
      "Got the accessibility number for Jobs in EFA18 by Biking in 2020...\n",
      "Got the accessibility number for Jobs in EFA29 by Biking in 2020...\n",
      "Got the accessibility number for Jobs in EFA31 by Biking in 2020...\n"
     ]
    }
   ],
   "source": [
    "out = asa.AccessibilityEquityArea()"
   ]
  },
  {
   "cell_type": "code",
   "execution_count": 8,
   "metadata": {},
   "outputs": [
    {
     "data": {
      "text/plain": [
       "list"
      ]
     },
     "execution_count": 8,
     "metadata": {},
     "output_type": "execute_result"
    }
   ],
   "source": [
    "type(out[0])"
   ]
  },
  {
   "cell_type": "code",
   "execution_count": null,
   "metadata": {},
   "outputs": [],
   "source": []
  },
  {
   "cell_type": "code",
   "execution_count": null,
   "metadata": {},
   "outputs": [],
   "source": []
  },
  {
   "cell_type": "code",
   "execution_count": null,
   "metadata": {},
   "outputs": [],
   "source": []
  }
 ],
 "metadata": {
  "kernelspec": {
   "display_name": "Python 3",
   "language": "python",
   "name": "python3"
  },
  "language_info": {
   "codemirror_mode": {
    "name": "ipython",
    "version": 3
   },
   "file_extension": ".py",
   "mimetype": "text/x-python",
   "name": "python",
   "nbconvert_exporter": "python",
   "pygments_lexer": "ipython3",
   "version": "3.7.9"
  }
 },
 "nbformat": 4,
 "nbformat_minor": 4
}

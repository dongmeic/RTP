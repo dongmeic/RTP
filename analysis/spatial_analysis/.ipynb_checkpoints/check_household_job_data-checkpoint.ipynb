{
 "cells": [
  {
   "cell_type": "code",
   "execution_count": 1,
   "id": "aerial-resistance",
   "metadata": {},
   "outputs": [],
   "source": [
    "import os\n",
    "import pandas as pd"
   ]
  },
  {
   "cell_type": "code",
   "execution_count": 2,
   "id": "occupied-xerox",
   "metadata": {},
   "outputs": [],
   "source": [
    "infolder = r'C:\\Users\\clid1852\\OneDrive - lanecouncilofgovernments\\UrbanSim\\downloads\\hh_and_jobs_xy'"
   ]
  },
  {
   "cell_type": "code",
   "execution_count": 3,
   "id": "stopped-resistance",
   "metadata": {},
   "outputs": [],
   "source": [
    "hh = pd.read_csv(os.path.join(infolder, 'households_2045_xy.csv'))"
   ]
  },
  {
   "cell_type": "code",
   "execution_count": 4,
   "id": "seven-timber",
   "metadata": {},
   "outputs": [
    {
     "data": {
      "text/plain": [
       "(130904, 10)"
      ]
     },
     "execution_count": 4,
     "metadata": {},
     "output_type": "execute_result"
    }
   ],
   "source": [
    "hh.shape"
   ]
  },
  {
   "cell_type": "code",
   "execution_count": 5,
   "id": "premier-trouble",
   "metadata": {},
   "outputs": [],
   "source": [
    "job = pd.read_csv(os.path.join(infolder, 'jobs_2045_xy.csv'))"
   ]
  },
  {
   "cell_type": "code",
   "execution_count": 7,
   "id": "suited-burning",
   "metadata": {},
   "outputs": [
    {
     "data": {
      "text/plain": [
       "(176139, 7)"
      ]
     },
     "execution_count": 7,
     "metadata": {},
     "output_type": "execute_result"
    }
   ],
   "source": [
    "job.shape"
   ]
  },
  {
   "cell_type": "code",
   "execution_count": null,
   "id": "fixed-bailey",
   "metadata": {},
   "outputs": [],
   "source": []
  }
 ],
 "metadata": {
  "kernelspec": {
   "display_name": "Python 3",
   "language": "python",
   "name": "python3"
  },
  "language_info": {
   "codemirror_mode": {
    "name": "ipython",
    "version": 3
   },
   "file_extension": ".py",
   "mimetype": "text/x-python",
   "name": "python",
   "nbconvert_exporter": "python",
   "pygments_lexer": "ipython3",
   "version": "3.8.8"
  }
 },
 "nbformat": 4,
 "nbformat_minor": 5
}

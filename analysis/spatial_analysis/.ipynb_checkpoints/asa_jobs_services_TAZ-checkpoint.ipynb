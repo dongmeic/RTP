{
 "cells": [
  {
   "cell_type": "code",
   "execution_count": 1,
   "metadata": {},
   "outputs": [],
   "source": [
    "import arcpy, os, datetime\n",
    "from arcpy import env"
   ]
  },
  {
   "cell_type": "code",
   "execution_count": 2,
   "metadata": {},
   "outputs": [],
   "source": [
    "env.workspace = r\"T:\\MPO\\RTP\\FY20 2045 Update\\Data and Resources\\Network_Analysis\\Network_Analysis.gdb\"\n",
    "env.overwriteOutput = True"
   ]
  },
  {
   "cell_type": "code",
   "execution_count": 3,
   "metadata": {},
   "outputs": [],
   "source": [
    "# need to restart the kernel after updating the function\n",
    "import AccessibilitySpatialAnalysis as asa"
   ]
  },
  {
   "cell_type": "code",
   "execution_count": 4,
   "metadata": {},
   "outputs": [
    {
     "name": "stdout",
     "output_type": "stream",
     "text": [
      "Getting the TAZ points within the MPO boundary...\n",
      "Got the targeted TAZ points and saved as MPOJobsBiking2020TAZ\n"
     ]
    }
   ],
   "source": [
    "asa.AccessibilityTAZ()"
   ]
  },
  {
   "cell_type": "code",
   "execution_count": 4,
   "metadata": {},
   "outputs": [],
   "source": [
    "AOIs = [\"MPO\", \"EFA\", \"NEFA\"]\n",
    "travel_modes = [\"Biking\", \"Walking\"]\n",
    "sas = [\"Jobs\", \"Amenities\"]\n",
    "years = [2020, 2045]"
   ]
  },
  {
   "cell_type": "code",
   "execution_count": 5,
   "metadata": {},
   "outputs": [],
   "source": [
    "sa = \"Amenities\""
   ]
  },
  {
   "cell_type": "code",
   "execution_count": 6,
   "metadata": {},
   "outputs": [
    {
     "name": "stdout",
     "output_type": "stream",
     "text": [
      "Getting the TAZ points within the MPO boundary...\n",
      "Got the targeted TAZ points and saved as MPOAmenitiesBiking2020TAZ\n",
      "Getting the TAZ points within the MPO boundary...\n",
      "Got the targeted TAZ points and saved as MPOAmenitiesWalking2020TAZ\n",
      "Getting the TAZ points within the equity focused areas...\n",
      "Got the targeted TAZ points and saved as EFAAmenitiesBiking2020TAZ\n",
      "Getting the TAZ points within the equity focused areas...\n",
      "Got the targeted TAZ points and saved as EFAAmenitiesWalking2020TAZ\n",
      "Getting the TAZ points within the equity focused areas...\n",
      "Switching the TAZ points to the non-equtiy focused areas within MPO...\n",
      "Got the targeted TAZ points and saved as NEFAAmenitiesBiking2020TAZ\n",
      "Getting the TAZ points within the equity focused areas...\n",
      "Switching the TAZ points to the non-equtiy focused areas within MPO...\n",
      "Got the targeted TAZ points and saved as NEFAAmenitiesWalking2020TAZ\n",
      "Getting the TAZ points within the MPO boundary...\n",
      "Got the targeted TAZ points and saved as MPOAmenitiesBiking2045TAZ\n",
      "Getting the TAZ points within the MPO boundary...\n",
      "Got the targeted TAZ points and saved as MPOAmenitiesWalking2045TAZ\n",
      "Getting the TAZ points within the equity focused areas...\n",
      "Got the targeted TAZ points and saved as EFAAmenitiesBiking2045TAZ\n",
      "Getting the TAZ points within the equity focused areas...\n",
      "Got the targeted TAZ points and saved as EFAAmenitiesWalking2045TAZ\n",
      "Getting the TAZ points within the equity focused areas...\n",
      "Switching the TAZ points to the non-equtiy focused areas within MPO...\n",
      "Got the targeted TAZ points and saved as NEFAAmenitiesBiking2045TAZ\n",
      "Getting the TAZ points within the equity focused areas...\n",
      "Switching the TAZ points to the non-equtiy focused areas within MPO...\n",
      "Got the targeted TAZ points and saved as NEFAAmenitiesWalking2045TAZ\n"
     ]
    }
   ],
   "source": [
    "for year in years:\n",
    "    for AOI in AOIs:\n",
    "        for sa in sas:\n",
    "            if sa == \"Amenities\":\n",
    "                for travel_mode in travel_modes:\n",
    "                    asa.AccessibilityTAZ(\n",
    "                        AOI = AOI,\n",
    "                        service = sa,\n",
    "                        travel_mode = travel_mode,\n",
    "                        year = year)"
   ]
  },
  {
   "cell_type": "code",
   "execution_count": null,
   "metadata": {},
   "outputs": [],
   "source": []
  },
  {
   "cell_type": "code",
   "execution_count": null,
   "metadata": {},
   "outputs": [],
   "source": []
  }
 ],
 "metadata": {
  "kernelspec": {
   "display_name": "Python 3",
   "language": "python",
   "name": "python3"
  },
  "language_info": {
   "codemirror_mode": {
    "name": "ipython",
    "version": 3
   },
   "file_extension": ".py",
   "mimetype": "text/x-python",
   "name": "python",
   "nbconvert_exporter": "python",
   "pygments_lexer": "ipython3",
   "version": "3.7.9"
  }
 },
 "nbformat": 4,
 "nbformat_minor": 4
}

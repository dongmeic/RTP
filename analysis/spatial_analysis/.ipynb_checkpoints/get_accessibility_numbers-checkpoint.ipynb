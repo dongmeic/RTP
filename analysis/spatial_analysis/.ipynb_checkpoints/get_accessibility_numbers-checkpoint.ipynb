{
 "cells": [
  {
   "cell_type": "code",
   "execution_count": 1,
   "id": "genetic-generator",
   "metadata": {},
   "outputs": [],
   "source": [
    "import geopandas as gpd\n",
    "import pandas as pd\n",
    "import os, datetime"
   ]
  },
  {
   "cell_type": "code",
   "execution_count": 2,
   "id": "retained-restriction",
   "metadata": {},
   "outputs": [],
   "source": [
    "path = r\"T:\\MPO\\RTP\\FY20 2045 Update\\Data and Resources\\Network_Analysis\\Network_Analysis.gdb\""
   ]
  },
  {
   "cell_type": "code",
   "execution_count": 3,
   "id": "pretty-pierce",
   "metadata": {},
   "outputs": [],
   "source": [
    "# 2 years * 3 AOI * 2 travel modes * 2 services\n",
    "sas = [\"Jobs\", \"Amenities\"]\n",
    "travel_modes = [\"Biking\", \"Walking\"]\n",
    "layer_names = [\"baseyearJobs_FeatureToPoint\", \"forecastJobs_FeatureToPoint\"]\n",
    "AOIs = [\"MPO\", \"EFA\", \"NEFA\"]\n",
    "# matched with layer names\n",
    "jobfields = [\"ojobs\", \"jobs\"]\n",
    "years = [2020, 2045]\n",
    "hhfields = [\"ohh\", \"hh\"]"
   ]
  },
  {
   "cell_type": "code",
   "execution_count": 4,
   "id": "nominated-webster",
   "metadata": {},
   "outputs": [],
   "source": [
    "def calculateAccessibility(service = \"Jobs\",\n",
    "                          travel_mode = \"Biking\",\n",
    "                          year = 2020,\n",
    "                          AOI = \"MPO\"):\n",
    "    shp = AOI + service + travel_mode + str(year)\n",
    "    access_gpd = gpd.read_file(path, layer = shp)\n",
    "    if service == \"Jobs\":\n",
    "        targetfield = layer_names[years.index(year)] + \"_\" + jobfields[years.index(year)]\n",
    "        newfield = 'weighted_' + jobfields[years.index(year)]\n",
    "    else:\n",
    "        targetfield = \"Join_Count\"\n",
    "        newfield = 'weighted_count'\n",
    "    \n",
    "    hhfield = hhfields[years.index(year)]\n",
    "    access_gpd[newfield] = access_gpd[targetfield] * access_gpd[hhfield]\n",
    "    \n",
    "    return round(access_gpd[newfield].sum()/access_gpd[hhfield].sum())"
   ]
  },
  {
   "cell_type": "code",
   "execution_count": 5,
   "id": "recorded-berry",
   "metadata": {},
   "outputs": [],
   "source": [
    "outpath = r\"T:\\MPO\\RTP\\FY20 2045 Update\\Data and Resources\\Network_Analysis\""
   ]
  },
  {
   "cell_type": "code",
   "execution_count": 6,
   "id": "marine-addition",
   "metadata": {},
   "outputs": [
    {
     "name": "stdout",
     "output_type": "stream",
     "text": [
      "Got the accessibility number for Jobs in MPO by Biking in 2020...\n",
      "Got the accessibility number for Jobs in EFA by Biking in 2020...\n",
      "Got the accessibility number for Jobs in NEFA by Biking in 2020...\n",
      "Got the accessibility number for Jobs in MPO by Biking in 2045...\n",
      "Got the accessibility number for Jobs in EFA by Biking in 2045...\n",
      "Got the accessibility number for Jobs in NEFA by Biking in 2045...\n",
      "Got the accessibility number for Jobs in MPO by Walking in 2020...\n",
      "Got the accessibility number for Jobs in EFA by Walking in 2020...\n",
      "Got the accessibility number for Jobs in NEFA by Walking in 2020...\n",
      "Got the accessibility number for Jobs in MPO by Walking in 2045...\n",
      "Got the accessibility number for Jobs in EFA by Walking in 2045...\n",
      "Got the accessibility number for Jobs in NEFA by Walking in 2045...\n",
      "Got the accessibility table for Jobs:\n",
      "         MPO2020  EFA2020  NEFA2020  MPO2045  EFA2045  NEFA2045\n",
      "Biking     36253    42490     34634    50065    61479     46912\n",
      "Walking     2513     3761      2180     3796     6669      2972\n",
      "Got the accessibility number for Amenities in MPO by Biking in 2020...\n",
      "Got the accessibility number for Amenities in EFA by Biking in 2020...\n",
      "Got the accessibility number for Amenities in NEFA by Biking in 2020...\n",
      "Got the accessibility number for Amenities in MPO by Biking in 2045...\n",
      "Got the accessibility number for Amenities in EFA by Biking in 2045...\n",
      "Got the accessibility number for Amenities in NEFA by Biking in 2045...\n",
      "Got the accessibility number for Amenities in MPO by Walking in 2020...\n",
      "Got the accessibility number for Amenities in EFA by Walking in 2020...\n",
      "Got the accessibility number for Amenities in NEFA by Walking in 2020...\n",
      "Got the accessibility number for Amenities in MPO by Walking in 2045...\n",
      "Got the accessibility number for Amenities in EFA by Walking in 2045...\n",
      "Got the accessibility number for Amenities in NEFA by Walking in 2045...\n",
      "Got the accessibility table for Amenities:\n",
      "         MPO2020  EFA2020  NEFA2020  MPO2045  EFA2045  NEFA2045\n",
      "Biking       109      119       107      112      131       107\n",
      "Walking       10       12         9       11       17        10\n",
      "total time used: 0:03:02.108356\n"
     ]
    }
   ],
   "source": [
    "now = datetime.datetime.now()\n",
    "for sa in sas:\n",
    "    byService = []\n",
    "    for travel_mode in travel_modes:\n",
    "        byTravelMode = []\n",
    "        colnms = []\n",
    "        for year in years:\n",
    "            byYear = []\n",
    "            colnm = []\n",
    "            for AOI in AOIs:\n",
    "                acc = calculateAccessibility(service = sa,\n",
    "                                             travel_mode = travel_mode,\n",
    "                                             year = year,\n",
    "                                             AOI = AOI)\n",
    "                print(\"Got the accessibility number for {0} in {1} by {2} in {3}...\".format(sa, AOI, travel_mode, year))\n",
    "                byYear.append(acc)\n",
    "                colnm.append(AOI+str(year))\n",
    "            byTravelMode += byYear\n",
    "            colnms += colnm\n",
    "        byService.append(byTravelMode)\n",
    "    print(\"Got the accessibility table for \" + sa + \":\")\n",
    "    df = pd.DataFrame(byService)\n",
    "    df.columns = colnms\n",
    "    df.index= travel_modes\n",
    "    print(df)\n",
    "    df.to_csv(os.path.join(outpath, sa+\"Access.csv\"))\n",
    "later = datetime.datetime.now()\n",
    "elapsed = later - now\n",
    "print(\"total time used: {0}\".format(elapsed))"
   ]
  }
 ],
 "metadata": {
  "kernelspec": {
   "display_name": "Python 3",
   "language": "python",
   "name": "python3"
  },
  "language_info": {
   "codemirror_mode": {
    "name": "ipython",
    "version": 3
   },
   "file_extension": ".py",
   "mimetype": "text/x-python",
   "name": "python",
   "nbconvert_exporter": "python",
   "pygments_lexer": "ipython3",
   "version": "3.8.8"
  }
 },
 "nbformat": 4,
 "nbformat_minor": 5
}

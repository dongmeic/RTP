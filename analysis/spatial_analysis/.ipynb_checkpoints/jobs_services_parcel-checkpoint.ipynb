{
 "cells": [
  {
   "cell_type": "code",
   "execution_count": 1,
   "metadata": {},
   "outputs": [],
   "source": [
    "import arcpy, os, numpy\n",
    "from arcpy import env"
   ]
  },
  {
   "cell_type": "code",
   "execution_count": 2,
   "metadata": {},
   "outputs": [],
   "source": [
    "env.workspace = r\"T:\\MPO\\RTP\\FY20 2045 Update\\Data and Resources\\Network_Analysis\\Network_Analysis.gdb\"\n",
    "env.overwriteOutput = True"
   ]
  },
  {
   "cell_type": "code",
   "execution_count": 3,
   "metadata": {},
   "outputs": [
    {
     "data": {
      "text/html": [
       "<h2>Output</h2>T:\\MPO\\RTP\\FY20 2045 Update\\Data and Resources\\Network_Analysis\\Network_Analysis.gdb\\joinedtable<h2>Messages</h2>Start Time: Sunday, April 4, 2021 4:25:06 PM<br/>Succeeded at Sunday, April 4, 2021 4:25:14 PM (Elapsed Time: 8.21 seconds)<br/><style>.rendered_html td, .rendered_html th {text-align: left;}.rendered_html tbody {border: 1px solid black;}</style>"
      ],
      "text/plain": [
       "<Result 'T:\\\\MPO\\\\RTP\\\\FY20 2045 Update\\\\Data and Resources\\\\Network_Analysis\\\\Network_Analysis.gdb\\\\joinedtable'>"
      ]
     },
     "execution_count": 3,
     "metadata": {},
     "output_type": "execute_result"
    }
   ],
   "source": [
    "table = arcpy.AddJoin_management(\"SABikingJobs\", \"ObjectID\", \"baseyearJobs_FeatureToPoint\", \"ORIG_FID\", \"KEEP_COMMON\")\n",
    "arcpy.CopyFeatures_management(table, \"joinedtable\")"
   ]
  },
  {
   "cell_type": "code",
   "execution_count": 4,
   "metadata": {},
   "outputs": [
    {
     "data": {
      "text/html": [
       "<h2>Output</h2>a Layer object<h2>Messages</h2>Start Time: Sunday, April 4, 2021 4:25:17 PM<br/>Succeeded at Sunday, April 4, 2021 4:25:17 PM (Elapsed Time: 0.48 seconds)<br/><style>.rendered_html td, .rendered_html th {text-align: left;}.rendered_html tbody {border: 1px solid black;}</style>"
      ],
      "text/plain": [
       "<Result 'baseyear_hh'>"
      ]
     },
     "execution_count": 4,
     "metadata": {},
     "output_type": "execute_result"
    }
   ],
   "source": [
    "arcpy.management.MakeFeatureLayer(\"parcels_FeatureToPoint\", \"baseyear_hh\", \"ohh > 0\")"
   ]
  },
  {
   "cell_type": "code",
   "execution_count": 5,
   "metadata": {},
   "outputs": [],
   "source": [
    "fieldList = arcpy.ListFields(\"baseyear_hh\")"
   ]
  },
  {
   "cell_type": "code",
   "execution_count": 6,
   "metadata": {},
   "outputs": [],
   "source": [
    "field_names = [f.name for f in fieldList]"
   ]
  },
  {
   "cell_type": "code",
   "execution_count": 7,
   "metadata": {},
   "outputs": [
    {
     "data": {
      "text/plain": [
       "['OBJECTID',\n",
       " 'Shape',\n",
       " 'btype',\n",
       " 'nrsqft',\n",
       " 'rsqft',\n",
       " 'du',\n",
       " 'yrbuilt',\n",
       " 'lpid',\n",
       " 'pundev',\n",
       " 'dev_land',\n",
       " 'developed',\n",
       " 'obtype',\n",
       " 'orsqft',\n",
       " 'onrsqft',\n",
       " 'odu',\n",
       " 'zid',\n",
       " 'rezoned',\n",
       " 'city',\n",
       " 'annexed',\n",
       " 'ozid',\n",
       " 'AreaPerJob',\n",
       " 'isNonRes',\n",
       " 'jobs',\n",
       " 'ojobs',\n",
       " 'hh',\n",
       " 'ohh',\n",
       " 'ORIG_FID',\n",
       " 'sa_jobs']"
      ]
     },
     "execution_count": 7,
     "metadata": {},
     "output_type": "execute_result"
    }
   ],
   "source": [
    "field_names"
   ]
  },
  {
   "cell_type": "code",
   "execution_count": 8,
   "metadata": {},
   "outputs": [],
   "source": [
    "newfield = \"sa_jobs\""
   ]
  },
  {
   "cell_type": "code",
   "execution_count": 9,
   "metadata": {},
   "outputs": [],
   "source": [
    "desc = arcpy.Describe(\"baseyear_hh\")"
   ]
  },
  {
   "cell_type": "code",
   "execution_count": 10,
   "metadata": {},
   "outputs": [],
   "source": [
    "fields = desc.fields"
   ]
  },
  {
   "cell_type": "code",
   "execution_count": 11,
   "metadata": {},
   "outputs": [
    {
     "data": {
      "text/plain": [
       "'Double'"
      ]
     },
     "execution_count": 11,
     "metadata": {},
     "output_type": "execute_result"
    }
   ],
   "source": [
    "arcpy.ListFields(\"baseyear_hh\", \"jobs\")[0].type"
   ]
  },
  {
   "cell_type": "code",
   "execution_count": 12,
   "metadata": {},
   "outputs": [],
   "source": [
    "if newfield in field_names:\n",
    "    pass\n",
    "else:\n",
    "    arcpy.AddField_management(\"baseyear_hh\", newfield, \"FLOAT\", \"\", \"\", 20)"
   ]
  },
  {
   "cell_type": "code",
   "execution_count": 45,
   "metadata": {},
   "outputs": [],
   "source": [
    "service = \"Jobs\"\n",
    "travel_mode = \"Biking\"\n",
    "AOI = \"MPO\"\n",
    "year = 2020"
   ]
  },
  {
   "cell_type": "code",
   "execution_count": 36,
   "metadata": {},
   "outputs": [],
   "source": [
    "targetHH = arcpy.management.SelectLayerByAttribute(\"baseyear_hh\", \"NEW_SELECTION\", \"ORIG_FID = {0}\".format(18778), None)"
   ]
  },
  {
   "cell_type": "code",
   "execution_count": 37,
   "metadata": {},
   "outputs": [],
   "source": [
    "selectedSA = arcpy.management.SelectLayerByLocation(\"joinedtable\", \"COMPLETELY_CONTAINS\", targetHH, \n",
    "                                               None, \"NEW_SELECTION\", \"NOT_INVERT\")"
   ]
  },
  {
   "cell_type": "code",
   "execution_count": 38,
   "metadata": {},
   "outputs": [],
   "source": [
    "fieldsum = arcpy.da.TableToNumPyArray(selectedSA, \"baseyearJobs_FeatureToPoint_jobs\", skip_nulls=True)"
   ]
  },
  {
   "cell_type": "code",
   "execution_count": 40,
   "metadata": {},
   "outputs": [],
   "source": [
    "val = fieldsum[\"baseyearJobs_FeatureToPoint_jobs\"].sum()"
   ]
  },
  {
   "cell_type": "code",
   "execution_count": 48,
   "metadata": {},
   "outputs": [
    {
     "data": {
      "text/plain": [
       "73822.79370354864"
      ]
     },
     "execution_count": 48,
     "metadata": {},
     "output_type": "execute_result"
    }
   ],
   "source": [
    "val"
   ]
  },
  {
   "cell_type": "code",
   "execution_count": 44,
   "metadata": {},
   "outputs": [
    {
     "data": {
      "text/plain": [
       "8.910751757824185"
      ]
     },
     "execution_count": 44,
     "metadata": {},
     "output_type": "execute_result"
    }
   ],
   "source": [
    "(val*15.44)/127915.574999826"
   ]
  },
  {
   "cell_type": "code",
   "execution_count": 49,
   "metadata": {},
   "outputs": [
    {
     "data": {
      "text/html": [
       "<h2>Output</h2><table><tr><th>id</th><th>value</th></tr><tr><td>0</td><td>a Layer object</td></tr><tr><td>1</td><td>-1</td></tr></table><h2>Messages</h2>Start Time: Sunday, April 4, 2021 5:20:07 PM<br/>Succeeded at Sunday, April 4, 2021 5:20:07 PM (Elapsed Time: 0.02 seconds)<br/><style>.rendered_html td, .rendered_html th {text-align: left;}.rendered_html tbody {border: 1px solid black;}</style>"
      ],
      "text/plain": [
       "<Result 'baseyear_hh'>"
      ]
     },
     "execution_count": 49,
     "metadata": {},
     "output_type": "execute_result"
    }
   ],
   "source": [
    "arcpy.management.SelectLayerByAttribute(\"baseyear_hh\", \"CLEAR_SELECTION\")"
   ]
  },
  {
   "cell_type": "code",
   "execution_count": null,
   "metadata": {},
   "outputs": [
    {
     "name": "stdout",
     "output_type": "stream",
     "text": [
      "[2, 197255.765625]\n",
      "0.0\n",
      "[3, 197255.765625]\n",
      "0.0\n",
      "[4, 197255.765625]\n",
      "0.0\n",
      "[5, 197255.765625]\n",
      "0.0\n",
      "[6, 197255.765625]\n",
      "0.0\n",
      "[7, 197255.765625]\n",
      "0.0\n",
      "[8, 197255.765625]\n",
      "0.0\n",
      "[9, 197255.765625]\n",
      "0.0\n",
      "[10, 197255.765625]\n",
      "0.0\n",
      "[11, 197255.765625]\n",
      "0.0\n",
      "[12, 197255.765625]\n",
      "0.0\n",
      "[13, 197255.765625]\n",
      "0.0\n",
      "[14, 197255.765625]\n",
      "0.0\n",
      "[15, 197255.765625]\n",
      "0.0\n",
      "[16, 197255.765625]\n",
      "0.0\n",
      "[17, 197255.765625]\n",
      "0.0\n",
      "[18, 197255.765625]\n",
      "0.0\n",
      "[19, 197255.765625]\n",
      "0.0\n",
      "[20, 197255.765625]\n",
      "0.0\n",
      "[21, 197255.765625]\n",
      "0.0\n",
      "[22, 197255.765625]\n",
      "0.0\n",
      "[23, 197255.765625]\n",
      "0.0\n",
      "[24, 197255.765625]\n",
      "0.0\n",
      "[25, 197255.765625]\n",
      "0.0\n",
      "[26, 197255.765625]\n",
      "0.0\n",
      "[28, 197255.765625]\n",
      "0.0\n",
      "[29, 197255.765625]\n",
      "0.0\n",
      "[30, 197255.765625]\n",
      "0.0\n",
      "[31, 197255.765625]\n",
      "0.0\n",
      "[32, 197255.765625]\n",
      "0.0\n",
      "[33, 197255.765625]\n",
      "0.0\n",
      "[34, 197255.765625]\n",
      "0.0\n",
      "[35, 197255.765625]\n",
      "1440.0462628003345\n",
      "[38, 197255.765625]\n",
      "0.0\n",
      "[39, 197255.765625]\n",
      "0.0\n",
      "[40, 197255.765625]\n",
      "1558.6238712335455\n",
      "[41, 197255.765625]\n",
      "0.0\n",
      "[42, 197255.765625]\n",
      "0.0\n",
      "[43, 197255.765625]\n",
      "0.0\n",
      "[44, 197255.765625]\n",
      "0.0\n",
      "[45, 197255.765625]\n",
      "0.0\n",
      "[46, 197255.765625]\n",
      "0.0\n",
      "[47, 197255.765625]\n",
      "18.893215351734483\n",
      "[48, 197255.765625]\n",
      "18.893215351734483\n",
      "[49, 197255.765625]\n",
      "0.0\n",
      "[50, 197255.765625]\n",
      "107.61085138189019\n",
      "[51, 197255.765625]\n",
      "1482.5064959854167\n",
      "[52, 197255.765625]\n",
      "0.0\n",
      "[54, 197255.765625]\n",
      "18.893215351734483\n",
      "[56, 197255.765625]\n",
      "18.893215351734483\n",
      "[57, 197255.765625]\n",
      "0.0\n",
      "[58, 197255.765625]\n",
      "0.0\n",
      "[60, 197255.765625]\n",
      "107.61085138189019\n",
      "[61, 197255.765625]\n",
      "1739.4476742137358\n",
      "[62, 197255.765625]\n",
      "1626.221567214031\n",
      "[63, 197255.765625]\n",
      "0.0\n",
      "[64, 197255.765625]\n",
      "1440.0462628003345\n",
      "[65, 197255.765625]\n",
      "0.0\n",
      "[66, 197255.765625]\n",
      "18.893215351734483\n",
      "[67, 197255.765625]\n",
      "107.61085138189019\n",
      "[68, 197255.765625]\n",
      "0.0\n",
      "[69, 197255.765625]\n",
      "0.0\n",
      "[70, 197255.765625]\n",
      "1440.0462628003345\n",
      "[71, 197255.765625]\n",
      "0.0\n",
      "[72, 197255.765625]\n",
      "133.72152986798778\n",
      "[73, 197255.765625]\n",
      "133.72152986798778\n",
      "[75, 197255.765625]\n",
      "1558.6238712335455\n",
      "[76, 197255.765625]\n",
      "1461.9412105215454\n",
      "[77, 197255.765625]\n",
      "1440.0462628003345\n",
      "[78, 197255.765625]\n",
      "0.0\n",
      "[79, 197255.765625]\n",
      "0.0\n",
      "[80, 197255.765625]\n",
      "0.0\n",
      "[81, 197255.765625]\n",
      "1456.2874641113403\n",
      "[82, 197255.765625]\n",
      "133.72152986798778\n",
      "[83, 197255.765625]\n",
      "1536.7289235123349\n",
      "[84, 197255.765625]\n",
      "166.2664742043412\n",
      "[85, 197255.765625]\n",
      "0.0\n",
      "[86, 197255.765625]\n",
      "0.0\n",
      "[87, 197255.765625]\n",
      "0.0\n",
      "[88, 197255.765625]\n",
      "0.0\n",
      "[89, 197255.765625]\n",
      "0.0\n",
      "[90, 197255.765625]\n",
      "1536.7289235123349\n",
      "[91, 197255.765625]\n",
      "0.0\n",
      "[92, 197255.765625]\n",
      "26.110678486097594\n",
      "[93, 197255.765625]\n",
      "166.2664742043412\n",
      "[94, 197255.765625]\n",
      "1733.0173360772885\n",
      "[95, 197255.765625]\n",
      "1712.4520506134172\n",
      "[96, 197255.765625]\n",
      "3952.228296533496\n",
      "[97, 197255.765625]\n",
      "3329.8119167683376\n",
      "[99, 197255.765625]\n",
      "0.0\n",
      "[100, None]\n",
      "0.0\n",
      "[101, None]\n",
      "1440.0462628003345\n",
      "[102, None]\n",
      "32.54494433635342\n",
      "[104, None]\n",
      "1599.3133955988587\n",
      "[105, None]\n",
      "3978.751483694416\n",
      "[106, None]\n",
      "3952.228296533496\n",
      "[109, None]\n",
      "3329.8119167683376\n",
      "[110, None]\n",
      "0.0\n",
      "[111, None]\n",
      "3329.8119167683376\n",
      "[112, None]\n",
      "0.0\n",
      "[113, None]\n",
      "0.0\n",
      "[114, None]\n",
      "1597.0722552259558\n",
      "[115, None]\n",
      "3329.8119167683376\n",
      "[116, None]\n",
      "3978.751483694416\n",
      "[117, None]\n",
      "4961.90143910291\n",
      "[118, None]\n",
      "1712.4520506134172\n",
      "[119, None]\n",
      "923.7847677914615\n",
      "[120, None]\n",
      "3350.626946764111\n",
      "[121, None]\n",
      "1440.0462628003345\n",
      "[122, None]\n",
      "1440.0462628003345\n",
      "[123, None]\n",
      "1733.0173360772885\n",
      "[125, None]\n",
      "0.0\n",
      "[126, None]\n",
      "3350.626946764111\n",
      "[127, None]\n",
      "0.0\n",
      "[128, None]\n",
      "45.003893837832074\n",
      "[129, None]\n",
      "4902.536251485877\n",
      "[130, None]\n",
      "0.0\n",
      "[131, None]\n",
      "3367.613633185725\n",
      "[132, None]\n",
      "3367.613633185725\n",
      "[133, None]\n",
      "3329.8119167683376\n",
      "[134, None]\n",
      "3451.4098717285606\n",
      "[135, None]\n",
      "5210.685816016814\n",
      "[136, None]\n",
      "4902.536251485877\n",
      "[137, None]\n",
      "3978.751483694416\n",
      "[138, None]\n",
      "3481.3216252389034\n",
      "[139, None]\n",
      "0.0\n",
      "[140, None]\n",
      "3483.027778844675\n",
      "[141, None]\n",
      "32.54494433635342\n",
      "[142, None]\n",
      "0.0\n",
      "[143, None]\n",
      "3511.8650976957188\n",
      "[144, None]\n",
      "0.0\n",
      "[145, None]\n",
      "0.0\n",
      "[146, None]\n",
      "4961.90143910291\n",
      "[147, None]\n",
      "180.81030766358506\n",
      "[148, None]\n",
      "133.72152986798778\n",
      "[149, None]\n",
      "3360.0188181258986\n",
      "[150, None]\n",
      "3486.726994315572\n",
      "[151, None]\n",
      "3350.626946764111\n",
      "[152, None]\n",
      "3329.8119167683376\n",
      "[153, None]\n"
     ]
    }
   ],
   "source": [
    "with arcpy.da.UpdateCursor(\"baseyear_hh\", ['ORIG_FID', 'sa_jobs']) as cursor: \n",
    "    now = datetime.datetime.now()\n",
    "    for row in cursor:\n",
    "        print(row)\n",
    "        targetHH = arcpy.management.SelectLayerByAttribute(\"baseyear_hh\", \"NEW_SELECTION\", \"ORIG_FID = {0}\".format(row[0]), \n",
    "                                                           None)\n",
    "        selectedSA = arcpy.management.SelectLayerByLocation(\"joinedtable\", \"COMPLETELY_CONTAINS\", targetHH, \n",
    "                                               None, \"NEW_SELECTION\", \"NOT_INVERT\")   \n",
    "        fieldsum = arcpy.da.TableToNumPyArray(selectedSA, \"baseyearJobs_FeatureToPoint_jobs\", skip_nulls=True)\n",
    "        val = fieldsum[\"baseyearJobs_FeatureToPoint_jobs\"].sum()\n",
    "        print(val)\n",
    "        row[1] = val\n",
    "        cursor.updateRow(row)\n",
    "    \n",
    "    later = datetime.datetime.now()\n",
    "    elapsed = later - now\n",
    "    print(\"updated field values for {0} by {1} in {2} in {3} completed with {4} seconds...\".format(service, \n",
    "                                                                                                   travel_mode, \n",
    "                                                                                                   AOI, \n",
    "                                                                                                   str(year), \n",
    "                                                                                                   elapsed))"
   ]
  },
  {
   "cell_type": "code",
   "execution_count": null,
   "metadata": {},
   "outputs": [],
   "source": []
  },
  {
   "cell_type": "code",
   "execution_count": null,
   "metadata": {},
   "outputs": [],
   "source": []
  },
  {
   "cell_type": "code",
   "execution_count": null,
   "metadata": {},
   "outputs": [],
   "source": []
  }
 ],
 "metadata": {
  "kernelspec": {
   "display_name": "Python 3",
   "language": "python",
   "name": "python3"
  },
  "language_info": {
   "codemirror_mode": {
    "name": "ipython",
    "version": 3
   },
   "file_extension": ".py",
   "mimetype": "text/x-python",
   "name": "python",
   "nbconvert_exporter": "python",
   "pygments_lexer": "ipython3",
   "version": "3.7.9"
  }
 },
 "nbformat": 4,
 "nbformat_minor": 4
}

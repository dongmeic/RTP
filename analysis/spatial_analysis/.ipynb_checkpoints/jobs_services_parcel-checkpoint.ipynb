{
 "cells": [
  {
   "cell_type": "code",
   "execution_count": 1,
   "metadata": {},
   "outputs": [],
   "source": [
    "import arcpy\n",
    "from arcpy import env"
   ]
  },
  {
   "cell_type": "code",
   "execution_count": 2,
   "metadata": {},
   "outputs": [],
   "source": [
    "import os, numpy, re\n",
    "import pandas as pd"
   ]
  },
  {
   "cell_type": "code",
   "execution_count": 3,
   "metadata": {},
   "outputs": [],
   "source": [
    "env.workspace = r\"T:\\MPO\\RTP\\FY20 2045 Update\\Data and Resources\\Network_Analysis\\Network_Analysis.gdb\"\n",
    "env.overwriteOutput = True"
   ]
  },
  {
   "cell_type": "code",
   "execution_count": 4,
   "metadata": {},
   "outputs": [],
   "source": [
    "input_folder = r\"T:\\MPO\\RTP\\FY20 2045 Update\\Data and Resources\""
   ]
  },
  {
   "cell_type": "code",
   "execution_count": 5,
   "metadata": {},
   "outputs": [],
   "source": [
    "EFAbound = os.path.join(input_folder, \"PerformanceAnalysis\", \"service_transit_equity\", \"equity_area.shp\")"
   ]
  },
  {
   "cell_type": "code",
   "execution_count": 6,
   "metadata": {},
   "outputs": [],
   "source": [
    "EquityAreaID = pd.read_csv(\"../EquityAreaID.csv\")"
   ]
  },
  {
   "cell_type": "code",
   "execution_count": 7,
   "metadata": {},
   "outputs": [
    {
     "data": {
      "text/html": [
       "<div>\n",
       "<style scoped>\n",
       "    .dataframe tbody tr th:only-of-type {\n",
       "        vertical-align: middle;\n",
       "    }\n",
       "\n",
       "    .dataframe tbody tr th {\n",
       "        vertical-align: top;\n",
       "    }\n",
       "\n",
       "    .dataframe thead th {\n",
       "        text-align: right;\n",
       "    }\n",
       "</style>\n",
       "<table border=\"1\" class=\"dataframe\">\n",
       "  <thead>\n",
       "    <tr style=\"text-align: right;\">\n",
       "      <th></th>\n",
       "      <th>BlkGrp10</th>\n",
       "      <th>EquityArea</th>\n",
       "    </tr>\n",
       "  </thead>\n",
       "  <tbody>\n",
       "    <tr>\n",
       "      <th>0</th>\n",
       "      <td>410390019043</td>\n",
       "      <td>5</td>\n",
       "    </tr>\n",
       "    <tr>\n",
       "      <th>1</th>\n",
       "      <td>410390020022</td>\n",
       "      <td>6</td>\n",
       "    </tr>\n",
       "    <tr>\n",
       "      <th>2</th>\n",
       "      <td>410390026002</td>\n",
       "      <td>10</td>\n",
       "    </tr>\n",
       "    <tr>\n",
       "      <th>3</th>\n",
       "      <td>410390033023</td>\n",
       "      <td>18</td>\n",
       "    </tr>\n",
       "    <tr>\n",
       "      <th>4</th>\n",
       "      <td>410390043001</td>\n",
       "      <td>29</td>\n",
       "    </tr>\n",
       "  </tbody>\n",
       "</table>\n",
       "</div>"
      ],
      "text/plain": [
       "       BlkGrp10  EquityArea\n",
       "0  410390019043           5\n",
       "1  410390020022           6\n",
       "2  410390026002          10\n",
       "3  410390033023          18\n",
       "4  410390043001          29"
      ]
     },
     "execution_count": 7,
     "metadata": {},
     "output_type": "execute_result"
    }
   ],
   "source": [
    "EquityAreaID.head()"
   ]
  },
  {
   "cell_type": "code",
   "execution_count": 6,
   "metadata": {},
   "outputs": [],
   "source": [
    "AOI = \"MPO\"\n",
    "service = \"Jobs\"\n",
    "travel_mode = \"Biking\"\n",
    "year = 2020"
   ]
  },
  {
   "cell_type": "code",
   "execution_count": 7,
   "metadata": {},
   "outputs": [],
   "source": [
    "sa_layer = \"SA\" + travel_mode + \"HH\""
   ]
  },
  {
   "cell_type": "code",
   "execution_count": 8,
   "metadata": {},
   "outputs": [],
   "source": [
    "sa_layer_name = sa_layer\n",
    "sa_layer = os.path.join(input_folder, sa_layer + \".shp\")\n",
    "target_field = 'ohh'"
   ]
  },
  {
   "cell_type": "code",
   "execution_count": 9,
   "metadata": {},
   "outputs": [],
   "source": [
    "layer_for_spatial_join = \"baseyear\" + service + \"_FeatureToPoint\""
   ]
  },
  {
   "cell_type": "code",
   "execution_count": 10,
   "metadata": {},
   "outputs": [],
   "source": [
    "count_field = \"ojobs\""
   ]
  },
  {
   "cell_type": "code",
   "execution_count": 10,
   "metadata": {},
   "outputs": [],
   "source": [
    "spatialJoin_out_name = service + travel_mode + str(year) + \"HH_SA\""
   ]
  },
  {
   "cell_type": "code",
   "execution_count": 15,
   "metadata": {},
   "outputs": [
    {
     "data": {
      "text/html": [
       "<h2>Output</h2>T:\\MPO\\RTP\\FY20 2045 Update\\Data and Resources\\Network_Analysis\\Network_Analysis.gdb\\MPOJobsBiking2020HH_SA<h2>Messages</h2>Start Time: Thursday, April 15, 2021 11:33:09 AM<br/>Succeeded at Thursday, April 15, 2021 11:39:02 AM (Elapsed Time: 5 minutes 53 seconds)<br/><style>.rendered_html td, .rendered_html th {text-align: left;}.rendered_html tbody {border: 1px solid black;}</style>"
      ],
      "text/plain": [
       "<Result 'T:\\\\MPO\\\\RTP\\\\FY20 2045 Update\\\\Data and Resources\\\\Network_Analysis\\\\Network_Analysis.gdb\\\\MPOJobsBiking2020HH_SA'>"
      ]
     },
     "execution_count": 15,
     "metadata": {},
     "output_type": "execute_result"
    }
   ],
   "source": [
    "arcpy.analysis.SpatialJoin(sa_layer, layer_for_spatial_join, spatialJoin_out_name, \"JOIN_ONE_TO_ONE\", \"KEEP_COMMON\", 'FacilityID \"FacilityID\" true true false 18 Double 0 18,First,#,{0},FacilityID,-1,-1;{1} \"{1}\" true true false 24 Double 15 23,First,#,{0},{1},-1,-1;{2} \"{2}\" true true false 8 Double 0 0,Sum,#,{3},{2},-1,-1'.format(sa_layer_name, target_field, count_field, layer_for_spatial_join), \"COMPLETELY_CONTAINS\", None, '')"
   ]
  },
  {
   "cell_type": "code",
   "execution_count": 11,
   "metadata": {},
   "outputs": [],
   "source": [
    "MPObound = r\"V:\\Data\\Transportation\\MPO_Boundary.shp\""
   ]
  },
  {
   "cell_type": "code",
   "execution_count": 23,
   "metadata": {},
   "outputs": [],
   "source": [
    "#hh_point_layer = \"baseyearHH_FeatureToPoint\"\n",
    "hh_point_layer = \"forecastHH_FeatureToPoint\""
   ]
  },
  {
   "cell_type": "code",
   "execution_count": 13,
   "metadata": {},
   "outputs": [],
   "source": [
    "input_layer = arcpy.management.SelectLayerByLocation(hh_point_layer, \"COMPLETELY_WITHIN\", MPObound, None, \n",
    "                                                                     \"New_SELECTION\", \"NOT_INVERT\")"
   ]
  },
  {
   "cell_type": "code",
   "execution_count": 24,
   "metadata": {},
   "outputs": [],
   "source": [
    "input_layer = arcpy.management.SelectLayerByLocation(hh_point_layer, \"COMPLETELY_WITHIN\", EFAbound, None, \n",
    "                                                                     \"NEW_SELECTION\", \"NOT_INVERT\")"
   ]
  },
  {
   "cell_type": "code",
   "execution_count": 25,
   "metadata": {},
   "outputs": [
    {
     "data": {
      "text/plain": [
       "10526"
      ]
     },
     "execution_count": 25,
     "metadata": {},
     "output_type": "execute_result"
    }
   ],
   "source": [
    "int(arcpy.GetCount_management(input_layer)[0])"
   ]
  },
  {
   "cell_type": "code",
   "execution_count": 26,
   "metadata": {},
   "outputs": [],
   "source": [
    "year = 2045"
   ]
  },
  {
   "cell_type": "code",
   "execution_count": 27,
   "metadata": {},
   "outputs": [],
   "source": [
    "selected_hh_efa = \"EFA_HH\" + str(year)\n",
    "if arcpy.Exists(selected_hh_efa):\n",
    "    print(\"Got the selected household points in {0}...\".format(str(year)))\n",
    "else:\n",
    "    # for the analysis in each equity-focused area\n",
    "    arcpy.CopyFeatures_management(input_layer, selected_hh_efa)"
   ]
  },
  {
   "cell_type": "code",
   "execution_count": 44,
   "metadata": {
    "scrolled": true
   },
   "outputs": [
    {
     "data": {
      "text/html": [
       "<h2>Output</h2>T:\\MPO\\RTP\\FY20 2045 Update\\Data and Resources\\Network_Analysis\\Network_Analysis.gdb\\MPOJobsBiking2020HH_SA<h2>Messages</h2>Start Time: Thursday, April 15, 2021 3:53:35 PM<br/>Succeeded at Thursday, April 15, 2021 3:53:45 PM (Elapsed Time: 9.32 seconds)<br/><style>.rendered_html td, .rendered_html th {text-align: left;}.rendered_html tbody {border: 1px solid black;}</style>"
      ],
      "text/plain": [
       "<Result 'T:\\\\MPO\\\\RTP\\\\FY20 2045 Update\\\\Data and Resources\\\\Network_Analysis\\\\Network_Analysis.gdb\\\\MPOJobsBiking2020HH_SA'>"
      ]
     },
     "execution_count": 44,
     "metadata": {},
     "output_type": "execute_result"
    }
   ],
   "source": [
    "arcpy.management.DeleteField(out_layer, target_field)"
   ]
  },
  {
   "cell_type": "code",
   "execution_count": 16,
   "metadata": {},
   "outputs": [],
   "source": [
    "oldFieldList = [f.name for f in arcpy.ListFields(hh_point_layer)]"
   ]
  },
  {
   "cell_type": "code",
   "execution_count": 17,
   "metadata": {},
   "outputs": [
    {
     "name": "stdout",
     "output_type": "stream",
     "text": [
      "The fields in the household points in 2020 are ['OBJECTID', 'Shape', 'ohh', 'FacilityID']\n"
     ]
    }
   ],
   "source": [
    "print(\"The fields in the household points in {0} are {1}\".format(str(year), oldFieldList))"
   ]
  },
  {
   "cell_type": "code",
   "execution_count": 64,
   "metadata": {},
   "outputs": [],
   "source": [
    "dropFields = [f.name for f in arcpy.ListFields(hh_point_layer)]"
   ]
  },
  {
   "cell_type": "code",
   "execution_count": 65,
   "metadata": {},
   "outputs": [],
   "source": [
    "keepFields = ['OBJECTID', 'Shape',  'ohh', 'FacilityID']"
   ]
  },
  {
   "cell_type": "code",
   "execution_count": 66,
   "metadata": {},
   "outputs": [],
   "source": [
    "for field in keepFields:\n",
    "    dropFields.remove(field)"
   ]
  },
  {
   "cell_type": "code",
   "execution_count": 67,
   "metadata": {},
   "outputs": [],
   "source": [
    "for field in dropFields:\n",
    "    arcpy.management.DeleteField(input_layer, field)"
   ]
  },
  {
   "cell_type": "code",
   "execution_count": 80,
   "metadata": {},
   "outputs": [],
   "source": [
    "table = arcpy.conversion.TableToTable(out_layer, '', out_layer + 't', '', '', '')"
   ]
  },
  {
   "cell_type": "code",
   "execution_count": 82,
   "metadata": {},
   "outputs": [],
   "source": [
    "newField = 'FacilityID'"
   ]
  },
  {
   "cell_type": "code",
   "execution_count": 83,
   "metadata": {},
   "outputs": [
    {
     "data": {
      "text/html": [
       "<h2>Output</h2>T:\\MPO\\RTP\\FY20 2045 Update\\Data and Resources\\Network_Analysis\\Network_Analysis.gdb\\MPOJobsBiking2020HH_SAp<h2>Messages</h2>Start Time: Thursday, April 15, 2021 6:13:25 PM<br/>Succeeded at Thursday, April 15, 2021 6:15:34 PM (Elapsed Time: 2 minutes 9 seconds)<br/><style>.rendered_html td, .rendered_html th {text-align: left;}.rendered_html tbody {border: 1px solid black;}</style>"
      ],
      "text/plain": [
       "<Result 'T:\\\\MPO\\\\RTP\\\\FY20 2045 Update\\\\Data and Resources\\\\Network_Analysis\\\\Network_Analysis.gdb\\\\MPOJobsBiking2020HH_SAp'>"
      ]
     },
     "execution_count": 83,
     "metadata": {},
     "output_type": "execute_result"
    }
   ],
   "source": [
    "output = arcpy.AddJoin_management(input_layer, newField, table, newField, \"KEEP_COMMON\")\n",
    "arcpy.management.CopyFeatures(output, out_layer + 'p')"
   ]
  },
  {
   "cell_type": "code",
   "execution_count": 74,
   "metadata": {},
   "outputs": [],
   "source": [
    "from arcgis import GIS"
   ]
  },
  {
   "cell_type": "code",
   "execution_count": 76,
   "metadata": {},
   "outputs": [],
   "source": [
    "hhsa = pd.DataFrame.spatial.from_featureclass(out_layer)"
   ]
  },
  {
   "cell_type": "code",
   "execution_count": 77,
   "metadata": {},
   "outputs": [
    {
     "data": {
      "text/plain": [
       "(72032, 6)"
      ]
     },
     "execution_count": 77,
     "metadata": {},
     "output_type": "execute_result"
    }
   ],
   "source": [
    "hhsa.shape"
   ]
  },
  {
   "cell_type": "code",
   "execution_count": 5,
   "metadata": {},
   "outputs": [],
   "source": [
    "AOI = \"EFA\"\n",
    "service = \"Jobs\"\n",
    "travel_mode = \"Biking\"\n",
    "year = 2020"
   ]
  },
  {
   "cell_type": "code",
   "execution_count": 14,
   "metadata": {},
   "outputs": [],
   "source": [
    "import os.path\n",
    "from os import path"
   ]
  },
  {
   "cell_type": "code",
   "execution_count": 15,
   "metadata": {},
   "outputs": [],
   "source": [
    "outTablepath = os.path.join(input_folder, 'Network_Analysis')\n",
    "SAcsv = out_layer + '.csv'\n",
    "HHcsv = AOI + \"_HH\" + str(year) + '.csv'"
   ]
  },
  {
   "cell_type": "code",
   "execution_count": 88,
   "metadata": {},
   "outputs": [],
   "source": [
    "for file in [SAcsv, HHcsv]:\n",
    "    file = os.path.join(outTablepath, file)\n",
    "    if path.exists(file):\n",
    "        os.remove(file)"
   ]
  },
  {
   "cell_type": "code",
   "execution_count": 89,
   "metadata": {},
   "outputs": [],
   "source": [
    "SAtable = arcpy.conversion.TableToTable(out_layer, outTablepath, SAcsv, '', '', '')"
   ]
  },
  {
   "cell_type": "code",
   "execution_count": 16,
   "metadata": {},
   "outputs": [],
   "source": [
    "HHtable = arcpy.conversion.TableToTable(input_layer, outTablepath, HHcsv, '', '', '')"
   ]
  },
  {
   "cell_type": "code",
   "execution_count": 19,
   "metadata": {},
   "outputs": [],
   "source": [
    "SDdf = pd.read_csv(os.path.join(outTablepath, SAcsv))"
   ]
  },
  {
   "cell_type": "code",
   "execution_count": 17,
   "metadata": {},
   "outputs": [],
   "source": [
    "HHdf = pd.read_csv(HHtable[0])"
   ]
  },
  {
   "cell_type": "code",
   "execution_count": 94,
   "metadata": {},
   "outputs": [
    {
     "data": {
      "text/plain": [
       "(72032, 7)"
      ]
     },
     "execution_count": 94,
     "metadata": {},
     "output_type": "execute_result"
    }
   ],
   "source": [
    "SDdf.shape"
   ]
  },
  {
   "cell_type": "code",
   "execution_count": 18,
   "metadata": {},
   "outputs": [
    {
     "data": {
      "text/plain": [
       "(70678, 3)"
      ]
     },
     "execution_count": 18,
     "metadata": {},
     "output_type": "execute_result"
    }
   ],
   "source": [
    "HHdf.shape"
   ]
  },
  {
   "cell_type": "code",
   "execution_count": 21,
   "metadata": {},
   "outputs": [
    {
     "data": {
      "text/html": [
       "<div>\n",
       "<style scoped>\n",
       "    .dataframe tbody tr th:only-of-type {\n",
       "        vertical-align: middle;\n",
       "    }\n",
       "\n",
       "    .dataframe tbody tr th {\n",
       "        vertical-align: top;\n",
       "    }\n",
       "\n",
       "    .dataframe thead th {\n",
       "        text-align: right;\n",
       "    }\n",
       "</style>\n",
       "<table border=\"1\" class=\"dataframe\">\n",
       "  <thead>\n",
       "    <tr style=\"text-align: right;\">\n",
       "      <th></th>\n",
       "      <th>OID_</th>\n",
       "      <th>Join_Count</th>\n",
       "      <th>TARGET_FID</th>\n",
       "      <th>FacilityID</th>\n",
       "      <th>ojobs</th>\n",
       "      <th>Shape_Length</th>\n",
       "      <th>Shape_Area</th>\n",
       "    </tr>\n",
       "  </thead>\n",
       "  <tbody>\n",
       "    <tr>\n",
       "      <th>0</th>\n",
       "      <td>1</td>\n",
       "      <td>26</td>\n",
       "      <td>0</td>\n",
       "      <td>11730.0</td>\n",
       "      <td>1272.219023</td>\n",
       "      <td>147314.141071</td>\n",
       "      <td>7.278085e+07</td>\n",
       "    </tr>\n",
       "    <tr>\n",
       "      <th>1</th>\n",
       "      <td>2</td>\n",
       "      <td>12</td>\n",
       "      <td>1</td>\n",
       "      <td>14479.0</td>\n",
       "      <td>487.174503</td>\n",
       "      <td>122858.165152</td>\n",
       "      <td>5.739519e+07</td>\n",
       "    </tr>\n",
       "    <tr>\n",
       "      <th>2</th>\n",
       "      <td>3</td>\n",
       "      <td>12</td>\n",
       "      <td>2</td>\n",
       "      <td>12807.0</td>\n",
       "      <td>487.174503</td>\n",
       "      <td>122858.165152</td>\n",
       "      <td>5.739519e+07</td>\n",
       "    </tr>\n",
       "    <tr>\n",
       "      <th>3</th>\n",
       "      <td>4</td>\n",
       "      <td>11</td>\n",
       "      <td>3</td>\n",
       "      <td>9119.0</td>\n",
       "      <td>474.177259</td>\n",
       "      <td>122775.986301</td>\n",
       "      <td>5.734810e+07</td>\n",
       "    </tr>\n",
       "    <tr>\n",
       "      <th>4</th>\n",
       "      <td>5</td>\n",
       "      <td>21</td>\n",
       "      <td>4</td>\n",
       "      <td>10641.0</td>\n",
       "      <td>983.769037</td>\n",
       "      <td>144011.993686</td>\n",
       "      <td>6.817592e+07</td>\n",
       "    </tr>\n",
       "  </tbody>\n",
       "</table>\n",
       "</div>"
      ],
      "text/plain": [
       "   OID_  Join_Count  TARGET_FID  FacilityID        ojobs   Shape_Length  \\\n",
       "0     1          26           0     11730.0  1272.219023  147314.141071   \n",
       "1     2          12           1     14479.0   487.174503  122858.165152   \n",
       "2     3          12           2     12807.0   487.174503  122858.165152   \n",
       "3     4          11           3      9119.0   474.177259  122775.986301   \n",
       "4     5          21           4     10641.0   983.769037  144011.993686   \n",
       "\n",
       "     Shape_Area  \n",
       "0  7.278085e+07  \n",
       "1  5.739519e+07  \n",
       "2  5.739519e+07  \n",
       "3  5.734810e+07  \n",
       "4  6.817592e+07  "
      ]
     },
     "execution_count": 21,
     "metadata": {},
     "output_type": "execute_result"
    }
   ],
   "source": [
    "SDdf.head()"
   ]
  },
  {
   "cell_type": "code",
   "execution_count": 20,
   "metadata": {},
   "outputs": [
    {
     "data": {
      "text/html": [
       "<div>\n",
       "<style scoped>\n",
       "    .dataframe tbody tr th:only-of-type {\n",
       "        vertical-align: middle;\n",
       "    }\n",
       "\n",
       "    .dataframe tbody tr th {\n",
       "        vertical-align: top;\n",
       "    }\n",
       "\n",
       "    .dataframe thead th {\n",
       "        text-align: right;\n",
       "    }\n",
       "</style>\n",
       "<table border=\"1\" class=\"dataframe\">\n",
       "  <thead>\n",
       "    <tr style=\"text-align: right;\">\n",
       "      <th></th>\n",
       "      <th>OID_</th>\n",
       "      <th>ohh</th>\n",
       "      <th>FacilityID</th>\n",
       "    </tr>\n",
       "  </thead>\n",
       "  <tbody>\n",
       "    <tr>\n",
       "      <th>0</th>\n",
       "      <td>267</td>\n",
       "      <td>0.965</td>\n",
       "      <td>267</td>\n",
       "    </tr>\n",
       "    <tr>\n",
       "      <th>1</th>\n",
       "      <td>274</td>\n",
       "      <td>0.965</td>\n",
       "      <td>274</td>\n",
       "    </tr>\n",
       "    <tr>\n",
       "      <th>2</th>\n",
       "      <td>276</td>\n",
       "      <td>0.965</td>\n",
       "      <td>276</td>\n",
       "    </tr>\n",
       "    <tr>\n",
       "      <th>3</th>\n",
       "      <td>279</td>\n",
       "      <td>0.965</td>\n",
       "      <td>279</td>\n",
       "    </tr>\n",
       "    <tr>\n",
       "      <th>4</th>\n",
       "      <td>280</td>\n",
       "      <td>0.965</td>\n",
       "      <td>280</td>\n",
       "    </tr>\n",
       "  </tbody>\n",
       "</table>\n",
       "</div>"
      ],
      "text/plain": [
       "   OID_    ohh  FacilityID\n",
       "0   267  0.965         267\n",
       "1   274  0.965         274\n",
       "2   276  0.965         276\n",
       "3   279  0.965         279\n",
       "4   280  0.965         280"
      ]
     },
     "execution_count": 20,
     "metadata": {},
     "output_type": "execute_result"
    }
   ],
   "source": [
    "HHdf.head()"
   ]
  },
  {
   "cell_type": "code",
   "execution_count": 25,
   "metadata": {},
   "outputs": [
    {
     "data": {
      "text/plain": [
       "pandas.core.frame.DataFrame"
      ]
     },
     "execution_count": 25,
     "metadata": {},
     "output_type": "execute_result"
    }
   ],
   "source": [
    "type(HHdf[['ohh', 'FacilityID']])"
   ]
  },
  {
   "cell_type": "code",
   "execution_count": 26,
   "metadata": {
    "scrolled": true
   },
   "outputs": [],
   "source": [
    "df = SDdf[['ojobs', 'FacilityID']].merge(HHdf[['ohh', 'FacilityID']], how='inner', on = 'FacilityID')"
   ]
  },
  {
   "cell_type": "code",
   "execution_count": 32,
   "metadata": {},
   "outputs": [
    {
     "data": {
      "text/plain": [
       "(70659, 4)"
      ]
     },
     "execution_count": 32,
     "metadata": {},
     "output_type": "execute_result"
    }
   ],
   "source": [
    "df.shape"
   ]
  },
  {
   "cell_type": "code",
   "execution_count": 33,
   "metadata": {},
   "outputs": [
    {
     "data": {
      "text/html": [
       "<div>\n",
       "<style scoped>\n",
       "    .dataframe tbody tr th:only-of-type {\n",
       "        vertical-align: middle;\n",
       "    }\n",
       "\n",
       "    .dataframe tbody tr th {\n",
       "        vertical-align: top;\n",
       "    }\n",
       "\n",
       "    .dataframe thead th {\n",
       "        text-align: right;\n",
       "    }\n",
       "</style>\n",
       "<table border=\"1\" class=\"dataframe\">\n",
       "  <thead>\n",
       "    <tr style=\"text-align: right;\">\n",
       "      <th></th>\n",
       "      <th>Unnamed: 0</th>\n",
       "      <th>ojobs</th>\n",
       "      <th>FacilityID</th>\n",
       "      <th>ohh</th>\n",
       "    </tr>\n",
       "  </thead>\n",
       "  <tbody>\n",
       "    <tr>\n",
       "      <th>0</th>\n",
       "      <td>0</td>\n",
       "      <td>2813.166214</td>\n",
       "      <td>10980.0</td>\n",
       "      <td>0.965</td>\n",
       "    </tr>\n",
       "    <tr>\n",
       "      <th>1</th>\n",
       "      <td>1</td>\n",
       "      <td>2324.220171</td>\n",
       "      <td>10522.0</td>\n",
       "      <td>0.965</td>\n",
       "    </tr>\n",
       "    <tr>\n",
       "      <th>2</th>\n",
       "      <td>2</td>\n",
       "      <td>2719.819480</td>\n",
       "      <td>11165.0</td>\n",
       "      <td>0.965</td>\n",
       "    </tr>\n",
       "    <tr>\n",
       "      <th>3</th>\n",
       "      <td>3</td>\n",
       "      <td>2349.664064</td>\n",
       "      <td>10545.0</td>\n",
       "      <td>0.965</td>\n",
       "    </tr>\n",
       "    <tr>\n",
       "      <th>4</th>\n",
       "      <td>4</td>\n",
       "      <td>3389.850014</td>\n",
       "      <td>12341.0</td>\n",
       "      <td>0.965</td>\n",
       "    </tr>\n",
       "  </tbody>\n",
       "</table>\n",
       "</div>"
      ],
      "text/plain": [
       "   Unnamed: 0        ojobs  FacilityID    ohh\n",
       "0           0  2813.166214     10980.0  0.965\n",
       "1           1  2324.220171     10522.0  0.965\n",
       "2           2  2719.819480     11165.0  0.965\n",
       "3           3  2349.664064     10545.0  0.965\n",
       "4           4  3389.850014     12341.0  0.965"
      ]
     },
     "execution_count": 33,
     "metadata": {},
     "output_type": "execute_result"
    }
   ],
   "source": [
    "df.head()"
   ]
  },
  {
   "cell_type": "code",
   "execution_count": 30,
   "metadata": {},
   "outputs": [],
   "source": [
    "df.to_csv(os.path.join(input_folder, 'Network_Analysis', out_layer + '_df' + '.csv'))"
   ]
  },
  {
   "cell_type": "code",
   "execution_count": 31,
   "metadata": {},
   "outputs": [],
   "source": [
    "df = pd.read_csv(os.path.join(input_folder, 'Network_Analysis', out_layer + '_df' + '.csv'))"
   ]
  },
  {
   "cell_type": "code",
   "execution_count": 6,
   "metadata": {},
   "outputs": [],
   "source": [
    "layer_name = AOI + service + travel_mode + str(year)"
   ]
  },
  {
   "cell_type": "code",
   "execution_count": 12,
   "metadata": {},
   "outputs": [
    {
     "data": {
      "text/plain": [
       "410390019043"
      ]
     },
     "execution_count": 12,
     "metadata": {},
     "output_type": "execute_result"
    }
   ],
   "source": [
    "EquityAreaID['BlkGrp10'].values[0]"
   ]
  },
  {
   "cell_type": "code",
   "execution_count": 26,
   "metadata": {},
   "outputs": [
    {
     "data": {
      "text/plain": [
       "[0, 1, 2, 3, 4, 5]"
      ]
     },
     "execution_count": 26,
     "metadata": {},
     "output_type": "execute_result"
    }
   ],
   "source": [
    "[i for i in EquityAreaID.index]"
   ]
  },
  {
   "cell_type": "code",
   "execution_count": 14,
   "metadata": {},
   "outputs": [],
   "source": [
    "BlkGrp10 = EquityAreaID['BlkGrp10'].values[0]"
   ]
  },
  {
   "cell_type": "code",
   "execution_count": 15,
   "metadata": {},
   "outputs": [],
   "source": [
    "EFAbound = arcpy.management.SelectLayerByAttribute(EFAbound, \"NEW_SELECTION\", \"BlkGrp10 = '{0}'\".format(BlkGrp10), None)"
   ]
  },
  {
   "cell_type": "code",
   "execution_count": 16,
   "metadata": {},
   "outputs": [],
   "source": [
    "# 2 years * 3 AOI * 2 travel modes * 2 services\n",
    "sas = [\"Jobs\", \"Amenities\"]\n",
    "travel_modes = [\"Biking\", \"Walking\"]\n",
    "layer_names = [\"baseyearJobs_FeatureToPoint\", \"forecastJobs_FeatureToPoint\"]\n",
    "AOIs = [\"MPO\", \"EFA\", \"NEFA\"]\n",
    "# matched with layer names\n",
    "jobfields = [\"ojobs\", \"jobs\"]\n",
    "years = [2020, 2045]\n",
    "hhfields = [\"ohh\", \"hh\"]"
   ]
  },
  {
   "cell_type": "code",
   "execution_count": 17,
   "metadata": {},
   "outputs": [],
   "source": [
    "newfield = 'weighted_' + jobfields[years.index(year)]"
   ]
  },
  {
   "cell_type": "code",
   "execution_count": 19,
   "metadata": {},
   "outputs": [],
   "source": [
    "fieldList = arcpy.ListFields(layer_name)\n",
    "field_names = [f.name for f in fieldList]\n",
    "if newfield in field_names:\n",
    "    pass\n",
    "else:\n",
    "    arcpy.AddField_management(layer_name, newfield, \"FLOAT\", \"\", \"\", 50)"
   ]
  },
  {
   "cell_type": "code",
   "execution_count": 20,
   "metadata": {},
   "outputs": [],
   "source": [
    "hhfield = hhfields[years.index(year)]\n",
    "targetfield = layer_names[years.index(year)] + \"_\" + jobfields[years.index(year)]"
   ]
  },
  {
   "cell_type": "code",
   "execution_count": 21,
   "metadata": {},
   "outputs": [
    {
     "data": {
      "text/html": [
       "<h2>Output</h2>T:\\MPO\\RTP\\FY20 2045 Update\\Data and Resources\\Network_Analysis\\Network_Analysis.gdb\\EFAJobsBiking2020<h2>Messages</h2>Start Time: Tuesday, April 6, 2021 7:30:47 PM<br/>Succeeded at Tuesday, April 6, 2021 7:30:49 PM (Elapsed Time: 1.56 seconds)<br/><style>.rendered_html td, .rendered_html th {text-align: left;}.rendered_html tbody {border: 1px solid black;}</style>"
      ],
      "text/plain": [
       "<Result 'T:\\\\MPO\\\\RTP\\\\FY20 2045 Update\\\\Data and Resources\\\\Network_Analysis\\\\Network_Analysis.gdb\\\\EFAJobsBiking2020'>"
      ]
     },
     "execution_count": 21,
     "metadata": {},
     "output_type": "execute_result"
    }
   ],
   "source": [
    "arcpy.management.CalculateField(layer_name, newfield, \"!{0}! * !{1}!\".format(hhfield, targetfield), \"PYTHON3\", '', \"TEXT\")"
   ]
  },
  {
   "cell_type": "code",
   "execution_count": 22,
   "metadata": {},
   "outputs": [],
   "source": [
    "input_layer = arcpy.management.SelectLayerByLocation(layer_name, \"COMPLETELY_WITHIN\", EFAbound, None, \n",
    "                                                                 \"NEW_SELECTION\", \"NOT_INVERT\")"
   ]
  },
  {
   "cell_type": "code",
   "execution_count": 23,
   "metadata": {},
   "outputs": [],
   "source": [
    "HHsum = arcpy.da.TableToNumPyArray(input_layer, hhfield, skip_nulls=True)\n",
    "WgtJobsSum = arcpy.da.TableToNumPyArray(input_layer, newfield, skip_nulls=True)"
   ]
  },
  {
   "cell_type": "code",
   "execution_count": 24,
   "metadata": {},
   "outputs": [
    {
     "data": {
      "text/plain": [
       "8676"
      ]
     },
     "execution_count": 24,
     "metadata": {},
     "output_type": "execute_result"
    }
   ],
   "source": [
    "round(WgtJobsSum[newfield].sum() / HHsum[hhfield].sum())"
   ]
  },
  {
   "cell_type": "code",
   "execution_count": 5,
   "metadata": {},
   "outputs": [],
   "source": [
    "AOI = \"MPO\"\n",
    "service = \"Jobs\"\n",
    "travel_mode = \"Biking\"\n",
    "year = 2020"
   ]
  },
  {
   "cell_type": "code",
   "execution_count": 6,
   "metadata": {},
   "outputs": [],
   "source": [
    "if year == 2020:\n",
    "    sa_layer = \"SA\" + travel_mode + \"HH\"\n",
    "    point_layer = \"baseyearHH_FeatureToPoint\"\n",
    "else:\n",
    "    sa_layer = sa_layer + str(year)\n",
    "    point_layer = \"forecastHH_FeatureToPoint\""
   ]
  },
  {
   "cell_type": "code",
   "execution_count": 7,
   "metadata": {},
   "outputs": [],
   "source": [
    "if service == \"Jobs\":\n",
    "    if year == 2020:\n",
    "        layer_for_spatial_join = \"baseyear\" + service + \"_FeatureToPoint\"\n",
    "        count_field = \"ojobs\"\n",
    "    else:\n",
    "        layer_for_spatial_join = \"forecast\" + service + \"_FeatureToPoint\"\n",
    "        count_field = \"jobs\"\n",
    "else:\n",
    "    layer_for_spatial_join = os.path.join(input_folder, \"PerformanceAnalysis\", \n",
    "                                             \"service_transit_equity\", \"service_stops.shp\")"
   ]
  },
  {
   "cell_type": "code",
   "execution_count": 9,
   "metadata": {},
   "outputs": [],
   "source": [
    "oldFieldList = [f.name for f in arcpy.ListFields(sa_layer)]"
   ]
  },
  {
   "cell_type": "code",
   "execution_count": 10,
   "metadata": {},
   "outputs": [],
   "source": [
    "oldField = [i for i in oldFieldList if re.search(r'FacilityID', i)][0]"
   ]
  },
  {
   "cell_type": "code",
   "execution_count": 10,
   "metadata": {},
   "outputs": [],
   "source": [
    "newField = \"FacilityID\""
   ]
  },
  {
   "cell_type": "code",
   "execution_count": 12,
   "metadata": {},
   "outputs": [],
   "source": [
    "if oldField != newField:\n",
    "    arcpy.AlterField_management(sa_layer, oldField, newField)"
   ]
  },
  {
   "cell_type": "code",
   "execution_count": 13,
   "metadata": {},
   "outputs": [],
   "source": [
    "Fields = [f.name for f in arcpy.ListFields(point_layer)]"
   ]
  },
  {
   "cell_type": "code",
   "execution_count": 15,
   "metadata": {},
   "outputs": [],
   "source": [
    "if newField in Fields:\n",
    "    pass\n",
    "else:\n",
    "    arcpy.AddField_management(point_layer, newField, \"LONG\")"
   ]
  },
  {
   "cell_type": "code",
   "execution_count": 16,
   "metadata": {},
   "outputs": [
    {
     "data": {
      "text/html": [
       "<h2>Output</h2>T:\\MPO\\RTP\\FY20 2045 Update\\Data and Resources\\Network_Analysis\\Network_Analysis.gdb\\baseyearHH_FeatureToPoint<h2>Messages</h2>Start Time: Wednesday, April 7, 2021 7:07:30 PM<br/>Succeeded at Wednesday, April 7, 2021 7:07:37 PM (Elapsed Time: 7.26 seconds)<br/><style>.rendered_html td, .rendered_html th {text-align: left;}.rendered_html tbody {border: 1px solid black;}</style>"
      ],
      "text/plain": [
       "<Result 'T:\\\\MPO\\\\RTP\\\\FY20 2045 Update\\\\Data and Resources\\\\Network_Analysis\\\\Network_Analysis.gdb\\\\baseyearHH_FeatureToPoint'>"
      ]
     },
     "execution_count": 16,
     "metadata": {},
     "output_type": "execute_result"
    }
   ],
   "source": [
    "arcpy.CalculateField_management(point_layer, \"FacilityID\", \"!ORIG_FID! + 1\", \"PYTHON3\" )"
   ]
  },
  {
   "cell_type": "code",
   "execution_count": 23,
   "metadata": {},
   "outputs": [],
   "source": [
    "table = arcpy.AddJoin_management(sa_layer, newField, point_layer, newField, \"KEEP_COMMON\")"
   ]
  },
  {
   "cell_type": "code",
   "execution_count": 24,
   "metadata": {},
   "outputs": [],
   "source": [
    "result = arcpy.management.GetCount(table)"
   ]
  },
  {
   "cell_type": "code",
   "execution_count": 25,
   "metadata": {},
   "outputs": [
    {
     "name": "stdout",
     "output_type": "stream",
     "text": [
      "SABikingHH_Layer3 has 168 records\n"
     ]
    }
   ],
   "source": [
    "print('{} has {} records'.format(table, result[0]))"
   ]
  },
  {
   "cell_type": "code",
   "execution_count": 20,
   "metadata": {},
   "outputs": [],
   "source": [
    "out_SAjoin = \"SAJoinedTable\""
   ]
  },
  {
   "cell_type": "code",
   "execution_count": 21,
   "metadata": {},
   "outputs": [],
   "source": [
    "if arcpy.Exists(out_SAjoin):\n",
    "    arcpy.Delete_management(out_SAjoin)"
   ]
  },
  {
   "cell_type": "code",
   "execution_count": 22,
   "metadata": {},
   "outputs": [
    {
     "name": "stdout",
     "output_type": "stream",
     "text": [
      "Completed...\n"
     ]
    }
   ],
   "source": [
    "arcpy.CopyFeatures_management(table, out_SAjoin)\n",
    "print(\"Completed...\")"
   ]
  },
  {
   "cell_type": "code",
   "execution_count": 5,
   "metadata": {},
   "outputs": [],
   "source": [
    "year = 2020\n",
    "travel_mode = 'Biking'"
   ]
  },
  {
   "cell_type": "code",
   "execution_count": 6,
   "metadata": {},
   "outputs": [],
   "source": [
    "if year == 2020:\n",
    "    sa_layer = \"SA\" + travel_mode + \"HH\"\n",
    "    point_layer = \"baseyearHH_FeatureToPoint\"\n",
    "    targetField = 'ohh'\n",
    "else:\n",
    "    sa_layer = sa_layer + str(year)\n",
    "    point_layer = \"forecastHH_FeatureToPoint\"\n",
    "    targetField = 'hh'"
   ]
  },
  {
   "cell_type": "code",
   "execution_count": 7,
   "metadata": {},
   "outputs": [],
   "source": [
    "import os, re\n",
    "import pandas as pd\n",
    "import geopandas as gpd"
   ]
  },
  {
   "cell_type": "code",
   "execution_count": 8,
   "metadata": {},
   "outputs": [],
   "source": [
    "path = r\"T:\\MPO\\RTP\\FY20 2045 Update\\Data and Resources\\Network_Analysis\\Network_Analysis.gdb\""
   ]
  },
  {
   "cell_type": "code",
   "execution_count": 9,
   "metadata": {},
   "outputs": [],
   "source": [
    "outPath = r\"T:\\MPO\\RTP\\FY20 2045 Update\\Data and Resources\""
   ]
  },
  {
   "cell_type": "code",
   "execution_count": 11,
   "metadata": {},
   "outputs": [
    {
     "name": "stdout",
     "output_type": "stream",
     "text": [
      "Reading the input features...\n"
     ]
    }
   ],
   "source": [
    "print(\"Reading the input features...\")\n",
    "hhSA = gpd.read_file(path, layer = sa_layer)\n",
    "hhpts = gpd.read_file(path, layer = point_layer)"
   ]
  },
  {
   "cell_type": "code",
   "execution_count": 13,
   "metadata": {},
   "outputs": [],
   "source": [
    "def shortenColnm(x):\n",
    "    if len(x) > 10:\n",
    "        charList = [char for char in x if char.isupper()]\n",
    "        if len(charList) >= 5:\n",
    "            colnm = ''.join(re.findall(r'[A-Z]', x))\n",
    "        else:\n",
    "            colnm = ''.join(re.findall(r'[A-Z]..', x))\n",
    "    else:\n",
    "        colnm = x\n",
    "    return colnm"
   ]
  },
  {
   "cell_type": "code",
   "execution_count": 34,
   "metadata": {},
   "outputs": [],
   "source": [
    "def renameCols(x):\n",
    "    strList = x.split(\"_\")\n",
    "    l = len(strList)\n",
    "    if l == 1:\n",
    "        colnm = shortenColnm(x)\n",
    "    elif l == 2:\n",
    "        s = strList[1]\n",
    "        if s == 'Name':\n",
    "            colnm = strList[0][0:6] + s\n",
    "        else:\n",
    "            colnm = shortenColnm(s)       \n",
    "        if strList[0] == 'shape':\n",
    "            colnm = 'SHP' + s\n",
    "    elif l == 3:\n",
    "        colnm = shortenColnm(strList[1] + strList[2])\n",
    "    else:\n",
    "        print(\"The column name is too long.\")\n",
    "    return colnm"
   ]
  },
  {
   "cell_type": "code",
   "execution_count": 35,
   "metadata": {},
   "outputs": [
    {
     "name": "stdout",
     "output_type": "stream",
     "text": [
      "Renaming the input features...\n",
      "Merging the input features...\n"
     ]
    }
   ],
   "source": [
    "print(\"Renaming the input features...\")\n",
    "newField = 'FacilityID'\n",
    "hhpts_df = pd.DataFrame(hhpts)\n",
    "hhpts_df[newField] = hhpts_df['ORIG_FID'] + 1\n",
    "hhpts_df = hhpts_df[['ohh', newField]]\n",
    "hhSA = hhSA.rename(columns = {x:newField for x in list(hhSA) if re.search(r'FacilityID', x)})\n",
    "# join the tables\n",
    "print(\"Merging the input features...\")\n",
    "hhSAJoinedpts = hhSA.merge(hhpts_df, on=newField, how='left')"
   ]
  },
  {
   "cell_type": "code",
   "execution_count": 36,
   "metadata": {},
   "outputs": [
    {
     "name": "stdout",
     "output_type": "stream",
     "text": [
      "Writing the output feature...\n",
      "Exported the features with the joined table!\n"
     ]
    }
   ],
   "source": [
    "# rename the columns to export due to the name length limit 10\n",
    "hhSAJoinedpts.rename(columns = {x: renameCols(x) for x in list(hhSAJoinedpts)}, inplace = True)\n",
    "hhSAJoinedpts_gpd = gpd.GeoDataFrame(hhSAJoinedpts)\n",
    "print(\"Writing the output feature...\")\n",
    "hhSAJoinedpts_gpd.to_file(os.path.join(outPath, sa_layer + '.shp'))\n",
    "print(\"Exported the features with the joined table!\")"
   ]
  },
  {
   "cell_type": "code",
   "execution_count": 15,
   "metadata": {},
   "outputs": [
    {
     "data": {
      "text/plain": [
       "0    0.965\n",
       "1    0.965\n",
       "2    0.965\n",
       "3    0.965\n",
       "4    0.965\n",
       "Name: ohh, dtype: float64"
      ]
     },
     "execution_count": 15,
     "metadata": {},
     "output_type": "execute_result"
    }
   ],
   "source": [
    "hhpts_df['ohh'].head()"
   ]
  },
  {
   "cell_type": "code",
   "execution_count": 24,
   "metadata": {},
   "outputs": [],
   "source": [
    "hhSAJoinedpts = hhSA.merge(hhpts_df, on=newField, how='left')"
   ]
  },
  {
   "cell_type": "code",
   "execution_count": 25,
   "metadata": {},
   "outputs": [
    {
     "data": {
      "text/plain": [
       "Index(['FacilityID', 'SAPolygons1hhqxps_Name', 'SAPolygons1hhqxps_FromBreak',\n",
       "       'SAPolygons1hhqxps_ToBreak', 'ORIGObjectID', 'Facilitieshsvink_Name',\n",
       "       'Facilitieshsvink_SourceID', 'Facilitieshsvink_SourceOID',\n",
       "       'Facilitieshsvink_PosAlong', 'Facilitieshsvink_SideOfEdge',\n",
       "       'Facilitieshsvink_CurbApproach', 'Facilitieshsvink_Status',\n",
       "       'Facilitieshsvink_SnapX', 'Facilitieshsvink_SnapY',\n",
       "       'Facilitieshsvink_SnapZ', 'Facilitieshsvink_DistanceToNetworkInMeters',\n",
       "       'Facilitieshsvink_Attr_Length', 'Facilitieshsvink_Breaks_Length',\n",
       "       'Shape_Length', 'Shape_Area', 'geometry', 'ohh'],\n",
       "      dtype='object')"
      ]
     },
     "execution_count": 25,
     "metadata": {},
     "output_type": "execute_result"
    }
   ],
   "source": [
    "hhSAJoinedpts.columns"
   ]
  },
  {
   "cell_type": "code",
   "execution_count": 16,
   "metadata": {},
   "outputs": [
    {
     "data": {
      "text/plain": [
       "0    0.965\n",
       "1    0.965\n",
       "2    1.930\n",
       "3    0.965\n",
       "4    0.965\n",
       "Name: ohh, dtype: float64"
      ]
     },
     "execution_count": 16,
     "metadata": {},
     "output_type": "execute_result"
    }
   ],
   "source": [
    "hhSAJoinedpts['ohh'].head()"
   ]
  },
  {
   "cell_type": "code",
   "execution_count": 18,
   "metadata": {},
   "outputs": [
    {
     "data": {
      "text/plain": [
       "0    0.965\n",
       "1    0.965\n",
       "2    1.930\n",
       "3    0.965\n",
       "4    0.965\n",
       "Name: ohh, dtype: float64"
      ]
     },
     "execution_count": 18,
     "metadata": {},
     "output_type": "execute_result"
    }
   ],
   "source": [
    "hhSAJoinedpts_gpd['ohh'].head()"
   ]
  },
  {
   "cell_type": "code",
   "execution_count": 37,
   "metadata": {},
   "outputs": [
    {
     "data": {
      "text/plain": [
       "Index(['FacilityID', 'SAPolyName', 'FromBreak', 'ToBreak', 'ORIGOID',\n",
       "       'FaciliName', 'SourceID', 'SourceOID', 'PosAlong', 'SideOfEdge',\n",
       "       'CurApp', 'Status', 'SnapX', 'SnapY', 'SnapZ', 'DTNIM', 'AttrLength',\n",
       "       'BreLen', 'Length', 'Area', 'geometry', 'ohh'],\n",
       "      dtype='object')"
      ]
     },
     "execution_count": 37,
     "metadata": {},
     "output_type": "execute_result"
    }
   ],
   "source": [
    "hhSAJoinedpts_gpd.columns"
   ]
  },
  {
   "cell_type": "code",
   "execution_count": 1,
   "metadata": {},
   "outputs": [],
   "source": [
    "import JoinHHTables as jht"
   ]
  },
  {
   "cell_type": "code",
   "execution_count": 2,
   "metadata": {},
   "outputs": [],
   "source": [
    "import datetime"
   ]
  },
  {
   "cell_type": "code",
   "execution_count": 3,
   "metadata": {},
   "outputs": [
    {
     "name": "stdout",
     "output_type": "stream",
     "text": [
      "Reading the input features...\n",
      "Got the data...\n",
      "Renaming the input features...\n",
      "Merging the input features...\n",
      "Writing the output feature...\n",
      "Exported the features with the joined table!\n",
      "Used time: 0:01:27.256122\n"
     ]
    }
   ],
   "source": [
    "jht.JoinHHTables()"
   ]
  },
  {
   "cell_type": "code",
   "execution_count": 4,
   "metadata": {},
   "outputs": [
    {
     "name": "stdout",
     "output_type": "stream",
     "text": [
      "Reading the input features...\n",
      "Got the data...\n",
      "Renaming the input features...\n",
      "Merging the input features...\n",
      "Writing the output feature...\n",
      "Exported the features with the joined table!\n",
      "Used time: 0:01:31.515280\n",
      "Completed the join for household service area by Biking in 2020\n",
      "Reading the input features...\n",
      "Got the data...\n",
      "Renaming the input features...\n",
      "Merging the input features...\n",
      "Writing the output feature...\n",
      "Exported the features with the joined table!\n",
      "Used time: 0:01:30.427755\n",
      "Completed the join for household service area by Biking in 2045\n",
      "Reading the input features...\n",
      "Got the data...\n",
      "Renaming the input features...\n",
      "Merging the input features...\n",
      "Writing the output feature...\n",
      "Exported the features with the joined table!\n",
      "Used time: 0:00:46.748233\n",
      "Completed the join for household service area by Walking in 2020\n",
      "Reading the input features...\n",
      "Got the data...\n",
      "Renaming the input features...\n",
      "Merging the input features...\n",
      "Writing the output feature...\n",
      "Exported the features with the joined table!\n",
      "Used time: 0:00:47.373597\n",
      "Completed the join for household service area by Walking in 2045\n"
     ]
    }
   ],
   "source": [
    "for mode in ['Biking', 'Walking']:\n",
    "    for yr in [2020, 2045]:\n",
    "        jht.JoinHHTables(year = yr, travel_mode = mode)\n",
    "        print(\"Completed the join for household service area by {0} in {1}\".format(mode, yr))"
   ]
  },
  {
   "cell_type": "code",
   "execution_count": 4,
   "metadata": {},
   "outputs": [
    {
     "data": {
      "text/html": [
       "<h2>Output</h2>a Layer object<h2>Messages</h2>Start Time: Sunday, April 4, 2021 4:25:17 PM<br/>Succeeded at Sunday, April 4, 2021 4:25:17 PM (Elapsed Time: 0.48 seconds)<br/><style>.rendered_html td, .rendered_html th {text-align: left;}.rendered_html tbody {border: 1px solid black;}</style>"
      ],
      "text/plain": [
       "<Result 'baseyear_hh'>"
      ]
     },
     "execution_count": 4,
     "metadata": {},
     "output_type": "execute_result"
    }
   ],
   "source": [
    "arcpy.management.MakeFeatureLayer(\"parcels_FeatureToPoint\", \"baseyear_hh\", \"ohh > 0\")"
   ]
  },
  {
   "cell_type": "code",
   "execution_count": 5,
   "metadata": {},
   "outputs": [],
   "source": [
    "fieldList = arcpy.ListFields(\"baseyear_hh\")"
   ]
  },
  {
   "cell_type": "code",
   "execution_count": 6,
   "metadata": {},
   "outputs": [],
   "source": [
    "field_names = [f.name for f in fieldList]"
   ]
  },
  {
   "cell_type": "code",
   "execution_count": 8,
   "metadata": {},
   "outputs": [],
   "source": [
    "newfield = \"sa_jobs\""
   ]
  },
  {
   "cell_type": "code",
   "execution_count": 9,
   "metadata": {},
   "outputs": [],
   "source": [
    "desc = arcpy.Describe(\"baseyear_hh\")"
   ]
  },
  {
   "cell_type": "code",
   "execution_count": 10,
   "metadata": {},
   "outputs": [],
   "source": [
    "fields = desc.fields"
   ]
  },
  {
   "cell_type": "code",
   "execution_count": 11,
   "metadata": {},
   "outputs": [
    {
     "data": {
      "text/plain": [
       "'Double'"
      ]
     },
     "execution_count": 11,
     "metadata": {},
     "output_type": "execute_result"
    }
   ],
   "source": [
    "arcpy.ListFields(\"baseyear_hh\", \"jobs\")[0].type"
   ]
  },
  {
   "cell_type": "code",
   "execution_count": 12,
   "metadata": {},
   "outputs": [],
   "source": [
    "if newfield in field_names:\n",
    "    pass\n",
    "else:\n",
    "    arcpy.AddField_management(\"baseyear_hh\", newfield, \"FLOAT\", \"\", \"\", 20)"
   ]
  },
  {
   "cell_type": "code",
   "execution_count": 45,
   "metadata": {},
   "outputs": [],
   "source": [
    "service = \"Jobs\"\n",
    "travel_mode = \"Biking\"\n",
    "AOI = \"MPO\"\n",
    "year = 2020"
   ]
  },
  {
   "cell_type": "code",
   "execution_count": 36,
   "metadata": {},
   "outputs": [],
   "source": [
    "targetHH = arcpy.management.SelectLayerByAttribute(\"baseyear_hh\", \"NEW_SELECTION\", \"ORIG_FID = {0}\".format(18778), None)"
   ]
  },
  {
   "cell_type": "code",
   "execution_count": 37,
   "metadata": {},
   "outputs": [],
   "source": [
    "selectedSA = arcpy.management.SelectLayerByLocation(\"joinedtable\", \"COMPLETELY_CONTAINS\", targetHH, \n",
    "                                               None, \"NEW_SELECTION\", \"NOT_INVERT\")"
   ]
  },
  {
   "cell_type": "code",
   "execution_count": 38,
   "metadata": {},
   "outputs": [],
   "source": [
    "fieldsum = arcpy.da.TableToNumPyArray(selectedSA, \"baseyearJobs_FeatureToPoint_jobs\", skip_nulls=True)"
   ]
  },
  {
   "cell_type": "code",
   "execution_count": 40,
   "metadata": {},
   "outputs": [],
   "source": [
    "val = fieldsum[\"baseyearJobs_FeatureToPoint_jobs\"].sum()"
   ]
  },
  {
   "cell_type": "code",
   "execution_count": 48,
   "metadata": {},
   "outputs": [
    {
     "data": {
      "text/plain": [
       "73822.79370354864"
      ]
     },
     "execution_count": 48,
     "metadata": {},
     "output_type": "execute_result"
    }
   ],
   "source": [
    "val"
   ]
  },
  {
   "cell_type": "code",
   "execution_count": 44,
   "metadata": {},
   "outputs": [
    {
     "data": {
      "text/plain": [
       "8.910751757824185"
      ]
     },
     "execution_count": 44,
     "metadata": {},
     "output_type": "execute_result"
    }
   ],
   "source": [
    "(val*15.44)/127915.574999826"
   ]
  },
  {
   "cell_type": "code",
   "execution_count": 49,
   "metadata": {},
   "outputs": [
    {
     "data": {
      "text/html": [
       "<h2>Output</h2><table><tr><th>id</th><th>value</th></tr><tr><td>0</td><td>a Layer object</td></tr><tr><td>1</td><td>-1</td></tr></table><h2>Messages</h2>Start Time: Sunday, April 4, 2021 5:20:07 PM<br/>Succeeded at Sunday, April 4, 2021 5:20:07 PM (Elapsed Time: 0.02 seconds)<br/><style>.rendered_html td, .rendered_html th {text-align: left;}.rendered_html tbody {border: 1px solid black;}</style>"
      ],
      "text/plain": [
       "<Result 'baseyear_hh'>"
      ]
     },
     "execution_count": 49,
     "metadata": {},
     "output_type": "execute_result"
    }
   ],
   "source": [
    "arcpy.management.SelectLayerByAttribute(\"baseyear_hh\", \"CLEAR_SELECTION\")"
   ]
  },
  {
   "cell_type": "code",
   "execution_count": 54,
   "metadata": {},
   "outputs": [
    {
     "data": {
      "text/html": [
       "<h2>Output</h2>T:\\MPO\\RTP\\FY20 2045 Update\\Data and Resources\\Network_Analysis\\Network_Analysis.gdb\\baseyearjobs_HH<h2>Messages</h2>Start Time: Monday, April 5, 2021 6:56:11 PM<br/>Succeeded at Monday, April 5, 2021 7:01:41 PM (Elapsed Time: 5 minutes 30 seconds)<br/><style>.rendered_html td, .rendered_html th {text-align: left;}.rendered_html tbody {border: 1px solid black;}</style>"
      ],
      "text/plain": [
       "<Result 'T:\\\\MPO\\\\RTP\\\\FY20 2045 Update\\\\Data and Resources\\\\Network_Analysis\\\\Network_Analysis.gdb\\\\baseyearjobs_HH'>"
      ]
     },
     "execution_count": 54,
     "metadata": {},
     "output_type": "execute_result"
    }
   ],
   "source": [
    "arcpy.analysis.SpatialJoin(\"baseyearHH_FeatureToPoint\", \"joinedtable\",\"baseyearjobs_HH\",\"JOIN_ONE_TO_ONE\", \"KEEP_COMMON\",\n",
    "                           'btype \"btype\" true true false 80 Text 0 0,First,#,baseyearHH_FeatureToPoint,btype,0,80;nrsqft \"nrsqft\" true true false 8 Double 0 0,First,#,baseyearHH_FeatureToPoint,nrsqft,-1,-1;rsqft \"rsqft\" true true false 8 Double 0 0,First,#,baseyearHH_FeatureToPoint,rsqft,-1,-1;du \"du\" true true false 8 Double 0 0,First,#,baseyearHH_FeatureToPoint,du,-1,-1;yrbuilt \"yrbuilt\" true true false 8 Double 0 0,First,#,baseyearHH_FeatureToPoint,yrbuilt,-1,-1;lpid \"lpid\" true true false 8 Double 0 0,First,#,baseyearHH_FeatureToPoint,lpid,-1,-1;pundev \"pundev\" true true false 8 Double 0 0,First,#,baseyearHH_FeatureToPoint,pundev,-1,-1;dev_land \"dev_land\" true true false 8 Double 0 0,First,#,baseyearHH_FeatureToPoint,dev_land,-1,-1;developed \"developed\" true true false 8 Double 0 0,First,#,baseyearHH_FeatureToPoint,developed,-1,-1;obtype \"obtype\" true true false 80 Text 0 0,First,#,baseyearHH_FeatureToPoint,obtype,0,80;orsqft \"orsqft\" true true false 8 Double 0 0,First,#,baseyearHH_FeatureToPoint,orsqft,-1,-1;onrsqft \"onrsqft\" true true false 8 Double 0 0,First,#,baseyearHH_FeatureToPoint,onrsqft,-1,-1;odu \"odu\" true true false 8 Double 0 0,First,#,baseyearHH_FeatureToPoint,odu,-1,-1;zid \"zid\" true true false 8 Double 0 0,First,#,baseyearHH_FeatureToPoint,zid,-1,-1;rezoned \"rezoned\" true true false 8 Double 0 0,First,#,baseyearHH_FeatureToPoint,rezoned,-1,-1;city \"city\" true true false 80 Text 0 0,First,#,baseyearHH_FeatureToPoint,city,0,80;annexed \"annexed\" true true false 8 Double 0 0,First,#,baseyearHH_FeatureToPoint,annexed,-1,-1;ozid \"ozid\" true true false 8 Double 0 0,First,#,baseyearHH_FeatureToPoint,ozid,-1,-1;AreaPerJob \"AreaPerJob\" true true false 8 Double 0 0,First,#,baseyearHH_FeatureToPoint,AreaPerJob,-1,-1;isNonRes \"isNonRes\" true true false 4 Long 0 0,First,#,baseyearHH_FeatureToPoint,isNonRes,-1,-1;jobs \"jobs\" true true false 8 Double 0 0,First,#,baseyearHH_FeatureToPoint,jobs,-1,-1;ojobs \"ojobs\" true true false 8 Double 0 0,First,#,baseyearHH_FeatureToPoint,ojobs,-1,-1;hh \"hh\" true true false 8 Double 0 0,First,#,baseyearHH_FeatureToPoint,hh,-1,-1;ohh \"ohh\" true true false 8 Double 0 0,First,#,baseyearHH_FeatureToPoint,ohh,-1,-1;ORIG_FID \"ORIG_FID\" true true false 4 Long 0 0,First,#,baseyearHH_FeatureToPoint,ORIG_FID,-1,-1;baseyearJobs_FeatureToPoint_ojobs \"ojobs\" true true false 8 Double 0 0,Sum,#,joinedtable,baseyearJobs_FeatureToPoint_ojobs,-1,-1;Shape_Length \"Shape_Length\" false true true 8 Double 0 0,First,#,joinedtable,Shape_Length,-1,-1;Shape_Area \"Shape_Area\" false true true 8 Double 0 0,First,#,joinedtable,Shape_Area,-1,-1', \n",
    "                           \"COMPLETELY_WITHIN\", None, '')"
   ]
  },
  {
   "cell_type": "code",
   "execution_count": 55,
   "metadata": {},
   "outputs": [
    {
     "data": {
      "text/html": [
       "<h2>Output</h2>T:\\MPO\\RTP\\FY20 2045 Update\\Data and Resources\\Network_Analysis\\Network_Analysis.gdb\\baseyear_jobs_HH<h2>Messages</h2>Start Time: Monday, April 5, 2021 7:20:16 PM<br/>Succeeded at Monday, April 5, 2021 7:25:33 PM (Elapsed Time: 5 minutes 16 seconds)<br/><style>.rendered_html td, .rendered_html th {text-align: left;}.rendered_html tbody {border: 1px solid black;}</style>"
      ],
      "text/plain": [
       "<Result 'T:\\\\MPO\\\\RTP\\\\FY20 2045 Update\\\\Data and Resources\\\\Network_Analysis\\\\Network_Analysis.gdb\\\\baseyear_jobs_HH'>"
      ]
     },
     "execution_count": 55,
     "metadata": {},
     "output_type": "execute_result"
    }
   ],
   "source": [
    "arcpy.analysis.SpatialJoin(\"baseyearHH_FeatureToPoint\", \"joinedtable\",\"baseyear_jobs_HH\",\"JOIN_ONE_TO_ONE\", \"KEEP_COMMON\",\n",
    "                           'btype \"btype\" true true false 80 Text 0 0,First,#,{0},btype,0,80;nrsqft \"nrsqft\" true true false 8 Double 0 0,First,#,{0},nrsqft,-1,-1;rsqft \"rsqft\" true true false 8 Double 0 0,First,#,{0},rsqft,-1,-1;du \"du\" true true false 8 Double 0 0,First,#,{0},du,-1,-1;yrbuilt \"yrbuilt\" true true false 8 Double 0 0,First,#,{0},yrbuilt,-1,-1;lpid \"lpid\" true true false 8 Double 0 0,First,#,{0},lpid,-1,-1;pundev \"pundev\" true true false 8 Double 0 0,First,#,{0},pundev,-1,-1;dev_land \"dev_land\" true true false 8 Double 0 0,First,#,{0},dev_land,-1,-1;developed \"developed\" true true false 8 Double 0 0,First,#,{0},developed,-1,-1;obtype \"obtype\" true true false 80 Text 0 0,First,#,{0},obtype,0,80;orsqft \"orsqft\" true true false 8 Double 0 0,First,#,{0},orsqft,-1,-1;onrsqft \"onrsqft\" true true false 8 Double 0 0,First,#,{0},onrsqft,-1,-1;odu \"odu\" true true false 8 Double 0 0,First,#,{0},odu,-1,-1;zid \"zid\" true true false 8 Double 0 0,First,#,{0},zid,-1,-1;rezoned \"rezoned\" true true false 8 Double 0 0,First,#,{0},rezoned,-1,-1;city \"city\" true true false 80 Text 0 0,First,#,{0},city,0,80;annexed \"annexed\" true true false 8 Double 0 0,First,#,{0},annexed,-1,-1;ozid \"ozid\" true true false 8 Double 0 0,First,#,{0},ozid,-1,-1;AreaPerJob \"AreaPerJob\" true true false 8 Double 0 0,First,#,{0},AreaPerJob,-1,-1;isNonRes \"isNonRes\" true true false 4 Long 0 0,First,#,{0},isNonRes,-1,-1;jobs \"jobs\" true true false 8 Double 0 0,First,#,{0},jobs,-1,-1;ojobs \"ojobs\" true true false 8 Double 0 0,First,#,{0},ojobs,-1,-1;hh \"hh\" true true false 8 Double 0 0,First,#,{0},hh,-1,-1;ohh \"ohh\" true true false 8 Double 0 0,First,#,{0},ohh,-1,-1;ORIG_FID \"ORIG_FID\" true true false 4 Long 0 0,First,#,{0},ORIG_FID,-1,-1;{1}_{2} \"{2}\" true true false 8 Double 0 0,Sum,#,joinedtable,{1}_{2},-1,-1;Shape_Length \"Shape_Length\" false true true 8 Double 0 0,First,#,joinedtable,Shape_Length,-1,-1;Shape_Area \"Shape_Area\" false true true 8 Double 0 0,First,#,joinedtable,Shape_Area,-1,-1'.format('baseyearHH_FeatureToPoint', 'baseyearJobs_FeatureToPoint', 'ojobs'), \n",
    "                           \"COMPLETELY_WITHIN\", None, '')"
   ]
  }
 ],
 "metadata": {
  "kernelspec": {
   "display_name": "Python 3",
   "language": "python",
   "name": "python3"
  },
  "language_info": {
   "codemirror_mode": {
    "name": "ipython",
    "version": 3
   },
   "file_extension": ".py",
   "mimetype": "text/x-python",
   "name": "python",
   "nbconvert_exporter": "python",
   "pygments_lexer": "ipython3",
   "version": "3.7.9"
  }
 },
 "nbformat": 4,
 "nbformat_minor": 4
}

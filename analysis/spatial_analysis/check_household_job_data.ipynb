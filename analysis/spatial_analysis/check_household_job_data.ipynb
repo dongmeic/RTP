{
 "cells": [
  {
   "cell_type": "code",
   "execution_count": 16,
   "id": "heard-penguin",
   "metadata": {},
   "outputs": [],
   "source": [
    "import os\n",
    "import pandas as pd\n",
    "import geopandas as gpd\n",
    "import matplotlib.pyplot as plt"
   ]
  },
  {
   "cell_type": "code",
   "execution_count": 2,
   "id": "thorough-hawaii",
   "metadata": {},
   "outputs": [],
   "source": [
    "infolder = r'C:\\Users\\clid1852\\OneDrive - lanecouncilofgovernments\\UrbanSim\\downloads\\hh_and_jobs_xy'"
   ]
  },
  {
   "cell_type": "code",
   "execution_count": 3,
   "id": "developmental-sierra",
   "metadata": {},
   "outputs": [],
   "source": [
    "hh = pd.read_csv(os.path.join(infolder, 'households_2045_xy.csv'))"
   ]
  },
  {
   "cell_type": "code",
   "execution_count": 4,
   "id": "tender-digest",
   "metadata": {},
   "outputs": [
    {
     "data": {
      "text/plain": [
       "(130904, 10)"
      ]
     },
     "execution_count": 4,
     "metadata": {},
     "output_type": "execute_result"
    }
   ],
   "source": [
    "hh.shape"
   ]
  },
  {
   "cell_type": "code",
   "execution_count": 5,
   "id": "cellular-watch",
   "metadata": {},
   "outputs": [],
   "source": [
    "job = pd.read_csv(os.path.join(infolder, 'jobs_2045_xy.csv'))"
   ]
  },
  {
   "cell_type": "code",
   "execution_count": 7,
   "id": "forced-pressure",
   "metadata": {},
   "outputs": [
    {
     "data": {
      "text/plain": [
       "(176139, 7)"
      ]
     },
     "execution_count": 7,
     "metadata": {},
     "output_type": "execute_result"
    }
   ],
   "source": [
    "job.shape"
   ]
  },
  {
   "cell_type": "code",
   "execution_count": 8,
   "id": "waiting-signature",
   "metadata": {},
   "outputs": [
    {
     "data": {
      "text/html": [
       "<div>\n",
       "<style scoped>\n",
       "    .dataframe tbody tr th:only-of-type {\n",
       "        vertical-align: middle;\n",
       "    }\n",
       "\n",
       "    .dataframe tbody tr th {\n",
       "        vertical-align: top;\n",
       "    }\n",
       "\n",
       "    .dataframe thead th {\n",
       "        text-align: right;\n",
       "    }\n",
       "</style>\n",
       "<table border=\"1\" class=\"dataframe\">\n",
       "  <thead>\n",
       "    <tr style=\"text-align: right;\">\n",
       "      <th></th>\n",
       "      <th>household_id</th>\n",
       "      <th>age_of_head</th>\n",
       "      <th>tenure</th>\n",
       "      <th>persons</th>\n",
       "      <th>income</th>\n",
       "      <th>zone_id</th>\n",
       "      <th>hia_bin</th>\n",
       "      <th>x</th>\n",
       "      <th>y</th>\n",
       "      <th>lpid</th>\n",
       "    </tr>\n",
       "  </thead>\n",
       "  <tbody>\n",
       "    <tr>\n",
       "      <th>0</th>\n",
       "      <td>30325</td>\n",
       "      <td>62</td>\n",
       "      <td>1</td>\n",
       "      <td>2</td>\n",
       "      <td>74736.0</td>\n",
       "      <td>463</td>\n",
       "      <td>h2i3a3</td>\n",
       "      <td>-123.047654</td>\n",
       "      <td>43.958890</td>\n",
       "      <td>24391</td>\n",
       "    </tr>\n",
       "    <tr>\n",
       "      <th>1</th>\n",
       "      <td>26108</td>\n",
       "      <td>48</td>\n",
       "      <td>1</td>\n",
       "      <td>2</td>\n",
       "      <td>70200.0</td>\n",
       "      <td>463</td>\n",
       "      <td>h2i3a2</td>\n",
       "      <td>-123.047643</td>\n",
       "      <td>43.959472</td>\n",
       "      <td>24408</td>\n",
       "    </tr>\n",
       "    <tr>\n",
       "      <th>2</th>\n",
       "      <td>30094</td>\n",
       "      <td>68</td>\n",
       "      <td>1</td>\n",
       "      <td>2</td>\n",
       "      <td>153819.0</td>\n",
       "      <td>463</td>\n",
       "      <td>h2i4a4</td>\n",
       "      <td>-123.047638</td>\n",
       "      <td>43.959890</td>\n",
       "      <td>24419</td>\n",
       "    </tr>\n",
       "    <tr>\n",
       "      <th>3</th>\n",
       "      <td>30083</td>\n",
       "      <td>68</td>\n",
       "      <td>1</td>\n",
       "      <td>2</td>\n",
       "      <td>90846.0</td>\n",
       "      <td>463</td>\n",
       "      <td>h2i4a4</td>\n",
       "      <td>-123.057059</td>\n",
       "      <td>43.959234</td>\n",
       "      <td>24433</td>\n",
       "    </tr>\n",
       "    <tr>\n",
       "      <th>4</th>\n",
       "      <td>30337</td>\n",
       "      <td>71</td>\n",
       "      <td>1</td>\n",
       "      <td>2</td>\n",
       "      <td>49050.0</td>\n",
       "      <td>463</td>\n",
       "      <td>h2i3a4</td>\n",
       "      <td>-123.047114</td>\n",
       "      <td>43.960798</td>\n",
       "      <td>24437</td>\n",
       "    </tr>\n",
       "  </tbody>\n",
       "</table>\n",
       "</div>"
      ],
      "text/plain": [
       "   household_id  age_of_head  tenure  persons    income  zone_id hia_bin  \\\n",
       "0         30325           62       1        2   74736.0      463  h2i3a3   \n",
       "1         26108           48       1        2   70200.0      463  h2i3a2   \n",
       "2         30094           68       1        2  153819.0      463  h2i4a4   \n",
       "3         30083           68       1        2   90846.0      463  h2i4a4   \n",
       "4         30337           71       1        2   49050.0      463  h2i3a4   \n",
       "\n",
       "            x          y   lpid  \n",
       "0 -123.047654  43.958890  24391  \n",
       "1 -123.047643  43.959472  24408  \n",
       "2 -123.047638  43.959890  24419  \n",
       "3 -123.057059  43.959234  24433  \n",
       "4 -123.047114  43.960798  24437  "
      ]
     },
     "execution_count": 8,
     "metadata": {},
     "output_type": "execute_result"
    }
   ],
   "source": [
    "hh.head()"
   ]
  },
  {
   "cell_type": "code",
   "execution_count": 9,
   "id": "monthly-equality",
   "metadata": {},
   "outputs": [
    {
     "data": {
      "text/html": [
       "<div>\n",
       "<style scoped>\n",
       "    .dataframe tbody tr th:only-of-type {\n",
       "        vertical-align: middle;\n",
       "    }\n",
       "\n",
       "    .dataframe tbody tr th {\n",
       "        vertical-align: top;\n",
       "    }\n",
       "\n",
       "    .dataframe thead th {\n",
       "        text-align: right;\n",
       "    }\n",
       "</style>\n",
       "<table border=\"1\" class=\"dataframe\">\n",
       "  <thead>\n",
       "    <tr style=\"text-align: right;\">\n",
       "      <th></th>\n",
       "      <th>job_id</th>\n",
       "      <th>sector_id</th>\n",
       "      <th>zone_id</th>\n",
       "      <th>kate_sector</th>\n",
       "      <th>x</th>\n",
       "      <th>y</th>\n",
       "      <th>lpid</th>\n",
       "    </tr>\n",
       "  </thead>\n",
       "  <tbody>\n",
       "    <tr>\n",
       "      <th>0</th>\n",
       "      <td>0</td>\n",
       "      <td>1</td>\n",
       "      <td>463</td>\n",
       "      <td>amf</td>\n",
       "      <td>-123.043251</td>\n",
       "      <td>43.967652</td>\n",
       "      <td>24647</td>\n",
       "    </tr>\n",
       "    <tr>\n",
       "      <th>1</th>\n",
       "      <td>1</td>\n",
       "      <td>1</td>\n",
       "      <td>463</td>\n",
       "      <td>amf</td>\n",
       "      <td>-123.046275</td>\n",
       "      <td>43.963315</td>\n",
       "      <td>24647</td>\n",
       "    </tr>\n",
       "    <tr>\n",
       "      <th>2</th>\n",
       "      <td>2639</td>\n",
       "      <td>3</td>\n",
       "      <td>463</td>\n",
       "      <td>con</td>\n",
       "      <td>-123.050297</td>\n",
       "      <td>43.969671</td>\n",
       "      <td>24745</td>\n",
       "    </tr>\n",
       "    <tr>\n",
       "      <th>3</th>\n",
       "      <td>2640</td>\n",
       "      <td>3</td>\n",
       "      <td>463</td>\n",
       "      <td>con</td>\n",
       "      <td>-123.051259</td>\n",
       "      <td>43.969311</td>\n",
       "      <td>24745</td>\n",
       "    </tr>\n",
       "    <tr>\n",
       "      <th>4</th>\n",
       "      <td>109851</td>\n",
       "      <td>11</td>\n",
       "      <td>463</td>\n",
       "      <td>pbs</td>\n",
       "      <td>-123.015821</td>\n",
       "      <td>43.973773</td>\n",
       "      <td>24878</td>\n",
       "    </tr>\n",
       "  </tbody>\n",
       "</table>\n",
       "</div>"
      ],
      "text/plain": [
       "   job_id  sector_id  zone_id kate_sector           x          y   lpid\n",
       "0       0          1      463         amf -123.043251  43.967652  24647\n",
       "1       1          1      463         amf -123.046275  43.963315  24647\n",
       "2    2639          3      463         con -123.050297  43.969671  24745\n",
       "3    2640          3      463         con -123.051259  43.969311  24745\n",
       "4  109851         11      463         pbs -123.015821  43.973773  24878"
      ]
     },
     "execution_count": 9,
     "metadata": {},
     "output_type": "execute_result"
    }
   ],
   "source": [
    "job.head()"
   ]
  },
  {
   "cell_type": "code",
   "execution_count": 10,
   "id": "center-characteristic",
   "metadata": {},
   "outputs": [
    {
     "name": "stdout",
     "output_type": "stream",
     "text": [
      "<class 'pandas.core.frame.DataFrame'>\n",
      "RangeIndex: 130904 entries, 0 to 130903\n",
      "Data columns (total 10 columns):\n",
      " #   Column        Non-Null Count   Dtype  \n",
      "---  ------        --------------   -----  \n",
      " 0   household_id  130904 non-null  int64  \n",
      " 1   age_of_head   130904 non-null  int64  \n",
      " 2   tenure        130904 non-null  int64  \n",
      " 3   persons       130904 non-null  int64  \n",
      " 4   income        130904 non-null  float64\n",
      " 5   zone_id       130904 non-null  int64  \n",
      " 6   hia_bin       130904 non-null  object \n",
      " 7   x             130904 non-null  float64\n",
      " 8   y             130904 non-null  float64\n",
      " 9   lpid          130904 non-null  int64  \n",
      "dtypes: float64(3), int64(6), object(1)\n",
      "memory usage: 10.0+ MB\n"
     ]
    }
   ],
   "source": [
    "hh.info()"
   ]
  },
  {
   "cell_type": "code",
   "execution_count": 11,
   "id": "graphic-competition",
   "metadata": {},
   "outputs": [
    {
     "data": {
      "text/plain": [
       "Index(['household_id', 'age_of_head', 'tenure', 'persons', 'income', 'zone_id',\n",
       "       'hia_bin', 'x', 'y', 'lpid'],\n",
       "      dtype='object')"
      ]
     },
     "execution_count": 11,
     "metadata": {},
     "output_type": "execute_result"
    }
   ],
   "source": [
    "hh.columns"
   ]
  },
  {
   "cell_type": "code",
   "execution_count": 13,
   "id": "fourth-validity",
   "metadata": {},
   "outputs": [],
   "source": [
    "hh_gdf = gpd.GeoDataFrame(hh, geometry=gpd.points_from_xy(hh.x, hh.y), crs=\"EPSG:4326\")"
   ]
  },
  {
   "cell_type": "code",
   "execution_count": 14,
   "id": "developed-developer",
   "metadata": {},
   "outputs": [
    {
     "data": {
      "text/plain": [
       "<Geographic 2D CRS: EPSG:4326>\n",
       "Name: WGS 84\n",
       "Axis Info [ellipsoidal]:\n",
       "- Lat[north]: Geodetic latitude (degree)\n",
       "- Lon[east]: Geodetic longitude (degree)\n",
       "Area of Use:\n",
       "- name: World\n",
       "- bounds: (-180.0, -90.0, 180.0, 90.0)\n",
       "Datum: World Geodetic System 1984\n",
       "- Ellipsoid: WGS 84\n",
       "- Prime Meridian: Greenwich"
      ]
     },
     "execution_count": 14,
     "metadata": {},
     "output_type": "execute_result"
    }
   ],
   "source": [
    "hh_gdf.crs"
   ]
  },
  {
   "cell_type": "code",
   "execution_count": 17,
   "id": "complicated-embassy",
   "metadata": {},
   "outputs": [
    {
     "data": {
      "image/png": "[encoded data removed]",
      "text/plain": [
       "<Figure size 432x288 with 1 Axes>"
      ]
     },
     "metadata": {
      "needs_background": "light"
     },
     "output_type": "display_data"
    }
   ],
   "source": [
    "fig, ax = plt.subplots()\n",
    "hh_gdf.plot(ax=ax)\n",
    "plt.title(\"Map of Plot Locations\")\n",
    "plt.show()"
   ]
  },
  {
   "cell_type": "code",
   "execution_count": 18,
   "id": "appointed-courage",
   "metadata": {},
   "outputs": [],
   "source": [
    "job_gdf = gpd.GeoDataFrame(job, geometry=gpd.points_from_xy(job.x, job.y), crs=\"EPSG:4326\")"
   ]
  },
  {
   "cell_type": "code",
   "execution_count": 19,
   "id": "static-equilibrium",
   "metadata": {},
   "outputs": [
    {
     "data": {
      "image/png": "[encoded data removed]",
      "text/plain": [
       "<Figure size 432x288 with 1 Axes>"
      ]
     },
     "metadata": {
      "needs_background": "light"
     },
     "output_type": "display_data"
    }
   ],
   "source": [
    "fig, ax = plt.subplots()\n",
    "job_gdf.plot(ax=ax)\n",
    "plt.title(\"Map of Plot Locations\")\n",
    "plt.show()"
   ]
  },
  {
   "cell_type": "code",
   "execution_count": null,
   "id": "suburban-retail",
   "metadata": {},
   "outputs": [],
   "source": []
  }
 ],
 "metadata": {
  "kernelspec": {
   "display_name": "Python 3",
   "language": "python",
   "name": "python3"
  },
  "language_info": {
   "codemirror_mode": {
    "name": "ipython",
    "version": 3
   },
   "file_extension": ".py",
   "mimetype": "text/x-python",
   "name": "python",
   "nbconvert_exporter": "python",
   "pygments_lexer": "ipython3",
   "version": "3.8.8"
  }
 },
 "nbformat": 4,
 "nbformat_minor": 5
}

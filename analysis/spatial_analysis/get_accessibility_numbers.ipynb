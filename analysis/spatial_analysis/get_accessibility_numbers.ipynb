{
 "cells": [
  {
   "cell_type": "code",
   "execution_count": 1,
   "metadata": {},
   "outputs": [],
   "source": [
    "import geopandas as gpd\n",
    "import pandas as pd\n",
    "import os, datetime"
   ]
  },
  {
   "cell_type": "code",
   "execution_count": 2,
   "metadata": {},
   "outputs": [],
   "source": [
    "import arcpy\n",
    "from arcpy import env"
   ]
  },
  {
   "cell_type": "code",
   "execution_count": 3,
   "metadata": {},
   "outputs": [],
   "source": [
    "env.workspace = r\"T:\\MPO\\RTP\\FY20 2045 Update\\Data and Resources\\Network_Analysis\\Network_Analysis.gdb\""
   ]
  },
  {
   "cell_type": "code",
   "execution_count": 2,
   "metadata": {},
   "outputs": [],
   "source": [
    "path = r\"T:\\MPO\\RTP\\FY20 2045 Update\\Data and Resources\\Network_Analysis\\Network_Analysis.gdb\""
   ]
  },
  {
   "cell_type": "code",
   "execution_count": 4,
   "metadata": {},
   "outputs": [],
   "source": [
    "# 2 years * 3 AOI * 2 travel modes * 2 services\n",
    "sas = [\"Jobs\", \"Amenities\"]\n",
    "travel_modes = [\"Biking\", \"Walking\"]\n",
    "layer_names = [\"baseyearJobs_FeatureToPoint\", \"forecastJobs_FeatureToPoint\"]\n",
    "AOIs = [\"MPO\", \"EFA\", \"NEFA\"]\n",
    "# matched with layer names\n",
    "jobfields = [\"ojobs\", \"jobs\"]\n",
    "years = [2020, 2045]\n",
    "hhfields = [\"ohh\", \"hh\"]"
   ]
  },
  {
   "cell_type": "code",
   "execution_count": 4,
   "metadata": {},
   "outputs": [],
   "source": [
    "import JoinHHTables as jht"
   ]
  },
  {
   "cell_type": "code",
   "execution_count": 23,
   "metadata": {},
   "outputs": [],
   "source": [
    "def calculateAccessibility(service = \"Jobs\",\n",
    "                          travel_mode = \"Biking\",\n",
    "                          year = 2020,\n",
    "                          AOI = \"MPO\",\n",
    "                          HH = False,\n",
    "                          TAZ = False):\n",
    "    if HH:\n",
    "        shp = AOI + service + travel_mode + str(year) + \"HH_SA\"\n",
    "    elif TAZ:\n",
    "        shp = AOI + service + travel_mode + str(year) + \"TAZ\"\n",
    "    else:\n",
    "        shp = AOI + service + travel_mode + str(year)\n",
    "    \n",
    "    if HH:\n",
    "        # some error occurred in arcpy where household data was not correctly loaded, \n",
    "        # so update the joined table with the original data\n",
    "        access = jht.UpateHHTables(AOI = AOI, service = service, year = year, travel_mode = travel_mode)    \n",
    "    else:\n",
    "        access = gpd.read_file(path, layer = shp)\n",
    "    \n",
    "    if service == \"Jobs\":\n",
    "        if HH:\n",
    "            targetfield = jobfields[years.index(year)]\n",
    "        elif TAZ:\n",
    "            targetfield = \"total_jobs\"\n",
    "            if year == 2045:\n",
    "                targetfield = targetfield + \"_\" + str(year)\n",
    "        else:\n",
    "            targetfield = layer_names[years.index(year)] + \"_\" + jobfields[years.index(year)]\n",
    "        newfield = 'weighted_' + jobfields[years.index(year)]\n",
    "    else:\n",
    "        targetfield = \"Join_Count\"\n",
    "        newfield = 'weighted_count'\n",
    "    \n",
    "    if TAZ:\n",
    "        hhfield = \"total_hh\"\n",
    "        if year == 2045:\n",
    "            hhfield = hhfield + \"_\" + str(year)\n",
    "        if service == \"Jobs\":\n",
    "            access[newfield] = access[targetfield] * access[hhfield]\n",
    "            acc = round(access[newfield].sum()/access[hhfield].sum())\n",
    "            #acc = round(access[targetfield].sum()/access[hhfield].sum())\n",
    "        else:\n",
    "            jobshp = AOI + \"Jobs\" + travel_mode + str(year) + \"TAZ\"\n",
    "            jobacc = gpd.read_file(path, layer = jobshp)\n",
    "            acc = round(access.shape[0]/jobacc[hhfield].sum())\n",
    "            print(\"with {0} {1} and {2} households\".format(access.shape[0], service, jobacc[hhfield].sum()))\n",
    "    else:\n",
    "        hhfield = hhfields[years.index(year)]\n",
    "        access[newfield] = access[targetfield] * access[hhfield]\n",
    "        acc = round(access[newfield].sum()/access[hhfield].sum())\n",
    "    \n",
    "    return acc"
   ]
  },
  {
   "cell_type": "code",
   "execution_count": 17,
   "metadata": {},
   "outputs": [],
   "source": [
    "outpath = r\"T:\\MPO\\RTP\\FY20 2045 Update\\Data and Resources\\Network_Analysis\""
   ]
  },
  {
   "cell_type": "code",
   "execution_count": 6,
   "metadata": {},
   "outputs": [
    {
     "name": "stdout",
     "output_type": "stream",
     "text": [
      "Got the accessibility number for Jobs in MPO by Biking in 2020...\n",
      "Got the accessibility number for Jobs in EFA by Biking in 2020...\n",
      "Got the accessibility number for Jobs in NEFA by Biking in 2020...\n",
      "Got the accessibility number for Jobs in MPO by Biking in 2045...\n",
      "Got the accessibility number for Jobs in EFA by Biking in 2045...\n",
      "Got the accessibility number for Jobs in NEFA by Biking in 2045...\n",
      "Got the accessibility number for Jobs in MPO by Walking in 2020...\n",
      "Got the accessibility number for Jobs in EFA by Walking in 2020...\n",
      "Got the accessibility number for Jobs in NEFA by Walking in 2020...\n",
      "Got the accessibility number for Jobs in MPO by Walking in 2045...\n",
      "Got the accessibility number for Jobs in EFA by Walking in 2045...\n",
      "Got the accessibility number for Jobs in NEFA by Walking in 2045...\n",
      "Got the accessibility table for Jobs:\n",
      "         MPO2020  EFA2020  NEFA2020  MPO2045  EFA2045  NEFA2045\n",
      "Biking     36253    42490     34634    50065    61479     46912\n",
      "Walking     2513     3761      2180     3796     6669      2972\n",
      "Got the accessibility number for Amenities in MPO by Biking in 2020...\n",
      "Got the accessibility number for Amenities in EFA by Biking in 2020...\n",
      "Got the accessibility number for Amenities in NEFA by Biking in 2020...\n",
      "Got the accessibility number for Amenities in MPO by Biking in 2045...\n",
      "Got the accessibility number for Amenities in EFA by Biking in 2045...\n",
      "Got the accessibility number for Amenities in NEFA by Biking in 2045...\n",
      "Got the accessibility number for Amenities in MPO by Walking in 2020...\n",
      "Got the accessibility number for Amenities in EFA by Walking in 2020...\n",
      "Got the accessibility number for Amenities in NEFA by Walking in 2020...\n",
      "Got the accessibility number for Amenities in MPO by Walking in 2045...\n",
      "Got the accessibility number for Amenities in EFA by Walking in 2045...\n",
      "Got the accessibility number for Amenities in NEFA by Walking in 2045...\n",
      "Got the accessibility table for Amenities:\n",
      "         MPO2020  EFA2020  NEFA2020  MPO2045  EFA2045  NEFA2045\n",
      "Biking       109      119       107      112      131       107\n",
      "Walking       10       12         9       11       17        10\n",
      "total time used: 0:03:02.108356\n"
     ]
    }
   ],
   "source": [
    "now = datetime.datetime.now()\n",
    "for sa in sas:\n",
    "    byService = []\n",
    "    for travel_mode in travel_modes:\n",
    "        byTravelMode = []\n",
    "        colnms = []\n",
    "        for year in years:\n",
    "            byYear = []\n",
    "            colnm = []\n",
    "            for AOI in AOIs:\n",
    "                acc = calculateAccessibility(service = sa,\n",
    "                                             travel_mode = travel_mode,\n",
    "                                             year = year,\n",
    "                                             AOI = AOI)\n",
    "                print(\"Got the accessibility number for {0} in {1} by {2} in {3}...\".format(sa, AOI, travel_mode, year))\n",
    "                byYear.append(acc)\n",
    "                colnm.append(AOI+str(year))\n",
    "            byTravelMode += byYear\n",
    "            colnms += colnm\n",
    "        byService.append(byTravelMode)\n",
    "    print(\"Got the accessibility table for \" + sa + \":\")\n",
    "    df = pd.DataFrame(byService)\n",
    "    df.columns = colnms\n",
    "    df.index= travel_modes\n",
    "    print(df)\n",
    "    df.to_csv(os.path.join(outpath, sa+\"Access.csv\"))\n",
    "later = datetime.datetime.now()\n",
    "elapsed = later - now\n",
    "print(\"total time used: {0}\".format(elapsed))"
   ]
  },
  {
   "cell_type": "code",
   "execution_count": 20,
   "metadata": {},
   "outputs": [
    {
     "data": {
      "text/plain": [
       "169"
      ]
     },
     "execution_count": 20,
     "metadata": {},
     "output_type": "execute_result"
    }
   ],
   "source": [
    "calculateAccessibility(TAZ = True)"
   ]
  },
  {
   "cell_type": "code",
   "execution_count": 24,
   "metadata": {},
   "outputs": [
    {
     "name": "stdout",
     "output_type": "stream",
     "text": [
      "with 452 Amenities and 108084.0 households\n"
     ]
    },
    {
     "data": {
      "text/plain": [
       "0"
      ]
     },
     "execution_count": 24,
     "metadata": {},
     "output_type": "execute_result"
    }
   ],
   "source": [
    "calculateAccessibility(service = \"Amenities\", TAZ = True)"
   ]
  },
  {
   "cell_type": "code",
   "execution_count": 6,
   "metadata": {},
   "outputs": [],
   "source": [
    "# remove TAZ output files\n",
    "for sa in sas:\n",
    "    for travel_mode in travel_modes:\n",
    "        for year in years:\n",
    "            for AOI in AOIs:\n",
    "                shp = AOI + sa + travel_mode + str(year) + \"TAZ\"\n",
    "                arcpy.Delete_management(shp)"
   ]
  },
  {
   "cell_type": "code",
   "execution_count": 16,
   "metadata": {},
   "outputs": [
    {
     "name": "stdout",
     "output_type": "stream",
     "text": [
      "Got the accessibility number for Jobs in MPO by Biking in 2020...\n",
      "Got the accessibility number for Jobs in EFA by Biking in 2020...\n",
      "Got the accessibility number for Jobs in NEFA by Biking in 2020...\n",
      "Got the accessibility number for Jobs in MPO by Biking in 2045...\n",
      "Got the accessibility number for Jobs in EFA by Biking in 2045...\n",
      "Got the accessibility number for Jobs in NEFA by Biking in 2045...\n",
      "Got the accessibility number for Jobs in MPO by Walking in 2020...\n",
      "Got the accessibility number for Jobs in EFA by Walking in 2020...\n",
      "Got the accessibility number for Jobs in NEFA by Walking in 2020...\n",
      "Got the accessibility number for Jobs in MPO by Walking in 2045...\n",
      "Got the accessibility number for Jobs in EFA by Walking in 2045...\n",
      "Got the accessibility number for Jobs in NEFA by Walking in 2045...\n",
      "Got the accessibility table for Jobs:\n",
      "         MPO2020  EFA2020  NEFA2020  MPO2045  EFA2045  NEFA2045\n",
      "Biking     34020    16566     17949    44976    20514     25156\n",
      "Walking     2323     2003      1303     3433     3182      1777\n",
      "Got the accessibility number for Amenities in MPO by Biking in 2020...\n",
      "Got the accessibility number for Amenities in EFA by Biking in 2020...\n",
      "Got the accessibility number for Amenities in NEFA by Biking in 2020...\n",
      "Got the accessibility number for Amenities in MPO by Biking in 2045...\n",
      "Got the accessibility number for Amenities in EFA by Biking in 2045...\n",
      "Got the accessibility number for Amenities in NEFA by Biking in 2045...\n",
      "Got the accessibility number for Amenities in MPO by Walking in 2020...\n",
      "Got the accessibility number for Amenities in EFA by Walking in 2020...\n",
      "Got the accessibility number for Amenities in NEFA by Walking in 2020...\n",
      "Got the accessibility number for Amenities in MPO by Walking in 2045...\n",
      "Got the accessibility number for Amenities in EFA by Walking in 2045...\n",
      "Got the accessibility number for Amenities in NEFA by Walking in 2045...\n",
      "Got the accessibility table for Amenities:\n",
      "         MPO2020  EFA2020  NEFA2020  MPO2045  EFA2045  NEFA2045\n",
      "Biking       104       36        70      106       36        71\n",
      "Walking        9        7         7       11        9         7\n",
      "total time used: 0:08:40.229697\n"
     ]
    }
   ],
   "source": [
    "now = datetime.datetime.now()\n",
    "for sa in sas:\n",
    "    byService = []\n",
    "    for travel_mode in travel_modes:\n",
    "        byTravelMode = []\n",
    "        colnms = []\n",
    "        for year in years:\n",
    "            byYear = []\n",
    "            colnm = []\n",
    "            for AOI in AOIs:\n",
    "                acc = calculateAccessibility(service = sa,\n",
    "                                             travel_mode = travel_mode,\n",
    "                                             year = year,\n",
    "                                             AOI = AOI,\n",
    "                                             HH = True)\n",
    "                print(\"Got the accessibility number for {0} in {1} by {2} in {3}...\".format(sa, AOI, travel_mode, year))\n",
    "                byYear.append(acc)\n",
    "                colnm.append(AOI+str(year))\n",
    "            byTravelMode += byYear\n",
    "            colnms += colnm\n",
    "        byService.append(byTravelMode)\n",
    "    print(\"Got the accessibility table for \" + sa + \":\")\n",
    "    df = pd.DataFrame(byService)\n",
    "    df.columns = colnms\n",
    "    df.index= travel_modes\n",
    "    print(df)\n",
    "    df.to_csv(os.path.join(outpath, sa+\"AccessHH.csv\"))\n",
    "later = datetime.datetime.now()\n",
    "elapsed = later - now\n",
    "print(\"total time used: {0}\".format(elapsed))"
   ]
  },
  {
   "cell_type": "code",
   "execution_count": 5,
   "metadata": {},
   "outputs": [],
   "source": [
    "EquityAreaID = pd.read_csv(\"../EquityAreaID.csv\")"
   ]
  },
  {
   "cell_type": "code",
   "execution_count": 12,
   "metadata": {},
   "outputs": [
    {
     "data": {
      "text/html": [
       "<div>\n",
       "<style scoped>\n",
       "    .dataframe tbody tr th:only-of-type {\n",
       "        vertical-align: middle;\n",
       "    }\n",
       "\n",
       "    .dataframe tbody tr th {\n",
       "        vertical-align: top;\n",
       "    }\n",
       "\n",
       "    .dataframe thead th {\n",
       "        text-align: right;\n",
       "    }\n",
       "</style>\n",
       "<table border=\"1\" class=\"dataframe\">\n",
       "  <thead>\n",
       "    <tr style=\"text-align: right;\">\n",
       "      <th></th>\n",
       "      <th>BlkGrp10</th>\n",
       "      <th>EquityArea</th>\n",
       "    </tr>\n",
       "  </thead>\n",
       "  <tbody>\n",
       "    <tr>\n",
       "      <th>0</th>\n",
       "      <td>410390019043</td>\n",
       "      <td>5</td>\n",
       "    </tr>\n",
       "    <tr>\n",
       "      <th>1</th>\n",
       "      <td>410390020022</td>\n",
       "      <td>6</td>\n",
       "    </tr>\n",
       "    <tr>\n",
       "      <th>2</th>\n",
       "      <td>410390026002</td>\n",
       "      <td>10</td>\n",
       "    </tr>\n",
       "    <tr>\n",
       "      <th>3</th>\n",
       "      <td>410390033023</td>\n",
       "      <td>18</td>\n",
       "    </tr>\n",
       "    <tr>\n",
       "      <th>4</th>\n",
       "      <td>410390043001</td>\n",
       "      <td>29</td>\n",
       "    </tr>\n",
       "    <tr>\n",
       "      <th>5</th>\n",
       "      <td>410390043004</td>\n",
       "      <td>31</td>\n",
       "    </tr>\n",
       "  </tbody>\n",
       "</table>\n",
       "</div>"
      ],
      "text/plain": [
       "       BlkGrp10  EquityArea\n",
       "0  410390019043           5\n",
       "1  410390020022           6\n",
       "2  410390026002          10\n",
       "3  410390033023          18\n",
       "4  410390043001          29\n",
       "5  410390043004          31"
      ]
     },
     "execution_count": 12,
     "metadata": {},
     "output_type": "execute_result"
    }
   ],
   "source": [
    "EquityAreaID"
   ]
  },
  {
   "cell_type": "code",
   "execution_count": 13,
   "metadata": {},
   "outputs": [],
   "source": [
    "def GetEFA_numbers_HH(service = \"Jobs\", travel_mode = 'Biking', year = 2020):\n",
    "    AOI = \"EFA\"\n",
    "    byYear = []\n",
    "    colnm = []\n",
    "    for i in EquityAreaID.index:\n",
    "        EFA_ID = EquityAreaID['EquityArea'].values[i]\n",
    "        access = jht.UpateHHTables(AOI = AOI, service = service, year = year, travel_mode = travel_mode, \n",
    "                  EFA_ID = EFA_ID, EFA = True)\n",
    "        if service == \"Jobs\":\n",
    "            targetfield = jobfields[years.index(year)]\n",
    "            newfield = 'weighted_' + jobfields[years.index(year)]\n",
    "        else:\n",
    "            targetfield = \"Join_Count\"\n",
    "            newfield = 'weighted_count'\n",
    "\n",
    "        hhfield = hhfields[years.index(year)]\n",
    "        if access.shape[0] == 0:\n",
    "            acc = 0\n",
    "        else:\n",
    "            access[newfield] = access[targetfield] * access[hhfield]\n",
    "            acc = round(access[newfield].sum()/access[hhfield].sum())\n",
    "\n",
    "        print(\"Got the accessibility number for {0} in {1} by {2} in {3}...\".format(service, AOI + str(EFA_ID), travel_mode, year))\n",
    "        byYear.append(acc)\n",
    "        colnm.append(AOI + str(EFA_ID) + \"_\" + str(year))\n",
    "    return byYear, colnm"
   ]
  },
  {
   "cell_type": "code",
   "execution_count": 15,
   "metadata": {},
   "outputs": [
    {
     "name": "stdout",
     "output_type": "stream",
     "text": [
      "Got the accessibility number for Amenities in EFA5 by Biking in 2020...\n",
      "Got the accessibility number for Amenities in EFA6 by Biking in 2020...\n",
      "Got the accessibility number for Amenities in EFA10 by Biking in 2020...\n",
      "Got the accessibility number for Amenities in EFA18 by Biking in 2020...\n",
      "Got the accessibility number for Amenities in EFA29 by Biking in 2020...\n",
      "Got the accessibility number for Amenities in EFA31 by Biking in 2020...\n",
      "Got the accessibility number for Amenities in EFA5 by Biking in 2045...\n",
      "Got the accessibility number for Amenities in EFA6 by Biking in 2045...\n",
      "Got the accessibility number for Amenities in EFA10 by Biking in 2045...\n",
      "Got the accessibility number for Amenities in EFA18 by Biking in 2045...\n",
      "Got the accessibility number for Amenities in EFA29 by Biking in 2045...\n",
      "Got the accessibility number for Amenities in EFA31 by Biking in 2045...\n",
      "Got the accessibility number for Amenities in EFA5 by Walking in 2020...\n",
      "Got the accessibility number for Amenities in EFA6 by Walking in 2020...\n",
      "Got the accessibility number for Amenities in EFA10 by Walking in 2020...\n",
      "Got the accessibility number for Amenities in EFA18 by Walking in 2020...\n",
      "Got the accessibility number for Amenities in EFA29 by Walking in 2020...\n",
      "Got the accessibility number for Amenities in EFA31 by Walking in 2020...\n",
      "Got the accessibility number for Amenities in EFA5 by Walking in 2045...\n",
      "Got the accessibility number for Amenities in EFA6 by Walking in 2045...\n",
      "Got the accessibility number for Amenities in EFA10 by Walking in 2045...\n",
      "Got the accessibility number for Amenities in EFA18 by Walking in 2045...\n",
      "Got the accessibility number for Amenities in EFA29 by Walking in 2045...\n",
      "Got the accessibility number for Amenities in EFA31 by Walking in 2045...\n",
      "Got the accessibility table for Amenities:\n",
      "         EFA5_2020  EFA6_2020  EFA10_2020  EFA18_2020  EFA29_2020  EFA31_2020  \\\n",
      "Biking           2          1           0           7           4           3   \n",
      "Walking          2          1           0           5           2           2   \n",
      "\n",
      "         EFA5_2045  EFA6_2045  EFA10_2045  EFA18_2045  EFA29_2045  EFA31_2045  \n",
      "Biking           2          1           0           7           4           3  \n",
      "Walking          2          1           0           5           2           2  \n",
      "total time used: 0:05:52.130549\n"
     ]
    }
   ],
   "source": [
    "now = datetime.datetime.now()\n",
    "#for sa in sas:\n",
    "sa = \"Amenities\"\n",
    "if sa == \"Amenities\":\n",
    "    byService = []\n",
    "    for travel_mode in travel_modes:\n",
    "        byTravelMode = []\n",
    "        colnms = []\n",
    "        for year in years:\n",
    "            out = GetEFA_numbers_HH(service = sa,\n",
    "                                  travel_mode = travel_mode,\n",
    "                                  year = year)\n",
    "            byYear = out[0]\n",
    "            colnm = out[1]\n",
    "            byTravelMode += byYear\n",
    "            colnms += colnm\n",
    "        byService.append(byTravelMode)\n",
    "    print(\"Got the accessibility table for \" + sa + \":\")\n",
    "    df = pd.DataFrame(byService)\n",
    "    df.columns = colnms\n",
    "    df.index= travel_modes\n",
    "    print(df)\n",
    "    df.to_csv(os.path.join(outpath, sa + \"AccessEFA_HH.csv\"))\n",
    "later = datetime.datetime.now()\n",
    "elapsed = later - now\n",
    "print(\"total time used: {0}\".format(elapsed))"
   ]
  },
  {
   "cell_type": "code",
   "execution_count": null,
   "metadata": {},
   "outputs": [],
   "source": []
  }
 ],
 "metadata": {
  "kernelspec": {
   "display_name": "Python 3",
   "language": "python",
   "name": "python3"
  },
  "language_info": {
   "codemirror_mode": {
    "name": "ipython",
    "version": 3
   },
   "file_extension": ".py",
   "mimetype": "text/x-python",
   "name": "python",
   "nbconvert_exporter": "python",
   "pygments_lexer": "ipython3",
   "version": "3.7.9"
  }
 },
 "nbformat": 4,
 "nbformat_minor": 5
}

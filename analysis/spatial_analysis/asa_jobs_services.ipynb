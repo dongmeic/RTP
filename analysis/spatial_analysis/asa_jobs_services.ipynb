{
 "cells": [
  {
   "cell_type": "code",
   "execution_count": 1,
   "metadata": {},
   "outputs": [],
   "source": [
    "import arcpy, os, datetime\n",
    "from arcpy import env\n",
    "import pandas as pd"
   ]
  },
  {
   "cell_type": "code",
   "execution_count": 2,
   "metadata": {},
   "outputs": [],
   "source": [
    "env.workspace = r\"T:\\MPO\\RTP\\FY20 2045 Update\\Data and Resources\\Network_Analysis\\Network_Analysis.gdb\"\n",
    "env.overwriteOutput = True"
   ]
  },
  {
   "cell_type": "code",
   "execution_count": 3,
   "metadata": {
    "scrolled": true
   },
   "outputs": [],
   "source": [
    "# need to restart the kernel after updating the function\n",
    "import AccessibilitySpatialAnalysis as asa"
   ]
  },
  {
   "cell_type": "code",
   "execution_count": 7,
   "metadata": {},
   "outputs": [
    {
     "name": "stdout",
     "output_type": "stream",
     "text": [
      "Spatial analysis for Jobs by Biking in MPO in 2020...\n",
      "Getting a spatial join between the household service areas and the Jobs points...\n",
      "Got the selected household points table...\n",
      "Got the final output table to include only the required fields...\n",
      "Completed spatial analysis for Jobs by Biking in MPO in 2020 completed with 0:11:02.748306 timesteps...\n"
     ]
    }
   ],
   "source": [
    "asa.AccessibilitySpatialJoin_HH()"
   ]
  },
  {
   "cell_type": "code",
   "execution_count": 4,
   "metadata": {},
   "outputs": [
    {
     "name": "stdout",
     "output_type": "stream",
     "text": [
      "Spatial analysis for Jobs by Biking in EFA in 2020...\n",
      "Got the spatial join table...\n",
      "Got the selected household points table...\n",
      "Got the final output table to include only the required fields...\n",
      "Completed spatial analysis for Jobs by Biking in EFA in 2020 completed with 0:00:02.207578 timesteps...\n"
     ]
    }
   ],
   "source": [
    "asa.AccessibilitySpatialJoin_HH(AOI = \"EFA\")"
   ]
  },
  {
   "cell_type": "code",
   "execution_count": 4,
   "metadata": {},
   "outputs": [],
   "source": [
    "AOIs = [\"MPO\", \"EFA\", \"NEFA\"]\n",
    "travel_modes = [\"Biking\", \"Walking\"]\n",
    "sas = [\"Jobs\", \"Amenities\"]\n",
    "years = [2020, 2045]"
   ]
  },
  {
   "cell_type": "code",
   "execution_count": 8,
   "metadata": {},
   "outputs": [
    {
     "name": "stdout",
     "output_type": "stream",
     "text": [
      "Got summarized Amenities in EFA5 by Walking in 2020...\n",
      "Got summarized Amenities in EFA6 by Walking in 2020...\n",
      "Got summarized Amenities in EFA10 by Walking in 2020...\n",
      "Got summarized Amenities in EFA18 by Walking in 2020...\n",
      "Got summarized Amenities in EFA29 by Walking in 2020...\n",
      "Got summarized Amenities in EFA31 by Walking in 2020...\n"
     ]
    }
   ],
   "source": [
    "asa.AccessibilityEquityArea_HH(service = \"Amenities\",\n",
    "                            travel_mode = \"Walking\",\n",
    "                            year = 2020)"
   ]
  },
  {
   "cell_type": "code",
   "execution_count": 9,
   "metadata": {},
   "outputs": [
    {
     "name": "stdout",
     "output_type": "stream",
     "text": [
      "Got summarized Amenities in EFA5 by Walking in 2045...\n",
      "Got summarized Amenities in EFA6 by Walking in 2045...\n",
      "Got summarized Amenities in EFA10 by Walking in 2045...\n",
      "Got summarized Amenities in EFA18 by Walking in 2045...\n",
      "Got summarized Amenities in EFA29 by Walking in 2045...\n",
      "Got summarized Amenities in EFA31 by Walking in 2045...\n"
     ]
    }
   ],
   "source": [
    "asa.AccessibilityEquityArea_HH(service = \"Amenities\",\n",
    "                            travel_mode = \"Walking\",\n",
    "                            year = 2045)"
   ]
  },
  {
   "cell_type": "code",
   "execution_count": 6,
   "metadata": {},
   "outputs": [
    {
     "name": "stdout",
     "output_type": "stream",
     "text": [
      "Got summarized Jobs in EFA5 by Biking in 2020...\n",
      "Got summarized Jobs in EFA6 by Biking in 2020...\n",
      "Got summarized Jobs in EFA10 by Biking in 2020...\n",
      "Got summarized Jobs in EFA18 by Biking in 2020...\n",
      "Got summarized Jobs in EFA29 by Biking in 2020...\n",
      "Got summarized Jobs in EFA31 by Biking in 2020...\n",
      "Got summarized Jobs in EFA5 by Walking in 2020...\n",
      "Got summarized Jobs in EFA6 by Walking in 2020...\n",
      "Got summarized Jobs in EFA10 by Walking in 2020...\n",
      "Got summarized Jobs in EFA18 by Walking in 2020...\n",
      "Got summarized Jobs in EFA29 by Walking in 2020...\n",
      "Got summarized Jobs in EFA31 by Walking in 2020...\n",
      "Got summarized Amenities in EFA5 by Biking in 2020...\n",
      "Got summarized Amenities in EFA6 by Biking in 2020...\n",
      "Got summarized Amenities in EFA10 by Biking in 2020...\n",
      "Got summarized Amenities in EFA18 by Biking in 2020...\n",
      "Got summarized Amenities in EFA29 by Biking in 2020...\n",
      "Got summarized Amenities in EFA31 by Biking in 2020...\n",
      "Got summarized Amenities in EFA5 by Walking in 2020...\n",
      "Got summarized Amenities in EFA6 by Walking in 2020...\n",
      "Got summarized Amenities in EFA10 by Walking in 2020...\n",
      "Got summarized Amenities in EFA18 by Walking in 2020...\n",
      "Got summarized Amenities in EFA29 by Walking in 2020...\n",
      "Got summarized Amenities in EFA31 by Walking in 2020...\n",
      "Got summarized Jobs in EFA5 by Biking in 2045...\n",
      "Got summarized Jobs in EFA6 by Biking in 2045...\n",
      "Got summarized Jobs in EFA10 by Biking in 2045...\n",
      "Got summarized Jobs in EFA18 by Biking in 2045...\n",
      "Got summarized Jobs in EFA29 by Biking in 2045...\n",
      "Got summarized Jobs in EFA31 by Biking in 2045...\n",
      "Got summarized Jobs in EFA5 by Walking in 2045...\n",
      "Got summarized Jobs in EFA6 by Walking in 2045...\n",
      "Got summarized Jobs in EFA10 by Walking in 2045...\n",
      "Got summarized Jobs in EFA18 by Walking in 2045...\n",
      "Got summarized Jobs in EFA29 by Walking in 2045...\n",
      "Got summarized Jobs in EFA31 by Walking in 2045...\n",
      "Got summarized Amenities in EFA5 by Biking in 2045...\n",
      "Got summarized Amenities in EFA6 by Biking in 2045...\n",
      "Got summarized Amenities in EFA10 by Biking in 2045...\n",
      "Got summarized Amenities in EFA18 by Biking in 2045...\n",
      "Got summarized Amenities in EFA29 by Biking in 2045...\n",
      "Got summarized Amenities in EFA31 by Biking in 2045...\n",
      "Got summarized Amenities in EFA5 by Walking in 2045...\n",
      "Got summarized Amenities in EFA6 by Walking in 2045...\n",
      "Got summarized Amenities in EFA10 by Walking in 2045...\n",
      "Got summarized Amenities in EFA18 by Walking in 2045...\n",
      "Got summarized Amenities in EFA29 by Walking in 2045...\n",
      "Got summarized Amenities in EFA31 by Walking in 2045...\n"
     ]
    }
   ],
   "source": [
    "for year in years:\n",
    "    for sa in sas:\n",
    "        for travel_mode in travel_modes:\n",
    "            asa.AccessibilityEquityArea_HH(service = sa,\n",
    "                            travel_mode = travel_mode,\n",
    "                            year = year)"
   ]
  },
  {
   "cell_type": "code",
   "execution_count": 6,
   "metadata": {},
   "outputs": [],
   "source": [
    "for year in years:\n",
    "    for AOI in AOIs:\n",
    "        for sa in sas:\n",
    "            for travel_mode in travel_modes:\n",
    "                spatialJoin_out_name = sa + travel_mode + str(year) + \"HH_SA\" \n",
    "                out_name = AOI + spatialJoin_out_name\n",
    "                if arcpy.Exists(out_name):\n",
    "                    arcpy.Delete_management(out_name)"
   ]
  },
  {
   "cell_type": "code",
   "execution_count": null,
   "metadata": {},
   "outputs": [
    {
     "name": "stdout",
     "output_type": "stream",
     "text": [
      "Spatial analysis for Jobs by Biking in MPO in 2020...\n",
      "Got the spatial join table...\n",
      "Got the selected household points table...\n",
      "Got the final data table...\n",
      "Completed spatial analysis for Jobs by Biking in MPO in 2020 completed with 0:00:02.161605 timesteps...\n",
      "Spatial analysis for Jobs by Walking in MPO in 2020...\n",
      "Getting a spatial join between the household service areas and the Jobs points...\n",
      "Got the selected household points table...\n",
      "Got the final output table to include only the required fields...\n",
      "Completed spatial analysis for Jobs by Walking in MPO in 2020 completed with 0:02:27.526737 timesteps...\n",
      "Spatial analysis for Amenities by Biking in MPO in 2020...\n",
      "Getting a spatial join between the household service areas and the Amenities points...\n",
      "Got the selected household points table...\n",
      "Got the final output table to include only the required fields...\n",
      "Completed spatial analysis for Amenities by Biking in MPO in 2020 completed with 0:03:11.997973 timesteps...\n",
      "Spatial analysis for Amenities by Walking in MPO in 2020...\n",
      "Getting a spatial join between the household service areas and the Amenities points...\n",
      "Got the selected household points table...\n",
      "Got the final output table to include only the required fields...\n",
      "Completed spatial analysis for Amenities by Walking in MPO in 2020 completed with 0:01:40.775819 timesteps...\n",
      "Spatial analysis for Jobs by Biking in EFA in 2020...\n",
      "Got the spatial join table...\n",
      "Got the selected household points table...\n",
      "Got the final data table...\n",
      "Completed spatial analysis for Jobs by Biking in EFA in 2020 completed with 0:00:02.076252 timesteps...\n",
      "Spatial analysis for Jobs by Walking in EFA in 2020...\n",
      "Got the spatial join table...\n",
      "Got the selected household points table...\n",
      "Got the final output table to include only the required fields...\n",
      "Completed spatial analysis for Jobs by Walking in EFA in 2020 completed with 0:00:02.214157 timesteps...\n",
      "Spatial analysis for Amenities by Biking in EFA in 2020...\n",
      "Got the spatial join table...\n",
      "Got the selected household points table...\n",
      "Got the final output table to include only the required fields...\n",
      "Completed spatial analysis for Amenities by Biking in EFA in 2020 completed with 0:00:02.025217 timesteps...\n",
      "Spatial analysis for Amenities by Walking in EFA in 2020...\n",
      "Got the spatial join table...\n",
      "Got the selected household points table...\n",
      "Got the final output table to include only the required fields...\n",
      "Completed spatial analysis for Amenities by Walking in EFA in 2020 completed with 0:00:01.934496 timesteps...\n",
      "Spatial analysis for Jobs by Biking in NEFA in 2020...\n",
      "Got the spatial join table...\n",
      "Got the selected household points table...\n",
      "Got the final output table to include only the required fields...\n",
      "Completed spatial analysis for Jobs by Biking in NEFA in 2020 completed with 0:00:03.194016 timesteps...\n",
      "Spatial analysis for Jobs by Walking in NEFA in 2020...\n",
      "Got the spatial join table...\n",
      "Got the selected household points table...\n",
      "Got the final output table to include only the required fields...\n",
      "Completed spatial analysis for Jobs by Walking in NEFA in 2020 completed with 0:00:02.680556 timesteps...\n",
      "Spatial analysis for Amenities by Biking in NEFA in 2020...\n",
      "Got the spatial join table...\n",
      "Got the selected household points table...\n",
      "Got the final output table to include only the required fields...\n",
      "Completed spatial analysis for Amenities by Biking in NEFA in 2020 completed with 0:00:02.329433 timesteps...\n",
      "Spatial analysis for Amenities by Walking in NEFA in 2020...\n",
      "Got the spatial join table...\n",
      "Got the selected household points table...\n",
      "Got the final output table to include only the required fields...\n",
      "Completed spatial analysis for Amenities by Walking in NEFA in 2020 completed with 0:00:02.259986 timesteps...\n",
      "Spatial analysis for Jobs by Biking in MPO in 2045...\n",
      "Getting a spatial join between the household service areas and the Jobs points...\n",
      "Got the selected household points table...\n",
      "Got the final output table to include only the required fields...\n",
      "Completed spatial analysis for Jobs by Biking in MPO in 2045 completed with 0:11:48.602796 timesteps...\n",
      "Spatial analysis for Jobs by Walking in MPO in 2045...\n",
      "Getting a spatial join between the household service areas and the Jobs points...\n",
      "Got the selected household points table...\n",
      "Got the final output table to include only the required fields...\n",
      "Completed spatial analysis for Jobs by Walking in MPO in 2045 completed with 0:02:21.988897 timesteps...\n",
      "Spatial analysis for Amenities by Biking in MPO in 2045...\n",
      "Getting a spatial join between the household service areas and the Amenities points...\n"
     ]
    }
   ],
   "source": [
    "for year in years:\n",
    "    for AOI in AOIs:\n",
    "        for sa in sas:\n",
    "            for travel_mode in travel_modes:\n",
    "                asa.AccessibilitySpatialJoin_HH(\n",
    "                    AOI = AOI,\n",
    "                    service = sa,\n",
    "                    travel_mode = travel_mode,\n",
    "                    year = year)"
   ]
  },
  {
   "cell_type": "code",
   "execution_count": 6,
   "metadata": {},
   "outputs": [
    {
     "name": "stdout",
     "output_type": "stream",
     "text": [
      "Spatial analysis for Jobs by Biking in MPO in 2020...\n",
      "Getting a join table between service area and job points...\n",
      "Completed...\n",
      "Getting the household points within the MPO boundary...\n",
      "Getting a spatial join between the selected household points and service area joined table...\n",
      "Completed spatial analysis for Jobs by Biking in MPO in 2020 completed with 0:05:28.585418 timesteps...\n"
     ]
    }
   ],
   "source": [
    "asa.AccessibilitySpatialJoin(keep = \"only\")"
   ]
  },
  {
   "cell_type": "code",
   "execution_count": null,
   "metadata": {},
   "outputs": [],
   "source": [
    "outpath = r\"T:\\MPO\\RTP\\FY20 2045 Update\\Data and Resources\\Network_Analysis\""
   ]
  },
  {
   "cell_type": "code",
   "execution_count": 4,
   "metadata": {},
   "outputs": [],
   "source": [
    "# 2 years * 3 AOI * 2 travel modes * 2 services\n",
    "layer_names = [\"baseyearHH_FeatureToPoint\", \"forecastHH_FeatureToPoint\"]\n",
    "jobfields = [\"ojobs\", \"jobs\"]\n",
    "AOIs = [\"MPO\", \"EFA\", \"NEFA\"]\n",
    "travel_modes = [\"Biking\", \"Walking\"]\n",
    "sas = [\"Jobs\", \"Amenities\"]\n",
    "years = [2020, 2045]"
   ]
  },
  {
   "cell_type": "code",
   "execution_count": 5,
   "metadata": {},
   "outputs": [
    {
     "name": "stdout",
     "output_type": "stream",
     "text": [
      "Spatial analysis for Jobs by Biking in MPO in 2020...\n",
      "Getting a join table between service area and job points...\n",
      "Completed...\n",
      "Getting the household points within the MPO boundary...\n",
      "Getting a spatial join between the selected household points and service area joined table...\n",
      "Completed spatial analysis for Jobs by Biking in MPO in 2020 completed with 0:05:51.680226 timesteps...\n",
      "Spatial analysis for Jobs by Walking in MPO in 2020...\n",
      "Getting a join table between service area and job points...\n",
      "Completed...\n",
      "Getting the household points within the MPO boundary...\n",
      "Getting a spatial join between the selected household points and service area joined table...\n",
      "Completed spatial analysis for Jobs by Walking in MPO in 2020 completed with 0:01:17.961673 timesteps...\n",
      "Spatial analysis for Amenities by Biking in MPO in 2020...\n",
      "Getting the household points within the MPO boundary...\n",
      "Getting a spatial join between the selected household points and service area joined table...\n",
      "Completed spatial analysis for Amenities by Biking in MPO in 2020 completed with 0:01:00.496470 timesteps...\n",
      "Spatial analysis for Amenities by Walking in MPO in 2020...\n",
      "Getting the household points within the MPO boundary...\n",
      "Getting a spatial join between the selected household points and service area joined table...\n",
      "Completed spatial analysis for Amenities by Walking in MPO in 2020 completed with 0:00:29.732628 timesteps...\n",
      "Spatial analysis for Jobs by Biking in EFA in 2020...\n",
      "Getting a join table between service area and job points...\n",
      "Completed...\n",
      "Getting the household points within the equity focused areas...\n",
      "Getting a spatial join between the selected household points and service area joined table...\n",
      "Completed spatial analysis for Jobs by Biking in EFA in 2020 completed with 0:01:48.011704 timesteps...\n",
      "Spatial analysis for Jobs by Walking in EFA in 2020...\n",
      "Getting a join table between service area and job points...\n",
      "Completed...\n",
      "Getting the household points within the equity focused areas...\n",
      "Getting a spatial join between the selected household points and service area joined table...\n",
      "Completed spatial analysis for Jobs by Walking in EFA in 2020 completed with 0:00:39.938835 timesteps...\n",
      "Spatial analysis for Amenities by Biking in EFA in 2020...\n",
      "Getting the household points within the equity focused areas...\n",
      "Getting a spatial join between the selected household points and service area joined table...\n",
      "Completed spatial analysis for Amenities by Biking in EFA in 2020 completed with 0:00:26.530075 timesteps...\n",
      "Spatial analysis for Amenities by Walking in EFA in 2020...\n",
      "Getting the household points within the equity focused areas...\n",
      "Getting a spatial join between the selected household points and service area joined table...\n",
      "Completed spatial analysis for Amenities by Walking in EFA in 2020 completed with 0:00:19.145375 timesteps...\n",
      "Spatial analysis for Jobs by Biking in NEFA in 2020...\n",
      "Getting a join table between service area and job points...\n",
      "Completed...\n",
      "Getting the household points within the equity focused areas...\n",
      "Switching the household points to the non-equtiy focused areas within MPO...\n",
      "Getting a spatial join between the selected household points and service area joined table...\n",
      "Completed spatial analysis for Jobs by Biking in NEFA in 2020 completed with 0:04:53.994515 timesteps...\n",
      "Spatial analysis for Jobs by Walking in NEFA in 2020...\n",
      "Getting a join table between service area and job points...\n",
      "Completed...\n",
      "Getting the household points within the equity focused areas...\n",
      "Switching the household points to the non-equtiy focused areas within MPO...\n",
      "Getting a spatial join between the selected household points and service area joined table...\n",
      "Completed spatial analysis for Jobs by Walking in NEFA in 2020 completed with 0:01:06.221738 timesteps...\n",
      "Spatial analysis for Amenities by Biking in NEFA in 2020...\n",
      "Getting the household points within the equity focused areas...\n",
      "Switching the household points to the non-equtiy focused areas within MPO...\n",
      "Getting a spatial join between the selected household points and service area joined table...\n",
      "Completed spatial analysis for Amenities by Biking in NEFA in 2020 completed with 0:00:55.462653 timesteps...\n",
      "Spatial analysis for Amenities by Walking in NEFA in 2020...\n",
      "Getting the household points within the equity focused areas...\n",
      "Switching the household points to the non-equtiy focused areas within MPO...\n",
      "Getting a spatial join between the selected household points and service area joined table...\n",
      "Completed spatial analysis for Amenities by Walking in NEFA in 2020 completed with 0:00:29.625702 timesteps...\n",
      "Spatial analysis for Jobs by Biking in MPO in 2045...\n",
      "Getting a join table between service area and job points...\n",
      "Completed...\n",
      "Getting the household points within the MPO boundary...\n",
      "Getting a spatial join between the selected household points and service area joined table...\n",
      "Completed spatial analysis for Jobs by Biking in MPO in 2045 completed with 0:06:21.279604 timesteps...\n",
      "Spatial analysis for Jobs by Walking in MPO in 2045...\n",
      "Getting a join table between service area and job points...\n",
      "Completed...\n",
      "Getting the household points within the MPO boundary...\n",
      "Getting a spatial join between the selected household points and service area joined table...\n",
      "Completed spatial analysis for Jobs by Walking in MPO in 2045 completed with 0:01:23.801617 timesteps...\n",
      "Spatial analysis for Amenities by Biking in MPO in 2045...\n",
      "Getting the household points within the MPO boundary...\n",
      "Getting a spatial join between the selected household points and service area joined table...\n",
      "Completed spatial analysis for Amenities by Biking in MPO in 2045 completed with 0:01:00.148120 timesteps...\n",
      "Spatial analysis for Amenities by Walking in MPO in 2045...\n",
      "Getting the household points within the MPO boundary...\n",
      "Getting a spatial join between the selected household points and service area joined table...\n",
      "Completed spatial analysis for Amenities by Walking in MPO in 2045 completed with 0:00:28.130347 timesteps...\n",
      "Spatial analysis for Jobs by Biking in EFA in 2045...\n",
      "Getting a join table between service area and job points...\n",
      "Completed...\n",
      "Getting the household points within the equity focused areas...\n",
      "Getting a spatial join between the selected household points and service area joined table...\n",
      "Completed spatial analysis for Jobs by Biking in EFA in 2045 completed with 0:01:57.509319 timesteps...\n",
      "Spatial analysis for Jobs by Walking in EFA in 2045...\n",
      "Getting a join table between service area and job points...\n",
      "Completed...\n",
      "Getting the household points within the equity focused areas...\n",
      "Getting a spatial join between the selected household points and service area joined table...\n",
      "Completed spatial analysis for Jobs by Walking in EFA in 2045 completed with 0:00:41.199850 timesteps...\n",
      "Spatial analysis for Amenities by Biking in EFA in 2045...\n",
      "Getting the household points within the equity focused areas...\n",
      "Getting a spatial join between the selected household points and service area joined table...\n",
      "Completed spatial analysis for Amenities by Biking in EFA in 2045 completed with 0:00:26.572485 timesteps...\n",
      "Spatial analysis for Amenities by Walking in EFA in 2045...\n",
      "Getting the household points within the equity focused areas...\n",
      "Getting a spatial join between the selected household points and service area joined table...\n",
      "Completed spatial analysis for Amenities by Walking in EFA in 2045 completed with 0:00:18.131655 timesteps...\n",
      "Spatial analysis for Jobs by Biking in NEFA in 2045...\n",
      "Getting a join table between service area and job points...\n",
      "Completed...\n",
      "Getting the household points within the equity focused areas...\n",
      "Switching the household points to the non-equtiy focused areas within MPO...\n",
      "Getting a spatial join between the selected household points and service area joined table...\n",
      "Completed spatial analysis for Jobs by Biking in NEFA in 2045 completed with 0:05:17.964565 timesteps...\n",
      "Spatial analysis for Jobs by Walking in NEFA in 2045...\n",
      "Getting a join table between service area and job points...\n",
      "Completed...\n",
      "Getting the household points within the equity focused areas...\n",
      "Switching the household points to the non-equtiy focused areas within MPO...\n",
      "Getting a spatial join between the selected household points and service area joined table...\n"
     ]
    },
    {
     "name": "stdout",
     "output_type": "stream",
     "text": [
      "Completed spatial analysis for Jobs by Walking in NEFA in 2045 completed with 0:01:04.878821 timesteps...\n",
      "Spatial analysis for Amenities by Biking in NEFA in 2045...\n",
      "Getting the household points within the equity focused areas...\n",
      "Switching the household points to the non-equtiy focused areas within MPO...\n",
      "Getting a spatial join between the selected household points and service area joined table...\n",
      "Completed spatial analysis for Amenities by Biking in NEFA in 2045 completed with 0:00:56.069662 timesteps...\n",
      "Spatial analysis for Amenities by Walking in NEFA in 2045...\n",
      "Getting the household points within the equity focused areas...\n",
      "Switching the household points to the non-equtiy focused areas within MPO...\n",
      "Getting a spatial join between the selected household points and service area joined table...\n",
      "Completed spatial analysis for Amenities by Walking in NEFA in 2045 completed with 0:00:28.769581 timesteps...\n"
     ]
    }
   ],
   "source": [
    "for layer_name in layer_names:\n",
    "    for AOI in AOIs:\n",
    "        for sa in sas:\n",
    "            for travel_mode in travel_modes:\n",
    "                asa.AccessibilitySpatialJoin(layer_name = layer_name,\n",
    "                    AOI = AOI,\n",
    "                    jobfield = jobfields[layer_names.index(layer_name)],\n",
    "                    service = sa,\n",
    "                    travel_mode = travel_mode,\n",
    "                    year = years[layer_names.index(layer_name)])"
   ]
  },
  {
   "cell_type": "code",
   "execution_count": 6,
   "metadata": {},
   "outputs": [
    {
     "name": "stdout",
     "output_type": "stream",
     "text": [
      "Got the accessibility number for Jobs in EFA5 by Biking in 2020...\n",
      "Got the accessibility number for Jobs in EFA6 by Biking in 2020...\n",
      "Got the accessibility number for Jobs in EFA10 by Biking in 2020...\n",
      "Got the accessibility number for Jobs in EFA18 by Biking in 2020...\n",
      "Got the accessibility number for Jobs in EFA29 by Biking in 2020...\n",
      "Got the accessibility number for Jobs in EFA31 by Biking in 2020...\n",
      "Got the accessibility number for Jobs in EFA5 by Biking in 2045...\n",
      "Got the accessibility number for Jobs in EFA6 by Biking in 2045...\n",
      "Got the accessibility number for Jobs in EFA10 by Biking in 2045...\n",
      "Got the accessibility number for Jobs in EFA18 by Biking in 2045...\n",
      "Got the accessibility number for Jobs in EFA29 by Biking in 2045...\n",
      "Got the accessibility number for Jobs in EFA31 by Biking in 2045...\n",
      "Got the accessibility number for Jobs in EFA5 by Walking in 2020...\n",
      "Got the accessibility number for Jobs in EFA6 by Walking in 2020...\n",
      "Got the accessibility number for Jobs in EFA10 by Walking in 2020...\n",
      "Got the accessibility number for Jobs in EFA18 by Walking in 2020...\n",
      "Got the accessibility number for Jobs in EFA29 by Walking in 2020...\n",
      "Got the accessibility number for Jobs in EFA31 by Walking in 2020...\n",
      "Got the accessibility number for Jobs in EFA5 by Walking in 2045...\n",
      "Got the accessibility number for Jobs in EFA6 by Walking in 2045...\n",
      "Got the accessibility number for Jobs in EFA10 by Walking in 2045...\n",
      "Got the accessibility number for Jobs in EFA18 by Walking in 2045...\n",
      "Got the accessibility number for Jobs in EFA29 by Walking in 2045...\n",
      "Got the accessibility number for Jobs in EFA31 by Walking in 2045...\n",
      "Got the accessibility table for Jobs:\n",
      "         EFA5_2020  EFA6_2020  EFA10_2020  EFA18_2020  EFA29_2020  EFA31_2020  \\\n",
      "Biking        8676      32120       38970       32248       40929       45477   \n",
      "Walking        976       1123         972        5544        1047        1457   \n",
      "\n",
      "         EFA5_2045  EFA6_2045  EFA10_2045  EFA18_2045  EFA29_2045  EFA31_2045  \n",
      "Biking       25878      62184       58613       63821       56641       57737  \n",
      "Walking       1480       1955        1223        9904        1352        1917  \n",
      "Got the accessibility number for Amenities in EFA5 by Biking in 2020...\n",
      "Got the accessibility number for Amenities in EFA6 by Biking in 2020...\n",
      "Got the accessibility number for Amenities in EFA10 by Biking in 2020...\n",
      "Got the accessibility number for Amenities in EFA18 by Biking in 2020...\n",
      "Got the accessibility number for Amenities in EFA29 by Biking in 2020...\n",
      "Got the accessibility number for Amenities in EFA31 by Biking in 2020...\n",
      "Got the accessibility number for Amenities in EFA5 by Biking in 2045...\n",
      "Got the accessibility number for Amenities in EFA6 by Biking in 2045...\n",
      "Got the accessibility number for Amenities in EFA10 by Biking in 2045...\n",
      "Got the accessibility number for Amenities in EFA18 by Biking in 2045...\n",
      "Got the accessibility number for Amenities in EFA29 by Biking in 2045...\n",
      "Got the accessibility number for Amenities in EFA31 by Biking in 2045...\n",
      "Got the accessibility number for Amenities in EFA5 by Walking in 2020...\n",
      "Got the accessibility number for Amenities in EFA6 by Walking in 2020...\n",
      "Got the accessibility number for Amenities in EFA10 by Walking in 2020...\n",
      "Got the accessibility number for Amenities in EFA18 by Walking in 2020...\n",
      "Got the accessibility number for Amenities in EFA29 by Walking in 2020...\n",
      "Got the accessibility number for Amenities in EFA31 by Walking in 2020...\n",
      "Got the accessibility number for Amenities in EFA5 by Walking in 2045...\n",
      "Got the accessibility number for Amenities in EFA6 by Walking in 2045...\n",
      "Got the accessibility number for Amenities in EFA10 by Walking in 2045...\n",
      "Got the accessibility number for Amenities in EFA18 by Walking in 2045...\n",
      "Got the accessibility number for Amenities in EFA29 by Walking in 2045...\n",
      "Got the accessibility number for Amenities in EFA31 by Walking in 2045...\n",
      "Got the accessibility table for Amenities:\n",
      "         EFA5_2020  EFA6_2020  EFA10_2020  EFA18_2020  EFA29_2020  EFA31_2020  \\\n",
      "Biking          41         83          92          95         107         125   \n",
      "Walking          8          5           3          18           5           7   \n",
      "\n",
      "         EFA5_2045  EFA6_2045  EFA10_2045  EFA18_2045  EFA29_2045  EFA31_2045  \n",
      "Biking          41         83          90          99         108         125  \n",
      "Walking          8          5           3          18           5           7  \n",
      "total time used: 0:04:29.723782\n"
     ]
    }
   ],
   "source": [
    "now = datetime.datetime.now()\n",
    "for sa in sas:\n",
    "    byService = []\n",
    "    for travel_mode in travel_modes:\n",
    "        byTravelMode = []\n",
    "        colnms = []\n",
    "        for year in years:\n",
    "            out = asa.AccessibilityEquityArea(service = sa,\n",
    "                                              travel_mode = travel_mode,\n",
    "                                              year = year)\n",
    "            byYear = out[0]\n",
    "            colnm = out[1]\n",
    "            byTravelMode += byYear\n",
    "            colnms += colnm\n",
    "        byService.append(byTravelMode)\n",
    "    print(\"Got the accessibility table for \" + sa + \":\")\n",
    "    df = pd.DataFrame(byService)\n",
    "    df.columns = colnms\n",
    "    df.index= travel_modes\n",
    "    print(df)\n",
    "    df.to_csv(os.path.join(outpath, sa + \"AccessEFA.csv\"))\n",
    "later = datetime.datetime.now()\n",
    "elapsed = later - now\n",
    "print(\"total time used: {0}\".format(elapsed))"
   ]
  },
  {
   "cell_type": "code",
   "execution_count": null,
   "metadata": {},
   "outputs": [],
   "source": []
  }
 ],
 "metadata": {
  "kernelspec": {
   "display_name": "Python 3",
   "language": "python",
   "name": "python3"
  },
  "language_info": {
   "codemirror_mode": {
    "name": "ipython",
    "version": 3
   },
   "file_extension": ".py",
   "mimetype": "text/x-python",
   "name": "python",
   "nbconvert_exporter": "python",
   "pygments_lexer": "ipython3",
   "version": "3.7.9"
  }
 },
 "nbformat": 4,
 "nbformat_minor": 4
}

{
 "cells": [
  {
   "cell_type": "code",
   "execution_count": 1,
   "metadata": {},
   "outputs": [],
   "source": [
    "import arcpy, os, numpy, re\n",
    "from arcpy import env\n",
    "import pandas as pd"
   ]
  },
  {
   "cell_type": "code",
   "execution_count": 2,
   "metadata": {},
   "outputs": [],
   "source": [
    "env.workspace = r\"T:\\MPO\\RTP\\FY20 2045 Update\\Data and Resources\\Network_Analysis\\Network_Analysis.gdb\"\n",
    "env.overwriteOutput = True"
   ]
  },
  {
   "cell_type": "code",
   "execution_count": 3,
   "metadata": {},
   "outputs": [],
   "source": [
    "input_folder = r\"T:\\MPO\\RTP\\FY20 2045 Update\\Data and Resources\""
   ]
  },
  {
   "cell_type": "code",
   "execution_count": 4,
   "metadata": {},
   "outputs": [],
   "source": [
    "EFAbound = os.path.join(input_folder, \"PerformanceAnalysis\", \"service_transit_equity\", \"equity_area.shp\")"
   ]
  },
  {
   "cell_type": "code",
   "execution_count": 5,
   "metadata": {},
   "outputs": [],
   "source": [
    "AOI = \"EFA\"\n",
    "service = \"Jobs\"\n",
    "travel_mode = \"Biking\"\n",
    "year = 2020"
   ]
  },
  {
   "cell_type": "code",
   "execution_count": 6,
   "metadata": {},
   "outputs": [],
   "source": [
    "layer_name = AOI + service + travel_mode + str(year)"
   ]
  },
  {
   "cell_type": "code",
   "execution_count": 7,
   "metadata": {},
   "outputs": [],
   "source": [
    "EquityAreaID = pd.read_csv(\"../EquityAreaID.csv\")"
   ]
  },
  {
   "cell_type": "code",
   "execution_count": 8,
   "metadata": {},
   "outputs": [
    {
     "data": {
      "text/html": [
       "<div>\n",
       "<style scoped>\n",
       "    .dataframe tbody tr th:only-of-type {\n",
       "        vertical-align: middle;\n",
       "    }\n",
       "\n",
       "    .dataframe tbody tr th {\n",
       "        vertical-align: top;\n",
       "    }\n",
       "\n",
       "    .dataframe thead th {\n",
       "        text-align: right;\n",
       "    }\n",
       "</style>\n",
       "<table border=\"1\" class=\"dataframe\">\n",
       "  <thead>\n",
       "    <tr style=\"text-align: right;\">\n",
       "      <th></th>\n",
       "      <th>BlkGrp10</th>\n",
       "      <th>EquityArea</th>\n",
       "    </tr>\n",
       "  </thead>\n",
       "  <tbody>\n",
       "    <tr>\n",
       "      <th>0</th>\n",
       "      <td>410390019043</td>\n",
       "      <td>5</td>\n",
       "    </tr>\n",
       "    <tr>\n",
       "      <th>1</th>\n",
       "      <td>410390020022</td>\n",
       "      <td>6</td>\n",
       "    </tr>\n",
       "    <tr>\n",
       "      <th>2</th>\n",
       "      <td>410390026002</td>\n",
       "      <td>10</td>\n",
       "    </tr>\n",
       "    <tr>\n",
       "      <th>3</th>\n",
       "      <td>410390033023</td>\n",
       "      <td>18</td>\n",
       "    </tr>\n",
       "    <tr>\n",
       "      <th>4</th>\n",
       "      <td>410390043001</td>\n",
       "      <td>29</td>\n",
       "    </tr>\n",
       "  </tbody>\n",
       "</table>\n",
       "</div>"
      ],
      "text/plain": [
       "       BlkGrp10  EquityArea\n",
       "0  410390019043           5\n",
       "1  410390020022           6\n",
       "2  410390026002          10\n",
       "3  410390033023          18\n",
       "4  410390043001          29"
      ]
     },
     "execution_count": 8,
     "metadata": {},
     "output_type": "execute_result"
    }
   ],
   "source": [
    "EquityAreaID.head()"
   ]
  },
  {
   "cell_type": "code",
   "execution_count": 12,
   "metadata": {},
   "outputs": [
    {
     "data": {
      "text/plain": [
       "410390019043"
      ]
     },
     "execution_count": 12,
     "metadata": {},
     "output_type": "execute_result"
    }
   ],
   "source": [
    "EquityAreaID['BlkGrp10'].values[0]"
   ]
  },
  {
   "cell_type": "code",
   "execution_count": 26,
   "metadata": {},
   "outputs": [
    {
     "data": {
      "text/plain": [
       "[0, 1, 2, 3, 4, 5]"
      ]
     },
     "execution_count": 26,
     "metadata": {},
     "output_type": "execute_result"
    }
   ],
   "source": [
    "[i for i in EquityAreaID.index]"
   ]
  },
  {
   "cell_type": "code",
   "execution_count": 14,
   "metadata": {},
   "outputs": [],
   "source": [
    "BlkGrp10 = EquityAreaID['BlkGrp10'].values[0]"
   ]
  },
  {
   "cell_type": "code",
   "execution_count": 15,
   "metadata": {},
   "outputs": [],
   "source": [
    "EFAbound = arcpy.management.SelectLayerByAttribute(EFAbound, \"NEW_SELECTION\", \"BlkGrp10 = '{0}'\".format(BlkGrp10), None)"
   ]
  },
  {
   "cell_type": "code",
   "execution_count": 16,
   "metadata": {},
   "outputs": [],
   "source": [
    "# 2 years * 3 AOI * 2 travel modes * 2 services\n",
    "sas = [\"Jobs\", \"Amenities\"]\n",
    "travel_modes = [\"Biking\", \"Walking\"]\n",
    "layer_names = [\"baseyearJobs_FeatureToPoint\", \"forecastJobs_FeatureToPoint\"]\n",
    "AOIs = [\"MPO\", \"EFA\", \"NEFA\"]\n",
    "# matched with layer names\n",
    "jobfields = [\"ojobs\", \"jobs\"]\n",
    "years = [2020, 2045]\n",
    "hhfields = [\"ohh\", \"hh\"]"
   ]
  },
  {
   "cell_type": "code",
   "execution_count": 17,
   "metadata": {},
   "outputs": [],
   "source": [
    "newfield = 'weighted_' + jobfields[years.index(year)]"
   ]
  },
  {
   "cell_type": "code",
   "execution_count": 19,
   "metadata": {},
   "outputs": [],
   "source": [
    "fieldList = arcpy.ListFields(layer_name)\n",
    "field_names = [f.name for f in fieldList]\n",
    "if newfield in field_names:\n",
    "    pass\n",
    "else:\n",
    "    arcpy.AddField_management(layer_name, newfield, \"FLOAT\", \"\", \"\", 50)"
   ]
  },
  {
   "cell_type": "code",
   "execution_count": 20,
   "metadata": {},
   "outputs": [],
   "source": [
    "hhfield = hhfields[years.index(year)]\n",
    "targetfield = layer_names[years.index(year)] + \"_\" + jobfields[years.index(year)]"
   ]
  },
  {
   "cell_type": "code",
   "execution_count": 21,
   "metadata": {},
   "outputs": [
    {
     "data": {
      "text/html": [
       "<h2>Output</h2>T:\\MPO\\RTP\\FY20 2045 Update\\Data and Resources\\Network_Analysis\\Network_Analysis.gdb\\EFAJobsBiking2020<h2>Messages</h2>Start Time: Tuesday, April 6, 2021 7:30:47 PM<br/>Succeeded at Tuesday, April 6, 2021 7:30:49 PM (Elapsed Time: 1.56 seconds)<br/><style>.rendered_html td, .rendered_html th {text-align: left;}.rendered_html tbody {border: 1px solid black;}</style>"
      ],
      "text/plain": [
       "<Result 'T:\\\\MPO\\\\RTP\\\\FY20 2045 Update\\\\Data and Resources\\\\Network_Analysis\\\\Network_Analysis.gdb\\\\EFAJobsBiking2020'>"
      ]
     },
     "execution_count": 21,
     "metadata": {},
     "output_type": "execute_result"
    }
   ],
   "source": [
    "arcpy.management.CalculateField(layer_name, newfield, \"!{0}! * !{1}!\".format(hhfield, targetfield), \"PYTHON3\", '', \"TEXT\")"
   ]
  },
  {
   "cell_type": "code",
   "execution_count": 22,
   "metadata": {},
   "outputs": [],
   "source": [
    "input_layer = arcpy.management.SelectLayerByLocation(layer_name, \"COMPLETELY_WITHIN\", EFAbound, None, \n",
    "                                                                 \"NEW_SELECTION\", \"NOT_INVERT\")"
   ]
  },
  {
   "cell_type": "code",
   "execution_count": 23,
   "metadata": {},
   "outputs": [],
   "source": [
    "HHsum = arcpy.da.TableToNumPyArray(input_layer, hhfield, skip_nulls=True)\n",
    "WgtJobsSum = arcpy.da.TableToNumPyArray(input_layer, newfield, skip_nulls=True)"
   ]
  },
  {
   "cell_type": "code",
   "execution_count": 24,
   "metadata": {},
   "outputs": [
    {
     "data": {
      "text/plain": [
       "8676"
      ]
     },
     "execution_count": 24,
     "metadata": {},
     "output_type": "execute_result"
    }
   ],
   "source": [
    "round(WgtJobsSum[newfield].sum() / HHsum[hhfield].sum())"
   ]
  },
  {
   "cell_type": "code",
   "execution_count": null,
   "metadata": {},
   "outputs": [],
   "source": []
  },
  {
   "cell_type": "code",
   "execution_count": null,
   "metadata": {},
   "outputs": [],
   "source": []
  },
  {
   "cell_type": "code",
   "execution_count": null,
   "metadata": {},
   "outputs": [],
   "source": []
  },
  {
   "cell_type": "code",
   "execution_count": null,
   "metadata": {},
   "outputs": [],
   "source": []
  },
  {
   "cell_type": "code",
   "execution_count": null,
   "metadata": {},
   "outputs": [],
   "source": []
  },
  {
   "cell_type": "code",
   "execution_count": null,
   "metadata": {},
   "outputs": [],
   "source": []
  },
  {
   "cell_type": "code",
   "execution_count": null,
   "metadata": {},
   "outputs": [],
   "source": []
  },
  {
   "cell_type": "code",
   "execution_count": 35,
   "metadata": {},
   "outputs": [
    {
     "data": {
      "text/html": [
       "<h2>Output</h2>T:\\MPO\\RTP\\FY20 2045 Update\\Data and Resources\\Network_Analysis\\Network_Analysis.gdb\\joinedtable<h2>Messages</h2>Start Time: Tuesday, April 6, 2021 2:19:22 PM<br/>Succeeded at Tuesday, April 6, 2021 2:19:32 PM (Elapsed Time: 10.81 seconds)<br/><style>.rendered_html td, .rendered_html th {text-align: left;}.rendered_html tbody {border: 1px solid black;}</style>"
      ],
      "text/plain": [
       "<Result 'T:\\\\MPO\\\\RTP\\\\FY20 2045 Update\\\\Data and Resources\\\\Network_Analysis\\\\Network_Analysis.gdb\\\\joinedtable'>"
      ]
     },
     "execution_count": 35,
     "metadata": {},
     "output_type": "execute_result"
    }
   ],
   "source": [
    "table = arcpy.AddJoin_management(\"SABikingJobs\", \"FacilityID\", \"baseyearJobs_FeatureToPoint\", \"FacilityID\", \"KEEP_COMMON\")\n",
    "arcpy.CopyFeatures_management(table, \"joinedtable\")"
   ]
  },
  {
   "cell_type": "code",
   "execution_count": 4,
   "metadata": {},
   "outputs": [
    {
     "data": {
      "text/html": [
       "<h2>Output</h2>a Layer object<h2>Messages</h2>Start Time: Sunday, April 4, 2021 4:25:17 PM<br/>Succeeded at Sunday, April 4, 2021 4:25:17 PM (Elapsed Time: 0.48 seconds)<br/><style>.rendered_html td, .rendered_html th {text-align: left;}.rendered_html tbody {border: 1px solid black;}</style>"
      ],
      "text/plain": [
       "<Result 'baseyear_hh'>"
      ]
     },
     "execution_count": 4,
     "metadata": {},
     "output_type": "execute_result"
    }
   ],
   "source": [
    "arcpy.management.MakeFeatureLayer(\"parcels_FeatureToPoint\", \"baseyear_hh\", \"ohh > 0\")"
   ]
  },
  {
   "cell_type": "code",
   "execution_count": 5,
   "metadata": {},
   "outputs": [],
   "source": [
    "fieldList = arcpy.ListFields(\"baseyear_hh\")"
   ]
  },
  {
   "cell_type": "code",
   "execution_count": 6,
   "metadata": {},
   "outputs": [],
   "source": [
    "field_names = [f.name for f in fieldList]"
   ]
  },
  {
   "cell_type": "code",
   "execution_count": 7,
   "metadata": {},
   "outputs": [
    {
     "data": {
      "text/plain": [
       "['OBJECTID',\n",
       " 'Shape',\n",
       " 'btype',\n",
       " 'nrsqft',\n",
       " 'rsqft',\n",
       " 'du',\n",
       " 'yrbuilt',\n",
       " 'lpid',\n",
       " 'pundev',\n",
       " 'dev_land',\n",
       " 'developed',\n",
       " 'obtype',\n",
       " 'orsqft',\n",
       " 'onrsqft',\n",
       " 'odu',\n",
       " 'zid',\n",
       " 'rezoned',\n",
       " 'city',\n",
       " 'annexed',\n",
       " 'ozid',\n",
       " 'AreaPerJob',\n",
       " 'isNonRes',\n",
       " 'jobs',\n",
       " 'ojobs',\n",
       " 'hh',\n",
       " 'ohh',\n",
       " 'ORIG_FID',\n",
       " 'sa_jobs']"
      ]
     },
     "execution_count": 7,
     "metadata": {},
     "output_type": "execute_result"
    }
   ],
   "source": [
    "field_names"
   ]
  },
  {
   "cell_type": "code",
   "execution_count": 8,
   "metadata": {},
   "outputs": [],
   "source": [
    "newfield = \"sa_jobs\""
   ]
  },
  {
   "cell_type": "code",
   "execution_count": 9,
   "metadata": {},
   "outputs": [],
   "source": [
    "desc = arcpy.Describe(\"baseyear_hh\")"
   ]
  },
  {
   "cell_type": "code",
   "execution_count": 10,
   "metadata": {},
   "outputs": [],
   "source": [
    "fields = desc.fields"
   ]
  },
  {
   "cell_type": "code",
   "execution_count": 11,
   "metadata": {},
   "outputs": [
    {
     "data": {
      "text/plain": [
       "'Double'"
      ]
     },
     "execution_count": 11,
     "metadata": {},
     "output_type": "execute_result"
    }
   ],
   "source": [
    "arcpy.ListFields(\"baseyear_hh\", \"jobs\")[0].type"
   ]
  },
  {
   "cell_type": "code",
   "execution_count": 12,
   "metadata": {},
   "outputs": [],
   "source": [
    "if newfield in field_names:\n",
    "    pass\n",
    "else:\n",
    "    arcpy.AddField_management(\"baseyear_hh\", newfield, \"FLOAT\", \"\", \"\", 20)"
   ]
  },
  {
   "cell_type": "code",
   "execution_count": 45,
   "metadata": {},
   "outputs": [],
   "source": [
    "service = \"Jobs\"\n",
    "travel_mode = \"Biking\"\n",
    "AOI = \"MPO\"\n",
    "year = 2020"
   ]
  },
  {
   "cell_type": "code",
   "execution_count": 36,
   "metadata": {},
   "outputs": [],
   "source": [
    "targetHH = arcpy.management.SelectLayerByAttribute(\"baseyear_hh\", \"NEW_SELECTION\", \"ORIG_FID = {0}\".format(18778), None)"
   ]
  },
  {
   "cell_type": "code",
   "execution_count": 37,
   "metadata": {},
   "outputs": [],
   "source": [
    "selectedSA = arcpy.management.SelectLayerByLocation(\"joinedtable\", \"COMPLETELY_CONTAINS\", targetHH, \n",
    "                                               None, \"NEW_SELECTION\", \"NOT_INVERT\")"
   ]
  },
  {
   "cell_type": "code",
   "execution_count": 38,
   "metadata": {},
   "outputs": [],
   "source": [
    "fieldsum = arcpy.da.TableToNumPyArray(selectedSA, \"baseyearJobs_FeatureToPoint_jobs\", skip_nulls=True)"
   ]
  },
  {
   "cell_type": "code",
   "execution_count": 40,
   "metadata": {},
   "outputs": [],
   "source": [
    "val = fieldsum[\"baseyearJobs_FeatureToPoint_jobs\"].sum()"
   ]
  },
  {
   "cell_type": "code",
   "execution_count": 48,
   "metadata": {},
   "outputs": [
    {
     "data": {
      "text/plain": [
       "73822.79370354864"
      ]
     },
     "execution_count": 48,
     "metadata": {},
     "output_type": "execute_result"
    }
   ],
   "source": [
    "val"
   ]
  },
  {
   "cell_type": "code",
   "execution_count": 44,
   "metadata": {},
   "outputs": [
    {
     "data": {
      "text/plain": [
       "8.910751757824185"
      ]
     },
     "execution_count": 44,
     "metadata": {},
     "output_type": "execute_result"
    }
   ],
   "source": [
    "(val*15.44)/127915.574999826"
   ]
  },
  {
   "cell_type": "code",
   "execution_count": 49,
   "metadata": {},
   "outputs": [
    {
     "data": {
      "text/html": [
       "<h2>Output</h2><table><tr><th>id</th><th>value</th></tr><tr><td>0</td><td>a Layer object</td></tr><tr><td>1</td><td>-1</td></tr></table><h2>Messages</h2>Start Time: Sunday, April 4, 2021 5:20:07 PM<br/>Succeeded at Sunday, April 4, 2021 5:20:07 PM (Elapsed Time: 0.02 seconds)<br/><style>.rendered_html td, .rendered_html th {text-align: left;}.rendered_html tbody {border: 1px solid black;}</style>"
      ],
      "text/plain": [
       "<Result 'baseyear_hh'>"
      ]
     },
     "execution_count": 49,
     "metadata": {},
     "output_type": "execute_result"
    }
   ],
   "source": [
    "arcpy.management.SelectLayerByAttribute(\"baseyear_hh\", \"CLEAR_SELECTION\")"
   ]
  },
  {
   "cell_type": "code",
   "execution_count": 54,
   "metadata": {},
   "outputs": [
    {
     "data": {
      "text/html": [
       "<h2>Output</h2>T:\\MPO\\RTP\\FY20 2045 Update\\Data and Resources\\Network_Analysis\\Network_Analysis.gdb\\baseyearjobs_HH<h2>Messages</h2>Start Time: Monday, April 5, 2021 6:56:11 PM<br/>Succeeded at Monday, April 5, 2021 7:01:41 PM (Elapsed Time: 5 minutes 30 seconds)<br/><style>.rendered_html td, .rendered_html th {text-align: left;}.rendered_html tbody {border: 1px solid black;}</style>"
      ],
      "text/plain": [
       "<Result 'T:\\\\MPO\\\\RTP\\\\FY20 2045 Update\\\\Data and Resources\\\\Network_Analysis\\\\Network_Analysis.gdb\\\\baseyearjobs_HH'>"
      ]
     },
     "execution_count": 54,
     "metadata": {},
     "output_type": "execute_result"
    }
   ],
   "source": [
    "arcpy.analysis.SpatialJoin(\"baseyearHH_FeatureToPoint\", \"joinedtable\",\"baseyearjobs_HH\",\"JOIN_ONE_TO_ONE\", \"KEEP_COMMON\",\n",
    "                           'btype \"btype\" true true false 80 Text 0 0,First,#,baseyearHH_FeatureToPoint,btype,0,80;nrsqft \"nrsqft\" true true false 8 Double 0 0,First,#,baseyearHH_FeatureToPoint,nrsqft,-1,-1;rsqft \"rsqft\" true true false 8 Double 0 0,First,#,baseyearHH_FeatureToPoint,rsqft,-1,-1;du \"du\" true true false 8 Double 0 0,First,#,baseyearHH_FeatureToPoint,du,-1,-1;yrbuilt \"yrbuilt\" true true false 8 Double 0 0,First,#,baseyearHH_FeatureToPoint,yrbuilt,-1,-1;lpid \"lpid\" true true false 8 Double 0 0,First,#,baseyearHH_FeatureToPoint,lpid,-1,-1;pundev \"pundev\" true true false 8 Double 0 0,First,#,baseyearHH_FeatureToPoint,pundev,-1,-1;dev_land \"dev_land\" true true false 8 Double 0 0,First,#,baseyearHH_FeatureToPoint,dev_land,-1,-1;developed \"developed\" true true false 8 Double 0 0,First,#,baseyearHH_FeatureToPoint,developed,-1,-1;obtype \"obtype\" true true false 80 Text 0 0,First,#,baseyearHH_FeatureToPoint,obtype,0,80;orsqft \"orsqft\" true true false 8 Double 0 0,First,#,baseyearHH_FeatureToPoint,orsqft,-1,-1;onrsqft \"onrsqft\" true true false 8 Double 0 0,First,#,baseyearHH_FeatureToPoint,onrsqft,-1,-1;odu \"odu\" true true false 8 Double 0 0,First,#,baseyearHH_FeatureToPoint,odu,-1,-1;zid \"zid\" true true false 8 Double 0 0,First,#,baseyearHH_FeatureToPoint,zid,-1,-1;rezoned \"rezoned\" true true false 8 Double 0 0,First,#,baseyearHH_FeatureToPoint,rezoned,-1,-1;city \"city\" true true false 80 Text 0 0,First,#,baseyearHH_FeatureToPoint,city,0,80;annexed \"annexed\" true true false 8 Double 0 0,First,#,baseyearHH_FeatureToPoint,annexed,-1,-1;ozid \"ozid\" true true false 8 Double 0 0,First,#,baseyearHH_FeatureToPoint,ozid,-1,-1;AreaPerJob \"AreaPerJob\" true true false 8 Double 0 0,First,#,baseyearHH_FeatureToPoint,AreaPerJob,-1,-1;isNonRes \"isNonRes\" true true false 4 Long 0 0,First,#,baseyearHH_FeatureToPoint,isNonRes,-1,-1;jobs \"jobs\" true true false 8 Double 0 0,First,#,baseyearHH_FeatureToPoint,jobs,-1,-1;ojobs \"ojobs\" true true false 8 Double 0 0,First,#,baseyearHH_FeatureToPoint,ojobs,-1,-1;hh \"hh\" true true false 8 Double 0 0,First,#,baseyearHH_FeatureToPoint,hh,-1,-1;ohh \"ohh\" true true false 8 Double 0 0,First,#,baseyearHH_FeatureToPoint,ohh,-1,-1;ORIG_FID \"ORIG_FID\" true true false 4 Long 0 0,First,#,baseyearHH_FeatureToPoint,ORIG_FID,-1,-1;baseyearJobs_FeatureToPoint_ojobs \"ojobs\" true true false 8 Double 0 0,Sum,#,joinedtable,baseyearJobs_FeatureToPoint_ojobs,-1,-1;Shape_Length \"Shape_Length\" false true true 8 Double 0 0,First,#,joinedtable,Shape_Length,-1,-1;Shape_Area \"Shape_Area\" false true true 8 Double 0 0,First,#,joinedtable,Shape_Area,-1,-1', \n",
    "                           \"COMPLETELY_WITHIN\", None, '')"
   ]
  },
  {
   "cell_type": "code",
   "execution_count": 55,
   "metadata": {},
   "outputs": [
    {
     "data": {
      "text/html": [
       "<h2>Output</h2>T:\\MPO\\RTP\\FY20 2045 Update\\Data and Resources\\Network_Analysis\\Network_Analysis.gdb\\baseyear_jobs_HH<h2>Messages</h2>Start Time: Monday, April 5, 2021 7:20:16 PM<br/>Succeeded at Monday, April 5, 2021 7:25:33 PM (Elapsed Time: 5 minutes 16 seconds)<br/><style>.rendered_html td, .rendered_html th {text-align: left;}.rendered_html tbody {border: 1px solid black;}</style>"
      ],
      "text/plain": [
       "<Result 'T:\\\\MPO\\\\RTP\\\\FY20 2045 Update\\\\Data and Resources\\\\Network_Analysis\\\\Network_Analysis.gdb\\\\baseyear_jobs_HH'>"
      ]
     },
     "execution_count": 55,
     "metadata": {},
     "output_type": "execute_result"
    }
   ],
   "source": [
    "arcpy.analysis.SpatialJoin(\"baseyearHH_FeatureToPoint\", \"joinedtable\",\"baseyear_jobs_HH\",\"JOIN_ONE_TO_ONE\", \"KEEP_COMMON\",\n",
    "                           'btype \"btype\" true true false 80 Text 0 0,First,#,{0},btype,0,80;nrsqft \"nrsqft\" true true false 8 Double 0 0,First,#,{0},nrsqft,-1,-1;rsqft \"rsqft\" true true false 8 Double 0 0,First,#,{0},rsqft,-1,-1;du \"du\" true true false 8 Double 0 0,First,#,{0},du,-1,-1;yrbuilt \"yrbuilt\" true true false 8 Double 0 0,First,#,{0},yrbuilt,-1,-1;lpid \"lpid\" true true false 8 Double 0 0,First,#,{0},lpid,-1,-1;pundev \"pundev\" true true false 8 Double 0 0,First,#,{0},pundev,-1,-1;dev_land \"dev_land\" true true false 8 Double 0 0,First,#,{0},dev_land,-1,-1;developed \"developed\" true true false 8 Double 0 0,First,#,{0},developed,-1,-1;obtype \"obtype\" true true false 80 Text 0 0,First,#,{0},obtype,0,80;orsqft \"orsqft\" true true false 8 Double 0 0,First,#,{0},orsqft,-1,-1;onrsqft \"onrsqft\" true true false 8 Double 0 0,First,#,{0},onrsqft,-1,-1;odu \"odu\" true true false 8 Double 0 0,First,#,{0},odu,-1,-1;zid \"zid\" true true false 8 Double 0 0,First,#,{0},zid,-1,-1;rezoned \"rezoned\" true true false 8 Double 0 0,First,#,{0},rezoned,-1,-1;city \"city\" true true false 80 Text 0 0,First,#,{0},city,0,80;annexed \"annexed\" true true false 8 Double 0 0,First,#,{0},annexed,-1,-1;ozid \"ozid\" true true false 8 Double 0 0,First,#,{0},ozid,-1,-1;AreaPerJob \"AreaPerJob\" true true false 8 Double 0 0,First,#,{0},AreaPerJob,-1,-1;isNonRes \"isNonRes\" true true false 4 Long 0 0,First,#,{0},isNonRes,-1,-1;jobs \"jobs\" true true false 8 Double 0 0,First,#,{0},jobs,-1,-1;ojobs \"ojobs\" true true false 8 Double 0 0,First,#,{0},ojobs,-1,-1;hh \"hh\" true true false 8 Double 0 0,First,#,{0},hh,-1,-1;ohh \"ohh\" true true false 8 Double 0 0,First,#,{0},ohh,-1,-1;ORIG_FID \"ORIG_FID\" true true false 4 Long 0 0,First,#,{0},ORIG_FID,-1,-1;{1}_{2} \"{2}\" true true false 8 Double 0 0,Sum,#,joinedtable,{1}_{2},-1,-1;Shape_Length \"Shape_Length\" false true true 8 Double 0 0,First,#,joinedtable,Shape_Length,-1,-1;Shape_Area \"Shape_Area\" false true true 8 Double 0 0,First,#,joinedtable,Shape_Area,-1,-1'.format('baseyearHH_FeatureToPoint', 'baseyearJobs_FeatureToPoint', 'ojobs'), \n",
    "                           \"COMPLETELY_WITHIN\", None, '')"
   ]
  },
  {
   "cell_type": "code",
   "execution_count": null,
   "metadata": {},
   "outputs": [],
   "source": []
  },
  {
   "cell_type": "code",
   "execution_count": null,
   "metadata": {},
   "outputs": [],
   "source": []
  }
 ],
 "metadata": {
  "kernelspec": {
   "display_name": "Python 3",
   "language": "python",
   "name": "python3"
  },
  "language_info": {
   "codemirror_mode": {
    "name": "ipython",
    "version": 3
   },
   "file_extension": ".py",
   "mimetype": "text/x-python",
   "name": "python",
   "nbconvert_exporter": "python",
   "pygments_lexer": "ipython3",
   "version": "3.7.9"
  }
 },
 "nbformat": 4,
 "nbformat_minor": 4
}

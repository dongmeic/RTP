{
 "cells": [
  {
   "cell_type": "code",
   "execution_count": 1,
   "metadata": {},
   "outputs": [],
   "source": [
    "import arcpy, os, numpy\n",
    "from arcpy import env"
   ]
  },
  {
   "cell_type": "code",
   "execution_count": 2,
   "metadata": {},
   "outputs": [],
   "source": [
    "env.workspace = r\"T:\\MPO\\RTP\\FY20 2045 Update\\Data and Resources\\Network_Analysis\\Network_Analysis.gdb\"\n",
    "env.overwriteOutput = True"
   ]
  },
  {
   "cell_type": "code",
   "execution_count": 3,
   "metadata": {},
   "outputs": [
    {
     "data": {
      "text/html": [
       "<h2>Output</h2>T:\\MPO\\RTP\\FY20 2045 Update\\Data and Resources\\Network_Analysis\\Network_Analysis.gdb\\joinedtable<h2>Messages</h2>Start Time: Sunday, April 4, 2021 4:25:06 PM<br/>Succeeded at Sunday, April 4, 2021 4:25:14 PM (Elapsed Time: 8.21 seconds)<br/><style>.rendered_html td, .rendered_html th {text-align: left;}.rendered_html tbody {border: 1px solid black;}</style>"
      ],
      "text/plain": [
       "<Result 'T:\\\\MPO\\\\RTP\\\\FY20 2045 Update\\\\Data and Resources\\\\Network_Analysis\\\\Network_Analysis.gdb\\\\joinedtable'>"
      ]
     },
     "execution_count": 3,
     "metadata": {},
     "output_type": "execute_result"
    }
   ],
   "source": [
    "table = arcpy.AddJoin_management(\"SABikingJobs\", \"ObjectID\", \"baseyearJobs_FeatureToPoint\", \"ORIG_FID\", \"KEEP_COMMON\")\n",
    "arcpy.CopyFeatures_management(table, \"joinedtable\")"
   ]
  },
  {
   "cell_type": "code",
   "execution_count": 4,
   "metadata": {},
   "outputs": [
    {
     "data": {
      "text/html": [
       "<h2>Output</h2>a Layer object<h2>Messages</h2>Start Time: Sunday, April 4, 2021 4:25:17 PM<br/>Succeeded at Sunday, April 4, 2021 4:25:17 PM (Elapsed Time: 0.48 seconds)<br/><style>.rendered_html td, .rendered_html th {text-align: left;}.rendered_html tbody {border: 1px solid black;}</style>"
      ],
      "text/plain": [
       "<Result 'baseyear_hh'>"
      ]
     },
     "execution_count": 4,
     "metadata": {},
     "output_type": "execute_result"
    }
   ],
   "source": [
    "arcpy.management.MakeFeatureLayer(\"parcels_FeatureToPoint\", \"baseyear_hh\", \"ohh > 0\")"
   ]
  },
  {
   "cell_type": "code",
   "execution_count": 5,
   "metadata": {},
   "outputs": [],
   "source": [
    "fieldList = arcpy.ListFields(\"baseyear_hh\")"
   ]
  },
  {
   "cell_type": "code",
   "execution_count": 6,
   "metadata": {},
   "outputs": [],
   "source": [
    "field_names = [f.name for f in fieldList]"
   ]
  },
  {
   "cell_type": "code",
   "execution_count": 7,
   "metadata": {},
   "outputs": [
    {
     "data": {
      "text/plain": [
       "['OBJECTID',\n",
       " 'Shape',\n",
       " 'btype',\n",
       " 'nrsqft',\n",
       " 'rsqft',\n",
       " 'du',\n",
       " 'yrbuilt',\n",
       " 'lpid',\n",
       " 'pundev',\n",
       " 'dev_land',\n",
       " 'developed',\n",
       " 'obtype',\n",
       " 'orsqft',\n",
       " 'onrsqft',\n",
       " 'odu',\n",
       " 'zid',\n",
       " 'rezoned',\n",
       " 'city',\n",
       " 'annexed',\n",
       " 'ozid',\n",
       " 'AreaPerJob',\n",
       " 'isNonRes',\n",
       " 'jobs',\n",
       " 'ojobs',\n",
       " 'hh',\n",
       " 'ohh',\n",
       " 'ORIG_FID',\n",
       " 'sa_jobs']"
      ]
     },
     "execution_count": 7,
     "metadata": {},
     "output_type": "execute_result"
    }
   ],
   "source": [
    "field_names"
   ]
  },
  {
   "cell_type": "code",
   "execution_count": 8,
   "metadata": {},
   "outputs": [],
   "source": [
    "newfield = \"sa_jobs\""
   ]
  },
  {
   "cell_type": "code",
   "execution_count": 9,
   "metadata": {},
   "outputs": [],
   "source": [
    "desc = arcpy.Describe(\"baseyear_hh\")"
   ]
  },
  {
   "cell_type": "code",
   "execution_count": 10,
   "metadata": {},
   "outputs": [],
   "source": [
    "fields = desc.fields"
   ]
  },
  {
   "cell_type": "code",
   "execution_count": 11,
   "metadata": {},
   "outputs": [
    {
     "data": {
      "text/plain": [
       "'Double'"
      ]
     },
     "execution_count": 11,
     "metadata": {},
     "output_type": "execute_result"
    }
   ],
   "source": [
    "arcpy.ListFields(\"baseyear_hh\", \"jobs\")[0].type"
   ]
  },
  {
   "cell_type": "code",
   "execution_count": 12,
   "metadata": {},
   "outputs": [],
   "source": [
    "if newfield in field_names:\n",
    "    pass\n",
    "else:\n",
    "    arcpy.AddField_management(\"baseyear_hh\", newfield, \"FLOAT\", \"\", \"\", 20)"
   ]
  },
  {
   "cell_type": "code",
   "execution_count": 45,
   "metadata": {},
   "outputs": [],
   "source": [
    "service = \"Jobs\"\n",
    "travel_mode = \"Biking\"\n",
    "AOI = \"MPO\"\n",
    "year = 2020"
   ]
  },
  {
   "cell_type": "code",
   "execution_count": 36,
   "metadata": {},
   "outputs": [],
   "source": [
    "targetHH = arcpy.management.SelectLayerByAttribute(\"baseyear_hh\", \"NEW_SELECTION\", \"ORIG_FID = {0}\".format(18778), None)"
   ]
  },
  {
   "cell_type": "code",
   "execution_count": 37,
   "metadata": {},
   "outputs": [],
   "source": [
    "selectedSA = arcpy.management.SelectLayerByLocation(\"joinedtable\", \"COMPLETELY_CONTAINS\", targetHH, \n",
    "                                               None, \"NEW_SELECTION\", \"NOT_INVERT\")"
   ]
  },
  {
   "cell_type": "code",
   "execution_count": 38,
   "metadata": {},
   "outputs": [],
   "source": [
    "fieldsum = arcpy.da.TableToNumPyArray(selectedSA, \"baseyearJobs_FeatureToPoint_jobs\", skip_nulls=True)"
   ]
  },
  {
   "cell_type": "code",
   "execution_count": 40,
   "metadata": {},
   "outputs": [],
   "source": [
    "val = fieldsum[\"baseyearJobs_FeatureToPoint_jobs\"].sum()"
   ]
  },
  {
   "cell_type": "code",
   "execution_count": 48,
   "metadata": {},
   "outputs": [
    {
     "data": {
      "text/plain": [
       "73822.79370354864"
      ]
     },
     "execution_count": 48,
     "metadata": {},
     "output_type": "execute_result"
    }
   ],
   "source": [
    "val"
   ]
  },
  {
   "cell_type": "code",
   "execution_count": 44,
   "metadata": {},
   "outputs": [
    {
     "data": {
      "text/plain": [
       "8.910751757824185"
      ]
     },
     "execution_count": 44,
     "metadata": {},
     "output_type": "execute_result"
    }
   ],
   "source": [
    "(val*15.44)/127915.574999826"
   ]
  },
  {
   "cell_type": "code",
   "execution_count": 49,
   "metadata": {},
   "outputs": [
    {
     "data": {
      "text/html": [
       "<h2>Output</h2><table><tr><th>id</th><th>value</th></tr><tr><td>0</td><td>a Layer object</td></tr><tr><td>1</td><td>-1</td></tr></table><h2>Messages</h2>Start Time: Sunday, April 4, 2021 5:20:07 PM<br/>Succeeded at Sunday, April 4, 2021 5:20:07 PM (Elapsed Time: 0.02 seconds)<br/><style>.rendered_html td, .rendered_html th {text-align: left;}.rendered_html tbody {border: 1px solid black;}</style>"
      ],
      "text/plain": [
       "<Result 'baseyear_hh'>"
      ]
     },
     "execution_count": 49,
     "metadata": {},
     "output_type": "execute_result"
    }
   ],
   "source": [
    "arcpy.management.SelectLayerByAttribute(\"baseyear_hh\", \"CLEAR_SELECTION\")"
   ]
  },
  {
   "cell_type": "code",
   "execution_count": 51,
   "metadata": {},
   "outputs": [
    {
     "name": "stdout",
     "output_type": "stream",
     "text": [
      "0:05:42.778671\n"
     ]
    }
   ],
   "source": [
    "now = datetime.datetime.now()\n",
    "arcpy.analysis.SpatialJoin(\"baseyearHH_FeatureToPoint\", \"joinedtable\",\n",
    "                \"baseyearHH_jobs\", \"JOIN_ONE_TO_ONE\", \"KEEP_COMMON\", \n",
    "                '''btype \"btype\" true true false 80 Text 0 0,First,#,baseyearHH_FeatureToPoint,btype,0,80;\n",
    "                   nrsqft \"nrsqft\" true true false 8 Double 0 0,First,#,baseyearHH_FeatureToPoint,nrsqft,-1,-1;\n",
    "                   rsqft \"rsqft\" true true false 8 Double 0 0,First,#,baseyearHH_FeatureToPoint,rsqft,-1,-1;\n",
    "                   du \"du\" true true false 8 Double 0 0,First,#,baseyearHH_FeatureToPoint,du,-1,-1;\n",
    "                   yrbuilt \"yrbuilt\" true true false 8 Double 0 0,First,#,baseyearHH_FeatureToPoint,yrbuilt,-1,-1;\n",
    "                   lpid \"lpid\" true true false 8 Double 0 0,First,#,baseyearHH_FeatureToPoint,lpid,-1,-1;\n",
    "                   pundev \"pundev\" true true false 8 Double 0 0,First,#,baseyearHH_FeatureToPoint,pundev,-1,-1;\n",
    "                   dev_land \"dev_land\" true true false 8 Double 0 0,First,#,baseyearHH_FeatureToPoint,dev_land,-1,-1;\n",
    "                   developed \"developed\" true true false 8 Double 0 0,First,#,baseyearHH_FeatureToPoint,developed,-1,-1;\n",
    "                   obtype \"obtype\" true true false 80 Text 0 0,First,#,baseyearHH_FeatureToPoint,obtype,0,80;\n",
    "                   orsqft \"orsqft\" true true false 8 Double 0 0,First,#,baseyearHH_FeatureToPoint,orsqft,-1,-1;\n",
    "                   onrsqft \"onrsqft\" true true false 8 Double 0 0,First,#,baseyearHH_FeatureToPoint,onrsqft,-1,-1;\n",
    "                   odu \"odu\" true true false 8 Double 0 0,First,#,baseyearHH_FeatureToPoint,odu,-1,-1;\n",
    "                   zid \"zid\" true true false 8 Double 0 0,First,#,baseyearHH_FeatureToPoint,zid,-1,-1;\n",
    "                   rezoned \"rezoned\" true true false 8 Double 0 0,First,#,baseyearHH_FeatureToPoint,rezoned,-1,-1;\n",
    "                   city \"city\" true true false 80 Text 0 0,First,#,baseyearHH_FeatureToPoint,city,0,80;\n",
    "                   annexed \"annexed\" true true false 8 Double 0 0,First,#,baseyearHH_FeatureToPoint,annexed,-1,-1;\n",
    "                   ozid \"ozid\" true true false 8 Double 0 0,First,#,baseyearHH_FeatureToPoint,ozid,-1,-1;\n",
    "                   AreaPerJob \"AreaPerJob\" true true false 8 Double 0 0,First,#,baseyearHH_FeatureToPoint,AreaPerJob,-1,-1;\n",
    "                   isNonRes \"isNonRes\" true true false 4 Long 0 0,First,#,baseyearHH_FeatureToPoint,isNonRes,-1,-1;\n",
    "                   jobs \"jobs\" true true false 8 Double 0 0,First,#,baseyearHH_FeatureToPoint,jobs,-1,-1;\n",
    "                   ojobs \"ojobs\" true true false 8 Double 0 0,First,#,baseyearHH_FeatureToPoint,ojobs,-1,-1;\n",
    "                   hh \"hh\" true true false 8 Double 0 0,First,#,baseyearHH_FeatureToPoint,hh,-1,-1;\n",
    "                   ohh \"ohh\" true true false 8 Double 0 0,First,#,baseyearHH_FeatureToPoint,ohh,-1,-1;\n",
    "                   ORIG_FID \"ORIG_FID\" true true false 4 Long 0 0,First,#,baseyearHH_FeatureToPoint,ORIG_FID,-1,-1;\n",
    "                    baseyearJobs_FeatureToPoint_ojobs \"ojobs\" true true false 8 Double 0 0,Sum,#,joinedtable,\n",
    "                    baseyearJobs_FeatureToPoint_ojobs,-1,-1;\n",
    "                  Shape_Length \"Shape_Length\" false true true 8 Double 0 0,First,#,joinedtable,Shape_Length,-1,-1;\n",
    "                  Shape_Area \"Shape_Area\" false true true 8 Double 0 0,First,#,joinedtable,Shape_Area,-1,-1''', \n",
    "                           \"COMPLETELY_WITHIN\", None, '')\n",
    "later = datetime.datetime.now()\n",
    "elapsed = later - now\n",
    "print(elapsed)"
   ]
  },
  {
   "cell_type": "code",
   "execution_count": null,
   "metadata": {},
   "outputs": [],
   "source": []
  },
  {
   "cell_type": "code",
   "execution_count": null,
   "metadata": {},
   "outputs": [],
   "source": []
  },
  {
   "cell_type": "code",
   "execution_count": null,
   "metadata": {},
   "outputs": [],
   "source": []
  }
 ],
 "metadata": {
  "kernelspec": {
   "display_name": "Python 3",
   "language": "python",
   "name": "python3"
  },
  "language_info": {
   "codemirror_mode": {
    "name": "ipython",
    "version": 3
   },
   "file_extension": ".py",
   "mimetype": "text/x-python",
   "name": "python",
   "nbconvert_exporter": "python",
   "pygments_lexer": "ipython3",
   "version": "3.7.9"
  }
 },
 "nbformat": 4,
 "nbformat_minor": 4
}

{
 "cells": [
  {
   "cell_type": "code",
   "execution_count": 1,
   "metadata": {},
   "outputs": [],
   "source": [
    "import arcpy, os, datetime\n",
    "from arcpy import env"
   ]
  },
  {
   "cell_type": "code",
   "execution_count": 2,
   "metadata": {},
   "outputs": [],
   "source": [
    "# need to restart the kernel after updating the function\n",
    "import AccessibilitySpatialAnalysis as asa"
   ]
  },
  {
   "cell_type": "code",
   "execution_count": 3,
   "metadata": {},
   "outputs": [],
   "source": [
    "env.workspace = r\"T:\\MPO\\RTP\\FY20 2045 Update\\Data and Resources\\Network_Analysis\\Network_Analysis.gdb\"\n",
    "env.overwriteOutput = True"
   ]
  },
  {
   "cell_type": "code",
   "execution_count": 4,
   "metadata": {},
   "outputs": [],
   "source": [
    "# 2 years * 3 AOI * 2 travel modes * 2 services\n",
    "layer_names = [\"baseyearHH_FeatureToPoint\", \"forecastHH_FeatureToPoint\"]\n",
    "jobfields = [\"ojobs\", \"jobs\"]\n",
    "AOIs = [\"MPO\", \"EFA\", \"NEFA\"]\n",
    "travel_modes = [\"Biking\", \"Walking\"]\n",
    "sas = [\"Jobs\", \"Amenities\"]\n",
    "years = [2020, 2045]"
   ]
  },
  {
   "cell_type": "code",
   "execution_count": 5,
   "metadata": {},
   "outputs": [
    {
     "name": "stdout",
     "output_type": "stream",
     "text": [
      "Spatial analysis for Jobs by Biking in MPO in 2020...\n",
      "Getting a join table between service area and job points...\n",
      "Completed...\n",
      "Getting the household points within the MPO boundary...\n",
      "Getting a spatial join between the selected household points and service area joined table...\n",
      "Completed spatial analysis for Jobs by Biking in MPO in 2020 completed with 0:06:12.366017 seconds...\n",
      "Spatial analysis for Jobs by Walking in MPO in 2020...\n",
      "Getting a join table between service area and job points...\n",
      "Completed...\n",
      "Getting the household points within the MPO boundary...\n",
      "Getting a spatial join between the selected household points and service area joined table...\n",
      "Completed spatial analysis for Jobs by Walking in MPO in 2020 completed with 0:01:18.922249 seconds...\n",
      "Spatial analysis for Amenities by Biking in MPO in 2020...\n",
      "Getting the household points within the MPO boundary...\n",
      "Getting a spatial join between the selected household points and service area joined table...\n",
      "Completed spatial analysis for Amenities by Biking in MPO in 2020 completed with 0:05:51.400177 seconds...\n",
      "Spatial analysis for Amenities by Walking in MPO in 2020...\n",
      "Getting the household points within the MPO boundary...\n",
      "Getting a spatial join between the selected household points and service area joined table...\n",
      "Completed spatial analysis for Amenities by Walking in MPO in 2020 completed with 0:01:04.164577 seconds...\n",
      "Spatial analysis for Jobs by Biking in EFA in 2020...\n",
      "Getting a join table between service area and job points...\n",
      "Completed...\n",
      "Getting the household points within the equity focused areas...\n",
      "Getting a spatial join between the selected household points and service area joined table...\n",
      "Completed spatial analysis for Jobs by Biking in EFA in 2020 completed with 0:01:55.273898 seconds...\n",
      "Spatial analysis for Jobs by Walking in EFA in 2020...\n",
      "Getting a join table between service area and job points...\n",
      "Completed...\n",
      "Getting the household points within the equity focused areas...\n",
      "Getting a spatial join between the selected household points and service area joined table...\n",
      "Completed spatial analysis for Jobs by Walking in EFA in 2020 completed with 0:00:40.954726 seconds...\n",
      "Spatial analysis for Amenities by Biking in EFA in 2020...\n",
      "Getting the household points within the equity focused areas...\n",
      "Getting a spatial join between the selected household points and service area joined table...\n",
      "Completed spatial analysis for Amenities by Biking in EFA in 2020 completed with 0:01:43.654990 seconds...\n",
      "Spatial analysis for Amenities by Walking in EFA in 2020...\n",
      "Getting the household points within the equity focused areas...\n",
      "Getting a spatial join between the selected household points and service area joined table...\n",
      "Completed spatial analysis for Amenities by Walking in EFA in 2020 completed with 0:00:28.916461 seconds...\n",
      "Spatial analysis for Jobs by Biking in NEFA in 2020...\n",
      "Getting a join table between service area and job points...\n",
      "Completed...\n",
      "Getting the household points within the equity focused areas...\n",
      "Switching the household points to the non-equtiy focused areas within MPO...\n",
      "Getting a spatial join between the selected household points and service area joined table...\n",
      "Completed spatial analysis for Jobs by Biking in NEFA in 2020 completed with 0:05:23.700470 seconds...\n",
      "Spatial analysis for Jobs by Walking in NEFA in 2020...\n",
      "Getting a join table between service area and job points...\n",
      "Completed...\n",
      "Getting the household points within the equity focused areas...\n",
      "Switching the household points to the non-equtiy focused areas within MPO...\n",
      "Getting a spatial join between the selected household points and service area joined table...\n",
      "Completed spatial analysis for Jobs by Walking in NEFA in 2020 completed with 0:01:06.774317 seconds...\n",
      "Spatial analysis for Amenities by Biking in NEFA in 2020...\n",
      "Getting the household points within the equity focused areas...\n",
      "Switching the household points to the non-equtiy focused areas within MPO...\n",
      "Getting a spatial join between the selected household points and service area joined table...\n",
      "Completed spatial analysis for Amenities by Biking in NEFA in 2020 completed with 0:05:02.336161 seconds...\n",
      "Spatial analysis for Amenities by Walking in NEFA in 2020...\n",
      "Getting the household points within the equity focused areas...\n",
      "Switching the household points to the non-equtiy focused areas within MPO...\n",
      "Getting a spatial join between the selected household points and service area joined table...\n",
      "Completed spatial analysis for Amenities by Walking in NEFA in 2020 completed with 0:00:55.705258 seconds...\n",
      "Spatial analysis for Jobs by Biking in MPO in 2045...\n",
      "Getting a join table between service area and job points...\n",
      "Completed...\n",
      "Getting the household points within the MPO boundary...\n",
      "Getting a spatial join between the selected household points and service area joined table...\n",
      "Completed spatial analysis for Jobs by Biking in MPO in 2045 completed with 0:06:35.669499 seconds...\n",
      "Spatial analysis for Jobs by Walking in MPO in 2045...\n",
      "Getting a join table between service area and job points...\n",
      "Completed...\n",
      "Getting the household points within the MPO boundary...\n",
      "Getting a spatial join between the selected household points and service area joined table...\n",
      "Completed spatial analysis for Jobs by Walking in MPO in 2045 completed with 0:01:13.670753 seconds...\n",
      "Spatial analysis for Amenities by Biking in MPO in 2045...\n",
      "Getting the household points within the MPO boundary...\n",
      "Getting a spatial join between the selected household points and service area joined table...\n",
      "Completed spatial analysis for Amenities by Biking in MPO in 2045 completed with 0:06:15.621607 seconds...\n",
      "Spatial analysis for Amenities by Walking in MPO in 2045...\n",
      "Getting the household points within the MPO boundary...\n",
      "Getting a spatial join between the selected household points and service area joined table...\n",
      "Completed spatial analysis for Amenities by Walking in MPO in 2045 completed with 0:01:00.599832 seconds...\n",
      "Spatial analysis for Jobs by Biking in EFA in 2045...\n",
      "Getting a join table between service area and job points...\n",
      "Completed...\n",
      "Getting the household points within the equity focused areas...\n",
      "Getting a spatial join between the selected household points and service area joined table...\n",
      "Completed spatial analysis for Jobs by Biking in EFA in 2045 completed with 0:01:54.987478 seconds...\n",
      "Spatial analysis for Jobs by Walking in EFA in 2045...\n",
      "Getting a join table between service area and job points...\n",
      "Completed...\n",
      "Getting the household points within the equity focused areas...\n",
      "Getting a spatial join between the selected household points and service area joined table...\n",
      "Completed spatial analysis for Jobs by Walking in EFA in 2045 completed with 0:00:32.489950 seconds...\n",
      "Spatial analysis for Amenities by Biking in EFA in 2045...\n",
      "Getting the household points within the equity focused areas...\n",
      "Getting a spatial join between the selected household points and service area joined table...\n",
      "Completed spatial analysis for Amenities by Biking in EFA in 2045 completed with 0:01:41.146476 seconds...\n",
      "Spatial analysis for Amenities by Walking in EFA in 2045...\n",
      "Getting the household points within the equity focused areas...\n",
      "Getting a spatial join between the selected household points and service area joined table...\n",
      "Completed spatial analysis for Amenities by Walking in EFA in 2045 completed with 0:00:22.465324 seconds...\n",
      "Spatial analysis for Jobs by Biking in NEFA in 2045...\n",
      "Getting a join table between service area and job points...\n",
      "Completed...\n",
      "Getting the household points within the equity focused areas...\n",
      "Switching the household points to the non-equtiy focused areas within MPO...\n",
      "Getting a spatial join between the selected household points and service area joined table...\n",
      "Completed spatial analysis for Jobs by Biking in NEFA in 2045 completed with 0:05:49.279797 seconds...\n",
      "Spatial analysis for Jobs by Walking in NEFA in 2045...\n",
      "Getting a join table between service area and job points...\n",
      "Completed...\n",
      "Getting the household points within the equity focused areas...\n",
      "Switching the household points to the non-equtiy focused areas within MPO...\n",
      "Getting a spatial join between the selected household points and service area joined table...\n"
     ]
    },
    {
     "name": "stdout",
     "output_type": "stream",
     "text": [
      "Completed spatial analysis for Jobs by Walking in NEFA in 2045 completed with 0:01:09.883412 seconds...\n",
      "Spatial analysis for Amenities by Biking in NEFA in 2045...\n",
      "Getting the household points within the equity focused areas...\n",
      "Switching the household points to the non-equtiy focused areas within MPO...\n",
      "Getting a spatial join between the selected household points and service area joined table...\n",
      "Completed spatial analysis for Amenities by Biking in NEFA in 2045 completed with 0:05:23.705875 seconds...\n",
      "Spatial analysis for Amenities by Walking in NEFA in 2045...\n",
      "Getting the household points within the equity focused areas...\n",
      "Switching the household points to the non-equtiy focused areas within MPO...\n",
      "Getting a spatial join between the selected household points and service area joined table...\n",
      "Completed spatial analysis for Amenities by Walking in NEFA in 2045 completed with 0:00:58.665515 seconds...\n"
     ]
    }
   ],
   "source": [
    "for layer_name in layer_names:\n",
    "    for AOI in AOIs:\n",
    "        for sa in sas:\n",
    "            for travel_mode in travel_modes:\n",
    "                asa.AccessibilitySpatialJoin(layer_name = layer_name,\n",
    "                    AOI = AOI,\n",
    "                    jobfield = jobfields[layer_names.index(layer_name)],\n",
    "                    service = sa,\n",
    "                    travel_mode = travel_mode,\n",
    "                    year = years[layer_names.index(layer_name)])"
   ]
  },
  {
   "cell_type": "code",
   "execution_count": null,
   "metadata": {},
   "outputs": [],
   "source": []
  },
  {
   "cell_type": "code",
   "execution_count": null,
   "metadata": {},
   "outputs": [],
   "source": []
  },
  {
   "cell_type": "code",
   "execution_count": null,
   "metadata": {},
   "outputs": [],
   "source": []
  },
  {
   "cell_type": "code",
   "execution_count": null,
   "metadata": {},
   "outputs": [],
   "source": []
  },
  {
   "cell_type": "code",
   "execution_count": null,
   "metadata": {},
   "outputs": [],
   "source": []
  }
 ],
 "metadata": {
  "kernelspec": {
   "display_name": "Python 3",
   "language": "python",
   "name": "python3"
  },
  "language_info": {
   "codemirror_mode": {
    "name": "ipython",
    "version": 3
   },
   "file_extension": ".py",
   "mimetype": "text/x-python",
   "name": "python",
   "nbconvert_exporter": "python",
   "pygments_lexer": "ipython3",
   "version": "3.7.9"
  }
 },
 "nbformat": 4,
 "nbformat_minor": 4
}

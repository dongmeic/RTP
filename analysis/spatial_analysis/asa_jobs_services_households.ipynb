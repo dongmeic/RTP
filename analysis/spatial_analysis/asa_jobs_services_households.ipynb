{
 "cells": [
  {
   "cell_type": "code",
   "execution_count": 1,
   "metadata": {},
   "outputs": [],
   "source": [
    "import arcpy, os, datetime\n",
    "from arcpy import env"
   ]
  },
  {
   "cell_type": "code",
   "execution_count": 3,
   "metadata": {},
   "outputs": [
    {
     "ename": "NameError",
     "evalue": "name 'path' is not defined",
     "output_type": "error",
     "traceback": [
      "\u001b[1;31m---------------------------------------------------------------------------\u001b[0m",
      "\u001b[1;31mNameError\u001b[0m                                 Traceback (most recent call last)",
      "\u001b[1;32m<ipython-input-3-31541657187b>\u001b[0m in \u001b[0;36m<module>\u001b[1;34m\u001b[0m\n\u001b[1;32m----> 1\u001b[1;33m \u001b[1;32mimport\u001b[0m \u001b[0mAccessibilitySpatialAnalysis\u001b[0m \u001b[1;32mas\u001b[0m \u001b[0masa\u001b[0m\u001b[1;33m\u001b[0m\u001b[1;33m\u001b[0m\u001b[0m\n\u001b[0m",
      "\u001b[1;32mT:\\GitHub\\RTP\\analysis\\spatial_analysis\\AccessibilitySpatialAnalysis.py\u001b[0m in \u001b[0;36m<module>\u001b[1;34m\u001b[0m\n\u001b[0;32m     76\u001b[0m                                  \u001b[0mnewfield\u001b[0m \u001b[1;33m=\u001b[0m \u001b[1;34m\"sa_jobs\"\u001b[0m\u001b[1;33m,\u001b[0m\u001b[1;33m\u001b[0m\u001b[1;33m\u001b[0m\u001b[0m\n\u001b[0;32m     77\u001b[0m                                  \u001b[0mAOI\u001b[0m \u001b[1;33m=\u001b[0m \u001b[1;34m\"MPO\"\u001b[0m\u001b[1;33m,\u001b[0m\u001b[1;33m\u001b[0m\u001b[1;33m\u001b[0m\u001b[0m\n\u001b[1;32m---> 78\u001b[1;33m                                  \u001b[0mbound\u001b[0m \u001b[1;33m=\u001b[0m \u001b[0mos\u001b[0m\u001b[1;33m.\u001b[0m\u001b[0mpath\u001b[0m\u001b[1;33m.\u001b[0m\u001b[0mjoin\u001b[0m\u001b[1;33m(\u001b[0m\u001b[0mpath\u001b[0m\u001b[1;33m,\u001b[0m \u001b[1;34m\"equity_area.shp\"\u001b[0m\u001b[1;33m)\u001b[0m\u001b[1;33m,\u001b[0m\u001b[1;33m\u001b[0m\u001b[1;33m\u001b[0m\u001b[0m\n\u001b[0m\u001b[0;32m     79\u001b[0m                                  \u001b[0mpoint_layer\u001b[0m \u001b[1;33m=\u001b[0m \u001b[1;34m\"baseyearJobs_FeatureToPoint\"\u001b[0m\u001b[1;33m,\u001b[0m\u001b[1;33m\u001b[0m\u001b[1;33m\u001b[0m\u001b[0m\n\u001b[0;32m     80\u001b[0m                                  \u001b[0mjobfield\u001b[0m \u001b[1;33m=\u001b[0m \u001b[1;34m\"jobs\"\u001b[0m\u001b[1;33m,\u001b[0m\u001b[1;33m\u001b[0m\u001b[1;33m\u001b[0m\u001b[0m\n",
      "\u001b[1;31mNameError\u001b[0m: name 'path' is not defined"
     ]
    }
   ],
   "source": [
    "import AccessibilitySpatialAnalysis as asa"
   ]
  },
  {
   "cell_type": "code",
   "execution_count": 3,
   "metadata": {},
   "outputs": [],
   "source": [
    "env.workspace = r\"T:\\MPO\\RTP\\FY20 2045 Update\\Data and Resources\\Network_Analysis\\Network_Analysis.gdb\"\n",
    "env.overwriteOutput = True"
   ]
  },
  {
   "cell_type": "code",
   "execution_count": 5,
   "metadata": {},
   "outputs": [],
   "source": [
    "# 2 years * 3 AOI * 2 travel modes * 2 services\n",
    "layer_names = [\"baseyearHH_FeatureToPoint\", \"forecastHH_FeatureToPoint\"]\n",
    "jobfields = [\"ojobs\", \"jobs\"]\n",
    "AOIs = [\"MPO\", \"EFA\", \"NEFA\"]\n",
    "travel_modes = [\"Biking\", \"Walking\"]\n",
    "sas = [\"Jobs\", \"Amenities\"]\n",
    "years = [2020, 2045]"
   ]
  },
  {
   "cell_type": "code",
   "execution_count": null,
   "metadata": {},
   "outputs": [
    {
     "name": "stdout",
     "output_type": "stream",
     "text": [
      "Getting a join table between service area and job points...\n",
      "Completed...\n",
      "Getting a spatial join between household points and service area joined table...\n"
     ]
    }
   ],
   "source": [
    "for layer_name in layer_names:\n",
    "    for AOI in AOIs:\n",
    "        for sa in sas:\n",
    "            for travel_mode in travel_modes:\n",
    "                asa.AccessibilitySpatialJoin(layer_name = layer_name,\n",
    "                    AOI = AOI,\n",
    "                    jobfield = jobfields[layer_names.index(layer_name)],\n",
    "                    service = sa,\n",
    "                    travel_mode = travel_mode,\n",
    "                    year = years[layer_names.index(layer_name)])"
   ]
  },
  {
   "cell_type": "code",
   "execution_count": null,
   "metadata": {},
   "outputs": [],
   "source": []
  },
  {
   "cell_type": "code",
   "execution_count": null,
   "metadata": {},
   "outputs": [],
   "source": []
  },
  {
   "cell_type": "code",
   "execution_count": null,
   "metadata": {},
   "outputs": [],
   "source": []
  },
  {
   "cell_type": "code",
   "execution_count": null,
   "metadata": {},
   "outputs": [],
   "source": []
  },
  {
   "cell_type": "code",
   "execution_count": null,
   "metadata": {},
   "outputs": [],
   "source": []
  },
  {
   "cell_type": "code",
   "execution_count": null,
   "metadata": {},
   "outputs": [],
   "source": []
  }
 ],
 "metadata": {
  "kernelspec": {
   "display_name": "Python 3",
   "language": "python",
   "name": "python3"
  },
  "language_info": {
   "codemirror_mode": {
    "name": "ipython",
    "version": 3
   },
   "file_extension": ".py",
   "mimetype": "text/x-python",
   "name": "python",
   "nbconvert_exporter": "python",
   "pygments_lexer": "ipython3",
   "version": "3.7.9"
  }
 },
 "nbformat": 4,
 "nbformat_minor": 4
}

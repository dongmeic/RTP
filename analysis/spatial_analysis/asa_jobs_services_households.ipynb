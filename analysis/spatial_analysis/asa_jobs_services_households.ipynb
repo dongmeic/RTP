{
 "cells": [
  {
   "cell_type": "code",
   "execution_count": null,
   "metadata": {},
   "outputs": [],
   "source": [
    "import os, datetime\n",
    "import AccessibilitySpatialAnalysis as asa"
   ]
  },
  {
   "cell_type": "code",
   "execution_count": null,
   "metadata": {},
   "outputs": [],
   "source": [
    "env.workspace = r\"T:\\MPO\\RTP\\FY20 2045 Update\\Data and Resources\\Network_Analysis\\Network_Analysis.gdb\"\n",
    "env.overwriteOutput = True"
   ]
  },
  {
   "cell_type": "code",
   "execution_count": 24,
   "metadata": {},
   "outputs": [],
   "source": [
    "layer_names = [\"baseyear_hh\", \"forecast_hh\"]\n",
    "conditions = [\"ohh > 0\", \"hh > 0\"]\n",
    "jobfields = [\"ojobs\", \"jobs\"]\n",
    "AOIs = [\"MPO\", \"EFA\", \"NEFA\"]\n",
    "newfields = [\"sa_\", \"efa_\", \"nefa_\"]\n",
    "sa_point_layers = [\"baseyearJobs_FeatureToPoint\", \"forecastJobs_FeatureToPoint\"]\n",
    "travel_modes = [\"Biking\", \"Walking\"]\n",
    "sas = [\"Jobs\", \"Amenities\"]\n",
    "sa_layer_nms = [\"\", \"2045\"]\n",
    "years = [2020, 2045]"
   ]
  },
  {
   "cell_type": "code",
   "execution_count": 22,
   "metadata": {},
   "outputs": [
    {
     "data": {
      "text/plain": [
       "'ohh > 0'"
      ]
     },
     "execution_count": 22,
     "metadata": {},
     "output_type": "execute_result"
    }
   ],
   "source": [
    "conditions[layer_names.index(\"baseyear_hh\")]"
   ]
  },
  {
   "cell_type": "code",
   "execution_count": null,
   "metadata": {},
   "outputs": [],
   "source": []
  },
  {
   "cell_type": "code",
   "execution_count": null,
   "metadata": {},
   "outputs": [],
   "source": [
    "asa.AccessibilitySpatialAnalysis(layer_name = \"baseyear_hh\",\n",
    "                                 condition = \"ohh > 0\",\n",
    "                                 newfield = \"sa_ojobs\",\n",
    "                                 sa_layer = \"SABikingJobs\",\n",
    "                                 AOI = \"MPO\",\n",
    "                                 bound = os.path.join(path, \"equity_area.shp\"),\n",
    "                                 sa_point_layer = \"baseyearJobs_FeatureToPoint\",\n",
    "                                 jobfield = \"jobs\",\n",
    "                                 service = \"Jobs\",\n",
    "                                 travel_mode = \"Biking\",\n",
    "                                 year = 2020)"
   ]
  },
  {
   "cell_type": "code",
   "execution_count": null,
   "metadata": {},
   "outputs": [],
   "source": [
    "for layer_name in layer_names:\n",
    "    for AOI in AOIs:\n",
    "        for sa in sas:\n",
    "            for travel_mode in travel_modes:\n",
    "                now = datetime.datetime.now()\n",
    "                asa.AccessibilitySpatialAnalysis(layer_name = layer_name,\n",
    "                    condition = conditions[layer_names.index(layer_name)],\n",
    "                    newfield = newfields[AOIs.index(AOI)] + jobfields[layer_names.index(layer_name)],\n",
    "                    sa_layer = \"SA\" + travel_mode + sa + sa_layer_nms[layer_names.index(layer_name)],\n",
    "                    AOI = AOI,\n",
    "                    bound = os.path.join(path, \"equity_area.shp\"),\n",
    "                    sa_point_layer = sa_point_layers[layer_names.index(layer_name)],\n",
    "                    jobfield = jobfields[layer_names.index(layer_name)])\n",
    "                later = datetime.datetime.now()\n",
    "                elapsed = later - now\n",
    "                print(\"Calculated {0} \")"
   ]
  },
  {
   "cell_type": "code",
   "execution_count": null,
   "metadata": {},
   "outputs": [],
   "source": [
    "asa.AccessibilitySpatialAnalysis(layer_name = \"forecast_hh\",\n",
    "                                 condition = \"hh > 0\",\n",
    "                                 newfield = \"sa_jobs\",\n",
    "                                 sa_layer = \"SABikingJobs\",\n",
    "                                 AOI = \"MPO\",\n",
    "                                 bound = os.path.join(path, \"equity_area.shp\"),\n",
    "                                 sa_point_layer = \"forecastJobs_FeatureToPoint\",\n",
    "                                 jobfield = \"jobs\")"
   ]
  },
  {
   "cell_type": "code",
   "execution_count": null,
   "metadata": {},
   "outputs": [],
   "source": [
    "asa.AccessibilitySpatialAnalysis(layer_name = \"baseyear_hh\",\n",
    "                                 condition = \"ohh > 0\",\n",
    "                                 newfield = \"sa_ojobs\",\n",
    "                                 sa_layer = \"SABikingJobs\",\n",
    "                                 AOI = \"EFA\",\n",
    "                                 bound = os.path.join(path, \"equity_area.shp\"),\n",
    "                                 sa_point_layer = \"baseyearJobs_FeatureToPoint\",\n",
    "                                 jobfield = \"ojobs\")"
   ]
  },
  {
   "cell_type": "code",
   "execution_count": null,
   "metadata": {},
   "outputs": [],
   "source": []
  },
  {
   "cell_type": "code",
   "execution_count": null,
   "metadata": {},
   "outputs": [],
   "source": []
  },
  {
   "cell_type": "code",
   "execution_count": null,
   "metadata": {},
   "outputs": [],
   "source": []
  },
  {
   "cell_type": "code",
   "execution_count": null,
   "metadata": {},
   "outputs": [],
   "source": []
  },
  {
   "cell_type": "code",
   "execution_count": null,
   "metadata": {},
   "outputs": [],
   "source": []
  },
  {
   "cell_type": "code",
   "execution_count": null,
   "metadata": {},
   "outputs": [],
   "source": []
  }
 ],
 "metadata": {
  "kernelspec": {
   "display_name": "Python 3",
   "language": "python",
   "name": "python3"
  },
  "language_info": {
   "codemirror_mode": {
    "name": "ipython",
    "version": 3
   },
   "file_extension": ".py",
   "mimetype": "text/x-python",
   "name": "python",
   "nbconvert_exporter": "python",
   "pygments_lexer": "ipython3",
   "version": "3.7.9"
  }
 },
 "nbformat": 4,
 "nbformat_minor": 4
}

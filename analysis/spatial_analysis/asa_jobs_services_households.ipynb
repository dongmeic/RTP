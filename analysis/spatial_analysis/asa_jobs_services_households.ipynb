{
 "cells": [
  {
   "cell_type": "code",
   "execution_count": null,
   "metadata": {},
   "outputs": [],
   "source": [
    "import os\n",
    "import AccessibilitySpatialAnalysis as asa"
   ]
  },
  {
   "cell_type": "code",
   "execution_count": null,
   "metadata": {},
   "outputs": [],
   "source": [
    "env.workspace = r\"T:\\MPO\\RTP\\FY20 2045 Update\\Data and Resources\\Network_Analysis\\Network_Analysis.gdb\"\n",
    "env.overwriteOutput = True"
   ]
  },
  {
   "cell_type": "code",
   "execution_count": null,
   "metadata": {},
   "outputs": [],
   "source": [
    "layer_names = [\"baseyear_hh\", ]"
   ]
  },
  {
   "cell_type": "code",
   "execution_count": null,
   "metadata": {},
   "outputs": [],
   "source": [
    "asa.AccessibilitySpatialAnalysis(layer_name = \"baseyear_hh\",\n",
    "                                 condition = \"ohh > 0\",\n",
    "                                 newfield = \"sa_ojobs\",\n",
    "                                 sa_layer = \"SABikingJobs\",\n",
    "                                 AOI = \"MPO',\n",
    "                                 bound = os.path.join(path, \"equity_area.shp\"),\n",
    "                                 sa_point_layer = \"baseyearJobs_FeatureToPoint\",\n",
    "                                 jobfield = \"ojobs\")"
   ]
  },
  {
   "cell_type": "code",
   "execution_count": null,
   "metadata": {},
   "outputs": [],
   "source": [
    "asa.AccessibilitySpatialAnalysis(layer_name = \"forecast_hh\",\n",
    "                                 condition = \"hh > 0\",\n",
    "                                 newfield = \"sa_jobs\",\n",
    "                                 sa_layer = \"SABikingJobs\",\n",
    "                                 AOI = \"MPO',\n",
    "                                 bound = os.path.join(path, \"equity_area.shp\"),\n",
    "                                 sa_point_layer = \"forecastJobs_FeatureToPoint\",\n",
    "                                 jobfield = \"jobs\")"
   ]
  },
  {
   "cell_type": "code",
   "execution_count": null,
   "metadata": {},
   "outputs": [],
   "source": [
    "asa.AccessibilitySpatialAnalysis(layer_name = \"baseyear_hh\",\n",
    "                                 condition = \"ohh > 0\",\n",
    "                                 newfield = \"sa_ojobs\",\n",
    "                                 sa_layer = \"SABikingJobs\",\n",
    "                                 AOI = \"MPO',\n",
    "                                 bound = os.path.join(path, \"equity_area.shp\"),\n",
    "                                 sa_point_layer = \"baseyearJobs_FeatureToPoint\",\n",
    "                                 jobfield = \"ojobs\")"
   ]
  },
  {
   "cell_type": "code",
   "execution_count": null,
   "metadata": {},
   "outputs": [],
   "source": []
  },
  {
   "cell_type": "code",
   "execution_count": null,
   "metadata": {},
   "outputs": [],
   "source": []
  },
  {
   "cell_type": "code",
   "execution_count": null,
   "metadata": {},
   "outputs": [],
   "source": []
  },
  {
   "cell_type": "code",
   "execution_count": null,
   "metadata": {},
   "outputs": [],
   "source": []
  },
  {
   "cell_type": "code",
   "execution_count": null,
   "metadata": {},
   "outputs": [],
   "source": []
  },
  {
   "cell_type": "code",
   "execution_count": null,
   "metadata": {},
   "outputs": [],
   "source": []
  }
 ],
 "metadata": {
  "kernelspec": {
   "display_name": "Python 3",
   "language": "python",
   "name": "python3"
  },
  "language_info": {
   "codemirror_mode": {
    "name": "ipython",
    "version": 3
   },
   "file_extension": ".py",
   "mimetype": "text/x-python",
   "name": "python",
   "nbconvert_exporter": "python",
   "pygments_lexer": "ipython3",
   "version": "3.7.9"
  }
 },
 "nbformat": 4,
 "nbformat_minor": 4
}

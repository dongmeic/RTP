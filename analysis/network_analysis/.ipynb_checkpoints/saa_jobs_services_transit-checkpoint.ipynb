{
 "cells": [
  {
   "cell_type": "code",
   "execution_count": 7,
   "metadata": {},
   "outputs": [],
   "source": [
    "import os\n",
    "import ServiceAreaAnalysis as saa"
   ]
  },
  {
   "cell_type": "code",
   "execution_count": 8,
   "metadata": {},
   "outputs": [
    {
     "name": "stdout",
     "output_type": "stream",
     "text": [
      "Creating service area analysis layer...\n",
      "Done...\n",
      "Adding facilities...\n",
      "Done...\n",
      "Solving service area...\n",
      "Done...\n",
      "0:04:53.750410\n",
      "Exporting service area polygons...\n",
      "Done...\n"
     ]
    }
   ],
   "source": [
    "saa.ServiceAreaAnalysis(layer_name = \"Service Area\", \n",
    "                    impedance = \"Biking by distance\",\n",
    "                    dist = 17582.4,\n",
    "                    facilities = \"baseyearJobs_FeatureToPoint\",\n",
    "                    mode = \"Biking\",\n",
    "                    destination = \"Jobs\")"
   ]
  },
  {
   "cell_type": "code",
   "execution_count": 5,
   "metadata": {},
   "outputs": [
    {
     "name": "stdout",
     "output_type": "stream",
     "text": [
      "Creating service area analysis layer...\n",
      "Done...\n",
      "Adding facilities...\n",
      "Done...\n",
      "Solving service area...\n",
      "Done...\n",
      "0:05:33.097524\n",
      "Exporting service area polygons...\n",
      "Done...\n"
     ]
    }
   ],
   "source": [
    "saa.ServiceAreaAnalysis(layer_name = \"Service Area\", \n",
    "                    impedance = \"Biking by distance\",\n",
    "                    dist = 17582.4,\n",
    "                    facilities = \"forecastJobs_FeatureToPoint\",\n",
    "                    mode = \"Biking\",\n",
    "                    destination = \"Jobs2045\")"
   ]
  },
  {
   "cell_type": "code",
   "execution_count": 12,
   "metadata": {},
   "outputs": [
    {
     "name": "stdout",
     "output_type": "stream",
     "text": [
      "Creating service area analysis layer...\n",
      "Done...\n",
      "Adding facilities...\n",
      "Done...\n",
      "Solving service area...\n",
      "Done...\n",
      "0:05:29.951163\n",
      "Exporting service area polygons...\n",
      "Done...\n"
     ]
    }
   ],
   "source": [
    "saa.ServiceAreaAnalysis(layer_name = \"Service Area\", \n",
    "                    impedance = \"Biking by distance\",\n",
    "                    dist = 17582.4,\n",
    "                    facilities = os.path.join(input_folder, \"baseyear_amenities.shp\"),\n",
    "                    mode = \"Biking\",\n",
    "                    destination = \"Amenities\")"
   ]
  },
  {
   "cell_type": "code",
   "execution_count": 13,
   "metadata": {},
   "outputs": [
    {
     "name": "stdout",
     "output_type": "stream",
     "text": [
      "Creating service area analysis layer...\n",
      "Done...\n",
      "Adding facilities...\n",
      "Done...\n",
      "Solving service area...\n",
      "Done...\n",
      "0:05:56.360132\n",
      "Exporting service area polygons...\n",
      "Done...\n"
     ]
    }
   ],
   "source": [
    "saa.ServiceAreaAnalysis(layer_name = \"Service Area\", \n",
    "                    impedance = \"Biking by distance\",\n",
    "                    dist = 17582.4,\n",
    "                    facilities = os.path.join(input_folder, \"forecast_amenities.shp\"),\n",
    "                    mode = \"Biking\",\n",
    "                    destination = \"Amenities2045\")"
   ]
  },
  {
   "cell_type": "code",
   "execution_count": 14,
   "metadata": {},
   "outputs": [
    {
     "name": "stdout",
     "output_type": "stream",
     "text": [
      "Creating service area analysis layer...\n",
      "Done...\n",
      "Adding facilities...\n",
      "Done...\n",
      "Solving service area...\n",
      "Done...\n",
      "0:01:28.650213\n",
      "Exporting service area polygons...\n",
      "Done...\n"
     ]
    }
   ],
   "source": [
    "saa.ServiceAreaAnalysis(layer_name = \"Service Area\", \n",
    "                    impedance = \"Walking by distance\",\n",
    "                    dist = 3960,\n",
    "                    facilities = \"baseyearJobs_FeatureToPoint\",\n",
    "                    mode = \"Walking\",\n",
    "                    destination = \"Jobs\")"
   ]
  },
  {
   "cell_type": "code",
   "execution_count": 15,
   "metadata": {},
   "outputs": [
    {
     "name": "stdout",
     "output_type": "stream",
     "text": [
      "Creating service area analysis layer...\n",
      "Done...\n",
      "Adding facilities...\n",
      "Done...\n",
      "Solving service area...\n",
      "Done...\n",
      "0:01:37.002705\n",
      "Exporting service area polygons...\n",
      "Done...\n"
     ]
    }
   ],
   "source": [
    "saa.ServiceAreaAnalysis(layer_name = \"Service Area\", \n",
    "                    impedance = \"Walking by distance\",\n",
    "                    dist = 3960,\n",
    "                    facilities = \"forecastJobs_FeatureToPoint\",\n",
    "                    mode = \"Walking\",\n",
    "                    destination = \"Jobs2045\")"
   ]
  },
  {
   "cell_type": "code",
   "execution_count": 16,
   "metadata": {},
   "outputs": [
    {
     "name": "stdout",
     "output_type": "stream",
     "text": [
      "Creating service area analysis layer...\n",
      "Done...\n",
      "Adding facilities...\n",
      "Done...\n",
      "Solving service area...\n",
      "Done...\n",
      "0:02:09.952107\n",
      "Exporting service area polygons...\n",
      "Done...\n"
     ]
    }
   ],
   "source": [
    "saa.ServiceAreaAnalysis(layer_name = \"Service Area\", \n",
    "                    impedance = \"Walking by distance\",\n",
    "                    dist = 3960,\n",
    "                    facilities = os.path.join(input_folder, \"baseyear_amenities.shp\"),\n",
    "                    mode = \"Walking\",\n",
    "                    destination = \"Amenities\")"
   ]
  },
  {
   "cell_type": "code",
   "execution_count": 17,
   "metadata": {},
   "outputs": [
    {
     "name": "stdout",
     "output_type": "stream",
     "text": [
      "Creating service area analysis layer...\n",
      "Done...\n",
      "Adding facilities...\n",
      "Done...\n",
      "Solving service area...\n",
      "Done...\n",
      "0:02:19.839513\n",
      "Exporting service area polygons...\n",
      "Done...\n"
     ]
    }
   ],
   "source": [
    "saa.ServiceAreaAnalysis(layer_name = \"Service Area\", \n",
    "                    impedance = \"Walking by distance\",\n",
    "                    dist = 3960,\n",
    "                    facilities = os.path.join(input_folder, \"forecast_amenities.shp\"),\n",
    "                    mode = \"Walking\",\n",
    "                    destination = \"Amenities2045\")"
   ]
  },
  {
   "cell_type": "code",
   "execution_count": 18,
   "metadata": {},
   "outputs": [
    {
     "name": "stdout",
     "output_type": "stream",
     "text": [
      "Creating service area analysis layer...\n",
      "Done...\n",
      "Adding facilities...\n",
      "Done...\n",
      "Solving service area...\n",
      "Done...\n",
      "0:00:24.712987\n",
      "Exporting service area polygons...\n",
      "Done...\n"
     ]
    }
   ],
   "source": [
    "saa.ServiceAreaAnalysis(layer_name = \"Service Area\", \n",
    "                    impedance = \"Walking by distance\",\n",
    "                    dist = 1320,\n",
    "                    facilities = os.path.join(input_folder, \"PerformanceAnalysis\", \"service_transit_equity\", \n",
    "                                              \"transit_stops.shp\"),\n",
    "                    mode = \"Walking\",\n",
    "                    destination = \"Transit\")"
   ]
  },
  {
   "cell_type": "code",
   "execution_count": 19,
   "metadata": {},
   "outputs": [
    {
     "name": "stdout",
     "output_type": "stream",
     "text": [
      "Creating service area analysis layer...\n",
      "Done...\n",
      "Adding facilities...\n",
      "Done...\n",
      "Solving service area...\n",
      "Done...\n",
      "0:00:05.532522\n",
      "Exporting service area polygons...\n",
      "Done...\n"
     ]
    }
   ],
   "source": [
    "saa.ServiceAreaAnalysis(layer_name = \"Service Area\", \n",
    "                    impedance = \"Walking by distance\",\n",
    "                    dist = 1320,\n",
    "                    facilities = os.path.join(input_folder, \"PerformanceAnalysis\", \"service_transit_equity\", \n",
    "                                              \"high_frequency_transit.shp\"),\n",
    "                    mode = \"Walking\",\n",
    "                    destination = \"HighFreqTransit\")"
   ]
  },
  {
   "cell_type": "code",
   "execution_count": null,
   "metadata": {},
   "outputs": [],
   "source": []
  }
 ],
 "metadata": {
  "kernelspec": {
   "display_name": "Python 3",
   "language": "python",
   "name": "python3"
  },
  "language_info": {
   "codemirror_mode": {
    "name": "ipython",
    "version": 3
   },
   "file_extension": ".py",
   "mimetype": "text/x-python",
   "name": "python",
   "nbconvert_exporter": "python",
   "pygments_lexer": "ipython3",
   "version": "3.7.9"
  }
 },
 "nbformat": 4,
 "nbformat_minor": 4
}

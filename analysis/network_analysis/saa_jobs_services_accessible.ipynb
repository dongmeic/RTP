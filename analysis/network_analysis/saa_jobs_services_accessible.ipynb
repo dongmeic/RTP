{
 "cells": [
  {
   "cell_type": "code",
   "execution_count": 2,
   "metadata": {},
   "outputs": [],
   "source": [
    "import ServiceAreaAnalysis as saa"
   ]
  },
  {
   "cell_type": "code",
   "execution_count": 3,
   "metadata": {},
   "outputs": [
    {
     "name": "stdout",
     "output_type": "stream",
     "text": [
      "Creating service area analysis layer...\n",
      "Done...\n",
      "Adding facilities...\n",
      "Done...\n",
      "Solving service area...\n",
      "Done...\n",
      "0:04:46.476690\n",
      "Exporting service area polygons...\n",
      "Done...\n"
     ]
    }
   ],
   "source": [
    "saa.ServiceAreaAnalysis(layer_name = \"Service Area\", \n",
    "                    impedance = \"Biking by distance\",\n",
    "                    dist = 17582.4,\n",
    "                    facilities = \"baseyearJobs_FeatureToPoint\",\n",
    "                    mode = \"Biking\",\n",
    "                    destination = \"Jobs\")"
   ]
  },
  {
   "cell_type": "code",
   "execution_count": 5,
   "metadata": {},
   "outputs": [
    {
     "name": "stdout",
     "output_type": "stream",
     "text": [
      "Creating service area analysis layer...\n",
      "Done...\n",
      "Adding facilities...\n",
      "Done...\n",
      "Solving service area...\n",
      "Done...\n",
      "0:05:33.097524\n",
      "Exporting service area polygons...\n",
      "Done...\n"
     ]
    }
   ],
   "source": [
    "saa.ServiceAreaAnalysis(layer_name = \"Service Area\", \n",
    "                    impedance = \"Biking by distance\",\n",
    "                    dist = 17582.4,\n",
    "                    facilities = \"forecastJobs_FeatureToPoint\",\n",
    "                    mode = \"Biking\",\n",
    "                    destination = \"Jobs2045\")"
   ]
  },
  {
   "cell_type": "code",
   "execution_count": null,
   "metadata": {},
   "outputs": [],
   "source": []
  }
 ],
 "metadata": {
  "kernelspec": {
   "display_name": "Python 3",
   "language": "python",
   "name": "python3"
  },
  "language_info": {
   "codemirror_mode": {
    "name": "ipython",
    "version": 3
   },
   "file_extension": ".py",
   "mimetype": "text/x-python",
   "name": "python",
   "nbconvert_exporter": "python",
   "pygments_lexer": "ipython3",
   "version": "3.7.9"
  }
 },
 "nbformat": 4,
 "nbformat_minor": 4
}

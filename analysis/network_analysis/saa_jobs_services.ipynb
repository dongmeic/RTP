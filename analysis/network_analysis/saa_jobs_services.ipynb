{
 "cells": [
  {
   "cell_type": "code",
   "execution_count": 1,
   "metadata": {},
   "outputs": [],
   "source": [
    "import os\n",
    "import ServiceAreaAnalysis as saa"
   ]
  },
  {
   "cell_type": "code",
   "execution_count": 8,
   "metadata": {},
   "outputs": [
    {
     "name": "stdout",
     "output_type": "stream",
     "text": [
      "Creating service area analysis layer...\n",
      "Done...\n",
      "Adding facilities...\n",
      "Done...\n",
      "Solving service area...\n",
      "Done...\n",
      "0:04:53.750410\n",
      "Exporting service area polygons...\n",
      "Done...\n"
     ]
    }
   ],
   "source": [
    "saa.ServiceAreaAnalysis(layer_name = \"Service Area\", \n",
    "                    impedance = \"Biking by distance\",\n",
    "                    dist = 17582.4, # this distance unit is feet, it equals to 3.33 miles\n",
    "                    facilities = \"baseyearJobs_FeatureToPoint\",\n",
    "                    mode = \"Biking\",\n",
    "                    destination = \"Jobs\")"
   ]
  },
  {
   "cell_type": "code",
   "execution_count": 5,
   "metadata": {},
   "outputs": [
    {
     "name": "stdout",
     "output_type": "stream",
     "text": [
      "Creating service area analysis layer...\n",
      "Done...\n",
      "Adding facilities...\n",
      "Done...\n",
      "Solving service area...\n",
      "Done...\n",
      "0:05:33.097524\n",
      "Exporting service area polygons...\n",
      "Done...\n"
     ]
    }
   ],
   "source": [
    "saa.ServiceAreaAnalysis(layer_name = \"Service Area\", \n",
    "                    impedance = \"Biking by distance\",\n",
    "                    dist = 17582.4,\n",
    "                    facilities = \"forecastJobs_FeatureToPoint\",\n",
    "                    mode = \"Biking\",\n",
    "                    destination = \"Jobs2045\")"
   ]
  },
  {
   "cell_type": "code",
   "execution_count": 2,
   "metadata": {},
   "outputs": [
    {
     "name": "stdout",
     "output_type": "stream",
     "text": [
      "Creating service area analysis layer...\n",
      "Done...\n",
      "Adding facilities...\n",
      "Done...\n",
      "Solving service area...\n",
      "Done...\n",
      "0:00:43.989877\n",
      "Exporting service area polygons...\n",
      "Done...\n"
     ]
    }
   ],
   "source": [
    "saa.ServiceAreaAnalysis(layer_name = \"Service Area\", \n",
    "                    impedance = \"Biking by distance\",\n",
    "                    dist = 17582.4,\n",
    "                    #facilities = os.path.join(input_folder, \"baseyear_amenities.shp\"),\n",
    "                    mode = \"Biking\",\n",
    "                    destination = \"Amenities\")"
   ]
  },
  {
   "cell_type": "code",
   "execution_count": 13,
   "metadata": {},
   "outputs": [
    {
     "name": "stdout",
     "output_type": "stream",
     "text": [
      "Creating service area analysis layer...\n",
      "Done...\n",
      "Adding facilities...\n",
      "Done...\n",
      "Solving service area...\n",
      "Done...\n",
      "0:05:56.360132\n",
      "Exporting service area polygons...\n",
      "Done...\n"
     ]
    }
   ],
   "source": [
    "saa.ServiceAreaAnalysis(layer_name = \"Service Area\", \n",
    "                    impedance = \"Biking by distance\",\n",
    "                    dist = 17582.4,\n",
    "                    facilities = os.path.join(input_folder, \"forecast_amenities.shp\"),\n",
    "                    mode = \"Biking\",\n",
    "                    destination = \"Amenities2045\")"
   ]
  },
  {
   "cell_type": "code",
   "execution_count": 20,
   "metadata": {},
   "outputs": [
    {
     "name": "stdout",
     "output_type": "stream",
     "text": [
      "Creating service area analysis layer...\n",
      "Done...\n",
      "Adding facilities...\n",
      "Done...\n",
      "Solving service area...\n",
      "Done...\n",
      "0:00:49.880717\n",
      "Exporting service area polygons...\n",
      "Done...\n"
     ]
    }
   ],
   "source": [
    "saa.ServiceAreaAnalysis(layer_name = \"Service Area\", \n",
    "                    impedance = \"Biking by distance\",\n",
    "                    dist = 17582.4,\n",
    "                    facilities = \"KateTAZ_FeatureToPoint\",\n",
    "                    mode = \"Biking\",\n",
    "                    destination = \"KateTAZ\")"
   ]
  },
  {
   "cell_type": "code",
   "execution_count": 14,
   "metadata": {},
   "outputs": [
    {
     "name": "stdout",
     "output_type": "stream",
     "text": [
      "Creating service area analysis layer...\n",
      "Done...\n",
      "Adding facilities...\n",
      "Done...\n",
      "Solving service area...\n",
      "Done...\n",
      "0:01:28.650213\n",
      "Exporting service area polygons...\n",
      "Done...\n"
     ]
    }
   ],
   "source": [
    "saa.ServiceAreaAnalysis(layer_name = \"Service Area\", \n",
    "                    impedance = \"Walking by distance\",\n",
    "                    dist = 3960, # 3/4 miles\n",
    "                    facilities = \"baseyearJobs_FeatureToPoint\",\n",
    "                    mode = \"Walking\",\n",
    "                    destination = \"Jobs\")"
   ]
  },
  {
   "cell_type": "code",
   "execution_count": 15,
   "metadata": {},
   "outputs": [
    {
     "name": "stdout",
     "output_type": "stream",
     "text": [
      "Creating service area analysis layer...\n",
      "Done...\n",
      "Adding facilities...\n",
      "Done...\n",
      "Solving service area...\n",
      "Done...\n",
      "0:01:37.002705\n",
      "Exporting service area polygons...\n",
      "Done...\n"
     ]
    }
   ],
   "source": [
    "saa.ServiceAreaAnalysis(layer_name = \"Service Area\", \n",
    "                    impedance = \"Walking by distance\",\n",
    "                    dist = 3960,\n",
    "                    facilities = \"forecastJobs_FeatureToPoint\",\n",
    "                    mode = \"Walking\",\n",
    "                    destination = \"Jobs2045\")"
   ]
  },
  {
   "cell_type": "code",
   "execution_count": 3,
   "metadata": {},
   "outputs": [
    {
     "name": "stdout",
     "output_type": "stream",
     "text": [
      "Creating service area analysis layer...\n",
      "Done...\n",
      "Adding facilities...\n",
      "Done...\n",
      "Solving service area...\n",
      "Done...\n",
      "0:00:14.059175\n",
      "Exporting service area polygons...\n",
      "Done...\n"
     ]
    }
   ],
   "source": [
    "saa.ServiceAreaAnalysis(layer_name = \"Service Area\", \n",
    "                    impedance = \"Walking by distance\",\n",
    "                    dist = 3960,\n",
    "                    #facilities = os.path.join(input_folder, \"baseyear_amenities.shp\"),\n",
    "                    mode = \"Walking\",\n",
    "                    destination = \"Amenities\")"
   ]
  },
  {
   "cell_type": "code",
   "execution_count": 17,
   "metadata": {},
   "outputs": [
    {
     "name": "stdout",
     "output_type": "stream",
     "text": [
      "Creating service area analysis layer...\n",
      "Done...\n",
      "Adding facilities...\n",
      "Done...\n",
      "Solving service area...\n",
      "Done...\n",
      "0:02:19.839513\n",
      "Exporting service area polygons...\n",
      "Done...\n"
     ]
    }
   ],
   "source": [
    "saa.ServiceAreaAnalysis(layer_name = \"Service Area\", \n",
    "                    impedance = \"Walking by distance\",\n",
    "                    dist = 3960,\n",
    "                    facilities = os.path.join(input_folder, \"forecast_amenities.shp\"),\n",
    "                    mode = \"Walking\",\n",
    "                    destination = \"Amenities2045\")"
   ]
  },
  {
   "cell_type": "code",
   "execution_count": 18,
   "metadata": {},
   "outputs": [
    {
     "name": "stdout",
     "output_type": "stream",
     "text": [
      "Creating service area analysis layer...\n",
      "Done...\n",
      "Adding facilities...\n",
      "Done...\n",
      "Solving service area...\n",
      "Done...\n",
      "0:00:24.712987\n",
      "Exporting service area polygons...\n",
      "Done...\n"
     ]
    }
   ],
   "source": [
    "saa.ServiceAreaAnalysis(layer_name = \"Service Area\", \n",
    "                    impedance = \"Walking by distance\",\n",
    "                    dist = 1320,\n",
    "                    facilities = os.path.join(input_folder, \"PerformanceAnalysis\", \"service_transit_equity\", \n",
    "                                              \"transit_stops.shp\"),\n",
    "                    mode = \"Walking\",\n",
    "                    destination = \"Transit\")"
   ]
  },
  {
   "cell_type": "code",
   "execution_count": 21,
   "metadata": {},
   "outputs": [
    {
     "name": "stdout",
     "output_type": "stream",
     "text": [
      "Creating service area analysis layer...\n",
      "Done...\n",
      "Adding facilities...\n",
      "Done...\n",
      "Solving service area...\n",
      "Done...\n",
      "0:00:13.238250\n",
      "Exporting service area polygons...\n",
      "Done...\n"
     ]
    }
   ],
   "source": [
    "saa.ServiceAreaAnalysis(layer_name = \"Service Area\", \n",
    "                    impedance = \"Walking by distance\",\n",
    "                    dist = 1320,\n",
    "                    facilities = \"KateTAZ_FeatureToPoint\",\n",
    "                    mode = \"Walking\",\n",
    "                    destination = \"KateTAZ\")"
   ]
  },
  {
   "cell_type": "code",
   "execution_count": 19,
   "metadata": {},
   "outputs": [
    {
     "name": "stdout",
     "output_type": "stream",
     "text": [
      "Creating service area analysis layer...\n",
      "Done...\n",
      "Adding facilities...\n",
      "Done...\n",
      "Solving service area...\n",
      "Done...\n",
      "0:00:05.532522\n",
      "Exporting service area polygons...\n",
      "Done...\n"
     ]
    }
   ],
   "source": [
    "saa.ServiceAreaAnalysis(layer_name = \"Service Area\", \n",
    "                    impedance = \"Walking by distance\",\n",
    "                    dist = 1320,\n",
    "                    facilities = os.path.join(input_folder, \"PerformanceAnalysis\", \"service_transit_equity\", \n",
    "                                              \"high_frequency_transit.shp\"),\n",
    "                    mode = \"Walking\",\n",
    "                    destination = \"HighFreqTransit\")"
   ]
  },
  {
   "cell_type": "code",
   "execution_count": 22,
   "metadata": {},
   "outputs": [
    {
     "name": "stdout",
     "output_type": "stream",
     "text": [
      "Creating service area analysis layer...\n",
      "Done...\n",
      "Adding facilities...\n",
      "Done...\n",
      "Solving service area...\n",
      "Done...\n",
      "0:00:05.283036\n",
      "Exporting service area polygons...\n",
      "Done...\n"
     ]
    }
   ],
   "source": [
    "saa.ServiceAreaAnalysis(layer_name = \"Service Area\", \n",
    "                    impedance = \"Walking by distance\",\n",
    "                    dist = 1320, # 1/4 miles\n",
    "                    facilities = os.path.join(input_folder, \"PerformanceAnalysis\", \"service_transit_equity\", \n",
    "                                              \"high_frequency_transit.shp\"),\n",
    "                    mode = \"Walking\",\n",
    "                    destination = \"HighFreqTransit\")"
   ]
  },
  {
   "cell_type": "code",
   "execution_count": 23,
   "metadata": {},
   "outputs": [
    {
     "name": "stdout",
     "output_type": "stream",
     "text": [
      "Creating service area analysis layer...\n",
      "Done...\n",
      "Adding facilities...\n",
      "Done...\n",
      "Solving service area...\n",
      "Done...\n",
      "1:21:12.532893\n",
      "Exporting service area polygons...\n",
      "Done...\n"
     ]
    }
   ],
   "source": [
    "saa.ServiceAreaAnalysis(layer_name = \"Service Area\", \n",
    "                    impedance = \"Biking by distance\",\n",
    "                    dist = 17582.4,\n",
    "                    facilities = \"baseyearHH_FeatureToPoint\",\n",
    "                    mode = \"Biking\",\n",
    "                    destination = \"HH\")"
   ]
  },
  {
   "cell_type": "code",
   "execution_count": 24,
   "metadata": {},
   "outputs": [
    {
     "name": "stdout",
     "output_type": "stream",
     "text": [
      "Creating service area analysis layer...\n",
      "Done...\n",
      "Adding facilities...\n",
      "Done...\n",
      "Solving service area...\n",
      "Done...\n",
      "0:25:40.680992\n",
      "Exporting service area polygons...\n",
      "Done...\n"
     ]
    }
   ],
   "source": [
    "saa.ServiceAreaAnalysis(layer_name = \"Service Area\", \n",
    "                    impedance = \"Walking by distance\",\n",
    "                    dist = 3960,\n",
    "                    facilities = \"baseyearHH_FeatureToPoint\",\n",
    "                    mode = \"Walking\",\n",
    "                    destination = \"HH\")"
   ]
  },
  {
   "cell_type": "code",
   "execution_count": 25,
   "metadata": {},
   "outputs": [
    {
     "name": "stdout",
     "output_type": "stream",
     "text": [
      "Creating service area analysis layer...\n",
      "Done...\n",
      "Adding facilities...\n",
      "Done...\n",
      "Solving service area...\n",
      "Done...\n",
      "1:26:07.280259\n",
      "Exporting service area polygons...\n",
      "Done...\n"
     ]
    }
   ],
   "source": [
    "saa.ServiceAreaAnalysis(layer_name = \"Service Area\", \n",
    "                    impedance = \"Biking by distance\",\n",
    "                    dist = 17582.4,\n",
    "                    facilities = \"forecastHH_FeatureToPoint\",\n",
    "                    mode = \"Biking\",\n",
    "                    destination = \"HH2045\")"
   ]
  },
  {
   "cell_type": "code",
   "execution_count": 26,
   "metadata": {},
   "outputs": [
    {
     "name": "stdout",
     "output_type": "stream",
     "text": [
      "Creating service area analysis layer...\n",
      "Done...\n",
      "Adding facilities...\n",
      "Done...\n",
      "Solving service area...\n",
      "Done...\n",
      "0:29:15.950629\n",
      "Exporting service area polygons...\n",
      "Done...\n"
     ]
    }
   ],
   "source": [
    "saa.ServiceAreaAnalysis(layer_name = \"Service Area\", \n",
    "                    impedance = \"Walking by distance\",\n",
    "                    dist = 3960,\n",
    "                    facilities = \"forecastHH_FeatureToPoint\",\n",
    "                    mode = \"Walking\",\n",
    "                    destination = \"HH2045\")"
   ]
  },
  {
   "cell_type": "code",
   "execution_count": null,
   "metadata": {},
   "outputs": [],
   "source": []
  }
 ],
 "metadata": {
  "kernelspec": {
   "display_name": "Python 3",
   "language": "python",
   "name": "python3"
  },
  "language_info": {
   "codemirror_mode": {
    "name": "ipython",
    "version": 3
   },
   "file_extension": ".py",
   "mimetype": "text/x-python",
   "name": "python",
   "nbconvert_exporter": "python",
   "pygments_lexer": "ipython3",
   "version": "3.7.11"
  }
 },
 "nbformat": 4,
 "nbformat_minor": 4
}

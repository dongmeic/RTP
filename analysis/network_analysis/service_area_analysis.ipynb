{
 "cells": [
  {
   "cell_type": "code",
   "execution_count": 2,
   "metadata": {},
   "outputs": [],
   "source": [
    "import arcpy, os, sys, shutil\n",
    "from arcpy import env"
   ]
  },
  {
   "cell_type": "code",
   "execution_count": null,
   "metadata": {},
   "outputs": [],
   "source": [
    "# https://pro.arcgis.com/en/pro-app/latest/tool-reference/network-analyst/build-network.htm\n",
    "try:\n",
    "    #Check out Network Analyst license if available. Fail if the Network Analyst license is not available.\n",
    "    if arcpy.CheckExtension(\"network\") == \"Available\":\n",
    "        arcpy.CheckOutExtension(\"network\")\n",
    "    else:\n",
    "        raise arcpy.ExecuteError(\"Network Analyst Extension license is not available.\")\n",
    "    \n",
    "    #Set environment settings\n",
    "    env.workspace = r\"T:\\MPO\\RTP\\FY20 2045 Update\\Data and Resources\\Network_Analysis\\Network_Analysis.gdb\"\n",
    "    \n",
    "    #Set local variables\n",
    "    inNetworkDataset = \"Network_Ped_Bike/Network_ND\"\n",
    "    \n",
    "    #Build the network dataset\n",
    "    arcpy.BuildNetwork_na(inNetworkDataset)\n",
    "    \n",
    "    #If there are any build errors, they are recorded in a BuildErrors.txt file\n",
    "    #present in the system temp directory. So copy this file to the directory\n",
    "    #containing this script\n",
    "    \n",
    "    #First get the path to the system temp directory\n",
    "    tempDir = os.environ.get(\"TEMP\")\n",
    "    if tempDir:\n",
    "        shutil.copy2(os.path.join(tempDir,\"BuildErrors.txt\"),sys.path[0])\n",
    "    \n",
    "    print(\"Script completed successfully.\")\n",
    "\n",
    "except Exception as e:\n",
    "    # If an error occurred, print line number and error message\n",
    "    import traceback, sys\n",
    "    tb = sys.exc_info()[2]\n",
    "    print(\"An error occurred on line %i\" % tb.tb_lineno)\n",
    "    print(str(e))"
   ]
  },
  {
   "cell_type": "code",
   "execution_count": null,
   "metadata": {},
   "outputs": [],
   "source": []
  }
 ],
 "metadata": {
  "kernelspec": {
   "display_name": "Python 3",
   "language": "python",
   "name": "python3"
  },
  "language_info": {
   "codemirror_mode": {
    "name": "ipython",
    "version": 3
   },
   "file_extension": ".py",
   "mimetype": "text/x-python",
   "name": "python",
   "nbconvert_exporter": "python",
   "pygments_lexer": "ipython3",
   "version": "3.7.9"
  }
 },
 "nbformat": 4,
 "nbformat_minor": 4
}

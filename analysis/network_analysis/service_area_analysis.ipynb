{
 "cells": [
  {
   "cell_type": "code",
   "execution_count": 2,
   "metadata": {},
   "outputs": [],
   "source": [
    "import arcpy, os, sys, shutil\n",
    "from arcpy import env"
   ]
  },
  {
   "cell_type": "code",
   "execution_count": 22,
   "metadata": {},
   "outputs": [],
   "source": [
    "env.overwriteOutput = True"
   ]
  },
  {
   "cell_type": "code",
   "execution_count": 4,
   "metadata": {},
   "outputs": [
    {
     "name": "stdout",
     "output_type": "stream",
     "text": [
      "Script completed successfully.\n"
     ]
    }
   ],
   "source": [
    "# https://pro.arcgis.com/en/pro-app/latest/tool-reference/network-analyst/build-network.htm\n",
    "try:\n",
    "    #Check out Network Analyst license if available. Fail if the Network Analyst license is not available.\n",
    "    if arcpy.CheckExtension(\"network\") == \"Available\":\n",
    "        arcpy.CheckOutExtension(\"network\")\n",
    "    else:\n",
    "        raise arcpy.ExecuteError(\"Network Analyst Extension license is not available.\")\n",
    "    \n",
    "    #Set environment settings\n",
    "    env.workspace = r\"T:\\MPO\\RTP\\FY20 2045 Update\\Data and Resources\\Network_Analysis\\Network_Analysis.gdb\"\n",
    "    \n",
    "    #Set local variables\n",
    "    inNetworkDataset = \"Network_Ped_Bike/Network_ND\"\n",
    "    \n",
    "    #Build the network dataset\n",
    "    arcpy.BuildNetwork_na(inNetworkDataset)\n",
    "    \n",
    "    #If there are any build errors, they are recorded in a BuildErrors.txt file\n",
    "    #present in the system temp directory. So copy this file to the directory\n",
    "    #containing this script\n",
    "    \n",
    "    #First get the path to the system temp directory\n",
    "    tempDir = os.environ.get(\"TEMP\")\n",
    "    if tempDir:\n",
    "        shutil.copy2(os.path.join(tempDir,\"BuildErrors.txt\"),sys.path[0])\n",
    "    \n",
    "    print(\"Script completed successfully.\")\n",
    "\n",
    "except Exception as e:\n",
    "    # If an error occurred, print line number and error message\n",
    "    import traceback, sys\n",
    "    tb = sys.exc_info()[2]\n",
    "    print(\"An error occurred on line %i\" % tb.tb_lineno)\n",
    "    print(str(e))"
   ]
  },
  {
   "cell_type": "code",
   "execution_count": 19,
   "metadata": {},
   "outputs": [],
   "source": [
    "layer_name = \"Service Area\""
   ]
  },
  {
   "cell_type": "code",
   "execution_count": 20,
   "metadata": {},
   "outputs": [],
   "source": [
    "impedance = \"Biking by distance\""
   ]
  },
  {
   "cell_type": "code",
   "execution_count": 34,
   "metadata": {},
   "outputs": [],
   "source": [
    "dist = 17582.4"
   ]
  },
  {
   "cell_type": "code",
   "execution_count": 23,
   "metadata": {},
   "outputs": [],
   "source": [
    "# https://pro.arcgis.com/en/pro-app/latest/tool-reference/network-analyst/make-service-area-layer.htm\n",
    "#Create a new service area layer.\n",
    "result_object = arcpy.na.MakeServiceAreaAnalysisLayer(inNetworkDataset, layer_name, impedance, \n",
    "                                                      \"FROM_FACILITIES\", [dist], None, \"LOCAL_TIME_AT_LOCATIONS\", \n",
    "                                                      \"POLYGONS\", \"STANDARD\", \"OVERLAP\", \"RINGS\", \"100 Meters\", None, None)"
   ]
  },
  {
   "cell_type": "code",
   "execution_count": 24,
   "metadata": {},
   "outputs": [],
   "source": [
    "#Get the layer object from the result object. The service area layer can now be referenced using the layer object.\n",
    "layer_object = result_object.getOutput(0)"
   ]
  },
  {
   "cell_type": "code",
   "execution_count": 25,
   "metadata": {},
   "outputs": [],
   "source": [
    "#Get the names of all the sublayers within the service area layer.\n",
    "sublayer_names = arcpy.na.GetNAClassNames(layer_object)"
   ]
  },
  {
   "cell_type": "code",
   "execution_count": 26,
   "metadata": {},
   "outputs": [
    {
     "data": {
      "text/plain": [
       "{'Facilities': 'Facilities',\n",
       " 'Barriers': 'Point Barriers',\n",
       " 'SALines': 'Lines',\n",
       " 'PolylineBarriers': 'Line Barriers',\n",
       " 'SAPolygons': 'Polygons',\n",
       " 'PolygonBarriers': 'Polygon Barriers'}"
      ]
     },
     "execution_count": 26,
     "metadata": {},
     "output_type": "execute_result"
    }
   ],
   "source": [
    "sublayer_names"
   ]
  },
  {
   "cell_type": "code",
   "execution_count": 27,
   "metadata": {},
   "outputs": [],
   "source": [
    "#Stores the layer names that we will use later\n",
    "facilities_layer_name = sublayer_names[\"Facilities\"]\n",
    "polygons_layer_name = sublayer_names[\"SAPolygons\"]"
   ]
  },
  {
   "cell_type": "code",
   "execution_count": 12,
   "metadata": {},
   "outputs": [],
   "source": [
    "input_folder = r\"T:\\MPO\\RTP\\FY20 2045 Update\\Data and Resources\""
   ]
  },
  {
   "cell_type": "code",
   "execution_count": 13,
   "metadata": {},
   "outputs": [],
   "source": [
    "facilities = os.path.join(input_folder, \"PerformanceAnalysis\", \"service_transit_equity\", \"service_stops.shp\")"
   ]
  },
  {
   "cell_type": "code",
   "execution_count": 28,
   "metadata": {},
   "outputs": [
    {
     "data": {
      "text/html": [
       "<h2>Output</h2>a Layer object<h2>Messages</h2>Start Time: Wednesday, March 31, 2021 2:00:47 PM<br/>463 features located out of 463.<br/>Succeeded at Wednesday, March 31, 2021 2:00:55 PM (Elapsed Time: 8.07 seconds)<br/><style>.rendered_html td, .rendered_html th {text-align: left;}.rendered_html tbody {border: 1px solid black;}</style>"
      ],
      "text/plain": [
       "<Result 'GPLYR_{60EA219F-E961-4462-B747-EED0CAE81234}'>"
      ]
     },
     "execution_count": 28,
     "metadata": {},
     "output_type": "execute_result"
    }
   ],
   "source": [
    "#Load the fire stations as facilities.\n",
    "arcpy.na.AddLocations(layer_object, facilities_layer_name, facilities,\n",
    "                        field_mappings, \"\", exclude_restricted_elements = \"EXCLUDE\")"
   ]
  },
  {
   "cell_type": "code",
   "execution_count": 29,
   "metadata": {},
   "outputs": [],
   "source": [
    "#Get sublayers to work with later\n",
    "facilities_sublayer = layer_object.listLayers(facilities_layer_name)[0]\n",
    "polygons_sublayer = layer_object.listLayers(polygons_layer_name)[0]"
   ]
  },
  {
   "cell_type": "code",
   "execution_count": 30,
   "metadata": {},
   "outputs": [],
   "source": [
    "#Get the Service Area Layer's solver properties. This can be used to set individual properties later without \n",
    "#re-creating the layer.\n",
    "solver_properties = arcpy.na.GetSolverProperties(layer_object)"
   ]
  },
  {
   "cell_type": "code",
   "execution_count": 31,
   "metadata": {},
   "outputs": [
    {
     "data": {
      "text/html": [
       "<h2>Output</h2><table><tr><th>id</th><th>value</th></tr><tr><td>0</td><td>a Layer object</td></tr><tr><td>1</td><td>true</td></tr></table><h2>Messages</h2>Start Time: Wednesday, March 31, 2021 2:01:12 PM<br/>Succeeded at Wednesday, March 31, 2021 2:01:50 PM (Elapsed Time: 38.19 seconds)<br/><style>.rendered_html td, .rendered_html th {text-align: left;}.rendered_html tbody {border: 1px solid black;}</style>"
      ],
      "text/plain": [
       "<Result 'GPLYR_{F80704AD-B7C8-437B-A128-572EBF7C5B51}'>"
      ]
     },
     "execution_count": 31,
     "metadata": {},
     "output_type": "execute_result"
    }
   ],
   "source": [
    "#Solve the service area layer\n",
    "arcpy.na.Solve(layer_object)"
   ]
  },
  {
   "cell_type": "code",
   "execution_count": 32,
   "metadata": {},
   "outputs": [
    {
     "data": {
      "text/html": [
       "<h2>Output</h2>a Layer object<h2>Messages</h2>Start Time: Wednesday, March 31, 2021 2:02:29 PM<br/>Succeeded at Wednesday, March 31, 2021 2:02:29 PM (Elapsed Time: 0.34 seconds)<br/><style>.rendered_html td, .rendered_html th {text-align: left;}.rendered_html tbody {border: 1px solid black;}</style>"
      ],
      "text/plain": [
       "<Result 'GPLYR_{E777C30A-9913-4619-B0F9-9B7FAADC45B8}'>"
      ]
     },
     "execution_count": 32,
     "metadata": {},
     "output_type": "execute_result"
    }
   ],
   "source": [
    "#Transfer the FireStationID field from the input Facilities to the output Polygons\n",
    "arcpy.management.AddJoin(polygons_sublayer, \"FacilityID\", facilities_sublayer, \"ObjectID\")"
   ]
  },
  {
   "cell_type": "code",
   "execution_count": 33,
   "metadata": {},
   "outputs": [
    {
     "data": {
      "text/html": [
       "<h2>Output</h2>a Layer object<h2>Messages</h2>Start Time: Wednesday, March 31, 2021 2:05:28 PM<br/>Succeeded at Wednesday, March 31, 2021 2:05:28 PM (Elapsed Time: 0.38 seconds)<br/><style>.rendered_html td, .rendered_html th {text-align: left;}.rendered_html tbody {border: 1px solid black;}</style>"
      ],
      "text/plain": [
       "<Result 'GPLYR_{E777C30A-9913-4619-B0F9-9B7FAADC45B8}'>"
      ]
     },
     "execution_count": 33,
     "metadata": {},
     "output_type": "execute_result"
    }
   ],
   "source": [
    "#The joined fields are qualified by the feature class name of the joined table, so determine the feature class names\n",
    "field_qualifier_pol = os.path.basename(polygons_sublayer.dataSource)\n",
    "target_field_name = \"%s.name\" % field_qualifier_pol\n",
    "field_qualifier_fac = os.path.basename(facilities_sublayer.dataSource)\n",
    "expression = \"!%s.name!\" % field_qualifier_fac\n",
    "arcpy.management.CalculateField(polygons_sublayer, target_field_name,\n",
    "                                expression, \"PYTHON\")\n",
    "arcpy.management.RemoveJoin(polygons_sublayer)"
   ]
  },
  {
   "cell_type": "code",
   "execution_count": 35,
   "metadata": {},
   "outputs": [],
   "source": [
    "out_featureclass = \"ServiceArea\""
   ]
  },
  {
   "cell_type": "code",
   "execution_count": 37,
   "metadata": {},
   "outputs": [],
   "source": [
    "mode = 'Biking'"
   ]
  },
  {
   "cell_type": "code",
   "execution_count": 38,
   "metadata": {},
   "outputs": [],
   "source": [
    "#Append the polygons to the output feature class. If this was the first solve, create the feature class.\n",
    "if not arcpy.Exists(out_featureclass):\n",
    "    arcpy.management.CopyFeatures(polygons_sublayer, out_featureclass + mode)\n",
    "else:\n",
    "    arcpy.management.Append(polygons_sublayer, out_featureclass)"
   ]
  },
  {
   "cell_type": "code",
   "execution_count": null,
   "metadata": {},
   "outputs": [],
   "source": []
  }
 ],
 "metadata": {
  "kernelspec": {
   "display_name": "Python 3",
   "language": "python",
   "name": "python3"
  },
  "language_info": {
   "codemirror_mode": {
    "name": "ipython",
    "version": 3
   },
   "file_extension": ".py",
   "mimetype": "text/x-python",
   "name": "python",
   "nbconvert_exporter": "python",
   "pygments_lexer": "ipython3",
   "version": "3.7.9"
  }
 },
 "nbformat": 4,
 "nbformat_minor": 4
}

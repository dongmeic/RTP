{
 "cells": [
  {
   "cell_type": "code",
   "execution_count": 2,
   "metadata": {},
   "outputs": [],
   "source": [
    "import arcpy, os\n",
    "from arcpy import env"
   ]
  },
  {
   "cell_type": "code",
   "execution_count": 7,
   "metadata": {},
   "outputs": [],
   "source": [
    "env.overwriteOutput = True"
   ]
  },
  {
   "cell_type": "code",
   "execution_count": 4,
   "metadata": {},
   "outputs": [],
   "source": [
    "env.workspace = r\"T:\\MPO\\RTP\\FY20 2045 Update\\Data and Resources\\Network_Analysis\\Network_Analysis.gdb\""
   ]
  },
  {
   "cell_type": "code",
   "execution_count": 5,
   "metadata": {},
   "outputs": [],
   "source": [
    "infolder = r'T:\\Trans Projects\\Model Development\\UrbanSim_LandUse\\Output\\Simulation_47_Final_RTP\\output'"
   ]
  },
  {
   "cell_type": "code",
   "execution_count": 10,
   "metadata": {},
   "outputs": [
    {
     "data": {
      "text/html": [
       "<h2>Output</h2>T:\\MPO\\RTP\\FY20 2045 Update\\Data and Resources\\Network_Analysis\\Network_Analysis.gdb\\baseyearJobs_FeatureToPoint<h2>Messages</h2>Start Time: Saturday, April 3, 2021 1:43:32 PM<br/>Succeeded at Saturday, April 3, 2021 1:43:35 PM (Elapsed Time: 2.88 seconds)<br/><style>.rendered_html td, .rendered_html th {text-align: left;}.rendered_html tbody {border: 1px solid black;}</style>"
      ],
      "text/plain": [
       "<Result 'T:\\\\MPO\\\\RTP\\\\FY20 2045 Update\\\\Data and Resources\\\\Network_Analysis\\\\Network_Analysis.gdb\\\\baseyearJobs_FeatureToPoint'>"
      ]
     },
     "execution_count": 10,
     "metadata": {},
     "output_type": "execute_result"
    }
   ],
   "source": [
    "outFC = \"baseyearJobs_FeatureToPoint\"\n",
    "if arcpy.Exists(outFC):\n",
    "    arcpy.Delete_management(outFC)\n",
    "arcpy.management.FeatureToPoint(os.path.join(infolder, \"baseyearJobs.shp\"), outFC, \"INSIDE\")"
   ]
  },
  {
   "cell_type": "code",
   "execution_count": 11,
   "metadata": {},
   "outputs": [
    {
     "data": {
      "text/html": [
       "<h2>Output</h2>T:\\MPO\\RTP\\FY20 2045 Update\\Data and Resources\\Network_Analysis\\Network_Analysis.gdb\\forecastJobs_FeatureToPoint<h2>Messages</h2>Start Time: Saturday, April 3, 2021 3:22:43 PM<br/>Succeeded at Saturday, April 3, 2021 3:22:46 PM (Elapsed Time: 2.85 seconds)<br/><style>.rendered_html td, .rendered_html th {text-align: left;}.rendered_html tbody {border: 1px solid black;}</style>"
      ],
      "text/plain": [
       "<Result 'T:\\\\MPO\\\\RTP\\\\FY20 2045 Update\\\\Data and Resources\\\\Network_Analysis\\\\Network_Analysis.gdb\\\\forecastJobs_FeatureToPoint'>"
      ]
     },
     "execution_count": 11,
     "metadata": {},
     "output_type": "execute_result"
    }
   ],
   "source": [
    "outFC = \"forecastJobs_FeatureToPoint\"\n",
    "if arcpy.Exists(outFC):\n",
    "    arcpy.Delete_management(outFC)\n",
    "arcpy.management.FeatureToPoint(os.path.join(infolder, \"forecastJobs.shp\"), outFC, \"INSIDE\")"
   ]
  },
  {
   "cell_type": "code",
   "execution_count": 12,
   "metadata": {},
   "outputs": [
    {
     "data": {
      "text/html": [
       "<h2>Output</h2>T:\\MPO\\RTP\\FY20 2045 Update\\Data and Resources\\Network_Analysis\\Network_Analysis.gdb\\parcels_FeatureToPoint<h2>Messages</h2>Start Time: Sunday, April 4, 2021 9:37:51 AM<br/>Succeeded at Sunday, April 4, 2021 9:38:01 AM (Elapsed Time: 10.07 seconds)<br/><style>.rendered_html td, .rendered_html th {text-align: left;}.rendered_html tbody {border: 1px solid black;}</style>"
      ],
      "text/plain": [
       "<Result 'T:\\\\MPO\\\\RTP\\\\FY20 2045 Update\\\\Data and Resources\\\\Network_Analysis\\\\Network_Analysis.gdb\\\\parcels_FeatureToPoint'>"
      ]
     },
     "execution_count": 12,
     "metadata": {},
     "output_type": "execute_result"
    }
   ],
   "source": [
    "outFC = \"parcels_FeatureToPoint\"\n",
    "if arcpy.Exists(outFC):\n",
    "    arcpy.Delete_management(outFC)\n",
    "arcpy.management.FeatureToPoint(os.path.join(infolder, \"parcel_data.shp\"), outFC, \"INSIDE\")"
   ]
  },
  {
   "cell_type": "code",
   "execution_count": 13,
   "metadata": {},
   "outputs": [
    {
     "data": {
      "text/html": [
       "<h2>Output</h2>T:\\MPO\\RTP\\FY20 2045 Update\\Data and Resources\\Network_Analysis\\Network_Analysis.gdb\\KateTAZ_FeatureToPoint<h2>Messages</h2>Start Time: Sunday, April 4, 2021 7:55:12 PM<br/>Succeeded at Sunday, April 4, 2021 7:55:15 PM (Elapsed Time: 2.78 seconds)<br/><style>.rendered_html td, .rendered_html th {text-align: left;}.rendered_html tbody {border: 1px solid black;}</style>"
      ],
      "text/plain": [
       "<Result 'T:\\\\MPO\\\\RTP\\\\FY20 2045 Update\\\\Data and Resources\\\\Network_Analysis\\\\Network_Analysis.gdb\\\\KateTAZ_FeatureToPoint'>"
      ]
     },
     "execution_count": 13,
     "metadata": {},
     "output_type": "execute_result"
    }
   ],
   "source": [
    "outFC = \"KateTAZ_FeatureToPoint\"\n",
    "if arcpy.Exists(outFC):\n",
    "    arcpy.Delete_management(outFC)\n",
    "arcpy.management.FeatureToPoint(\"KateTAZ\", outFC, \"INSIDE\")"
   ]
  },
  {
   "cell_type": "code",
   "execution_count": null,
   "metadata": {},
   "outputs": [],
   "source": [
    "outFC = \"baseyearJobs_FeatureToPoint\"\n",
    "if arcpy.Exists(outFC):\n",
    "    arcpy.Delete_management(outFC)\n",
    "arcpy.management.FeatureToPoint(os.path.join(infolder, \"baseyearJobs.shp\"), outFC, \"INSIDE\")"
   ]
  }
 ],
 "metadata": {
  "kernelspec": {
   "display_name": "Python 3",
   "language": "python",
   "name": "python3"
  },
  "language_info": {
   "codemirror_mode": {
    "name": "ipython",
    "version": 3
   },
   "file_extension": ".py",
   "mimetype": "text/x-python",
   "name": "python",
   "nbconvert_exporter": "python",
   "pygments_lexer": "ipython3",
   "version": "3.7.9"
  }
 },
 "nbformat": 4,
 "nbformat_minor": 4
}

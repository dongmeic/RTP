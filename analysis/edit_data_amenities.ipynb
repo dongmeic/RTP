{
 "cells": [
  {
   "cell_type": "code",
   "execution_count": 11,
   "id": "earned-conditioning",
   "metadata": {},
   "outputs": [],
   "source": [
    "import geopandas as gpd\n",
    "import pandas as pd\n",
    "import os"
   ]
  },
  {
   "cell_type": "code",
   "execution_count": 3,
   "id": "romantic-canadian",
   "metadata": {},
   "outputs": [],
   "source": [
    "path = r\"T:\\MPO\\RTP\\FY20 2045 Update\\Data and Resources\\Network_Analysis\\Network_Analysis.gdb\""
   ]
  },
  {
   "cell_type": "code",
   "execution_count": 26,
   "id": "baking-roots",
   "metadata": {},
   "outputs": [],
   "source": [
    "baseyear_jobs_pts = gpd.read_file(path, layer=\"baseyearJobs_FeatureToPoint\")"
   ]
  },
  {
   "cell_type": "code",
   "execution_count": 10,
   "id": "corresponding-circular",
   "metadata": {},
   "outputs": [
    {
     "data": {
      "text/plain": [
       "Index(['btype', 'nrsqft', 'rsqft', 'du', 'yrbuilt', 'lpid', 'pundev',\n",
       "       'dev_land', 'developed', 'obtype', 'orsqft', 'onrsqft', 'odu', 'zid',\n",
       "       'rezoned', 'city', 'annexed', 'ozid', 'AreaPerJob', 'isNonRes', 'jobs',\n",
       "       'ojobs', 'hh', 'ohh', 'ORIG_FID', 'geometry'],\n",
       "      dtype='object')"
      ]
     },
     "execution_count": 10,
     "metadata": {},
     "output_type": "execute_result"
    }
   ],
   "source": [
    "baseyear_jobs_pts.columns"
   ]
  },
  {
   "cell_type": "code",
   "execution_count": 5,
   "id": "invisible-hamburg",
   "metadata": {},
   "outputs": [
    {
     "data": {
      "text/html": [
       "<div>\n",
       "<style scoped>\n",
       "    .dataframe tbody tr th:only-of-type {\n",
       "        vertical-align: middle;\n",
       "    }\n",
       "\n",
       "    .dataframe tbody tr th {\n",
       "        vertical-align: top;\n",
       "    }\n",
       "\n",
       "    .dataframe thead th {\n",
       "        text-align: right;\n",
       "    }\n",
       "</style>\n",
       "<table border=\"1\" class=\"dataframe\">\n",
       "  <thead>\n",
       "    <tr style=\"text-align: right;\">\n",
       "      <th></th>\n",
       "      <th>btype</th>\n",
       "      <th>nrsqft</th>\n",
       "      <th>rsqft</th>\n",
       "      <th>du</th>\n",
       "      <th>yrbuilt</th>\n",
       "      <th>lpid</th>\n",
       "      <th>pundev</th>\n",
       "      <th>dev_land</th>\n",
       "      <th>developed</th>\n",
       "      <th>obtype</th>\n",
       "      <th>...</th>\n",
       "      <th>annexed</th>\n",
       "      <th>ozid</th>\n",
       "      <th>AreaPerJob</th>\n",
       "      <th>isNonRes</th>\n",
       "      <th>jobs</th>\n",
       "      <th>ojobs</th>\n",
       "      <th>hh</th>\n",
       "      <th>ohh</th>\n",
       "      <th>ORIG_FID</th>\n",
       "      <th>geometry</th>\n",
       "    </tr>\n",
       "  </thead>\n",
       "  <tbody>\n",
       "    <tr>\n",
       "      <th>0</th>\n",
       "      <td>(5100,)</td>\n",
       "      <td>1662.0</td>\n",
       "      <td>0.0</td>\n",
       "      <td>0.0</td>\n",
       "      <td>1969.0</td>\n",
       "      <td>24356.0</td>\n",
       "      <td>0.15</td>\n",
       "      <td>1.973955e+06</td>\n",
       "      <td>0.0</td>\n",
       "      <td>(5100,)</td>\n",
       "      <td>...</td>\n",
       "      <td>0.0</td>\n",
       "      <td>119.0</td>\n",
       "      <td>720.152698</td>\n",
       "      <td>1</td>\n",
       "      <td>2.307844</td>\n",
       "      <td>2.307844</td>\n",
       "      <td>0.0</td>\n",
       "      <td>0.0</td>\n",
       "      <td>0</td>\n",
       "      <td>POINT (4253553.765 844474.220)</td>\n",
       "    </tr>\n",
       "    <tr>\n",
       "      <th>1</th>\n",
       "      <td>(5100,)</td>\n",
       "      <td>1840.0</td>\n",
       "      <td>0.0</td>\n",
       "      <td>0.0</td>\n",
       "      <td>1988.0</td>\n",
       "      <td>25261.0</td>\n",
       "      <td>0.00</td>\n",
       "      <td>1.103922e+05</td>\n",
       "      <td>0.0</td>\n",
       "      <td>(5100,)</td>\n",
       "      <td>...</td>\n",
       "      <td>0.0</td>\n",
       "      <td>126.0</td>\n",
       "      <td>720.152698</td>\n",
       "      <td>1</td>\n",
       "      <td>2.555014</td>\n",
       "      <td>2.555014</td>\n",
       "      <td>0.0</td>\n",
       "      <td>0.0</td>\n",
       "      <td>1</td>\n",
       "      <td>POINT (4260623.851 852946.585)</td>\n",
       "    </tr>\n",
       "    <tr>\n",
       "      <th>2</th>\n",
       "      <td>(5100,)</td>\n",
       "      <td>4440.0</td>\n",
       "      <td>0.0</td>\n",
       "      <td>0.0</td>\n",
       "      <td>1964.0</td>\n",
       "      <td>25322.0</td>\n",
       "      <td>0.00</td>\n",
       "      <td>1.150251e+05</td>\n",
       "      <td>0.0</td>\n",
       "      <td>(5100,)</td>\n",
       "      <td>...</td>\n",
       "      <td>0.0</td>\n",
       "      <td>58.0</td>\n",
       "      <td>720.152698</td>\n",
       "      <td>1</td>\n",
       "      <td>6.165359</td>\n",
       "      <td>6.165359</td>\n",
       "      <td>0.0</td>\n",
       "      <td>0.0</td>\n",
       "      <td>2</td>\n",
       "      <td>POINT (4271080.535 853188.657)</td>\n",
       "    </tr>\n",
       "    <tr>\n",
       "      <th>3</th>\n",
       "      <td>(5100,)</td>\n",
       "      <td>8000.0</td>\n",
       "      <td>0.0</td>\n",
       "      <td>0.0</td>\n",
       "      <td>1999.0</td>\n",
       "      <td>25351.0</td>\n",
       "      <td>0.00</td>\n",
       "      <td>2.108553e+05</td>\n",
       "      <td>0.0</td>\n",
       "      <td>(5100,)</td>\n",
       "      <td>...</td>\n",
       "      <td>0.0</td>\n",
       "      <td>58.0</td>\n",
       "      <td>720.152698</td>\n",
       "      <td>1</td>\n",
       "      <td>11.108755</td>\n",
       "      <td>11.108755</td>\n",
       "      <td>0.0</td>\n",
       "      <td>0.0</td>\n",
       "      <td>3</td>\n",
       "      <td>POINT (4260673.648 853441.487)</td>\n",
       "    </tr>\n",
       "    <tr>\n",
       "      <th>4</th>\n",
       "      <td>(5200,)</td>\n",
       "      <td>14375.0</td>\n",
       "      <td>0.0</td>\n",
       "      <td>0.0</td>\n",
       "      <td>1990.0</td>\n",
       "      <td>25393.0</td>\n",
       "      <td>0.00</td>\n",
       "      <td>2.173801e+05</td>\n",
       "      <td>0.0</td>\n",
       "      <td>(5200,)</td>\n",
       "      <td>...</td>\n",
       "      <td>0.0</td>\n",
       "      <td>125.0</td>\n",
       "      <td>624.844490</td>\n",
       "      <td>1</td>\n",
       "      <td>23.005724</td>\n",
       "      <td>23.005724</td>\n",
       "      <td>0.0</td>\n",
       "      <td>0.0</td>\n",
       "      <td>4</td>\n",
       "      <td>POINT (4260190.606 853680.107)</td>\n",
       "    </tr>\n",
       "  </tbody>\n",
       "</table>\n",
       "<p>5 rows × 26 columns</p>\n",
       "</div>"
      ],
      "text/plain": [
       "     btype   nrsqft  rsqft   du  yrbuilt     lpid  pundev      dev_land  \\\n",
       "0  (5100,)   1662.0    0.0  0.0   1969.0  24356.0    0.15  1.973955e+06   \n",
       "1  (5100,)   1840.0    0.0  0.0   1988.0  25261.0    0.00  1.103922e+05   \n",
       "2  (5100,)   4440.0    0.0  0.0   1964.0  25322.0    0.00  1.150251e+05   \n",
       "3  (5100,)   8000.0    0.0  0.0   1999.0  25351.0    0.00  2.108553e+05   \n",
       "4  (5200,)  14375.0    0.0  0.0   1990.0  25393.0    0.00  2.173801e+05   \n",
       "\n",
       "   developed   obtype  ...  annexed   ozid  AreaPerJob  isNonRes       jobs  \\\n",
       "0        0.0  (5100,)  ...      0.0  119.0  720.152698         1   2.307844   \n",
       "1        0.0  (5100,)  ...      0.0  126.0  720.152698         1   2.555014   \n",
       "2        0.0  (5100,)  ...      0.0   58.0  720.152698         1   6.165359   \n",
       "3        0.0  (5100,)  ...      0.0   58.0  720.152698         1  11.108755   \n",
       "4        0.0  (5200,)  ...      0.0  125.0  624.844490         1  23.005724   \n",
       "\n",
       "       ojobs   hh  ohh  ORIG_FID                        geometry  \n",
       "0   2.307844  0.0  0.0         0  POINT (4253553.765 844474.220)  \n",
       "1   2.555014  0.0  0.0         1  POINT (4260623.851 852946.585)  \n",
       "2   6.165359  0.0  0.0         2  POINT (4271080.535 853188.657)  \n",
       "3  11.108755  0.0  0.0         3  POINT (4260673.648 853441.487)  \n",
       "4  23.005724  0.0  0.0         4  POINT (4260190.606 853680.107)  \n",
       "\n",
       "[5 rows x 26 columns]"
      ]
     },
     "execution_count": 5,
     "metadata": {},
     "output_type": "execute_result"
    }
   ],
   "source": [
    "baseyear_jobs_pts.head()"
   ]
  },
  {
   "cell_type": "code",
   "execution_count": 6,
   "id": "prescription-short",
   "metadata": {},
   "outputs": [],
   "source": [
    "input_folder = r\"T:\\MPO\\RTP\\FY20 2045 Update\\Data and Resources\""
   ]
  },
  {
   "cell_type": "code",
   "execution_count": 8,
   "id": "documentary-nashville",
   "metadata": {},
   "outputs": [],
   "source": [
    "service_stops = gpd.read_file(os.path.join(input_folder, \"PerformanceAnalysis\", \"service_transit_equity\", \"service_stops.shp\"))"
   ]
  },
  {
   "cell_type": "code",
   "execution_count": 9,
   "id": "public-certificate",
   "metadata": {},
   "outputs": [
    {
     "data": {
      "text/html": [
       "<div>\n",
       "<style scoped>\n",
       "    .dataframe tbody tr th:only-of-type {\n",
       "        vertical-align: middle;\n",
       "    }\n",
       "\n",
       "    .dataframe tbody tr th {\n",
       "        vertical-align: top;\n",
       "    }\n",
       "\n",
       "    .dataframe thead th {\n",
       "        text-align: right;\n",
       "    }\n",
       "</style>\n",
       "<table border=\"1\" class=\"dataframe\">\n",
       "  <thead>\n",
       "    <tr style=\"text-align: right;\">\n",
       "      <th></th>\n",
       "      <th>name</th>\n",
       "      <th>longitude</th>\n",
       "      <th>latitude</th>\n",
       "      <th>type</th>\n",
       "      <th>geometry</th>\n",
       "    </tr>\n",
       "  </thead>\n",
       "  <tbody>\n",
       "    <tr>\n",
       "      <th>0</th>\n",
       "      <td>Coburg City Hall</td>\n",
       "      <td>-123.067629</td>\n",
       "      <td>44.139154</td>\n",
       "      <td>City Hall</td>\n",
       "      <td>POINT (-13699827.424 5487002.751)</td>\n",
       "    </tr>\n",
       "    <tr>\n",
       "      <th>1</th>\n",
       "      <td>LTD Park &amp; Ride St. Matthew?s Episcopal Church</td>\n",
       "      <td>-123.140940</td>\n",
       "      <td>44.122960</td>\n",
       "      <td>LTD Park &amp; Ride</td>\n",
       "      <td>POINT (-13707988.283 5484491.106)</td>\n",
       "    </tr>\n",
       "    <tr>\n",
       "      <th>2</th>\n",
       "      <td>Awbrey Park Elementary School</td>\n",
       "      <td>-123.137966</td>\n",
       "      <td>44.123737</td>\n",
       "      <td>Elementary Sch</td>\n",
       "      <td>POINT (-13707657.245 5484611.544)</td>\n",
       "    </tr>\n",
       "    <tr>\n",
       "      <th>3</th>\n",
       "      <td>Madison Middle School</td>\n",
       "      <td>-123.119675</td>\n",
       "      <td>44.117052</td>\n",
       "      <td>Middle School</td>\n",
       "      <td>POINT (-13705621.082 5483574.996)</td>\n",
       "    </tr>\n",
       "    <tr>\n",
       "      <th>4</th>\n",
       "      <td>Spring Creek Elementary School</td>\n",
       "      <td>-123.144327</td>\n",
       "      <td>44.114781</td>\n",
       "      <td>Elementary Sch</td>\n",
       "      <td>POINT (-13708365.315 5483222.802)</td>\n",
       "    </tr>\n",
       "  </tbody>\n",
       "</table>\n",
       "</div>"
      ],
      "text/plain": [
       "                                             name   longitude   latitude  \\\n",
       "0                                Coburg City Hall -123.067629  44.139154   \n",
       "1  LTD Park & Ride St. Matthew?s Episcopal Church -123.140940  44.122960   \n",
       "2                   Awbrey Park Elementary School -123.137966  44.123737   \n",
       "3                           Madison Middle School -123.119675  44.117052   \n",
       "4                  Spring Creek Elementary School -123.144327  44.114781   \n",
       "\n",
       "              type                           geometry  \n",
       "0        City Hall  POINT (-13699827.424 5487002.751)  \n",
       "1  LTD Park & Ride  POINT (-13707988.283 5484491.106)  \n",
       "2   Elementary Sch  POINT (-13707657.245 5484611.544)  \n",
       "3    Middle School  POINT (-13705621.082 5483574.996)  \n",
       "4   Elementary Sch  POINT (-13708365.315 5483222.802)  "
      ]
     },
     "execution_count": 9,
     "metadata": {},
     "output_type": "execute_result"
    }
   ],
   "source": [
    "service_stops.head()"
   ]
  },
  {
   "cell_type": "code",
   "execution_count": 12,
   "id": "athletic-saskatchewan",
   "metadata": {},
   "outputs": [],
   "source": [
    "building_types = pd.read_csv('building_types.csv')"
   ]
  },
  {
   "cell_type": "code",
   "execution_count": 14,
   "id": "owned-works",
   "metadata": {},
   "outputs": [],
   "source": [
    "btypes = building_types[building_types['is_non_residential']]['building_type_id'].unique()"
   ]
  },
  {
   "cell_type": "code",
   "execution_count": 16,
   "id": "expressed-treatment",
   "metadata": {},
   "outputs": [
    {
     "data": {
      "text/html": [
       "<div>\n",
       "<style scoped>\n",
       "    .dataframe tbody tr th:only-of-type {\n",
       "        vertical-align: middle;\n",
       "    }\n",
       "\n",
       "    .dataframe tbody tr th {\n",
       "        vertical-align: top;\n",
       "    }\n",
       "\n",
       "    .dataframe thead th {\n",
       "        text-align: right;\n",
       "    }\n",
       "</style>\n",
       "<table border=\"1\" class=\"dataframe\">\n",
       "  <thead>\n",
       "    <tr style=\"text-align: right;\">\n",
       "      <th></th>\n",
       "      <th>building_type_id</th>\n",
       "      <th>name</th>\n",
       "      <th>description</th>\n",
       "      <th>is_residential</th>\n",
       "      <th>is_non_residential</th>\n",
       "      <th>is_other</th>\n",
       "    </tr>\n",
       "  </thead>\n",
       "  <tbody>\n",
       "    <tr>\n",
       "      <th>0</th>\n",
       "      <td>1110</td>\n",
       "      <td>Single-family Detached</td>\n",
       "      <td>Single Family Detached</td>\n",
       "      <td>True</td>\n",
       "      <td>False</td>\n",
       "      <td>False</td>\n",
       "    </tr>\n",
       "    <tr>\n",
       "      <th>1</th>\n",
       "      <td>1121</td>\n",
       "      <td>Townhome or Rowhouse</td>\n",
       "      <td>Single-Family Attached, Townhome or Rowhouse</td>\n",
       "      <td>True</td>\n",
       "      <td>False</td>\n",
       "      <td>False</td>\n",
       "    </tr>\n",
       "    <tr>\n",
       "      <th>2</th>\n",
       "      <td>1122</td>\n",
       "      <td>Duplex</td>\n",
       "      <td>Single-Family Attached, Duplex</td>\n",
       "      <td>True</td>\n",
       "      <td>False</td>\n",
       "      <td>False</td>\n",
       "    </tr>\n",
       "    <tr>\n",
       "      <th>3</th>\n",
       "      <td>1130</td>\n",
       "      <td>Mobile Homes</td>\n",
       "      <td>Single Family, Mobile Home</td>\n",
       "      <td>True</td>\n",
       "      <td>False</td>\n",
       "      <td>False</td>\n",
       "    </tr>\n",
       "    <tr>\n",
       "      <th>4</th>\n",
       "      <td>1210</td>\n",
       "      <td>Multifamily - Small Building</td>\n",
       "      <td>Multifamily, Triplex or Small (3 to 19 unit) A...</td>\n",
       "      <td>True</td>\n",
       "      <td>False</td>\n",
       "      <td>False</td>\n",
       "    </tr>\n",
       "  </tbody>\n",
       "</table>\n",
       "</div>"
      ],
      "text/plain": [
       "   building_type_id                          name  \\\n",
       "0              1110        Single-family Detached   \n",
       "1              1121          Townhome or Rowhouse   \n",
       "2              1122                        Duplex   \n",
       "3              1130                  Mobile Homes   \n",
       "4              1210  Multifamily - Small Building   \n",
       "\n",
       "                                         description  is_residential  \\\n",
       "0                             Single Family Detached            True   \n",
       "1       Single-Family Attached, Townhome or Rowhouse            True   \n",
       "2                     Single-Family Attached, Duplex            True   \n",
       "3                         Single Family, Mobile Home            True   \n",
       "4  Multifamily, Triplex or Small (3 to 19 unit) A...            True   \n",
       "\n",
       "   is_non_residential  is_other  \n",
       "0               False     False  \n",
       "1               False     False  \n",
       "2               False     False  \n",
       "3               False     False  \n",
       "4               False     False  "
      ]
     },
     "execution_count": 16,
     "metadata": {},
     "output_type": "execute_result"
    }
   ],
   "source": [
    "building_types.head()"
   ]
  },
  {
   "cell_type": "code",
   "execution_count": 17,
   "id": "variable-multimedia",
   "metadata": {},
   "outputs": [],
   "source": [
    "def get_building_info(x):\n",
    "    if len(x[1:-2].split(', ')) == 1:\n",
    "        a = x[1:-2].split(', ')\n",
    "        bname = building_types.loc[building_types.building_type_id == int(a[0]), 'name'].values[0]\n",
    "        bdesc = building_types.loc[building_types.building_type_id == int(a[0]), 'description'].values[0]\n",
    "    else:\n",
    "        a = x[1:-1].split(', ')\n",
    "        b = [int(btype) for btype in a]\n",
    "        btypeList = [btype for btype in b if btype in btypes]\n",
    "        bname = building_types.loc[building_types.building_type_id.isin(btypeList), 'name'].values[0]\n",
    "        bdesc = building_types.loc[building_types.building_type_id.isin(btypeList), 'description'].values[0]\n",
    "    return(bname, bdesc)"
   ]
  },
  {
   "cell_type": "code",
   "execution_count": 27,
   "id": "according-satellite",
   "metadata": {},
   "outputs": [],
   "source": [
    "baseyear_jobs_pts['type'] = baseyear_jobs_pts['btype'].apply(lambda x: get_building_info(x)[0])"
   ]
  },
  {
   "cell_type": "code",
   "execution_count": 28,
   "id": "classified-adolescent",
   "metadata": {},
   "outputs": [],
   "source": [
    "baseyear_jobs_pts['description'] = baseyear_jobs_pts['btype'].apply(lambda x: get_building_info(x)[1])"
   ]
  },
  {
   "cell_type": "code",
   "execution_count": 29,
   "id": "worldwide-certificate",
   "metadata": {},
   "outputs": [],
   "source": [
    "service_stops = service_stops.rename(columns={\"name\":\"description\"})"
   ]
  },
  {
   "cell_type": "code",
   "execution_count": 30,
   "id": "mounted-turning",
   "metadata": {},
   "outputs": [],
   "source": [
    "cols = ['type', 'description', 'geometry']"
   ]
  },
  {
   "cell_type": "code",
   "execution_count": 31,
   "id": "remarkable-bacon",
   "metadata": {},
   "outputs": [],
   "source": [
    "service_stops = service_stops[cols]"
   ]
  },
  {
   "cell_type": "code",
   "execution_count": 32,
   "id": "ecological-execution",
   "metadata": {},
   "outputs": [],
   "source": [
    "baseyear_jobs_pts = baseyear_jobs_pts[cols]"
   ]
  },
  {
   "cell_type": "code",
   "execution_count": 33,
   "id": "average-grocery",
   "metadata": {},
   "outputs": [],
   "source": [
    "baseyear_amenities = baseyear_jobs_pts.append(service_stops)"
   ]
  },
  {
   "cell_type": "code",
   "execution_count": 34,
   "id": "exempt-intervention",
   "metadata": {},
   "outputs": [
    {
     "data": {
      "text/html": [
       "<div>\n",
       "<style scoped>\n",
       "    .dataframe tbody tr th:only-of-type {\n",
       "        vertical-align: middle;\n",
       "    }\n",
       "\n",
       "    .dataframe tbody tr th {\n",
       "        vertical-align: top;\n",
       "    }\n",
       "\n",
       "    .dataframe thead th {\n",
       "        text-align: right;\n",
       "    }\n",
       "</style>\n",
       "<table border=\"1\" class=\"dataframe\">\n",
       "  <thead>\n",
       "    <tr style=\"text-align: right;\">\n",
       "      <th></th>\n",
       "      <th>type</th>\n",
       "      <th>description</th>\n",
       "      <th>geometry</th>\n",
       "    </tr>\n",
       "  </thead>\n",
       "  <tbody>\n",
       "    <tr>\n",
       "      <th>0</th>\n",
       "      <td>Light Industrial / Warehousing</td>\n",
       "      <td>Industrial, Light / Warehousing</td>\n",
       "      <td>POINT (4253553.765 844474.220)</td>\n",
       "    </tr>\n",
       "    <tr>\n",
       "      <th>1</th>\n",
       "      <td>Light Industrial / Warehousing</td>\n",
       "      <td>Industrial, Light / Warehousing</td>\n",
       "      <td>POINT (4260623.851 852946.585)</td>\n",
       "    </tr>\n",
       "    <tr>\n",
       "      <th>2</th>\n",
       "      <td>Light Industrial / Warehousing</td>\n",
       "      <td>Industrial, Light / Warehousing</td>\n",
       "      <td>POINT (4271080.535 853188.657)</td>\n",
       "    </tr>\n",
       "    <tr>\n",
       "      <th>3</th>\n",
       "      <td>Light Industrial / Warehousing</td>\n",
       "      <td>Industrial, Light / Warehousing</td>\n",
       "      <td>POINT (4260673.648 853441.487)</td>\n",
       "    </tr>\n",
       "    <tr>\n",
       "      <th>4</th>\n",
       "      <td>Heavy Industrial</td>\n",
       "      <td>Industrial, Heavy</td>\n",
       "      <td>POINT (4260190.606 853680.107)</td>\n",
       "    </tr>\n",
       "  </tbody>\n",
       "</table>\n",
       "</div>"
      ],
      "text/plain": [
       "                             type                      description  \\\n",
       "0  Light Industrial / Warehousing  Industrial, Light / Warehousing   \n",
       "1  Light Industrial / Warehousing  Industrial, Light / Warehousing   \n",
       "2  Light Industrial / Warehousing  Industrial, Light / Warehousing   \n",
       "3  Light Industrial / Warehousing  Industrial, Light / Warehousing   \n",
       "4                Heavy Industrial                Industrial, Heavy   \n",
       "\n",
       "                         geometry  \n",
       "0  POINT (4253553.765 844474.220)  \n",
       "1  POINT (4260623.851 852946.585)  \n",
       "2  POINT (4271080.535 853188.657)  \n",
       "3  POINT (4260673.648 853441.487)  \n",
       "4  POINT (4260190.606 853680.107)  "
      ]
     },
     "execution_count": 34,
     "metadata": {},
     "output_type": "execute_result"
    }
   ],
   "source": [
    "baseyear_amenities.head()"
   ]
  },
  {
   "cell_type": "code",
   "execution_count": 35,
   "id": "artistic-episode",
   "metadata": {},
   "outputs": [],
   "source": [
    "forecast_jobs_pts = gpd.read_file(path, layer=\"forecastJobs_FeatureToPoint\")"
   ]
  },
  {
   "cell_type": "code",
   "execution_count": 36,
   "id": "primary-calvin",
   "metadata": {},
   "outputs": [],
   "source": [
    "forecast_jobs_pts['type'] = forecast_jobs_pts['btype'].apply(lambda x: get_building_info(x)[0])\n",
    "forecast_jobs_pts['description'] = forecast_jobs_pts['btype'].apply(lambda x: get_building_info(x)[1])"
   ]
  },
  {
   "cell_type": "code",
   "execution_count": 37,
   "id": "romantic-daughter",
   "metadata": {},
   "outputs": [],
   "source": [
    "forecast_jobs_pts = forecast_jobs_pts[cols]"
   ]
  },
  {
   "cell_type": "code",
   "execution_count": 38,
   "id": "boxed-grounds",
   "metadata": {},
   "outputs": [],
   "source": [
    "forecast_amenities = forecast_jobs_pts.append(service_stops)"
   ]
  },
  {
   "cell_type": "code",
   "execution_count": 40,
   "id": "adjacent-preparation",
   "metadata": {},
   "outputs": [],
   "source": [
    "out_folder = r\"T:\\MPO\\RTP\\FY20 2045 Update\\Data and Resources\""
   ]
  },
  {
   "cell_type": "code",
   "execution_count": 41,
   "id": "clear-amino",
   "metadata": {},
   "outputs": [],
   "source": [
    "baseyear_amenities.to_file(os.path.join(out_folder, 'baseyear_amenities.shp'))"
   ]
  },
  {
   "cell_type": "code",
   "execution_count": 42,
   "id": "apart-perception",
   "metadata": {},
   "outputs": [],
   "source": [
    "forecast_amenities.to_file(os.path.join(out_folder, 'forecast_amenities.shp'))"
   ]
  },
  {
   "cell_type": "code",
   "execution_count": null,
   "id": "intended-adrian",
   "metadata": {},
   "outputs": [],
   "source": []
  }
 ],
 "metadata": {
  "kernelspec": {
   "display_name": "Python 3",
   "language": "python",
   "name": "python3"
  },
  "language_info": {
   "codemirror_mode": {
    "name": "ipython",
    "version": 3
   },
   "file_extension": ".py",
   "mimetype": "text/x-python",
   "name": "python",
   "nbconvert_exporter": "python",
   "pygments_lexer": "ipython3",
   "version": "3.8.8"
  }
 },
 "nbformat": 4,
 "nbformat_minor": 5
}

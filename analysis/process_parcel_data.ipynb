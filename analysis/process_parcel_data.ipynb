{
 "cells": [
  {
   "cell_type": "code",
   "execution_count": 1,
   "id": "mineral-while",
   "metadata": {},
   "outputs": [],
   "source": [
    "import geopandas as gpd\n",
    "import os\n",
    "import pandas as pd"
   ]
  },
  {
   "cell_type": "code",
   "execution_count": 2,
   "id": "boxed-assets",
   "metadata": {},
   "outputs": [],
   "source": [
    "path = r'T:\\Trans Projects\\Model Development\\UrbanSim_LandUse\\Output\\Simulation_47_Final_RTP'"
   ]
  },
  {
   "cell_type": "code",
   "execution_count": 3,
   "id": "complete-extension",
   "metadata": {},
   "outputs": [],
   "source": [
    "shp = 'parcel_fabric.shp'"
   ]
  },
  {
   "cell_type": "code",
   "execution_count": 166,
   "id": "bored-specification",
   "metadata": {},
   "outputs": [],
   "source": [
    "parcel_data = gpd.read_file(os.path.join(path, shp))"
   ]
  },
  {
   "cell_type": "code",
   "execution_count": 5,
   "id": "standing-punch",
   "metadata": {},
   "outputs": [
    {
     "data": {
      "text/plain": [
       "Index(['btype', 'nrsqft', 'rsqft', 'du', 'yrbuilt', 'lpid', 'pundev',\n",
       "       'dev_land', 'developed', 'obtype', 'orsqft', 'onrsqft', 'odu', 'zid',\n",
       "       'rezoned', 'city', 'annexed', 'ozid', 'geometry'],\n",
       "      dtype='object')"
      ]
     },
     "execution_count": 5,
     "metadata": {},
     "output_type": "execute_result"
    }
   ],
   "source": [
    "parcel_data.columns"
   ]
  },
  {
   "cell_type": "code",
   "execution_count": 6,
   "id": "modular-finland",
   "metadata": {},
   "outputs": [
    {
     "data": {
      "text/html": [
       "<div>\n",
       "<style scoped>\n",
       "    .dataframe tbody tr th:only-of-type {\n",
       "        vertical-align: middle;\n",
       "    }\n",
       "\n",
       "    .dataframe tbody tr th {\n",
       "        vertical-align: top;\n",
       "    }\n",
       "\n",
       "    .dataframe thead th {\n",
       "        text-align: right;\n",
       "    }\n",
       "</style>\n",
       "<table border=\"1\" class=\"dataframe\">\n",
       "  <thead>\n",
       "    <tr style=\"text-align: right;\">\n",
       "      <th></th>\n",
       "      <th>btype</th>\n",
       "      <th>nrsqft</th>\n",
       "      <th>rsqft</th>\n",
       "      <th>du</th>\n",
       "      <th>yrbuilt</th>\n",
       "      <th>lpid</th>\n",
       "      <th>pundev</th>\n",
       "      <th>dev_land</th>\n",
       "      <th>developed</th>\n",
       "      <th>obtype</th>\n",
       "      <th>orsqft</th>\n",
       "      <th>onrsqft</th>\n",
       "      <th>odu</th>\n",
       "      <th>zid</th>\n",
       "      <th>rezoned</th>\n",
       "      <th>city</th>\n",
       "      <th>annexed</th>\n",
       "      <th>ozid</th>\n",
       "      <th>geometry</th>\n",
       "    </tr>\n",
       "  </thead>\n",
       "  <tbody>\n",
       "    <tr>\n",
       "      <th>0</th>\n",
       "      <td>()</td>\n",
       "      <td>0.0</td>\n",
       "      <td>0.0</td>\n",
       "      <td>0.0</td>\n",
       "      <td>0.0</td>\n",
       "      <td>24284</td>\n",
       "      <td>0.00</td>\n",
       "      <td>1.123953e+04</td>\n",
       "      <td>0</td>\n",
       "      <td>()</td>\n",
       "      <td>0.0</td>\n",
       "      <td>0.0</td>\n",
       "      <td>0.0</td>\n",
       "      <td>119</td>\n",
       "      <td>0</td>\n",
       "      <td>None</td>\n",
       "      <td>0</td>\n",
       "      <td>119</td>\n",
       "      <td>MULTIPOLYGON (((4254437.869 843733.606, 425444...</td>\n",
       "    </tr>\n",
       "    <tr>\n",
       "      <th>1</th>\n",
       "      <td>(5100,)</td>\n",
       "      <td>1662.0</td>\n",
       "      <td>0.0</td>\n",
       "      <td>0.0</td>\n",
       "      <td>1969.0</td>\n",
       "      <td>24356</td>\n",
       "      <td>0.15</td>\n",
       "      <td>1.973955e+06</td>\n",
       "      <td>0</td>\n",
       "      <td>(5100,)</td>\n",
       "      <td>0.0</td>\n",
       "      <td>1662.0</td>\n",
       "      <td>0.0</td>\n",
       "      <td>119</td>\n",
       "      <td>0</td>\n",
       "      <td>None</td>\n",
       "      <td>0</td>\n",
       "      <td>119</td>\n",
       "      <td>POLYGON ((4254479.021 845048.443, 4254437.869 ...</td>\n",
       "    </tr>\n",
       "    <tr>\n",
       "      <th>2</th>\n",
       "      <td>(1110,)</td>\n",
       "      <td>0.0</td>\n",
       "      <td>3468.0</td>\n",
       "      <td>1.0</td>\n",
       "      <td>2006.0</td>\n",
       "      <td>24391</td>\n",
       "      <td>0.00</td>\n",
       "      <td>1.099604e+05</td>\n",
       "      <td>0</td>\n",
       "      <td>(1110,)</td>\n",
       "      <td>3468.0</td>\n",
       "      <td>0.0</td>\n",
       "      <td>1.0</td>\n",
       "      <td>62</td>\n",
       "      <td>0</td>\n",
       "      <td>None</td>\n",
       "      <td>0</td>\n",
       "      <td>62</td>\n",
       "      <td>POLYGON ((4250857.967 845652.695, 4250847.053 ...</td>\n",
       "    </tr>\n",
       "    <tr>\n",
       "      <th>3</th>\n",
       "      <td>(1110,)</td>\n",
       "      <td>0.0</td>\n",
       "      <td>1296.0</td>\n",
       "      <td>1.0</td>\n",
       "      <td>1984.0</td>\n",
       "      <td>24408</td>\n",
       "      <td>0.00</td>\n",
       "      <td>6.144933e+04</td>\n",
       "      <td>0</td>\n",
       "      <td>(1110,)</td>\n",
       "      <td>1296.0</td>\n",
       "      <td>0.0</td>\n",
       "      <td>1.0</td>\n",
       "      <td>62</td>\n",
       "      <td>0</td>\n",
       "      <td>None</td>\n",
       "      <td>0</td>\n",
       "      <td>62</td>\n",
       "      <td>POLYGON ((4250865.647 845846.211, 4250859.554 ...</td>\n",
       "    </tr>\n",
       "    <tr>\n",
       "      <th>4</th>\n",
       "      <td>(1110,)</td>\n",
       "      <td>0.0</td>\n",
       "      <td>2528.0</td>\n",
       "      <td>1.0</td>\n",
       "      <td>2015.0</td>\n",
       "      <td>24419</td>\n",
       "      <td>0.00</td>\n",
       "      <td>6.097905e+04</td>\n",
       "      <td>0</td>\n",
       "      <td>(1110,)</td>\n",
       "      <td>2528.0</td>\n",
       "      <td>0.0</td>\n",
       "      <td>1.0</td>\n",
       "      <td>62</td>\n",
       "      <td>0</td>\n",
       "      <td>None</td>\n",
       "      <td>0</td>\n",
       "      <td>62</td>\n",
       "      <td>POLYGON ((4250871.702 845998.498, 4250865.647 ...</td>\n",
       "    </tr>\n",
       "  </tbody>\n",
       "</table>\n",
       "</div>"
      ],
      "text/plain": [
       "     btype  nrsqft   rsqft   du  yrbuilt   lpid  pundev      dev_land  \\\n",
       "0       ()     0.0     0.0  0.0      0.0  24284    0.00  1.123953e+04   \n",
       "1  (5100,)  1662.0     0.0  0.0   1969.0  24356    0.15  1.973955e+06   \n",
       "2  (1110,)     0.0  3468.0  1.0   2006.0  24391    0.00  1.099604e+05   \n",
       "3  (1110,)     0.0  1296.0  1.0   1984.0  24408    0.00  6.144933e+04   \n",
       "4  (1110,)     0.0  2528.0  1.0   2015.0  24419    0.00  6.097905e+04   \n",
       "\n",
       "   developed   obtype  orsqft  onrsqft  odu  zid  rezoned  city  annexed  \\\n",
       "0          0       ()     0.0      0.0  0.0  119        0  None        0   \n",
       "1          0  (5100,)     0.0   1662.0  0.0  119        0  None        0   \n",
       "2          0  (1110,)  3468.0      0.0  1.0   62        0  None        0   \n",
       "3          0  (1110,)  1296.0      0.0  1.0   62        0  None        0   \n",
       "4          0  (1110,)  2528.0      0.0  1.0   62        0  None        0   \n",
       "\n",
       "   ozid                                           geometry  \n",
       "0   119  MULTIPOLYGON (((4254437.869 843733.606, 425444...  \n",
       "1   119  POLYGON ((4254479.021 845048.443, 4254437.869 ...  \n",
       "2    62  POLYGON ((4250857.967 845652.695, 4250847.053 ...  \n",
       "3    62  POLYGON ((4250865.647 845846.211, 4250859.554 ...  \n",
       "4    62  POLYGON ((4250871.702 845998.498, 4250865.647 ...  "
      ]
     },
     "execution_count": 6,
     "metadata": {},
     "output_type": "execute_result"
    }
   ],
   "source": [
    "parcel_data.head()"
   ]
  },
  {
   "cell_type": "code",
   "execution_count": 7,
   "id": "entitled-coaching",
   "metadata": {},
   "outputs": [
    {
     "data": {
      "text/plain": [
       "(78216, 19)"
      ]
     },
     "execution_count": 7,
     "metadata": {},
     "output_type": "execute_result"
    }
   ],
   "source": [
    "parcel_data.shape"
   ]
  },
  {
   "cell_type": "code",
   "execution_count": 8,
   "id": "coordinated-species",
   "metadata": {},
   "outputs": [
    {
     "data": {
      "text/plain": [
       "count    2703.000000\n",
       "mean        0.912320\n",
       "std        10.638641\n",
       "min         0.000000\n",
       "25%         0.000000\n",
       "50%         0.000000\n",
       "75%         1.000000\n",
       "max       536.000000\n",
       "Name: odu, dtype: float64"
      ]
     },
     "execution_count": 8,
     "metadata": {},
     "output_type": "execute_result"
    }
   ],
   "source": [
    "parcel_data[parcel_data['yrbuilt'] > 2020]['odu'].describe()"
   ]
  },
  {
   "cell_type": "code",
   "execution_count": 9,
   "id": "absolute-quarter",
   "metadata": {},
   "outputs": [
    {
     "data": {
      "text/plain": [
       "count    75513.000000\n",
       "mean         1.495623\n",
       "std          7.124226\n",
       "min          0.000000\n",
       "25%          1.000000\n",
       "50%          1.000000\n",
       "75%          1.000000\n",
       "max        400.000000\n",
       "Name: du, dtype: float64"
      ]
     },
     "execution_count": 9,
     "metadata": {},
     "output_type": "execute_result"
    }
   ],
   "source": [
    "parcel_data[parcel_data['yrbuilt'] < 2020]['du'].describe()"
   ]
  },
  {
   "cell_type": "code",
   "execution_count": 10,
   "id": "vocational-compromise",
   "metadata": {},
   "outputs": [
    {
     "data": {
      "text/plain": [
       "count    7.551300e+04\n",
       "mean     9.496663e+02\n",
       "std      1.209315e+04\n",
       "min      0.000000e+00\n",
       "25%      0.000000e+00\n",
       "50%      0.000000e+00\n",
       "75%      0.000000e+00\n",
       "max      1.117553e+06\n",
       "Name: nrsqft, dtype: float64"
      ]
     },
     "execution_count": 10,
     "metadata": {},
     "output_type": "execute_result"
    }
   ],
   "source": [
    "parcel_data[parcel_data['yrbuilt'] < 2020]['nrsqft'].describe()"
   ]
  },
  {
   "cell_type": "code",
   "execution_count": 11,
   "id": "pointed-canyon",
   "metadata": {},
   "outputs": [
    {
     "data": {
      "text/plain": [
       "count      2703.000000\n",
       "mean       2190.273400\n",
       "std       10715.194805\n",
       "min           0.000000\n",
       "25%           0.000000\n",
       "50%           0.000000\n",
       "75%        2295.000000\n",
       "max      475132.000000\n",
       "Name: onrsqft, dtype: float64"
      ]
     },
     "execution_count": 11,
     "metadata": {},
     "output_type": "execute_result"
    }
   ],
   "source": [
    "parcel_data[parcel_data['yrbuilt'] > 2020]['onrsqft'].describe()"
   ]
  },
  {
   "cell_type": "code",
   "execution_count": 12,
   "id": "complex-iraqi",
   "metadata": {},
   "outputs": [
    {
     "data": {
      "text/plain": [
       "dtype('O')"
      ]
     },
     "execution_count": 12,
     "metadata": {},
     "output_type": "execute_result"
    }
   ],
   "source": [
    "parcel_data['btype'].dtypes"
   ]
  },
  {
   "cell_type": "code",
   "execution_count": 13,
   "id": "perceived-survivor",
   "metadata": {},
   "outputs": [
    {
     "data": {
      "text/html": [
       "<div>\n",
       "<style scoped>\n",
       "    .dataframe tbody tr th:only-of-type {\n",
       "        vertical-align: middle;\n",
       "    }\n",
       "\n",
       "    .dataframe tbody tr th {\n",
       "        vertical-align: top;\n",
       "    }\n",
       "\n",
       "    .dataframe thead th {\n",
       "        text-align: right;\n",
       "    }\n",
       "</style>\n",
       "<table border=\"1\" class=\"dataframe\">\n",
       "  <thead>\n",
       "    <tr style=\"text-align: right;\">\n",
       "      <th></th>\n",
       "      <th>btype</th>\n",
       "    </tr>\n",
       "  </thead>\n",
       "  <tbody>\n",
       "    <tr>\n",
       "      <th>0</th>\n",
       "      <td>()</td>\n",
       "    </tr>\n",
       "    <tr>\n",
       "      <th>1</th>\n",
       "      <td>(5100,)</td>\n",
       "    </tr>\n",
       "    <tr>\n",
       "      <th>2</th>\n",
       "      <td>(1110,)</td>\n",
       "    </tr>\n",
       "    <tr>\n",
       "      <th>3</th>\n",
       "      <td>(1110,)</td>\n",
       "    </tr>\n",
       "    <tr>\n",
       "      <th>4</th>\n",
       "      <td>(1110,)</td>\n",
       "    </tr>\n",
       "  </tbody>\n",
       "</table>\n",
       "</div>"
      ],
      "text/plain": [
       "     btype\n",
       "0       ()\n",
       "1  (5100,)\n",
       "2  (1110,)\n",
       "3  (1110,)\n",
       "4  (1110,)"
      ]
     },
     "execution_count": 13,
     "metadata": {},
     "output_type": "execute_result"
    }
   ],
   "source": [
    "parcel_data[['btype']].head()"
   ]
  },
  {
   "cell_type": "code",
   "execution_count": 14,
   "id": "refined-shopping",
   "metadata": {},
   "outputs": [
    {
     "data": {
      "text/plain": [
       "36"
      ]
     },
     "execution_count": 14,
     "metadata": {},
     "output_type": "execute_result"
    }
   ],
   "source": [
    "parcel_data.btype.apply(len).max()"
   ]
  },
  {
   "cell_type": "code",
   "execution_count": 15,
   "id": "unlike-witness",
   "metadata": {},
   "outputs": [
    {
     "data": {
      "text/plain": [
       "24842    (1110, 4100, 5100, 6120, 6500, 7100)\n",
       "Name: btype, dtype: object"
      ]
     },
     "execution_count": 15,
     "metadata": {},
     "output_type": "execute_result"
    }
   ],
   "source": [
    "#parcel_data['btype_len'] = parcel_data.btype.apply(len)\n",
    "#parcel_data.loc[parcel_data.btype_len == parcel_data.btype_len.max(), 'btype']"
   ]
  },
  {
   "cell_type": "code",
   "execution_count": 16,
   "id": "judicial-decimal",
   "metadata": {},
   "outputs": [],
   "source": [
    "#parcel_data['btype1'] = parcel_data['btype'].apply(lambda x: str(x)[1:-2].split(', ')[0])"
   ]
  },
  {
   "cell_type": "code",
   "execution_count": 17,
   "id": "desirable-boundary",
   "metadata": {},
   "outputs": [],
   "source": [
    "#https://github.com/urbansim/lcog/blob/master/lcog/data/building_types.csv\n",
    "df = pd.read_csv('building_types.csv')"
   ]
  },
  {
   "cell_type": "code",
   "execution_count": 18,
   "id": "aerial-hello",
   "metadata": {},
   "outputs": [
    {
     "data": {
      "text/html": [
       "<div>\n",
       "<style scoped>\n",
       "    .dataframe tbody tr th:only-of-type {\n",
       "        vertical-align: middle;\n",
       "    }\n",
       "\n",
       "    .dataframe tbody tr th {\n",
       "        vertical-align: top;\n",
       "    }\n",
       "\n",
       "    .dataframe thead th {\n",
       "        text-align: right;\n",
       "    }\n",
       "</style>\n",
       "<table border=\"1\" class=\"dataframe\">\n",
       "  <thead>\n",
       "    <tr style=\"text-align: right;\">\n",
       "      <th></th>\n",
       "      <th>building_type_id</th>\n",
       "      <th>name</th>\n",
       "      <th>description</th>\n",
       "      <th>is_residential</th>\n",
       "      <th>is_non_residential</th>\n",
       "      <th>is_other</th>\n",
       "    </tr>\n",
       "  </thead>\n",
       "  <tbody>\n",
       "    <tr>\n",
       "      <th>0</th>\n",
       "      <td>1110</td>\n",
       "      <td>Single-family Detached</td>\n",
       "      <td>Single Family Detached</td>\n",
       "      <td>True</td>\n",
       "      <td>False</td>\n",
       "      <td>False</td>\n",
       "    </tr>\n",
       "    <tr>\n",
       "      <th>1</th>\n",
       "      <td>1121</td>\n",
       "      <td>Townhome or Rowhouse</td>\n",
       "      <td>Single-Family Attached, Townhome or Rowhouse</td>\n",
       "      <td>True</td>\n",
       "      <td>False</td>\n",
       "      <td>False</td>\n",
       "    </tr>\n",
       "    <tr>\n",
       "      <th>2</th>\n",
       "      <td>1122</td>\n",
       "      <td>Duplex</td>\n",
       "      <td>Single-Family Attached, Duplex</td>\n",
       "      <td>True</td>\n",
       "      <td>False</td>\n",
       "      <td>False</td>\n",
       "    </tr>\n",
       "    <tr>\n",
       "      <th>3</th>\n",
       "      <td>1130</td>\n",
       "      <td>Mobile Homes</td>\n",
       "      <td>Single Family, Mobile Home</td>\n",
       "      <td>True</td>\n",
       "      <td>False</td>\n",
       "      <td>False</td>\n",
       "    </tr>\n",
       "    <tr>\n",
       "      <th>4</th>\n",
       "      <td>1210</td>\n",
       "      <td>Multifamily - Small Building</td>\n",
       "      <td>Multifamily, Triplex or Small (3 to 19 unit) A...</td>\n",
       "      <td>True</td>\n",
       "      <td>False</td>\n",
       "      <td>False</td>\n",
       "    </tr>\n",
       "  </tbody>\n",
       "</table>\n",
       "</div>"
      ],
      "text/plain": [
       "   building_type_id                          name  \\\n",
       "0              1110        Single-family Detached   \n",
       "1              1121          Townhome or Rowhouse   \n",
       "2              1122                        Duplex   \n",
       "3              1130                  Mobile Homes   \n",
       "4              1210  Multifamily - Small Building   \n",
       "\n",
       "                                         description  is_residential  \\\n",
       "0                             Single Family Detached            True   \n",
       "1       Single-Family Attached, Townhome or Rowhouse            True   \n",
       "2                     Single-Family Attached, Duplex            True   \n",
       "3                         Single Family, Mobile Home            True   \n",
       "4  Multifamily, Triplex or Small (3 to 19 unit) A...            True   \n",
       "\n",
       "   is_non_residential  is_other  \n",
       "0               False     False  \n",
       "1               False     False  \n",
       "2               False     False  \n",
       "3               False     False  \n",
       "4               False     False  "
      ]
     },
     "execution_count": 18,
     "metadata": {},
     "output_type": "execute_result"
    }
   ],
   "source": [
    "df.head()"
   ]
  },
  {
   "cell_type": "code",
   "execution_count": 19,
   "id": "intended-thirty",
   "metadata": {},
   "outputs": [],
   "source": [
    "btypes = df[df['is_non_residential']]['building_type_id'].unique()"
   ]
  },
  {
   "cell_type": "code",
   "execution_count": 122,
   "id": "characteristic-incident",
   "metadata": {},
   "outputs": [],
   "source": [
    "ndf = df[df['is_residential']]\n",
    "res_btypes = ndf[~ndf['is_non_residential']]['building_type_id'].unique()"
   ]
  },
  {
   "cell_type": "code",
   "execution_count": 20,
   "id": "promotional-shuttle",
   "metadata": {},
   "outputs": [],
   "source": [
    "#https://github.com/urbansim/lcog/blob/master/lcog/data/bsqft_per_job.csv\n",
    "bsqft_per_job = pd.read_csv('bsqft_per_job.csv')"
   ]
  },
  {
   "cell_type": "code",
   "execution_count": 21,
   "id": "north-sphere",
   "metadata": {},
   "outputs": [
    {
     "data": {
      "text/html": [
       "<div>\n",
       "<style scoped>\n",
       "    .dataframe tbody tr th:only-of-type {\n",
       "        vertical-align: middle;\n",
       "    }\n",
       "\n",
       "    .dataframe tbody tr th {\n",
       "        vertical-align: top;\n",
       "    }\n",
       "\n",
       "    .dataframe thead th {\n",
       "        text-align: right;\n",
       "    }\n",
       "</style>\n",
       "<table border=\"1\" class=\"dataframe\">\n",
       "  <thead>\n",
       "    <tr style=\"text-align: right;\">\n",
       "      <th></th>\n",
       "      <th>building_type_id</th>\n",
       "      <th>area_per_job</th>\n",
       "      <th>placeholder_area_per_job</th>\n",
       "    </tr>\n",
       "  </thead>\n",
       "  <tbody>\n",
       "    <tr>\n",
       "      <th>0</th>\n",
       "      <td>5200</td>\n",
       "      <td>624.844490</td>\n",
       "      <td>0</td>\n",
       "    </tr>\n",
       "    <tr>\n",
       "      <th>1</th>\n",
       "      <td>5100</td>\n",
       "      <td>720.152698</td>\n",
       "      <td>0</td>\n",
       "    </tr>\n",
       "    <tr>\n",
       "      <th>2</th>\n",
       "      <td>9000</td>\n",
       "      <td>112.675926</td>\n",
       "      <td>0</td>\n",
       "    </tr>\n",
       "    <tr>\n",
       "      <th>3</th>\n",
       "      <td>4220</td>\n",
       "      <td>170.982468</td>\n",
       "      <td>0</td>\n",
       "    </tr>\n",
       "    <tr>\n",
       "      <th>4</th>\n",
       "      <td>4320</td>\n",
       "      <td>568.986339</td>\n",
       "      <td>0</td>\n",
       "    </tr>\n",
       "  </tbody>\n",
       "</table>\n",
       "</div>"
      ],
      "text/plain": [
       "   building_type_id  area_per_job  placeholder_area_per_job\n",
       "0              5200    624.844490                         0\n",
       "1              5100    720.152698                         0\n",
       "2              9000    112.675926                         0\n",
       "3              4220    170.982468                         0\n",
       "4              4320    568.986339                         0"
      ]
     },
     "execution_count": 21,
     "metadata": {},
     "output_type": "execute_result"
    }
   ],
   "source": [
    "bsqft_per_job.head()"
   ]
  },
  {
   "cell_type": "code",
   "execution_count": 161,
   "id": "returning-fashion",
   "metadata": {},
   "outputs": [],
   "source": [
    "def area_per_job(x):\n",
    "    if x[1:-2] == '':\n",
    "        area_per_job = None\n",
    "        isNonRes = False\n",
    "    else:\n",
    "        if len(x[1:-2].split(', ')) == 1:\n",
    "            a = x[1:-2].split(', ')\n",
    "            if int(a[0]) in btypes:            \n",
    "                area_per_job = bsqft_per_job.loc[bsqft_per_job.building_type_id == int(a[0]), 'area_per_job'].values[0]\n",
    "                isNonRes = True\n",
    "            elif int(a[0]) in res_btypes:\n",
    "                if int(a[0]) in bsqft_per_job.building_type_id:\n",
    "                    area_per_job = bsqft_per_job.loc[bsqft_per_job.building_type_id == int(a[0]), 'area_per_job'].values[0]\n",
    "                else:\n",
    "                    area_per_job = None\n",
    "                isNonRes = False\n",
    "            else:\n",
    "                area_per_job = None\n",
    "                isNonRes = False\n",
    "        else:\n",
    "            a = x[1:-1].split(', ')\n",
    "            b = [int(btype) for btype in a]\n",
    "            btypeList = [btype for btype in b if btype in btypes]\n",
    "            res_btypeList = [btype for btype in b if btype in res_btypes]\n",
    "            if btypeList == []:\n",
    "                area_per_job = bsqft_per_job.loc[bsqft_per_job.building_type_id.isin(res_btypeList), 'area_per_job'].mean()\n",
    "                isNonRes = False\n",
    "            else:\n",
    "                area_per_job = bsqft_per_job.loc[bsqft_per_job.building_type_id.isin(btypeList), 'area_per_job'].mean()\n",
    "                isNonRes = True\n",
    "    return(area_per_job, isNonRes)   "
   ]
  },
  {
   "cell_type": "code",
   "execution_count": 167,
   "id": "loose-relationship",
   "metadata": {},
   "outputs": [],
   "source": [
    "parcel_data['AreaPerJob'] = parcel_data['btype'].apply(lambda x: area_per_job(x)[0])"
   ]
  },
  {
   "cell_type": "code",
   "execution_count": 168,
   "id": "electoral-ordinary",
   "metadata": {},
   "outputs": [],
   "source": [
    "parcel_data['isNonRes'] = parcel_data['btype'].apply(lambda x: area_per_job(x)[1])"
   ]
  },
  {
   "cell_type": "code",
   "execution_count": 183,
   "id": "residential-station",
   "metadata": {},
   "outputs": [],
   "source": [
    "def compute_jobs(x, sqft, area):\n",
    "    return sqft / area if x else None"
   ]
  },
  {
   "cell_type": "code",
   "execution_count": 192,
   "id": "valued-elite",
   "metadata": {},
   "outputs": [],
   "source": [
    "parcel_data.jobs = parcel_data.apply(lambda row: compute_jobs(row.isNonRes, row.nrsqft, row.AreaPerJob), axis=1)\n",
    "parcel_data.ojobs = parcel_data.apply(lambda row: compute_jobs(row.isNonRes, row.onrsqft, row.AreaPerJob), axis=1)"
   ]
  },
  {
   "cell_type": "code",
   "execution_count": 190,
   "id": "respected-style",
   "metadata": {},
   "outputs": [
    {
     "data": {
      "text/plain": [
       "6072.616755069882"
      ]
     },
     "execution_count": 190,
     "metadata": {},
     "output_type": "execute_result"
    }
   ],
   "source": [
    "parcel_data['jobs'].max()"
   ]
  },
  {
   "cell_type": "code",
   "execution_count": 191,
   "id": "tender-climb",
   "metadata": {},
   "outputs": [
    {
     "data": {
      "text/plain": [
       "0.0"
      ]
     },
     "execution_count": 191,
     "metadata": {},
     "output_type": "execute_result"
    }
   ],
   "source": [
    "parcel_data['jobs'].min()"
   ]
  },
  {
   "cell_type": "code",
   "execution_count": 181,
   "id": "afraid-stroke",
   "metadata": {},
   "outputs": [],
   "source": [
    "# https://github.com/urbansim/lcog/blob/master/lcog/data/target_vacancies.csv\n",
    "parcel_data['hh'] = parcel_data['du'].apply(lambda x: x*0.965)\n",
    "parcel_data['ohh'] = parcel_data['odu'].apply(lambda x: x*0.965)"
   ]
  },
  {
   "cell_type": "code",
   "execution_count": 193,
   "id": "compact-silence",
   "metadata": {},
   "outputs": [],
   "source": [
    "parcel_data.to_file(os.path.join(path, 'output', 'parcel_data.shp'))"
   ]
  },
  {
   "cell_type": "code",
   "execution_count": 194,
   "id": "friendly-huntington",
   "metadata": {},
   "outputs": [
    {
     "data": {
      "text/plain": [
       "Index(['btype', 'nrsqft', 'rsqft', 'du', 'yrbuilt', 'lpid', 'pundev',\n",
       "       'dev_land', 'developed', 'obtype', 'orsqft', 'onrsqft', 'odu', 'zid',\n",
       "       'rezoned', 'city', 'annexed', 'ozid', 'geometry', 'AreaPerJob',\n",
       "       'isNonRes', 'jobs', 'ojobs', 'hh', 'ohh'],\n",
       "      dtype='object')"
      ]
     },
     "execution_count": 194,
     "metadata": {},
     "output_type": "execute_result"
    }
   ],
   "source": [
    "parcel_data.columns"
   ]
  },
  {
   "cell_type": "code",
   "execution_count": 195,
   "id": "occupational-beauty",
   "metadata": {},
   "outputs": [],
   "source": [
    "baseyearJobs = parcel_data[parcel_data['ojobs'] > 0]"
   ]
  },
  {
   "cell_type": "code",
   "execution_count": 196,
   "id": "antique-exhaust",
   "metadata": {},
   "outputs": [],
   "source": [
    "baseyearJobs.to_file(os.path.join(path, 'output', 'baseyearJobs.shp'))"
   ]
  },
  {
   "cell_type": "code",
   "execution_count": 197,
   "id": "domestic-wallet",
   "metadata": {},
   "outputs": [],
   "source": [
    "forecastJobs = parcel_data[parcel_data['jobs'] > 0]"
   ]
  },
  {
   "cell_type": "code",
   "execution_count": 198,
   "id": "straight-hunger",
   "metadata": {},
   "outputs": [],
   "source": [
    "forecastJobs.to_file(os.path.join(path, 'output', 'forecastJobs.shp'))"
   ]
  },
  {
   "cell_type": "code",
   "execution_count": 200,
   "id": "juvenile-drinking",
   "metadata": {},
   "outputs": [
    {
     "data": {
      "text/plain": [
       "(78216, 25)"
      ]
     },
     "execution_count": 200,
     "metadata": {},
     "output_type": "execute_result"
    }
   ],
   "source": [
    "parcel_data.shape"
   ]
  },
  {
   "cell_type": "code",
   "execution_count": 201,
   "id": "changing-launch",
   "metadata": {},
   "outputs": [
    {
     "data": {
      "text/plain": [
       "(3450, 25)"
      ]
     },
     "execution_count": 201,
     "metadata": {},
     "output_type": "execute_result"
    }
   ],
   "source": [
    "baseyearJobs.shape"
   ]
  },
  {
   "cell_type": "code",
   "execution_count": 202,
   "id": "electoral-wheel",
   "metadata": {},
   "outputs": [
    {
     "data": {
      "text/plain": [
       "(3854, 25)"
      ]
     },
     "execution_count": 202,
     "metadata": {},
     "output_type": "execute_result"
    }
   ],
   "source": [
    "forecastJobs.shape"
   ]
  },
  {
   "cell_type": "code",
   "execution_count": 203,
   "id": "common-shakespeare",
   "metadata": {},
   "outputs": [
    {
     "data": {
      "text/plain": [
       "(72627, 25)"
      ]
     },
     "execution_count": 203,
     "metadata": {},
     "output_type": "execute_result"
    }
   ],
   "source": [
    "parcel_data[parcel_data['hh'] > 0].shape"
   ]
  },
  {
   "cell_type": "code",
   "execution_count": 204,
   "id": "imperial-pierce",
   "metadata": {},
   "outputs": [
    {
     "data": {
      "text/plain": [
       "(72078, 25)"
      ]
     },
     "execution_count": 204,
     "metadata": {},
     "output_type": "execute_result"
    }
   ],
   "source": [
    "parcel_data[parcel_data['ohh'] > 0].shape"
   ]
  },
  {
   "cell_type": "code",
   "execution_count": 205,
   "id": "still-teddy",
   "metadata": {},
   "outputs": [
    {
     "data": {
      "text/plain": [
       "count    3450.000000\n",
       "mean       44.076939\n",
       "std       122.082840\n",
       "min         0.207834\n",
       "25%         8.249104\n",
       "50%        18.118844\n",
       "75%        40.326603\n",
       "max      2414.868846\n",
       "Name: ojobs, dtype: float64"
      ]
     },
     "execution_count": 205,
     "metadata": {},
     "output_type": "execute_result"
    }
   ],
   "source": [
    "baseyearJobs.ojobs.describe()"
   ]
  },
  {
   "cell_type": "code",
   "execution_count": 206,
   "id": "varied-portsmouth",
   "metadata": {},
   "outputs": [
    {
     "data": {
      "text/plain": [
       "count    3450.000000\n",
       "mean       57.176254\n",
       "std       171.308358\n",
       "min         0.207834\n",
       "25%         9.285145\n",
       "50%        22.424411\n",
       "75%        52.770532\n",
       "max      6072.616755\n",
       "Name: jobs, dtype: float64"
      ]
     },
     "execution_count": 206,
     "metadata": {},
     "output_type": "execute_result"
    }
   ],
   "source": [
    "baseyearJobs.jobs.describe()"
   ]
  },
  {
   "cell_type": "code",
   "execution_count": null,
   "id": "reasonable-lexington",
   "metadata": {},
   "outputs": [],
   "source": []
  }
 ],
 "metadata": {
  "kernelspec": {
   "display_name": "Python 3",
   "language": "python",
   "name": "python3"
  },
  "language_info": {
   "codemirror_mode": {
    "name": "ipython",
    "version": 3
   },
   "file_extension": ".py",
   "mimetype": "text/x-python",
   "name": "python",
   "nbconvert_exporter": "python",
   "pygments_lexer": "ipython3",
   "version": "3.8.8"
  }
 },
 "nbformat": 4,
 "nbformat_minor": 5
}

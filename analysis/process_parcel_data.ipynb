{
 "cells": [
  {
   "cell_type": "code",
   "execution_count": 1,
   "id": "awful-container",
   "metadata": {},
   "outputs": [],
   "source": [
    "import geopandas as gpd"
   ]
  },
  {
   "cell_type": "code",
   "execution_count": 3,
   "id": "documented-camcorder",
   "metadata": {},
   "outputs": [],
   "source": [
    "import os"
   ]
  },
  {
   "cell_type": "code",
   "execution_count": 2,
   "id": "stuck-jason",
   "metadata": {},
   "outputs": [],
   "source": [
    "path = r'T:\\Trans Projects\\Model Development\\UrbanSim_LandUse\\Output\\Simulation_47_Final_RTP'"
   ]
  },
  {
   "cell_type": "code",
   "execution_count": 4,
   "id": "waiting-helping",
   "metadata": {},
   "outputs": [],
   "source": [
    "shp = 'parcel_fabric.shp'"
   ]
  },
  {
   "cell_type": "code",
   "execution_count": 5,
   "id": "governmental-roller",
   "metadata": {},
   "outputs": [],
   "source": [
    "parcel_data = gpd.read_file(os.path.join(path, shp))"
   ]
  },
  {
   "cell_type": "code",
   "execution_count": 6,
   "id": "straight-financing",
   "metadata": {},
   "outputs": [
    {
     "data": {
      "text/plain": [
       "Index(['btype', 'nrsqft', 'rsqft', 'du', 'yrbuilt', 'lpid', 'pundev',\n",
       "       'dev_land', 'developed', 'obtype', 'orsqft', 'onrsqft', 'odu', 'zid',\n",
       "       'rezoned', 'city', 'annexed', 'ozid', 'geometry'],\n",
       "      dtype='object')"
      ]
     },
     "execution_count": 6,
     "metadata": {},
     "output_type": "execute_result"
    }
   ],
   "source": [
    "parcel_data.columns"
   ]
  },
  {
   "cell_type": "code",
   "execution_count": 7,
   "id": "naval-brook",
   "metadata": {},
   "outputs": [
    {
     "data": {
      "text/html": [
       "<div>\n",
       "<style scoped>\n",
       "    .dataframe tbody tr th:only-of-type {\n",
       "        vertical-align: middle;\n",
       "    }\n",
       "\n",
       "    .dataframe tbody tr th {\n",
       "        vertical-align: top;\n",
       "    }\n",
       "\n",
       "    .dataframe thead th {\n",
       "        text-align: right;\n",
       "    }\n",
       "</style>\n",
       "<table border=\"1\" class=\"dataframe\">\n",
       "  <thead>\n",
       "    <tr style=\"text-align: right;\">\n",
       "      <th></th>\n",
       "      <th>btype</th>\n",
       "      <th>nrsqft</th>\n",
       "      <th>rsqft</th>\n",
       "      <th>du</th>\n",
       "      <th>yrbuilt</th>\n",
       "      <th>lpid</th>\n",
       "      <th>pundev</th>\n",
       "      <th>dev_land</th>\n",
       "      <th>developed</th>\n",
       "      <th>obtype</th>\n",
       "      <th>orsqft</th>\n",
       "      <th>onrsqft</th>\n",
       "      <th>odu</th>\n",
       "      <th>zid</th>\n",
       "      <th>rezoned</th>\n",
       "      <th>city</th>\n",
       "      <th>annexed</th>\n",
       "      <th>ozid</th>\n",
       "      <th>geometry</th>\n",
       "    </tr>\n",
       "  </thead>\n",
       "  <tbody>\n",
       "    <tr>\n",
       "      <th>0</th>\n",
       "      <td>()</td>\n",
       "      <td>0.0</td>\n",
       "      <td>0.0</td>\n",
       "      <td>0.0</td>\n",
       "      <td>0.0</td>\n",
       "      <td>24284</td>\n",
       "      <td>0.00</td>\n",
       "      <td>1.123953e+04</td>\n",
       "      <td>0</td>\n",
       "      <td>()</td>\n",
       "      <td>0.0</td>\n",
       "      <td>0.0</td>\n",
       "      <td>0.0</td>\n",
       "      <td>119</td>\n",
       "      <td>0</td>\n",
       "      <td>None</td>\n",
       "      <td>0</td>\n",
       "      <td>119</td>\n",
       "      <td>MULTIPOLYGON (((4254437.869 843733.606, 425444...</td>\n",
       "    </tr>\n",
       "    <tr>\n",
       "      <th>1</th>\n",
       "      <td>(5100,)</td>\n",
       "      <td>1662.0</td>\n",
       "      <td>0.0</td>\n",
       "      <td>0.0</td>\n",
       "      <td>1969.0</td>\n",
       "      <td>24356</td>\n",
       "      <td>0.15</td>\n",
       "      <td>1.973955e+06</td>\n",
       "      <td>0</td>\n",
       "      <td>(5100,)</td>\n",
       "      <td>0.0</td>\n",
       "      <td>1662.0</td>\n",
       "      <td>0.0</td>\n",
       "      <td>119</td>\n",
       "      <td>0</td>\n",
       "      <td>None</td>\n",
       "      <td>0</td>\n",
       "      <td>119</td>\n",
       "      <td>POLYGON ((4254479.021 845048.443, 4254437.869 ...</td>\n",
       "    </tr>\n",
       "    <tr>\n",
       "      <th>2</th>\n",
       "      <td>(1110,)</td>\n",
       "      <td>0.0</td>\n",
       "      <td>3468.0</td>\n",
       "      <td>1.0</td>\n",
       "      <td>2006.0</td>\n",
       "      <td>24391</td>\n",
       "      <td>0.00</td>\n",
       "      <td>1.099604e+05</td>\n",
       "      <td>0</td>\n",
       "      <td>(1110,)</td>\n",
       "      <td>3468.0</td>\n",
       "      <td>0.0</td>\n",
       "      <td>1.0</td>\n",
       "      <td>62</td>\n",
       "      <td>0</td>\n",
       "      <td>None</td>\n",
       "      <td>0</td>\n",
       "      <td>62</td>\n",
       "      <td>POLYGON ((4250857.967 845652.695, 4250847.053 ...</td>\n",
       "    </tr>\n",
       "    <tr>\n",
       "      <th>3</th>\n",
       "      <td>(1110,)</td>\n",
       "      <td>0.0</td>\n",
       "      <td>1296.0</td>\n",
       "      <td>1.0</td>\n",
       "      <td>1984.0</td>\n",
       "      <td>24408</td>\n",
       "      <td>0.00</td>\n",
       "      <td>6.144933e+04</td>\n",
       "      <td>0</td>\n",
       "      <td>(1110,)</td>\n",
       "      <td>1296.0</td>\n",
       "      <td>0.0</td>\n",
       "      <td>1.0</td>\n",
       "      <td>62</td>\n",
       "      <td>0</td>\n",
       "      <td>None</td>\n",
       "      <td>0</td>\n",
       "      <td>62</td>\n",
       "      <td>POLYGON ((4250865.647 845846.211, 4250859.554 ...</td>\n",
       "    </tr>\n",
       "    <tr>\n",
       "      <th>4</th>\n",
       "      <td>(1110,)</td>\n",
       "      <td>0.0</td>\n",
       "      <td>2528.0</td>\n",
       "      <td>1.0</td>\n",
       "      <td>2015.0</td>\n",
       "      <td>24419</td>\n",
       "      <td>0.00</td>\n",
       "      <td>6.097905e+04</td>\n",
       "      <td>0</td>\n",
       "      <td>(1110,)</td>\n",
       "      <td>2528.0</td>\n",
       "      <td>0.0</td>\n",
       "      <td>1.0</td>\n",
       "      <td>62</td>\n",
       "      <td>0</td>\n",
       "      <td>None</td>\n",
       "      <td>0</td>\n",
       "      <td>62</td>\n",
       "      <td>POLYGON ((4250871.702 845998.498, 4250865.647 ...</td>\n",
       "    </tr>\n",
       "  </tbody>\n",
       "</table>\n",
       "</div>"
      ],
      "text/plain": [
       "     btype  nrsqft   rsqft   du  yrbuilt   lpid  pundev      dev_land  \\\n",
       "0       ()     0.0     0.0  0.0      0.0  24284    0.00  1.123953e+04   \n",
       "1  (5100,)  1662.0     0.0  0.0   1969.0  24356    0.15  1.973955e+06   \n",
       "2  (1110,)     0.0  3468.0  1.0   2006.0  24391    0.00  1.099604e+05   \n",
       "3  (1110,)     0.0  1296.0  1.0   1984.0  24408    0.00  6.144933e+04   \n",
       "4  (1110,)     0.0  2528.0  1.0   2015.0  24419    0.00  6.097905e+04   \n",
       "\n",
       "   developed   obtype  orsqft  onrsqft  odu  zid  rezoned  city  annexed  \\\n",
       "0          0       ()     0.0      0.0  0.0  119        0  None        0   \n",
       "1          0  (5100,)     0.0   1662.0  0.0  119        0  None        0   \n",
       "2          0  (1110,)  3468.0      0.0  1.0   62        0  None        0   \n",
       "3          0  (1110,)  1296.0      0.0  1.0   62        0  None        0   \n",
       "4          0  (1110,)  2528.0      0.0  1.0   62        0  None        0   \n",
       "\n",
       "   ozid                                           geometry  \n",
       "0   119  MULTIPOLYGON (((4254437.869 843733.606, 425444...  \n",
       "1   119  POLYGON ((4254479.021 845048.443, 4254437.869 ...  \n",
       "2    62  POLYGON ((4250857.967 845652.695, 4250847.053 ...  \n",
       "3    62  POLYGON ((4250865.647 845846.211, 4250859.554 ...  \n",
       "4    62  POLYGON ((4250871.702 845998.498, 4250865.647 ...  "
      ]
     },
     "execution_count": 7,
     "metadata": {},
     "output_type": "execute_result"
    }
   ],
   "source": [
    "parcel_data.head()"
   ]
  },
  {
   "cell_type": "code",
   "execution_count": 9,
   "id": "accredited-hungarian",
   "metadata": {},
   "outputs": [
    {
     "data": {
      "text/plain": [
       "(78216, 19)"
      ]
     },
     "execution_count": 9,
     "metadata": {},
     "output_type": "execute_result"
    }
   ],
   "source": [
    "parcel_data.shape"
   ]
  },
  {
   "cell_type": "code",
   "execution_count": 11,
   "id": "parliamentary-shore",
   "metadata": {},
   "outputs": [
    {
     "data": {
      "text/plain": [
       "[0.0,\n",
       " 1800.0,\n",
       " 1850.0,\n",
       " 1853.0,\n",
       " 1860.0,\n",
       " 1863.0,\n",
       " 1870.0,\n",
       " 1880.0,\n",
       " 1885.0,\n",
       " 1887.0,\n",
       " 1888.0,\n",
       " 1889.0,\n",
       " 1890.0,\n",
       " 1891.0,\n",
       " 1892.0,\n",
       " 1893.0,\n",
       " 1894.0,\n",
       " 1895.0,\n",
       " 1896.0,\n",
       " 1898.0,\n",
       " 1899.0,\n",
       " 1899.5,\n",
       " 1900.0,\n",
       " 1901.0,\n",
       " 1901.5,\n",
       " 1902.0,\n",
       " 1903.0,\n",
       " 1904.0,\n",
       " 1905.0,\n",
       " 1906.0,\n",
       " 1907.0,\n",
       " 1908.0,\n",
       " 1909.0,\n",
       " 1910.0,\n",
       " 1911.0,\n",
       " 1912.0,\n",
       " 1913.0,\n",
       " 1914.0,\n",
       " 1915.0,\n",
       " 1916.0,\n",
       " 1917.0,\n",
       " 1917.5,\n",
       " 1918.0,\n",
       " 1919.0,\n",
       " 1919.5,\n",
       " 1920.0,\n",
       " 1920.5,\n",
       " 1921.0,\n",
       " 1922.0,\n",
       " 1923.0,\n",
       " 1923.5,\n",
       " 1924.0,\n",
       " 1924.5,\n",
       " 1925.0,\n",
       " 1926.0,\n",
       " 1926.5,\n",
       " 1927.0,\n",
       " 1927.5,\n",
       " 1928.0,\n",
       " 1928.5,\n",
       " 1929.0,\n",
       " 1930.0,\n",
       " 1931.0,\n",
       " 1931.5,\n",
       " 1932.0,\n",
       " 1932.5,\n",
       " 1933.0,\n",
       " 1933.5,\n",
       " 1934.0,\n",
       " 1934.5,\n",
       " 1935.0,\n",
       " 1935.5,\n",
       " 1936.0,\n",
       " 1936.5,\n",
       " 1937.0,\n",
       " 1937.5,\n",
       " 1938.0,\n",
       " 1938.5,\n",
       " 1939.0,\n",
       " 1939.5,\n",
       " 1940.0,\n",
       " 1940.5,\n",
       " 1941.0,\n",
       " 1941.5,\n",
       " 1942.0,\n",
       " 1942.5,\n",
       " 1943.0,\n",
       " 1943.5,\n",
       " 1944.0,\n",
       " 1944.5,\n",
       " 1945.0,\n",
       " 1945.5,\n",
       " 1946.0,\n",
       " 1946.5,\n",
       " 1947.0,\n",
       " 1947.5,\n",
       " 1948.0,\n",
       " 1948.5,\n",
       " 1949.0,\n",
       " 1949.5,\n",
       " 1950.0,\n",
       " 1950.5,\n",
       " 1951.0,\n",
       " 1951.5,\n",
       " 1952.0,\n",
       " 1952.5,\n",
       " 1953.0,\n",
       " 1953.5,\n",
       " 1954.0,\n",
       " 1954.5,\n",
       " 1955.0,\n",
       " 1955.5,\n",
       " 1956.0,\n",
       " 1956.5,\n",
       " 1957.0,\n",
       " 1957.5,\n",
       " 1958.0,\n",
       " 1958.5,\n",
       " 1959.0,\n",
       " 1959.5,\n",
       " 1960.0,\n",
       " 1960.5,\n",
       " 1961.0,\n",
       " 1961.5,\n",
       " 1962.0,\n",
       " 1962.5,\n",
       " 1963.0,\n",
       " 1963.5,\n",
       " 1964.0,\n",
       " 1964.5,\n",
       " 1965.0,\n",
       " 1965.5,\n",
       " 1966.0,\n",
       " 1966.5,\n",
       " 1967.0,\n",
       " 1967.5,\n",
       " 1968.0,\n",
       " 1968.5,\n",
       " 1969.0,\n",
       " 1969.5,\n",
       " 1970.0,\n",
       " 1970.5,\n",
       " 1971.0,\n",
       " 1971.5,\n",
       " 1972.0,\n",
       " 1972.5,\n",
       " 1973.0,\n",
       " 1973.5,\n",
       " 1974.0,\n",
       " 1974.5,\n",
       " 1975.0,\n",
       " 1975.5,\n",
       " 1976.0,\n",
       " 1976.5,\n",
       " 1977.0,\n",
       " 1977.5,\n",
       " 1978.0,\n",
       " 1978.5,\n",
       " 1979.0,\n",
       " 1979.5,\n",
       " 1980.0,\n",
       " 1980.5,\n",
       " 1981.0,\n",
       " 1981.5,\n",
       " 1982.0,\n",
       " 1982.5,\n",
       " 1983.0,\n",
       " 1983.5,\n",
       " 1984.0,\n",
       " 1984.5,\n",
       " 1985.0,\n",
       " 1985.5,\n",
       " 1986.0,\n",
       " 1986.5,\n",
       " 1987.0,\n",
       " 1987.5,\n",
       " 1988.0,\n",
       " 1988.5,\n",
       " 1989.0,\n",
       " 1989.5,\n",
       " 1990.0,\n",
       " 1990.5,\n",
       " 1991.0,\n",
       " 1991.5,\n",
       " 1992.0,\n",
       " 1992.5,\n",
       " 1993.0,\n",
       " 1993.5,\n",
       " 1994.0,\n",
       " 1994.5,\n",
       " 1995.0,\n",
       " 1995.5,\n",
       " 1996.0,\n",
       " 1996.5,\n",
       " 1997.0,\n",
       " 1997.5,\n",
       " 1998.0,\n",
       " 1998.5,\n",
       " 1999.0,\n",
       " 1999.5,\n",
       " 2000.0,\n",
       " 2000.5,\n",
       " 2001.0,\n",
       " 2001.5,\n",
       " 2002.0,\n",
       " 2002.5,\n",
       " 2003.0,\n",
       " 2003.5,\n",
       " 2004.0,\n",
       " 2004.5,\n",
       " 2005.0,\n",
       " 2005.5,\n",
       " 2006.0,\n",
       " 2006.5,\n",
       " 2007.0,\n",
       " 2007.5,\n",
       " 2008.0,\n",
       " 2008.5,\n",
       " 2009.0,\n",
       " 2009.5,\n",
       " 2010.0,\n",
       " 2010.5,\n",
       " 2011.0,\n",
       " 2011.5,\n",
       " 2012.0,\n",
       " 2012.5,\n",
       " 2013.0,\n",
       " 2013.5,\n",
       " 2014.0,\n",
       " 2014.5,\n",
       " 2015.0,\n",
       " 2015.5,\n",
       " 2016.0,\n",
       " 2016.5,\n",
       " 2017.0,\n",
       " 2017.5,\n",
       " 2018.0,\n",
       " 2018.5,\n",
       " 2019.0,\n",
       " 2021.0,\n",
       " 2022.0,\n",
       " 2023.0,\n",
       " 2024.0,\n",
       " 2025.0,\n",
       " 2026.0,\n",
       " 2027.0,\n",
       " 2028.0,\n",
       " 2029.0,\n",
       " 2030.0,\n",
       " 2031.0,\n",
       " 2032.0,\n",
       " 2033.0,\n",
       " 2034.0,\n",
       " 2035.0,\n",
       " 2036.0,\n",
       " 2037.0,\n",
       " 2038.0,\n",
       " 2039.0,\n",
       " 2040.0,\n",
       " 2041.0,\n",
       " 2042.0,\n",
       " 2043.0,\n",
       " 2044.0,\n",
       " 2045.0]"
      ]
     },
     "execution_count": 11,
     "metadata": {},
     "output_type": "execute_result"
    }
   ],
   "source": [
    "sorted(parcel_data['yrbuilt'].unique())"
   ]
  },
  {
   "cell_type": "code",
   "execution_count": 13,
   "id": "automated-coupon",
   "metadata": {},
   "outputs": [
    {
     "data": {
      "text/plain": [
       "count    2703.000000\n",
       "mean        0.912320\n",
       "std        10.638641\n",
       "min         0.000000\n",
       "25%         0.000000\n",
       "50%         0.000000\n",
       "75%         1.000000\n",
       "max       536.000000\n",
       "Name: odu, dtype: float64"
      ]
     },
     "execution_count": 13,
     "metadata": {},
     "output_type": "execute_result"
    }
   ],
   "source": [
    "parcel_data[parcel_data['yrbuilt'] > 2020]['odu'].describe()"
   ]
  },
  {
   "cell_type": "code",
   "execution_count": 15,
   "id": "efficient-county",
   "metadata": {},
   "outputs": [
    {
     "data": {
      "text/plain": [
       "count    7.551300e+04\n",
       "mean     9.496663e+02\n",
       "std      1.209315e+04\n",
       "min      0.000000e+00\n",
       "25%      0.000000e+00\n",
       "50%      0.000000e+00\n",
       "75%      0.000000e+00\n",
       "max      1.117553e+06\n",
       "Name: onrsqft, dtype: float64"
      ]
     },
     "execution_count": 15,
     "metadata": {},
     "output_type": "execute_result"
    }
   ],
   "source": [
    "parcel_data[parcel_data['yrbuilt'] < 2020]['onrsqft'].describe()"
   ]
  },
  {
   "cell_type": "code",
   "execution_count": 16,
   "id": "lonely-balance",
   "metadata": {},
   "outputs": [
    {
     "data": {
      "text/plain": [
       "count    2.703000e+03\n",
       "mean     1.130654e+04\n",
       "std      4.718592e+04\n",
       "min      0.000000e+00\n",
       "25%      0.000000e+00\n",
       "50%      0.000000e+00\n",
       "75%      9.240500e+03\n",
       "max      1.038311e+06\n",
       "Name: nrsqft, dtype: float64"
      ]
     },
     "execution_count": 16,
     "metadata": {},
     "output_type": "execute_result"
    }
   ],
   "source": [
    "parcel_data[parcel_data['yrbuilt'] > 2020]['nrsqft'].describe()"
   ]
  },
  {
   "cell_type": "code",
   "execution_count": 22,
   "id": "minimal-medicare",
   "metadata": {},
   "outputs": [
    {
     "data": {
      "text/plain": [
       "dtype('O')"
      ]
     },
     "execution_count": 22,
     "metadata": {},
     "output_type": "execute_result"
    }
   ],
   "source": [
    "parcel_data['btype'].dtypes"
   ]
  },
  {
   "cell_type": "code",
   "execution_count": 30,
   "id": "relevant-mediterranean",
   "metadata": {},
   "outputs": [
    {
     "data": {
      "text/html": [
       "<div>\n",
       "<style scoped>\n",
       "    .dataframe tbody tr th:only-of-type {\n",
       "        vertical-align: middle;\n",
       "    }\n",
       "\n",
       "    .dataframe tbody tr th {\n",
       "        vertical-align: top;\n",
       "    }\n",
       "\n",
       "    .dataframe thead th {\n",
       "        text-align: right;\n",
       "    }\n",
       "</style>\n",
       "<table border=\"1\" class=\"dataframe\">\n",
       "  <thead>\n",
       "    <tr style=\"text-align: right;\">\n",
       "      <th></th>\n",
       "      <th>btype</th>\n",
       "    </tr>\n",
       "  </thead>\n",
       "  <tbody>\n",
       "    <tr>\n",
       "      <th>0</th>\n",
       "      <td>()</td>\n",
       "    </tr>\n",
       "    <tr>\n",
       "      <th>1</th>\n",
       "      <td>(5100,)</td>\n",
       "    </tr>\n",
       "    <tr>\n",
       "      <th>2</th>\n",
       "      <td>(1110,)</td>\n",
       "    </tr>\n",
       "    <tr>\n",
       "      <th>3</th>\n",
       "      <td>(1110,)</td>\n",
       "    </tr>\n",
       "    <tr>\n",
       "      <th>4</th>\n",
       "      <td>(1110,)</td>\n",
       "    </tr>\n",
       "  </tbody>\n",
       "</table>\n",
       "</div>"
      ],
      "text/plain": [
       "     btype\n",
       "0       ()\n",
       "1  (5100,)\n",
       "2  (1110,)\n",
       "3  (1110,)\n",
       "4  (1110,)"
      ]
     },
     "execution_count": 30,
     "metadata": {},
     "output_type": "execute_result"
    }
   ],
   "source": [
    "parcel_data[['btype']].head()"
   ]
  },
  {
   "cell_type": "code",
   "execution_count": 33,
   "id": "sought-tracy",
   "metadata": {},
   "outputs": [
    {
     "data": {
      "text/plain": [
       "36"
      ]
     },
     "execution_count": 33,
     "metadata": {},
     "output_type": "execute_result"
    }
   ],
   "source": [
    "parcel_data.btype.apply(len).max()"
   ]
  },
  {
   "cell_type": "code",
   "execution_count": 39,
   "id": "advance-disability",
   "metadata": {},
   "outputs": [
    {
     "data": {
      "text/plain": [
       "24842    (1110, 4100, 5100, 6120, 6500, 7100)\n",
       "Name: btype, dtype: object"
      ]
     },
     "execution_count": 39,
     "metadata": {},
     "output_type": "execute_result"
    }
   ],
   "source": [
    "parcel_data['btype_len'] = parcel_data.btype.apply(len)\n",
    "parcel_data.loc[parcel_data.btype_len == parcel_data.btype_len.max(), 'btype']"
   ]
  },
  {
   "cell_type": "code",
   "execution_count": 40,
   "id": "beneficial-gender",
   "metadata": {},
   "outputs": [
    {
     "data": {
      "text/plain": [
       "0            \n",
       "1        5100\n",
       "2        1110\n",
       "3        1110\n",
       "4        1110\n",
       "         ... \n",
       "78211    1110\n",
       "78212    1110\n",
       "78213    4100\n",
       "78214    1110\n",
       "78215    1110\n",
       "Name: btype, Length: 78216, dtype: object"
      ]
     },
     "execution_count": 40,
     "metadata": {},
     "output_type": "execute_result"
    }
   ],
   "source": [
    "parcel_data['btype1'] = parcel_data['btype'].apply(lambda x: str(x)[1:-2].split(', ')[0])"
   ]
  },
  {
   "cell_type": "code",
   "execution_count": null,
   "id": "conservative-walnut",
   "metadata": {},
   "outputs": [],
   "source": []
  }
 ],
 "metadata": {
  "kernelspec": {
   "display_name": "Python 3",
   "language": "python",
   "name": "python3"
  },
  "language_info": {
   "codemirror_mode": {
    "name": "ipython",
    "version": 3
   },
   "file_extension": ".py",
   "mimetype": "text/x-python",
   "name": "python",
   "nbconvert_exporter": "python",
   "pygments_lexer": "ipython3",
   "version": "3.8.8"
  }
 },
 "nbformat": 4,
 "nbformat_minor": 5
}

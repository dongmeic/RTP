{
 "cells": [
  {
   "cell_type": "code",
   "execution_count": 1,
   "id": "imposed-politics",
   "metadata": {},
   "outputs": [],
   "source": [
    "import geopandas as gpd"
   ]
  },
  {
   "cell_type": "code",
   "execution_count": 3,
   "id": "civic-hydrogen",
   "metadata": {},
   "outputs": [],
   "source": [
    "import os"
   ]
  },
  {
   "cell_type": "code",
   "execution_count": 2,
   "id": "fitted-lodging",
   "metadata": {},
   "outputs": [],
   "source": [
    "path = r'T:\\Trans Projects\\Model Development\\UrbanSim_LandUse\\Output\\Simulation_47_Final_RTP'"
   ]
  },
  {
   "cell_type": "code",
   "execution_count": 4,
   "id": "elementary-mathematics",
   "metadata": {},
   "outputs": [],
   "source": [
    "shp = 'parcel_fabric.shp'"
   ]
  },
  {
   "cell_type": "code",
   "execution_count": 5,
   "id": "olive-graph",
   "metadata": {},
   "outputs": [],
   "source": [
    "parcel_data = gpd.read_file(os.path.join(path, shp))"
   ]
  },
  {
   "cell_type": "code",
   "execution_count": 6,
   "id": "palestinian-framing",
   "metadata": {},
   "outputs": [
    {
     "data": {
      "text/plain": [
       "Index(['btype', 'nrsqft', 'rsqft', 'du', 'yrbuilt', 'lpid', 'pundev',\n",
       "       'dev_land', 'developed', 'obtype', 'orsqft', 'onrsqft', 'odu', 'zid',\n",
       "       'rezoned', 'city', 'annexed', 'ozid', 'geometry'],\n",
       "      dtype='object')"
      ]
     },
     "execution_count": 6,
     "metadata": {},
     "output_type": "execute_result"
    }
   ],
   "source": [
    "parcel_data.columns"
   ]
  },
  {
   "cell_type": "code",
   "execution_count": 7,
   "id": "organic-dispute",
   "metadata": {},
   "outputs": [
    {
     "data": {
      "text/html": [
       "<div>\n",
       "<style scoped>\n",
       "    .dataframe tbody tr th:only-of-type {\n",
       "        vertical-align: middle;\n",
       "    }\n",
       "\n",
       "    .dataframe tbody tr th {\n",
       "        vertical-align: top;\n",
       "    }\n",
       "\n",
       "    .dataframe thead th {\n",
       "        text-align: right;\n",
       "    }\n",
       "</style>\n",
       "<table border=\"1\" class=\"dataframe\">\n",
       "  <thead>\n",
       "    <tr style=\"text-align: right;\">\n",
       "      <th></th>\n",
       "      <th>btype</th>\n",
       "      <th>nrsqft</th>\n",
       "      <th>rsqft</th>\n",
       "      <th>du</th>\n",
       "      <th>yrbuilt</th>\n",
       "      <th>lpid</th>\n",
       "      <th>pundev</th>\n",
       "      <th>dev_land</th>\n",
       "      <th>developed</th>\n",
       "      <th>obtype</th>\n",
       "      <th>orsqft</th>\n",
       "      <th>onrsqft</th>\n",
       "      <th>odu</th>\n",
       "      <th>zid</th>\n",
       "      <th>rezoned</th>\n",
       "      <th>city</th>\n",
       "      <th>annexed</th>\n",
       "      <th>ozid</th>\n",
       "      <th>geometry</th>\n",
       "    </tr>\n",
       "  </thead>\n",
       "  <tbody>\n",
       "    <tr>\n",
       "      <th>0</th>\n",
       "      <td>()</td>\n",
       "      <td>0.0</td>\n",
       "      <td>0.0</td>\n",
       "      <td>0.0</td>\n",
       "      <td>0.0</td>\n",
       "      <td>24284</td>\n",
       "      <td>0.00</td>\n",
       "      <td>1.123953e+04</td>\n",
       "      <td>0</td>\n",
       "      <td>()</td>\n",
       "      <td>0.0</td>\n",
       "      <td>0.0</td>\n",
       "      <td>0.0</td>\n",
       "      <td>119</td>\n",
       "      <td>0</td>\n",
       "      <td>None</td>\n",
       "      <td>0</td>\n",
       "      <td>119</td>\n",
       "      <td>MULTIPOLYGON (((4254437.869 843733.606, 425444...</td>\n",
       "    </tr>\n",
       "    <tr>\n",
       "      <th>1</th>\n",
       "      <td>(5100,)</td>\n",
       "      <td>1662.0</td>\n",
       "      <td>0.0</td>\n",
       "      <td>0.0</td>\n",
       "      <td>1969.0</td>\n",
       "      <td>24356</td>\n",
       "      <td>0.15</td>\n",
       "      <td>1.973955e+06</td>\n",
       "      <td>0</td>\n",
       "      <td>(5100,)</td>\n",
       "      <td>0.0</td>\n",
       "      <td>1662.0</td>\n",
       "      <td>0.0</td>\n",
       "      <td>119</td>\n",
       "      <td>0</td>\n",
       "      <td>None</td>\n",
       "      <td>0</td>\n",
       "      <td>119</td>\n",
       "      <td>POLYGON ((4254479.021 845048.443, 4254437.869 ...</td>\n",
       "    </tr>\n",
       "    <tr>\n",
       "      <th>2</th>\n",
       "      <td>(1110,)</td>\n",
       "      <td>0.0</td>\n",
       "      <td>3468.0</td>\n",
       "      <td>1.0</td>\n",
       "      <td>2006.0</td>\n",
       "      <td>24391</td>\n",
       "      <td>0.00</td>\n",
       "      <td>1.099604e+05</td>\n",
       "      <td>0</td>\n",
       "      <td>(1110,)</td>\n",
       "      <td>3468.0</td>\n",
       "      <td>0.0</td>\n",
       "      <td>1.0</td>\n",
       "      <td>62</td>\n",
       "      <td>0</td>\n",
       "      <td>None</td>\n",
       "      <td>0</td>\n",
       "      <td>62</td>\n",
       "      <td>POLYGON ((4250857.967 845652.695, 4250847.053 ...</td>\n",
       "    </tr>\n",
       "    <tr>\n",
       "      <th>3</th>\n",
       "      <td>(1110,)</td>\n",
       "      <td>0.0</td>\n",
       "      <td>1296.0</td>\n",
       "      <td>1.0</td>\n",
       "      <td>1984.0</td>\n",
       "      <td>24408</td>\n",
       "      <td>0.00</td>\n",
       "      <td>6.144933e+04</td>\n",
       "      <td>0</td>\n",
       "      <td>(1110,)</td>\n",
       "      <td>1296.0</td>\n",
       "      <td>0.0</td>\n",
       "      <td>1.0</td>\n",
       "      <td>62</td>\n",
       "      <td>0</td>\n",
       "      <td>None</td>\n",
       "      <td>0</td>\n",
       "      <td>62</td>\n",
       "      <td>POLYGON ((4250865.647 845846.211, 4250859.554 ...</td>\n",
       "    </tr>\n",
       "    <tr>\n",
       "      <th>4</th>\n",
       "      <td>(1110,)</td>\n",
       "      <td>0.0</td>\n",
       "      <td>2528.0</td>\n",
       "      <td>1.0</td>\n",
       "      <td>2015.0</td>\n",
       "      <td>24419</td>\n",
       "      <td>0.00</td>\n",
       "      <td>6.097905e+04</td>\n",
       "      <td>0</td>\n",
       "      <td>(1110,)</td>\n",
       "      <td>2528.0</td>\n",
       "      <td>0.0</td>\n",
       "      <td>1.0</td>\n",
       "      <td>62</td>\n",
       "      <td>0</td>\n",
       "      <td>None</td>\n",
       "      <td>0</td>\n",
       "      <td>62</td>\n",
       "      <td>POLYGON ((4250871.702 845998.498, 4250865.647 ...</td>\n",
       "    </tr>\n",
       "  </tbody>\n",
       "</table>\n",
       "</div>"
      ],
      "text/plain": [
       "     btype  nrsqft   rsqft   du  yrbuilt   lpid  pundev      dev_land  \\\n",
       "0       ()     0.0     0.0  0.0      0.0  24284    0.00  1.123953e+04   \n",
       "1  (5100,)  1662.0     0.0  0.0   1969.0  24356    0.15  1.973955e+06   \n",
       "2  (1110,)     0.0  3468.0  1.0   2006.0  24391    0.00  1.099604e+05   \n",
       "3  (1110,)     0.0  1296.0  1.0   1984.0  24408    0.00  6.144933e+04   \n",
       "4  (1110,)     0.0  2528.0  1.0   2015.0  24419    0.00  6.097905e+04   \n",
       "\n",
       "   developed   obtype  orsqft  onrsqft  odu  zid  rezoned  city  annexed  \\\n",
       "0          0       ()     0.0      0.0  0.0  119        0  None        0   \n",
       "1          0  (5100,)     0.0   1662.0  0.0  119        0  None        0   \n",
       "2          0  (1110,)  3468.0      0.0  1.0   62        0  None        0   \n",
       "3          0  (1110,)  1296.0      0.0  1.0   62        0  None        0   \n",
       "4          0  (1110,)  2528.0      0.0  1.0   62        0  None        0   \n",
       "\n",
       "   ozid                                           geometry  \n",
       "0   119  MULTIPOLYGON (((4254437.869 843733.606, 425444...  \n",
       "1   119  POLYGON ((4254479.021 845048.443, 4254437.869 ...  \n",
       "2    62  POLYGON ((4250857.967 845652.695, 4250847.053 ...  \n",
       "3    62  POLYGON ((4250865.647 845846.211, 4250859.554 ...  \n",
       "4    62  POLYGON ((4250871.702 845998.498, 4250865.647 ...  "
      ]
     },
     "execution_count": 7,
     "metadata": {},
     "output_type": "execute_result"
    }
   ],
   "source": [
    "parcel_data.head()"
   ]
  },
  {
   "cell_type": "code",
   "execution_count": 9,
   "id": "knowing-group",
   "metadata": {},
   "outputs": [
    {
     "data": {
      "text/plain": [
       "(78216, 19)"
      ]
     },
     "execution_count": 9,
     "metadata": {},
     "output_type": "execute_result"
    }
   ],
   "source": [
    "parcel_data.shape"
   ]
  },
  {
   "cell_type": "code",
   "execution_count": null,
   "id": "remarkable-chair",
   "metadata": {},
   "outputs": [],
   "source": []
  }
 ],
 "metadata": {
  "kernelspec": {
   "display_name": "Python 3",
   "language": "python",
   "name": "python3"
  },
  "language_info": {
   "codemirror_mode": {
    "name": "ipython",
    "version": 3
   },
   "file_extension": ".py",
   "mimetype": "text/x-python",
   "name": "python",
   "nbconvert_exporter": "python",
   "pygments_lexer": "ipython3",
   "version": "3.8.8"
  }
 },
 "nbformat": 4,
 "nbformat_minor": 5
}

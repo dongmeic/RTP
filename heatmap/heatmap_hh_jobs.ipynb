{
 "cells": [
  {
   "cell_type": "code",
   "execution_count": 1,
   "metadata": {},
   "outputs": [],
   "source": [
    "import create_heatmap as chm"
   ]
  },
  {
   "cell_type": "code",
   "execution_count": 2,
   "metadata": {},
   "outputs": [
    {
     "name": "stdout",
     "output_type": "stream",
     "text": [
      "created output T:\\Models\\Heatmap\\jobs45.shp\n",
      "reproject output T:\\Models\\Heatmap\\jobs45prj.shp\n"
     ]
    }
   ],
   "source": [
    "chm.convertXYpoints()"
   ]
  },
  {
   "cell_type": "code",
   "execution_count": 3,
   "metadata": {},
   "outputs": [
    {
     "name": "stdout",
     "output_type": "stream",
     "text": [
      "created output T:\\Models\\Heatmap\\households45.shp\n",
      "reproject output T:\\Models\\Heatmap\\households45prj.shp\n"
     ]
    }
   ],
   "source": [
    "chm.convertXYpoints(\"households_2045_xy\")"
   ]
  },
  {
   "cell_type": "code",
   "execution_count": 2,
   "metadata": {},
   "outputs": [],
   "source": [
    "cellSize = 100\n",
    "intableName = \"jobs_2045_xy\""
   ]
  },
  {
   "cell_type": "code",
   "execution_count": 3,
   "metadata": {},
   "outputs": [],
   "source": [
    "import os, arcpy\n",
    "\n",
    "ExtensionName = 'Spatial'\n",
    "if arcpy.CheckExtension(ExtensionName) == \"Available\":\n",
    "        arcpy.CheckOutExtension(ExtensionName)\n",
    "        \n",
    "arcpy.env.workspace = r'T:\\Models\\StoryMap\\UrbanSim\\UrbanSim.gdb'\n",
    "arcpy.env.overwriteOutput = True\n",
    "MPOBound = \"V:/Data/Transportation/MPO_Bound.shp\"\n",
    "arcpy.env.extent = MPOBound\n",
    "mask = MPOBound\n",
    "\n",
    "path = r'T:\\Trans Projects\\Model Development\\UrbanSim_LandUse\\Output\\Simulation_47_Final_RTP'\n",
    "outpath = r'T:\\Models\\Heatmap'"
   ]
  },
  {
   "cell_type": "code",
   "execution_count": 20,
   "metadata": {},
   "outputs": [],
   "source": [
    "method = 'Kernel'\n",
    "s = intableName.split(\"_\")\n",
    "outLayer = os.path.join(outpath, s[0] + s[1][2:4] + \".shp\")\n",
    "outRaster = os.path.join(outpath, method[0] + s[0] + s[1][2:4] + \"_\" + str(cellSize) + \".tif\")"
   ]
  },
  {
   "cell_type": "code",
   "execution_count": 21,
   "metadata": {},
   "outputs": [
    {
     "data": {
      "text/plain": [
       "'T:\\\\Models\\\\Heatmap\\\\Kjobs45_100.tif'"
      ]
     },
     "execution_count": 21,
     "metadata": {},
     "output_type": "execute_result"
    }
   ],
   "source": [
    "outRaster"
   ]
  },
  {
   "cell_type": "code",
   "execution_count": 23,
   "metadata": {},
   "outputs": [
    {
     "data": {
      "text/plain": [
       "<geoprocessing server result object at 0x2471a8fb150>"
      ]
     },
     "execution_count": 23,
     "metadata": {},
     "output_type": "execute_result"
    }
   ],
   "source": [
    "arcpy.gp.KernelDensity_sa(\"jobs45_prj\", \"NONE\", outRaster, cellSize, \"\", \n",
    "                          \"SQUARE_KILOMETERS\", \"DENSITIES\", \"\")  "
   ]
  },
  {
   "cell_type": "code",
   "execution_count": 24,
   "metadata": {},
   "outputs": [],
   "source": [
    "method = 'Point'\n",
    "outRaster = os.path.join(outpath, method[0] + s[0] + s[1][2:4] + \"_\" + str(cellSize) + \".tif\")"
   ]
  },
  {
   "cell_type": "code",
   "execution_count": 25,
   "metadata": {
    "scrolled": true
   },
   "outputs": [
    {
     "data": {
      "text/plain": [
       "<geoprocessing server result object at 0x2471a8fb870>"
      ]
     },
     "execution_count": 25,
     "metadata": {},
     "output_type": "execute_result"
    }
   ],
   "source": [
    "arcpy.gp.PointDensity_sa(\"jobs45_prj\", \"NONE\", outRaster, cellSize, \"\", \"SQUARE_KILOMETERS\")                                       "
   ]
  },
  {
   "cell_type": "code",
   "execution_count": 4,
   "metadata": {},
   "outputs": [
    {
     "name": "stdout",
     "output_type": "stream",
     "text": [
      "creating raster data for heatmap...\n",
      "completed...\n"
     ]
    }
   ],
   "source": [
    "chm.createHeatmap(xypoint = True)"
   ]
  },
  {
   "cell_type": "code",
   "execution_count": null,
   "metadata": {},
   "outputs": [],
   "source": []
  }
 ],
 "metadata": {
  "kernelspec": {
   "display_name": "Python 3",
   "language": "python",
   "name": "python3"
  },
  "language_info": {
   "codemirror_mode": {
    "name": "ipython",
    "version": 3
   },
   "file_extension": ".py",
   "mimetype": "text/x-python",
   "name": "python",
   "nbconvert_exporter": "python",
   "pygments_lexer": "ipython3",
   "version": "3.7.9"
  }
 },
 "nbformat": 4,
 "nbformat_minor": 4
}

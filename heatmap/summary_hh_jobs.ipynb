{
 "cells": [
  {
   "cell_type": "code",
   "execution_count": 1,
   "metadata": {},
   "outputs": [],
   "source": [
    "import arcpy, os"
   ]
  },
  {
   "cell_type": "code",
   "execution_count": 2,
   "metadata": {},
   "outputs": [],
   "source": [
    "boundPath = r\"C:\\Users\\clid1852\\OneDrive - lanecouncilofgovernments\\data\\Boundaries\""
   ]
  },
  {
   "cell_type": "code",
   "execution_count": 6,
   "metadata": {},
   "outputs": [],
   "source": [
    "UGBbound = os.path.join(boundPath, \"UGB.shp\")"
   ]
  },
  {
   "cell_type": "code",
   "execution_count": 3,
   "metadata": {},
   "outputs": [],
   "source": [
    "pointPath = r'T:\\Models\\Heatmap'"
   ]
  },
  {
   "cell_type": "code",
   "execution_count": 4,
   "metadata": {},
   "outputs": [],
   "source": [
    "UGB = 'EUG'"
   ]
  },
  {
   "cell_type": "code",
   "execution_count": 8,
   "metadata": {},
   "outputs": [],
   "source": [
    "boundLayer = arcpy.management.SelectLayerByAttribute(UGBbound, \"NEW_SELECTION\", \"ugbcity = '{0}'\".format(UGB), None)"
   ]
  },
  {
   "cell_type": "code",
   "execution_count": 9,
   "metadata": {},
   "outputs": [],
   "source": [
    "layerName = \"households20prj.shp\""
   ]
  },
  {
   "cell_type": "code",
   "execution_count": 10,
   "metadata": {},
   "outputs": [],
   "source": [
    "pointLayer = os.path.join(pointPath, layerName)"
   ]
  },
  {
   "cell_type": "code",
   "execution_count": 11,
   "metadata": {},
   "outputs": [],
   "source": [
    "input_layer = arcpy.management.SelectLayerByLocation(pointLayer, \"COMPLETELY_WITHIN\", boundLayer, None, \n",
    "                                                                     \"NEW_SELECTION\", \"NOT_INVERT\")"
   ]
  },
  {
   "cell_type": "code",
   "execution_count": 12,
   "metadata": {},
   "outputs": [
    {
     "data": {
      "text/plain": [
       "79915"
      ]
     },
     "execution_count": 12,
     "metadata": {},
     "output_type": "execute_result"
    }
   ],
   "source": [
    "int(arcpy.GetCount_management(input_layer)[0])"
   ]
  },
  {
   "cell_type": "code",
   "execution_count": 1,
   "metadata": {},
   "outputs": [],
   "source": [
    "import summary_data_ugb as sdu"
   ]
  },
  {
   "cell_type": "code",
   "execution_count": 3,
   "metadata": {},
   "outputs": [
    {
     "data": {
      "text/plain": [
       "79915"
      ]
     },
     "execution_count": 3,
     "metadata": {},
     "output_type": "execute_result"
    }
   ],
   "source": [
    "sdu.getCounts(AOI = 'Within UGB', UGB = 'EUG')"
   ]
  },
  {
   "cell_type": "code",
   "execution_count": 2,
   "metadata": {},
   "outputs": [
    {
     "name": "stdout",
     "output_type": "stream",
     "text": [
      "Got counts for households in MPO in 2020...\n",
      "Got counts for households in COB in 2020...\n",
      "Got counts for households in EUG in 2020...\n",
      "Got counts for households in SPR in 2020...\n",
      "Got counts for households in Lane in 2020...\n",
      "Got counts for households in MPO in 2045...\n",
      "Got counts for households in COB in 2045...\n",
      "Got counts for households in EUG in 2045...\n",
      "Got counts for households in SPR in 2045...\n",
      "Got counts for households in Lane in 2045...\n",
      "Got counts for jobs in MPO in 2020...\n",
      "Got counts for jobs in COB in 2020...\n",
      "Got counts for jobs in EUG in 2020...\n",
      "Got counts for jobs in SPR in 2020...\n",
      "Got counts for jobs in Lane in 2020...\n",
      "Got counts for jobs in MPO in 2045...\n",
      "Got counts for jobs in COB in 2045...\n",
      "Got counts for jobs in EUG in 2045...\n",
      "Got counts for jobs in SPR in 2045...\n",
      "Got counts for jobs in Lane in 2045...\n",
      "Got the table...\n",
      "             MPO20  COB20  EUG20  SPR20  Lane20   MPO45  COB45   EUG45  SPR45  \\\n",
      "households  110648    491  79915  28440    3433  128989    753   92750  33435   \n",
      "jobs        132721   1773  93952  32701    5009  175413   3920  118648  47948   \n",
      "\n",
      "            Lane45  \n",
      "households    3442  \n",
      "jobs          5549  \n"
     ]
    }
   ],
   "source": [
    "sdu.getTable()"
   ]
  },
  {
   "cell_type": "code",
   "execution_count": null,
   "metadata": {},
   "outputs": [],
   "source": []
  }
 ],
 "metadata": {
  "kernelspec": {
   "display_name": "Python 3",
   "language": "python",
   "name": "python3"
  },
  "language_info": {
   "codemirror_mode": {
    "name": "ipython",
    "version": 3
   },
   "file_extension": ".py",
   "mimetype": "text/x-python",
   "name": "python",
   "nbconvert_exporter": "python",
   "pygments_lexer": "ipython3",
   "version": "3.7.9"
  }
 },
 "nbformat": 4,
 "nbformat_minor": 4
}

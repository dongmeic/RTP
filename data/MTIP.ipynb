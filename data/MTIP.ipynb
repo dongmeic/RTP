{
 "cells": [
  {
   "cell_type": "code",
   "execution_count": 1,
   "metadata": {},
   "outputs": [],
   "source": [
    "import os\n",
    "import geopandas as gpd\n",
    "import pandas as pd"
   ]
  },
  {
   "cell_type": "code",
   "execution_count": 2,
   "metadata": {},
   "outputs": [],
   "source": [
    "inpath = r'\\\\clsrv111\\transpor\\MPO\\TIP\\TIP FY21-24\\MAPS\\Data'"
   ]
  },
  {
   "cell_type": "code",
   "execution_count": 3,
   "metadata": {},
   "outputs": [],
   "source": [
    "mtip_points = gpd.read_file(os.path.join(inpath, 'Points_201014.shp'))"
   ]
  },
  {
   "cell_type": "code",
   "execution_count": 4,
   "metadata": {},
   "outputs": [
    {
     "data": {
      "text/html": [
       "<div>\n",
       "<style scoped>\n",
       "    .dataframe tbody tr th:only-of-type {\n",
       "        vertical-align: middle;\n",
       "    }\n",
       "\n",
       "    .dataframe tbody tr th {\n",
       "        vertical-align: top;\n",
       "    }\n",
       "\n",
       "    .dataframe thead th {\n",
       "        text-align: right;\n",
       "    }\n",
       "</style>\n",
       "<table border=\"1\" class=\"dataframe\">\n",
       "  <thead>\n",
       "    <tr style=\"text-align: right;\">\n",
       "      <th></th>\n",
       "      <th>MTIP_ID</th>\n",
       "      <th>Applicant</th>\n",
       "      <th>Proj_Name</th>\n",
       "      <th>Fiscal_Yrs</th>\n",
       "      <th>Fed_Fund</th>\n",
       "      <th>Fed_Source</th>\n",
       "      <th>Other_Fund</th>\n",
       "      <th>OF_Source</th>\n",
       "      <th>Proj_Desc</th>\n",
       "      <th>Mode</th>\n",
       "      <th>geometry</th>\n",
       "    </tr>\n",
       "  </thead>\n",
       "  <tbody>\n",
       "    <tr>\n",
       "      <th>0</th>\n",
       "      <td>11</td>\n",
       "      <td>Eugene</td>\n",
       "      <td>Ferry Street Bridge seismic retrofit</td>\n",
       "      <td>2021 - 2022</td>\n",
       "      <td>605000.00</td>\n",
       "      <td>STBG Z230</td>\n",
       "      <td>0.0</td>\n",
       "      <td>None</td>\n",
       "      <td>Design for seismic strengthening of Ferry Stre...</td>\n",
       "      <td>transit</td>\n",
       "      <td>POINT (-13701698.700 5474284.900)</td>\n",
       "    </tr>\n",
       "    <tr>\n",
       "      <th>1</th>\n",
       "      <td>14</td>\n",
       "      <td>Eugene</td>\n",
       "      <td>W 11th and Chambers St seismic bridge retrofits</td>\n",
       "      <td>2021 - 2022</td>\n",
       "      <td>1795000.00</td>\n",
       "      <td>STBG Z230</td>\n",
       "      <td>0.0</td>\n",
       "      <td>None</td>\n",
       "      <td>Complete design for seismic strengthening of b...</td>\n",
       "      <td>transit</td>\n",
       "      <td>POINT (-13709997.200 5472873.300)</td>\n",
       "    </tr>\n",
       "    <tr>\n",
       "      <th>2</th>\n",
       "      <td>14</td>\n",
       "      <td>Eugene</td>\n",
       "      <td>W 11th and Chambers St seismic bridge retrofits</td>\n",
       "      <td>2021 - 2022</td>\n",
       "      <td>1795000.00</td>\n",
       "      <td>STBG Z230</td>\n",
       "      <td>0.0</td>\n",
       "      <td>None</td>\n",
       "      <td>Complete design for seismic strengthening of b...</td>\n",
       "      <td>transit</td>\n",
       "      <td>POINT (-13705282.100 5475085.300)</td>\n",
       "    </tr>\n",
       "    <tr>\n",
       "      <th>3</th>\n",
       "      <td>25</td>\n",
       "      <td>Oregon DOT</td>\n",
       "      <td>NW Oregon (Southern Portion) Signal Improvements</td>\n",
       "      <td>2019 - 2021</td>\n",
       "      <td>3918919.86</td>\n",
       "      <td>STBGF Z240, ACP0 (HSIP), HSIP ZS30</td>\n",
       "      <td>0.0</td>\n",
       "      <td>None</td>\n",
       "      <td>Add signal enhancements at several intersectio...</td>\n",
       "      <td>transit</td>\n",
       "      <td>POINT (-13685618.200 5474112.400)</td>\n",
       "    </tr>\n",
       "    <tr>\n",
       "      <th>4</th>\n",
       "      <td>30</td>\n",
       "      <td>Oregon DOT</td>\n",
       "      <td>Bailey Hill Rd. @ Bertelsen Rd. (Eugene)</td>\n",
       "      <td>2021 - 2022, 2024</td>\n",
       "      <td>680214.72</td>\n",
       "      <td>HSIP ZS30</td>\n",
       "      <td>0.0</td>\n",
       "      <td>None</td>\n",
       "      <td>Construct a roundabout with enhanced bicycle a...</td>\n",
       "      <td>bike, pedestrian</td>\n",
       "      <td>POINT (-13710887.700 5470085.900)</td>\n",
       "    </tr>\n",
       "  </tbody>\n",
       "</table>\n",
       "</div>"
      ],
      "text/plain": [
       "   MTIP_ID   Applicant                                         Proj_Name  \\\n",
       "0       11      Eugene              Ferry Street Bridge seismic retrofit   \n",
       "1       14      Eugene   W 11th and Chambers St seismic bridge retrofits   \n",
       "2       14      Eugene   W 11th and Chambers St seismic bridge retrofits   \n",
       "3       25  Oregon DOT  NW Oregon (Southern Portion) Signal Improvements   \n",
       "4       30  Oregon DOT          Bailey Hill Rd. @ Bertelsen Rd. (Eugene)   \n",
       "\n",
       "          Fiscal_Yrs    Fed_Fund                          Fed_Source  \\\n",
       "0        2021 - 2022   605000.00                           STBG Z230   \n",
       "1        2021 - 2022  1795000.00                           STBG Z230   \n",
       "2        2021 - 2022  1795000.00                           STBG Z230   \n",
       "3        2019 - 2021  3918919.86  STBGF Z240, ACP0 (HSIP), HSIP ZS30   \n",
       "4  2021 - 2022, 2024   680214.72                           HSIP ZS30   \n",
       "\n",
       "   Other_Fund OF_Source                                          Proj_Desc  \\\n",
       "0         0.0      None  Design for seismic strengthening of Ferry Stre...   \n",
       "1         0.0      None  Complete design for seismic strengthening of b...   \n",
       "2         0.0      None  Complete design for seismic strengthening of b...   \n",
       "3         0.0      None  Add signal enhancements at several intersectio...   \n",
       "4         0.0      None  Construct a roundabout with enhanced bicycle a...   \n",
       "\n",
       "               Mode                           geometry  \n",
       "0           transit  POINT (-13701698.700 5474284.900)  \n",
       "1           transit  POINT (-13709997.200 5472873.300)  \n",
       "2           transit  POINT (-13705282.100 5475085.300)  \n",
       "3           transit  POINT (-13685618.200 5474112.400)  \n",
       "4  bike, pedestrian  POINT (-13710887.700 5470085.900)  "
      ]
     },
     "execution_count": 4,
     "metadata": {},
     "output_type": "execute_result"
    }
   ],
   "source": [
    "mtip_points.head()"
   ]
  },
  {
   "cell_type": "code",
   "execution_count": 6,
   "metadata": {},
   "outputs": [],
   "source": [
    "path = r'C:\\Users\\clid1852\\OneDrive - lanecouncilofgovernments\\MTIP'"
   ]
  },
  {
   "cell_type": "code",
   "execution_count": 10,
   "metadata": {},
   "outputs": [],
   "source": [
    "mode = pd.read_csv(os.path.join(path,'trans_mode.csv'))"
   ]
  },
  {
   "cell_type": "code",
   "execution_count": 11,
   "metadata": {},
   "outputs": [
    {
     "data": {
      "text/html": [
       "<div>\n",
       "<style scoped>\n",
       "    .dataframe tbody tr th:only-of-type {\n",
       "        vertical-align: middle;\n",
       "    }\n",
       "\n",
       "    .dataframe tbody tr th {\n",
       "        vertical-align: top;\n",
       "    }\n",
       "\n",
       "    .dataframe thead th {\n",
       "        text-align: right;\n",
       "    }\n",
       "</style>\n",
       "<table border=\"1\" class=\"dataframe\">\n",
       "  <thead>\n",
       "    <tr style=\"text-align: right;\">\n",
       "      <th></th>\n",
       "      <th>MTIP_ID</th>\n",
       "      <th>Pedestrian_Mode</th>\n",
       "      <th>Bike_Mode</th>\n",
       "      <th>Trail_Mode</th>\n",
       "      <th>Transit_Mode</th>\n",
       "    </tr>\n",
       "  </thead>\n",
       "  <tbody>\n",
       "    <tr>\n",
       "      <th>0</th>\n",
       "      <td>6</td>\n",
       "      <td>1.0</td>\n",
       "      <td>1.0</td>\n",
       "      <td>1.0</td>\n",
       "      <td>NaN</td>\n",
       "    </tr>\n",
       "    <tr>\n",
       "      <th>1</th>\n",
       "      <td>7</td>\n",
       "      <td>1.0</td>\n",
       "      <td>NaN</td>\n",
       "      <td>NaN</td>\n",
       "      <td>NaN</td>\n",
       "    </tr>\n",
       "    <tr>\n",
       "      <th>2</th>\n",
       "      <td>8</td>\n",
       "      <td>1.0</td>\n",
       "      <td>1.0</td>\n",
       "      <td>NaN</td>\n",
       "      <td>NaN</td>\n",
       "    </tr>\n",
       "    <tr>\n",
       "      <th>3</th>\n",
       "      <td>10</td>\n",
       "      <td>NaN</td>\n",
       "      <td>1.0</td>\n",
       "      <td>NaN</td>\n",
       "      <td>NaN</td>\n",
       "    </tr>\n",
       "    <tr>\n",
       "      <th>4</th>\n",
       "      <td>11</td>\n",
       "      <td>1.0</td>\n",
       "      <td>1.0</td>\n",
       "      <td>NaN</td>\n",
       "      <td>NaN</td>\n",
       "    </tr>\n",
       "  </tbody>\n",
       "</table>\n",
       "</div>"
      ],
      "text/plain": [
       "   MTIP_ID  Pedestrian_Mode  Bike_Mode  Trail_Mode  Transit_Mode\n",
       "0        6              1.0        1.0         1.0           NaN\n",
       "1        7              1.0        NaN         NaN           NaN\n",
       "2        8              1.0        1.0         NaN           NaN\n",
       "3       10              NaN        1.0         NaN           NaN\n",
       "4       11              1.0        1.0         NaN           NaN"
      ]
     },
     "execution_count": 11,
     "metadata": {},
     "output_type": "execute_result"
    }
   ],
   "source": [
    "mode.head()"
   ]
  },
  {
   "cell_type": "code",
   "execution_count": 12,
   "metadata": {},
   "outputs": [],
   "source": [
    "mtip_points = mtip_points.merge(mode, on='MTIP_ID', how='left')"
   ]
  },
  {
   "cell_type": "code",
   "execution_count": 42,
   "metadata": {},
   "outputs": [],
   "source": [
    "fields = list(mode.columns)"
   ]
  },
  {
   "cell_type": "code",
   "execution_count": 43,
   "metadata": {},
   "outputs": [
    {
     "data": {
      "text/plain": [
       "'MTIP_ID'"
      ]
     },
     "execution_count": 43,
     "metadata": {},
     "output_type": "execute_result"
    }
   ],
   "source": [
    "fields.pop(0)"
   ]
  },
  {
   "cell_type": "code",
   "execution_count": 44,
   "metadata": {},
   "outputs": [],
   "source": [
    "fields.append('Mode')"
   ]
  },
  {
   "cell_type": "code",
   "execution_count": 45,
   "metadata": {},
   "outputs": [
    {
     "data": {
      "text/plain": [
       "['Pedestrian_Mode', 'Bike_Mode', 'Trail_Mode', 'Transit_Mode', 'Mode']"
      ]
     },
     "execution_count": 45,
     "metadata": {},
     "output_type": "execute_result"
    }
   ],
   "source": [
    "fields"
   ]
  },
  {
   "cell_type": "code",
   "execution_count": 53,
   "metadata": {},
   "outputs": [],
   "source": [
    "mtip_pts_ped = mtip_points[mtip_points['Pedestrian_Mode'] == 1].drop(columns = fields)\n",
    "mtip_pts_bike = mtip_points[mtip_points['Bike_Mode'] == 1].drop(columns = fields)\n",
    "mtip_pts_transit = mtip_points[mtip_points['Transit_Mode'] == 1].drop(columns = fields)"
   ]
  },
  {
   "cell_type": "code",
   "execution_count": 54,
   "metadata": {},
   "outputs": [],
   "source": [
    "mtip_pts_ped.to_file(os.path.join(inpath, \"mtip_pts_pedestrian.shp\"))\n",
    "mtip_pts_bike.to_file(os.path.join(inpath, \"mtip_pts_bike.shp\"))\n",
    "mtip_pts_transit.to_file(os.path.join(inpath, \"mtip_pts_transit.shp\"))"
   ]
  },
  {
   "cell_type": "code",
   "execution_count": 7,
   "metadata": {},
   "outputs": [],
   "source": [
    "mtip_lines = gpd.read_file(os.path.join(inpath, 'Lines_201014.shp'))"
   ]
  },
  {
   "cell_type": "code",
   "execution_count": 8,
   "metadata": {},
   "outputs": [
    {
     "data": {
      "text/html": [
       "<div>\n",
       "<style scoped>\n",
       "    .dataframe tbody tr th:only-of-type {\n",
       "        vertical-align: middle;\n",
       "    }\n",
       "\n",
       "    .dataframe tbody tr th {\n",
       "        vertical-align: top;\n",
       "    }\n",
       "\n",
       "    .dataframe thead th {\n",
       "        text-align: right;\n",
       "    }\n",
       "</style>\n",
       "<table border=\"1\" class=\"dataframe\">\n",
       "  <thead>\n",
       "    <tr style=\"text-align: right;\">\n",
       "      <th></th>\n",
       "      <th>MTIP_ID</th>\n",
       "      <th>Applicant</th>\n",
       "      <th>Proj_Name</th>\n",
       "      <th>Fiscal_Yrs</th>\n",
       "      <th>Fed_Fund</th>\n",
       "      <th>Fed_Source</th>\n",
       "      <th>Other_Fund</th>\n",
       "      <th>OF_Source</th>\n",
       "      <th>Proj_Desc</th>\n",
       "      <th>Shape_Leng</th>\n",
       "      <th>geometry</th>\n",
       "    </tr>\n",
       "  </thead>\n",
       "  <tbody>\n",
       "    <tr>\n",
       "      <th>0</th>\n",
       "      <td>28</td>\n",
       "      <td>Oregon DOT</td>\n",
       "      <td>I-105: Willamette R - Pacific Hwy.</td>\n",
       "      <td>2023</td>\n",
       "      <td>5377071.54</td>\n",
       "      <td>NHPP Z001</td>\n",
       "      <td>0.0</td>\n",
       "      <td>None</td>\n",
       "      <td>Pavement resurfacing to repair rutting and wea...</td>\n",
       "      <td>6725.069581</td>\n",
       "      <td>LINESTRING (-13703389.700 5475458.200, -137033...</td>\n",
       "    </tr>\n",
       "    <tr>\n",
       "      <th>1</th>\n",
       "      <td>29</td>\n",
       "      <td>Oregon DOT</td>\n",
       "      <td>Chambers St.: 2nd Ave. - 28th Ave. (Eugene)</td>\n",
       "      <td>2021, 2024</td>\n",
       "      <td>504443.40</td>\n",
       "      <td>HSIP ZS30</td>\n",
       "      <td>0.0</td>\n",
       "      <td>None</td>\n",
       "      <td>Various improvements to include upgraded and i...</td>\n",
       "      <td>4748.477987</td>\n",
       "      <td>LINESTRING (-13705364.400 5474345.600, -137053...</td>\n",
       "    </tr>\n",
       "    <tr>\n",
       "      <th>2</th>\n",
       "      <td>34</td>\n",
       "      <td>Oregon DOT</td>\n",
       "      <td>Martin Luther King Jr. Blvd: Centennial Lp. - ...</td>\n",
       "      <td>2021 - 2022, 2024</td>\n",
       "      <td>552674.46</td>\n",
       "      <td>HSIP ZS30</td>\n",
       "      <td>0.0</td>\n",
       "      <td>None</td>\n",
       "      <td>Reconfigure roadway to include; bus and turn l...</td>\n",
       "      <td>3352.961768</td>\n",
       "      <td>LINESTRING (-13701225.400 5474663.100, -137010...</td>\n",
       "    </tr>\n",
       "    <tr>\n",
       "      <th>3</th>\n",
       "      <td>35</td>\n",
       "      <td>Oregon DOT</td>\n",
       "      <td>OR528: Jurisdictional Transfer</td>\n",
       "      <td>2023</td>\n",
       "      <td>0.00</td>\n",
       "      <td>None</td>\n",
       "      <td>12000000.0</td>\n",
       "      <td>S070</td>\n",
       "      <td>State receives OR528 from the City of Springfi...</td>\n",
       "      <td>2346.489301</td>\n",
       "      <td>LINESTRING (-13694751.300 5472513.900, -136947...</td>\n",
       "    </tr>\n",
       "    <tr>\n",
       "      <th>4</th>\n",
       "      <td>36</td>\n",
       "      <td>Oregon DOT</td>\n",
       "      <td>OR126: Westbound Springfield (Willamette River...</td>\n",
       "      <td>2021</td>\n",
       "      <td>407015.28</td>\n",
       "      <td>NHPP Z001</td>\n",
       "      <td>0.0</td>\n",
       "      <td>None</td>\n",
       "      <td>Design for future construction project to dete...</td>\n",
       "      <td>401.224482</td>\n",
       "      <td>LINESTRING (-13695599.200 5472366.100, -136955...</td>\n",
       "    </tr>\n",
       "  </tbody>\n",
       "</table>\n",
       "</div>"
      ],
      "text/plain": [
       "   MTIP_ID   Applicant                                          Proj_Name  \\\n",
       "0       28  Oregon DOT                 I-105: Willamette R - Pacific Hwy.   \n",
       "1       29  Oregon DOT        Chambers St.: 2nd Ave. - 28th Ave. (Eugene)   \n",
       "2       34  Oregon DOT  Martin Luther King Jr. Blvd: Centennial Lp. - ...   \n",
       "3       35  Oregon DOT                     OR528: Jurisdictional Transfer   \n",
       "4       36  Oregon DOT  OR126: Westbound Springfield (Willamette River...   \n",
       "\n",
       "          Fiscal_Yrs    Fed_Fund Fed_Source  Other_Fund OF_Source  \\\n",
       "0               2023  5377071.54  NHPP Z001         0.0      None   \n",
       "1         2021, 2024   504443.40  HSIP ZS30         0.0      None   \n",
       "2  2021 - 2022, 2024   552674.46  HSIP ZS30         0.0      None   \n",
       "3               2023        0.00       None  12000000.0      S070   \n",
       "4               2021   407015.28  NHPP Z001         0.0      None   \n",
       "\n",
       "                                           Proj_Desc   Shape_Leng  \\\n",
       "0  Pavement resurfacing to repair rutting and wea...  6725.069581   \n",
       "1  Various improvements to include upgraded and i...  4748.477987   \n",
       "2  Reconfigure roadway to include; bus and turn l...  3352.961768   \n",
       "3  State receives OR528 from the City of Springfi...  2346.489301   \n",
       "4  Design for future construction project to dete...   401.224482   \n",
       "\n",
       "                                            geometry  \n",
       "0  LINESTRING (-13703389.700 5475458.200, -137033...  \n",
       "1  LINESTRING (-13705364.400 5474345.600, -137053...  \n",
       "2  LINESTRING (-13701225.400 5474663.100, -137010...  \n",
       "3  LINESTRING (-13694751.300 5472513.900, -136947...  \n",
       "4  LINESTRING (-13695599.200 5472366.100, -136955...  "
      ]
     },
     "execution_count": 8,
     "metadata": {},
     "output_type": "execute_result"
    }
   ],
   "source": [
    "mtip_lines.head()"
   ]
  },
  {
   "cell_type": "code",
   "execution_count": 9,
   "metadata": {},
   "outputs": [
    {
     "data": {
      "text/plain": [
       "['MTIP_ID',\n",
       " 'Applicant',\n",
       " 'Proj_Name',\n",
       " 'Fiscal_Yrs',\n",
       " 'Fed_Fund',\n",
       " 'Fed_Source',\n",
       " 'Other_Fund',\n",
       " 'OF_Source',\n",
       " 'Proj_Desc',\n",
       " 'Shape_Leng',\n",
       " 'geometry']"
      ]
     },
     "execution_count": 9,
     "metadata": {},
     "output_type": "execute_result"
    }
   ],
   "source": [
    "list(mtip_lines)"
   ]
  },
  {
   "cell_type": "code",
   "execution_count": 10,
   "metadata": {},
   "outputs": [
    {
     "data": {
      "text/plain": [
       "array([28, 29, 34, 35, 36, 12, 25,  7, 13, 23, 10, 41, 27, 39,  6,  8, 15,\n",
       "       16, 17, 42, 46, 32, 58, 59, 61, 62, 63, 64, 67, 70, 73],\n",
       "      dtype=int64)"
      ]
     },
     "execution_count": 10,
     "metadata": {},
     "output_type": "execute_result"
    }
   ],
   "source": [
    "mtip_lines.MTIP_ID.unique()"
   ]
  },
  {
   "cell_type": "code",
   "execution_count": 12,
   "metadata": {},
   "outputs": [
    {
     "data": {
      "text/plain": [
       "31"
      ]
     },
     "execution_count": 12,
     "metadata": {},
     "output_type": "execute_result"
    }
   ],
   "source": [
    "len(mtip_lines.MTIP_ID)"
   ]
  },
  {
   "cell_type": "code",
   "execution_count": 13,
   "metadata": {},
   "outputs": [
    {
     "data": {
      "text/plain": [
       "[28,\n",
       " 29,\n",
       " 34,\n",
       " 35,\n",
       " 36,\n",
       " 12,\n",
       " 25,\n",
       " 7,\n",
       " 13,\n",
       " 23,\n",
       " 10,\n",
       " 41,\n",
       " 27,\n",
       " 39,\n",
       " 6,\n",
       " 8,\n",
       " 15,\n",
       " 16,\n",
       " 17,\n",
       " 42,\n",
       " 46,\n",
       " 32,\n",
       " 58,\n",
       " 59,\n",
       " 61,\n",
       " 62,\n",
       " 63,\n",
       " 64,\n",
       " 67,\n",
       " 70,\n",
       " 73]"
      ]
     },
     "execution_count": 13,
     "metadata": {},
     "output_type": "execute_result"
    }
   ],
   "source": [
    "list(mtip_lines.MTIP_ID)"
   ]
  },
  {
   "cell_type": "code",
   "execution_count": 14,
   "metadata": {},
   "outputs": [],
   "source": [
    "import numpy as np"
   ]
  },
  {
   "cell_type": "code",
   "execution_count": 15,
   "metadata": {},
   "outputs": [],
   "source": [
    "m = np.array(['transit', 'bike', 'transit', 'pedestrian', 'transit', 'transit, pedestrian',\n",
    "    'bike, pedestrian', 'transit', 'bike', 'transit, bike and pedestrian'])\n",
    "# 5, 1, 2, 1, 15, 2, 1, 2, 1, 1"
   ]
  },
  {
   "cell_type": "code",
   "execution_count": 18,
   "metadata": {},
   "outputs": [],
   "source": [
    "mtip_lines['Mode'] = np.repeat(m, [5, 1, 2, 1, 15, 2, 1, 2, 1, 1], axis=0)"
   ]
  },
  {
   "cell_type": "code",
   "execution_count": 19,
   "metadata": {},
   "outputs": [],
   "source": [
    "mtip_lines.to_file(os.path.join(inpath, \"Lines_210121.shp\"))"
   ]
  },
  {
   "cell_type": "code",
   "execution_count": 55,
   "metadata": {},
   "outputs": [],
   "source": [
    "mtip_lines = gpd.read_file(os.path.join(inpath, 'Lines_210121.shp'))"
   ]
  },
  {
   "cell_type": "code",
   "execution_count": 56,
   "metadata": {},
   "outputs": [],
   "source": [
    "mtip_lines = mtip_lines.merge(mode, on='MTIP_ID', how='left')"
   ]
  },
  {
   "cell_type": "code",
   "execution_count": 57,
   "metadata": {},
   "outputs": [],
   "source": [
    "mtip_lines_ped = mtip_lines[mtip_lines['Pedestrian_Mode'] == 1].drop(columns = fields)\n",
    "mtip_lines_bike = mtip_lines[mtip_lines['Bike_Mode'] == 1].drop(columns = fields)\n",
    "mtip_lines_trail = mtip_lines[mtip_lines['Bike_Mode'] == 1].drop(columns = fields)\n",
    "mtip_lines_transit = mtip_lines[mtip_lines['Transit_Mode'] == 1].drop(columns = fields)"
   ]
  },
  {
   "cell_type": "code",
   "execution_count": 58,
   "metadata": {},
   "outputs": [],
   "source": [
    "mtip_lines_ped.to_file(os.path.join(inpath, \"mtip_lines_pedestrian.shp\"))\n",
    "mtip_lines_bike.to_file(os.path.join(inpath, \"mtip_lines_bike.shp\"))\n",
    "mtip_lines_trail.to_file(os.path.join(inpath, \"mtip_lines_trail.shp\"))\n",
    "mtip_lines_transit.to_file(os.path.join(inpath, \"mtip_lines_transit.shp\"))"
   ]
  },
  {
   "cell_type": "code",
   "execution_count": 3,
   "metadata": {},
   "outputs": [],
   "source": [
    "mtip_pts_ped = gpd.read_file(os.path.join(inpath, 'mtip_pts_pedestrian.shp'))\n",
    "mtip_pts_bike = gpd.read_file(os.path.join(inpath, 'mtip_pts_bike.shp'))\n",
    "mtip_pts_transit = gpd.read_file(os.path.join(inpath, 'mtip_pts_transit.shp'))"
   ]
  },
  {
   "cell_type": "code",
   "execution_count": null,
   "metadata": {},
   "outputs": [],
   "source": []
  }
 ],
 "metadata": {
  "kernelspec": {
   "display_name": "Python 3",
   "language": "python",
   "name": "python3"
  },
  "language_info": {
   "codemirror_mode": {
    "name": "ipython",
    "version": 3
   },
   "file_extension": ".py",
   "mimetype": "text/x-python",
   "name": "python",
   "nbconvert_exporter": "python",
   "pygments_lexer": "ipython3",
   "version": "3.7.9"
  }
 },
 "nbformat": 4,
 "nbformat_minor": 4
}

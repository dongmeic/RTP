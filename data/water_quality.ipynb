{
 "cells": [
  {
   "cell_type": "code",
   "execution_count": 1,
   "id": "3d40a20f",
   "metadata": {},
   "outputs": [],
   "source": [
    "import os\n",
    "import geopandas as gpd"
   ]
  },
  {
   "cell_type": "code",
   "execution_count": 2,
   "id": "07108df5",
   "metadata": {},
   "outputs": [],
   "source": [
    "path = r'T:\\MPO\\RTP\\FY20 2045 Update\\Data and Resources\\Data\\ForAppendixF\\WaterQuality'"
   ]
  },
  {
   "cell_type": "code",
   "execution_count": 3,
   "id": "ff072abb",
   "metadata": {},
   "outputs": [],
   "source": [
    "DEQ303dListedStreams = gpd.read_file(os.path.join(path, 'WQ_2010_IntegratedReport_V3', 'Assessment.gdb'), \n",
    "                                    layer='ORStreamsWaterQuality_2010_V3')"
   ]
  },
  {
   "cell_type": "code",
   "execution_count": 4,
   "id": "567c16e4",
   "metadata": {},
   "outputs": [
    {
     "data": {
      "text/plain": [
       "Index(['Segment_ID', 'Assessment_ID', 'Record_ID', 'Stream_Lake_Name',\n",
       "       'Stream_Name', 'Lake_Name', 'Beach_Name', 'LLID_Stream_Lake',\n",
       "       'LLID_Stream', 'LLID_Lake', 'EPA_Beach_ID', 'HUC_4th_Code',\n",
       "       'HUC_4th_Name', 'HUC_3rd_Name', 'Miles', 'RM1', 'RM2', 'SegmentMiles',\n",
       "       'Pollutant', 'Pollutant_ID', 'Season', 'Season_ID', 'AssessmentYear',\n",
       "       'AssessmentDate', 'Action', 'Action_ID', 'Criteria', 'Criteria_ID',\n",
       "       'AffectedUse', 'Listing_Status', 'Status_ID', 'PreviousStatus',\n",
       "       'PreviousAction', 'ListingYear', 'TMDLInfo', 'Comments', 'Shape_Length',\n",
       "       'Summary', 'geometry'],\n",
       "      dtype='object')"
      ]
     },
     "execution_count": 4,
     "metadata": {},
     "output_type": "execute_result"
    }
   ],
   "source": [
    "DEQ303dListedStreams.columns"
   ]
  },
  {
   "cell_type": "code",
   "execution_count": 5,
   "id": "26e4589b",
   "metadata": {},
   "outputs": [
    {
     "data": {
      "text/plain": [
       "array(['Cat 5: Water quality limited, 303(d) list, TMDL needed',\n",
       "       'Attaining', '303(d)', 'Insufficient data', 'TMDL approved',\n",
       "       'Cat 3:  Insufficient data',\n",
       "       'Water quality limited not needing a TMDL',\n",
       "       'Cat 3B:  Potential concern',\n",
       "       'Cat 2:  Attaining some criteria/uses',\n",
       "       'Cat 4A:  Water quality limited, TMDL approved',\n",
       "       'Potential concern', 'Criteria change or use clarification',\n",
       "       'Segment modified', 'Inactive',\n",
       "       'Cat 3C: Impairing pollutant unknown',\n",
       "       'Cat 4B:  Water quality limited, other control measures',\n",
       "       'Cat 4C:  Water quality limited, not a pollutant',\n",
       "       'Aesthetics; Livestock watering; Fishing; Water contact recreation; Water supply'],\n",
       "      dtype=object)"
      ]
     },
     "execution_count": 5,
     "metadata": {},
     "output_type": "execute_result"
    }
   ],
   "source": [
    "DEQ303dListedStreams.Listing_Status.unique()"
   ]
  },
  {
   "cell_type": "code",
   "execution_count": 6,
   "id": "3b818b97",
   "metadata": {},
   "outputs": [],
   "source": [
    "DEQ303dListedStreams = DEQ303dListedStreams[DEQ303dListedStreams.Listing_Status.isin(['Cat 5: Water quality limited, 303(d) list, TMDL needed', \n",
    "                                                                                      '303(d)'])]"
   ]
  },
  {
   "cell_type": "code",
   "execution_count": 7,
   "id": "c86afdc5",
   "metadata": {},
   "outputs": [
    {
     "data": {
      "text/plain": [
       "(1839, 39)"
      ]
     },
     "execution_count": 7,
     "metadata": {},
     "output_type": "execute_result"
    }
   ],
   "source": [
    "DEQ303dListedStreams.shape"
   ]
  },
  {
   "cell_type": "code",
   "execution_count": 13,
   "id": "d7e9419f",
   "metadata": {},
   "outputs": [
    {
     "data": {
      "text/plain": [
       "829"
      ]
     },
     "execution_count": 13,
     "metadata": {},
     "output_type": "execute_result"
    }
   ],
   "source": [
    "len(DEQ303dListedStreams.Stream_Lake_Name.unique())"
   ]
  },
  {
   "cell_type": "code",
   "execution_count": 14,
   "id": "85adaa36",
   "metadata": {},
   "outputs": [],
   "source": [
    "DEQ303dListedStreams = DEQ303dListedStreams.rename(columns={'Assessment_ID':'AssessID', \n",
    "                                                            'Stream_Lake_Name':'Name',\n",
    "                                                            'AssessmentYear':'AssessYear',\n",
    "                                                            'Listing_Status': 'Status'})"
   ]
  },
  {
   "cell_type": "code",
   "execution_count": 15,
   "id": "41416729",
   "metadata": {},
   "outputs": [],
   "source": [
    "DEQ303dListedStreams = DEQ303dListedStreams[['Segment_ID', 'Record_ID', 'AssessID', 'Name', 'Status',\n",
    "                                             'AssessYear', 'Comments', 'Summary', 'geometry']]"
   ]
  }
 ],
 "metadata": {
  "kernelspec": {
   "display_name": "Python 3",
   "language": "python",
   "name": "python3"
  },
  "language_info": {
   "codemirror_mode": {
    "name": "ipython",
    "version": 3
   },
   "file_extension": ".py",
   "mimetype": "text/x-python",
   "name": "python",
   "nbconvert_exporter": "python",
   "pygments_lexer": "ipython3",
   "version": "3.8.8"
  }
 },
 "nbformat": 4,
 "nbformat_minor": 5
}

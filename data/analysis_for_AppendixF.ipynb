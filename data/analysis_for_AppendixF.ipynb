{
 "cells": [
  {
   "cell_type": "code",
   "execution_count": 1,
   "id": "127e2532",
   "metadata": {},
   "outputs": [],
   "source": [
    "import Analysis4AppendixF as aaf"
   ]
  },
  {
   "cell_type": "code",
   "execution_count": 91,
   "id": "6335a721",
   "metadata": {},
   "outputs": [],
   "source": [
    "# function to get unique values\n",
    "def unique(list1):\n",
    " \n",
    "    # intilize a null list\n",
    "    unique_list = []\n",
    "     \n",
    "    # traverse for all elements\n",
    "    for x in list1:\n",
    "        # check if exists in unique_list or not\n",
    "        if x not in unique_list:\n",
    "            unique_list.append(x)\n",
    "    return(unique_list)"
   ]
  },
  {
   "cell_type": "code",
   "execution_count": 2,
   "id": "689a7b28",
   "metadata": {},
   "outputs": [
    {
     "data": {
      "text/html": [
       "<div>\n",
       "<style scoped>\n",
       "    .dataframe tbody tr th:only-of-type {\n",
       "        vertical-align: middle;\n",
       "    }\n",
       "\n",
       "    .dataframe tbody tr th {\n",
       "        vertical-align: top;\n",
       "    }\n",
       "\n",
       "    .dataframe thead th {\n",
       "        text-align: right;\n",
       "    }\n",
       "</style>\n",
       "<table border=\"1\" class=\"dataframe\">\n",
       "  <thead>\n",
       "    <tr style=\"text-align: right;\">\n",
       "      <th></th>\n",
       "      <th>geometry</th>\n",
       "    </tr>\n",
       "    <tr>\n",
       "      <th>Category</th>\n",
       "      <th></th>\n",
       "    </tr>\n",
       "  </thead>\n",
       "  <tbody>\n",
       "    <tr>\n",
       "      <th>Study</th>\n",
       "      <td>4</td>\n",
       "    </tr>\n",
       "    <tr>\n",
       "      <th>Transit Oriented Development Implementation</th>\n",
       "      <td>1</td>\n",
       "    </tr>\n",
       "    <tr>\n",
       "      <th>Urban Standards</th>\n",
       "      <td>1</td>\n",
       "    </tr>\n",
       "  </tbody>\n",
       "</table>\n",
       "</div>"
      ],
      "text/plain": [
       "                                             geometry\n",
       "Category                                             \n",
       "Study                                               4\n",
       "Transit Oriented Development Implementation         1\n",
       "Urban Standards                                     1"
      ]
     },
     "execution_count": 2,
     "metadata": {},
     "output_type": "execute_result"
    }
   ],
   "source": [
    "# national register historic sites intersect with roadway lines\n",
    "aaf.RTP_counted_by_intersection()"
   ]
  },
  {
   "cell_type": "code",
   "execution_count": 4,
   "id": "2a01b89b",
   "metadata": {},
   "outputs": [
    {
     "data": {
      "text/html": [
       "<div>\n",
       "<style scoped>\n",
       "    .dataframe tbody tr th:only-of-type {\n",
       "        vertical-align: middle;\n",
       "    }\n",
       "\n",
       "    .dataframe tbody tr th {\n",
       "        vertical-align: top;\n",
       "    }\n",
       "\n",
       "    .dataframe thead th {\n",
       "        text-align: right;\n",
       "    }\n",
       "</style>\n",
       "<table border=\"1\" class=\"dataframe\">\n",
       "  <thead>\n",
       "    <tr style=\"text-align: right;\">\n",
       "      <th></th>\n",
       "      <th>geometry</th>\n",
       "    </tr>\n",
       "    <tr>\n",
       "      <th>Category</th>\n",
       "      <th></th>\n",
       "    </tr>\n",
       "  </thead>\n",
       "  <tbody>\n",
       "  </tbody>\n",
       "</table>\n",
       "</div>"
      ],
      "text/plain": [
       "Empty DataFrame\n",
       "Columns: [geometry]\n",
       "Index: []"
      ]
     },
     "execution_count": 4,
     "metadata": {},
     "output_type": "execute_result"
    }
   ],
   "source": [
    "# national register historic sites intersect with roadway points\n",
    "aaf.RTP_counted_by_intersection(shapefile='Roadway_points')"
   ]
  },
  {
   "cell_type": "code",
   "execution_count": 5,
   "id": "c0da9d40",
   "metadata": {},
   "outputs": [
    {
     "data": {
      "text/html": [
       "<div>\n",
       "<style scoped>\n",
       "    .dataframe tbody tr th:only-of-type {\n",
       "        vertical-align: middle;\n",
       "    }\n",
       "\n",
       "    .dataframe tbody tr th {\n",
       "        vertical-align: top;\n",
       "    }\n",
       "\n",
       "    .dataframe thead th {\n",
       "        text-align: right;\n",
       "    }\n",
       "</style>\n",
       "<table border=\"1\" class=\"dataframe\">\n",
       "  <thead>\n",
       "    <tr style=\"text-align: right;\">\n",
       "      <th></th>\n",
       "      <th>geometry</th>\n",
       "    </tr>\n",
       "    <tr>\n",
       "      <th>Category</th>\n",
       "      <th></th>\n",
       "    </tr>\n",
       "  </thead>\n",
       "  <tbody>\n",
       "  </tbody>\n",
       "</table>\n",
       "</div>"
      ],
      "text/plain": [
       "Empty DataFrame\n",
       "Columns: [geometry]\n",
       "Index: []"
      ]
     },
     "execution_count": 5,
     "metadata": {},
     "output_type": "execute_result"
    }
   ],
   "source": [
    "# national register historic districts intersect with roadway lines\n",
    "aaf.RTP_counted_by_intersection(file='NationalRegisterHistoricDistrictsCLMPO.shp')"
   ]
  },
  {
   "cell_type": "code",
   "execution_count": 6,
   "id": "3663663d",
   "metadata": {},
   "outputs": [
    {
     "data": {
      "text/html": [
       "<div>\n",
       "<style scoped>\n",
       "    .dataframe tbody tr th:only-of-type {\n",
       "        vertical-align: middle;\n",
       "    }\n",
       "\n",
       "    .dataframe tbody tr th {\n",
       "        vertical-align: top;\n",
       "    }\n",
       "\n",
       "    .dataframe thead th {\n",
       "        text-align: right;\n",
       "    }\n",
       "</style>\n",
       "<table border=\"1\" class=\"dataframe\">\n",
       "  <thead>\n",
       "    <tr style=\"text-align: right;\">\n",
       "      <th></th>\n",
       "      <th>geometry</th>\n",
       "    </tr>\n",
       "    <tr>\n",
       "      <th>Category</th>\n",
       "      <th></th>\n",
       "    </tr>\n",
       "  </thead>\n",
       "  <tbody>\n",
       "    <tr>\n",
       "      <th>On-Street Lanes or Routes With Road Project</th>\n",
       "      <td>1</td>\n",
       "    </tr>\n",
       "    <tr>\n",
       "      <th>On-Street Lanes or Routes Without Road Project</th>\n",
       "      <td>6</td>\n",
       "    </tr>\n",
       "  </tbody>\n",
       "</table>\n",
       "</div>"
      ],
      "text/plain": [
       "                                                geometry\n",
       "Category                                                \n",
       "On-Street Lanes or Routes With Road Project            1\n",
       "On-Street Lanes or Routes Without Road Project         6"
      ]
     },
     "execution_count": 6,
     "metadata": {},
     "output_type": "execute_result"
    }
   ],
   "source": [
    "# national register historic sites intersect with bike/pedestrain lines\n",
    "aaf.RTP_counted_by_intersection(shapefile='BikePed')"
   ]
  },
  {
   "cell_type": "code",
   "execution_count": 7,
   "id": "1ce626ea",
   "metadata": {},
   "outputs": [
    {
     "data": {
      "text/html": [
       "<div>\n",
       "<style scoped>\n",
       "    .dataframe tbody tr th:only-of-type {\n",
       "        vertical-align: middle;\n",
       "    }\n",
       "\n",
       "    .dataframe tbody tr th {\n",
       "        vertical-align: top;\n",
       "    }\n",
       "\n",
       "    .dataframe thead th {\n",
       "        text-align: right;\n",
       "    }\n",
       "</style>\n",
       "<table border=\"1\" class=\"dataframe\">\n",
       "  <thead>\n",
       "    <tr style=\"text-align: right;\">\n",
       "      <th></th>\n",
       "      <th>geometry</th>\n",
       "    </tr>\n",
       "    <tr>\n",
       "      <th>Category</th>\n",
       "      <th></th>\n",
       "    </tr>\n",
       "  </thead>\n",
       "  <tbody>\n",
       "  </tbody>\n",
       "</table>\n",
       "</div>"
      ],
      "text/plain": [
       "Empty DataFrame\n",
       "Columns: [geometry]\n",
       "Index: []"
      ]
     },
     "execution_count": 7,
     "metadata": {},
     "output_type": "execute_result"
    }
   ],
   "source": [
    "# national register historic sites intersect with bike/pedestrain points\n",
    "aaf.RTP_counted_by_intersection(shapefile='BikePed_points')"
   ]
  },
  {
   "cell_type": "code",
   "execution_count": 8,
   "id": "228a94a5",
   "metadata": {},
   "outputs": [
    {
     "data": {
      "text/html": [
       "<div>\n",
       "<style scoped>\n",
       "    .dataframe tbody tr th:only-of-type {\n",
       "        vertical-align: middle;\n",
       "    }\n",
       "\n",
       "    .dataframe tbody tr th {\n",
       "        vertical-align: top;\n",
       "    }\n",
       "\n",
       "    .dataframe thead th {\n",
       "        text-align: right;\n",
       "    }\n",
       "</style>\n",
       "<table border=\"1\" class=\"dataframe\">\n",
       "  <thead>\n",
       "    <tr style=\"text-align: right;\">\n",
       "      <th></th>\n",
       "      <th>geometry</th>\n",
       "    </tr>\n",
       "    <tr>\n",
       "      <th>Category</th>\n",
       "      <th></th>\n",
       "    </tr>\n",
       "  </thead>\n",
       "  <tbody>\n",
       "    <tr>\n",
       "      <th>Multi-Use Paths Without Road Project</th>\n",
       "      <td>1</td>\n",
       "    </tr>\n",
       "    <tr>\n",
       "      <th>On-Street Lanes or Routes Without Road Project</th>\n",
       "      <td>6</td>\n",
       "    </tr>\n",
       "  </tbody>\n",
       "</table>\n",
       "</div>"
      ],
      "text/plain": [
       "                                                geometry\n",
       "Category                                                \n",
       "Multi-Use Paths Without Road Project                   1\n",
       "On-Street Lanes or Routes Without Road Project         6"
      ]
     },
     "execution_count": 8,
     "metadata": {},
     "output_type": "execute_result"
    }
   ],
   "source": [
    "# national register historic districts intersect with bike/pedestrain lines\n",
    "aaf.RTP_counted_by_intersection(shapefile='BikePed',\n",
    "                                file='NationalRegisterHistoricDistrictsCLMPO.shp')"
   ]
  },
  {
   "cell_type": "code",
   "execution_count": 9,
   "id": "9e469074",
   "metadata": {},
   "outputs": [
    {
     "data": {
      "text/html": [
       "<div>\n",
       "<style scoped>\n",
       "    .dataframe tbody tr th:only-of-type {\n",
       "        vertical-align: middle;\n",
       "    }\n",
       "\n",
       "    .dataframe tbody tr th {\n",
       "        vertical-align: top;\n",
       "    }\n",
       "\n",
       "    .dataframe thead th {\n",
       "        text-align: right;\n",
       "    }\n",
       "</style>\n",
       "<table border=\"1\" class=\"dataframe\">\n",
       "  <thead>\n",
       "    <tr style=\"text-align: right;\">\n",
       "      <th></th>\n",
       "      <th>geometry</th>\n",
       "    </tr>\n",
       "    <tr>\n",
       "      <th>Category</th>\n",
       "      <th></th>\n",
       "    </tr>\n",
       "  </thead>\n",
       "  <tbody>\n",
       "    <tr>\n",
       "      <th>On-Street Lanes or Routes Without Road Project</th>\n",
       "      <td>1</td>\n",
       "    </tr>\n",
       "  </tbody>\n",
       "</table>\n",
       "</div>"
      ],
      "text/plain": [
       "                                                geometry\n",
       "Category                                                \n",
       "On-Street Lanes or Routes Without Road Project         1"
      ]
     },
     "execution_count": 9,
     "metadata": {},
     "output_type": "execute_result"
    }
   ],
   "source": [
    "# national register historic districts intersect with bike/pedestrain points\n",
    "aaf.RTP_counted_by_intersection(shapefile='BikePed_points',\n",
    "                                file='NationalRegisterHistoricDistrictsCLMPO.shp')"
   ]
  },
  {
   "cell_type": "code",
   "execution_count": 3,
   "id": "b79d1ef4",
   "metadata": {},
   "outputs": [],
   "source": [
    "# national register historic sites intersect with frequent transit network\n",
    "res = aaf.RTP_counted_by_intersection(shapefile='FrequentTransitNetwork', transit=True, ftn=True)"
   ]
  },
  {
   "cell_type": "code",
   "execution_count": 4,
   "id": "26c4318a",
   "metadata": {},
   "outputs": [
    {
     "data": {
      "text/plain": [
       "(24, 1)"
      ]
     },
     "execution_count": 4,
     "metadata": {},
     "output_type": "execute_result"
    }
   ],
   "source": [
    "res.shape"
   ]
  },
  {
   "cell_type": "code",
   "execution_count": 6,
   "id": "2341cf22",
   "metadata": {},
   "outputs": [],
   "source": [
    "# national register historic districts intersect with frequent transit network\n",
    "res = aaf.RTP_counted_by_intersection(shapefile='FrequentTransitNetwork', \n",
    "                                      file='NationalRegisterHistoricDistrictsCLMPO.shp',\n",
    "                                      transit=True, ftn=True)"
   ]
  },
  {
   "cell_type": "code",
   "execution_count": 7,
   "id": "ba7c72d4",
   "metadata": {},
   "outputs": [
    {
     "data": {
      "text/plain": [
       "(9, 1)"
      ]
     },
     "execution_count": 7,
     "metadata": {},
     "output_type": "execute_result"
    }
   ],
   "source": [
    "res.shape"
   ]
  },
  {
   "cell_type": "code",
   "execution_count": 18,
   "id": "36d7bce7",
   "metadata": {},
   "outputs": [],
   "source": [
    "datapath = r'T:\\MPO\\RTP\\FY20 2045 Update\\Data and Resources\\Data\\ForAppendixF'"
   ]
  },
  {
   "cell_type": "code",
   "execution_count": 16,
   "id": "8a81e04b",
   "metadata": {},
   "outputs": [],
   "source": [
    "shapefile='stations'\n",
    "folder='Historic'\n",
    "file='NationalRegisterHistoricSitesCLMPO.shp'"
   ]
  },
  {
   "cell_type": "code",
   "execution_count": 14,
   "id": "86a10e52",
   "metadata": {},
   "outputs": [],
   "source": [
    "# check the intersection with the LTD stations\n",
    "import geopandas as gpd\n",
    "import os"
   ]
  },
  {
   "cell_type": "code",
   "execution_count": 19,
   "id": "afdc2c4b",
   "metadata": {},
   "outputs": [],
   "source": [
    "rtp = gpd.read_file(os.path.join(datapath, 'RTP', shapefile+'.shp'))"
   ]
  },
  {
   "cell_type": "code",
   "execution_count": 20,
   "id": "6d7fc87f",
   "metadata": {},
   "outputs": [],
   "source": [
    "rtp['buffered'] = rtp.buffer(100)\n",
    "rtp = rtp.set_geometry('buffered')\n",
    "rtp = rtp.to_crs(epsg=3857)\n",
    "env = gpd.read_file(os.path.join(datapath, folder, file))\n",
    "joined = gpd.tools.sjoin(rtp, env, how=\"inner\")"
   ]
  },
  {
   "cell_type": "code",
   "execution_count": 21,
   "id": "c9fc06fa",
   "metadata": {},
   "outputs": [
    {
     "data": {
      "text/html": [
       "<div>\n",
       "<style scoped>\n",
       "    .dataframe tbody tr th:only-of-type {\n",
       "        vertical-align: middle;\n",
       "    }\n",
       "\n",
       "    .dataframe tbody tr th {\n",
       "        vertical-align: top;\n",
       "    }\n",
       "\n",
       "    .dataframe thead th {\n",
       "        text-align: right;\n",
       "    }\n",
       "</style>\n",
       "<table border=\"1\" class=\"dataframe\">\n",
       "  <thead>\n",
       "    <tr style=\"text-align: right;\">\n",
       "      <th></th>\n",
       "      <th>name_left</th>\n",
       "      <th>longitude</th>\n",
       "      <th>latitude</th>\n",
       "      <th>geometry</th>\n",
       "      <th>buffered</th>\n",
       "      <th>index_right</th>\n",
       "      <th>id</th>\n",
       "      <th>name_right</th>\n",
       "      <th>address</th>\n",
       "      <th>city</th>\n",
       "      <th>yrbuilt</th>\n",
       "    </tr>\n",
       "  </thead>\n",
       "  <tbody>\n",
       "    <tr>\n",
       "      <th>8</th>\n",
       "      <td>LTD Eugene Station</td>\n",
       "      <td>-123.093686</td>\n",
       "      <td>44.048119</td>\n",
       "      <td>POINT (-13702726.473 5472891.696)</td>\n",
       "      <td>POLYGON ((-13702626.473 5472891.696, -13702626...</td>\n",
       "      <td>71</td>\n",
       "      <td>2067</td>\n",
       "      <td>Mcdonald Theatre</td>\n",
       "      <td>1004 Willamette St</td>\n",
       "      <td>Eugene</td>\n",
       "      <td>1925</td>\n",
       "    </tr>\n",
       "  </tbody>\n",
       "</table>\n",
       "</div>"
      ],
      "text/plain": [
       "            name_left   longitude   latitude  \\\n",
       "8  LTD Eugene Station -123.093686  44.048119   \n",
       "\n",
       "                            geometry  \\\n",
       "8  POINT (-13702726.473 5472891.696)   \n",
       "\n",
       "                                            buffered  index_right    id  \\\n",
       "8  POLYGON ((-13702626.473 5472891.696, -13702626...           71  2067   \n",
       "\n",
       "         name_right             address    city yrbuilt  \n",
       "8  Mcdonald Theatre  1004 Willamette St  Eugene    1925  "
      ]
     },
     "execution_count": 21,
     "metadata": {},
     "output_type": "execute_result"
    }
   ],
   "source": [
    "joined"
   ]
  },
  {
   "cell_type": "code",
   "execution_count": 22,
   "id": "d6974131",
   "metadata": {},
   "outputs": [],
   "source": [
    "joined = joined.drop_duplicates(subset=['name_left', 'geometry'])\n",
    "res = joined[['name_left', 'geometry']].groupby(['name_left']).agg('count')"
   ]
  },
  {
   "cell_type": "code",
   "execution_count": 23,
   "id": "bfe3c0c0",
   "metadata": {},
   "outputs": [
    {
     "data": {
      "text/html": [
       "<div>\n",
       "<style scoped>\n",
       "    .dataframe tbody tr th:only-of-type {\n",
       "        vertical-align: middle;\n",
       "    }\n",
       "\n",
       "    .dataframe tbody tr th {\n",
       "        vertical-align: top;\n",
       "    }\n",
       "\n",
       "    .dataframe thead th {\n",
       "        text-align: right;\n",
       "    }\n",
       "</style>\n",
       "<table border=\"1\" class=\"dataframe\">\n",
       "  <thead>\n",
       "    <tr style=\"text-align: right;\">\n",
       "      <th></th>\n",
       "      <th>geometry</th>\n",
       "    </tr>\n",
       "    <tr>\n",
       "      <th>name_left</th>\n",
       "      <th></th>\n",
       "    </tr>\n",
       "  </thead>\n",
       "  <tbody>\n",
       "    <tr>\n",
       "      <th>LTD Eugene Station</th>\n",
       "      <td>1</td>\n",
       "    </tr>\n",
       "  </tbody>\n",
       "</table>\n",
       "</div>"
      ],
      "text/plain": [
       "                    geometry\n",
       "name_left                   \n",
       "LTD Eugene Station         1"
      ]
     },
     "execution_count": 23,
     "metadata": {},
     "output_type": "execute_result"
    }
   ],
   "source": [
    "res"
   ]
  },
  {
   "cell_type": "code",
   "execution_count": 2,
   "id": "3d78fcb3",
   "metadata": {},
   "outputs": [],
   "source": [
    "# national register historic sites intersect with stations\n",
    "res = aaf.RTP_counted_by_intersection(shapefile='stations', transit=True)"
   ]
  },
  {
   "cell_type": "code",
   "execution_count": 3,
   "id": "c46866c8",
   "metadata": {},
   "outputs": [
    {
     "data": {
      "text/html": [
       "<div>\n",
       "<style scoped>\n",
       "    .dataframe tbody tr th:only-of-type {\n",
       "        vertical-align: middle;\n",
       "    }\n",
       "\n",
       "    .dataframe tbody tr th {\n",
       "        vertical-align: top;\n",
       "    }\n",
       "\n",
       "    .dataframe thead th {\n",
       "        text-align: right;\n",
       "    }\n",
       "</style>\n",
       "<table border=\"1\" class=\"dataframe\">\n",
       "  <thead>\n",
       "    <tr style=\"text-align: right;\">\n",
       "      <th></th>\n",
       "      <th>geometry</th>\n",
       "    </tr>\n",
       "    <tr>\n",
       "      <th>name_left</th>\n",
       "      <th></th>\n",
       "    </tr>\n",
       "  </thead>\n",
       "  <tbody>\n",
       "    <tr>\n",
       "      <th>LTD Eugene Station</th>\n",
       "      <td>1</td>\n",
       "    </tr>\n",
       "  </tbody>\n",
       "</table>\n",
       "</div>"
      ],
      "text/plain": [
       "                    geometry\n",
       "name_left                   \n",
       "LTD Eugene Station         1"
      ]
     },
     "execution_count": 3,
     "metadata": {},
     "output_type": "execute_result"
    }
   ],
   "source": [
    "res"
   ]
  },
  {
   "cell_type": "code",
   "execution_count": 5,
   "id": "3b65858f",
   "metadata": {},
   "outputs": [
    {
     "data": {
      "text/html": [
       "<div>\n",
       "<style scoped>\n",
       "    .dataframe tbody tr th:only-of-type {\n",
       "        vertical-align: middle;\n",
       "    }\n",
       "\n",
       "    .dataframe tbody tr th {\n",
       "        vertical-align: top;\n",
       "    }\n",
       "\n",
       "    .dataframe thead th {\n",
       "        text-align: right;\n",
       "    }\n",
       "</style>\n",
       "<table border=\"1\" class=\"dataframe\">\n",
       "  <thead>\n",
       "    <tr style=\"text-align: right;\">\n",
       "      <th></th>\n",
       "      <th>geometry</th>\n",
       "    </tr>\n",
       "    <tr>\n",
       "      <th>name_left</th>\n",
       "      <th></th>\n",
       "    </tr>\n",
       "  </thead>\n",
       "  <tbody>\n",
       "  </tbody>\n",
       "</table>\n",
       "</div>"
      ],
      "text/plain": [
       "Empty DataFrame\n",
       "Columns: [geometry]\n",
       "Index: []"
      ]
     },
     "execution_count": 5,
     "metadata": {},
     "output_type": "execute_result"
    }
   ],
   "source": [
    "# national register historic districts intersect with stations\n",
    "aaf.RTP_counted_by_intersection(shapefile='stations', file='NationalRegisterHistoricDistrictsCLMPO.shp', transit=True)"
   ]
  },
  {
   "cell_type": "code",
   "execution_count": 6,
   "id": "53f99cf9",
   "metadata": {},
   "outputs": [],
   "source": [
    "path = r'T:\\MPO\\RTP\\FY20 2045 Update\\Data and Resources\\Data\\GISData\\Updated'\n",
    "datapath = r'T:\\MPO\\RTP\\FY20 2045 Update\\Data and Resources\\Data\\ForAppendixF'"
   ]
  },
  {
   "cell_type": "code",
   "execution_count": 7,
   "id": "e227a06f",
   "metadata": {},
   "outputs": [],
   "source": [
    "shapefile='Roadway_lines'\n",
    "folder='WaterQuality'\n",
    "file='DEQ303dListedStreams.shp'"
   ]
  },
  {
   "cell_type": "code",
   "execution_count": 11,
   "id": "396d9567",
   "metadata": {},
   "outputs": [],
   "source": [
    "import geopandas as gpd\n",
    "import os"
   ]
  },
  {
   "cell_type": "code",
   "execution_count": 2,
   "id": "7da40ab6",
   "metadata": {},
   "outputs": [
    {
     "data": {
      "text/html": [
       "<div>\n",
       "<style scoped>\n",
       "    .dataframe tbody tr th:only-of-type {\n",
       "        vertical-align: middle;\n",
       "    }\n",
       "\n",
       "    .dataframe tbody tr th {\n",
       "        vertical-align: top;\n",
       "    }\n",
       "\n",
       "    .dataframe thead th {\n",
       "        text-align: right;\n",
       "    }\n",
       "</style>\n",
       "<table border=\"1\" class=\"dataframe\">\n",
       "  <thead>\n",
       "    <tr style=\"text-align: right;\">\n",
       "      <th></th>\n",
       "      <th>geometry</th>\n",
       "    </tr>\n",
       "    <tr>\n",
       "      <th>Category</th>\n",
       "      <th></th>\n",
       "    </tr>\n",
       "  </thead>\n",
       "  <tbody>\n",
       "    <tr>\n",
       "      <th>Added Freeway Lanes or Major Interchange Improvements</th>\n",
       "      <td>1</td>\n",
       "    </tr>\n",
       "    <tr>\n",
       "      <th>New Arterial Link or Interchange</th>\n",
       "      <td>1</td>\n",
       "    </tr>\n",
       "    <tr>\n",
       "      <th>Study</th>\n",
       "      <td>5</td>\n",
       "    </tr>\n",
       "    <tr>\n",
       "      <th>Urban Standards</th>\n",
       "      <td>1</td>\n",
       "    </tr>\n",
       "  </tbody>\n",
       "</table>\n",
       "</div>"
      ],
      "text/plain": [
       "                                                    geometry\n",
       "Category                                                    \n",
       "Added Freeway Lanes or Major Interchange Improv...         1\n",
       "New Arterial Link or Interchange                           1\n",
       "Study                                                      5\n",
       "Urban Standards                                            1"
      ]
     },
     "execution_count": 2,
     "metadata": {},
     "output_type": "execute_result"
    }
   ],
   "source": [
    "# DEQ303dListedStreams intersect with roadway lines\n",
    "aaf.RTP_counted_by_intersection(folder='WaterQuality', file='DEQ303dListedStreams.shp')"
   ]
  },
  {
   "cell_type": "code",
   "execution_count": 11,
   "id": "167a236a",
   "metadata": {},
   "outputs": [
    {
     "data": {
      "text/html": [
       "<div>\n",
       "<style scoped>\n",
       "    .dataframe tbody tr th:only-of-type {\n",
       "        vertical-align: middle;\n",
       "    }\n",
       "\n",
       "    .dataframe tbody tr th {\n",
       "        vertical-align: top;\n",
       "    }\n",
       "\n",
       "    .dataframe thead th {\n",
       "        text-align: right;\n",
       "    }\n",
       "</style>\n",
       "<table border=\"1\" class=\"dataframe\">\n",
       "  <thead>\n",
       "    <tr style=\"text-align: right;\">\n",
       "      <th></th>\n",
       "      <th>geometry</th>\n",
       "    </tr>\n",
       "    <tr>\n",
       "      <th>Category</th>\n",
       "      <th></th>\n",
       "    </tr>\n",
       "  </thead>\n",
       "  <tbody>\n",
       "    <tr>\n",
       "      <th>Added Freeway Lanes or Major Interchange Improvements</th>\n",
       "      <td>1</td>\n",
       "    </tr>\n",
       "    <tr>\n",
       "      <th>Arterial Capacity Improvements</th>\n",
       "      <td>2</td>\n",
       "    </tr>\n",
       "    <tr>\n",
       "      <th>New Arterial Link or Interchange</th>\n",
       "      <td>1</td>\n",
       "    </tr>\n",
       "    <tr>\n",
       "      <th>New Collectors</th>\n",
       "      <td>1</td>\n",
       "    </tr>\n",
       "    <tr>\n",
       "      <th>Study</th>\n",
       "      <td>4</td>\n",
       "    </tr>\n",
       "    <tr>\n",
       "      <th>Urban Standards</th>\n",
       "      <td>5</td>\n",
       "    </tr>\n",
       "  </tbody>\n",
       "</table>\n",
       "</div>"
      ],
      "text/plain": [
       "                                                    geometry\n",
       "Category                                                    \n",
       "Added Freeway Lanes or Major Interchange Improv...         1\n",
       "Arterial Capacity Improvements                             2\n",
       "New Arterial Link or Interchange                           1\n",
       "New Collectors                                             1\n",
       "Study                                                      4\n",
       "Urban Standards                                            5"
      ]
     },
     "execution_count": 11,
     "metadata": {},
     "output_type": "execute_result"
    }
   ],
   "source": [
    "# Navigable Rivers intersect with roadway lines\n",
    "aaf.RTP_counted_by_intersection(folder='WaterQuality', file='NavigableRivers.shp')"
   ]
  },
  {
   "cell_type": "code",
   "execution_count": 23,
   "id": "ff849e69",
   "metadata": {},
   "outputs": [
    {
     "data": {
      "text/html": [
       "<div>\n",
       "<style scoped>\n",
       "    .dataframe tbody tr th:only-of-type {\n",
       "        vertical-align: middle;\n",
       "    }\n",
       "\n",
       "    .dataframe tbody tr th {\n",
       "        vertical-align: top;\n",
       "    }\n",
       "\n",
       "    .dataframe thead th {\n",
       "        text-align: right;\n",
       "    }\n",
       "</style>\n",
       "<table border=\"1\" class=\"dataframe\">\n",
       "  <thead>\n",
       "    <tr style=\"text-align: right;\">\n",
       "      <th></th>\n",
       "      <th>geometry</th>\n",
       "    </tr>\n",
       "    <tr>\n",
       "      <th>Category</th>\n",
       "      <th></th>\n",
       "    </tr>\n",
       "  </thead>\n",
       "  <tbody>\n",
       "    <tr>\n",
       "      <th>Added Freeway Lanes or Major Interchange Improvements</th>\n",
       "      <td>2</td>\n",
       "    </tr>\n",
       "    <tr>\n",
       "      <th>Arterial Capacity Improvements</th>\n",
       "      <td>5</td>\n",
       "    </tr>\n",
       "    <tr>\n",
       "      <th>New Arterial Link or Interchange</th>\n",
       "      <td>1</td>\n",
       "    </tr>\n",
       "    <tr>\n",
       "      <th>New Collectors</th>\n",
       "      <td>14</td>\n",
       "    </tr>\n",
       "    <tr>\n",
       "      <th>Study</th>\n",
       "      <td>9</td>\n",
       "    </tr>\n",
       "    <tr>\n",
       "      <th>Urban Standards</th>\n",
       "      <td>19</td>\n",
       "    </tr>\n",
       "  </tbody>\n",
       "</table>\n",
       "</div>"
      ],
      "text/plain": [
       "                                                    geometry\n",
       "Category                                                    \n",
       "Added Freeway Lanes or Major Interchange Improv...         2\n",
       "Arterial Capacity Improvements                             5\n",
       "New Arterial Link or Interchange                           1\n",
       "New Collectors                                            14\n",
       "Study                                                      9\n",
       "Urban Standards                                           19"
      ]
     },
     "execution_count": 23,
     "metadata": {},
     "output_type": "execute_result"
    }
   ],
   "source": [
    "# wetlands intersect with roadway lines\n",
    "aaf.RTP_counted_by_intersection(folder='WaterQuality', file='wetlandsCLMPO.shp')"
   ]
  },
  {
   "cell_type": "code",
   "execution_count": 2,
   "id": "41038b65",
   "metadata": {},
   "outputs": [
    {
     "data": {
      "text/html": [
       "<div>\n",
       "<style scoped>\n",
       "    .dataframe tbody tr th:only-of-type {\n",
       "        vertical-align: middle;\n",
       "    }\n",
       "\n",
       "    .dataframe tbody tr th {\n",
       "        vertical-align: top;\n",
       "    }\n",
       "\n",
       "    .dataframe thead th {\n",
       "        text-align: right;\n",
       "    }\n",
       "</style>\n",
       "<table border=\"1\" class=\"dataframe\">\n",
       "  <thead>\n",
       "    <tr style=\"text-align: right;\">\n",
       "      <th></th>\n",
       "      <th>geometry</th>\n",
       "    </tr>\n",
       "    <tr>\n",
       "      <th>Category</th>\n",
       "      <th></th>\n",
       "    </tr>\n",
       "  </thead>\n",
       "  <tbody>\n",
       "    <tr>\n",
       "      <th>Added Freeway Lanes or Major Interchange Improvements</th>\n",
       "      <td>2</td>\n",
       "    </tr>\n",
       "    <tr>\n",
       "      <th>Arterial Capacity Improvements</th>\n",
       "      <td>3</td>\n",
       "    </tr>\n",
       "    <tr>\n",
       "      <th>New Arterial Link or Interchange</th>\n",
       "      <td>1</td>\n",
       "    </tr>\n",
       "    <tr>\n",
       "      <th>New Collectors</th>\n",
       "      <td>15</td>\n",
       "    </tr>\n",
       "    <tr>\n",
       "      <th>Study</th>\n",
       "      <td>7</td>\n",
       "    </tr>\n",
       "    <tr>\n",
       "      <th>Urban Standards</th>\n",
       "      <td>21</td>\n",
       "    </tr>\n",
       "  </tbody>\n",
       "</table>\n",
       "</div>"
      ],
      "text/plain": [
       "                                                    geometry\n",
       "Category                                                    \n",
       "Added Freeway Lanes or Major Interchange Improv...         2\n",
       "Arterial Capacity Improvements                             3\n",
       "New Arterial Link or Interchange                           1\n",
       "New Collectors                                            15\n",
       "Study                                                      7\n",
       "Urban Standards                                           21"
      ]
     },
     "execution_count": 2,
     "metadata": {},
     "output_type": "execute_result"
    }
   ],
   "source": [
    "# Conservation Opportunity Areas intersect with roadway lines\n",
    "aaf.RTP_counted_by_intersection(folder='SensitiveHabitats', file='ODFW_COAs_CLMPO.shp')"
   ]
  },
  {
   "cell_type": "code",
   "execution_count": 4,
   "id": "54aa3062",
   "metadata": {},
   "outputs": [
    {
     "data": {
      "text/html": [
       "<div>\n",
       "<style scoped>\n",
       "    .dataframe tbody tr th:only-of-type {\n",
       "        vertical-align: middle;\n",
       "    }\n",
       "\n",
       "    .dataframe tbody tr th {\n",
       "        vertical-align: top;\n",
       "    }\n",
       "\n",
       "    .dataframe thead th {\n",
       "        text-align: right;\n",
       "    }\n",
       "</style>\n",
       "<table border=\"1\" class=\"dataframe\">\n",
       "  <thead>\n",
       "    <tr style=\"text-align: right;\">\n",
       "      <th></th>\n",
       "      <th>geometry</th>\n",
       "    </tr>\n",
       "    <tr>\n",
       "      <th>Category</th>\n",
       "      <th></th>\n",
       "    </tr>\n",
       "  </thead>\n",
       "  <tbody>\n",
       "    <tr>\n",
       "      <th>Added Freeway Lanes or Major Interchange Improvements</th>\n",
       "      <td>1</td>\n",
       "    </tr>\n",
       "    <tr>\n",
       "      <th>Arterial Capacity Improvements</th>\n",
       "      <td>1</td>\n",
       "    </tr>\n",
       "    <tr>\n",
       "      <th>New Collectors</th>\n",
       "      <td>1</td>\n",
       "    </tr>\n",
       "    <tr>\n",
       "      <th>Urban Standards</th>\n",
       "      <td>2</td>\n",
       "    </tr>\n",
       "  </tbody>\n",
       "</table>\n",
       "</div>"
      ],
      "text/plain": [
       "                                                    geometry\n",
       "Category                                                    \n",
       "Added Freeway Lanes or Major Interchange Improv...         1\n",
       "Arterial Capacity Improvements                             1\n",
       "New Collectors                                             1\n",
       "Urban Standards                                            2"
      ]
     },
     "execution_count": 4,
     "metadata": {},
     "output_type": "execute_result"
    }
   ],
   "source": [
    "# USFWS Critical Habitats intersect with roadway lines\n",
    "aaf.RTP_counted_by_intersection(folder='SensitiveHabitats', file='CRITHAB_CLMPO.shp')"
   ]
  },
  {
   "cell_type": "code",
   "execution_count": 19,
   "id": "a1cc175c",
   "metadata": {},
   "outputs": [
    {
     "data": {
      "text/html": [
       "<div>\n",
       "<style scoped>\n",
       "    .dataframe tbody tr th:only-of-type {\n",
       "        vertical-align: middle;\n",
       "    }\n",
       "\n",
       "    .dataframe tbody tr th {\n",
       "        vertical-align: top;\n",
       "    }\n",
       "\n",
       "    .dataframe thead th {\n",
       "        text-align: right;\n",
       "    }\n",
       "</style>\n",
       "<table border=\"1\" class=\"dataframe\">\n",
       "  <thead>\n",
       "    <tr style=\"text-align: right;\">\n",
       "      <th></th>\n",
       "      <th>geometry</th>\n",
       "    </tr>\n",
       "    <tr>\n",
       "      <th>Category</th>\n",
       "      <th></th>\n",
       "    </tr>\n",
       "  </thead>\n",
       "  <tbody>\n",
       "    <tr>\n",
       "      <th>Added Freeway Lanes or Major Interchange Improvements</th>\n",
       "      <td>2</td>\n",
       "    </tr>\n",
       "    <tr>\n",
       "      <th>Arterial Capacity Improvements</th>\n",
       "      <td>2</td>\n",
       "    </tr>\n",
       "    <tr>\n",
       "      <th>New Arterial Link or Interchange</th>\n",
       "      <td>1</td>\n",
       "    </tr>\n",
       "    <tr>\n",
       "      <th>New Collectors</th>\n",
       "      <td>2</td>\n",
       "    </tr>\n",
       "    <tr>\n",
       "      <th>Study</th>\n",
       "      <td>6</td>\n",
       "    </tr>\n",
       "    <tr>\n",
       "      <th>Urban Standards</th>\n",
       "      <td>2</td>\n",
       "    </tr>\n",
       "  </tbody>\n",
       "</table>\n",
       "</div>"
      ],
      "text/plain": [
       "                                                    geometry\n",
       "Category                                                    \n",
       "Added Freeway Lanes or Major Interchange Improv...         2\n",
       "Arterial Capacity Improvements                             2\n",
       "New Arterial Link or Interchange                           1\n",
       "New Collectors                                             2\n",
       "Study                                                      6\n",
       "Urban Standards                                            2"
      ]
     },
     "execution_count": 19,
     "metadata": {},
     "output_type": "execute_result"
    }
   ],
   "source": [
    "# floodway intersects with roadway lines\n",
    "aaf.RTP_counted_by_intersection(folder='NaturalHazards', file='FloodwayCLMPO.shp')"
   ]
  },
  {
   "cell_type": "code",
   "execution_count": 20,
   "id": "ae671e24",
   "metadata": {},
   "outputs": [
    {
     "data": {
      "text/html": [
       "<div>\n",
       "<style scoped>\n",
       "    .dataframe tbody tr th:only-of-type {\n",
       "        vertical-align: middle;\n",
       "    }\n",
       "\n",
       "    .dataframe tbody tr th {\n",
       "        vertical-align: top;\n",
       "    }\n",
       "\n",
       "    .dataframe thead th {\n",
       "        text-align: right;\n",
       "    }\n",
       "</style>\n",
       "<table border=\"1\" class=\"dataframe\">\n",
       "  <thead>\n",
       "    <tr style=\"text-align: right;\">\n",
       "      <th></th>\n",
       "      <th>geometry</th>\n",
       "    </tr>\n",
       "    <tr>\n",
       "      <th>Category</th>\n",
       "      <th></th>\n",
       "    </tr>\n",
       "  </thead>\n",
       "  <tbody>\n",
       "    <tr>\n",
       "      <th>Added Freeway Lanes or Major Interchange Improvements</th>\n",
       "      <td>2</td>\n",
       "    </tr>\n",
       "    <tr>\n",
       "      <th>Arterial Capacity Improvements</th>\n",
       "      <td>9</td>\n",
       "    </tr>\n",
       "    <tr>\n",
       "      <th>New Arterial Link or Interchange</th>\n",
       "      <td>1</td>\n",
       "    </tr>\n",
       "    <tr>\n",
       "      <th>New Collectors</th>\n",
       "      <td>25</td>\n",
       "    </tr>\n",
       "    <tr>\n",
       "      <th>Study</th>\n",
       "      <td>14</td>\n",
       "    </tr>\n",
       "    <tr>\n",
       "      <th>Transit Oriented Development Implementation</th>\n",
       "      <td>1</td>\n",
       "    </tr>\n",
       "    <tr>\n",
       "      <th>Urban Standards</th>\n",
       "      <td>36</td>\n",
       "    </tr>\n",
       "  </tbody>\n",
       "</table>\n",
       "</div>"
      ],
      "text/plain": [
       "                                                    geometry\n",
       "Category                                                    \n",
       "Added Freeway Lanes or Major Interchange Improv...         2\n",
       "Arterial Capacity Improvements                             9\n",
       "New Arterial Link or Interchange                           1\n",
       "New Collectors                                            25\n",
       "Study                                                     14\n",
       "Transit Oriented Development Implementation                1\n",
       "Urban Standards                                           36"
      ]
     },
     "execution_count": 20,
     "metadata": {},
     "output_type": "execute_result"
    }
   ],
   "source": [
    "# fire hazards intersects with roadway lines, need to discuss on the risk levels\n",
    "aaf.RTP_counted_by_intersection(folder='NaturalHazards', file='FireHazard.shp')"
   ]
  },
  {
   "cell_type": "code",
   "execution_count": 28,
   "id": "0297f206",
   "metadata": {},
   "outputs": [
    {
     "data": {
      "text/html": [
       "<div>\n",
       "<style scoped>\n",
       "    .dataframe tbody tr th:only-of-type {\n",
       "        vertical-align: middle;\n",
       "    }\n",
       "\n",
       "    .dataframe tbody tr th {\n",
       "        vertical-align: top;\n",
       "    }\n",
       "\n",
       "    .dataframe thead th {\n",
       "        text-align: right;\n",
       "    }\n",
       "</style>\n",
       "<table border=\"1\" class=\"dataframe\">\n",
       "  <thead>\n",
       "    <tr style=\"text-align: right;\">\n",
       "      <th></th>\n",
       "      <th>geometry</th>\n",
       "    </tr>\n",
       "    <tr>\n",
       "      <th>Category</th>\n",
       "      <th></th>\n",
       "    </tr>\n",
       "  </thead>\n",
       "  <tbody>\n",
       "    <tr>\n",
       "      <th>Added Freeway Lanes or Major Interchange Improvements</th>\n",
       "      <td>2</td>\n",
       "    </tr>\n",
       "    <tr>\n",
       "      <th>Arterial Capacity Improvements</th>\n",
       "      <td>7</td>\n",
       "    </tr>\n",
       "    <tr>\n",
       "      <th>New Arterial Link or Interchange</th>\n",
       "      <td>1</td>\n",
       "    </tr>\n",
       "    <tr>\n",
       "      <th>New Collectors</th>\n",
       "      <td>14</td>\n",
       "    </tr>\n",
       "    <tr>\n",
       "      <th>Study</th>\n",
       "      <td>9</td>\n",
       "    </tr>\n",
       "    <tr>\n",
       "      <th>Transit Oriented Development Implementation</th>\n",
       "      <td>1</td>\n",
       "    </tr>\n",
       "    <tr>\n",
       "      <th>Urban Standards</th>\n",
       "      <td>20</td>\n",
       "    </tr>\n",
       "  </tbody>\n",
       "</table>\n",
       "</div>"
      ],
      "text/plain": [
       "                                                    geometry\n",
       "Category                                                    \n",
       "Added Freeway Lanes or Major Interchange Improv...         2\n",
       "Arterial Capacity Improvements                             7\n",
       "New Arterial Link or Interchange                           1\n",
       "New Collectors                                            14\n",
       "Study                                                      9\n",
       "Transit Oriented Development Implementation                1\n",
       "Urban Standards                                           20"
      ]
     },
     "execution_count": 28,
     "metadata": {},
     "output_type": "execute_result"
    }
   ],
   "source": [
    "# seismic hazards intersect with roadway lines\n",
    "aaf.RTP_counted_by_intersection(folder='NaturalHazards', file='EarthquakeLayer.shp')"
   ]
  },
  {
   "cell_type": "code",
   "execution_count": 36,
   "id": "5026324d",
   "metadata": {},
   "outputs": [
    {
     "data": {
      "text/html": [
       "<div>\n",
       "<style scoped>\n",
       "    .dataframe tbody tr th:only-of-type {\n",
       "        vertical-align: middle;\n",
       "    }\n",
       "\n",
       "    .dataframe tbody tr th {\n",
       "        vertical-align: top;\n",
       "    }\n",
       "\n",
       "    .dataframe thead th {\n",
       "        text-align: right;\n",
       "    }\n",
       "</style>\n",
       "<table border=\"1\" class=\"dataframe\">\n",
       "  <thead>\n",
       "    <tr style=\"text-align: right;\">\n",
       "      <th></th>\n",
       "      <th>geometry</th>\n",
       "    </tr>\n",
       "    <tr>\n",
       "      <th>Category</th>\n",
       "      <th></th>\n",
       "    </tr>\n",
       "  </thead>\n",
       "  <tbody>\n",
       "    <tr>\n",
       "      <th>Added Freeway Lanes or Major Interchange Improvements</th>\n",
       "      <td>2</td>\n",
       "    </tr>\n",
       "    <tr>\n",
       "      <th>Arterial Capacity Improvements</th>\n",
       "      <td>9</td>\n",
       "    </tr>\n",
       "    <tr>\n",
       "      <th>New Arterial Link or Interchange</th>\n",
       "      <td>1</td>\n",
       "    </tr>\n",
       "    <tr>\n",
       "      <th>New Collectors</th>\n",
       "      <td>25</td>\n",
       "    </tr>\n",
       "    <tr>\n",
       "      <th>Study</th>\n",
       "      <td>14</td>\n",
       "    </tr>\n",
       "    <tr>\n",
       "      <th>Transit Oriented Development Implementation</th>\n",
       "      <td>1</td>\n",
       "    </tr>\n",
       "    <tr>\n",
       "      <th>Urban Standards</th>\n",
       "      <td>36</td>\n",
       "    </tr>\n",
       "  </tbody>\n",
       "</table>\n",
       "</div>"
      ],
      "text/plain": [
       "                                                    geometry\n",
       "Category                                                    \n",
       "Added Freeway Lanes or Major Interchange Improv...         2\n",
       "Arterial Capacity Improvements                             9\n",
       "New Arterial Link or Interchange                           1\n",
       "New Collectors                                            25\n",
       "Study                                                     14\n",
       "Transit Oriented Development Implementation                1\n",
       "Urban Standards                                           36"
      ]
     },
     "execution_count": 36,
     "metadata": {},
     "output_type": "execute_result"
    }
   ],
   "source": [
    "# AirQualityMaintenanceArea intersects with roadway lines\n",
    "aaf.RTP_counted_by_intersection(folder='AirQuality', file='AirQualityMaintenanceArea.shp')"
   ]
  },
  {
   "cell_type": "code",
   "execution_count": 44,
   "id": "e9a3c9c9",
   "metadata": {},
   "outputs": [
    {
     "data": {
      "text/html": [
       "<div>\n",
       "<style scoped>\n",
       "    .dataframe tbody tr th:only-of-type {\n",
       "        vertical-align: middle;\n",
       "    }\n",
       "\n",
       "    .dataframe tbody tr th {\n",
       "        vertical-align: top;\n",
       "    }\n",
       "\n",
       "    .dataframe thead th {\n",
       "        text-align: right;\n",
       "    }\n",
       "</style>\n",
       "<table border=\"1\" class=\"dataframe\">\n",
       "  <thead>\n",
       "    <tr style=\"text-align: right;\">\n",
       "      <th></th>\n",
       "      <th>geometry</th>\n",
       "    </tr>\n",
       "    <tr>\n",
       "      <th>Category</th>\n",
       "      <th></th>\n",
       "    </tr>\n",
       "  </thead>\n",
       "  <tbody>\n",
       "    <tr>\n",
       "      <th>Added Freeway Lanes or Major Interchange Improvements</th>\n",
       "      <td>1</td>\n",
       "    </tr>\n",
       "    <tr>\n",
       "      <th>Arterial Capacity Improvements</th>\n",
       "      <td>2</td>\n",
       "    </tr>\n",
       "    <tr>\n",
       "      <th>New Collectors</th>\n",
       "      <td>5</td>\n",
       "    </tr>\n",
       "    <tr>\n",
       "      <th>Study</th>\n",
       "      <td>12</td>\n",
       "    </tr>\n",
       "    <tr>\n",
       "      <th>Transit Oriented Development Implementation</th>\n",
       "      <td>1</td>\n",
       "    </tr>\n",
       "    <tr>\n",
       "      <th>Urban Standards</th>\n",
       "      <td>11</td>\n",
       "    </tr>\n",
       "  </tbody>\n",
       "</table>\n",
       "</div>"
      ],
      "text/plain": [
       "                                                    geometry\n",
       "Category                                                    \n",
       "Added Freeway Lanes or Major Interchange Improv...         1\n",
       "Arterial Capacity Improvements                             2\n",
       "New Collectors                                             5\n",
       "Study                                                     12\n",
       "Transit Oriented Development Implementation                1\n",
       "Urban Standards                                           11"
      ]
     },
     "execution_count": 44,
     "metadata": {},
     "output_type": "execute_result"
    }
   ],
   "source": [
    "# Equity Areas intersect with roadway lines\n",
    "aaf.RTP_counted_by_intersection(folder='EJ', file='equity_area.shp')"
   ]
  },
  {
   "cell_type": "code",
   "execution_count": 52,
   "id": "91052fb3",
   "metadata": {},
   "outputs": [
    {
     "data": {
      "text/html": [
       "<div>\n",
       "<style scoped>\n",
       "    .dataframe tbody tr th:only-of-type {\n",
       "        vertical-align: middle;\n",
       "    }\n",
       "\n",
       "    .dataframe tbody tr th {\n",
       "        vertical-align: top;\n",
       "    }\n",
       "\n",
       "    .dataframe thead th {\n",
       "        text-align: right;\n",
       "    }\n",
       "</style>\n",
       "<table border=\"1\" class=\"dataframe\">\n",
       "  <thead>\n",
       "    <tr style=\"text-align: right;\">\n",
       "      <th></th>\n",
       "      <th>geometry</th>\n",
       "    </tr>\n",
       "    <tr>\n",
       "      <th>Category</th>\n",
       "      <th></th>\n",
       "    </tr>\n",
       "  </thead>\n",
       "  <tbody>\n",
       "    <tr>\n",
       "      <th>Added Freeway Lanes or Major Interchange Improvements</th>\n",
       "      <td>2</td>\n",
       "    </tr>\n",
       "    <tr>\n",
       "      <th>Arterial Capacity Improvements</th>\n",
       "      <td>9</td>\n",
       "    </tr>\n",
       "    <tr>\n",
       "      <th>New Arterial Link or Interchange</th>\n",
       "      <td>1</td>\n",
       "    </tr>\n",
       "    <tr>\n",
       "      <th>New Collectors</th>\n",
       "      <td>25</td>\n",
       "    </tr>\n",
       "    <tr>\n",
       "      <th>Study</th>\n",
       "      <td>14</td>\n",
       "    </tr>\n",
       "    <tr>\n",
       "      <th>Transit Oriented Development Implementation</th>\n",
       "      <td>1</td>\n",
       "    </tr>\n",
       "    <tr>\n",
       "      <th>Urban Standards</th>\n",
       "      <td>36</td>\n",
       "    </tr>\n",
       "  </tbody>\n",
       "</table>\n",
       "</div>"
      ],
      "text/plain": [
       "                                                    geometry\n",
       "Category                                                    \n",
       "Added Freeway Lanes or Major Interchange Improv...         2\n",
       "Arterial Capacity Improvements                             9\n",
       "New Arterial Link or Interchange                           1\n",
       "New Collectors                                            25\n",
       "Study                                                     14\n",
       "Transit Oriented Development Implementation                1\n",
       "Urban Standards                                           36"
      ]
     },
     "execution_count": 52,
     "metadata": {},
     "output_type": "execute_result"
    }
   ],
   "source": [
    "#MPO area intersects with roadway lines\n",
    "aaf.RTP_counted_by_intersection(folder='RTP', file='MPO_Boundary.shp')"
   ]
  },
  {
   "cell_type": "code",
   "execution_count": 3,
   "id": "9ab867d9",
   "metadata": {},
   "outputs": [
    {
     "data": {
      "text/html": [
       "<div>\n",
       "<style scoped>\n",
       "    .dataframe tbody tr th:only-of-type {\n",
       "        vertical-align: middle;\n",
       "    }\n",
       "\n",
       "    .dataframe tbody tr th {\n",
       "        vertical-align: top;\n",
       "    }\n",
       "\n",
       "    .dataframe thead th {\n",
       "        text-align: right;\n",
       "    }\n",
       "</style>\n",
       "<table border=\"1\" class=\"dataframe\">\n",
       "  <thead>\n",
       "    <tr style=\"text-align: right;\">\n",
       "      <th></th>\n",
       "      <th>geometry</th>\n",
       "    </tr>\n",
       "    <tr>\n",
       "      <th>Category</th>\n",
       "      <th></th>\n",
       "    </tr>\n",
       "  </thead>\n",
       "  <tbody>\n",
       "  </tbody>\n",
       "</table>\n",
       "</div>"
      ],
      "text/plain": [
       "Empty DataFrame\n",
       "Columns: [geometry]\n",
       "Index: []"
      ]
     },
     "execution_count": 3,
     "metadata": {},
     "output_type": "execute_result"
    }
   ],
   "source": [
    "# DEQ303dListedStreams intersect with roadway points\n",
    "aaf.RTP_counted_by_intersection(shapefile='Roadway_points', folder='WaterQuality', file='DEQ303dListedStreams.shp')"
   ]
  },
  {
   "cell_type": "code",
   "execution_count": 12,
   "id": "0e99205a",
   "metadata": {},
   "outputs": [
    {
     "data": {
      "text/html": [
       "<div>\n",
       "<style scoped>\n",
       "    .dataframe tbody tr th:only-of-type {\n",
       "        vertical-align: middle;\n",
       "    }\n",
       "\n",
       "    .dataframe tbody tr th {\n",
       "        vertical-align: top;\n",
       "    }\n",
       "\n",
       "    .dataframe thead th {\n",
       "        text-align: right;\n",
       "    }\n",
       "</style>\n",
       "<table border=\"1\" class=\"dataframe\">\n",
       "  <thead>\n",
       "    <tr style=\"text-align: right;\">\n",
       "      <th></th>\n",
       "      <th>geometry</th>\n",
       "    </tr>\n",
       "    <tr>\n",
       "      <th>Category</th>\n",
       "      <th></th>\n",
       "    </tr>\n",
       "  </thead>\n",
       "  <tbody>\n",
       "  </tbody>\n",
       "</table>\n",
       "</div>"
      ],
      "text/plain": [
       "Empty DataFrame\n",
       "Columns: [geometry]\n",
       "Index: []"
      ]
     },
     "execution_count": 12,
     "metadata": {},
     "output_type": "execute_result"
    }
   ],
   "source": [
    "# Navigable Rivers intersect with roadway points\n",
    "aaf.RTP_counted_by_intersection(shapefile='Roadway_points', folder='WaterQuality', file='NavigableRivers.shp')"
   ]
  },
  {
   "cell_type": "code",
   "execution_count": 24,
   "id": "6649ca5f",
   "metadata": {
    "scrolled": true
   },
   "outputs": [
    {
     "data": {
      "text/html": [
       "<div>\n",
       "<style scoped>\n",
       "    .dataframe tbody tr th:only-of-type {\n",
       "        vertical-align: middle;\n",
       "    }\n",
       "\n",
       "    .dataframe tbody tr th {\n",
       "        vertical-align: top;\n",
       "    }\n",
       "\n",
       "    .dataframe thead th {\n",
       "        text-align: right;\n",
       "    }\n",
       "</style>\n",
       "<table border=\"1\" class=\"dataframe\">\n",
       "  <thead>\n",
       "    <tr style=\"text-align: right;\">\n",
       "      <th></th>\n",
       "      <th>geometry</th>\n",
       "    </tr>\n",
       "    <tr>\n",
       "      <th>Category</th>\n",
       "      <th></th>\n",
       "    </tr>\n",
       "  </thead>\n",
       "  <tbody>\n",
       "    <tr>\n",
       "      <th>Arterial Capacity Improvements</th>\n",
       "      <td>2</td>\n",
       "    </tr>\n",
       "  </tbody>\n",
       "</table>\n",
       "</div>"
      ],
      "text/plain": [
       "                                geometry\n",
       "Category                                \n",
       "Arterial Capacity Improvements         2"
      ]
     },
     "execution_count": 24,
     "metadata": {},
     "output_type": "execute_result"
    }
   ],
   "source": [
    "# wetlands intersect with roadway points\n",
    "aaf.RTP_counted_by_intersection(shapefile='Roadway_points', folder='WaterQuality', file='wetlandsCLMPO.shp')"
   ]
  },
  {
   "cell_type": "code",
   "execution_count": 3,
   "id": "7d54f9c3",
   "metadata": {},
   "outputs": [
    {
     "data": {
      "text/html": [
       "<div>\n",
       "<style scoped>\n",
       "    .dataframe tbody tr th:only-of-type {\n",
       "        vertical-align: middle;\n",
       "    }\n",
       "\n",
       "    .dataframe tbody tr th {\n",
       "        vertical-align: top;\n",
       "    }\n",
       "\n",
       "    .dataframe thead th {\n",
       "        text-align: right;\n",
       "    }\n",
       "</style>\n",
       "<table border=\"1\" class=\"dataframe\">\n",
       "  <thead>\n",
       "    <tr style=\"text-align: right;\">\n",
       "      <th></th>\n",
       "      <th>geometry</th>\n",
       "    </tr>\n",
       "    <tr>\n",
       "      <th>Category</th>\n",
       "      <th></th>\n",
       "    </tr>\n",
       "  </thead>\n",
       "  <tbody>\n",
       "    <tr>\n",
       "      <th>Arterial Capacity Improvements</th>\n",
       "      <td>3</td>\n",
       "    </tr>\n",
       "  </tbody>\n",
       "</table>\n",
       "</div>"
      ],
      "text/plain": [
       "                                geometry\n",
       "Category                                \n",
       "Arterial Capacity Improvements         3"
      ]
     },
     "execution_count": 3,
     "metadata": {},
     "output_type": "execute_result"
    }
   ],
   "source": [
    "# Conservation Opportunity Areas intersect with roadway points\n",
    "aaf.RTP_counted_by_intersection(shapefile='Roadway_points', folder='SensitiveHabitats', file='ODFW_COAs_CLMPO.shp')"
   ]
  },
  {
   "cell_type": "code",
   "execution_count": 5,
   "id": "777d7fa7",
   "metadata": {},
   "outputs": [
    {
     "data": {
      "text/html": [
       "<div>\n",
       "<style scoped>\n",
       "    .dataframe tbody tr th:only-of-type {\n",
       "        vertical-align: middle;\n",
       "    }\n",
       "\n",
       "    .dataframe tbody tr th {\n",
       "        vertical-align: top;\n",
       "    }\n",
       "\n",
       "    .dataframe thead th {\n",
       "        text-align: right;\n",
       "    }\n",
       "</style>\n",
       "<table border=\"1\" class=\"dataframe\">\n",
       "  <thead>\n",
       "    <tr style=\"text-align: right;\">\n",
       "      <th></th>\n",
       "      <th>geometry</th>\n",
       "    </tr>\n",
       "    <tr>\n",
       "      <th>Category</th>\n",
       "      <th></th>\n",
       "    </tr>\n",
       "  </thead>\n",
       "  <tbody>\n",
       "  </tbody>\n",
       "</table>\n",
       "</div>"
      ],
      "text/plain": [
       "Empty DataFrame\n",
       "Columns: [geometry]\n",
       "Index: []"
      ]
     },
     "execution_count": 5,
     "metadata": {},
     "output_type": "execute_result"
    }
   ],
   "source": [
    "# USFWS Critical Habitats intersect with roadway points\n",
    "aaf.RTP_counted_by_intersection(shapefile='Roadway_points', folder='SensitiveHabitats', file='CRITHAB_CLMPO.shp')"
   ]
  },
  {
   "cell_type": "code",
   "execution_count": 21,
   "id": "28ea00cf",
   "metadata": {},
   "outputs": [
    {
     "data": {
      "text/html": [
       "<div>\n",
       "<style scoped>\n",
       "    .dataframe tbody tr th:only-of-type {\n",
       "        vertical-align: middle;\n",
       "    }\n",
       "\n",
       "    .dataframe tbody tr th {\n",
       "        vertical-align: top;\n",
       "    }\n",
       "\n",
       "    .dataframe thead th {\n",
       "        text-align: right;\n",
       "    }\n",
       "</style>\n",
       "<table border=\"1\" class=\"dataframe\">\n",
       "  <thead>\n",
       "    <tr style=\"text-align: right;\">\n",
       "      <th></th>\n",
       "      <th>geometry</th>\n",
       "    </tr>\n",
       "    <tr>\n",
       "      <th>Category</th>\n",
       "      <th></th>\n",
       "    </tr>\n",
       "  </thead>\n",
       "  <tbody>\n",
       "  </tbody>\n",
       "</table>\n",
       "</div>"
      ],
      "text/plain": [
       "Empty DataFrame\n",
       "Columns: [geometry]\n",
       "Index: []"
      ]
     },
     "execution_count": 21,
     "metadata": {},
     "output_type": "execute_result"
    }
   ],
   "source": [
    "# floodway intersects with roadway points\n",
    "aaf.RTP_counted_by_intersection(shapefile='Roadway_points', folder='NaturalHazards', file='FloodwayCLMPO.shp')"
   ]
  },
  {
   "cell_type": "code",
   "execution_count": 29,
   "id": "dab6068c",
   "metadata": {},
   "outputs": [
    {
     "data": {
      "text/html": [
       "<div>\n",
       "<style scoped>\n",
       "    .dataframe tbody tr th:only-of-type {\n",
       "        vertical-align: middle;\n",
       "    }\n",
       "\n",
       "    .dataframe tbody tr th {\n",
       "        vertical-align: top;\n",
       "    }\n",
       "\n",
       "    .dataframe thead th {\n",
       "        text-align: right;\n",
       "    }\n",
       "</style>\n",
       "<table border=\"1\" class=\"dataframe\">\n",
       "  <thead>\n",
       "    <tr style=\"text-align: right;\">\n",
       "      <th></th>\n",
       "      <th>geometry</th>\n",
       "    </tr>\n",
       "    <tr>\n",
       "      <th>Category</th>\n",
       "      <th></th>\n",
       "    </tr>\n",
       "  </thead>\n",
       "  <tbody>\n",
       "    <tr>\n",
       "      <th>Arterial Capacity Improvements</th>\n",
       "      <td>2</td>\n",
       "    </tr>\n",
       "    <tr>\n",
       "      <th>Urban Standards</th>\n",
       "      <td>1</td>\n",
       "    </tr>\n",
       "  </tbody>\n",
       "</table>\n",
       "</div>"
      ],
      "text/plain": [
       "                                geometry\n",
       "Category                                \n",
       "Arterial Capacity Improvements         2\n",
       "Urban Standards                        1"
      ]
     },
     "execution_count": 29,
     "metadata": {},
     "output_type": "execute_result"
    }
   ],
   "source": [
    "# seismic hazards intersect with roadway points\n",
    "aaf.RTP_counted_by_intersection(shapefile='Roadway_points', folder='NaturalHazards', file='EarthquakeLayer.shp')"
   ]
  },
  {
   "cell_type": "code",
   "execution_count": 37,
   "id": "f9eafc59",
   "metadata": {},
   "outputs": [
    {
     "data": {
      "text/html": [
       "<div>\n",
       "<style scoped>\n",
       "    .dataframe tbody tr th:only-of-type {\n",
       "        vertical-align: middle;\n",
       "    }\n",
       "\n",
       "    .dataframe tbody tr th {\n",
       "        vertical-align: top;\n",
       "    }\n",
       "\n",
       "    .dataframe thead th {\n",
       "        text-align: right;\n",
       "    }\n",
       "</style>\n",
       "<table border=\"1\" class=\"dataframe\">\n",
       "  <thead>\n",
       "    <tr style=\"text-align: right;\">\n",
       "      <th></th>\n",
       "      <th>geometry</th>\n",
       "    </tr>\n",
       "    <tr>\n",
       "      <th>Category</th>\n",
       "      <th></th>\n",
       "    </tr>\n",
       "  </thead>\n",
       "  <tbody>\n",
       "    <tr>\n",
       "      <th>Added Freeway Lanes or Major Interchange Improvements</th>\n",
       "      <td>1</td>\n",
       "    </tr>\n",
       "    <tr>\n",
       "      <th>Arterial Capacity Improvements</th>\n",
       "      <td>13</td>\n",
       "    </tr>\n",
       "    <tr>\n",
       "      <th>New Collectors</th>\n",
       "      <td>1</td>\n",
       "    </tr>\n",
       "    <tr>\n",
       "      <th>Study</th>\n",
       "      <td>1</td>\n",
       "    </tr>\n",
       "    <tr>\n",
       "      <th>Urban Standards</th>\n",
       "      <td>1</td>\n",
       "    </tr>\n",
       "  </tbody>\n",
       "</table>\n",
       "</div>"
      ],
      "text/plain": [
       "                                                    geometry\n",
       "Category                                                    \n",
       "Added Freeway Lanes or Major Interchange Improv...         1\n",
       "Arterial Capacity Improvements                            13\n",
       "New Collectors                                             1\n",
       "Study                                                      1\n",
       "Urban Standards                                            1"
      ]
     },
     "execution_count": 37,
     "metadata": {},
     "output_type": "execute_result"
    }
   ],
   "source": [
    "# AirQualityMaintenanceArea intersects with roadway points\n",
    "aaf.RTP_counted_by_intersection(shapefile='Roadway_points', folder='AirQuality', file='AirQualityMaintenanceArea.shp')"
   ]
  },
  {
   "cell_type": "code",
   "execution_count": 45,
   "id": "6765723c",
   "metadata": {},
   "outputs": [
    {
     "data": {
      "text/html": [
       "<div>\n",
       "<style scoped>\n",
       "    .dataframe tbody tr th:only-of-type {\n",
       "        vertical-align: middle;\n",
       "    }\n",
       "\n",
       "    .dataframe tbody tr th {\n",
       "        vertical-align: top;\n",
       "    }\n",
       "\n",
       "    .dataframe thead th {\n",
       "        text-align: right;\n",
       "    }\n",
       "</style>\n",
       "<table border=\"1\" class=\"dataframe\">\n",
       "  <thead>\n",
       "    <tr style=\"text-align: right;\">\n",
       "      <th></th>\n",
       "      <th>geometry</th>\n",
       "    </tr>\n",
       "    <tr>\n",
       "      <th>Category</th>\n",
       "      <th></th>\n",
       "    </tr>\n",
       "  </thead>\n",
       "  <tbody>\n",
       "    <tr>\n",
       "      <th>Added Freeway Lanes or Major Interchange Improvements</th>\n",
       "      <td>1</td>\n",
       "    </tr>\n",
       "    <tr>\n",
       "      <th>Arterial Capacity Improvements</th>\n",
       "      <td>10</td>\n",
       "    </tr>\n",
       "    <tr>\n",
       "      <th>New Collectors</th>\n",
       "      <td>1</td>\n",
       "    </tr>\n",
       "    <tr>\n",
       "      <th>Study</th>\n",
       "      <td>1</td>\n",
       "    </tr>\n",
       "  </tbody>\n",
       "</table>\n",
       "</div>"
      ],
      "text/plain": [
       "                                                    geometry\n",
       "Category                                                    \n",
       "Added Freeway Lanes or Major Interchange Improv...         1\n",
       "Arterial Capacity Improvements                            10\n",
       "New Collectors                                             1\n",
       "Study                                                      1"
      ]
     },
     "execution_count": 45,
     "metadata": {},
     "output_type": "execute_result"
    }
   ],
   "source": [
    "# Equity Areas intersect with roadway points\n",
    "aaf.RTP_counted_by_intersection(shapefile='Roadway_points', folder='EJ', file='equity_area.shp')"
   ]
  },
  {
   "cell_type": "code",
   "execution_count": 53,
   "id": "0ae06a67",
   "metadata": {},
   "outputs": [
    {
     "data": {
      "text/html": [
       "<div>\n",
       "<style scoped>\n",
       "    .dataframe tbody tr th:only-of-type {\n",
       "        vertical-align: middle;\n",
       "    }\n",
       "\n",
       "    .dataframe tbody tr th {\n",
       "        vertical-align: top;\n",
       "    }\n",
       "\n",
       "    .dataframe thead th {\n",
       "        text-align: right;\n",
       "    }\n",
       "</style>\n",
       "<table border=\"1\" class=\"dataframe\">\n",
       "  <thead>\n",
       "    <tr style=\"text-align: right;\">\n",
       "      <th></th>\n",
       "      <th>geometry</th>\n",
       "    </tr>\n",
       "    <tr>\n",
       "      <th>Category</th>\n",
       "      <th></th>\n",
       "    </tr>\n",
       "  </thead>\n",
       "  <tbody>\n",
       "    <tr>\n",
       "      <th>Added Freeway Lanes or Major Interchange Improvements</th>\n",
       "      <td>1</td>\n",
       "    </tr>\n",
       "    <tr>\n",
       "      <th>Arterial Capacity Improvements</th>\n",
       "      <td>13</td>\n",
       "    </tr>\n",
       "    <tr>\n",
       "      <th>New Collectors</th>\n",
       "      <td>1</td>\n",
       "    </tr>\n",
       "    <tr>\n",
       "      <th>Study</th>\n",
       "      <td>1</td>\n",
       "    </tr>\n",
       "    <tr>\n",
       "      <th>Urban Standards</th>\n",
       "      <td>1</td>\n",
       "    </tr>\n",
       "  </tbody>\n",
       "</table>\n",
       "</div>"
      ],
      "text/plain": [
       "                                                    geometry\n",
       "Category                                                    \n",
       "Added Freeway Lanes or Major Interchange Improv...         1\n",
       "Arterial Capacity Improvements                            13\n",
       "New Collectors                                             1\n",
       "Study                                                      1\n",
       "Urban Standards                                            1"
      ]
     },
     "execution_count": 53,
     "metadata": {},
     "output_type": "execute_result"
    }
   ],
   "source": [
    "#MPO area intersects with roadway points\n",
    "aaf.RTP_counted_by_intersection(shapefile='Roadway_points', folder='RTP', file='MPO_Boundary.shp')"
   ]
  },
  {
   "cell_type": "code",
   "execution_count": 4,
   "id": "ef5fb313",
   "metadata": {
    "scrolled": true
   },
   "outputs": [
    {
     "data": {
      "text/html": [
       "<div>\n",
       "<style scoped>\n",
       "    .dataframe tbody tr th:only-of-type {\n",
       "        vertical-align: middle;\n",
       "    }\n",
       "\n",
       "    .dataframe tbody tr th {\n",
       "        vertical-align: top;\n",
       "    }\n",
       "\n",
       "    .dataframe thead th {\n",
       "        text-align: right;\n",
       "    }\n",
       "</style>\n",
       "<table border=\"1\" class=\"dataframe\">\n",
       "  <thead>\n",
       "    <tr style=\"text-align: right;\">\n",
       "      <th></th>\n",
       "      <th>geometry</th>\n",
       "    </tr>\n",
       "    <tr>\n",
       "      <th>Category</th>\n",
       "      <th></th>\n",
       "    </tr>\n",
       "  </thead>\n",
       "  <tbody>\n",
       "    <tr>\n",
       "      <th>Multi-Use Paths Without Road Project</th>\n",
       "      <td>2</td>\n",
       "    </tr>\n",
       "    <tr>\n",
       "      <th>On-Street Lanes or Routes Without Road Project</th>\n",
       "      <td>2</td>\n",
       "    </tr>\n",
       "  </tbody>\n",
       "</table>\n",
       "</div>"
      ],
      "text/plain": [
       "                                                geometry\n",
       "Category                                                \n",
       "Multi-Use Paths Without Road Project                   2\n",
       "On-Street Lanes or Routes Without Road Project         2"
      ]
     },
     "execution_count": 4,
     "metadata": {},
     "output_type": "execute_result"
    }
   ],
   "source": [
    "# DEQ303dListedStreams intersect with bike/pedestrain lines\n",
    "aaf.RTP_counted_by_intersection(shapefile='BikePed', folder='WaterQuality', file='DEQ303dListedStreams.shp')"
   ]
  },
  {
   "cell_type": "code",
   "execution_count": 13,
   "id": "1a6c03fc",
   "metadata": {},
   "outputs": [
    {
     "data": {
      "text/html": [
       "<div>\n",
       "<style scoped>\n",
       "    .dataframe tbody tr th:only-of-type {\n",
       "        vertical-align: middle;\n",
       "    }\n",
       "\n",
       "    .dataframe tbody tr th {\n",
       "        vertical-align: top;\n",
       "    }\n",
       "\n",
       "    .dataframe thead th {\n",
       "        text-align: right;\n",
       "    }\n",
       "</style>\n",
       "<table border=\"1\" class=\"dataframe\">\n",
       "  <thead>\n",
       "    <tr style=\"text-align: right;\">\n",
       "      <th></th>\n",
       "      <th>geometry</th>\n",
       "    </tr>\n",
       "    <tr>\n",
       "      <th>Category</th>\n",
       "      <th></th>\n",
       "    </tr>\n",
       "  </thead>\n",
       "  <tbody>\n",
       "    <tr>\n",
       "      <th>Multi-Use Paths Without Road Project</th>\n",
       "      <td>5</td>\n",
       "    </tr>\n",
       "    <tr>\n",
       "      <th>On-Street Lanes or Routes With Road Project</th>\n",
       "      <td>2</td>\n",
       "    </tr>\n",
       "    <tr>\n",
       "      <th>On-Street Lanes or Routes Without Road Project</th>\n",
       "      <td>4</td>\n",
       "    </tr>\n",
       "  </tbody>\n",
       "</table>\n",
       "</div>"
      ],
      "text/plain": [
       "                                                geometry\n",
       "Category                                                \n",
       "Multi-Use Paths Without Road Project                   5\n",
       "On-Street Lanes or Routes With Road Project            2\n",
       "On-Street Lanes or Routes Without Road Project         4"
      ]
     },
     "execution_count": 13,
     "metadata": {},
     "output_type": "execute_result"
    }
   ],
   "source": [
    "# Navigable Rivers intersect with bike/pedestrain lines\n",
    "aaf.RTP_counted_by_intersection(shapefile='BikePed', folder='WaterQuality', file='NavigableRivers.shp')"
   ]
  },
  {
   "cell_type": "code",
   "execution_count": 25,
   "id": "6719c529",
   "metadata": {},
   "outputs": [
    {
     "data": {
      "text/html": [
       "<div>\n",
       "<style scoped>\n",
       "    .dataframe tbody tr th:only-of-type {\n",
       "        vertical-align: middle;\n",
       "    }\n",
       "\n",
       "    .dataframe tbody tr th {\n",
       "        vertical-align: top;\n",
       "    }\n",
       "\n",
       "    .dataframe thead th {\n",
       "        text-align: right;\n",
       "    }\n",
       "</style>\n",
       "<table border=\"1\" class=\"dataframe\">\n",
       "  <thead>\n",
       "    <tr style=\"text-align: right;\">\n",
       "      <th></th>\n",
       "      <th>geometry</th>\n",
       "    </tr>\n",
       "    <tr>\n",
       "      <th>Category</th>\n",
       "      <th></th>\n",
       "    </tr>\n",
       "  </thead>\n",
       "  <tbody>\n",
       "    <tr>\n",
       "      <th>Multi-Use Paths Without Road Project</th>\n",
       "      <td>19</td>\n",
       "    </tr>\n",
       "    <tr>\n",
       "      <th>On-Street Lanes or Routes With Road Project</th>\n",
       "      <td>8</td>\n",
       "    </tr>\n",
       "    <tr>\n",
       "      <th>On-Street Lanes or Routes Without Road Project</th>\n",
       "      <td>27</td>\n",
       "    </tr>\n",
       "  </tbody>\n",
       "</table>\n",
       "</div>"
      ],
      "text/plain": [
       "                                                geometry\n",
       "Category                                                \n",
       "Multi-Use Paths Without Road Project                  19\n",
       "On-Street Lanes or Routes With Road Project            8\n",
       "On-Street Lanes or Routes Without Road Project        27"
      ]
     },
     "execution_count": 25,
     "metadata": {},
     "output_type": "execute_result"
    }
   ],
   "source": [
    "# wetlands intersect with bike/pedestrain lines\n",
    "aaf.RTP_counted_by_intersection(shapefile='BikePed', folder='WaterQuality', file='wetlandsCLMPO.shp')"
   ]
  },
  {
   "cell_type": "code",
   "execution_count": 7,
   "id": "e48ab926",
   "metadata": {},
   "outputs": [
    {
     "data": {
      "text/html": [
       "<div>\n",
       "<style scoped>\n",
       "    .dataframe tbody tr th:only-of-type {\n",
       "        vertical-align: middle;\n",
       "    }\n",
       "\n",
       "    .dataframe tbody tr th {\n",
       "        vertical-align: top;\n",
       "    }\n",
       "\n",
       "    .dataframe thead th {\n",
       "        text-align: right;\n",
       "    }\n",
       "</style>\n",
       "<table border=\"1\" class=\"dataframe\">\n",
       "  <thead>\n",
       "    <tr style=\"text-align: right;\">\n",
       "      <th></th>\n",
       "      <th>geometry</th>\n",
       "    </tr>\n",
       "    <tr>\n",
       "      <th>Category</th>\n",
       "      <th></th>\n",
       "    </tr>\n",
       "  </thead>\n",
       "  <tbody>\n",
       "    <tr>\n",
       "      <th>Multi-Use Paths Without Road Project</th>\n",
       "      <td>15</td>\n",
       "    </tr>\n",
       "    <tr>\n",
       "      <th>On-Street Lanes or Routes With Road Project</th>\n",
       "      <td>3</td>\n",
       "    </tr>\n",
       "    <tr>\n",
       "      <th>On-Street Lanes or Routes Without Road Project</th>\n",
       "      <td>20</td>\n",
       "    </tr>\n",
       "  </tbody>\n",
       "</table>\n",
       "</div>"
      ],
      "text/plain": [
       "                                                geometry\n",
       "Category                                                \n",
       "Multi-Use Paths Without Road Project                  15\n",
       "On-Street Lanes or Routes With Road Project            3\n",
       "On-Street Lanes or Routes Without Road Project        20"
      ]
     },
     "execution_count": 7,
     "metadata": {},
     "output_type": "execute_result"
    }
   ],
   "source": [
    "# Conservation Opportunity Areas intersect with bike/pedestrain lines\n",
    "aaf.RTP_counted_by_intersection(shapefile='BikePed', folder='SensitiveHabitats', file='ODFW_COAs_CLMPO.shp')"
   ]
  },
  {
   "cell_type": "code",
   "execution_count": 6,
   "id": "398f672e",
   "metadata": {},
   "outputs": [
    {
     "data": {
      "text/html": [
       "<div>\n",
       "<style scoped>\n",
       "    .dataframe tbody tr th:only-of-type {\n",
       "        vertical-align: middle;\n",
       "    }\n",
       "\n",
       "    .dataframe tbody tr th {\n",
       "        vertical-align: top;\n",
       "    }\n",
       "\n",
       "    .dataframe thead th {\n",
       "        text-align: right;\n",
       "    }\n",
       "</style>\n",
       "<table border=\"1\" class=\"dataframe\">\n",
       "  <thead>\n",
       "    <tr style=\"text-align: right;\">\n",
       "      <th></th>\n",
       "      <th>geometry</th>\n",
       "    </tr>\n",
       "    <tr>\n",
       "      <th>Category</th>\n",
       "      <th></th>\n",
       "    </tr>\n",
       "  </thead>\n",
       "  <tbody>\n",
       "    <tr>\n",
       "      <th>On-Street Lanes or Routes With Road Project</th>\n",
       "      <td>1</td>\n",
       "    </tr>\n",
       "  </tbody>\n",
       "</table>\n",
       "</div>"
      ],
      "text/plain": [
       "                                             geometry\n",
       "Category                                             \n",
       "On-Street Lanes or Routes With Road Project         1"
      ]
     },
     "execution_count": 6,
     "metadata": {},
     "output_type": "execute_result"
    }
   ],
   "source": [
    "# USFWS Critical Habitats intersect with bike/pedestrain lines\n",
    "aaf.RTP_counted_by_intersection(shapefile='BikePed', folder='SensitiveHabitats', file='CRITHAB_CLMPO.shp')"
   ]
  },
  {
   "cell_type": "code",
   "execution_count": 22,
   "id": "4e5cb42f",
   "metadata": {},
   "outputs": [
    {
     "data": {
      "text/html": [
       "<div>\n",
       "<style scoped>\n",
       "    .dataframe tbody tr th:only-of-type {\n",
       "        vertical-align: middle;\n",
       "    }\n",
       "\n",
       "    .dataframe tbody tr th {\n",
       "        vertical-align: top;\n",
       "    }\n",
       "\n",
       "    .dataframe thead th {\n",
       "        text-align: right;\n",
       "    }\n",
       "</style>\n",
       "<table border=\"1\" class=\"dataframe\">\n",
       "  <thead>\n",
       "    <tr style=\"text-align: right;\">\n",
       "      <th></th>\n",
       "      <th>geometry</th>\n",
       "    </tr>\n",
       "    <tr>\n",
       "      <th>Category</th>\n",
       "      <th></th>\n",
       "    </tr>\n",
       "  </thead>\n",
       "  <tbody>\n",
       "    <tr>\n",
       "      <th>Multi-Use Paths Without Road Project</th>\n",
       "      <td>8</td>\n",
       "    </tr>\n",
       "    <tr>\n",
       "      <th>On-Street Lanes or Routes Without Road Project</th>\n",
       "      <td>4</td>\n",
       "    </tr>\n",
       "  </tbody>\n",
       "</table>\n",
       "</div>"
      ],
      "text/plain": [
       "                                                geometry\n",
       "Category                                                \n",
       "Multi-Use Paths Without Road Project                   8\n",
       "On-Street Lanes or Routes Without Road Project         4"
      ]
     },
     "execution_count": 22,
     "metadata": {},
     "output_type": "execute_result"
    }
   ],
   "source": [
    "# floodway intersects with bike/pedestrain lines\n",
    "aaf.RTP_counted_by_intersection(shapefile='BikePed', folder='NaturalHazards', file='FloodwayCLMPO.shp')"
   ]
  },
  {
   "cell_type": "code",
   "execution_count": 30,
   "id": "bcc08983",
   "metadata": {},
   "outputs": [
    {
     "data": {
      "text/html": [
       "<div>\n",
       "<style scoped>\n",
       "    .dataframe tbody tr th:only-of-type {\n",
       "        vertical-align: middle;\n",
       "    }\n",
       "\n",
       "    .dataframe tbody tr th {\n",
       "        vertical-align: top;\n",
       "    }\n",
       "\n",
       "    .dataframe thead th {\n",
       "        text-align: right;\n",
       "    }\n",
       "</style>\n",
       "<table border=\"1\" class=\"dataframe\">\n",
       "  <thead>\n",
       "    <tr style=\"text-align: right;\">\n",
       "      <th></th>\n",
       "      <th>geometry</th>\n",
       "    </tr>\n",
       "    <tr>\n",
       "      <th>Category</th>\n",
       "      <th></th>\n",
       "    </tr>\n",
       "  </thead>\n",
       "  <tbody>\n",
       "    <tr>\n",
       "      <th>Multi-Use Paths Without Road Project</th>\n",
       "      <td>22</td>\n",
       "    </tr>\n",
       "    <tr>\n",
       "      <th>On-Street Lanes or Routes With Road Project</th>\n",
       "      <td>6</td>\n",
       "    </tr>\n",
       "    <tr>\n",
       "      <th>On-Street Lanes or Routes Without Road Project</th>\n",
       "      <td>33</td>\n",
       "    </tr>\n",
       "  </tbody>\n",
       "</table>\n",
       "</div>"
      ],
      "text/plain": [
       "                                                geometry\n",
       "Category                                                \n",
       "Multi-Use Paths Without Road Project                  22\n",
       "On-Street Lanes or Routes With Road Project            6\n",
       "On-Street Lanes or Routes Without Road Project        33"
      ]
     },
     "execution_count": 30,
     "metadata": {},
     "output_type": "execute_result"
    }
   ],
   "source": [
    "# seismic hazards intersect with bike/pedestrain lines\n",
    "aaf.RTP_counted_by_intersection(shapefile='BikePed', folder='NaturalHazards', file='EarthquakeLayer.shp')"
   ]
  },
  {
   "cell_type": "code",
   "execution_count": 38,
   "id": "8265cb50",
   "metadata": {},
   "outputs": [
    {
     "data": {
      "text/html": [
       "<div>\n",
       "<style scoped>\n",
       "    .dataframe tbody tr th:only-of-type {\n",
       "        vertical-align: middle;\n",
       "    }\n",
       "\n",
       "    .dataframe tbody tr th {\n",
       "        vertical-align: top;\n",
       "    }\n",
       "\n",
       "    .dataframe thead th {\n",
       "        text-align: right;\n",
       "    }\n",
       "</style>\n",
       "<table border=\"1\" class=\"dataframe\">\n",
       "  <thead>\n",
       "    <tr style=\"text-align: right;\">\n",
       "      <th></th>\n",
       "      <th>geometry</th>\n",
       "    </tr>\n",
       "    <tr>\n",
       "      <th>Category</th>\n",
       "      <th></th>\n",
       "    </tr>\n",
       "  </thead>\n",
       "  <tbody>\n",
       "    <tr>\n",
       "      <th>Multi-Use Paths Without Road Project</th>\n",
       "      <td>25</td>\n",
       "    </tr>\n",
       "    <tr>\n",
       "      <th>On-Street Lanes or Routes With Road Project</th>\n",
       "      <td>14</td>\n",
       "    </tr>\n",
       "    <tr>\n",
       "      <th>On-Street Lanes or Routes Without Road Project</th>\n",
       "      <td>51</td>\n",
       "    </tr>\n",
       "  </tbody>\n",
       "</table>\n",
       "</div>"
      ],
      "text/plain": [
       "                                                geometry\n",
       "Category                                                \n",
       "Multi-Use Paths Without Road Project                  25\n",
       "On-Street Lanes or Routes With Road Project           14\n",
       "On-Street Lanes or Routes Without Road Project        51"
      ]
     },
     "execution_count": 38,
     "metadata": {},
     "output_type": "execute_result"
    }
   ],
   "source": [
    "# AirQualityMaintenanceArea intersects with bike/pedestrain lines\n",
    "aaf.RTP_counted_by_intersection(shapefile='BikePed', folder='AirQuality', file='AirQualityMaintenanceArea.shp')"
   ]
  },
  {
   "cell_type": "code",
   "execution_count": 46,
   "id": "fbd1177c",
   "metadata": {},
   "outputs": [
    {
     "data": {
      "text/html": [
       "<div>\n",
       "<style scoped>\n",
       "    .dataframe tbody tr th:only-of-type {\n",
       "        vertical-align: middle;\n",
       "    }\n",
       "\n",
       "    .dataframe tbody tr th {\n",
       "        vertical-align: top;\n",
       "    }\n",
       "\n",
       "    .dataframe thead th {\n",
       "        text-align: right;\n",
       "    }\n",
       "</style>\n",
       "<table border=\"1\" class=\"dataframe\">\n",
       "  <thead>\n",
       "    <tr style=\"text-align: right;\">\n",
       "      <th></th>\n",
       "      <th>geometry</th>\n",
       "    </tr>\n",
       "    <tr>\n",
       "      <th>Category</th>\n",
       "      <th></th>\n",
       "    </tr>\n",
       "  </thead>\n",
       "  <tbody>\n",
       "    <tr>\n",
       "      <th>Multi-Use Paths Without Road Project</th>\n",
       "      <td>10</td>\n",
       "    </tr>\n",
       "    <tr>\n",
       "      <th>On-Street Lanes or Routes With Road Project</th>\n",
       "      <td>7</td>\n",
       "    </tr>\n",
       "    <tr>\n",
       "      <th>On-Street Lanes or Routes Without Road Project</th>\n",
       "      <td>29</td>\n",
       "    </tr>\n",
       "  </tbody>\n",
       "</table>\n",
       "</div>"
      ],
      "text/plain": [
       "                                                geometry\n",
       "Category                                                \n",
       "Multi-Use Paths Without Road Project                  10\n",
       "On-Street Lanes or Routes With Road Project            7\n",
       "On-Street Lanes or Routes Without Road Project        29"
      ]
     },
     "execution_count": 46,
     "metadata": {},
     "output_type": "execute_result"
    }
   ],
   "source": [
    "# Equity Areas intersect with bike/pedestrain lines\n",
    "aaf.RTP_counted_by_intersection(shapefile='BikePed', folder='EJ', file='equity_area.shp')"
   ]
  },
  {
   "cell_type": "code",
   "execution_count": 54,
   "id": "50fe1bdf",
   "metadata": {},
   "outputs": [
    {
     "data": {
      "text/html": [
       "<div>\n",
       "<style scoped>\n",
       "    .dataframe tbody tr th:only-of-type {\n",
       "        vertical-align: middle;\n",
       "    }\n",
       "\n",
       "    .dataframe tbody tr th {\n",
       "        vertical-align: top;\n",
       "    }\n",
       "\n",
       "    .dataframe thead th {\n",
       "        text-align: right;\n",
       "    }\n",
       "</style>\n",
       "<table border=\"1\" class=\"dataframe\">\n",
       "  <thead>\n",
       "    <tr style=\"text-align: right;\">\n",
       "      <th></th>\n",
       "      <th>geometry</th>\n",
       "    </tr>\n",
       "    <tr>\n",
       "      <th>Category</th>\n",
       "      <th></th>\n",
       "    </tr>\n",
       "  </thead>\n",
       "  <tbody>\n",
       "    <tr>\n",
       "      <th>Multi-Use Paths Without Road Project</th>\n",
       "      <td>26</td>\n",
       "    </tr>\n",
       "    <tr>\n",
       "      <th>On-Street Lanes or Routes With Road Project</th>\n",
       "      <td>14</td>\n",
       "    </tr>\n",
       "    <tr>\n",
       "      <th>On-Street Lanes or Routes Without Road Project</th>\n",
       "      <td>52</td>\n",
       "    </tr>\n",
       "  </tbody>\n",
       "</table>\n",
       "</div>"
      ],
      "text/plain": [
       "                                                geometry\n",
       "Category                                                \n",
       "Multi-Use Paths Without Road Project                  26\n",
       "On-Street Lanes or Routes With Road Project           14\n",
       "On-Street Lanes or Routes Without Road Project        52"
      ]
     },
     "execution_count": 54,
     "metadata": {},
     "output_type": "execute_result"
    }
   ],
   "source": [
    "#MPO area intersects with bike/pedestrain lines\n",
    "aaf.RTP_counted_by_intersection(shapefile='BikePed', folder='RTP', file='MPO_Boundary.shp')"
   ]
  },
  {
   "cell_type": "code",
   "execution_count": 5,
   "id": "60856344",
   "metadata": {},
   "outputs": [
    {
     "data": {
      "text/html": [
       "<div>\n",
       "<style scoped>\n",
       "    .dataframe tbody tr th:only-of-type {\n",
       "        vertical-align: middle;\n",
       "    }\n",
       "\n",
       "    .dataframe tbody tr th {\n",
       "        vertical-align: top;\n",
       "    }\n",
       "\n",
       "    .dataframe thead th {\n",
       "        text-align: right;\n",
       "    }\n",
       "</style>\n",
       "<table border=\"1\" class=\"dataframe\">\n",
       "  <thead>\n",
       "    <tr style=\"text-align: right;\">\n",
       "      <th></th>\n",
       "      <th>geometry</th>\n",
       "    </tr>\n",
       "    <tr>\n",
       "      <th>Category</th>\n",
       "      <th></th>\n",
       "    </tr>\n",
       "  </thead>\n",
       "  <tbody>\n",
       "  </tbody>\n",
       "</table>\n",
       "</div>"
      ],
      "text/plain": [
       "Empty DataFrame\n",
       "Columns: [geometry]\n",
       "Index: []"
      ]
     },
     "execution_count": 5,
     "metadata": {},
     "output_type": "execute_result"
    }
   ],
   "source": [
    "# DEQ303dListedStreams intersect with bike/pedestrain points\n",
    "aaf.RTP_counted_by_intersection(shapefile='BikePed_points', folder='WaterQuality', file='DEQ303dListedStreams.shp')"
   ]
  },
  {
   "cell_type": "code",
   "execution_count": 14,
   "id": "a549fead",
   "metadata": {},
   "outputs": [
    {
     "data": {
      "text/html": [
       "<div>\n",
       "<style scoped>\n",
       "    .dataframe tbody tr th:only-of-type {\n",
       "        vertical-align: middle;\n",
       "    }\n",
       "\n",
       "    .dataframe tbody tr th {\n",
       "        vertical-align: top;\n",
       "    }\n",
       "\n",
       "    .dataframe thead th {\n",
       "        text-align: right;\n",
       "    }\n",
       "</style>\n",
       "<table border=\"1\" class=\"dataframe\">\n",
       "  <thead>\n",
       "    <tr style=\"text-align: right;\">\n",
       "      <th></th>\n",
       "      <th>geometry</th>\n",
       "    </tr>\n",
       "    <tr>\n",
       "      <th>Category</th>\n",
       "      <th></th>\n",
       "    </tr>\n",
       "  </thead>\n",
       "  <tbody>\n",
       "    <tr>\n",
       "      <th>On-Street Lanes or Routes Without Road Project</th>\n",
       "      <td>2</td>\n",
       "    </tr>\n",
       "  </tbody>\n",
       "</table>\n",
       "</div>"
      ],
      "text/plain": [
       "                                                geometry\n",
       "Category                                                \n",
       "On-Street Lanes or Routes Without Road Project         2"
      ]
     },
     "execution_count": 14,
     "metadata": {},
     "output_type": "execute_result"
    }
   ],
   "source": [
    "# Navigable Rivers intersect with bike/pedestrain points\n",
    "aaf.RTP_counted_by_intersection(shapefile='BikePed_points', folder='WaterQuality', file='NavigableRivers.shp')"
   ]
  },
  {
   "cell_type": "code",
   "execution_count": 26,
   "id": "57d1bc49",
   "metadata": {},
   "outputs": [
    {
     "data": {
      "text/html": [
       "<div>\n",
       "<style scoped>\n",
       "    .dataframe tbody tr th:only-of-type {\n",
       "        vertical-align: middle;\n",
       "    }\n",
       "\n",
       "    .dataframe tbody tr th {\n",
       "        vertical-align: top;\n",
       "    }\n",
       "\n",
       "    .dataframe thead th {\n",
       "        text-align: right;\n",
       "    }\n",
       "</style>\n",
       "<table border=\"1\" class=\"dataframe\">\n",
       "  <thead>\n",
       "    <tr style=\"text-align: right;\">\n",
       "      <th></th>\n",
       "      <th>geometry</th>\n",
       "    </tr>\n",
       "    <tr>\n",
       "      <th>Category</th>\n",
       "      <th></th>\n",
       "    </tr>\n",
       "  </thead>\n",
       "  <tbody>\n",
       "    <tr>\n",
       "      <th>On-Street Lanes or Routes Without Road Project</th>\n",
       "      <td>1</td>\n",
       "    </tr>\n",
       "  </tbody>\n",
       "</table>\n",
       "</div>"
      ],
      "text/plain": [
       "                                                geometry\n",
       "Category                                                \n",
       "On-Street Lanes or Routes Without Road Project         1"
      ]
     },
     "execution_count": 26,
     "metadata": {},
     "output_type": "execute_result"
    }
   ],
   "source": [
    "# wetlands intersect with bike/pedestrain points\n",
    "aaf.RTP_counted_by_intersection(shapefile='BikePed_points', folder='WaterQuality', file='wetlandsCLMPO.shp')"
   ]
  },
  {
   "cell_type": "code",
   "execution_count": 8,
   "id": "6fc066f8",
   "metadata": {},
   "outputs": [
    {
     "data": {
      "text/html": [
       "<div>\n",
       "<style scoped>\n",
       "    .dataframe tbody tr th:only-of-type {\n",
       "        vertical-align: middle;\n",
       "    }\n",
       "\n",
       "    .dataframe tbody tr th {\n",
       "        vertical-align: top;\n",
       "    }\n",
       "\n",
       "    .dataframe thead th {\n",
       "        text-align: right;\n",
       "    }\n",
       "</style>\n",
       "<table border=\"1\" class=\"dataframe\">\n",
       "  <thead>\n",
       "    <tr style=\"text-align: right;\">\n",
       "      <th></th>\n",
       "      <th>geometry</th>\n",
       "    </tr>\n",
       "    <tr>\n",
       "      <th>Category</th>\n",
       "      <th></th>\n",
       "    </tr>\n",
       "  </thead>\n",
       "  <tbody>\n",
       "    <tr>\n",
       "      <th>On-Street Lanes or Routes Without Road Project</th>\n",
       "      <td>2</td>\n",
       "    </tr>\n",
       "  </tbody>\n",
       "</table>\n",
       "</div>"
      ],
      "text/plain": [
       "                                                geometry\n",
       "Category                                                \n",
       "On-Street Lanes or Routes Without Road Project         2"
      ]
     },
     "execution_count": 8,
     "metadata": {},
     "output_type": "execute_result"
    }
   ],
   "source": [
    "# Conservation Opportunity Areas intersect with bike/pedestrain points\n",
    "aaf.RTP_counted_by_intersection(shapefile='BikePed_points', folder='SensitiveHabitats', file='ODFW_COAs_CLMPO.shp')"
   ]
  },
  {
   "cell_type": "code",
   "execution_count": 9,
   "id": "4ecc6100",
   "metadata": {},
   "outputs": [
    {
     "data": {
      "text/html": [
       "<div>\n",
       "<style scoped>\n",
       "    .dataframe tbody tr th:only-of-type {\n",
       "        vertical-align: middle;\n",
       "    }\n",
       "\n",
       "    .dataframe tbody tr th {\n",
       "        vertical-align: top;\n",
       "    }\n",
       "\n",
       "    .dataframe thead th {\n",
       "        text-align: right;\n",
       "    }\n",
       "</style>\n",
       "<table border=\"1\" class=\"dataframe\">\n",
       "  <thead>\n",
       "    <tr style=\"text-align: right;\">\n",
       "      <th></th>\n",
       "      <th>geometry</th>\n",
       "    </tr>\n",
       "    <tr>\n",
       "      <th>Category</th>\n",
       "      <th></th>\n",
       "    </tr>\n",
       "  </thead>\n",
       "  <tbody>\n",
       "  </tbody>\n",
       "</table>\n",
       "</div>"
      ],
      "text/plain": [
       "Empty DataFrame\n",
       "Columns: [geometry]\n",
       "Index: []"
      ]
     },
     "execution_count": 9,
     "metadata": {},
     "output_type": "execute_result"
    }
   ],
   "source": [
    "# USFWS Critical Habitats intersect with bike/pedestrain points\n",
    "aaf.RTP_counted_by_intersection(shapefile='BikePed_points', folder='SensitiveHabitats', file='CRITHAB_CLMPO.shp')"
   ]
  },
  {
   "cell_type": "code",
   "execution_count": 23,
   "id": "17c2ec22",
   "metadata": {},
   "outputs": [
    {
     "data": {
      "text/html": [
       "<div>\n",
       "<style scoped>\n",
       "    .dataframe tbody tr th:only-of-type {\n",
       "        vertical-align: middle;\n",
       "    }\n",
       "\n",
       "    .dataframe tbody tr th {\n",
       "        vertical-align: top;\n",
       "    }\n",
       "\n",
       "    .dataframe thead th {\n",
       "        text-align: right;\n",
       "    }\n",
       "</style>\n",
       "<table border=\"1\" class=\"dataframe\">\n",
       "  <thead>\n",
       "    <tr style=\"text-align: right;\">\n",
       "      <th></th>\n",
       "      <th>geometry</th>\n",
       "    </tr>\n",
       "    <tr>\n",
       "      <th>Category</th>\n",
       "      <th></th>\n",
       "    </tr>\n",
       "  </thead>\n",
       "  <tbody>\n",
       "  </tbody>\n",
       "</table>\n",
       "</div>"
      ],
      "text/plain": [
       "Empty DataFrame\n",
       "Columns: [geometry]\n",
       "Index: []"
      ]
     },
     "execution_count": 23,
     "metadata": {},
     "output_type": "execute_result"
    }
   ],
   "source": [
    "# floodway intersects with bike/pedestrain points\n",
    "aaf.RTP_counted_by_intersection(shapefile='BikePed_points', folder='NaturalHazards', file='FloodwayCLMPO.shp')"
   ]
  },
  {
   "cell_type": "code",
   "execution_count": 31,
   "id": "8b9b1b13",
   "metadata": {},
   "outputs": [
    {
     "data": {
      "text/html": [
       "<div>\n",
       "<style scoped>\n",
       "    .dataframe tbody tr th:only-of-type {\n",
       "        vertical-align: middle;\n",
       "    }\n",
       "\n",
       "    .dataframe tbody tr th {\n",
       "        vertical-align: top;\n",
       "    }\n",
       "\n",
       "    .dataframe thead th {\n",
       "        text-align: right;\n",
       "    }\n",
       "</style>\n",
       "<table border=\"1\" class=\"dataframe\">\n",
       "  <thead>\n",
       "    <tr style=\"text-align: right;\">\n",
       "      <th></th>\n",
       "      <th>geometry</th>\n",
       "    </tr>\n",
       "    <tr>\n",
       "      <th>Category</th>\n",
       "      <th></th>\n",
       "    </tr>\n",
       "  </thead>\n",
       "  <tbody>\n",
       "    <tr>\n",
       "      <th>On-Street Lanes or Routes Without Road Project</th>\n",
       "      <td>2</td>\n",
       "    </tr>\n",
       "  </tbody>\n",
       "</table>\n",
       "</div>"
      ],
      "text/plain": [
       "                                                geometry\n",
       "Category                                                \n",
       "On-Street Lanes or Routes Without Road Project         2"
      ]
     },
     "execution_count": 31,
     "metadata": {},
     "output_type": "execute_result"
    }
   ],
   "source": [
    "# seismic hazards intersect with bike/pedestrain points\n",
    "aaf.RTP_counted_by_intersection(shapefile='BikePed_points', folder='NaturalHazards', file='EarthquakeLayer.shp')"
   ]
  },
  {
   "cell_type": "code",
   "execution_count": 39,
   "id": "01b3f1a9",
   "metadata": {},
   "outputs": [
    {
     "data": {
      "text/html": [
       "<div>\n",
       "<style scoped>\n",
       "    .dataframe tbody tr th:only-of-type {\n",
       "        vertical-align: middle;\n",
       "    }\n",
       "\n",
       "    .dataframe tbody tr th {\n",
       "        vertical-align: top;\n",
       "    }\n",
       "\n",
       "    .dataframe thead th {\n",
       "        text-align: right;\n",
       "    }\n",
       "</style>\n",
       "<table border=\"1\" class=\"dataframe\">\n",
       "  <thead>\n",
       "    <tr style=\"text-align: right;\">\n",
       "      <th></th>\n",
       "      <th>geometry</th>\n",
       "    </tr>\n",
       "    <tr>\n",
       "      <th>Category</th>\n",
       "      <th></th>\n",
       "    </tr>\n",
       "  </thead>\n",
       "  <tbody>\n",
       "    <tr>\n",
       "      <th>On-Street Lanes or Routes Without Road Project</th>\n",
       "      <td>14</td>\n",
       "    </tr>\n",
       "  </tbody>\n",
       "</table>\n",
       "</div>"
      ],
      "text/plain": [
       "                                                geometry\n",
       "Category                                                \n",
       "On-Street Lanes or Routes Without Road Project        14"
      ]
     },
     "execution_count": 39,
     "metadata": {},
     "output_type": "execute_result"
    }
   ],
   "source": [
    "# AirQualityMaintenanceArea intersects with bike/pedestrain points\n",
    "aaf.RTP_counted_by_intersection(shapefile='BikePed_points', folder='AirQuality', file='AirQualityMaintenanceArea.shp')"
   ]
  },
  {
   "cell_type": "code",
   "execution_count": 47,
   "id": "0529510f",
   "metadata": {},
   "outputs": [
    {
     "data": {
      "text/html": [
       "<div>\n",
       "<style scoped>\n",
       "    .dataframe tbody tr th:only-of-type {\n",
       "        vertical-align: middle;\n",
       "    }\n",
       "\n",
       "    .dataframe tbody tr th {\n",
       "        vertical-align: top;\n",
       "    }\n",
       "\n",
       "    .dataframe thead th {\n",
       "        text-align: right;\n",
       "    }\n",
       "</style>\n",
       "<table border=\"1\" class=\"dataframe\">\n",
       "  <thead>\n",
       "    <tr style=\"text-align: right;\">\n",
       "      <th></th>\n",
       "      <th>geometry</th>\n",
       "    </tr>\n",
       "    <tr>\n",
       "      <th>Category</th>\n",
       "      <th></th>\n",
       "    </tr>\n",
       "  </thead>\n",
       "  <tbody>\n",
       "    <tr>\n",
       "      <th>On-Street Lanes or Routes Without Road Project</th>\n",
       "      <td>11</td>\n",
       "    </tr>\n",
       "  </tbody>\n",
       "</table>\n",
       "</div>"
      ],
      "text/plain": [
       "                                                geometry\n",
       "Category                                                \n",
       "On-Street Lanes or Routes Without Road Project        11"
      ]
     },
     "execution_count": 47,
     "metadata": {},
     "output_type": "execute_result"
    }
   ],
   "source": [
    "# Equity Areas intersect with bike/pedestrain points\n",
    "aaf.RTP_counted_by_intersection(shapefile='BikePed_points', folder='EJ', file='equity_area.shp')"
   ]
  },
  {
   "cell_type": "code",
   "execution_count": 55,
   "id": "73bb1c17",
   "metadata": {},
   "outputs": [
    {
     "data": {
      "text/html": [
       "<div>\n",
       "<style scoped>\n",
       "    .dataframe tbody tr th:only-of-type {\n",
       "        vertical-align: middle;\n",
       "    }\n",
       "\n",
       "    .dataframe tbody tr th {\n",
       "        vertical-align: top;\n",
       "    }\n",
       "\n",
       "    .dataframe thead th {\n",
       "        text-align: right;\n",
       "    }\n",
       "</style>\n",
       "<table border=\"1\" class=\"dataframe\">\n",
       "  <thead>\n",
       "    <tr style=\"text-align: right;\">\n",
       "      <th></th>\n",
       "      <th>geometry</th>\n",
       "    </tr>\n",
       "    <tr>\n",
       "      <th>Category</th>\n",
       "      <th></th>\n",
       "    </tr>\n",
       "  </thead>\n",
       "  <tbody>\n",
       "    <tr>\n",
       "      <th>On-Street Lanes or Routes Without Road Project</th>\n",
       "      <td>14</td>\n",
       "    </tr>\n",
       "  </tbody>\n",
       "</table>\n",
       "</div>"
      ],
      "text/plain": [
       "                                                geometry\n",
       "Category                                                \n",
       "On-Street Lanes or Routes Without Road Project        14"
      ]
     },
     "execution_count": 55,
     "metadata": {},
     "output_type": "execute_result"
    }
   ],
   "source": [
    "#MPO area intersects with bike/pedestrain points\n",
    "aaf.RTP_counted_by_intersection(shapefile='BikePed_points', folder='RTP', file='MPO_Boundary.shp')"
   ]
  },
  {
   "cell_type": "code",
   "execution_count": 7,
   "id": "3e73d45b",
   "metadata": {},
   "outputs": [],
   "source": [
    "# DEQ303dListedStreams intersect with frequent transit network\n",
    "res = aaf.RTP_counted_by_intersection(shapefile='FrequentTransitNetwork', \n",
    "                                      folder='WaterQuality', file='DEQ303dListedStreams.shp',\n",
    "                                      transit=True, ftn=True)"
   ]
  },
  {
   "cell_type": "code",
   "execution_count": 8,
   "id": "f042e722",
   "metadata": {},
   "outputs": [
    {
     "data": {
      "text/plain": [
       "(20, 1)"
      ]
     },
     "execution_count": 8,
     "metadata": {},
     "output_type": "execute_result"
    }
   ],
   "source": [
    "res.shape"
   ]
  },
  {
   "cell_type": "code",
   "execution_count": 9,
   "id": "1160218b",
   "metadata": {},
   "outputs": [],
   "source": [
    "# DEQ303dListedStreams intersect with stations\n",
    "res = aaf.RTP_counted_by_intersection(shapefile='stations', \n",
    "                                      folder='WaterQuality', file='DEQ303dListedStreams.shp',\n",
    "                                      transit=True)"
   ]
  },
  {
   "cell_type": "code",
   "execution_count": 10,
   "id": "f5591093",
   "metadata": {},
   "outputs": [
    {
     "data": {
      "text/plain": [
       "(0, 1)"
      ]
     },
     "execution_count": 10,
     "metadata": {},
     "output_type": "execute_result"
    }
   ],
   "source": [
    "res.shape"
   ]
  },
  {
   "cell_type": "code",
   "execution_count": 15,
   "id": "1a7d5d43",
   "metadata": {},
   "outputs": [],
   "source": [
    "# Navigable Rivers intersect with frequent transit network\n",
    "res = aaf.RTP_counted_by_intersection(shapefile='FrequentTransitNetwork', \n",
    "                                      folder='WaterQuality', file='NavigableRivers.shp',\n",
    "                                      transit=True, ftn=True)"
   ]
  },
  {
   "cell_type": "code",
   "execution_count": 16,
   "id": "ed55a63c",
   "metadata": {},
   "outputs": [
    {
     "data": {
      "text/plain": [
       "(14, 1)"
      ]
     },
     "execution_count": 16,
     "metadata": {},
     "output_type": "execute_result"
    }
   ],
   "source": [
    "res.shape"
   ]
  },
  {
   "cell_type": "code",
   "execution_count": 17,
   "id": "eb0960cb",
   "metadata": {},
   "outputs": [],
   "source": [
    "# Navigable Rivers intersect with stations\n",
    "res = aaf.RTP_counted_by_intersection(shapefile='stations', \n",
    "                                      folder='WaterQuality', file='NavigableRivers.shp',\n",
    "                                      transit=True)"
   ]
  },
  {
   "cell_type": "code",
   "execution_count": 18,
   "id": "7a314ec9",
   "metadata": {},
   "outputs": [
    {
     "data": {
      "text/plain": [
       "(0, 1)"
      ]
     },
     "execution_count": 18,
     "metadata": {},
     "output_type": "execute_result"
    }
   ],
   "source": [
    "res.shape"
   ]
  },
  {
   "cell_type": "code",
   "execution_count": 19,
   "id": "51c16257",
   "metadata": {},
   "outputs": [],
   "source": [
    "# wetlands intersect with frequent transit network\n",
    "res = aaf.RTP_counted_by_intersection(shapefile='FrequentTransitNetwork', \n",
    "                                      folder='WaterQuality', file='wetlandsCLMPO.shp',\n",
    "                                      transit=True, ftn=True)"
   ]
  },
  {
   "cell_type": "code",
   "execution_count": 20,
   "id": "aae899f1",
   "metadata": {},
   "outputs": [
    {
     "data": {
      "text/plain": [
       "(30, 1)"
      ]
     },
     "execution_count": 20,
     "metadata": {},
     "output_type": "execute_result"
    }
   ],
   "source": [
    "res.shape"
   ]
  },
  {
   "cell_type": "code",
   "execution_count": 21,
   "id": "ebb7dcfa",
   "metadata": {},
   "outputs": [],
   "source": [
    "# wetlands intersect with stations\n",
    "res = aaf.RTP_counted_by_intersection(shapefile='stations', \n",
    "                                      folder='WaterQuality', file='wetlandsCLMPO.shp',\n",
    "                                      transit=True)"
   ]
  },
  {
   "cell_type": "code",
   "execution_count": 22,
   "id": "d712f516",
   "metadata": {},
   "outputs": [
    {
     "data": {
      "text/plain": [
       "(4, 1)"
      ]
     },
     "execution_count": 22,
     "metadata": {},
     "output_type": "execute_result"
    }
   ],
   "source": [
    "res.shape"
   ]
  },
  {
   "cell_type": "code",
   "execution_count": 86,
   "id": "89d4b6ed",
   "metadata": {},
   "outputs": [],
   "source": [
    "# Conservation Opportunity Areas intersect with frequent transit network\n",
    "res = aaf.RTP_counted_by_intersection(shapefile='FrequentTransitNetwork', \n",
    "                                      folder='SensitiveHabitats', file='ODFW_COAs_CLMPO.shp',\n",
    "                                      transit=True, ftn=True)"
   ]
  },
  {
   "cell_type": "code",
   "execution_count": 87,
   "id": "46be3118",
   "metadata": {},
   "outputs": [],
   "source": [
    "COAs = res.index"
   ]
  },
  {
   "cell_type": "code",
   "execution_count": 13,
   "id": "315d4592",
   "metadata": {},
   "outputs": [],
   "source": [
    "# Conservation Opportunity Areas intersect with stations\n",
    "res = aaf.RTP_counted_by_intersection(shapefile='stations', \n",
    "                                      folder='SensitiveHabitats', file='ODFW_COAs_CLMPO.shp',\n",
    "                                      transit=True)"
   ]
  },
  {
   "cell_type": "code",
   "execution_count": 14,
   "id": "107eb6cd",
   "metadata": {},
   "outputs": [
    {
     "data": {
      "text/plain": [
       "(3, 1)"
      ]
     },
     "execution_count": 14,
     "metadata": {},
     "output_type": "execute_result"
    }
   ],
   "source": [
    "res.shape"
   ]
  },
  {
   "cell_type": "code",
   "execution_count": 88,
   "id": "74198aaf",
   "metadata": {},
   "outputs": [],
   "source": [
    "# USFWS Critical Habitats intersect with frequent transit network\n",
    "res = aaf.RTP_counted_by_intersection(shapefile='FrequentTransitNetwork', \n",
    "                                      folder='SensitiveHabitats', file='CRITHAB_CLMPO.shp',\n",
    "                                      transit=True, ftn=True)"
   ]
  },
  {
   "cell_type": "code",
   "execution_count": 89,
   "id": "07a33996",
   "metadata": {},
   "outputs": [],
   "source": [
    "crithab = res.index"
   ]
  },
  {
   "cell_type": "code",
   "execution_count": 90,
   "id": "56a31e13",
   "metadata": {},
   "outputs": [
    {
     "data": {
      "text/plain": [
       "29"
      ]
     },
     "execution_count": 90,
     "metadata": {},
     "output_type": "execute_result"
    }
   ],
   "source": [
    "len(unique(list(COAs) + list(crithab)))"
   ]
  },
  {
   "cell_type": "code",
   "execution_count": 17,
   "id": "ceeb3b8f",
   "metadata": {},
   "outputs": [],
   "source": [
    "# USFWS Critical Habitats intersect with stations\n",
    "res = aaf.RTP_counted_by_intersection(shapefile='stations', \n",
    "                                      folder='SensitiveHabitats', file='CRITHAB_CLMPO.shp',\n",
    "                                      transit=True)"
   ]
  },
  {
   "cell_type": "code",
   "execution_count": 18,
   "id": "438ec5b7",
   "metadata": {},
   "outputs": [
    {
     "data": {
      "text/plain": [
       "(0, 1)"
      ]
     },
     "execution_count": 18,
     "metadata": {},
     "output_type": "execute_result"
    }
   ],
   "source": [
    "res.shape"
   ]
  },
  {
   "cell_type": "code",
   "execution_count": 60,
   "id": "15ced3db",
   "metadata": {},
   "outputs": [],
   "source": [
    "# floodway intersects with frequent transit network\n",
    "res = aaf.RTP_counted_by_intersection(shapefile='FrequentTransitNetwork', \n",
    "                                      folder='NaturalHazards', file='FloodwayCLMPO.shp',\n",
    "                                      transit=True, ftn=True)"
   ]
  },
  {
   "cell_type": "code",
   "execution_count": 71,
   "id": "0bb876a6",
   "metadata": {},
   "outputs": [],
   "source": [
    "floodwayFTN = res.index"
   ]
  },
  {
   "cell_type": "code",
   "execution_count": 26,
   "id": "17aa11d9",
   "metadata": {},
   "outputs": [],
   "source": [
    "# floodways intersects with stations\n",
    "res = aaf.RTP_counted_by_intersection(shapefile='stations', \n",
    "                                      folder='NaturalHazards', file='FloodwayCLMPO.shp',\n",
    "                                      transit=True)"
   ]
  },
  {
   "cell_type": "code",
   "execution_count": 27,
   "id": "a4c0486b",
   "metadata": {},
   "outputs": [
    {
     "data": {
      "text/plain": [
       "(0, 1)"
      ]
     },
     "execution_count": 27,
     "metadata": {},
     "output_type": "execute_result"
    }
   ],
   "source": [
    "res.shape"
   ]
  },
  {
   "cell_type": "code",
   "execution_count": 72,
   "id": "a2ecfb9f",
   "metadata": {},
   "outputs": [],
   "source": [
    "# seismic hazards intersect with frequent transit network\n",
    "res = aaf.RTP_counted_by_intersection(shapefile='FrequentTransitNetwork', \n",
    "                                      folder='NaturalHazards', file='EarthquakeLayer.shp',\n",
    "                                      transit=True, ftn=True)"
   ]
  },
  {
   "cell_type": "code",
   "execution_count": 73,
   "id": "4b0b53b5",
   "metadata": {},
   "outputs": [],
   "source": [
    "earthquakeFTN = res.index"
   ]
  },
  {
   "cell_type": "code",
   "execution_count": 85,
   "id": "d4ca91c6",
   "metadata": {},
   "outputs": [
    {
     "data": {
      "text/plain": [
       "29"
      ]
     },
     "execution_count": 85,
     "metadata": {},
     "output_type": "execute_result"
    }
   ],
   "source": [
    "len(unique(list(floodwayFTN) + list(earthquakeFTN)))"
   ]
  },
  {
   "cell_type": "code",
   "execution_count": 34,
   "id": "04faa863",
   "metadata": {},
   "outputs": [],
   "source": [
    "# seismic hazards intersect with stations\n",
    "res = aaf.RTP_counted_by_intersection(shapefile='stations', \n",
    "                                      folder='NaturalHazards', file='EarthquakeLayer.shp',\n",
    "                                      transit=True)"
   ]
  },
  {
   "cell_type": "code",
   "execution_count": 35,
   "id": "07cf462e",
   "metadata": {},
   "outputs": [
    {
     "data": {
      "text/plain": [
       "(7, 1)"
      ]
     },
     "execution_count": 35,
     "metadata": {},
     "output_type": "execute_result"
    }
   ],
   "source": [
    "res.shape"
   ]
  },
  {
   "cell_type": "code",
   "execution_count": 40,
   "id": "472200d9",
   "metadata": {},
   "outputs": [],
   "source": [
    "# AirQualityMaintenanceArea intersects with frequent transit network\n",
    "res = aaf.RTP_counted_by_intersection(shapefile='FrequentTransitNetwork', \n",
    "                                      folder='AirQuality', file='AirQualityMaintenanceArea.shp',\n",
    "                                      transit=True, ftn=True)"
   ]
  },
  {
   "cell_type": "code",
   "execution_count": 41,
   "id": "3b176fb9",
   "metadata": {},
   "outputs": [
    {
     "data": {
      "text/plain": [
       "(31, 1)"
      ]
     },
     "execution_count": 41,
     "metadata": {},
     "output_type": "execute_result"
    }
   ],
   "source": [
    "res.shape"
   ]
  },
  {
   "cell_type": "code",
   "execution_count": 42,
   "id": "2ff5056b",
   "metadata": {},
   "outputs": [],
   "source": [
    "# AirQualityMaintenanceArea intersects with stations\n",
    "res = aaf.RTP_counted_by_intersection(shapefile='stations', \n",
    "                                      folder='AirQuality', file='AirQualityMaintenanceArea.shp',\n",
    "                                      transit=True)"
   ]
  },
  {
   "cell_type": "code",
   "execution_count": 43,
   "id": "22e7f1ae",
   "metadata": {},
   "outputs": [
    {
     "data": {
      "text/plain": [
       "(10, 1)"
      ]
     },
     "execution_count": 43,
     "metadata": {},
     "output_type": "execute_result"
    }
   ],
   "source": [
    "res.shape"
   ]
  },
  {
   "cell_type": "code",
   "execution_count": 48,
   "id": "61857a43",
   "metadata": {},
   "outputs": [],
   "source": [
    "# equity_area intersects with frequent transit network\n",
    "res = aaf.RTP_counted_by_intersection(shapefile='FrequentTransitNetwork', \n",
    "                                      folder='EJ', file='equity_area.shp',\n",
    "                                      transit=True, ftn=True)"
   ]
  },
  {
   "cell_type": "code",
   "execution_count": 49,
   "id": "d6c3542e",
   "metadata": {},
   "outputs": [
    {
     "data": {
      "text/plain": [
       "(30, 1)"
      ]
     },
     "execution_count": 49,
     "metadata": {},
     "output_type": "execute_result"
    }
   ],
   "source": [
    "res.shape"
   ]
  },
  {
   "cell_type": "code",
   "execution_count": 50,
   "id": "2154214e",
   "metadata": {},
   "outputs": [],
   "source": [
    "# equity_area intersects with stations\n",
    "res = aaf.RTP_counted_by_intersection(shapefile='stations', \n",
    "                                      folder='EJ', file='equity_area.shp',\n",
    "                                      transit=True)"
   ]
  },
  {
   "cell_type": "code",
   "execution_count": 51,
   "id": "8188d3ac",
   "metadata": {},
   "outputs": [
    {
     "data": {
      "text/plain": [
       "(5, 1)"
      ]
     },
     "execution_count": 51,
     "metadata": {},
     "output_type": "execute_result"
    }
   ],
   "source": [
    "res.shape"
   ]
  },
  {
   "cell_type": "code",
   "execution_count": 56,
   "id": "49ebe7d6",
   "metadata": {},
   "outputs": [],
   "source": [
    "# MPO_area intersects with frequent transit network\n",
    "res = aaf.RTP_counted_by_intersection(shapefile='FrequentTransitNetwork', \n",
    "                                      folder='RTP', file='MPO_Boundary.shp',\n",
    "                                      transit=True, ftn=True)"
   ]
  },
  {
   "cell_type": "code",
   "execution_count": 57,
   "id": "947a0d2b",
   "metadata": {},
   "outputs": [
    {
     "data": {
      "text/plain": [
       "(31, 1)"
      ]
     },
     "execution_count": 57,
     "metadata": {},
     "output_type": "execute_result"
    }
   ],
   "source": [
    "res.shape"
   ]
  },
  {
   "cell_type": "code",
   "execution_count": 58,
   "id": "61e261d5",
   "metadata": {},
   "outputs": [],
   "source": [
    "# MPO_area intersects with stations\n",
    "res = aaf.RTP_counted_by_intersection(shapefile='stations', \n",
    "                                      folder='RTP', file='MPO_Boundary.shp',\n",
    "                                      transit=True)"
   ]
  },
  {
   "cell_type": "code",
   "execution_count": 59,
   "id": "05fb3f71",
   "metadata": {},
   "outputs": [
    {
     "data": {
      "text/plain": [
       "(11, 1)"
      ]
     },
     "execution_count": 59,
     "metadata": {},
     "output_type": "execute_result"
    }
   ],
   "source": [
    "res.shape"
   ]
  },
  {
   "cell_type": "code",
   "execution_count": null,
   "id": "c00f4c45",
   "metadata": {},
   "outputs": [],
   "source": []
  }
 ],
 "metadata": {
  "kernelspec": {
   "display_name": "Python 3",
   "language": "python",
   "name": "python3"
  },
  "language_info": {
   "codemirror_mode": {
    "name": "ipython",
    "version": 3
   },
   "file_extension": ".py",
   "mimetype": "text/x-python",
   "name": "python",
   "nbconvert_exporter": "python",
   "pygments_lexer": "ipython3",
   "version": "3.8.8"
  }
 },
 "nbformat": 4,
 "nbformat_minor": 5
}

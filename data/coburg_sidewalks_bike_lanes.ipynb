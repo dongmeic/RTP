{
 "cells": [
  {
   "cell_type": "code",
   "execution_count": 5,
   "id": "sapphire-decimal",
   "metadata": {},
   "outputs": [],
   "source": [
    "import geopandas as gpd"
   ]
  },
  {
   "cell_type": "code",
   "execution_count": 6,
   "id": "preceding-religious",
   "metadata": {},
   "outputs": [],
   "source": [
    "import os"
   ]
  },
  {
   "cell_type": "code",
   "execution_count": 1,
   "id": "durable-standing",
   "metadata": {},
   "outputs": [],
   "source": [
    "path = r\"T:\\MPO\\RTP\\FY20 2045 Update\\Data and Resources\\Data\\Coburg\""
   ]
  },
  {
   "cell_type": "code",
   "execution_count": 21,
   "id": "hired-crawford",
   "metadata": {},
   "outputs": [],
   "source": [
    "bikelane = gpd.read_file(os.path.join(path, \"BikeLanes.shp\"))"
   ]
  },
  {
   "cell_type": "code",
   "execution_count": 22,
   "id": "elegant-proposition",
   "metadata": {},
   "outputs": [],
   "source": [
    "sidewalks = gpd.read_file(os.path.join(path, \"Sidewalks.shp\"))"
   ]
  },
  {
   "cell_type": "code",
   "execution_count": 9,
   "id": "acknowledged-force",
   "metadata": {},
   "outputs": [],
   "source": [
    "newpaths = gpd.read_file(os.path.join(path, \"NewHardSurfacePaths.shp\"))"
   ]
  },
  {
   "cell_type": "code",
   "execution_count": 10,
   "id": "noticed-sender",
   "metadata": {},
   "outputs": [
    {
     "data": {
      "text/plain": [
       "Index(['OBJECTID', 'FNODE_', 'TNODE_', 'LPOLY_', 'RPOLY_', 'LENGTH',\n",
       "       'AIRS0421_', 'AIRS0421_I', 'AIRS_ID', 'SEG_ID', 'LCPWID', 'EUGID',\n",
       "       'SPRID', 'LCOGID', 'OWNER', 'MAINT', 'SOURCE', 'METHOD', 'FCLASS',\n",
       "       'PAVED', 'DIR', 'NAME', 'TYPE', 'SPEED', 'ONE_WAY', 'F_ZLEV', 'T_ZLEV',\n",
       "       'FT_COST', 'TF_COST', 'L_LADD', 'L_HADD', 'R_LADD', 'R_HADD',\n",
       "       'AIRSNAME', 'AIRSCLASS', 'MAILCITY', 'MZONE', 'MIXED_PARI',\n",
       "       'LEFT_PARIT', 'RIGHT_PARI', 'OVERLAP', 'CHANGE', 'SPLIT', 'ADJUST',\n",
       "       'CONTRIBUTO', 'MESSAGE', 'LO_CROSS', 'HI_CROSS', 'X_OVRRDE', 'UGBCITY',\n",
       "       'AIRSSPEED', 'RSPNSE_CLA', 'CAD_BNDRY_', 'JUNK', 'OID_', 'NAME_1',\n",
       "       'FROM_', 'TO', 'LENGTH_1', 'FUNC_CLASS', 'LANES', 'WIDTH', 'CONDITIONS',\n",
       "       'JURISDICTI', 'SIDEWALK__', 'SIDEWALK', 'BIKE______', 'ROW_______',\n",
       "       'PARKING___', 'BUSROUTE', 'MRKD______', 'SPEED_____', 'SIGNED____',\n",
       "       'PED_BIKE__', 'N20', 'N21', 'geometry'],\n",
       "      dtype='object')"
      ]
     },
     "execution_count": 10,
     "metadata": {},
     "output_type": "execute_result"
    }
   ],
   "source": [
    "bikelane.columns"
   ]
  },
  {
   "cell_type": "code",
   "execution_count": 11,
   "id": "oriental-joshua",
   "metadata": {
    "scrolled": true
   },
   "outputs": [
    {
     "data": {
      "text/html": [
       "<div>\n",
       "<style scoped>\n",
       "    .dataframe tbody tr th:only-of-type {\n",
       "        vertical-align: middle;\n",
       "    }\n",
       "\n",
       "    .dataframe tbody tr th {\n",
       "        vertical-align: top;\n",
       "    }\n",
       "\n",
       "    .dataframe thead th {\n",
       "        text-align: right;\n",
       "    }\n",
       "</style>\n",
       "<table border=\"1\" class=\"dataframe\">\n",
       "  <thead>\n",
       "    <tr style=\"text-align: right;\">\n",
       "      <th></th>\n",
       "      <th>OBJECTID</th>\n",
       "      <th>FNODE_</th>\n",
       "      <th>TNODE_</th>\n",
       "      <th>LPOLY_</th>\n",
       "      <th>RPOLY_</th>\n",
       "      <th>LENGTH</th>\n",
       "      <th>AIRS0421_</th>\n",
       "      <th>AIRS0421_I</th>\n",
       "      <th>AIRS_ID</th>\n",
       "      <th>SEG_ID</th>\n",
       "      <th>...</th>\n",
       "      <th>ROW_______</th>\n",
       "      <th>PARKING___</th>\n",
       "      <th>BUSROUTE</th>\n",
       "      <th>MRKD______</th>\n",
       "      <th>SPEED_____</th>\n",
       "      <th>SIGNED____</th>\n",
       "      <th>PED_BIKE__</th>\n",
       "      <th>N20</th>\n",
       "      <th>N21</th>\n",
       "      <th>geometry</th>\n",
       "    </tr>\n",
       "  </thead>\n",
       "  <tbody>\n",
       "    <tr>\n",
       "      <th>0</th>\n",
       "      <td>1774</td>\n",
       "      <td>1572</td>\n",
       "      <td>1561</td>\n",
       "      <td>1</td>\n",
       "      <td>266</td>\n",
       "      <td>188.194765</td>\n",
       "      <td>1774</td>\n",
       "      <td>1774</td>\n",
       "      <td>1774</td>\n",
       "      <td>4006442</td>\n",
       "      <td>...</td>\n",
       "      <td>0</td>\n",
       "      <td>0</td>\n",
       "      <td>ROUTE96</td>\n",
       "      <td>BIKELANE</td>\n",
       "      <td>40</td>\n",
       "      <td>TRUCKRTE</td>\n",
       "      <td>NONE</td>\n",
       "      <td>None</td>\n",
       "      <td>118</td>\n",
       "      <td>LINESTRING (4247897.585 909829.441, 4247806.96...</td>\n",
       "    </tr>\n",
       "    <tr>\n",
       "      <th>1</th>\n",
       "      <td>1795</td>\n",
       "      <td>1593</td>\n",
       "      <td>1572</td>\n",
       "      <td>1</td>\n",
       "      <td>266</td>\n",
       "      <td>330.353442</td>\n",
       "      <td>1795</td>\n",
       "      <td>1795</td>\n",
       "      <td>1795</td>\n",
       "      <td>4006461</td>\n",
       "      <td>...</td>\n",
       "      <td>0</td>\n",
       "      <td>0</td>\n",
       "      <td>ROUTE96</td>\n",
       "      <td>BIKELANE</td>\n",
       "      <td>40</td>\n",
       "      <td>TRUCKRTE</td>\n",
       "      <td>NONE</td>\n",
       "      <td>None</td>\n",
       "      <td>119</td>\n",
       "      <td>LINESTRING (4248076.519 909551.743, 4247897.58...</td>\n",
       "    </tr>\n",
       "    <tr>\n",
       "      <th>2</th>\n",
       "      <td>1610</td>\n",
       "      <td>1439</td>\n",
       "      <td>1415</td>\n",
       "      <td>241</td>\n",
       "      <td>246</td>\n",
       "      <td>302.838807</td>\n",
       "      <td>1610</td>\n",
       "      <td>1610</td>\n",
       "      <td>1610</td>\n",
       "      <td>4006289</td>\n",
       "      <td>...</td>\n",
       "      <td>0</td>\n",
       "      <td>0</td>\n",
       "      <td>NONE</td>\n",
       "      <td>BIKELANE</td>\n",
       "      <td>25</td>\n",
       "      <td>TRUCKRTE</td>\n",
       "      <td>BOTHSIDES</td>\n",
       "      <td>None</td>\n",
       "      <td>101</td>\n",
       "      <td>LINESTRING (4247397.710 911318.253, 4247349.33...</td>\n",
       "    </tr>\n",
       "    <tr>\n",
       "      <th>3</th>\n",
       "      <td>1641</td>\n",
       "      <td>1465</td>\n",
       "      <td>1439</td>\n",
       "      <td>241</td>\n",
       "      <td>250</td>\n",
       "      <td>318.296849</td>\n",
       "      <td>1641</td>\n",
       "      <td>1641</td>\n",
       "      <td>1641</td>\n",
       "      <td>4000113</td>\n",
       "      <td>...</td>\n",
       "      <td>0</td>\n",
       "      <td>0</td>\n",
       "      <td>ROUTE96</td>\n",
       "      <td>BIKELANE</td>\n",
       "      <td>25</td>\n",
       "      <td>TRUCKRTE</td>\n",
       "      <td>BOTHSIDES</td>\n",
       "      <td>None</td>\n",
       "      <td>97</td>\n",
       "      <td>LINESTRING (4247512.710 911021.503, 4247450.08...</td>\n",
       "    </tr>\n",
       "    <tr>\n",
       "      <th>4</th>\n",
       "      <td>1669</td>\n",
       "      <td>1489</td>\n",
       "      <td>1465</td>\n",
       "      <td>1</td>\n",
       "      <td>258</td>\n",
       "      <td>348.015137</td>\n",
       "      <td>1669</td>\n",
       "      <td>1669</td>\n",
       "      <td>1669</td>\n",
       "      <td>4006339</td>\n",
       "      <td>...</td>\n",
       "      <td>0</td>\n",
       "      <td>0</td>\n",
       "      <td>ROUTE96</td>\n",
       "      <td>BIKELANE</td>\n",
       "      <td>25</td>\n",
       "      <td>TRUCKRTE</td>\n",
       "      <td>BOTHSIDES</td>\n",
       "      <td>None</td>\n",
       "      <td>102</td>\n",
       "      <td>LINESTRING (4247613.210 910689.003, 4247610.71...</td>\n",
       "    </tr>\n",
       "  </tbody>\n",
       "</table>\n",
       "<p>5 rows × 77 columns</p>\n",
       "</div>"
      ],
      "text/plain": [
       "   OBJECTID  FNODE_  TNODE_  LPOLY_  RPOLY_      LENGTH  AIRS0421_  \\\n",
       "0      1774    1572    1561       1     266  188.194765       1774   \n",
       "1      1795    1593    1572       1     266  330.353442       1795   \n",
       "2      1610    1439    1415     241     246  302.838807       1610   \n",
       "3      1641    1465    1439     241     250  318.296849       1641   \n",
       "4      1669    1489    1465       1     258  348.015137       1669   \n",
       "\n",
       "   AIRS0421_I  AIRS_ID   SEG_ID  ...  ROW_______  PARKING___  BUSROUTE  \\\n",
       "0        1774     1774  4006442  ...           0           0   ROUTE96   \n",
       "1        1795     1795  4006461  ...           0           0   ROUTE96   \n",
       "2        1610     1610  4006289  ...           0           0      NONE   \n",
       "3        1641     1641  4000113  ...           0           0   ROUTE96   \n",
       "4        1669     1669  4006339  ...           0           0   ROUTE96   \n",
       "\n",
       "   MRKD______ SPEED_____ SIGNED____ PED_BIKE__   N20  N21  \\\n",
       "0    BIKELANE         40   TRUCKRTE       NONE  None  118   \n",
       "1    BIKELANE         40   TRUCKRTE       NONE  None  119   \n",
       "2    BIKELANE         25   TRUCKRTE  BOTHSIDES  None  101   \n",
       "3    BIKELANE         25   TRUCKRTE  BOTHSIDES  None   97   \n",
       "4    BIKELANE         25   TRUCKRTE  BOTHSIDES  None  102   \n",
       "\n",
       "                                            geometry  \n",
       "0  LINESTRING (4247897.585 909829.441, 4247806.96...  \n",
       "1  LINESTRING (4248076.519 909551.743, 4247897.58...  \n",
       "2  LINESTRING (4247397.710 911318.253, 4247349.33...  \n",
       "3  LINESTRING (4247512.710 911021.503, 4247450.08...  \n",
       "4  LINESTRING (4247613.210 910689.003, 4247610.71...  \n",
       "\n",
       "[5 rows x 77 columns]"
      ]
     },
     "execution_count": 11,
     "metadata": {},
     "output_type": "execute_result"
    }
   ],
   "source": [
    "bikelane.head()"
   ]
  },
  {
   "cell_type": "code",
   "execution_count": 12,
   "id": "convertible-candy",
   "metadata": {},
   "outputs": [
    {
     "data": {
      "text/html": [
       "<div>\n",
       "<style scoped>\n",
       "    .dataframe tbody tr th:only-of-type {\n",
       "        vertical-align: middle;\n",
       "    }\n",
       "\n",
       "    .dataframe tbody tr th {\n",
       "        vertical-align: top;\n",
       "    }\n",
       "\n",
       "    .dataframe thead th {\n",
       "        text-align: right;\n",
       "    }\n",
       "</style>\n",
       "<table border=\"1\" class=\"dataframe\">\n",
       "  <thead>\n",
       "    <tr style=\"text-align: right;\">\n",
       "      <th></th>\n",
       "      <th>Id</th>\n",
       "      <th>Notes</th>\n",
       "      <th>geometry</th>\n",
       "    </tr>\n",
       "  </thead>\n",
       "  <tbody>\n",
       "    <tr>\n",
       "      <th>0</th>\n",
       "      <td>0</td>\n",
       "      <td>Hard surface trail</td>\n",
       "      <td>LINESTRING (4249298.703 912012.537, 4249326.88...</td>\n",
       "    </tr>\n",
       "    <tr>\n",
       "      <th>1</th>\n",
       "      <td>0</td>\n",
       "      <td>Sidewalk</td>\n",
       "      <td>LINESTRING (4250546.891 909924.525, 4250522.25...</td>\n",
       "    </tr>\n",
       "    <tr>\n",
       "      <th>2</th>\n",
       "      <td>0</td>\n",
       "      <td>Hard surface trail</td>\n",
       "      <td>LINESTRING (4250124.026 910444.264, 4250150.57...</td>\n",
       "    </tr>\n",
       "  </tbody>\n",
       "</table>\n",
       "</div>"
      ],
      "text/plain": [
       "   Id               Notes                                           geometry\n",
       "0   0  Hard surface trail  LINESTRING (4249298.703 912012.537, 4249326.88...\n",
       "1   0            Sidewalk  LINESTRING (4250546.891 909924.525, 4250522.25...\n",
       "2   0  Hard surface trail  LINESTRING (4250124.026 910444.264, 4250150.57..."
      ]
     },
     "execution_count": 12,
     "metadata": {},
     "output_type": "execute_result"
    }
   ],
   "source": [
    "newpaths.head()"
   ]
  },
  {
   "cell_type": "code",
   "execution_count": 24,
   "id": "color-knowing",
   "metadata": {},
   "outputs": [],
   "source": [
    "bikelane.rename(columns = {'OBJECTID': 'Id'}, inplace =True)"
   ]
  },
  {
   "cell_type": "code",
   "execution_count": 25,
   "id": "solved-sustainability",
   "metadata": {},
   "outputs": [],
   "source": [
    "sidewalks.rename(columns = {'OBJECTID': 'Id'}, inplace =True)"
   ]
  },
  {
   "cell_type": "code",
   "execution_count": 20,
   "id": "collect-silicon",
   "metadata": {},
   "outputs": [],
   "source": [
    "newpaths['Id'] = ['n1', 'n2', 'n3']"
   ]
  },
  {
   "cell_type": "code",
   "execution_count": 26,
   "id": "weird-broadcasting",
   "metadata": {},
   "outputs": [],
   "source": [
    "bikelane_updated = bikelane[['Id', 'geometry']].append(newpaths[['Id', 'geometry']])"
   ]
  },
  {
   "cell_type": "code",
   "execution_count": 27,
   "id": "smaller-force",
   "metadata": {},
   "outputs": [],
   "source": [
    "sidewalks_updated = sidewalks[['Id', 'geometry']].append(newpaths[['Id', 'geometry']])"
   ]
  },
  {
   "cell_type": "code",
   "execution_count": 15,
   "id": "studied-cuisine",
   "metadata": {},
   "outputs": [
    {
     "data": {
      "text/plain": [
       "(22, 2)"
      ]
     },
     "execution_count": 15,
     "metadata": {},
     "output_type": "execute_result"
    }
   ],
   "source": [
    "bikelane_updated.shape"
   ]
  },
  {
   "cell_type": "code",
   "execution_count": 19,
   "id": "knowing-particular",
   "metadata": {},
   "outputs": [
    {
     "data": {
      "text/plain": [
       "(151, 2)"
      ]
     },
     "execution_count": 19,
     "metadata": {},
     "output_type": "execute_result"
    }
   ],
   "source": [
    "sidewalks_updated.shape"
   ]
  },
  {
   "cell_type": "code",
   "execution_count": 28,
   "id": "raised-germany",
   "metadata": {},
   "outputs": [],
   "source": [
    "bikelane_updated.to_file(os.path.join(path, \"Coburg_bikelanes.shp\"))"
   ]
  },
  {
   "cell_type": "code",
   "execution_count": 29,
   "id": "precious-training",
   "metadata": {},
   "outputs": [],
   "source": [
    "sidewalks_updated.to_file(os.path.join(path, \"Coburg_sidewalks.shp\"))"
   ]
  },
  {
   "cell_type": "code",
   "execution_count": null,
   "id": "secondary-diesel",
   "metadata": {},
   "outputs": [],
   "source": []
  }
 ],
 "metadata": {
  "kernelspec": {
   "display_name": "Python 3",
   "language": "python",
   "name": "python3"
  },
  "language_info": {
   "codemirror_mode": {
    "name": "ipython",
    "version": 3
   },
   "file_extension": ".py",
   "mimetype": "text/x-python",
   "name": "python",
   "nbconvert_exporter": "python",
   "pygments_lexer": "ipython3",
   "version": "3.8.8"
  }
 },
 "nbformat": 4,
 "nbformat_minor": 5
}

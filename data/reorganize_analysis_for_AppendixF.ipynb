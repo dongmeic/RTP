{
 "cells": [
  {
   "cell_type": "code",
   "execution_count": 1,
   "id": "8632e9cb",
   "metadata": {},
   "outputs": [],
   "source": [
    "import geopandas as gpd\n",
    "import os"
   ]
  },
  {
   "cell_type": "code",
   "execution_count": 4,
   "id": "adc2e253",
   "metadata": {},
   "outputs": [],
   "source": [
    "path = r'T:\\MPO\\RTP\\FY20 2045 Update\\Data and Resources\\Data\\GISData\\Updated'\n",
    "datapath = r'T:\\MPO\\RTP\\FY20 2045 Update\\Data and Resources\\Data\\ForAppendixF'"
   ]
  },
  {
   "cell_type": "code",
   "execution_count": 2,
   "id": "7d1b8c87",
   "metadata": {},
   "outputs": [],
   "source": [
    "def RTP_counted_by_intersection(shapefile='Roadway_lines',\n",
    "                                folder='Historic',\n",
    "                                file='NationalRegisterHistoricSitesCLMPO.shp',\n",
    "                                transit=False, ftn=False, returnID=False):\n",
    "    if transit:\n",
    "        rtp = gpd.read_file(os.path.join(datapath, 'RTP', shapefile+'.shp'))\n",
    "    else:\n",
    "        rtp = gpd.read_file(os.path.join(path, 'Constrained_'+shapefile+'.shp'))\n",
    "    # 100 feet buffer\n",
    "    rtp['buffered'] = rtp.buffer(100)\n",
    "    rtp = rtp.set_geometry('buffered')\n",
    "    rtp = rtp.to_crs(epsg=3857)\n",
    "    env = gpd.read_file(os.path.join(datapath, folder, file))\n",
    "    if env.crs != 'EPSG:3857':\n",
    "        env = env.to_crs(epsg=3857)\n",
    "    joined = gpd.tools.sjoin(rtp, env, how=\"inner\")\n",
    "    if transit:\n",
    "        if ftn:\n",
    "            joined = joined.drop_duplicates(subset=['route', 'geometry'])\n",
    "            res = joined[['route', 'geometry']].groupby(['route']).agg('count')\n",
    "        elif 'name_left' in joined.columns:\n",
    "            joined = joined.drop_duplicates(subset=['name_left', 'geometry'])\n",
    "            res = joined[['name_left', 'geometry']].groupby(['name_left']).agg('count')\n",
    "        else:\n",
    "            joined = joined.drop_duplicates(subset=['name', 'geometry'])\n",
    "            res = joined[['name', 'geometry']].groupby(['name']).agg('count')\n",
    "    else:\n",
    "        joined = joined.drop_duplicates(subset=['RTP_ID', 'geometry'])\n",
    "        if returnID:\n",
    "            res = joined[['Category', 'RTP_ID']].groupby(['Category']).agg(lambda x: set(x))\n",
    "        else:\n",
    "            res = joined[['Category', 'geometry']].groupby(['Category']).agg('count')\n",
    "    return res"
   ]
  },
  {
   "cell_type": "code",
   "execution_count": 10,
   "id": "2fcf3d4c",
   "metadata": {},
   "outputs": [],
   "source": [
    "df1=RTP_counted_by_intersection(shapefile='Roadway_lines', folder='WaterQuality', file='wetlandsCLMPO.shp')"
   ]
  },
  {
   "cell_type": "code",
   "execution_count": 11,
   "id": "40f45ae0",
   "metadata": {},
   "outputs": [],
   "source": [
    "df2=RTP_counted_by_intersection(shapefile='Roadway_points', folder='WaterQuality', file='wetlandsCLMPO.shp')"
   ]
  },
  {
   "cell_type": "code",
   "execution_count": 18,
   "id": "af33ea30",
   "metadata": {
    "scrolled": true
   },
   "outputs": [
    {
     "data": {
      "text/html": [
       "<div>\n",
       "<style scoped>\n",
       "    .dataframe tbody tr th:only-of-type {\n",
       "        vertical-align: middle;\n",
       "    }\n",
       "\n",
       "    .dataframe tbody tr th {\n",
       "        vertical-align: top;\n",
       "    }\n",
       "\n",
       "    .dataframe thead th {\n",
       "        text-align: right;\n",
       "    }\n",
       "</style>\n",
       "<table border=\"1\" class=\"dataframe\">\n",
       "  <thead>\n",
       "    <tr style=\"text-align: right;\">\n",
       "      <th></th>\n",
       "      <th>geometry</th>\n",
       "    </tr>\n",
       "    <tr>\n",
       "      <th>Category</th>\n",
       "      <th></th>\n",
       "    </tr>\n",
       "  </thead>\n",
       "  <tbody>\n",
       "    <tr>\n",
       "      <th>Added Freeway Lanes or Major Interchange Improvements</th>\n",
       "      <td>2</td>\n",
       "    </tr>\n",
       "    <tr>\n",
       "      <th>Arterial Capacity Improvements</th>\n",
       "      <td>7</td>\n",
       "    </tr>\n",
       "    <tr>\n",
       "      <th>New Arterial Link or Interchange</th>\n",
       "      <td>1</td>\n",
       "    </tr>\n",
       "    <tr>\n",
       "      <th>New Collectors</th>\n",
       "      <td>14</td>\n",
       "    </tr>\n",
       "    <tr>\n",
       "      <th>Study</th>\n",
       "      <td>9</td>\n",
       "    </tr>\n",
       "    <tr>\n",
       "      <th>Urban Standards</th>\n",
       "      <td>19</td>\n",
       "    </tr>\n",
       "  </tbody>\n",
       "</table>\n",
       "</div>"
      ],
      "text/plain": [
       "                                                    geometry\n",
       "Category                                                    \n",
       "Added Freeway Lanes or Major Interchange Improv...         2\n",
       "Arterial Capacity Improvements                             7\n",
       "New Arterial Link or Interchange                           1\n",
       "New Collectors                                            14\n",
       "Study                                                      9\n",
       "Urban Standards                                           19"
      ]
     },
     "execution_count": 18,
     "metadata": {},
     "output_type": "execute_result"
    }
   ],
   "source": [
    "df1"
   ]
  },
  {
   "cell_type": "code",
   "execution_count": 15,
   "id": "5016a9a8",
   "metadata": {},
   "outputs": [
    {
     "data": {
      "text/plain": [
       "['Added Freeway Lanes or Major Interchange Improvements',\n",
       " 'Arterial Capacity Improvements',\n",
       " 'New Arterial Link or Interchange',\n",
       " 'New Collectors',\n",
       " 'Study',\n",
       " 'Urban Standards']"
      ]
     },
     "execution_count": 15,
     "metadata": {},
     "output_type": "execute_result"
    }
   ],
   "source": [
    "list(df1.index)"
   ]
  },
  {
   "cell_type": "code",
   "execution_count": 13,
   "id": "051a0423",
   "metadata": {},
   "outputs": [
    {
     "data": {
      "text/html": [
       "<div>\n",
       "<style scoped>\n",
       "    .dataframe tbody tr th:only-of-type {\n",
       "        vertical-align: middle;\n",
       "    }\n",
       "\n",
       "    .dataframe tbody tr th {\n",
       "        vertical-align: top;\n",
       "    }\n",
       "\n",
       "    .dataframe thead th {\n",
       "        text-align: right;\n",
       "    }\n",
       "</style>\n",
       "<table border=\"1\" class=\"dataframe\">\n",
       "  <thead>\n",
       "    <tr style=\"text-align: right;\">\n",
       "      <th></th>\n",
       "      <th>geometry</th>\n",
       "    </tr>\n",
       "    <tr>\n",
       "      <th>Category</th>\n",
       "      <th></th>\n",
       "    </tr>\n",
       "  </thead>\n",
       "  <tbody>\n",
       "    <tr>\n",
       "      <th>Arterial Capacity Improvements</th>\n",
       "      <td>2</td>\n",
       "    </tr>\n",
       "  </tbody>\n",
       "</table>\n",
       "</div>"
      ],
      "text/plain": [
       "                                geometry\n",
       "Category                                \n",
       "Arterial Capacity Improvements         2"
      ]
     },
     "execution_count": 13,
     "metadata": {},
     "output_type": "execute_result"
    }
   ],
   "source": [
    "df2"
   ]
  },
  {
   "cell_type": "code",
   "execution_count": 16,
   "id": "c514ad89",
   "metadata": {},
   "outputs": [
    {
     "data": {
      "text/plain": [
       "['Arterial Capacity Improvements']"
      ]
     },
     "execution_count": 16,
     "metadata": {},
     "output_type": "execute_result"
    }
   ],
   "source": [
    "list(df2.index)"
   ]
  },
  {
   "cell_type": "code",
   "execution_count": 17,
   "id": "bc322324",
   "metadata": {},
   "outputs": [],
   "source": [
    "for ind in list(df2.index):\n",
    "    df1.loc[ind, 'geometry'] = df1.loc[ind, 'geometry'] + df2.loc[ind, 'geometry']"
   ]
  },
  {
   "cell_type": "code",
   "execution_count": 19,
   "id": "d5d25e91",
   "metadata": {},
   "outputs": [
    {
     "data": {
      "text/plain": [
       "True"
      ]
     },
     "execution_count": 19,
     "metadata": {},
     "output_type": "execute_result"
    }
   ],
   "source": [
    "df2.shape[0] != 0"
   ]
  },
  {
   "cell_type": "code",
   "execution_count": 21,
   "id": "d07346e8",
   "metadata": {},
   "outputs": [],
   "source": [
    "def combine_RTP_by_mode(mode='roadway', folder='Historic',\n",
    "                                file='NationalRegisterHistoricSitesCLMPO.shp'):\n",
    "    if mode == 'roadway':\n",
    "        df1=RTP_counted_by_intersection(shapefile='Roadway_lines', folder=folder, file=file)\n",
    "        df2=RTP_counted_by_intersection(shapefile='Roadway_points', folder=folder, file=file)\n",
    "    elif mode == 'bikeped':\n",
    "        df1=RTP_counted_by_intersection(shapefile='BikePed', folder=folder, file=file)\n",
    "        df2=RTP_counted_by_intersection(shapefile='BikePed_points', folder=folder, file=file)\n",
    "        \n",
    "    if df2.shape[0] != 0:\n",
    "        for ind in list(df2.index):\n",
    "            df1.loc[ind, 'geometry'] = df1.loc[ind, 'geometry'] + df2.loc[ind, 'geometry']\n",
    "    return df1"
   ]
  },
  {
   "cell_type": "code",
   "execution_count": 22,
   "id": "e69b4c7c",
   "metadata": {},
   "outputs": [
    {
     "data": {
      "text/html": [
       "<div>\n",
       "<style scoped>\n",
       "    .dataframe tbody tr th:only-of-type {\n",
       "        vertical-align: middle;\n",
       "    }\n",
       "\n",
       "    .dataframe tbody tr th {\n",
       "        vertical-align: top;\n",
       "    }\n",
       "\n",
       "    .dataframe thead th {\n",
       "        text-align: right;\n",
       "    }\n",
       "</style>\n",
       "<table border=\"1\" class=\"dataframe\">\n",
       "  <thead>\n",
       "    <tr style=\"text-align: right;\">\n",
       "      <th></th>\n",
       "      <th>geometry</th>\n",
       "    </tr>\n",
       "    <tr>\n",
       "      <th>Category</th>\n",
       "      <th></th>\n",
       "    </tr>\n",
       "  </thead>\n",
       "  <tbody>\n",
       "    <tr>\n",
       "      <th>Study</th>\n",
       "      <td>4</td>\n",
       "    </tr>\n",
       "    <tr>\n",
       "      <th>Transit Oriented Development Implementation</th>\n",
       "      <td>1</td>\n",
       "    </tr>\n",
       "    <tr>\n",
       "      <th>Urban Standards</th>\n",
       "      <td>1</td>\n",
       "    </tr>\n",
       "  </tbody>\n",
       "</table>\n",
       "</div>"
      ],
      "text/plain": [
       "                                             geometry\n",
       "Category                                             \n",
       "Study                                               4\n",
       "Transit Oriented Development Implementation         1\n",
       "Urban Standards                                     1"
      ]
     },
     "execution_count": 22,
     "metadata": {},
     "output_type": "execute_result"
    }
   ],
   "source": [
    "combine_RTP_by_mode()"
   ]
  },
  {
   "cell_type": "code",
   "execution_count": 54,
   "id": "be8c6ec0",
   "metadata": {},
   "outputs": [],
   "source": [
    "categories = ['Auto']*7 + ['Transit']*2 + ['Bike/Ped']*4\n",
    "\n",
    "project_types = ['Added Freeway Lanes or Major Interchange Improvements',\n",
    "                 'Arterial Capacity Improvements',\n",
    "                 'New Arterial Link or Interchange',\n",
    "                 'New Collectors',\n",
    "                 'Transit Oriented Development Implementation',\n",
    "                 'Study',\n",
    "                 'Urban Standards',\n",
    "                 'Frequent Transit Network',\n",
    "                 'Stations',\n",
    "                 'Multi-Use Paths Without Road Project',\n",
    "                 'Multi-Use Paths With Road Project',\n",
    "                 'On-Street Lanes or Routes With Road Project',\n",
    "                 'On-Street Lanes or Routes Without Road Project']"
   ]
  },
  {
   "cell_type": "code",
   "execution_count": 27,
   "id": "6b4f64f1",
   "metadata": {},
   "outputs": [],
   "source": [
    "import pandas as pd"
   ]
  },
  {
   "cell_type": "code",
   "execution_count": 29,
   "id": "3a54095e",
   "metadata": {},
   "outputs": [],
   "source": [
    "import numpy as np"
   ]
  },
  {
   "cell_type": "code",
   "execution_count": 31,
   "id": "e0b2e984",
   "metadata": {},
   "outputs": [
    {
     "data": {
      "text/plain": [
       "13"
      ]
     },
     "execution_count": 31,
     "metadata": {},
     "output_type": "execute_result"
    }
   ],
   "source": [
    "len(categories)"
   ]
  },
  {
   "cell_type": "code",
   "execution_count": 32,
   "id": "78d9788c",
   "metadata": {},
   "outputs": [
    {
     "data": {
      "text/plain": [
       "13"
      ]
     },
     "execution_count": 32,
     "metadata": {},
     "output_type": "execute_result"
    }
   ],
   "source": [
    "len(project_types)"
   ]
  },
  {
   "cell_type": "code",
   "execution_count": 37,
   "id": "cf2658fa",
   "metadata": {
    "scrolled": true
   },
   "outputs": [],
   "source": [
    "df = pd.DataFrame(data={'Project Category': categories, 'Project Type': project_types})"
   ]
  },
  {
   "cell_type": "code",
   "execution_count": 38,
   "id": "729e93de",
   "metadata": {},
   "outputs": [],
   "source": [
    "folder='Historic'\n",
    "file='NationalRegisterHistoricSitesCLMPO.shp'"
   ]
  },
  {
   "cell_type": "code",
   "execution_count": 39,
   "id": "307fafdc",
   "metadata": {},
   "outputs": [
    {
     "data": {
      "text/plain": [
       "True"
      ]
     },
     "execution_count": 39,
     "metadata": {},
     "output_type": "execute_result"
    }
   ],
   "source": [
    "'HistoricSites' in file"
   ]
  },
  {
   "cell_type": "code",
   "execution_count": 40,
   "id": "be356ac3",
   "metadata": {},
   "outputs": [],
   "source": [
    "df['Historic Sites'] = 0"
   ]
  },
  {
   "cell_type": "code",
   "execution_count": 41,
   "id": "6268abac",
   "metadata": {},
   "outputs": [
    {
     "data": {
      "text/html": [
       "<div>\n",
       "<style scoped>\n",
       "    .dataframe tbody tr th:only-of-type {\n",
       "        vertical-align: middle;\n",
       "    }\n",
       "\n",
       "    .dataframe tbody tr th {\n",
       "        vertical-align: top;\n",
       "    }\n",
       "\n",
       "    .dataframe thead th {\n",
       "        text-align: right;\n",
       "    }\n",
       "</style>\n",
       "<table border=\"1\" class=\"dataframe\">\n",
       "  <thead>\n",
       "    <tr style=\"text-align: right;\">\n",
       "      <th></th>\n",
       "      <th>Project Category</th>\n",
       "      <th>Project Type</th>\n",
       "      <th>Historic Sites</th>\n",
       "    </tr>\n",
       "  </thead>\n",
       "  <tbody>\n",
       "    <tr>\n",
       "      <th>0</th>\n",
       "      <td>Auto</td>\n",
       "      <td>Added Freeway Lanes or Major Interchange Impro...</td>\n",
       "      <td>0</td>\n",
       "    </tr>\n",
       "    <tr>\n",
       "      <th>1</th>\n",
       "      <td>Auto</td>\n",
       "      <td>Arterial Capacity Improvements</td>\n",
       "      <td>0</td>\n",
       "    </tr>\n",
       "    <tr>\n",
       "      <th>2</th>\n",
       "      <td>Auto</td>\n",
       "      <td>New Arterial Link or Interchange</td>\n",
       "      <td>0</td>\n",
       "    </tr>\n",
       "    <tr>\n",
       "      <th>3</th>\n",
       "      <td>Auto</td>\n",
       "      <td>New Collectors</td>\n",
       "      <td>0</td>\n",
       "    </tr>\n",
       "    <tr>\n",
       "      <th>4</th>\n",
       "      <td>Auto</td>\n",
       "      <td>Transit Oriented Development Implementation</td>\n",
       "      <td>0</td>\n",
       "    </tr>\n",
       "    <tr>\n",
       "      <th>5</th>\n",
       "      <td>Auto</td>\n",
       "      <td>Study</td>\n",
       "      <td>0</td>\n",
       "    </tr>\n",
       "    <tr>\n",
       "      <th>6</th>\n",
       "      <td>Auto</td>\n",
       "      <td>Urban Standards</td>\n",
       "      <td>0</td>\n",
       "    </tr>\n",
       "    <tr>\n",
       "      <th>7</th>\n",
       "      <td>Transit</td>\n",
       "      <td>Frequent Transit Network</td>\n",
       "      <td>0</td>\n",
       "    </tr>\n",
       "    <tr>\n",
       "      <th>8</th>\n",
       "      <td>Transit</td>\n",
       "      <td>Stations</td>\n",
       "      <td>0</td>\n",
       "    </tr>\n",
       "    <tr>\n",
       "      <th>9</th>\n",
       "      <td>Bike/Ped</td>\n",
       "      <td>Multi-Use Paths without Road Project</td>\n",
       "      <td>0</td>\n",
       "    </tr>\n",
       "    <tr>\n",
       "      <th>10</th>\n",
       "      <td>Bike/Ped</td>\n",
       "      <td>Multi-Use Paths with Road Project</td>\n",
       "      <td>0</td>\n",
       "    </tr>\n",
       "    <tr>\n",
       "      <th>11</th>\n",
       "      <td>Bike/Ped</td>\n",
       "      <td>On-Street Lanes or Routes with Road Project</td>\n",
       "      <td>0</td>\n",
       "    </tr>\n",
       "    <tr>\n",
       "      <th>12</th>\n",
       "      <td>Bike/Ped</td>\n",
       "      <td>On-Street Lanes or Routes without Road Project</td>\n",
       "      <td>0</td>\n",
       "    </tr>\n",
       "  </tbody>\n",
       "</table>\n",
       "</div>"
      ],
      "text/plain": [
       "   Project Category                                       Project Type  \\\n",
       "0              Auto  Added Freeway Lanes or Major Interchange Impro...   \n",
       "1              Auto                     Arterial Capacity Improvements   \n",
       "2              Auto                   New Arterial Link or Interchange   \n",
       "3              Auto                                     New Collectors   \n",
       "4              Auto        Transit Oriented Development Implementation   \n",
       "5              Auto                                              Study   \n",
       "6              Auto                                    Urban Standards   \n",
       "7           Transit                           Frequent Transit Network   \n",
       "8           Transit                                           Stations   \n",
       "9          Bike/Ped               Multi-Use Paths without Road Project   \n",
       "10         Bike/Ped                  Multi-Use Paths with Road Project   \n",
       "11         Bike/Ped        On-Street Lanes or Routes with Road Project   \n",
       "12         Bike/Ped     On-Street Lanes or Routes without Road Project   \n",
       "\n",
       "    Historic Sites  \n",
       "0                0  \n",
       "1                0  \n",
       "2                0  \n",
       "3                0  \n",
       "4                0  \n",
       "5                0  \n",
       "6                0  \n",
       "7                0  \n",
       "8                0  \n",
       "9                0  \n",
       "10               0  \n",
       "11               0  \n",
       "12               0  "
      ]
     },
     "execution_count": 41,
     "metadata": {},
     "output_type": "execute_result"
    }
   ],
   "source": [
    "df"
   ]
  },
  {
   "cell_type": "code",
   "execution_count": 42,
   "id": "c035407c",
   "metadata": {},
   "outputs": [],
   "source": [
    "rwdf = combine_RTP_by_mode(mode='roadway')"
   ]
  },
  {
   "cell_type": "code",
   "execution_count": 43,
   "id": "c1b021ee",
   "metadata": {},
   "outputs": [
    {
     "data": {
      "text/html": [
       "<div>\n",
       "<style scoped>\n",
       "    .dataframe tbody tr th:only-of-type {\n",
       "        vertical-align: middle;\n",
       "    }\n",
       "\n",
       "    .dataframe tbody tr th {\n",
       "        vertical-align: top;\n",
       "    }\n",
       "\n",
       "    .dataframe thead th {\n",
       "        text-align: right;\n",
       "    }\n",
       "</style>\n",
       "<table border=\"1\" class=\"dataframe\">\n",
       "  <thead>\n",
       "    <tr style=\"text-align: right;\">\n",
       "      <th></th>\n",
       "      <th>geometry</th>\n",
       "    </tr>\n",
       "    <tr>\n",
       "      <th>Category</th>\n",
       "      <th></th>\n",
       "    </tr>\n",
       "  </thead>\n",
       "  <tbody>\n",
       "    <tr>\n",
       "      <th>Study</th>\n",
       "      <td>4</td>\n",
       "    </tr>\n",
       "    <tr>\n",
       "      <th>Transit Oriented Development Implementation</th>\n",
       "      <td>1</td>\n",
       "    </tr>\n",
       "    <tr>\n",
       "      <th>Urban Standards</th>\n",
       "      <td>1</td>\n",
       "    </tr>\n",
       "  </tbody>\n",
       "</table>\n",
       "</div>"
      ],
      "text/plain": [
       "                                             geometry\n",
       "Category                                             \n",
       "Study                                               4\n",
       "Transit Oriented Development Implementation         1\n",
       "Urban Standards                                     1"
      ]
     },
     "execution_count": 43,
     "metadata": {},
     "output_type": "execute_result"
    }
   ],
   "source": [
    "rwdf.shape[0]"
   ]
  },
  {
   "cell_type": "code",
   "execution_count": 44,
   "id": "720586b8",
   "metadata": {},
   "outputs": [],
   "source": [
    "var = 'Historic Sites'"
   ]
  },
  {
   "cell_type": "code",
   "execution_count": 48,
   "id": "2412b7c1",
   "metadata": {},
   "outputs": [
    {
     "data": {
      "text/plain": [
       "4"
      ]
     },
     "execution_count": 48,
     "metadata": {},
     "output_type": "execute_result"
    }
   ],
   "source": [
    "rwdf.loc['Study', 'geometry']"
   ]
  },
  {
   "cell_type": "code",
   "execution_count": 49,
   "id": "e03794fd",
   "metadata": {},
   "outputs": [],
   "source": [
    "df.loc[df['Project Type'] == 'Study', var] = rwdf.loc['Study', 'geometry']"
   ]
  },
  {
   "cell_type": "code",
   "execution_count": 50,
   "id": "b600e890",
   "metadata": {},
   "outputs": [],
   "source": [
    "bpdf = combine_RTP_by_mode(mode='bikeped')"
   ]
  },
  {
   "cell_type": "code",
   "execution_count": 51,
   "id": "58c24d46",
   "metadata": {},
   "outputs": [
    {
     "data": {
      "text/html": [
       "<div>\n",
       "<style scoped>\n",
       "    .dataframe tbody tr th:only-of-type {\n",
       "        vertical-align: middle;\n",
       "    }\n",
       "\n",
       "    .dataframe tbody tr th {\n",
       "        vertical-align: top;\n",
       "    }\n",
       "\n",
       "    .dataframe thead th {\n",
       "        text-align: right;\n",
       "    }\n",
       "</style>\n",
       "<table border=\"1\" class=\"dataframe\">\n",
       "  <thead>\n",
       "    <tr style=\"text-align: right;\">\n",
       "      <th></th>\n",
       "      <th>geometry</th>\n",
       "    </tr>\n",
       "    <tr>\n",
       "      <th>Category</th>\n",
       "      <th></th>\n",
       "    </tr>\n",
       "  </thead>\n",
       "  <tbody>\n",
       "    <tr>\n",
       "      <th>On-Street Lanes or Routes With Road Project</th>\n",
       "      <td>1</td>\n",
       "    </tr>\n",
       "    <tr>\n",
       "      <th>On-Street Lanes or Routes Without Road Project</th>\n",
       "      <td>6</td>\n",
       "    </tr>\n",
       "  </tbody>\n",
       "</table>\n",
       "</div>"
      ],
      "text/plain": [
       "                                                geometry\n",
       "Category                                                \n",
       "On-Street Lanes or Routes With Road Project            1\n",
       "On-Street Lanes or Routes Without Road Project         6"
      ]
     },
     "execution_count": 51,
     "metadata": {},
     "output_type": "execute_result"
    }
   ],
   "source": [
    "bpdf"
   ]
  },
  {
   "cell_type": "code",
   "execution_count": 56,
   "id": "146a3d9a",
   "metadata": {},
   "outputs": [],
   "source": [
    "def combine_RTP_for_each_env_factor(keyword = 'HistoricSites',\n",
    "                                    varnm = 'Historic Sites',\n",
    "                                    folder='Historic',\n",
    "                                    file='NationalRegisterHistoricSitesCLMPO.shp'):\n",
    "    df = pd.DataFrame(data={'Project Category': categories, 'Project Type': project_types})\n",
    "    if keyword in file:\n",
    "        var = varnm\n",
    "    df[var] = 0\n",
    "    # rwdf: roadway dataframe\n",
    "    rwdf = combine_RTP_by_mode(mode='roadway', folder=folder, file=file)\n",
    "    if rwdf.shape[0] != 0:\n",
    "        for ind in list(rwdf.index):\n",
    "            df.loc[df['Project Type'] == ind, var] = rwdf.loc[ind, 'geometry']\n",
    "    # bpdf: bike/ped dataframe\n",
    "    bpdf = combine_RTP_by_mode(mode='bikeped', folder=folder, file=file)\n",
    "    if bpdf.shape[0] != 0:\n",
    "        for ind in list(bpdf.index):\n",
    "            df.loc[df['Project Type'] == ind, var] = bpdf.loc[ind, 'geometry']\n",
    "    # ftndf: frequent transit network dataframe\n",
    "    ftndf = RTP_counted_by_intersection(shapefile='FrequentTransitNetwork', \n",
    "                                        folder=folder, file=file,\n",
    "                                        transit=True, ftn=True)\n",
    "    df.loc[df['Project Type'] == 'Frequent Transit Network', var] = ftndf.shape[0]\n",
    "    # stadf: stations dataframe\n",
    "    stadf = RTP_counted_by_intersection(shapefile='stations',\n",
    "                                        folder=folder, file=file, transit=True)\n",
    "    df.loc[df['Project Type'] == 'Stations', var] = stadf.shape[0]\n",
    "    return df"
   ]
  },
  {
   "cell_type": "code",
   "execution_count": 57,
   "id": "15cfaf9d",
   "metadata": {},
   "outputs": [
    {
     "data": {
      "text/html": [
       "<div>\n",
       "<style scoped>\n",
       "    .dataframe tbody tr th:only-of-type {\n",
       "        vertical-align: middle;\n",
       "    }\n",
       "\n",
       "    .dataframe tbody tr th {\n",
       "        vertical-align: top;\n",
       "    }\n",
       "\n",
       "    .dataframe thead th {\n",
       "        text-align: right;\n",
       "    }\n",
       "</style>\n",
       "<table border=\"1\" class=\"dataframe\">\n",
       "  <thead>\n",
       "    <tr style=\"text-align: right;\">\n",
       "      <th></th>\n",
       "      <th>Project Category</th>\n",
       "      <th>Project Type</th>\n",
       "      <th>Historic Sites</th>\n",
       "    </tr>\n",
       "  </thead>\n",
       "  <tbody>\n",
       "    <tr>\n",
       "      <th>0</th>\n",
       "      <td>Auto</td>\n",
       "      <td>Added Freeway Lanes or Major Interchange Impro...</td>\n",
       "      <td>0</td>\n",
       "    </tr>\n",
       "    <tr>\n",
       "      <th>1</th>\n",
       "      <td>Auto</td>\n",
       "      <td>Arterial Capacity Improvements</td>\n",
       "      <td>0</td>\n",
       "    </tr>\n",
       "    <tr>\n",
       "      <th>2</th>\n",
       "      <td>Auto</td>\n",
       "      <td>New Arterial Link or Interchange</td>\n",
       "      <td>0</td>\n",
       "    </tr>\n",
       "    <tr>\n",
       "      <th>3</th>\n",
       "      <td>Auto</td>\n",
       "      <td>New Collectors</td>\n",
       "      <td>0</td>\n",
       "    </tr>\n",
       "    <tr>\n",
       "      <th>4</th>\n",
       "      <td>Auto</td>\n",
       "      <td>Transit Oriented Development Implementation</td>\n",
       "      <td>1</td>\n",
       "    </tr>\n",
       "    <tr>\n",
       "      <th>5</th>\n",
       "      <td>Auto</td>\n",
       "      <td>Study</td>\n",
       "      <td>4</td>\n",
       "    </tr>\n",
       "    <tr>\n",
       "      <th>6</th>\n",
       "      <td>Auto</td>\n",
       "      <td>Urban Standards</td>\n",
       "      <td>1</td>\n",
       "    </tr>\n",
       "    <tr>\n",
       "      <th>7</th>\n",
       "      <td>Transit</td>\n",
       "      <td>Frequent Transit Network</td>\n",
       "      <td>24</td>\n",
       "    </tr>\n",
       "    <tr>\n",
       "      <th>8</th>\n",
       "      <td>Transit</td>\n",
       "      <td>Stations</td>\n",
       "      <td>1</td>\n",
       "    </tr>\n",
       "    <tr>\n",
       "      <th>9</th>\n",
       "      <td>Bike/Ped</td>\n",
       "      <td>Multi-Use Paths Without Road Project</td>\n",
       "      <td>0</td>\n",
       "    </tr>\n",
       "    <tr>\n",
       "      <th>10</th>\n",
       "      <td>Bike/Ped</td>\n",
       "      <td>Multi-Use Paths With Road Project</td>\n",
       "      <td>0</td>\n",
       "    </tr>\n",
       "    <tr>\n",
       "      <th>11</th>\n",
       "      <td>Bike/Ped</td>\n",
       "      <td>On-Street Lanes or Routes With Road Project</td>\n",
       "      <td>1</td>\n",
       "    </tr>\n",
       "    <tr>\n",
       "      <th>12</th>\n",
       "      <td>Bike/Ped</td>\n",
       "      <td>On-Street Lanes or Routes Without Road Project</td>\n",
       "      <td>6</td>\n",
       "    </tr>\n",
       "  </tbody>\n",
       "</table>\n",
       "</div>"
      ],
      "text/plain": [
       "   Project Category                                       Project Type  \\\n",
       "0              Auto  Added Freeway Lanes or Major Interchange Impro...   \n",
       "1              Auto                     Arterial Capacity Improvements   \n",
       "2              Auto                   New Arterial Link or Interchange   \n",
       "3              Auto                                     New Collectors   \n",
       "4              Auto        Transit Oriented Development Implementation   \n",
       "5              Auto                                              Study   \n",
       "6              Auto                                    Urban Standards   \n",
       "7           Transit                           Frequent Transit Network   \n",
       "8           Transit                                           Stations   \n",
       "9          Bike/Ped               Multi-Use Paths Without Road Project   \n",
       "10         Bike/Ped                  Multi-Use Paths With Road Project   \n",
       "11         Bike/Ped        On-Street Lanes or Routes With Road Project   \n",
       "12         Bike/Ped     On-Street Lanes or Routes Without Road Project   \n",
       "\n",
       "    Historic Sites  \n",
       "0                0  \n",
       "1                0  \n",
       "2                0  \n",
       "3                0  \n",
       "4                1  \n",
       "5                4  \n",
       "6                1  \n",
       "7               24  \n",
       "8                1  \n",
       "9                0  \n",
       "10               0  \n",
       "11               1  \n",
       "12               6  "
      ]
     },
     "execution_count": 57,
     "metadata": {},
     "output_type": "execute_result"
    }
   ],
   "source": [
    "combine_RTP_for_each_env_factor()"
   ]
  },
  {
   "cell_type": "code",
   "execution_count": 58,
   "id": "f40bd275",
   "metadata": {},
   "outputs": [],
   "source": [
    "keywords = ['HistoricDistricts', 'HistoricSites']"
   ]
  },
  {
   "cell_type": "code",
   "execution_count": 59,
   "id": "63513c3d",
   "metadata": {},
   "outputs": [],
   "source": [
    "keyword = 'HistoricSites'"
   ]
  },
  {
   "cell_type": "code",
   "execution_count": 62,
   "id": "ee24824e",
   "metadata": {},
   "outputs": [
    {
     "data": {
      "text/plain": [
       "1"
      ]
     },
     "execution_count": 62,
     "metadata": {},
     "output_type": "execute_result"
    }
   ],
   "source": [
    "keywords.index(keyword)"
   ]
  },
  {
   "cell_type": "code",
   "execution_count": 63,
   "id": "1c971f61",
   "metadata": {},
   "outputs": [],
   "source": [
    "keywords = ['HistoricDistricts', 'HistoricSites']\n",
    "varnms = ['Historic Districts', 'Historic Sites']\n",
    "folder = 'Historic'\n",
    "files = ['NationalRegisterHistoricDistrictsCLMPO.shp','NationalRegisterHistoricSitesCLMPO.shp']"
   ]
  },
  {
   "cell_type": "code",
   "execution_count": 64,
   "id": "edccc4a0",
   "metadata": {},
   "outputs": [],
   "source": [
    "df1 = combine_RTP_for_each_env_factor(keyword = 'HistoricDistricts',\n",
    "                                     varnm = 'Historic Districts',\n",
    "                                     folder = folder,\n",
    "                                     file = 'NationalRegisterHistoricDistrictsCLMPO.shp')"
   ]
  },
  {
   "cell_type": "code",
   "execution_count": 65,
   "id": "e94f3908",
   "metadata": {},
   "outputs": [],
   "source": [
    "df2 = combine_RTP_for_each_env_factor(keyword = 'HistoricSites',\n",
    "                                     varnm = 'Historic Sites',\n",
    "                                     folder = folder,\n",
    "                                     file = 'NationalRegisterHistoricSitesCLMPO.shp')"
   ]
  },
  {
   "cell_type": "code",
   "execution_count": 69,
   "id": "23f57dd7",
   "metadata": {},
   "outputs": [],
   "source": [
    "varnm = 'Historic Sites'"
   ]
  },
  {
   "cell_type": "code",
   "execution_count": 71,
   "id": "a8ee2b05",
   "metadata": {},
   "outputs": [
    {
     "data": {
      "text/html": [
       "<div>\n",
       "<style scoped>\n",
       "    .dataframe tbody tr th:only-of-type {\n",
       "        vertical-align: middle;\n",
       "    }\n",
       "\n",
       "    .dataframe tbody tr th {\n",
       "        vertical-align: top;\n",
       "    }\n",
       "\n",
       "    .dataframe thead th {\n",
       "        text-align: right;\n",
       "    }\n",
       "</style>\n",
       "<table border=\"1\" class=\"dataframe\">\n",
       "  <thead>\n",
       "    <tr style=\"text-align: right;\">\n",
       "      <th></th>\n",
       "      <th>Historic Sites</th>\n",
       "    </tr>\n",
       "  </thead>\n",
       "  <tbody>\n",
       "    <tr>\n",
       "      <th>0</th>\n",
       "      <td>0</td>\n",
       "    </tr>\n",
       "    <tr>\n",
       "      <th>1</th>\n",
       "      <td>0</td>\n",
       "    </tr>\n",
       "    <tr>\n",
       "      <th>2</th>\n",
       "      <td>0</td>\n",
       "    </tr>\n",
       "    <tr>\n",
       "      <th>3</th>\n",
       "      <td>0</td>\n",
       "    </tr>\n",
       "    <tr>\n",
       "      <th>4</th>\n",
       "      <td>1</td>\n",
       "    </tr>\n",
       "    <tr>\n",
       "      <th>5</th>\n",
       "      <td>4</td>\n",
       "    </tr>\n",
       "    <tr>\n",
       "      <th>6</th>\n",
       "      <td>1</td>\n",
       "    </tr>\n",
       "    <tr>\n",
       "      <th>7</th>\n",
       "      <td>24</td>\n",
       "    </tr>\n",
       "    <tr>\n",
       "      <th>8</th>\n",
       "      <td>1</td>\n",
       "    </tr>\n",
       "    <tr>\n",
       "      <th>9</th>\n",
       "      <td>0</td>\n",
       "    </tr>\n",
       "    <tr>\n",
       "      <th>10</th>\n",
       "      <td>0</td>\n",
       "    </tr>\n",
       "    <tr>\n",
       "      <th>11</th>\n",
       "      <td>1</td>\n",
       "    </tr>\n",
       "    <tr>\n",
       "      <th>12</th>\n",
       "      <td>6</td>\n",
       "    </tr>\n",
       "  </tbody>\n",
       "</table>\n",
       "</div>"
      ],
      "text/plain": [
       "    Historic Sites\n",
       "0                0\n",
       "1                0\n",
       "2                0\n",
       "3                0\n",
       "4                1\n",
       "5                4\n",
       "6                1\n",
       "7               24\n",
       "8                1\n",
       "9                0\n",
       "10               0\n",
       "11               1\n",
       "12               6"
      ]
     },
     "execution_count": 71,
     "metadata": {},
     "output_type": "execute_result"
    }
   ],
   "source": [
    "df2[[varnm]]"
   ]
  },
  {
   "cell_type": "code",
   "execution_count": 72,
   "id": "450a4d5f",
   "metadata": {},
   "outputs": [
    {
     "data": {
      "text/html": [
       "<div>\n",
       "<style scoped>\n",
       "    .dataframe tbody tr th:only-of-type {\n",
       "        vertical-align: middle;\n",
       "    }\n",
       "\n",
       "    .dataframe tbody tr th {\n",
       "        vertical-align: top;\n",
       "    }\n",
       "\n",
       "    .dataframe thead th {\n",
       "        text-align: right;\n",
       "    }\n",
       "</style>\n",
       "<table border=\"1\" class=\"dataframe\">\n",
       "  <thead>\n",
       "    <tr style=\"text-align: right;\">\n",
       "      <th></th>\n",
       "      <th>Project Category</th>\n",
       "      <th>Project Type</th>\n",
       "      <th>Historic Districts</th>\n",
       "      <th>Historic Sites</th>\n",
       "    </tr>\n",
       "  </thead>\n",
       "  <tbody>\n",
       "    <tr>\n",
       "      <th>0</th>\n",
       "      <td>Auto</td>\n",
       "      <td>Added Freeway Lanes or Major Interchange Impro...</td>\n",
       "      <td>0</td>\n",
       "      <td>0</td>\n",
       "    </tr>\n",
       "    <tr>\n",
       "      <th>1</th>\n",
       "      <td>Auto</td>\n",
       "      <td>Arterial Capacity Improvements</td>\n",
       "      <td>0</td>\n",
       "      <td>0</td>\n",
       "    </tr>\n",
       "    <tr>\n",
       "      <th>2</th>\n",
       "      <td>Auto</td>\n",
       "      <td>New Arterial Link or Interchange</td>\n",
       "      <td>0</td>\n",
       "      <td>0</td>\n",
       "    </tr>\n",
       "    <tr>\n",
       "      <th>3</th>\n",
       "      <td>Auto</td>\n",
       "      <td>New Collectors</td>\n",
       "      <td>0</td>\n",
       "      <td>0</td>\n",
       "    </tr>\n",
       "    <tr>\n",
       "      <th>4</th>\n",
       "      <td>Auto</td>\n",
       "      <td>Transit Oriented Development Implementation</td>\n",
       "      <td>0</td>\n",
       "      <td>1</td>\n",
       "    </tr>\n",
       "    <tr>\n",
       "      <th>5</th>\n",
       "      <td>Auto</td>\n",
       "      <td>Study</td>\n",
       "      <td>0</td>\n",
       "      <td>4</td>\n",
       "    </tr>\n",
       "    <tr>\n",
       "      <th>6</th>\n",
       "      <td>Auto</td>\n",
       "      <td>Urban Standards</td>\n",
       "      <td>0</td>\n",
       "      <td>1</td>\n",
       "    </tr>\n",
       "    <tr>\n",
       "      <th>7</th>\n",
       "      <td>Transit</td>\n",
       "      <td>Frequent Transit Network</td>\n",
       "      <td>9</td>\n",
       "      <td>24</td>\n",
       "    </tr>\n",
       "    <tr>\n",
       "      <th>8</th>\n",
       "      <td>Transit</td>\n",
       "      <td>Stations</td>\n",
       "      <td>0</td>\n",
       "      <td>1</td>\n",
       "    </tr>\n",
       "    <tr>\n",
       "      <th>9</th>\n",
       "      <td>Bike/Ped</td>\n",
       "      <td>Multi-Use Paths Without Road Project</td>\n",
       "      <td>1</td>\n",
       "      <td>0</td>\n",
       "    </tr>\n",
       "    <tr>\n",
       "      <th>10</th>\n",
       "      <td>Bike/Ped</td>\n",
       "      <td>Multi-Use Paths With Road Project</td>\n",
       "      <td>0</td>\n",
       "      <td>0</td>\n",
       "    </tr>\n",
       "    <tr>\n",
       "      <th>11</th>\n",
       "      <td>Bike/Ped</td>\n",
       "      <td>On-Street Lanes or Routes With Road Project</td>\n",
       "      <td>0</td>\n",
       "      <td>1</td>\n",
       "    </tr>\n",
       "    <tr>\n",
       "      <th>12</th>\n",
       "      <td>Bike/Ped</td>\n",
       "      <td>On-Street Lanes or Routes Without Road Project</td>\n",
       "      <td>7</td>\n",
       "      <td>6</td>\n",
       "    </tr>\n",
       "  </tbody>\n",
       "</table>\n",
       "</div>"
      ],
      "text/plain": [
       "   Project Category                                       Project Type  \\\n",
       "0              Auto  Added Freeway Lanes or Major Interchange Impro...   \n",
       "1              Auto                     Arterial Capacity Improvements   \n",
       "2              Auto                   New Arterial Link or Interchange   \n",
       "3              Auto                                     New Collectors   \n",
       "4              Auto        Transit Oriented Development Implementation   \n",
       "5              Auto                                              Study   \n",
       "6              Auto                                    Urban Standards   \n",
       "7           Transit                           Frequent Transit Network   \n",
       "8           Transit                                           Stations   \n",
       "9          Bike/Ped               Multi-Use Paths Without Road Project   \n",
       "10         Bike/Ped                  Multi-Use Paths With Road Project   \n",
       "11         Bike/Ped        On-Street Lanes or Routes With Road Project   \n",
       "12         Bike/Ped     On-Street Lanes or Routes Without Road Project   \n",
       "\n",
       "    Historic Districts  Historic Sites  \n",
       "0                    0               0  \n",
       "1                    0               0  \n",
       "2                    0               0  \n",
       "3                    0               0  \n",
       "4                    0               1  \n",
       "5                    0               4  \n",
       "6                    0               1  \n",
       "7                    9              24  \n",
       "8                    0               1  \n",
       "9                    1               0  \n",
       "10                   0               0  \n",
       "11                   0               1  \n",
       "12                   7               6  "
      ]
     },
     "execution_count": 72,
     "metadata": {},
     "output_type": "execute_result"
    }
   ],
   "source": [
    "pd.concat([df1, df2[[varnm]]], axis=1)"
   ]
  },
  {
   "cell_type": "code",
   "execution_count": 73,
   "id": "ee52f79a",
   "metadata": {},
   "outputs": [],
   "source": [
    "def combine_RTP_for_each_env_category(keywords = ['HistoricDistricts', 'HistoricSites'],\n",
    "                                      varnms = ['Historic Districts', 'Historic Sites'],\n",
    "                                      folder = 'Historic',\n",
    "                                      files = ['NationalRegisterHistoricDistrictsCLMPO.shp',\n",
    "                                               'NationalRegisterHistoricSitesCLMPO.shp']):\n",
    "    for keyword in keywords:\n",
    "        k = keywords.index(keyword)\n",
    "        df = combine_RTP_for_each_env_factor(keyword = keyword,\n",
    "                                             varnm = varnms[k],\n",
    "                                             folder = folder,\n",
    "                                             file = files[k])\n",
    "        if keyword == keywords[0]:\n",
    "            ndf = df\n",
    "        else:\n",
    "            ndf = pd.concat([ndf, df[[varnm]]], axis=1)\n",
    "        \n",
    "        return ndf"
   ]
  },
  {
   "cell_type": "code",
   "execution_count": 74,
   "id": "0fed542a",
   "metadata": {},
   "outputs": [
    {
     "data": {
      "text/html": [
       "<div>\n",
       "<style scoped>\n",
       "    .dataframe tbody tr th:only-of-type {\n",
       "        vertical-align: middle;\n",
       "    }\n",
       "\n",
       "    .dataframe tbody tr th {\n",
       "        vertical-align: top;\n",
       "    }\n",
       "\n",
       "    .dataframe thead th {\n",
       "        text-align: right;\n",
       "    }\n",
       "</style>\n",
       "<table border=\"1\" class=\"dataframe\">\n",
       "  <thead>\n",
       "    <tr style=\"text-align: right;\">\n",
       "      <th></th>\n",
       "      <th>Project Category</th>\n",
       "      <th>Project Type</th>\n",
       "      <th>Historic Districts</th>\n",
       "    </tr>\n",
       "  </thead>\n",
       "  <tbody>\n",
       "    <tr>\n",
       "      <th>0</th>\n",
       "      <td>Auto</td>\n",
       "      <td>Added Freeway Lanes or Major Interchange Impro...</td>\n",
       "      <td>0</td>\n",
       "    </tr>\n",
       "    <tr>\n",
       "      <th>1</th>\n",
       "      <td>Auto</td>\n",
       "      <td>Arterial Capacity Improvements</td>\n",
       "      <td>0</td>\n",
       "    </tr>\n",
       "    <tr>\n",
       "      <th>2</th>\n",
       "      <td>Auto</td>\n",
       "      <td>New Arterial Link or Interchange</td>\n",
       "      <td>0</td>\n",
       "    </tr>\n",
       "    <tr>\n",
       "      <th>3</th>\n",
       "      <td>Auto</td>\n",
       "      <td>New Collectors</td>\n",
       "      <td>0</td>\n",
       "    </tr>\n",
       "    <tr>\n",
       "      <th>4</th>\n",
       "      <td>Auto</td>\n",
       "      <td>Transit Oriented Development Implementation</td>\n",
       "      <td>0</td>\n",
       "    </tr>\n",
       "    <tr>\n",
       "      <th>5</th>\n",
       "      <td>Auto</td>\n",
       "      <td>Study</td>\n",
       "      <td>0</td>\n",
       "    </tr>\n",
       "    <tr>\n",
       "      <th>6</th>\n",
       "      <td>Auto</td>\n",
       "      <td>Urban Standards</td>\n",
       "      <td>0</td>\n",
       "    </tr>\n",
       "    <tr>\n",
       "      <th>7</th>\n",
       "      <td>Transit</td>\n",
       "      <td>Frequent Transit Network</td>\n",
       "      <td>9</td>\n",
       "    </tr>\n",
       "    <tr>\n",
       "      <th>8</th>\n",
       "      <td>Transit</td>\n",
       "      <td>Stations</td>\n",
       "      <td>0</td>\n",
       "    </tr>\n",
       "    <tr>\n",
       "      <th>9</th>\n",
       "      <td>Bike/Ped</td>\n",
       "      <td>Multi-Use Paths Without Road Project</td>\n",
       "      <td>1</td>\n",
       "    </tr>\n",
       "    <tr>\n",
       "      <th>10</th>\n",
       "      <td>Bike/Ped</td>\n",
       "      <td>Multi-Use Paths With Road Project</td>\n",
       "      <td>0</td>\n",
       "    </tr>\n",
       "    <tr>\n",
       "      <th>11</th>\n",
       "      <td>Bike/Ped</td>\n",
       "      <td>On-Street Lanes or Routes With Road Project</td>\n",
       "      <td>0</td>\n",
       "    </tr>\n",
       "    <tr>\n",
       "      <th>12</th>\n",
       "      <td>Bike/Ped</td>\n",
       "      <td>On-Street Lanes or Routes Without Road Project</td>\n",
       "      <td>7</td>\n",
       "    </tr>\n",
       "  </tbody>\n",
       "</table>\n",
       "</div>"
      ],
      "text/plain": [
       "   Project Category                                       Project Type  \\\n",
       "0              Auto  Added Freeway Lanes or Major Interchange Impro...   \n",
       "1              Auto                     Arterial Capacity Improvements   \n",
       "2              Auto                   New Arterial Link or Interchange   \n",
       "3              Auto                                     New Collectors   \n",
       "4              Auto        Transit Oriented Development Implementation   \n",
       "5              Auto                                              Study   \n",
       "6              Auto                                    Urban Standards   \n",
       "7           Transit                           Frequent Transit Network   \n",
       "8           Transit                                           Stations   \n",
       "9          Bike/Ped               Multi-Use Paths Without Road Project   \n",
       "10         Bike/Ped                  Multi-Use Paths With Road Project   \n",
       "11         Bike/Ped        On-Street Lanes or Routes With Road Project   \n",
       "12         Bike/Ped     On-Street Lanes or Routes Without Road Project   \n",
       "\n",
       "    Historic Districts  \n",
       "0                    0  \n",
       "1                    0  \n",
       "2                    0  \n",
       "3                    0  \n",
       "4                    0  \n",
       "5                    0  \n",
       "6                    0  \n",
       "7                    9  \n",
       "8                    0  \n",
       "9                    1  \n",
       "10                   0  \n",
       "11                   0  \n",
       "12                   7  "
      ]
     },
     "execution_count": 74,
     "metadata": {},
     "output_type": "execute_result"
    }
   ],
   "source": [
    "combine_RTP_for_each_env_category()"
   ]
  }
 ],
 "metadata": {
  "kernelspec": {
   "display_name": "Python 3",
   "language": "python",
   "name": "python3"
  },
  "language_info": {
   "codemirror_mode": {
    "name": "ipython",
    "version": 3
   },
   "file_extension": ".py",
   "mimetype": "text/x-python",
   "name": "python",
   "nbconvert_exporter": "python",
   "pygments_lexer": "ipython3",
   "version": "3.8.8"
  }
 },
 "nbformat": 4,
 "nbformat_minor": 5
}

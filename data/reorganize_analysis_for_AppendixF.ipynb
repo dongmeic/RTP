{
 "cells": [
  {
   "cell_type": "code",
   "execution_count": 1,
   "id": "c087e43e",
   "metadata": {},
   "outputs": [],
   "source": [
    "import geopandas as gpd\n",
    "import os"
   ]
  },
  {
   "cell_type": "code",
   "execution_count": 4,
   "id": "3b3c34a1",
   "metadata": {},
   "outputs": [],
   "source": [
    "path = r'T:\\MPO\\RTP\\FY20 2045 Update\\Data and Resources\\Data\\GISData\\Updated'\n",
    "datapath = r'T:\\MPO\\RTP\\FY20 2045 Update\\Data and Resources\\Data\\ForAppendixF'"
   ]
  },
  {
   "cell_type": "code",
   "execution_count": 2,
   "id": "b800690a",
   "metadata": {},
   "outputs": [],
   "source": [
    "def RTP_counted_by_intersection(shapefile='Roadway_lines',\n",
    "                                folder='Historic',\n",
    "                                file='NationalRegisterHistoricSitesCLMPO.shp',\n",
    "                                transit=False, ftn=False, returnID=False):\n",
    "    if transit:\n",
    "        rtp = gpd.read_file(os.path.join(datapath, 'RTP', shapefile+'.shp'))\n",
    "    else:\n",
    "        rtp = gpd.read_file(os.path.join(path, 'Constrained_'+shapefile+'.shp'))\n",
    "    # 100 feet buffer\n",
    "    rtp['buffered'] = rtp.buffer(100)\n",
    "    rtp = rtp.set_geometry('buffered')\n",
    "    rtp = rtp.to_crs(epsg=3857)\n",
    "    env = gpd.read_file(os.path.join(datapath, folder, file))\n",
    "    if env.crs != 'EPSG:3857':\n",
    "        env = env.to_crs(epsg=3857)\n",
    "    joined = gpd.tools.sjoin(rtp, env, how=\"inner\")\n",
    "    if transit:\n",
    "        if ftn:\n",
    "            joined = joined.drop_duplicates(subset=['route', 'geometry'])\n",
    "            res = joined[['route', 'geometry']].groupby(['route']).agg('count')\n",
    "        elif 'name_left' in joined.columns:\n",
    "            joined = joined.drop_duplicates(subset=['name_left', 'geometry'])\n",
    "            res = joined[['name_left', 'geometry']].groupby(['name_left']).agg('count')\n",
    "        else:\n",
    "            joined = joined.drop_duplicates(subset=['name', 'geometry'])\n",
    "            res = joined[['name', 'geometry']].groupby(['name']).agg('count')\n",
    "    else:\n",
    "        joined = joined.drop_duplicates(subset=['RTP_ID', 'geometry'])\n",
    "        if returnID:\n",
    "            res = joined[['Category', 'RTP_ID']].groupby(['Category']).agg(lambda x: set(x))\n",
    "        else:\n",
    "            res = joined[['Category', 'geometry']].groupby(['Category']).agg('count')\n",
    "    return res"
   ]
  },
  {
   "cell_type": "code",
   "execution_count": 10,
   "id": "da6fe405",
   "metadata": {},
   "outputs": [],
   "source": [
    "df1=RTP_counted_by_intersection(shapefile='Roadway_lines', folder='WaterQuality', file='wetlandsCLMPO.shp')"
   ]
  },
  {
   "cell_type": "code",
   "execution_count": 11,
   "id": "0e414753",
   "metadata": {},
   "outputs": [],
   "source": [
    "df2=RTP_counted_by_intersection(shapefile='Roadway_points', folder='WaterQuality', file='wetlandsCLMPO.shp')"
   ]
  },
  {
   "cell_type": "code",
   "execution_count": 18,
   "id": "b182cc95",
   "metadata": {
    "scrolled": true
   },
   "outputs": [
    {
     "data": {
      "text/html": [
       "<div>\n",
       "<style scoped>\n",
       "    .dataframe tbody tr th:only-of-type {\n",
       "        vertical-align: middle;\n",
       "    }\n",
       "\n",
       "    .dataframe tbody tr th {\n",
       "        vertical-align: top;\n",
       "    }\n",
       "\n",
       "    .dataframe thead th {\n",
       "        text-align: right;\n",
       "    }\n",
       "</style>\n",
       "<table border=\"1\" class=\"dataframe\">\n",
       "  <thead>\n",
       "    <tr style=\"text-align: right;\">\n",
       "      <th></th>\n",
       "      <th>geometry</th>\n",
       "    </tr>\n",
       "    <tr>\n",
       "      <th>Category</th>\n",
       "      <th></th>\n",
       "    </tr>\n",
       "  </thead>\n",
       "  <tbody>\n",
       "    <tr>\n",
       "      <th>Added Freeway Lanes or Major Interchange Improvements</th>\n",
       "      <td>2</td>\n",
       "    </tr>\n",
       "    <tr>\n",
       "      <th>Arterial Capacity Improvements</th>\n",
       "      <td>7</td>\n",
       "    </tr>\n",
       "    <tr>\n",
       "      <th>New Arterial Link or Interchange</th>\n",
       "      <td>1</td>\n",
       "    </tr>\n",
       "    <tr>\n",
       "      <th>New Collectors</th>\n",
       "      <td>14</td>\n",
       "    </tr>\n",
       "    <tr>\n",
       "      <th>Study</th>\n",
       "      <td>9</td>\n",
       "    </tr>\n",
       "    <tr>\n",
       "      <th>Urban Standards</th>\n",
       "      <td>19</td>\n",
       "    </tr>\n",
       "  </tbody>\n",
       "</table>\n",
       "</div>"
      ],
      "text/plain": [
       "                                                    geometry\n",
       "Category                                                    \n",
       "Added Freeway Lanes or Major Interchange Improv...         2\n",
       "Arterial Capacity Improvements                             7\n",
       "New Arterial Link or Interchange                           1\n",
       "New Collectors                                            14\n",
       "Study                                                      9\n",
       "Urban Standards                                           19"
      ]
     },
     "execution_count": 18,
     "metadata": {},
     "output_type": "execute_result"
    }
   ],
   "source": [
    "df1"
   ]
  },
  {
   "cell_type": "code",
   "execution_count": 15,
   "id": "88d63baa",
   "metadata": {},
   "outputs": [
    {
     "data": {
      "text/plain": [
       "['Added Freeway Lanes or Major Interchange Improvements',\n",
       " 'Arterial Capacity Improvements',\n",
       " 'New Arterial Link or Interchange',\n",
       " 'New Collectors',\n",
       " 'Study',\n",
       " 'Urban Standards']"
      ]
     },
     "execution_count": 15,
     "metadata": {},
     "output_type": "execute_result"
    }
   ],
   "source": [
    "list(df1.index)"
   ]
  },
  {
   "cell_type": "code",
   "execution_count": 13,
   "id": "9945db4d",
   "metadata": {},
   "outputs": [
    {
     "data": {
      "text/html": [
       "<div>\n",
       "<style scoped>\n",
       "    .dataframe tbody tr th:only-of-type {\n",
       "        vertical-align: middle;\n",
       "    }\n",
       "\n",
       "    .dataframe tbody tr th {\n",
       "        vertical-align: top;\n",
       "    }\n",
       "\n",
       "    .dataframe thead th {\n",
       "        text-align: right;\n",
       "    }\n",
       "</style>\n",
       "<table border=\"1\" class=\"dataframe\">\n",
       "  <thead>\n",
       "    <tr style=\"text-align: right;\">\n",
       "      <th></th>\n",
       "      <th>geometry</th>\n",
       "    </tr>\n",
       "    <tr>\n",
       "      <th>Category</th>\n",
       "      <th></th>\n",
       "    </tr>\n",
       "  </thead>\n",
       "  <tbody>\n",
       "    <tr>\n",
       "      <th>Arterial Capacity Improvements</th>\n",
       "      <td>2</td>\n",
       "    </tr>\n",
       "  </tbody>\n",
       "</table>\n",
       "</div>"
      ],
      "text/plain": [
       "                                geometry\n",
       "Category                                \n",
       "Arterial Capacity Improvements         2"
      ]
     },
     "execution_count": 13,
     "metadata": {},
     "output_type": "execute_result"
    }
   ],
   "source": [
    "df2"
   ]
  },
  {
   "cell_type": "code",
   "execution_count": 16,
   "id": "bf8f4016",
   "metadata": {},
   "outputs": [
    {
     "data": {
      "text/plain": [
       "['Arterial Capacity Improvements']"
      ]
     },
     "execution_count": 16,
     "metadata": {},
     "output_type": "execute_result"
    }
   ],
   "source": [
    "list(df2.index)"
   ]
  },
  {
   "cell_type": "code",
   "execution_count": 17,
   "id": "d5187bf3",
   "metadata": {},
   "outputs": [],
   "source": [
    "for ind in list(df2.index):\n",
    "    df1.loc[ind, 'geometry'] = df1.loc[ind, 'geometry'] + df2.loc[ind, 'geometry']"
   ]
  },
  {
   "cell_type": "code",
   "execution_count": 19,
   "id": "4d094b48",
   "metadata": {},
   "outputs": [
    {
     "data": {
      "text/plain": [
       "True"
      ]
     },
     "execution_count": 19,
     "metadata": {},
     "output_type": "execute_result"
    }
   ],
   "source": [
    "df2.shape[0] != 0"
   ]
  },
  {
   "cell_type": "code",
   "execution_count": 21,
   "id": "6644770e",
   "metadata": {},
   "outputs": [],
   "source": [
    "def combine_RTP_by_mode(mode='roadway', folder='Historic',\n",
    "                                file='NationalRegisterHistoricSitesCLMPO.shp'):\n",
    "    if mode == 'roadway':\n",
    "        df1=RTP_counted_by_intersection(shapefile='Roadway_lines', folder=folder, file=file)\n",
    "        df2=RTP_counted_by_intersection(shapefile='Roadway_points', folder=folder, file=file)\n",
    "    elif mode == 'bikeped':\n",
    "        df1=RTP_counted_by_intersection(shapefile='BikePed', folder=folder, file=file)\n",
    "        df2=RTP_counted_by_intersection(shapefile='BikePed_points', folder=folder, file=file)\n",
    "        \n",
    "    if df2.shape[0] != 0:\n",
    "        for ind in list(df2.index):\n",
    "            df1.loc[ind, 'geometry'] = df1.loc[ind, 'geometry'] + df2.loc[ind, 'geometry']\n",
    "    return df1"
   ]
  },
  {
   "cell_type": "code",
   "execution_count": 22,
   "id": "9d505ed6",
   "metadata": {},
   "outputs": [
    {
     "data": {
      "text/html": [
       "<div>\n",
       "<style scoped>\n",
       "    .dataframe tbody tr th:only-of-type {\n",
       "        vertical-align: middle;\n",
       "    }\n",
       "\n",
       "    .dataframe tbody tr th {\n",
       "        vertical-align: top;\n",
       "    }\n",
       "\n",
       "    .dataframe thead th {\n",
       "        text-align: right;\n",
       "    }\n",
       "</style>\n",
       "<table border=\"1\" class=\"dataframe\">\n",
       "  <thead>\n",
       "    <tr style=\"text-align: right;\">\n",
       "      <th></th>\n",
       "      <th>geometry</th>\n",
       "    </tr>\n",
       "    <tr>\n",
       "      <th>Category</th>\n",
       "      <th></th>\n",
       "    </tr>\n",
       "  </thead>\n",
       "  <tbody>\n",
       "    <tr>\n",
       "      <th>Study</th>\n",
       "      <td>4</td>\n",
       "    </tr>\n",
       "    <tr>\n",
       "      <th>Transit Oriented Development Implementation</th>\n",
       "      <td>1</td>\n",
       "    </tr>\n",
       "    <tr>\n",
       "      <th>Urban Standards</th>\n",
       "      <td>1</td>\n",
       "    </tr>\n",
       "  </tbody>\n",
       "</table>\n",
       "</div>"
      ],
      "text/plain": [
       "                                             geometry\n",
       "Category                                             \n",
       "Study                                               4\n",
       "Transit Oriented Development Implementation         1\n",
       "Urban Standards                                     1"
      ]
     },
     "execution_count": 22,
     "metadata": {},
     "output_type": "execute_result"
    }
   ],
   "source": [
    "combine_RTP_by_mode()"
   ]
  },
  {
   "cell_type": "code",
   "execution_count": 26,
   "id": "45a33950",
   "metadata": {},
   "outputs": [],
   "source": [
    "categories = ['Auto']*7 + ['Transit']*2 + ['Bike/Ped']*4\n",
    "\n",
    "project_types = ['Added Freeway Lanes or Major Interchange Improvements',\n",
    "                 'Arterial Capacity Improvements',\n",
    "                 'New Arterial Link or Interchange',\n",
    "                 'New Collectors',\n",
    "                 'Transit Oriented Development Implementation',\n",
    "                 'Study',\n",
    "                 'Urban Standards',\n",
    "                 'Frequent Transit Network',\n",
    "                 'Stations',\n",
    "                 'Multi-Use Paths without Road Project',\n",
    "                 'Multi-Use Paths with Road Project',\n",
    "                 'On-Street Lanes or Routes with Road Project',\n",
    "                 'On-Street Lanes or Routes without Road Project']"
   ]
  },
  {
   "cell_type": "code",
   "execution_count": 27,
   "id": "21592237",
   "metadata": {},
   "outputs": [],
   "source": [
    "import pandas as pd"
   ]
  },
  {
   "cell_type": "code",
   "execution_count": 29,
   "id": "7f876a15",
   "metadata": {},
   "outputs": [],
   "source": [
    "import numpy as np"
   ]
  },
  {
   "cell_type": "code",
   "execution_count": 31,
   "id": "d1a29493",
   "metadata": {},
   "outputs": [
    {
     "data": {
      "text/plain": [
       "13"
      ]
     },
     "execution_count": 31,
     "metadata": {},
     "output_type": "execute_result"
    }
   ],
   "source": [
    "len(categories)"
   ]
  },
  {
   "cell_type": "code",
   "execution_count": 32,
   "id": "b0c83ff0",
   "metadata": {},
   "outputs": [
    {
     "data": {
      "text/plain": [
       "13"
      ]
     },
     "execution_count": 32,
     "metadata": {},
     "output_type": "execute_result"
    }
   ],
   "source": [
    "len(project_types)"
   ]
  },
  {
   "cell_type": "code",
   "execution_count": 37,
   "id": "6426d983",
   "metadata": {
    "scrolled": true
   },
   "outputs": [],
   "source": [
    "df = pd.DataFrame(data={'Project Category': categories, 'Project Type': project_types})"
   ]
  },
  {
   "cell_type": "code",
   "execution_count": 38,
   "id": "9c75a5a0",
   "metadata": {},
   "outputs": [],
   "source": [
    "folder='Historic'\n",
    "file='NationalRegisterHistoricSitesCLMPO.shp'"
   ]
  },
  {
   "cell_type": "code",
   "execution_count": 39,
   "id": "161ac817",
   "metadata": {},
   "outputs": [
    {
     "data": {
      "text/plain": [
       "True"
      ]
     },
     "execution_count": 39,
     "metadata": {},
     "output_type": "execute_result"
    }
   ],
   "source": [
    "'HistoricSites' in file"
   ]
  },
  {
   "cell_type": "code",
   "execution_count": 40,
   "id": "7a19ac55",
   "metadata": {},
   "outputs": [],
   "source": [
    "df['Historic Sites'] = 0"
   ]
  },
  {
   "cell_type": "code",
   "execution_count": 41,
   "id": "94b5f7ad",
   "metadata": {},
   "outputs": [
    {
     "data": {
      "text/html": [
       "<div>\n",
       "<style scoped>\n",
       "    .dataframe tbody tr th:only-of-type {\n",
       "        vertical-align: middle;\n",
       "    }\n",
       "\n",
       "    .dataframe tbody tr th {\n",
       "        vertical-align: top;\n",
       "    }\n",
       "\n",
       "    .dataframe thead th {\n",
       "        text-align: right;\n",
       "    }\n",
       "</style>\n",
       "<table border=\"1\" class=\"dataframe\">\n",
       "  <thead>\n",
       "    <tr style=\"text-align: right;\">\n",
       "      <th></th>\n",
       "      <th>Project Category</th>\n",
       "      <th>Project Type</th>\n",
       "      <th>Historic Sites</th>\n",
       "    </tr>\n",
       "  </thead>\n",
       "  <tbody>\n",
       "    <tr>\n",
       "      <th>0</th>\n",
       "      <td>Auto</td>\n",
       "      <td>Added Freeway Lanes or Major Interchange Impro...</td>\n",
       "      <td>0</td>\n",
       "    </tr>\n",
       "    <tr>\n",
       "      <th>1</th>\n",
       "      <td>Auto</td>\n",
       "      <td>Arterial Capacity Improvements</td>\n",
       "      <td>0</td>\n",
       "    </tr>\n",
       "    <tr>\n",
       "      <th>2</th>\n",
       "      <td>Auto</td>\n",
       "      <td>New Arterial Link or Interchange</td>\n",
       "      <td>0</td>\n",
       "    </tr>\n",
       "    <tr>\n",
       "      <th>3</th>\n",
       "      <td>Auto</td>\n",
       "      <td>New Collectors</td>\n",
       "      <td>0</td>\n",
       "    </tr>\n",
       "    <tr>\n",
       "      <th>4</th>\n",
       "      <td>Auto</td>\n",
       "      <td>Transit Oriented Development Implementation</td>\n",
       "      <td>0</td>\n",
       "    </tr>\n",
       "    <tr>\n",
       "      <th>5</th>\n",
       "      <td>Auto</td>\n",
       "      <td>Study</td>\n",
       "      <td>0</td>\n",
       "    </tr>\n",
       "    <tr>\n",
       "      <th>6</th>\n",
       "      <td>Auto</td>\n",
       "      <td>Urban Standards</td>\n",
       "      <td>0</td>\n",
       "    </tr>\n",
       "    <tr>\n",
       "      <th>7</th>\n",
       "      <td>Transit</td>\n",
       "      <td>Frequent Transit Network</td>\n",
       "      <td>0</td>\n",
       "    </tr>\n",
       "    <tr>\n",
       "      <th>8</th>\n",
       "      <td>Transit</td>\n",
       "      <td>Stations</td>\n",
       "      <td>0</td>\n",
       "    </tr>\n",
       "    <tr>\n",
       "      <th>9</th>\n",
       "      <td>Bike/Ped</td>\n",
       "      <td>Multi-Use Paths without Road Project</td>\n",
       "      <td>0</td>\n",
       "    </tr>\n",
       "    <tr>\n",
       "      <th>10</th>\n",
       "      <td>Bike/Ped</td>\n",
       "      <td>Multi-Use Paths with Road Project</td>\n",
       "      <td>0</td>\n",
       "    </tr>\n",
       "    <tr>\n",
       "      <th>11</th>\n",
       "      <td>Bike/Ped</td>\n",
       "      <td>On-Street Lanes or Routes with Road Project</td>\n",
       "      <td>0</td>\n",
       "    </tr>\n",
       "    <tr>\n",
       "      <th>12</th>\n",
       "      <td>Bike/Ped</td>\n",
       "      <td>On-Street Lanes or Routes without Road Project</td>\n",
       "      <td>0</td>\n",
       "    </tr>\n",
       "  </tbody>\n",
       "</table>\n",
       "</div>"
      ],
      "text/plain": [
       "   Project Category                                       Project Type  \\\n",
       "0              Auto  Added Freeway Lanes or Major Interchange Impro...   \n",
       "1              Auto                     Arterial Capacity Improvements   \n",
       "2              Auto                   New Arterial Link or Interchange   \n",
       "3              Auto                                     New Collectors   \n",
       "4              Auto        Transit Oriented Development Implementation   \n",
       "5              Auto                                              Study   \n",
       "6              Auto                                    Urban Standards   \n",
       "7           Transit                           Frequent Transit Network   \n",
       "8           Transit                                           Stations   \n",
       "9          Bike/Ped               Multi-Use Paths without Road Project   \n",
       "10         Bike/Ped                  Multi-Use Paths with Road Project   \n",
       "11         Bike/Ped        On-Street Lanes or Routes with Road Project   \n",
       "12         Bike/Ped     On-Street Lanes or Routes without Road Project   \n",
       "\n",
       "    Historic Sites  \n",
       "0                0  \n",
       "1                0  \n",
       "2                0  \n",
       "3                0  \n",
       "4                0  \n",
       "5                0  \n",
       "6                0  \n",
       "7                0  \n",
       "8                0  \n",
       "9                0  \n",
       "10               0  \n",
       "11               0  \n",
       "12               0  "
      ]
     },
     "execution_count": 41,
     "metadata": {},
     "output_type": "execute_result"
    }
   ],
   "source": [
    "df"
   ]
  },
  {
   "cell_type": "code",
   "execution_count": 42,
   "id": "78368dbd",
   "metadata": {},
   "outputs": [],
   "source": [
    "rwdf = combine_RTP_by_mode(mode='roadway')"
   ]
  },
  {
   "cell_type": "code",
   "execution_count": 43,
   "id": "4841eab8",
   "metadata": {},
   "outputs": [
    {
     "data": {
      "text/html": [
       "<div>\n",
       "<style scoped>\n",
       "    .dataframe tbody tr th:only-of-type {\n",
       "        vertical-align: middle;\n",
       "    }\n",
       "\n",
       "    .dataframe tbody tr th {\n",
       "        vertical-align: top;\n",
       "    }\n",
       "\n",
       "    .dataframe thead th {\n",
       "        text-align: right;\n",
       "    }\n",
       "</style>\n",
       "<table border=\"1\" class=\"dataframe\">\n",
       "  <thead>\n",
       "    <tr style=\"text-align: right;\">\n",
       "      <th></th>\n",
       "      <th>geometry</th>\n",
       "    </tr>\n",
       "    <tr>\n",
       "      <th>Category</th>\n",
       "      <th></th>\n",
       "    </tr>\n",
       "  </thead>\n",
       "  <tbody>\n",
       "    <tr>\n",
       "      <th>Study</th>\n",
       "      <td>4</td>\n",
       "    </tr>\n",
       "    <tr>\n",
       "      <th>Transit Oriented Development Implementation</th>\n",
       "      <td>1</td>\n",
       "    </tr>\n",
       "    <tr>\n",
       "      <th>Urban Standards</th>\n",
       "      <td>1</td>\n",
       "    </tr>\n",
       "  </tbody>\n",
       "</table>\n",
       "</div>"
      ],
      "text/plain": [
       "                                             geometry\n",
       "Category                                             \n",
       "Study                                               4\n",
       "Transit Oriented Development Implementation         1\n",
       "Urban Standards                                     1"
      ]
     },
     "execution_count": 43,
     "metadata": {},
     "output_type": "execute_result"
    }
   ],
   "source": [
    "rwdf.shape[0]"
   ]
  },
  {
   "cell_type": "code",
   "execution_count": 44,
   "id": "bf449787",
   "metadata": {},
   "outputs": [],
   "source": [
    "var = 'Historic Sites'"
   ]
  },
  {
   "cell_type": "code",
   "execution_count": 48,
   "id": "e6d756ec",
   "metadata": {},
   "outputs": [
    {
     "data": {
      "text/plain": [
       "4"
      ]
     },
     "execution_count": 48,
     "metadata": {},
     "output_type": "execute_result"
    }
   ],
   "source": [
    "rwdf.loc['Study', 'geometry']"
   ]
  },
  {
   "cell_type": "code",
   "execution_count": 49,
   "id": "b6480332",
   "metadata": {},
   "outputs": [],
   "source": [
    "df.loc[df['Project Type'] == 'Study', var] = rwdf.loc['Study', 'geometry']"
   ]
  },
  {
   "cell_type": "code",
   "execution_count": 50,
   "id": "efeda038",
   "metadata": {},
   "outputs": [],
   "source": [
    "bpdf = combine_RTP_by_mode(mode='bikeped')"
   ]
  },
  {
   "cell_type": "code",
   "execution_count": 51,
   "id": "d539178c",
   "metadata": {},
   "outputs": [
    {
     "data": {
      "text/html": [
       "<div>\n",
       "<style scoped>\n",
       "    .dataframe tbody tr th:only-of-type {\n",
       "        vertical-align: middle;\n",
       "    }\n",
       "\n",
       "    .dataframe tbody tr th {\n",
       "        vertical-align: top;\n",
       "    }\n",
       "\n",
       "    .dataframe thead th {\n",
       "        text-align: right;\n",
       "    }\n",
       "</style>\n",
       "<table border=\"1\" class=\"dataframe\">\n",
       "  <thead>\n",
       "    <tr style=\"text-align: right;\">\n",
       "      <th></th>\n",
       "      <th>geometry</th>\n",
       "    </tr>\n",
       "    <tr>\n",
       "      <th>Category</th>\n",
       "      <th></th>\n",
       "    </tr>\n",
       "  </thead>\n",
       "  <tbody>\n",
       "    <tr>\n",
       "      <th>On-Street Lanes or Routes With Road Project</th>\n",
       "      <td>1</td>\n",
       "    </tr>\n",
       "    <tr>\n",
       "      <th>On-Street Lanes or Routes Without Road Project</th>\n",
       "      <td>6</td>\n",
       "    </tr>\n",
       "  </tbody>\n",
       "</table>\n",
       "</div>"
      ],
      "text/plain": [
       "                                                geometry\n",
       "Category                                                \n",
       "On-Street Lanes or Routes With Road Project            1\n",
       "On-Street Lanes or Routes Without Road Project         6"
      ]
     },
     "execution_count": 51,
     "metadata": {},
     "output_type": "execute_result"
    }
   ],
   "source": [
    "bpdf"
   ]
  },
  {
   "cell_type": "code",
   "execution_count": 52,
   "id": "cdd0242f",
   "metadata": {},
   "outputs": [],
   "source": [
    "def combine_RTP_for_each_env_factor(folder='Historic',\n",
    "                                    file='NationalRegisterHistoricSitesCLMPO.shp'):\n",
    "    df = pd.DataFrame(data={'Project Category': categories, 'Project Type': project_types})\n",
    "    if 'HistoricSites' in file:\n",
    "        var = 'Historic Sites'\n",
    "    df[var] = 0\n",
    "    # rwdf: roadway dataframe\n",
    "    rwdf = combine_RTP_by_mode(mode='roadway', folder=folder, file=file)\n",
    "    if rwdf.shape[0] != 0:\n",
    "        for ind in list(rwdf.index):\n",
    "            df.loc[df['Project Type'] == ind, var] = rwdf.loc[ind, 'geometry']\n",
    "    # bpdf: bike/ped dataframe\n",
    "    bpdf = combine_RTP_by_mode(mode='bikeped', folder=folder, file=file)\n",
    "    if bpdf.shape[0] != 0:\n",
    "        for ind in list(bpdf.index):\n",
    "            df.loc[df['Project Type'] == ind, var] = bpdf.loc[ind, 'geometry']\n",
    "    # ftndf: frequent transit network dataframe\n",
    "    ftndf = RTP_counted_by_intersection(shapefile='FrequentTransitNetwork', \n",
    "                                        folder=folder, file=file,\n",
    "                                        transit=True, ftn=True)\n",
    "    df.loc[df['Project Type'] == 'Frequent Transit Network', var] = ftndf.shape[0]\n",
    "    # stadf: stations dataframe\n",
    "    stadf = RTP_counted_by_intersection(shapefile='stations',\n",
    "                                        folder=folder, file=file, transit=True)\n",
    "    df.loc[df['Project Type'] == 'Stations', var] = stadf.shape[0]\n",
    "    return df"
   ]
  },
  {
   "cell_type": "code",
   "execution_count": 53,
   "id": "52053d55",
   "metadata": {},
   "outputs": [
    {
     "data": {
      "text/html": [
       "<div>\n",
       "<style scoped>\n",
       "    .dataframe tbody tr th:only-of-type {\n",
       "        vertical-align: middle;\n",
       "    }\n",
       "\n",
       "    .dataframe tbody tr th {\n",
       "        vertical-align: top;\n",
       "    }\n",
       "\n",
       "    .dataframe thead th {\n",
       "        text-align: right;\n",
       "    }\n",
       "</style>\n",
       "<table border=\"1\" class=\"dataframe\">\n",
       "  <thead>\n",
       "    <tr style=\"text-align: right;\">\n",
       "      <th></th>\n",
       "      <th>Project Category</th>\n",
       "      <th>Project Type</th>\n",
       "      <th>Historic Sites</th>\n",
       "    </tr>\n",
       "  </thead>\n",
       "  <tbody>\n",
       "    <tr>\n",
       "      <th>0</th>\n",
       "      <td>Auto</td>\n",
       "      <td>Added Freeway Lanes or Major Interchange Impro...</td>\n",
       "      <td>0</td>\n",
       "    </tr>\n",
       "    <tr>\n",
       "      <th>1</th>\n",
       "      <td>Auto</td>\n",
       "      <td>Arterial Capacity Improvements</td>\n",
       "      <td>0</td>\n",
       "    </tr>\n",
       "    <tr>\n",
       "      <th>2</th>\n",
       "      <td>Auto</td>\n",
       "      <td>New Arterial Link or Interchange</td>\n",
       "      <td>0</td>\n",
       "    </tr>\n",
       "    <tr>\n",
       "      <th>3</th>\n",
       "      <td>Auto</td>\n",
       "      <td>New Collectors</td>\n",
       "      <td>0</td>\n",
       "    </tr>\n",
       "    <tr>\n",
       "      <th>4</th>\n",
       "      <td>Auto</td>\n",
       "      <td>Transit Oriented Development Implementation</td>\n",
       "      <td>1</td>\n",
       "    </tr>\n",
       "    <tr>\n",
       "      <th>5</th>\n",
       "      <td>Auto</td>\n",
       "      <td>Study</td>\n",
       "      <td>4</td>\n",
       "    </tr>\n",
       "    <tr>\n",
       "      <th>6</th>\n",
       "      <td>Auto</td>\n",
       "      <td>Urban Standards</td>\n",
       "      <td>1</td>\n",
       "    </tr>\n",
       "    <tr>\n",
       "      <th>7</th>\n",
       "      <td>Transit</td>\n",
       "      <td>Frequent Transit Network</td>\n",
       "      <td>24</td>\n",
       "    </tr>\n",
       "    <tr>\n",
       "      <th>8</th>\n",
       "      <td>Transit</td>\n",
       "      <td>Stations</td>\n",
       "      <td>1</td>\n",
       "    </tr>\n",
       "    <tr>\n",
       "      <th>9</th>\n",
       "      <td>Bike/Ped</td>\n",
       "      <td>Multi-Use Paths without Road Project</td>\n",
       "      <td>0</td>\n",
       "    </tr>\n",
       "    <tr>\n",
       "      <th>10</th>\n",
       "      <td>Bike/Ped</td>\n",
       "      <td>Multi-Use Paths with Road Project</td>\n",
       "      <td>0</td>\n",
       "    </tr>\n",
       "    <tr>\n",
       "      <th>11</th>\n",
       "      <td>Bike/Ped</td>\n",
       "      <td>On-Street Lanes or Routes with Road Project</td>\n",
       "      <td>0</td>\n",
       "    </tr>\n",
       "    <tr>\n",
       "      <th>12</th>\n",
       "      <td>Bike/Ped</td>\n",
       "      <td>On-Street Lanes or Routes without Road Project</td>\n",
       "      <td>0</td>\n",
       "    </tr>\n",
       "  </tbody>\n",
       "</table>\n",
       "</div>"
      ],
      "text/plain": [
       "   Project Category                                       Project Type  \\\n",
       "0              Auto  Added Freeway Lanes or Major Interchange Impro...   \n",
       "1              Auto                     Arterial Capacity Improvements   \n",
       "2              Auto                   New Arterial Link or Interchange   \n",
       "3              Auto                                     New Collectors   \n",
       "4              Auto        Transit Oriented Development Implementation   \n",
       "5              Auto                                              Study   \n",
       "6              Auto                                    Urban Standards   \n",
       "7           Transit                           Frequent Transit Network   \n",
       "8           Transit                                           Stations   \n",
       "9          Bike/Ped               Multi-Use Paths without Road Project   \n",
       "10         Bike/Ped                  Multi-Use Paths with Road Project   \n",
       "11         Bike/Ped        On-Street Lanes or Routes with Road Project   \n",
       "12         Bike/Ped     On-Street Lanes or Routes without Road Project   \n",
       "\n",
       "    Historic Sites  \n",
       "0                0  \n",
       "1                0  \n",
       "2                0  \n",
       "3                0  \n",
       "4                1  \n",
       "5                4  \n",
       "6                1  \n",
       "7               24  \n",
       "8                1  \n",
       "9                0  \n",
       "10               0  \n",
       "11               0  \n",
       "12               0  "
      ]
     },
     "execution_count": 53,
     "metadata": {},
     "output_type": "execute_result"
    }
   ],
   "source": [
    "combine_RTP_for_each_env_factor()"
   ]
  }
 ],
 "metadata": {
  "kernelspec": {
   "display_name": "Python 3",
   "language": "python",
   "name": "python3"
  },
  "language_info": {
   "codemirror_mode": {
    "name": "ipython",
    "version": 3
   },
   "file_extension": ".py",
   "mimetype": "text/x-python",
   "name": "python",
   "nbconvert_exporter": "python",
   "pygments_lexer": "ipython3",
   "version": "3.8.8"
  }
 },
 "nbformat": 4,
 "nbformat_minor": 5
}

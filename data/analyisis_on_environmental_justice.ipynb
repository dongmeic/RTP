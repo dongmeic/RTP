{
 "cells": [
  {
   "cell_type": "code",
   "execution_count": 2,
   "id": "415ee4d2",
   "metadata": {},
   "outputs": [],
   "source": [
    "import arcpy, os\n",
    "from arcpy import env"
   ]
  },
  {
   "cell_type": "code",
   "execution_count": 3,
   "id": "4bb04db4",
   "metadata": {},
   "outputs": [],
   "source": [
    "arcpy.env.overwriteOutput = True"
   ]
  },
  {
   "cell_type": "code",
   "execution_count": 4,
   "id": "616f6617",
   "metadata": {},
   "outputs": [],
   "source": [
    "path = r'T:\\MPO\\RTP\\FY20 2045 Update\\Data and Resources\\PerformanceAnalysis\\sidewalk_bikeway_trails'"
   ]
  },
  {
   "cell_type": "code",
   "execution_count": 10,
   "id": "2ec79d62",
   "metadata": {},
   "outputs": [],
   "source": [
    "fc = os.path.join(path, 'facilities_mpo.shp')"
   ]
  },
  {
   "cell_type": "code",
   "execution_count": 7,
   "id": "07b20d65",
   "metadata": {},
   "outputs": [],
   "source": [
    "env.workspace = r'T:\\MPO\\RTP\\FY20 2045 Update\\Maps\\Appendix F\\Maps4AppendixF\\Maps4AppendixF.gdb'"
   ]
  },
  {
   "cell_type": "code",
   "execution_count": 8,
   "id": "d57a1297",
   "metadata": {},
   "outputs": [],
   "source": [
    "titleVI = 'MPO_BG_TitleVI_FeatureToPoint'"
   ]
  },
  {
   "cell_type": "code",
   "execution_count": 14,
   "id": "e5dbed89",
   "metadata": {},
   "outputs": [
    {
     "data": {
      "text/html": [
       "<h2>Output</h2><table><tr><th>id</th><th>value</th></tr><tr><td>0</td><td>a Layer object</td></tr><tr><td>1</td><td>3031</td></tr></table><h2>Messages</h2>Start Time: Thursday, August 12, 2021 5:32:17 PM<br/>Succeeded at Thursday, August 12, 2021 5:32:17 PM (Elapsed Time: 0.08 seconds)<br/><style>.rendered_html td, .rendered_html th {text-align: left;}.rendered_html tbody {border: 1px solid black;}</style>"
      ],
      "text/plain": [
       "<Result 'existingBikeways'>"
      ]
     },
     "execution_count": 14,
     "metadata": {},
     "output_type": "execute_result"
    }
   ],
   "source": [
    "arcpy.MakeFeatureLayer_management(fc, 'existingBikeways')\n",
    "arcpy.SelectLayerByAttribute_management('existingBikeways', 'NEW_SELECTION', \"\\\"mode\\\" = '{}'\".format('bikeway'))"
   ]
  },
  {
   "cell_type": "code",
   "execution_count": 15,
   "id": "aacfeeb5",
   "metadata": {},
   "outputs": [
    {
     "data": {
      "text/html": [
       "<h2>Output</h2>T:\\MPO\\RTP\\FY20 2045 Update\\Maps\\Appendix F\\Maps4AppendixF\\Maps4AppendixF.gdb\\existingBikeways<h2>Messages</h2>Start Time: Thursday, August 12, 2021 5:35:33 PM<br/>Succeeded at Thursday, August 12, 2021 5:35:35 PM (Elapsed Time: 2.01 seconds)<br/><style>.rendered_html td, .rendered_html th {text-align: left;}.rendered_html tbody {border: 1px solid black;}</style>"
      ],
      "text/plain": [
       "<Result 'T:\\\\MPO\\\\RTP\\\\FY20 2045 Update\\\\Maps\\\\Appendix F\\\\Maps4AppendixF\\\\Maps4AppendixF.gdb\\\\existingBikeways'>"
      ]
     },
     "execution_count": 15,
     "metadata": {},
     "output_type": "execute_result"
    }
   ],
   "source": [
    "arcpy.CopyFeatures_management('existingBikeways', 'existingBikeways')"
   ]
  },
  {
   "cell_type": "code",
   "execution_count": 16,
   "id": "a7dac3ab",
   "metadata": {},
   "outputs": [
    {
     "data": {
      "text/html": [
       "<h2>Output</h2><table><tr><th>id</th><th>value</th></tr><tr><td>0</td><td>a Layer object</td></tr><tr><td>1</td><td>52406</td></tr></table><h2>Messages</h2>Start Time: Thursday, August 12, 2021 5:36:53 PM<br/>Succeeded at Thursday, August 12, 2021 5:36:54 PM (Elapsed Time: 0.08 seconds)<br/><style>.rendered_html td, .rendered_html th {text-align: left;}.rendered_html tbody {border: 1px solid black;}</style>"
      ],
      "text/plain": [
       "<Result 'existingSidewalks'>"
      ]
     },
     "execution_count": 16,
     "metadata": {},
     "output_type": "execute_result"
    }
   ],
   "source": [
    "arcpy.MakeFeatureLayer_management(fc, 'existingSidewalks')\n",
    "arcpy.SelectLayerByAttribute_management('existingSidewalks', 'NEW_SELECTION', \"\\\"mode\\\" = '{}'\".format('sidewalk'))"
   ]
  },
  {
   "cell_type": "code",
   "execution_count": 17,
   "id": "47619fcf",
   "metadata": {},
   "outputs": [
    {
     "data": {
      "text/html": [
       "<h2>Output</h2>T:\\MPO\\RTP\\FY20 2045 Update\\Maps\\Appendix F\\Maps4AppendixF\\Maps4AppendixF.gdb\\existingSidewalks<h2>Messages</h2>Start Time: Thursday, August 12, 2021 5:37:18 PM<br/>Succeeded at Thursday, August 12, 2021 5:37:22 PM (Elapsed Time: 4.22 seconds)<br/><style>.rendered_html td, .rendered_html th {text-align: left;}.rendered_html tbody {border: 1px solid black;}</style>"
      ],
      "text/plain": [
       "<Result 'T:\\\\MPO\\\\RTP\\\\FY20 2045 Update\\\\Maps\\\\Appendix F\\\\Maps4AppendixF\\\\Maps4AppendixF.gdb\\\\existingSidewalks'>"
      ]
     },
     "execution_count": 17,
     "metadata": {},
     "output_type": "execute_result"
    }
   ],
   "source": [
    "arcpy.CopyFeatures_management('existingSidewalks', 'existingSidewalks')"
   ]
  },
  {
   "cell_type": "code",
   "execution_count": 20,
   "id": "e92e3d0d",
   "metadata": {},
   "outputs": [
    {
     "data": {
      "text/html": [
       "<h2>Output</h2><table><tr><th>id</th><th>value</th></tr><tr><td>0</td><td>a Layer object</td></tr><tr><td>1</td><td>MPO_BG_TitleVI_FeatureToPoin4</td></tr><tr><td>2</td><td>175</td></tr></table><h2>Messages</h2>Start Time: Thursday, August 12, 2021 5:50:15 PM<br/>Succeeded at Thursday, August 12, 2021 5:50:16 PM (Elapsed Time: 0.30 seconds)<br/><style>.rendered_html td, .rendered_html th {text-align: left;}.rendered_html tbody {border: 1px solid black;}</style>"
      ],
      "text/plain": [
       "<Result 'MPO_BG_TitleVI_FeatureToPoin4'>"
      ]
     },
     "execution_count": 20,
     "metadata": {},
     "output_type": "execute_result"
    }
   ],
   "source": [
    "arcpy.SelectLayerByLocation_management(titleVI, 'WITHIN_A_DISTANCE', 'existingBikeways', '0.5 miles', 'NEW_SELECTION')"
   ]
  },
  {
   "cell_type": "code",
   "execution_count": 23,
   "id": "4ce379f0",
   "metadata": {},
   "outputs": [
    {
     "data": {
      "text/html": [
       "<h2>Output</h2>T:\\MPO\\RTP\\FY20 2045 Update\\Maps\\Appendix F\\Maps4AppendixF\\Maps4AppendixF.gdb\\TitleVIexistingBikeways<h2>Messages</h2>Start Time: Thursday, August 12, 2021 5:54:48 PM<br/>Succeeded at Thursday, August 12, 2021 5:54:50 PM (Elapsed Time: 1.96 seconds)<br/><style>.rendered_html td, .rendered_html th {text-align: left;}.rendered_html tbody {border: 1px solid black;}</style>"
      ],
      "text/plain": [
       "<Result 'T:\\\\MPO\\\\RTP\\\\FY20 2045 Update\\\\Maps\\\\Appendix F\\\\Maps4AppendixF\\\\Maps4AppendixF.gdb\\\\TitleVIexistingBikeways'>"
      ]
     },
     "execution_count": 23,
     "metadata": {},
     "output_type": "execute_result"
    }
   ],
   "source": [
    "# check the input feature from the above result\n",
    "arcpy.CopyFeatures_management('MPO_BG_TitleVI_FeatureToPoin4', 'TitleVIexistingBikeways')"
   ]
  },
  {
   "cell_type": "code",
   "execution_count": 24,
   "id": "37d948b7",
   "metadata": {},
   "outputs": [
    {
     "data": {
      "text/html": [
       "<h2>Output</h2>T:\\MPO\\RTP\\FY20 2045 Update\\Maps\\Appendix F\\Maps4AppendixF\\Maps4AppendixF.gdb\\existingBikePed<h2>Messages</h2>Start Time: Thursday, August 12, 2021 6:01:42 PM<br/>Succeeded at Thursday, August 12, 2021 6:01:46 PM (Elapsed Time: 4.64 seconds)<br/><style>.rendered_html td, .rendered_html th {text-align: left;}.rendered_html tbody {border: 1px solid black;}</style>"
      ],
      "text/plain": [
       "<Result 'T:\\\\MPO\\\\RTP\\\\FY20 2045 Update\\\\Maps\\\\Appendix F\\\\Maps4AppendixF\\\\Maps4AppendixF.gdb\\\\existingBikePed'>"
      ]
     },
     "execution_count": 24,
     "metadata": {},
     "output_type": "execute_result"
    }
   ],
   "source": [
    "arcpy.Merge_management(['existingBikeways', 'existingSidewalks'], 'existingBikePed')"
   ]
  },
  {
   "cell_type": "code",
   "execution_count": 25,
   "id": "9a055671",
   "metadata": {},
   "outputs": [
    {
     "data": {
      "text/html": [
       "<h2>Output</h2><table><tr><th>id</th><th>value</th></tr><tr><td>0</td><td>a Layer object</td></tr><tr><td>1</td><td>MPO_BG_TitleVI_FeatureToPoin7</td></tr><tr><td>2</td><td>166</td></tr></table><h2>Messages</h2>Start Time: Thursday, August 12, 2021 6:04:37 PM<br/>Succeeded at Thursday, August 12, 2021 6:04:38 PM (Elapsed Time: 0.56 seconds)<br/><style>.rendered_html td, .rendered_html th {text-align: left;}.rendered_html tbody {border: 1px solid black;}</style>"
      ],
      "text/plain": [
       "<Result 'MPO_BG_TitleVI_FeatureToPoin7'>"
      ]
     },
     "execution_count": 25,
     "metadata": {},
     "output_type": "execute_result"
    }
   ],
   "source": [
    "arcpy.SelectLayerByLocation_management(titleVI, 'WITHIN_A_DISTANCE', 'existingBikePed', '0.25 miles', 'NEW_SELECTION')"
   ]
  },
  {
   "cell_type": "code",
   "execution_count": 26,
   "id": "862bf5e6",
   "metadata": {},
   "outputs": [
    {
     "data": {
      "text/html": [
       "<h2>Output</h2>T:\\MPO\\RTP\\FY20 2045 Update\\Maps\\Appendix F\\Maps4AppendixF\\Maps4AppendixF.gdb\\TitleVIexistingBikePed<h2>Messages</h2>Start Time: Thursday, August 12, 2021 6:05:26 PM<br/>Succeeded at Thursday, August 12, 2021 6:05:27 PM (Elapsed Time: 1.52 seconds)<br/><style>.rendered_html td, .rendered_html th {text-align: left;}.rendered_html tbody {border: 1px solid black;}</style>"
      ],
      "text/plain": [
       "<Result 'T:\\\\MPO\\\\RTP\\\\FY20 2045 Update\\\\Maps\\\\Appendix F\\\\Maps4AppendixF\\\\Maps4AppendixF.gdb\\\\TitleVIexistingBikePed'>"
      ]
     },
     "execution_count": 26,
     "metadata": {},
     "output_type": "execute_result"
    }
   ],
   "source": [
    "# check the input feature from the above result\n",
    "arcpy.CopyFeatures_management('MPO_BG_TitleVI_FeatureToPoin7', 'TitleVIexistingBikePed')"
   ]
  },
  {
   "cell_type": "code",
   "execution_count": 2,
   "id": "cb59541b",
   "metadata": {},
   "outputs": [],
   "source": [
    "# run this part in a different environment\n",
    "import geopandas as gpd\n",
    "import os"
   ]
  },
  {
   "cell_type": "code",
   "execution_count": 3,
   "id": "9f30eaf0",
   "metadata": {},
   "outputs": [],
   "source": [
    "inpath = r'T:\\MPO\\RTP\\FY20 2045 Update\\Maps\\Appendix F\\Maps4AppendixF\\Maps4AppendixF.gdb'"
   ]
  },
  {
   "cell_type": "code",
   "execution_count": 18,
   "id": "9c33803e",
   "metadata": {},
   "outputs": [],
   "source": [
    "BikePed2045 = gpd.read_file(r'T:\\MPO\\RTP\\FY20 2045 Update\\Data and Resources\\Data\\GISData\\Updated\\Constrained_BikePed.shp')"
   ]
  },
  {
   "cell_type": "code",
   "execution_count": 6,
   "id": "0e7d1aaa",
   "metadata": {},
   "outputs": [
    {
     "data": {
      "text/plain": [
       "(94, 13)"
      ]
     },
     "execution_count": 6,
     "metadata": {},
     "output_type": "execute_result"
    }
   ],
   "source": [
    "BikePed2045.shape"
   ]
  },
  {
   "cell_type": "code",
   "execution_count": 26,
   "id": "af074975",
   "metadata": {},
   "outputs": [
    {
     "data": {
      "text/plain": [
       "Index(['Id', 'Category', 'Narration', 'RoughCost', 'YearRange', 'GeoLimits',\n",
       "       'JurisProjN', 'Length', 'Name', 'PrimJurisd', 'CostMax', 'CostMin',\n",
       "       'geometry'],\n",
       "      dtype='object')"
      ]
     },
     "execution_count": 26,
     "metadata": {},
     "output_type": "execute_result"
    }
   ],
   "source": [
    "BikePed2045.columns"
   ]
  },
  {
   "cell_type": "code",
   "execution_count": 25,
   "id": "e5626b15",
   "metadata": {},
   "outputs": [],
   "source": [
    "BikePed2045.rename(columns={'RTP_ID':'Id'}, inplace=True)"
   ]
  },
  {
   "cell_type": "code",
   "execution_count": 28,
   "id": "79a94b36",
   "metadata": {},
   "outputs": [],
   "source": [
    "BikePaths2045 = BikePed2045[~BikePed2045['Narration'].str.contains(\"crosswalks\")]"
   ]
  },
  {
   "cell_type": "code",
   "execution_count": 12,
   "id": "d48f5ebf",
   "metadata": {},
   "outputs": [],
   "source": [
    "BikePaths = gpd.read_file(inpath, layer='existingBikeways')"
   ]
  },
  {
   "cell_type": "code",
   "execution_count": 16,
   "id": "c368386f",
   "metadata": {},
   "outputs": [
    {
     "data": {
      "text/html": [
       "<div>\n",
       "<style scoped>\n",
       "    .dataframe tbody tr th:only-of-type {\n",
       "        vertical-align: middle;\n",
       "    }\n",
       "\n",
       "    .dataframe tbody tr th {\n",
       "        vertical-align: top;\n",
       "    }\n",
       "\n",
       "    .dataframe thead th {\n",
       "        text-align: right;\n",
       "    }\n",
       "</style>\n",
       "<table border=\"1\" class=\"dataframe\">\n",
       "  <thead>\n",
       "    <tr style=\"text-align: right;\">\n",
       "      <th></th>\n",
       "      <th>Id</th>\n",
       "      <th>mode</th>\n",
       "      <th>Shape_Length</th>\n",
       "      <th>geometry</th>\n",
       "    </tr>\n",
       "  </thead>\n",
       "  <tbody>\n",
       "    <tr>\n",
       "      <th>0</th>\n",
       "      <td>1</td>\n",
       "      <td>bikeway</td>\n",
       "      <td>327.237764</td>\n",
       "      <td>MULTILINESTRING ((-13692434.516 5474362.318, -...</td>\n",
       "    </tr>\n",
       "    <tr>\n",
       "      <th>1</th>\n",
       "      <td>2</td>\n",
       "      <td>bikeway</td>\n",
       "      <td>412.302246</td>\n",
       "      <td>MULTILINESTRING ((-13695736.452 5477500.916, -...</td>\n",
       "    </tr>\n",
       "    <tr>\n",
       "      <th>2</th>\n",
       "      <td>3</td>\n",
       "      <td>bikeway</td>\n",
       "      <td>684.602941</td>\n",
       "      <td>MULTILINESTRING ((-13695681.251 5477947.477, -...</td>\n",
       "    </tr>\n",
       "    <tr>\n",
       "      <th>3</th>\n",
       "      <td>4</td>\n",
       "      <td>bikeway</td>\n",
       "      <td>22.134867</td>\n",
       "      <td>MULTILINESTRING ((-13692366.321 5476009.686, -...</td>\n",
       "    </tr>\n",
       "    <tr>\n",
       "      <th>4</th>\n",
       "      <td>5</td>\n",
       "      <td>bikeway</td>\n",
       "      <td>526.492853</td>\n",
       "      <td>MULTILINESTRING ((-13701993.554 5464175.914, -...</td>\n",
       "    </tr>\n",
       "  </tbody>\n",
       "</table>\n",
       "</div>"
      ],
      "text/plain": [
       "   Id     mode  Shape_Length  \\\n",
       "0   1  bikeway    327.237764   \n",
       "1   2  bikeway    412.302246   \n",
       "2   3  bikeway    684.602941   \n",
       "3   4  bikeway     22.134867   \n",
       "4   5  bikeway    526.492853   \n",
       "\n",
       "                                            geometry  \n",
       "0  MULTILINESTRING ((-13692434.516 5474362.318, -...  \n",
       "1  MULTILINESTRING ((-13695736.452 5477500.916, -...  \n",
       "2  MULTILINESTRING ((-13695681.251 5477947.477, -...  \n",
       "3  MULTILINESTRING ((-13692366.321 5476009.686, -...  \n",
       "4  MULTILINESTRING ((-13701993.554 5464175.914, -...  "
      ]
     },
     "execution_count": 16,
     "metadata": {},
     "output_type": "execute_result"
    }
   ],
   "source": [
    "BikePaths.head()"
   ]
  },
  {
   "cell_type": "code",
   "execution_count": 15,
   "id": "850badf2",
   "metadata": {},
   "outputs": [],
   "source": [
    "BikePaths['Id'] = BikePaths.Id.astype(int)"
   ]
  },
  {
   "cell_type": "code",
   "execution_count": 29,
   "id": "33bb6f0f",
   "metadata": {},
   "outputs": [],
   "source": [
    "BikePaths2045 = BikePaths[['Id', 'geometry']].append(BikePaths2045[['Id', 'geometry']])"
   ]
  },
  {
   "cell_type": "code",
   "execution_count": 30,
   "id": "5a96e8bd",
   "metadata": {},
   "outputs": [],
   "source": [
    "outpath = r'T:\\MPO\\RTP\\FY20 2045 Update\\Data and Resources\\Data\\ForAppendixF\\RTP'"
   ]
  },
  {
   "cell_type": "code",
   "execution_count": 31,
   "id": "6bef93b4",
   "metadata": {},
   "outputs": [],
   "source": [
    "BikePaths2045.to_file(os.path.join(outpath, 'BikePaths2045.shp'))"
   ]
  },
  {
   "cell_type": "code",
   "execution_count": 32,
   "id": "18949c14",
   "metadata": {},
   "outputs": [],
   "source": [
    "BikePed = gpd.read_file(inpath, layer='existingBikePed')"
   ]
  },
  {
   "cell_type": "code",
   "execution_count": 34,
   "id": "275ab237",
   "metadata": {},
   "outputs": [],
   "source": [
    "BikePed2045 = BikePed[['Id', 'geometry']].append(BikePed2045[['Id', 'geometry']])"
   ]
  },
  {
   "cell_type": "code",
   "execution_count": 35,
   "id": "0943ddf4",
   "metadata": {},
   "outputs": [],
   "source": [
    "BikePed2045.to_file(os.path.join(outpath, 'BikePed2045.shp'))"
   ]
  },
  {
   "cell_type": "code",
   "execution_count": null,
   "id": "cf33a448",
   "metadata": {},
   "outputs": [],
   "source": []
  }
 ],
 "metadata": {
  "kernelspec": {
   "display_name": "Python 3",
   "language": "python",
   "name": "python3"
  },
  "language_info": {
   "codemirror_mode": {
    "name": "ipython",
    "version": 3
   },
   "file_extension": ".py",
   "mimetype": "text/x-python",
   "name": "python",
   "nbconvert_exporter": "python",
   "pygments_lexer": "ipython3",
   "version": "3.8.8"
  }
 },
 "nbformat": 4,
 "nbformat_minor": 5
}

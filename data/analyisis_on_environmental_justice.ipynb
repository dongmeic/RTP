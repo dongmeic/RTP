{
 "cells": [
  {
   "cell_type": "code",
   "execution_count": 2,
   "metadata": {},
   "outputs": [],
   "source": [
    "import arcpy, os\n",
    "from arcpy import env"
   ]
  },
  {
   "cell_type": "code",
   "execution_count": 3,
   "metadata": {},
   "outputs": [],
   "source": [
    "arcpy.env.overwriteOutput = True"
   ]
  },
  {
   "cell_type": "code",
   "execution_count": 4,
   "metadata": {},
   "outputs": [],
   "source": [
    "path = r'T:\\MPO\\RTP\\FY20 2045 Update\\Data and Resources\\PerformanceAnalysis\\sidewalk_bikeway_trails'"
   ]
  },
  {
   "cell_type": "code",
   "execution_count": 10,
   "metadata": {},
   "outputs": [],
   "source": [
    "fc = os.path.join(path, 'facilities_mpo.shp')"
   ]
  },
  {
   "cell_type": "code",
   "execution_count": 7,
   "metadata": {},
   "outputs": [],
   "source": [
    "env.workspace = r'T:\\MPO\\RTP\\FY20 2045 Update\\Maps\\Appendix F\\Maps4AppendixF\\Maps4AppendixF.gdb'"
   ]
  },
  {
   "cell_type": "code",
   "execution_count": 8,
   "metadata": {},
   "outputs": [],
   "source": [
    "titleVI = 'MPO_BG_TitleVI_FeatureToPoint'"
   ]
  },
  {
   "cell_type": "code",
   "execution_count": 14,
   "metadata": {},
   "outputs": [
    {
     "data": {
      "text/html": [
       "<h2>Output</h2><table><tr><th>id</th><th>value</th></tr><tr><td>0</td><td>a Layer object</td></tr><tr><td>1</td><td>3031</td></tr></table><h2>Messages</h2>Start Time: Thursday, August 12, 2021 5:32:17 PM<br/>Succeeded at Thursday, August 12, 2021 5:32:17 PM (Elapsed Time: 0.08 seconds)<br/><style>.rendered_html td, .rendered_html th {text-align: left;}.rendered_html tbody {border: 1px solid black;}</style>"
      ],
      "text/plain": [
       "<Result 'existingBikeways'>"
      ]
     },
     "execution_count": 14,
     "metadata": {},
     "output_type": "execute_result"
    }
   ],
   "source": [
    "arcpy.MakeFeatureLayer_management(fc, 'existingBikeways')\n",
    "arcpy.SelectLayerByAttribute_management('existingBikeways', 'NEW_SELECTION', \"\\\"mode\\\" = '{}'\".format('bikeway'))"
   ]
  },
  {
   "cell_type": "code",
   "execution_count": 15,
   "metadata": {},
   "outputs": [
    {
     "data": {
      "text/html": [
       "<h2>Output</h2>T:\\MPO\\RTP\\FY20 2045 Update\\Maps\\Appendix F\\Maps4AppendixF\\Maps4AppendixF.gdb\\existingBikeways<h2>Messages</h2>Start Time: Thursday, August 12, 2021 5:35:33 PM<br/>Succeeded at Thursday, August 12, 2021 5:35:35 PM (Elapsed Time: 2.01 seconds)<br/><style>.rendered_html td, .rendered_html th {text-align: left;}.rendered_html tbody {border: 1px solid black;}</style>"
      ],
      "text/plain": [
       "<Result 'T:\\\\MPO\\\\RTP\\\\FY20 2045 Update\\\\Maps\\\\Appendix F\\\\Maps4AppendixF\\\\Maps4AppendixF.gdb\\\\existingBikeways'>"
      ]
     },
     "execution_count": 15,
     "metadata": {},
     "output_type": "execute_result"
    }
   ],
   "source": [
    "arcpy.CopyFeatures_management('existingBikeways', 'existingBikeways')"
   ]
  },
  {
   "cell_type": "code",
   "execution_count": 16,
   "metadata": {},
   "outputs": [
    {
     "data": {
      "text/html": [
       "<h2>Output</h2><table><tr><th>id</th><th>value</th></tr><tr><td>0</td><td>a Layer object</td></tr><tr><td>1</td><td>52406</td></tr></table><h2>Messages</h2>Start Time: Thursday, August 12, 2021 5:36:53 PM<br/>Succeeded at Thursday, August 12, 2021 5:36:54 PM (Elapsed Time: 0.08 seconds)<br/><style>.rendered_html td, .rendered_html th {text-align: left;}.rendered_html tbody {border: 1px solid black;}</style>"
      ],
      "text/plain": [
       "<Result 'existingSidewalks'>"
      ]
     },
     "execution_count": 16,
     "metadata": {},
     "output_type": "execute_result"
    }
   ],
   "source": [
    "arcpy.MakeFeatureLayer_management(fc, 'existingSidewalks')\n",
    "arcpy.SelectLayerByAttribute_management('existingSidewalks', 'NEW_SELECTION', \"\\\"mode\\\" = '{}'\".format('sidewalk'))"
   ]
  },
  {
   "cell_type": "code",
   "execution_count": 17,
   "metadata": {},
   "outputs": [
    {
     "data": {
      "text/html": [
       "<h2>Output</h2>T:\\MPO\\RTP\\FY20 2045 Update\\Maps\\Appendix F\\Maps4AppendixF\\Maps4AppendixF.gdb\\existingSidewalks<h2>Messages</h2>Start Time: Thursday, August 12, 2021 5:37:18 PM<br/>Succeeded at Thursday, August 12, 2021 5:37:22 PM (Elapsed Time: 4.22 seconds)<br/><style>.rendered_html td, .rendered_html th {text-align: left;}.rendered_html tbody {border: 1px solid black;}</style>"
      ],
      "text/plain": [
       "<Result 'T:\\\\MPO\\\\RTP\\\\FY20 2045 Update\\\\Maps\\\\Appendix F\\\\Maps4AppendixF\\\\Maps4AppendixF.gdb\\\\existingSidewalks'>"
      ]
     },
     "execution_count": 17,
     "metadata": {},
     "output_type": "execute_result"
    }
   ],
   "source": [
    "arcpy.CopyFeatures_management('existingSidewalks', 'existingSidewalks')"
   ]
  },
  {
   "cell_type": "code",
   "execution_count": 20,
   "metadata": {},
   "outputs": [
    {
     "data": {
      "text/html": [
       "<h2>Output</h2><table><tr><th>id</th><th>value</th></tr><tr><td>0</td><td>a Layer object</td></tr><tr><td>1</td><td>MPO_BG_TitleVI_FeatureToPoin4</td></tr><tr><td>2</td><td>175</td></tr></table><h2>Messages</h2>Start Time: Thursday, August 12, 2021 5:50:15 PM<br/>Succeeded at Thursday, August 12, 2021 5:50:16 PM (Elapsed Time: 0.30 seconds)<br/><style>.rendered_html td, .rendered_html th {text-align: left;}.rendered_html tbody {border: 1px solid black;}</style>"
      ],
      "text/plain": [
       "<Result 'MPO_BG_TitleVI_FeatureToPoin4'>"
      ]
     },
     "execution_count": 20,
     "metadata": {},
     "output_type": "execute_result"
    }
   ],
   "source": [
    "arcpy.SelectLayerByLocation_management(titleVI, 'WITHIN_A_DISTANCE', 'existingBikeways', '0.5 miles', 'NEW_SELECTION')"
   ]
  },
  {
   "cell_type": "code",
   "execution_count": 23,
   "metadata": {},
   "outputs": [
    {
     "data": {
      "text/html": [
       "<h2>Output</h2>T:\\MPO\\RTP\\FY20 2045 Update\\Maps\\Appendix F\\Maps4AppendixF\\Maps4AppendixF.gdb\\TitleVIexistingBikeways<h2>Messages</h2>Start Time: Thursday, August 12, 2021 5:54:48 PM<br/>Succeeded at Thursday, August 12, 2021 5:54:50 PM (Elapsed Time: 1.96 seconds)<br/><style>.rendered_html td, .rendered_html th {text-align: left;}.rendered_html tbody {border: 1px solid black;}</style>"
      ],
      "text/plain": [
       "<Result 'T:\\\\MPO\\\\RTP\\\\FY20 2045 Update\\\\Maps\\\\Appendix F\\\\Maps4AppendixF\\\\Maps4AppendixF.gdb\\\\TitleVIexistingBikeways'>"
      ]
     },
     "execution_count": 23,
     "metadata": {},
     "output_type": "execute_result"
    }
   ],
   "source": [
    "# check the input feature from the above result\n",
    "arcpy.CopyFeatures_management('MPO_BG_TitleVI_FeatureToPoin4', 'TitleVIexistingBikeways')"
   ]
  },
  {
   "cell_type": "code",
   "execution_count": 24,
   "metadata": {},
   "outputs": [
    {
     "data": {
      "text/html": [
       "<h2>Output</h2>T:\\MPO\\RTP\\FY20 2045 Update\\Maps\\Appendix F\\Maps4AppendixF\\Maps4AppendixF.gdb\\existingBikePed<h2>Messages</h2>Start Time: Thursday, August 12, 2021 6:01:42 PM<br/>Succeeded at Thursday, August 12, 2021 6:01:46 PM (Elapsed Time: 4.64 seconds)<br/><style>.rendered_html td, .rendered_html th {text-align: left;}.rendered_html tbody {border: 1px solid black;}</style>"
      ],
      "text/plain": [
       "<Result 'T:\\\\MPO\\\\RTP\\\\FY20 2045 Update\\\\Maps\\\\Appendix F\\\\Maps4AppendixF\\\\Maps4AppendixF.gdb\\\\existingBikePed'>"
      ]
     },
     "execution_count": 24,
     "metadata": {},
     "output_type": "execute_result"
    }
   ],
   "source": [
    "arcpy.Merge_management(['existingBikeways', 'existingSidewalks'], 'existingBikePed')"
   ]
  },
  {
   "cell_type": "code",
   "execution_count": 25,
   "metadata": {},
   "outputs": [
    {
     "data": {
      "text/html": [
       "<h2>Output</h2><table><tr><th>id</th><th>value</th></tr><tr><td>0</td><td>a Layer object</td></tr><tr><td>1</td><td>MPO_BG_TitleVI_FeatureToPoin7</td></tr><tr><td>2</td><td>166</td></tr></table><h2>Messages</h2>Start Time: Thursday, August 12, 2021 6:04:37 PM<br/>Succeeded at Thursday, August 12, 2021 6:04:38 PM (Elapsed Time: 0.56 seconds)<br/><style>.rendered_html td, .rendered_html th {text-align: left;}.rendered_html tbody {border: 1px solid black;}</style>"
      ],
      "text/plain": [
       "<Result 'MPO_BG_TitleVI_FeatureToPoin7'>"
      ]
     },
     "execution_count": 25,
     "metadata": {},
     "output_type": "execute_result"
    }
   ],
   "source": [
    "arcpy.SelectLayerByLocation_management(titleVI, 'WITHIN_A_DISTANCE', 'existingBikePed', '0.25 miles', 'NEW_SELECTION')"
   ]
  },
  {
   "cell_type": "code",
   "execution_count": 26,
   "metadata": {},
   "outputs": [
    {
     "data": {
      "text/html": [
       "<h2>Output</h2>T:\\MPO\\RTP\\FY20 2045 Update\\Maps\\Appendix F\\Maps4AppendixF\\Maps4AppendixF.gdb\\TitleVIexistingBikePed<h2>Messages</h2>Start Time: Thursday, August 12, 2021 6:05:26 PM<br/>Succeeded at Thursday, August 12, 2021 6:05:27 PM (Elapsed Time: 1.52 seconds)<br/><style>.rendered_html td, .rendered_html th {text-align: left;}.rendered_html tbody {border: 1px solid black;}</style>"
      ],
      "text/plain": [
       "<Result 'T:\\\\MPO\\\\RTP\\\\FY20 2045 Update\\\\Maps\\\\Appendix F\\\\Maps4AppendixF\\\\Maps4AppendixF.gdb\\\\TitleVIexistingBikePed'>"
      ]
     },
     "execution_count": 26,
     "metadata": {},
     "output_type": "execute_result"
    }
   ],
   "source": [
    "# check the input feature from the above result\n",
    "arcpy.CopyFeatures_management('MPO_BG_TitleVI_FeatureToPoin7', 'TitleVIexistingBikePed')"
   ]
  },
  {
   "cell_type": "code",
   "execution_count": null,
   "metadata": {},
   "outputs": [],
   "source": []
  }
 ],
 "metadata": {
  "kernelspec": {
   "display_name": "Python 3",
   "language": "python",
   "name": "python3"
  },
  "language_info": {
   "codemirror_mode": {
    "name": "ipython",
    "version": 3
   },
   "file_extension": ".py",
   "mimetype": "text/x-python",
   "name": "python",
   "nbconvert_exporter": "python",
   "pygments_lexer": "ipython3",
   "version": "3.7.10"
  }
 },
 "nbformat": 4,
 "nbformat_minor": 5
}

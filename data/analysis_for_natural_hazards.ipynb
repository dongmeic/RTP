{
 "cells": [
  {
   "cell_type": "code",
   "execution_count": 8,
   "metadata": {},
   "outputs": [],
   "source": [
    "import arcpy, os\n",
    "from arcpy import env\n",
    "from arcpy.sa import *"
   ]
  },
  {
   "cell_type": "code",
   "execution_count": 2,
   "metadata": {},
   "outputs": [],
   "source": [
    "arcpy.env.overwriteOutput = True"
   ]
  },
  {
   "cell_type": "code",
   "execution_count": 6,
   "metadata": {},
   "outputs": [
    {
     "data": {
      "text/plain": [
       "'CheckedOut'"
      ]
     },
     "execution_count": 6,
     "metadata": {},
     "output_type": "execute_result"
    }
   ],
   "source": [
    "#arcpy.CheckExtension(\"Spatial Analyst\")\n",
    "arcpy.CheckOutExtension(\"Spatial\")"
   ]
  },
  {
   "cell_type": "code",
   "execution_count": 5,
   "metadata": {},
   "outputs": [],
   "source": [
    "env.workspace = r'T:\\MPO\\RTP\\FY20 2045 Update\\Data and Resources\\Data\\ForAppendixF\\NaturalHazards\\OSHD-1_GIS-bundle\\OSHD Release 1_0.gdb'"
   ]
  },
  {
   "cell_type": "code",
   "execution_count": 10,
   "metadata": {},
   "outputs": [],
   "source": [
    "mask = r\"X:\\Data\\Transportation\\MPO_Boundary.shp\""
   ]
  },
  {
   "cell_type": "code",
   "execution_count": 9,
   "metadata": {},
   "outputs": [],
   "source": [
    "# extract by mask\n",
    "outExtractByMask = ExtractByMask(\"Dry_Landslide_Susceptibility_Map\", mask)\n",
    "outExtractByMask.save(\"Dry_Landslide_Susceptibility_CLMPO\")"
   ]
  },
  {
   "cell_type": "code",
   "execution_count": 11,
   "metadata": {},
   "outputs": [],
   "source": [
    "outExtractByMask = ExtractByMask(\"Wet_Landslide_Susceptibility_Map\", mask)\n",
    "outExtractByMask.save(\"Wet_Landslide_Susceptibility_CLMPO\")"
   ]
  },
  {
   "cell_type": "code",
   "execution_count": 12,
   "metadata": {},
   "outputs": [],
   "source": [
    "outExtractByMask = ExtractByMask(\"Liquefaction_Susceptibility_Map\", mask)\n",
    "outExtractByMask.save(\"Liquefaction_Susceptibility_CLMPO\")"
   ]
  },
  {
   "cell_type": "code",
   "execution_count": 13,
   "metadata": {},
   "outputs": [],
   "source": [
    "outExtractByMask = ExtractByMask(\"Probability_of_Damaging_Shaking_Map\", mask)\n",
    "outExtractByMask.save(\"Probability_of_Damaging_Shaking_CLMPO\")"
   ]
  },
  {
   "cell_type": "code",
   "execution_count": 15,
   "metadata": {},
   "outputs": [],
   "source": [
    "# reclassify\n",
    "outReclass1 = Reclassify(\"Dry_Landslide_Susceptibility_CLMPO\", \"Value\", \n",
    "                         RemapRange([[0,4,0],[5,9,1]]), \"NODATA\")\n",
    "outReclass1.save(\"Dry_Landslide_CLMPO_Reclass\")"
   ]
  },
  {
   "cell_type": "code",
   "execution_count": 16,
   "metadata": {},
   "outputs": [],
   "source": [
    "outReclass2 = Reclassify(\"Wet_Landslide_Susceptibility_CLMPO\", \"Value\", \n",
    "                         RemapRange([[0,5,0],[6,10,1]]), \"NODATA\")\n",
    "outReclass2.save(\"Wet_Landslide_CLMPO_Reclass\")"
   ]
  },
  {
   "cell_type": "code",
   "execution_count": 17,
   "metadata": {},
   "outputs": [],
   "source": [
    "outReclass3 = Reclassify(\"Liquefaction_Susceptibility_CLMPO\", \"Value\", \n",
    "                         RemapRange([[0,2,0],[3,5,1]]), \"NODATA\")\n",
    "outReclass3.save(\"Liquefaction_CLMPO_Reclass\")"
   ]
  },
  {
   "cell_type": "code",
   "execution_count": 18,
   "metadata": {},
   "outputs": [],
   "source": [
    "outReclass4 = Reclassify(\"Probability_of_Damaging_Shaking_CLMPO\", \"Value\", \n",
    "                         RemapRange([[0,3,0],[4,5,1]]), \"NODATA\")\n",
    "outReclass4.save(\"Damaging_Shaking_CLMPO_Reclass\")"
   ]
  },
  {
   "cell_type": "code",
   "execution_count": 20,
   "metadata": {},
   "outputs": [
    {
     "data": {
      "text/html": [
       "<h2>Output</h2>T:\\MPO\\RTP\\FY20 2045 Update\\Data and Resources\\Data\\ForAppendixF\\NaturalHazards\\OSHD-1_GIS-bundle\\OSHD Release 1_0.gdb\\Dry_Landslide_CLMPO_Reclass_Polygon<h2>Messages</h2>Start Time: Thursday, August 12, 2021 11:23:58 AM<br/>Succeeded at Thursday, August 12, 2021 11:24:00 AM (Elapsed Time: 1.60 seconds)<br/><style>.rendered_html td, .rendered_html th {text-align: left;}.rendered_html tbody {border: 1px solid black;}</style>"
      ],
      "text/plain": [
       "<Result 'T:\\\\MPO\\\\RTP\\\\FY20 2045 Update\\\\Data and Resources\\\\Data\\\\ForAppendixF\\\\NaturalHazards\\\\OSHD-1_GIS-bundle\\\\OSHD Release 1_0.gdb\\\\Dry_Landslide_CLMPO_Reclass_Polygon'>"
      ]
     },
     "execution_count": 20,
     "metadata": {},
     "output_type": "execute_result"
    }
   ],
   "source": [
    "# raster to polygon\n",
    "arcpy.RasterToPolygon_conversion(\"Dry_Landslide_CLMPO_Reclass\", \"Dry_Landslide_CLMPO_Reclass_Polygon\", \n",
    "                                 \"NO_SIMPLIFY\", \"Value\")"
   ]
  },
  {
   "cell_type": "code",
   "execution_count": 21,
   "metadata": {},
   "outputs": [
    {
     "data": {
      "text/html": [
       "<h2>Output</h2>T:\\MPO\\RTP\\FY20 2045 Update\\Data and Resources\\Data\\ForAppendixF\\NaturalHazards\\OSHD-1_GIS-bundle\\OSHD Release 1_0.gdb\\Wet_Landslide_CLMPO_Reclass_Polygon<h2>Messages</h2>Start Time: Thursday, August 12, 2021 11:26:59 AM<br/>Succeeded at Thursday, August 12, 2021 11:27:01 AM (Elapsed Time: 1.75 seconds)<br/><style>.rendered_html td, .rendered_html th {text-align: left;}.rendered_html tbody {border: 1px solid black;}</style>"
      ],
      "text/plain": [
       "<Result 'T:\\\\MPO\\\\RTP\\\\FY20 2045 Update\\\\Data and Resources\\\\Data\\\\ForAppendixF\\\\NaturalHazards\\\\OSHD-1_GIS-bundle\\\\OSHD Release 1_0.gdb\\\\Wet_Landslide_CLMPO_Reclass_Polygon'>"
      ]
     },
     "execution_count": 21,
     "metadata": {},
     "output_type": "execute_result"
    }
   ],
   "source": [
    "arcpy.RasterToPolygon_conversion(\"Wet_Landslide_CLMPO_Reclass\", \"Wet_Landslide_CLMPO_Reclass_Polygon\", \n",
    "                                 \"NO_SIMPLIFY\", \"Value\")"
   ]
  },
  {
   "cell_type": "code",
   "execution_count": 22,
   "metadata": {},
   "outputs": [
    {
     "data": {
      "text/html": [
       "<h2>Output</h2>T:\\MPO\\RTP\\FY20 2045 Update\\Data and Resources\\Data\\ForAppendixF\\NaturalHazards\\OSHD-1_GIS-bundle\\OSHD Release 1_0.gdb\\Liquefaction_CLMPO_Reclass_Polygon<h2>Messages</h2>Start Time: Thursday, August 12, 2021 11:27:37 AM<br/>Succeeded at Thursday, August 12, 2021 11:27:39 AM (Elapsed Time: 1.59 seconds)<br/><style>.rendered_html td, .rendered_html th {text-align: left;}.rendered_html tbody {border: 1px solid black;}</style>"
      ],
      "text/plain": [
       "<Result 'T:\\\\MPO\\\\RTP\\\\FY20 2045 Update\\\\Data and Resources\\\\Data\\\\ForAppendixF\\\\NaturalHazards\\\\OSHD-1_GIS-bundle\\\\OSHD Release 1_0.gdb\\\\Liquefaction_CLMPO_Reclass_Polygon'>"
      ]
     },
     "execution_count": 22,
     "metadata": {},
     "output_type": "execute_result"
    }
   ],
   "source": [
    "arcpy.RasterToPolygon_conversion(\"Liquefaction_CLMPO_Reclass\", \"Liquefaction_CLMPO_Reclass_Polygon\", \n",
    "                                 \"NO_SIMPLIFY\", \"Value\")"
   ]
  },
  {
   "cell_type": "code",
   "execution_count": 23,
   "metadata": {},
   "outputs": [
    {
     "data": {
      "text/html": [
       "<h2>Output</h2>T:\\MPO\\RTP\\FY20 2045 Update\\Data and Resources\\Data\\ForAppendixF\\NaturalHazards\\OSHD-1_GIS-bundle\\OSHD Release 1_0.gdb\\Damaging_Shaking_CLMPO_Reclass_Polygon<h2>Messages</h2>Start Time: Thursday, August 12, 2021 11:28:14 AM<br/>Succeeded at Thursday, August 12, 2021 11:28:16 AM (Elapsed Time: 1.66 seconds)<br/><style>.rendered_html td, .rendered_html th {text-align: left;}.rendered_html tbody {border: 1px solid black;}</style>"
      ],
      "text/plain": [
       "<Result 'T:\\\\MPO\\\\RTP\\\\FY20 2045 Update\\\\Data and Resources\\\\Data\\\\ForAppendixF\\\\NaturalHazards\\\\OSHD-1_GIS-bundle\\\\OSHD Release 1_0.gdb\\\\Damaging_Shaking_CLMPO_Reclass_Polygon'>"
      ]
     },
     "execution_count": 23,
     "metadata": {},
     "output_type": "execute_result"
    }
   ],
   "source": [
    "arcpy.RasterToPolygon_conversion(\"Damaging_Shaking_CLMPO_Reclass\", \"Damaging_Shaking_CLMPO_Reclass_Polygon\", \n",
    "                                 \"NO_SIMPLIFY\", \"Value\")"
   ]
  },
  {
   "cell_type": "code",
   "execution_count": 24,
   "metadata": {},
   "outputs": [],
   "source": [
    "shpfiles = ['Dry_Landslide', 'Wet_Landslide', 'Liquefaction', 'Damaging_Shaking']"
   ]
  },
  {
   "cell_type": "code",
   "execution_count": 33,
   "metadata": {},
   "outputs": [],
   "source": [
    "# merge\n",
    "for shpfile in shpfiles:\n",
    "    fc = 'hazard_layer'\n",
    "    arcpy.MakeFeatureLayer_management(shpfile+'_CLMPO_Reclass_Polygon', fc)\n",
    "    arcpy.SelectLayerByAttribute_management(fc, 'NEW_SELECTION', '\"gridcode\"=1')\n",
    "    #arcpy.CopyFeatures_management('hazard_layer', shpfile)\n",
    "    field = 'source'\n",
    "    arcpy.AddField_management(fc, field,  \"TEXT\", \"\", \"\", 50)\n",
    "    with arcpy.da.UpdateCursor(fc, field) as cursor:\n",
    "        for row in cursor:\n",
    "            row[0] = shpfile\n",
    "            cursor.updateRow(row)\n",
    "    if shpfile == 'Dry_Landslide':\n",
    "        arcpy.CopyFeatures_management(fc, 'earthquake_layer')\n",
    "    else:\n",
    "        arcpy.Append_management(fc, 'earthquake_layer', \"TEST\",\"\",\"\")"
   ]
  },
  {
   "cell_type": "code",
   "execution_count": 30,
   "metadata": {},
   "outputs": [],
   "source": [
    "outpath = r'T:\\MPO\\RTP\\FY20 2045 Update\\Data and Resources\\Data\\ForAppendixF'"
   ]
  },
  {
   "cell_type": "code",
   "execution_count": 34,
   "metadata": {},
   "outputs": [
    {
     "data": {
      "text/html": [
       "<h2>Output</h2>T:\\MPO\\RTP\\FY20 2045 Update\\Data and Resources\\Data\\ForAppendixF\\NaturalHazards\\EarthquakeLayer.shp<h2>Messages</h2>Start Time: Thursday, August 12, 2021 12:23:59 PM<br/>Sorting Attributes...<br/>Dissolving...<br/>Succeeded at Thursday, August 12, 2021 12:24:00 PM (Elapsed Time: 0.80 seconds)<br/><style>.rendered_html td, .rendered_html th {text-align: left;}.rendered_html tbody {border: 1px solid black;}</style>"
      ],
      "text/plain": [
       "<Result 'T:\\\\MPO\\\\RTP\\\\FY20 2045 Update\\\\Data and Resources\\\\Data\\\\ForAppendixF\\\\NaturalHazards\\\\EarthquakeLayer.shp'>"
      ]
     },
     "execution_count": 34,
     "metadata": {},
     "output_type": "execute_result"
    }
   ],
   "source": [
    "# dissolve\n",
    "arcpy.Dissolve_management('earthquake_layer', os.path.join(outpath, 'NaturalHazards', 'EarthquakeLayer.shp'), 'source')"
   ]
  }
 ],
 "metadata": {
  "kernelspec": {
   "display_name": "Python 3",
   "language": "python",
   "name": "python3"
  },
  "language_info": {
   "codemirror_mode": {
    "name": "ipython",
    "version": 3
   },
   "file_extension": ".py",
   "mimetype": "text/x-python",
   "name": "python",
   "nbconvert_exporter": "python",
   "pygments_lexer": "ipython3",
   "version": "3.7.10"
  }
 },
 "nbformat": 4,
 "nbformat_minor": 4
}

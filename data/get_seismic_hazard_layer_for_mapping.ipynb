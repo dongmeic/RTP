{
 "cells": [
  {
   "cell_type": "code",
   "execution_count": 1,
   "metadata": {},
   "outputs": [],
   "source": [
    "import arcpy, os\n",
    "from arcpy import env\n",
    "from arcpy.sa import *"
   ]
  },
  {
   "cell_type": "code",
   "execution_count": 2,
   "metadata": {},
   "outputs": [],
   "source": [
    "arcpy.env.overwriteOutput = True"
   ]
  },
  {
   "cell_type": "code",
   "execution_count": 3,
   "metadata": {},
   "outputs": [
    {
     "data": {
      "text/plain": [
       "'CheckedOut'"
      ]
     },
     "execution_count": 3,
     "metadata": {},
     "output_type": "execute_result"
    }
   ],
   "source": [
    "#arcpy.CheckExtension(\"Spatial Analyst\")\n",
    "arcpy.CheckOutExtension(\"Spatial\")"
   ]
  },
  {
   "cell_type": "code",
   "execution_count": 4,
   "metadata": {},
   "outputs": [],
   "source": [
    "env.workspace = r'T:\\MPO\\RTP\\FY20 2045 Update\\Data and Resources\\Data\\ForAppendixF\\NaturalHazards\\OSHD-1_GIS-bundle\\OSHD Release 1_0.gdb'"
   ]
  },
  {
   "cell_type": "code",
   "execution_count": 5,
   "metadata": {},
   "outputs": [],
   "source": [
    "# reclassify\n",
    "outReclass1 = Reclassify(\"Dry_Landslide_Susceptibility_Map\", \"Value\", \n",
    "                         RemapRange([[0,4,0],[5,9,1]]), \"NODATA\")\n",
    "outReclass1.save(\"Dry_Landslide_CLMPO_Reclass\")"
   ]
  },
  {
   "cell_type": "code",
   "execution_count": 6,
   "metadata": {},
   "outputs": [],
   "source": [
    "outReclass2 = Reclassify(\"Wet_Landslide_Susceptibility_Map\", \"Value\", \n",
    "                         RemapRange([[0,5,0],[6,10,1]]), \"NODATA\")\n",
    "outReclass2.save(\"Wet_Landslide_CLMPO_Reclass\")"
   ]
  },
  {
   "cell_type": "code",
   "execution_count": 7,
   "metadata": {},
   "outputs": [],
   "source": [
    "outReclass3 = Reclassify(\"Liquefaction_Susceptibility_Map\", \"Value\", \n",
    "                         RemapRange([[0,2,0],[3,5,1]]), \"NODATA\")\n",
    "outReclass3.save(\"Liquefaction_CLMPO_Reclass\")"
   ]
  },
  {
   "cell_type": "code",
   "execution_count": 8,
   "metadata": {},
   "outputs": [],
   "source": [
    "outReclass4 = Reclassify(\"Probability_of_Damaging_Shaking_Map\", \"Value\", \n",
    "                         RemapRange([[0,3,0],[4,5,1]]), \"NODATA\")\n",
    "outReclass4.save(\"Damaging_Shaking_CLMPO_Reclass\")"
   ]
  },
  {
   "cell_type": "code",
   "execution_count": 9,
   "metadata": {},
   "outputs": [
    {
     "data": {
      "text/html": [
       "<h2>Output</h2>T:\\MPO\\RTP\\FY20 2045 Update\\Data and Resources\\Data\\ForAppendixF\\NaturalHazards\\OSHD-1_GIS-bundle\\OSHD Release 1_0.gdb\\Dry_Landslide_CLMPO_Reclass_Polygon<h2>Messages</h2>Start Time: Friday, August 27, 2021 2:21:26 PM<br/>Succeeded at Friday, August 27, 2021 2:27:31 PM (Elapsed Time: 6 minutes 4 seconds)<br/><style>.rendered_html td, .rendered_html th {text-align: left;}.rendered_html tbody {border: 1px solid black;}</style>"
      ],
      "text/plain": [
       "<Result 'T:\\\\MPO\\\\RTP\\\\FY20 2045 Update\\\\Data and Resources\\\\Data\\\\ForAppendixF\\\\NaturalHazards\\\\OSHD-1_GIS-bundle\\\\OSHD Release 1_0.gdb\\\\Dry_Landslide_CLMPO_Reclass_Polygon'>"
      ]
     },
     "execution_count": 9,
     "metadata": {},
     "output_type": "execute_result"
    }
   ],
   "source": [
    "# raster to polygon\n",
    "arcpy.RasterToPolygon_conversion(\"Dry_Landslide_CLMPO_Reclass\", \"Dry_Landslide_CLMPO_Reclass_Polygon\", \n",
    "                                 \"NO_SIMPLIFY\", \"Value\")"
   ]
  },
  {
   "cell_type": "code",
   "execution_count": 10,
   "metadata": {},
   "outputs": [
    {
     "data": {
      "text/html": [
       "<h2>Output</h2>T:\\MPO\\RTP\\FY20 2045 Update\\Data and Resources\\Data\\ForAppendixF\\NaturalHazards\\OSHD-1_GIS-bundle\\OSHD Release 1_0.gdb\\Wet_Landslide_CLMPO_Reclass_Polygon<h2>Messages</h2>Start Time: Friday, August 27, 2021 2:27:31 PM<br/>Succeeded at Friday, August 27, 2021 2:36:49 PM (Elapsed Time: 9 minutes 17 seconds)<br/><style>.rendered_html td, .rendered_html th {text-align: left;}.rendered_html tbody {border: 1px solid black;}</style>"
      ],
      "text/plain": [
       "<Result 'T:\\\\MPO\\\\RTP\\\\FY20 2045 Update\\\\Data and Resources\\\\Data\\\\ForAppendixF\\\\NaturalHazards\\\\OSHD-1_GIS-bundle\\\\OSHD Release 1_0.gdb\\\\Wet_Landslide_CLMPO_Reclass_Polygon'>"
      ]
     },
     "execution_count": 10,
     "metadata": {},
     "output_type": "execute_result"
    }
   ],
   "source": [
    "arcpy.RasterToPolygon_conversion(\"Wet_Landslide_CLMPO_Reclass\", \"Wet_Landslide_CLMPO_Reclass_Polygon\", \n",
    "                                 \"NO_SIMPLIFY\", \"Value\")"
   ]
  },
  {
   "cell_type": "code",
   "execution_count": 11,
   "metadata": {},
   "outputs": [
    {
     "data": {
      "text/html": [
       "<h2>Output</h2>T:\\MPO\\RTP\\FY20 2045 Update\\Data and Resources\\Data\\ForAppendixF\\NaturalHazards\\OSHD-1_GIS-bundle\\OSHD Release 1_0.gdb\\Liquefaction_CLMPO_Reclass_Polygon<h2>Messages</h2>Start Time: Friday, August 27, 2021 2:36:50 PM<br/>Succeeded at Friday, August 27, 2021 2:37:08 PM (Elapsed Time: 18.00 seconds)<br/><style>.rendered_html td, .rendered_html th {text-align: left;}.rendered_html tbody {border: 1px solid black;}</style>"
      ],
      "text/plain": [
       "<Result 'T:\\\\MPO\\\\RTP\\\\FY20 2045 Update\\\\Data and Resources\\\\Data\\\\ForAppendixF\\\\NaturalHazards\\\\OSHD-1_GIS-bundle\\\\OSHD Release 1_0.gdb\\\\Liquefaction_CLMPO_Reclass_Polygon'>"
      ]
     },
     "execution_count": 11,
     "metadata": {},
     "output_type": "execute_result"
    }
   ],
   "source": [
    "arcpy.RasterToPolygon_conversion(\"Liquefaction_CLMPO_Reclass\", \"Liquefaction_CLMPO_Reclass_Polygon\", \n",
    "                                 \"NO_SIMPLIFY\", \"Value\")"
   ]
  },
  {
   "cell_type": "code",
   "execution_count": 12,
   "metadata": {},
   "outputs": [
    {
     "data": {
      "text/html": [
       "<h2>Output</h2>T:\\MPO\\RTP\\FY20 2045 Update\\Data and Resources\\Data\\ForAppendixF\\NaturalHazards\\OSHD-1_GIS-bundle\\OSHD Release 1_0.gdb\\Damaging_Shaking_CLMPO_Reclass_Polygon<h2>Messages</h2>Start Time: Friday, August 27, 2021 2:37:09 PM<br/>Succeeded at Friday, August 27, 2021 2:37:21 PM (Elapsed Time: 11.91 seconds)<br/><style>.rendered_html td, .rendered_html th {text-align: left;}.rendered_html tbody {border: 1px solid black;}</style>"
      ],
      "text/plain": [
       "<Result 'T:\\\\MPO\\\\RTP\\\\FY20 2045 Update\\\\Data and Resources\\\\Data\\\\ForAppendixF\\\\NaturalHazards\\\\OSHD-1_GIS-bundle\\\\OSHD Release 1_0.gdb\\\\Damaging_Shaking_CLMPO_Reclass_Polygon'>"
      ]
     },
     "execution_count": 12,
     "metadata": {},
     "output_type": "execute_result"
    }
   ],
   "source": [
    "arcpy.RasterToPolygon_conversion(\"Damaging_Shaking_CLMPO_Reclass\", \"Damaging_Shaking_CLMPO_Reclass_Polygon\", \n",
    "                                 \"NO_SIMPLIFY\", \"Value\")"
   ]
  },
  {
   "cell_type": "code",
   "execution_count": 13,
   "metadata": {},
   "outputs": [],
   "source": [
    "shpfiles = ['Dry_Landslide', 'Wet_Landslide', 'Liquefaction', 'Damaging_Shaking']"
   ]
  },
  {
   "cell_type": "code",
   "execution_count": 14,
   "metadata": {},
   "outputs": [],
   "source": [
    "# merge\n",
    "for shpfile in shpfiles:\n",
    "    fc = 'hazard_layer'\n",
    "    arcpy.MakeFeatureLayer_management(shpfile+'_CLMPO_Reclass_Polygon', fc)\n",
    "    arcpy.SelectLayerByAttribute_management(fc, 'NEW_SELECTION', '\"gridcode\"=1')\n",
    "    #arcpy.CopyFeatures_management('hazard_layer', shpfile)\n",
    "    field = 'source'\n",
    "    arcpy.AddField_management(fc, field,  \"TEXT\", \"\", \"\", 50)\n",
    "    with arcpy.da.UpdateCursor(fc, field) as cursor:\n",
    "        for row in cursor:\n",
    "            row[0] = shpfile\n",
    "            cursor.updateRow(row)\n",
    "    if shpfile == 'Dry_Landslide':\n",
    "        arcpy.CopyFeatures_management(fc, 'earthquake_layer')\n",
    "    else:\n",
    "        arcpy.Append_management(fc, 'earthquake_layer', \"TEST\",\"\",\"\")"
   ]
  },
  {
   "cell_type": "code",
   "execution_count": 15,
   "metadata": {},
   "outputs": [],
   "source": [
    "outpath = r'T:\\MPO\\RTP\\FY20 2045 Update\\Data and Resources\\Data\\ForAppendixF'"
   ]
  },
  {
   "cell_type": "code",
   "execution_count": null,
   "metadata": {},
   "outputs": [],
   "source": []
  },
  {
   "cell_type": "code",
   "execution_count": 16,
   "metadata": {},
   "outputs": [
    {
     "ename": "ExecuteError",
     "evalue": "ERROR 160196: Invalid Topology\nFailed to execute (Dissolve).\n",
     "output_type": "error",
     "traceback": [
      "\u001b[1;31m---------------------------------------------------------------------------\u001b[0m",
      "\u001b[1;31mExecuteError\u001b[0m                              Traceback (most recent call last)",
      "\u001b[1;32m<ipython-input-16-379b2c3dee03>\u001b[0m in \u001b[0;36m<module>\u001b[1;34m\u001b[0m\n\u001b[0;32m      1\u001b[0m \u001b[1;31m# dissolve\u001b[0m\u001b[1;33m\u001b[0m\u001b[1;33m\u001b[0m\u001b[1;33m\u001b[0m\u001b[0m\n\u001b[1;32m----> 2\u001b[1;33m \u001b[0marcpy\u001b[0m\u001b[1;33m.\u001b[0m\u001b[0mDissolve_management\u001b[0m\u001b[1;33m(\u001b[0m\u001b[1;34m'earthquake_layer'\u001b[0m\u001b[1;33m,\u001b[0m \u001b[0mos\u001b[0m\u001b[1;33m.\u001b[0m\u001b[0mpath\u001b[0m\u001b[1;33m.\u001b[0m\u001b[0mjoin\u001b[0m\u001b[1;33m(\u001b[0m\u001b[0moutpath\u001b[0m\u001b[1;33m,\u001b[0m \u001b[1;34m'NaturalHazards'\u001b[0m\u001b[1;33m,\u001b[0m \u001b[1;34m'OregonEarthquakeLayer.shp'\u001b[0m\u001b[1;33m)\u001b[0m\u001b[1;33m,\u001b[0m \u001b[1;34m'source'\u001b[0m\u001b[1;33m)\u001b[0m\u001b[1;33m\u001b[0m\u001b[1;33m\u001b[0m\u001b[0m\n\u001b[0m",
      "\u001b[1;32m~\\AppData\\Local\\Programs\\ArcGIS\\Pro\\Resources\\ArcPy\\arcpy\\management.py\u001b[0m in \u001b[0;36mDissolve\u001b[1;34m(in_features, out_feature_class, dissolve_field, statistics_fields, multi_part, unsplit_lines)\u001b[0m\n\u001b[0;32m   6698\u001b[0m         \u001b[1;32mreturn\u001b[0m \u001b[0mretval\u001b[0m\u001b[1;33m\u001b[0m\u001b[1;33m\u001b[0m\u001b[0m\n\u001b[0;32m   6699\u001b[0m     \u001b[1;32mexcept\u001b[0m \u001b[0mException\u001b[0m \u001b[1;32mas\u001b[0m \u001b[0me\u001b[0m\u001b[1;33m:\u001b[0m\u001b[1;33m\u001b[0m\u001b[1;33m\u001b[0m\u001b[0m\n\u001b[1;32m-> 6700\u001b[1;33m         \u001b[1;32mraise\u001b[0m \u001b[0me\u001b[0m\u001b[1;33m\u001b[0m\u001b[1;33m\u001b[0m\u001b[0m\n\u001b[0m\u001b[0;32m   6701\u001b[0m \u001b[1;33m\u001b[0m\u001b[0m\n\u001b[0;32m   6702\u001b[0m \u001b[1;33m@\u001b[0m\u001b[0mgptooldoc\u001b[0m\u001b[1;33m(\u001b[0m\u001b[1;34m'Eliminate_management'\u001b[0m\u001b[1;33m,\u001b[0m \u001b[1;32mNone\u001b[0m\u001b[1;33m)\u001b[0m\u001b[1;33m\u001b[0m\u001b[1;33m\u001b[0m\u001b[0m\n",
      "\u001b[1;32m~\\AppData\\Local\\Programs\\ArcGIS\\Pro\\Resources\\ArcPy\\arcpy\\management.py\u001b[0m in \u001b[0;36mDissolve\u001b[1;34m(in_features, out_feature_class, dissolve_field, statistics_fields, multi_part, unsplit_lines)\u001b[0m\n\u001b[0;32m   6695\u001b[0m     \u001b[1;32mfrom\u001b[0m \u001b[0marcpy\u001b[0m\u001b[1;33m.\u001b[0m\u001b[0marcobjects\u001b[0m\u001b[1;33m.\u001b[0m\u001b[0marcobjectconversion\u001b[0m \u001b[1;32mimport\u001b[0m \u001b[0mconvertArcObjectToPythonObject\u001b[0m\u001b[1;33m\u001b[0m\u001b[1;33m\u001b[0m\u001b[0m\n\u001b[0;32m   6696\u001b[0m     \u001b[1;32mtry\u001b[0m\u001b[1;33m:\u001b[0m\u001b[1;33m\u001b[0m\u001b[1;33m\u001b[0m\u001b[0m\n\u001b[1;32m-> 6697\u001b[1;33m         \u001b[0mretval\u001b[0m \u001b[1;33m=\u001b[0m \u001b[0mconvertArcObjectToPythonObject\u001b[0m\u001b[1;33m(\u001b[0m\u001b[0mgp\u001b[0m\u001b[1;33m.\u001b[0m\u001b[0mDissolve_management\u001b[0m\u001b[1;33m(\u001b[0m\u001b[1;33m*\u001b[0m\u001b[0mgp_fixargs\u001b[0m\u001b[1;33m(\u001b[0m\u001b[1;33m(\u001b[0m\u001b[0min_features\u001b[0m\u001b[1;33m,\u001b[0m \u001b[0mout_feature_class\u001b[0m\u001b[1;33m,\u001b[0m \u001b[0mdissolve_field\u001b[0m\u001b[1;33m,\u001b[0m \u001b[0mstatistics_fields\u001b[0m\u001b[1;33m,\u001b[0m \u001b[0mmulti_part\u001b[0m\u001b[1;33m,\u001b[0m \u001b[0munsplit_lines\u001b[0m\u001b[1;33m)\u001b[0m\u001b[1;33m,\u001b[0m \u001b[1;32mTrue\u001b[0m\u001b[1;33m)\u001b[0m\u001b[1;33m)\u001b[0m\u001b[1;33m)\u001b[0m\u001b[1;33m\u001b[0m\u001b[1;33m\u001b[0m\u001b[0m\n\u001b[0m\u001b[0;32m   6698\u001b[0m         \u001b[1;32mreturn\u001b[0m \u001b[0mretval\u001b[0m\u001b[1;33m\u001b[0m\u001b[1;33m\u001b[0m\u001b[0m\n\u001b[0;32m   6699\u001b[0m     \u001b[1;32mexcept\u001b[0m \u001b[0mException\u001b[0m \u001b[1;32mas\u001b[0m \u001b[0me\u001b[0m\u001b[1;33m:\u001b[0m\u001b[1;33m\u001b[0m\u001b[1;33m\u001b[0m\u001b[0m\n",
      "\u001b[1;32m~\\AppData\\Local\\Programs\\ArcGIS\\Pro\\Resources\\ArcPy\\arcpy\\geoprocessing\\_base.py\u001b[0m in \u001b[0;36m<lambda>\u001b[1;34m(*args)\u001b[0m\n\u001b[0;32m    510\u001b[0m         \u001b[0mval\u001b[0m \u001b[1;33m=\u001b[0m \u001b[0mgetattr\u001b[0m\u001b[1;33m(\u001b[0m\u001b[0mself\u001b[0m\u001b[1;33m.\u001b[0m\u001b[0m_gp\u001b[0m\u001b[1;33m,\u001b[0m \u001b[0mattr\u001b[0m\u001b[1;33m)\u001b[0m\u001b[1;33m\u001b[0m\u001b[1;33m\u001b[0m\u001b[0m\n\u001b[0;32m    511\u001b[0m         \u001b[1;32mif\u001b[0m \u001b[0mcallable\u001b[0m\u001b[1;33m(\u001b[0m\u001b[0mval\u001b[0m\u001b[1;33m)\u001b[0m\u001b[1;33m:\u001b[0m\u001b[1;33m\u001b[0m\u001b[1;33m\u001b[0m\u001b[0m\n\u001b[1;32m--> 512\u001b[1;33m             \u001b[1;32mreturn\u001b[0m \u001b[1;32mlambda\u001b[0m \u001b[1;33m*\u001b[0m\u001b[0margs\u001b[0m\u001b[1;33m:\u001b[0m \u001b[0mval\u001b[0m\u001b[1;33m(\u001b[0m\u001b[1;33m*\u001b[0m\u001b[0mgp_fixargs\u001b[0m\u001b[1;33m(\u001b[0m\u001b[0margs\u001b[0m\u001b[1;33m,\u001b[0m \u001b[1;32mTrue\u001b[0m\u001b[1;33m)\u001b[0m\u001b[1;33m)\u001b[0m\u001b[1;33m\u001b[0m\u001b[1;33m\u001b[0m\u001b[0m\n\u001b[0m\u001b[0;32m    513\u001b[0m         \u001b[1;32melse\u001b[0m\u001b[1;33m:\u001b[0m\u001b[1;33m\u001b[0m\u001b[1;33m\u001b[0m\u001b[0m\n\u001b[0;32m    514\u001b[0m             \u001b[1;32mreturn\u001b[0m \u001b[0mconvertArcObjectToPythonObject\u001b[0m\u001b[1;33m(\u001b[0m\u001b[0mval\u001b[0m\u001b[1;33m)\u001b[0m\u001b[1;33m\u001b[0m\u001b[1;33m\u001b[0m\u001b[0m\n",
      "\u001b[1;31mExecuteError\u001b[0m: ERROR 160196: Invalid Topology\nFailed to execute (Dissolve).\n"
     ]
    }
   ],
   "source": [
    "# dissolve\n",
    "arcpy.Dissolve_management('earthquake_layer', os.path.join(outpath, 'NaturalHazards', 'OregonEarthquakeLayer.shp'), 'source')"
   ]
  }
 ],
 "metadata": {
  "kernelspec": {
   "display_name": "Python 3",
   "language": "python",
   "name": "python3"
  },
  "language_info": {
   "codemirror_mode": {
    "name": "ipython",
    "version": 3
   },
   "file_extension": ".py",
   "mimetype": "text/x-python",
   "name": "python",
   "nbconvert_exporter": "python",
   "pygments_lexer": "ipython3",
   "version": "3.7.10"
  }
 },
 "nbformat": 4,
 "nbformat_minor": 4
}

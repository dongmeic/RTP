{
 "cells": [
  {
   "cell_type": "code",
   "execution_count": 1,
   "metadata": {},
   "outputs": [],
   "source": [
    "import geopandas as gpd\n",
    "from sqlalchemy import create_engine"
   ]
  },
  {
   "cell_type": "code",
   "execution_count": 2,
   "metadata": {},
   "outputs": [],
   "source": [
    "engine = create_engine(   \n",
    "\"mssql+pyodbc:///?odbc_connect=\"\n",
    "\"Driver%3D%7BODBC+Driver+17+for+SQL+Server%7D%3B\"\n",
    "\"Server%3Drliddb.int.lcog.org%2C5433%3B\"\n",
    "\"Database%3DRLIDGeo%3B\"\n",
    "\"Trusted_Connection%3Dyes%3B\"\n",
    "\"ApplicationIntent%3DReadWrite%3B\"\n",
    "\"WSID%3Dclwrk4087.int.lcog.org%3B\")"
   ]
  },
  {
   "cell_type": "code",
   "execution_count": 3,
   "metadata": {},
   "outputs": [],
   "source": [
    "sql = '''\n",
    "SELECT \n",
    "stop_number AS number,\n",
    "stop_name AS name,\n",
    "longitude,\n",
    "latitude,\n",
    "Shape.STAsBinary() AS geom\n",
    "FROM dbo.LTD_Stop;\n",
    "'''"
   ]
  },
  {
   "cell_type": "code",
   "execution_count": 4,
   "metadata": {},
   "outputs": [],
   "source": [
    "transit = gpd.GeoDataFrame.from_postgis(sql, engine, geom_col='geom')"
   ]
  },
  {
   "cell_type": "code",
   "execution_count": 5,
   "metadata": {},
   "outputs": [
    {
     "data": {
      "text/html": [
       "<div>\n",
       "<style scoped>\n",
       "    .dataframe tbody tr th:only-of-type {\n",
       "        vertical-align: middle;\n",
       "    }\n",
       "\n",
       "    .dataframe tbody tr th {\n",
       "        vertical-align: top;\n",
       "    }\n",
       "\n",
       "    .dataframe thead th {\n",
       "        text-align: right;\n",
       "    }\n",
       "</style>\n",
       "<table border=\"1\" class=\"dataframe\">\n",
       "  <thead>\n",
       "    <tr style=\"text-align: right;\">\n",
       "      <th></th>\n",
       "      <th>number</th>\n",
       "      <th>name</th>\n",
       "      <th>longitude</th>\n",
       "      <th>latitude</th>\n",
       "      <th>geom</th>\n",
       "    </tr>\n",
       "  </thead>\n",
       "  <tbody>\n",
       "    <tr>\n",
       "      <th>0</th>\n",
       "      <td>00001</td>\n",
       "      <td>E/S of 58th N of Main</td>\n",
       "      <td>-122.926727</td>\n",
       "      <td>44.046333</td>\n",
       "      <td>POINT (4283261.084 876541.193)</td>\n",
       "    </tr>\n",
       "    <tr>\n",
       "      <th>1</th>\n",
       "      <td>00002</td>\n",
       "      <td>E/S of 58th S of D</td>\n",
       "      <td>-122.926224</td>\n",
       "      <td>44.049454</td>\n",
       "      <td>POINT (4283426.923 877674.440)</td>\n",
       "    </tr>\n",
       "    <tr>\n",
       "      <th>2</th>\n",
       "      <td>00004</td>\n",
       "      <td>E/S of 58th S of Thurston Rd</td>\n",
       "      <td>-122.926247</td>\n",
       "      <td>44.052246</td>\n",
       "      <td>POINT (4283450.254 878691.941)</td>\n",
       "    </tr>\n",
       "    <tr>\n",
       "      <th>3</th>\n",
       "      <td>00006</td>\n",
       "      <td>S/S of Thurston W of 64th</td>\n",
       "      <td>-122.916626</td>\n",
       "      <td>44.052948</td>\n",
       "      <td>POINT (4285984.544 878874.556)</td>\n",
       "    </tr>\n",
       "    <tr>\n",
       "      <th>4</th>\n",
       "      <td>00007</td>\n",
       "      <td>S/S of Thurston E of 65th</td>\n",
       "      <td>-122.913231</td>\n",
       "      <td>44.052673</td>\n",
       "      <td>POINT (4286875.484 878748.784)</td>\n",
       "    </tr>\n",
       "  </tbody>\n",
       "</table>\n",
       "</div>"
      ],
      "text/plain": [
       "  number                          name   longitude   latitude  \\\n",
       "0  00001         E/S of 58th N of Main -122.926727  44.046333   \n",
       "1  00002            E/S of 58th S of D -122.926224  44.049454   \n",
       "2  00004  E/S of 58th S of Thurston Rd -122.926247  44.052246   \n",
       "3  00006     S/S of Thurston W of 64th -122.916626  44.052948   \n",
       "4  00007     S/S of Thurston E of 65th -122.913231  44.052673   \n",
       "\n",
       "                             geom  \n",
       "0  POINT (4283261.084 876541.193)  \n",
       "1  POINT (4283426.923 877674.440)  \n",
       "2  POINT (4283450.254 878691.941)  \n",
       "3  POINT (4285984.544 878874.556)  \n",
       "4  POINT (4286875.484 878748.784)  "
      ]
     },
     "execution_count": 5,
     "metadata": {},
     "output_type": "execute_result"
    }
   ],
   "source": [
    "transit.head()"
   ]
  },
  {
   "cell_type": "code",
   "execution_count": 6,
   "metadata": {},
   "outputs": [],
   "source": [
    "outpath = r'T:\\MPO\\RTP\\FY20 2045 Update\\Data and Resources\\PerformanceAnalysis'"
   ]
  },
  {
   "cell_type": "code",
   "execution_count": 32,
   "metadata": {},
   "outputs": [],
   "source": [
    "transit.crs = \"EPSG:2914\""
   ]
  },
  {
   "cell_type": "code",
   "execution_count": 7,
   "metadata": {},
   "outputs": [],
   "source": [
    "import os"
   ]
  },
  {
   "cell_type": "code",
   "execution_count": 33,
   "metadata": {},
   "outputs": [],
   "source": [
    "transit.to_file(os.path.join(outpath, \"transit_stops.shp\"))"
   ]
  },
  {
   "cell_type": "code",
   "execution_count": 9,
   "metadata": {},
   "outputs": [],
   "source": [
    "# get high frequency stops\n",
    "path = r'T:\\Tableau\\tableauTransit\\Datasources'"
   ]
  },
  {
   "cell_type": "code",
   "execution_count": 10,
   "metadata": {},
   "outputs": [],
   "source": [
    "import pandas as pd"
   ]
  },
  {
   "cell_type": "code",
   "execution_count": 12,
   "metadata": {},
   "outputs": [],
   "source": [
    "on_counts = pd.read_csv(os.path.join(path,'AllPassengerCounts.csv'), low_memory=False)"
   ]
  },
  {
   "cell_type": "code",
   "execution_count": 13,
   "metadata": {},
   "outputs": [
    {
     "data": {
      "text/html": [
       "<div>\n",
       "<style scoped>\n",
       "    .dataframe tbody tr th:only-of-type {\n",
       "        vertical-align: middle;\n",
       "    }\n",
       "\n",
       "    .dataframe tbody tr th {\n",
       "        vertical-align: top;\n",
       "    }\n",
       "\n",
       "    .dataframe thead th {\n",
       "        text-align: right;\n",
       "    }\n",
       "</style>\n",
       "<table border=\"1\" class=\"dataframe\">\n",
       "  <thead>\n",
       "    <tr style=\"text-align: right;\">\n",
       "      <th></th>\n",
       "      <th>stop</th>\n",
       "      <th>srv</th>\n",
       "      <th>date</th>\n",
       "      <th>block</th>\n",
       "      <th>trip_end</th>\n",
       "      <th>time</th>\n",
       "      <th>route</th>\n",
       "      <th>dir</th>\n",
       "      <th>stop_name</th>\n",
       "      <th>bus</th>\n",
       "      <th>odometer</th>\n",
       "      <th>ons</th>\n",
       "      <th>offs</th>\n",
       "      <th>load</th>\n",
       "      <th>longitude</th>\n",
       "      <th>latitude</th>\n",
       "      <th>Season</th>\n",
       "      <th>MonthYear</th>\n",
       "    </tr>\n",
       "  </thead>\n",
       "  <tbody>\n",
       "    <tr>\n",
       "      <th>0</th>\n",
       "      <td>00001</td>\n",
       "      <td>wkd</td>\n",
       "      <td>2012-10-05 00:00:00</td>\n",
       "      <td>2</td>\n",
       "      <td>1899-12-31 10:56:00</td>\n",
       "      <td>1899-12-31 10:46:00</td>\n",
       "      <td>11</td>\n",
       "      <td>O</td>\n",
       "      <td>E/S of 58th N of Main</td>\n",
       "      <td>1114</td>\n",
       "      <td>84.26</td>\n",
       "      <td>0</td>\n",
       "      <td>3</td>\n",
       "      <td>5.0</td>\n",
       "      <td>-122.926726</td>\n",
       "      <td>44.046335</td>\n",
       "      <td>Fall 2012</td>\n",
       "      <td>October 2012</td>\n",
       "    </tr>\n",
       "    <tr>\n",
       "      <th>1</th>\n",
       "      <td>00001</td>\n",
       "      <td>wkd</td>\n",
       "      <td>2012-10-08 00:00:00</td>\n",
       "      <td>2</td>\n",
       "      <td>1899-12-31 12:03:00</td>\n",
       "      <td>1899-12-31 11:48:00</td>\n",
       "      <td>11</td>\n",
       "      <td>O</td>\n",
       "      <td>E/S of 58th N of Main</td>\n",
       "      <td>336</td>\n",
       "      <td>97.44</td>\n",
       "      <td>0</td>\n",
       "      <td>1</td>\n",
       "      <td>4.0</td>\n",
       "      <td>-122.926726</td>\n",
       "      <td>44.046335</td>\n",
       "      <td>Fall 2012</td>\n",
       "      <td>October 2012</td>\n",
       "    </tr>\n",
       "    <tr>\n",
       "      <th>2</th>\n",
       "      <td>00001</td>\n",
       "      <td>wkd</td>\n",
       "      <td>2012-10-31 00:00:00</td>\n",
       "      <td>2</td>\n",
       "      <td>1899-12-31 09:56:00</td>\n",
       "      <td>1899-12-31 09:43:00</td>\n",
       "      <td>11</td>\n",
       "      <td>O</td>\n",
       "      <td>E/S of 58th N of Main</td>\n",
       "      <td>1114</td>\n",
       "      <td>71.05</td>\n",
       "      <td>0</td>\n",
       "      <td>1</td>\n",
       "      <td>4.0</td>\n",
       "      <td>-122.926726</td>\n",
       "      <td>44.046335</td>\n",
       "      <td>Fall 2012</td>\n",
       "      <td>October 2012</td>\n",
       "    </tr>\n",
       "    <tr>\n",
       "      <th>3</th>\n",
       "      <td>00001</td>\n",
       "      <td>wkd</td>\n",
       "      <td>2012-10-03 00:00:00</td>\n",
       "      <td>67</td>\n",
       "      <td>1899-12-31 21:36:00</td>\n",
       "      <td>1899-12-31 21:25:00</td>\n",
       "      <td>11</td>\n",
       "      <td>O</td>\n",
       "      <td>E/S of 58th N of Main</td>\n",
       "      <td>1002</td>\n",
       "      <td>137.70</td>\n",
       "      <td>1</td>\n",
       "      <td>0</td>\n",
       "      <td>27.0</td>\n",
       "      <td>-122.926726</td>\n",
       "      <td>44.046335</td>\n",
       "      <td>Fall 2012</td>\n",
       "      <td>October 2012</td>\n",
       "    </tr>\n",
       "    <tr>\n",
       "      <th>4</th>\n",
       "      <td>00001</td>\n",
       "      <td>wkd</td>\n",
       "      <td>2012-10-24 00:00:00</td>\n",
       "      <td>60</td>\n",
       "      <td>1899-12-31 11:33:00</td>\n",
       "      <td>1899-12-31 11:20:00</td>\n",
       "      <td>11</td>\n",
       "      <td>O</td>\n",
       "      <td>E/S of 58th N of Main</td>\n",
       "      <td>772</td>\n",
       "      <td>53.77</td>\n",
       "      <td>0</td>\n",
       "      <td>1</td>\n",
       "      <td>9.0</td>\n",
       "      <td>-122.926726</td>\n",
       "      <td>44.046335</td>\n",
       "      <td>Fall 2012</td>\n",
       "      <td>October 2012</td>\n",
       "    </tr>\n",
       "  </tbody>\n",
       "</table>\n",
       "</div>"
      ],
      "text/plain": [
       "    stop  srv                 date  block             trip_end  \\\n",
       "0  00001  wkd  2012-10-05 00:00:00      2  1899-12-31 10:56:00   \n",
       "1  00001  wkd  2012-10-08 00:00:00      2  1899-12-31 12:03:00   \n",
       "2  00001  wkd  2012-10-31 00:00:00      2  1899-12-31 09:56:00   \n",
       "3  00001  wkd  2012-10-03 00:00:00     67  1899-12-31 21:36:00   \n",
       "4  00001  wkd  2012-10-24 00:00:00     60  1899-12-31 11:33:00   \n",
       "\n",
       "                  time route dir              stop_name   bus  odometer  ons  \\\n",
       "0  1899-12-31 10:46:00    11   O  E/S of 58th N of Main  1114     84.26    0   \n",
       "1  1899-12-31 11:48:00    11   O  E/S of 58th N of Main   336     97.44    0   \n",
       "2  1899-12-31 09:43:00    11   O  E/S of 58th N of Main  1114     71.05    0   \n",
       "3  1899-12-31 21:25:00    11   O  E/S of 58th N of Main  1002    137.70    1   \n",
       "4  1899-12-31 11:20:00    11   O  E/S of 58th N of Main   772     53.77    0   \n",
       "\n",
       "   offs  load   longitude   latitude     Season     MonthYear  \n",
       "0     3   5.0 -122.926726  44.046335  Fall 2012  October 2012  \n",
       "1     1   4.0 -122.926726  44.046335  Fall 2012  October 2012  \n",
       "2     1   4.0 -122.926726  44.046335  Fall 2012  October 2012  \n",
       "3     0  27.0 -122.926726  44.046335  Fall 2012  October 2012  \n",
       "4     1   9.0 -122.926726  44.046335  Fall 2012  October 2012  "
      ]
     },
     "execution_count": 13,
     "metadata": {},
     "output_type": "execute_result"
    }
   ],
   "source": [
    "on_counts.head()"
   ]
  },
  {
   "cell_type": "code",
   "execution_count": 14,
   "metadata": {},
   "outputs": [
    {
     "data": {
      "text/plain": [
       "['stop',\n",
       " 'srv',\n",
       " 'date',\n",
       " 'block',\n",
       " 'trip_end',\n",
       " 'time',\n",
       " 'route',\n",
       " 'dir',\n",
       " 'stop_name',\n",
       " 'bus',\n",
       " 'odometer',\n",
       " 'ons',\n",
       " 'offs',\n",
       " 'load',\n",
       " 'longitude',\n",
       " 'latitude',\n",
       " 'Season',\n",
       " 'MonthYear']"
      ]
     },
     "execution_count": 14,
     "metadata": {},
     "output_type": "execute_result"
    }
   ],
   "source": [
    "list(on_counts)"
   ]
  },
  {
   "cell_type": "code",
   "execution_count": 17,
   "metadata": {},
   "outputs": [],
   "source": [
    "out_df = on_counts.groupby('stop_name')[['ons']].sum()"
   ]
  },
  {
   "cell_type": "code",
   "execution_count": 22,
   "metadata": {},
   "outputs": [],
   "source": [
    "lonlat = on_counts[['stop_name', 'longitude', 'latitude']].drop_duplicates()"
   ]
  },
  {
   "cell_type": "code",
   "execution_count": 23,
   "metadata": {},
   "outputs": [
    {
     "data": {
      "text/html": [
       "<div>\n",
       "<style scoped>\n",
       "    .dataframe tbody tr th:only-of-type {\n",
       "        vertical-align: middle;\n",
       "    }\n",
       "\n",
       "    .dataframe tbody tr th {\n",
       "        vertical-align: top;\n",
       "    }\n",
       "\n",
       "    .dataframe thead th {\n",
       "        text-align: right;\n",
       "    }\n",
       "</style>\n",
       "<table border=\"1\" class=\"dataframe\">\n",
       "  <thead>\n",
       "    <tr style=\"text-align: right;\">\n",
       "      <th></th>\n",
       "      <th>stop_name</th>\n",
       "      <th>longitude</th>\n",
       "      <th>latitude</th>\n",
       "    </tr>\n",
       "  </thead>\n",
       "  <tbody>\n",
       "    <tr>\n",
       "      <th>0</th>\n",
       "      <td>E/S of 58th N of Main</td>\n",
       "      <td>-122.926726</td>\n",
       "      <td>44.046335</td>\n",
       "    </tr>\n",
       "    <tr>\n",
       "      <th>1214</th>\n",
       "      <td>E/S of 58th S of D</td>\n",
       "      <td>-122.926220</td>\n",
       "      <td>44.049456</td>\n",
       "    </tr>\n",
       "    <tr>\n",
       "      <th>2183</th>\n",
       "      <td>E/S of 58th S of Thurston Rd</td>\n",
       "      <td>-122.926243</td>\n",
       "      <td>44.052247</td>\n",
       "    </tr>\n",
       "    <tr>\n",
       "      <th>2857</th>\n",
       "      <td>S/S of Thurston W of 64th</td>\n",
       "      <td>-122.916628</td>\n",
       "      <td>44.052949</td>\n",
       "    </tr>\n",
       "    <tr>\n",
       "      <th>3588</th>\n",
       "      <td>S/S of Thurston E of 65th</td>\n",
       "      <td>-122.913227</td>\n",
       "      <td>44.052675</td>\n",
       "    </tr>\n",
       "  </tbody>\n",
       "</table>\n",
       "</div>"
      ],
      "text/plain": [
       "                         stop_name   longitude   latitude\n",
       "0            E/S of 58th N of Main -122.926726  44.046335\n",
       "1214            E/S of 58th S of D -122.926220  44.049456\n",
       "2183  E/S of 58th S of Thurston Rd -122.926243  44.052247\n",
       "2857     S/S of Thurston W of 64th -122.916628  44.052949\n",
       "3588     S/S of Thurston E of 65th -122.913227  44.052675"
      ]
     },
     "execution_count": 23,
     "metadata": {},
     "output_type": "execute_result"
    }
   ],
   "source": [
    "lonlat.head()"
   ]
  },
  {
   "cell_type": "code",
   "execution_count": 26,
   "metadata": {},
   "outputs": [],
   "source": [
    "df = out_df.merge(lonlat, how='inner', on='stop_name')"
   ]
  },
  {
   "cell_type": "code",
   "execution_count": 27,
   "metadata": {},
   "outputs": [
    {
     "data": {
      "text/html": [
       "<div>\n",
       "<style scoped>\n",
       "    .dataframe tbody tr th:only-of-type {\n",
       "        vertical-align: middle;\n",
       "    }\n",
       "\n",
       "    .dataframe tbody tr th {\n",
       "        vertical-align: top;\n",
       "    }\n",
       "\n",
       "    .dataframe thead th {\n",
       "        text-align: right;\n",
       "    }\n",
       "</style>\n",
       "<table border=\"1\" class=\"dataframe\">\n",
       "  <thead>\n",
       "    <tr style=\"text-align: right;\">\n",
       "      <th></th>\n",
       "      <th>stop_name</th>\n",
       "      <th>ons</th>\n",
       "      <th>longitude</th>\n",
       "      <th>latitude</th>\n",
       "    </tr>\n",
       "  </thead>\n",
       "  <tbody>\n",
       "    <tr>\n",
       "      <th>0</th>\n",
       "      <td>\"E\" Street Station</td>\n",
       "      <td>5619</td>\n",
       "      <td>-123.022069</td>\n",
       "      <td>44.050859</td>\n",
       "    </tr>\n",
       "    <tr>\n",
       "      <th>1</th>\n",
       "      <td>\"F\" Street Station</td>\n",
       "      <td>5812</td>\n",
       "      <td>-123.023180</td>\n",
       "      <td>44.051158</td>\n",
       "    </tr>\n",
       "    <tr>\n",
       "      <th>2</th>\n",
       "      <td>\"Q\" Street Station inbound</td>\n",
       "      <td>11636</td>\n",
       "      <td>-123.026118</td>\n",
       "      <td>44.062726</td>\n",
       "    </tr>\n",
       "    <tr>\n",
       "      <th>3</th>\n",
       "      <td>\"Q\" Street Station outbound</td>\n",
       "      <td>6258</td>\n",
       "      <td>-123.026273</td>\n",
       "      <td>44.063299</td>\n",
       "    </tr>\n",
       "    <tr>\n",
       "      <th>4</th>\n",
       "      <td>(RRS) E/S River Rd N of River Ave (NE)</td>\n",
       "      <td>72133</td>\n",
       "      <td>-123.126966</td>\n",
       "      <td>44.096173</td>\n",
       "    </tr>\n",
       "  </tbody>\n",
       "</table>\n",
       "</div>"
      ],
      "text/plain": [
       "                                stop_name    ons   longitude   latitude\n",
       "0                      \"E\" Street Station   5619 -123.022069  44.050859\n",
       "1                      \"F\" Street Station   5812 -123.023180  44.051158\n",
       "2              \"Q\" Street Station inbound  11636 -123.026118  44.062726\n",
       "3             \"Q\" Street Station outbound   6258 -123.026273  44.063299\n",
       "4  (RRS) E/S River Rd N of River Ave (NE)  72133 -123.126966  44.096173"
      ]
     },
     "execution_count": 27,
     "metadata": {},
     "output_type": "execute_result"
    }
   ],
   "source": [
    "df.head()"
   ]
  },
  {
   "cell_type": "code",
   "execution_count": 35,
   "metadata": {},
   "outputs": [],
   "source": [
    "stops_frequency = gpd.GeoDataFrame(\n",
    "    df, geometry=gpd.points_from_xy(df.longitude, df.latitude))"
   ]
  },
  {
   "cell_type": "code",
   "execution_count": 36,
   "metadata": {},
   "outputs": [],
   "source": [
    "stops_frequency.crs = \"EPSG:2914\""
   ]
  },
  {
   "cell_type": "code",
   "execution_count": 37,
   "metadata": {},
   "outputs": [],
   "source": [
    "stops_frequency.to_file(os.path.join(outpath, \"stops_frequency.shp\"))"
   ]
  },
  {
   "cell_type": "code",
   "execution_count": null,
   "metadata": {},
   "outputs": [],
   "source": []
  }
 ],
 "metadata": {
  "kernelspec": {
   "display_name": "Python 3",
   "language": "python",
   "name": "python3"
  },
  "language_info": {
   "codemirror_mode": {
    "name": "ipython",
    "version": 3
   },
   "file_extension": ".py",
   "mimetype": "text/x-python",
   "name": "python",
   "nbconvert_exporter": "python",
   "pygments_lexer": "ipython3",
   "version": "3.7.9"
  }
 },
 "nbformat": 4,
 "nbformat_minor": 4
}

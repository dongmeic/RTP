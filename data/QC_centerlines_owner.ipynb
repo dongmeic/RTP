{
 "cells": [
  {
   "cell_type": "code",
   "execution_count": 1,
   "id": "71d26670",
   "metadata": {},
   "outputs": [],
   "source": [
    "import geopandas as gpd\n",
    "import os\n",
    "from sqlalchemy import create_engine\n",
    "import QC_centerlines as QC"
   ]
  },
  {
   "cell_type": "code",
   "execution_count": 2,
   "id": "39ecc3b8",
   "metadata": {},
   "outputs": [],
   "source": [
    "# second check\n",
    "res = QC.reviewCommonIDs(export=True, commonIDonly=True, update=True)"
   ]
  },
  {
   "cell_type": "code",
   "execution_count": 3,
   "id": "f8057037",
   "metadata": {},
   "outputs": [],
   "source": [
    "resSPR = QC.reviewCommonIDs(ugb='SPR', export=True, commonIDonly=True, update=True)"
   ]
  },
  {
   "cell_type": "code",
   "execution_count": 4,
   "id": "cea2cedf",
   "metadata": {},
   "outputs": [],
   "source": [
    "res2 = QC.reviewCommonIDs(export=True, update=True)"
   ]
  },
  {
   "cell_type": "code",
   "execution_count": 5,
   "id": "d70b6374",
   "metadata": {},
   "outputs": [],
   "source": [
    "resSPR2 = QC.reviewCommonIDs(ugb='SPR', export=True, update=True)"
   ]
  },
  {
   "cell_type": "code",
   "execution_count": 6,
   "id": "59a491d6",
   "metadata": {},
   "outputs": [],
   "source": [
    "# initial check\n",
    "res = QC.reviewCommonIDs(export=True, commonIDonly=True)"
   ]
  },
  {
   "cell_type": "code",
   "execution_count": 7,
   "id": "eba66052",
   "metadata": {},
   "outputs": [],
   "source": [
    "resSPR = QC.reviewCommonIDs(ugb='SPR', export=True, commonIDonly=True)"
   ]
  },
  {
   "cell_type": "code",
   "execution_count": 8,
   "id": "da3b383a",
   "metadata": {},
   "outputs": [],
   "source": [
    "res2 = QC.reviewCommonIDs(export=True)"
   ]
  },
  {
   "cell_type": "code",
   "execution_count": 9,
   "id": "798d0aa3",
   "metadata": {},
   "outputs": [],
   "source": [
    "resSPR2 = QC.reviewCommonIDs(ugb='SPR', export=True)"
   ]
  },
  {
   "cell_type": "code",
   "execution_count": 10,
   "id": "5ef0f1c6",
   "metadata": {},
   "outputs": [
    {
     "name": "stdout",
     "output_type": "stream",
     "text": [
      "Comparison between Central Lane (CL) and Eugene (EUG) street data:\n",
      "\n",
      "There are 2755 IDs in common between CL and EUG, 104 EUG IDs are not in CL and 86 CL IDs are not in EUG;\n",
      "In the common IDs, 15 EUG IDs and 111 CL IDs have more than one feature, and 2640 IDs have one feature only in both.\n",
      "\n",
      "\n",
      "Comparison between Central Lane (CL) and Springfield (SPR) street data:\n",
      "\n",
      "There are 608 IDs in common between CL and SPR, 310 SPR IDs are not in CL and 59 CL IDs are not in SPR;\n",
      "In the common IDs, 31 SPR IDs and 58 CL IDs have more than one feature, and 541 IDs have one feature only in both.\n"
     ]
    }
   ],
   "source": [
    "QC.diffInIDs()"
   ]
  },
  {
   "cell_type": "code",
   "execution_count": null,
   "id": "5788574f",
   "metadata": {},
   "outputs": [],
   "source": [
    "QC.diffInIDs()"
   ]
  },
  {
   "cell_type": "code",
   "execution_count": 5,
   "id": "27274b67",
   "metadata": {},
   "outputs": [],
   "source": [
    "path = r'T:\\MPO\\RTP\\FY20 2045 Update\\Data and Resources\\Data\\Centerline_Network.gdb'"
   ]
  },
  {
   "cell_type": "code",
   "execution_count": 6,
   "id": "2c10302f",
   "metadata": {},
   "outputs": [],
   "source": [
    "EUGstreets = gpd.read_file(path, layer='EUG_Streets')\n",
    "SPRstreets = QC.adjustSPRownerName()\n",
    "CLstreets = gpd.read_file(path, layer='Centerlines')"
   ]
  },
  {
   "cell_type": "code",
   "execution_count": 7,
   "id": "e4f0e8fa",
   "metadata": {},
   "outputs": [
    {
     "data": {
      "text/plain": [
       "Index(['OBJECTID', 'SEG_ID', 'LCPWID', 'EUGID', 'SPRID', 'LCOGID', 'OWNER',\n",
       "       'MAINT', 'SOURCE', 'METHOD', 'FCLASS', 'PAVED', 'DIR', 'NAME', 'TYPE',\n",
       "       'SPEED', 'AIRSSPEED', 'ONEWAY', 'TRAFFLOW', 'AIRSNAME', 'F_ZLEV',\n",
       "       'T_ZLEV', 'L_LADD', 'L_HADD', 'R_LADD', 'R_HADD', 'CHANGE',\n",
       "       'CONTRIBUTO', 'TMP', 'INFLINE', 'ACCESS_CNT', 'ROW_Width_',\n",
       "       'ROW_Widt_1', 'Shape__Len', 'GlobalID', 'Shape_Length', 'geometry'],\n",
       "      dtype='object')"
      ]
     },
     "execution_count": 7,
     "metadata": {},
     "output_type": "execute_result"
    }
   ],
   "source": [
    "EUGstreets.columns"
   ]
  },
  {
   "cell_type": "code",
   "execution_count": 8,
   "id": "b0af5079",
   "metadata": {},
   "outputs": [
    {
     "data": {
      "text/html": [
       "<div>\n",
       "<style scoped>\n",
       "    .dataframe tbody tr th:only-of-type {\n",
       "        vertical-align: middle;\n",
       "    }\n",
       "\n",
       "    .dataframe tbody tr th {\n",
       "        vertical-align: top;\n",
       "    }\n",
       "\n",
       "    .dataframe thead th {\n",
       "        text-align: right;\n",
       "    }\n",
       "</style>\n",
       "<table border=\"1\" class=\"dataframe\">\n",
       "  <thead>\n",
       "    <tr style=\"text-align: right;\">\n",
       "      <th></th>\n",
       "      <th>EUGID</th>\n",
       "      <th>OWNER</th>\n",
       "      <th>NAME</th>\n",
       "      <th>TYPE</th>\n",
       "      <th>AIRSNAME</th>\n",
       "      <th>FCLASS</th>\n",
       "      <th>Shape_Length</th>\n",
       "      <th>geometry</th>\n",
       "    </tr>\n",
       "  </thead>\n",
       "  <tbody>\n",
       "    <tr>\n",
       "      <th>2753</th>\n",
       "      <td>54742</td>\n",
       "      <td>ODOT</td>\n",
       "      <td>DELTA</td>\n",
       "      <td>HWY</td>\n",
       "      <td>SB DELTA HWY</td>\n",
       "      <td>MAJART</td>\n",
       "      <td>2608.350937</td>\n",
       "      <td>MULTILINESTRING ((4237030.003 890452.333, 4237...</td>\n",
       "    </tr>\n",
       "  </tbody>\n",
       "</table>\n",
       "</div>"
      ],
      "text/plain": [
       "      EUGID OWNER   NAME TYPE      AIRSNAME  FCLASS  Shape_Length  \\\n",
       "2753  54742  ODOT  DELTA  HWY  SB DELTA HWY  MAJART   2608.350937   \n",
       "\n",
       "                                               geometry  \n",
       "2753  MULTILINESTRING ((4237030.003 890452.333, 4237...  "
      ]
     },
     "execution_count": 8,
     "metadata": {},
     "output_type": "execute_result"
    }
   ],
   "source": [
    "EUGstreets[EUGstreets.EUGID == 54742][['EUGID', 'OWNER', 'NAME', 'TYPE', 'AIRSNAME', 'FCLASS', 'Shape_Length', 'geometry']]"
   ]
  },
  {
   "cell_type": "code",
   "execution_count": 9,
   "id": "887b1273",
   "metadata": {},
   "outputs": [
    {
     "data": {
      "text/plain": [
       "Index(['seg_id', 'lcpwid', 'eugid', 'sprid', 'lcogid', 'dir', 'name', 'type',\n",
       "       'airsname', 'rlidname', 'l_ladd', 'l_hadd', 'r_ladd', 'r_hadd',\n",
       "       'mailcity', 'county', 'state', 'zipcode', 'fclass', 'fed_class',\n",
       "       'airsclass', 'cclass', 'paved', 'speed', 'snowroute', 'owner', 'maint',\n",
       "       'source', 'method', 'contributor', 'ugbcity', 'one_way', 'fnode',\n",
       "       'tnode', 'f_zlev', 't_zlev', 'optcost', 'road_segment_gfid',\n",
       "       'Shape_Length', 'geometry'],\n",
       "      dtype='object')"
      ]
     },
     "execution_count": 9,
     "metadata": {},
     "output_type": "execute_result"
    }
   ],
   "source": [
    "CLstreets.columns"
   ]
  },
  {
   "cell_type": "code",
   "execution_count": 10,
   "id": "6f093faf",
   "metadata": {},
   "outputs": [
    {
     "data": {
      "text/html": [
       "<div>\n",
       "<style scoped>\n",
       "    .dataframe tbody tr th:only-of-type {\n",
       "        vertical-align: middle;\n",
       "    }\n",
       "\n",
       "    .dataframe tbody tr th {\n",
       "        vertical-align: top;\n",
       "    }\n",
       "\n",
       "    .dataframe thead th {\n",
       "        text-align: right;\n",
       "    }\n",
       "</style>\n",
       "<table border=\"1\" class=\"dataframe\">\n",
       "  <thead>\n",
       "    <tr style=\"text-align: right;\">\n",
       "      <th></th>\n",
       "      <th>eugid</th>\n",
       "      <th>owner</th>\n",
       "      <th>name</th>\n",
       "      <th>type</th>\n",
       "      <th>rlidname</th>\n",
       "      <th>fclass</th>\n",
       "      <th>Shape_Length</th>\n",
       "      <th>geometry</th>\n",
       "    </tr>\n",
       "  </thead>\n",
       "  <tbody>\n",
       "    <tr>\n",
       "      <th>1148</th>\n",
       "      <td>54742.0</td>\n",
       "      <td>LCPW</td>\n",
       "      <td>DELTA</td>\n",
       "      <td>HWY</td>\n",
       "      <td>Delta Hwy</td>\n",
       "      <td>MAJART</td>\n",
       "      <td>2608.349576</td>\n",
       "      <td>MULTILINESTRING ((4237030.003 890452.333, 4236...</td>\n",
       "    </tr>\n",
       "  </tbody>\n",
       "</table>\n",
       "</div>"
      ],
      "text/plain": [
       "        eugid owner   name type   rlidname  fclass  Shape_Length  \\\n",
       "1148  54742.0  LCPW  DELTA  HWY  Delta Hwy  MAJART   2608.349576   \n",
       "\n",
       "                                               geometry  \n",
       "1148  MULTILINESTRING ((4237030.003 890452.333, 4236...  "
      ]
     },
     "execution_count": 10,
     "metadata": {},
     "output_type": "execute_result"
    }
   ],
   "source": [
    "CLstreets[CLstreets.eugid == 54742][['eugid', 'owner', 'name', 'type', 'rlidname', 'fclass', 'Shape_Length', 'geometry']]"
   ]
  },
  {
   "cell_type": "code",
   "execution_count": 11,
   "id": "d3f51b65",
   "metadata": {},
   "outputs": [
    {
     "data": {
      "text/plain": [
       "array([2608.35093677])"
      ]
     },
     "execution_count": 11,
     "metadata": {},
     "output_type": "execute_result"
    }
   ],
   "source": [
    "EUGstreets[EUGstreets.EUGID == 54742].geometry.values.length"
   ]
  },
  {
   "cell_type": "code",
   "execution_count": 12,
   "id": "a1070c26",
   "metadata": {},
   "outputs": [
    {
     "data": {
      "text/plain": [
       "array([[4236583.51804462,  887963.79002625, 4237030.00295275,\n",
       "         890452.33300525]])"
      ]
     },
     "execution_count": 12,
     "metadata": {},
     "output_type": "execute_result"
    }
   ],
   "source": [
    "EUGstreets[EUGstreets.EUGID == 54742].geometry.values.bounds"
   ]
  },
  {
   "cell_type": "code",
   "execution_count": 13,
   "id": "9c3219e6",
   "metadata": {},
   "outputs": [
    {
     "data": {
      "text/plain": [
       "array([[4236583.51706037,  887963.79002625, 4237030.00295275,\n",
       "         890452.33300525]])"
      ]
     },
     "execution_count": 13,
     "metadata": {},
     "output_type": "execute_result"
    }
   ],
   "source": [
    "CLstreets[CLstreets.eugid == 54742].geometry.values.bounds"
   ]
  },
  {
   "cell_type": "code",
   "execution_count": 14,
   "id": "35f0af31",
   "metadata": {},
   "outputs": [
    {
     "data": {
      "text/plain": [
       "Index(['ADDRKEY', 'AREA', 'DISTRICT', 'FRSTKEY', 'SEGLEN', 'STKEY', 'SUBAREA',\n",
       "       'SURFTYPE', 'SURFWID', 'TOSTKEY', 'TRUCKROUTE', 'UNITID', 'UNITID2',\n",
       "       'UNITTYPE', 'RLIDNAME', 'COMPTYPE', 'R_HADD', 'R_LADD', 'L_HADD',\n",
       "       'L_LADD', 'ONE_WAY', 'SPEED', 'PAVED', 'FCLASS', 'MAINT', 'OWNER',\n",
       "       'LANES', 'LMiles', 'XMID', 'SNOW', 'TOKEY', 'FSTKEY', 'YMID', 'COMPKEY',\n",
       "       'Shape_Length', 'geometry'],\n",
       "      dtype='object')"
      ]
     },
     "execution_count": 14,
     "metadata": {},
     "output_type": "execute_result"
    }
   ],
   "source": [
    "SPRstreets.columns"
   ]
  },
  {
   "cell_type": "code",
   "execution_count": 15,
   "id": "feb64eb0",
   "metadata": {},
   "outputs": [
    {
     "data": {
      "text/plain": [
       "array(['EUG', 'SPR', 'ODOT', 'LCPW', 'COB', 'LAR', 'PVT'], dtype=object)"
      ]
     },
     "execution_count": 15,
     "metadata": {},
     "output_type": "execute_result"
    }
   ],
   "source": [
    "CLstreets.owner.unique()"
   ]
  },
  {
   "cell_type": "code",
   "execution_count": 16,
   "id": "90a4fff4",
   "metadata": {},
   "outputs": [
    {
     "data": {
      "text/plain": [
       "array(['EUG', 'LCPW', 'ODOT', 'PVT', 'SPR', 'LAR', ' '], dtype=object)"
      ]
     },
     "execution_count": 16,
     "metadata": {},
     "output_type": "execute_result"
    }
   ],
   "source": [
    "EUGstreets.OWNER.unique()"
   ]
  },
  {
   "cell_type": "code",
   "execution_count": 17,
   "id": "d181bce4",
   "metadata": {},
   "outputs": [
    {
     "data": {
      "text/plain": [
       "array(['SPR', 'ODOT', 'LCPW', ' ', 'PVT'], dtype=object)"
      ]
     },
     "execution_count": 17,
     "metadata": {},
     "output_type": "execute_result"
    }
   ],
   "source": [
    "SPRstreets.OWNER.unique()"
   ]
  },
  {
   "cell_type": "code",
   "execution_count": 18,
   "id": "bcb4d190",
   "metadata": {},
   "outputs": [
    {
     "data": {
      "text/html": [
       "<div>\n",
       "<style scoped>\n",
       "    .dataframe tbody tr th:only-of-type {\n",
       "        vertical-align: middle;\n",
       "    }\n",
       "\n",
       "    .dataframe tbody tr th {\n",
       "        vertical-align: top;\n",
       "    }\n",
       "\n",
       "    .dataframe thead th {\n",
       "        text-align: right;\n",
       "    }\n",
       "</style>\n",
       "<table border=\"1\" class=\"dataframe\">\n",
       "  <thead>\n",
       "    <tr style=\"text-align: right;\">\n",
       "      <th></th>\n",
       "      <th>COMPKEY</th>\n",
       "      <th>OWNER</th>\n",
       "      <th>RLIDNAME</th>\n",
       "      <th>FCLASS</th>\n",
       "      <th>Shape_Length</th>\n",
       "      <th>geometry</th>\n",
       "    </tr>\n",
       "  </thead>\n",
       "  <tbody>\n",
       "    <tr>\n",
       "      <th>612</th>\n",
       "      <td>1021028.0</td>\n",
       "      <td>ODOT</td>\n",
       "      <td>S A St</td>\n",
       "      <td>MAJART</td>\n",
       "      <td>701.897708</td>\n",
       "      <td>MULTILINESTRING ((4256412.299 876698.068, 4256...</td>\n",
       "    </tr>\n",
       "  </tbody>\n",
       "</table>\n",
       "</div>"
      ],
      "text/plain": [
       "       COMPKEY OWNER RLIDNAME  FCLASS  Shape_Length  \\\n",
       "612  1021028.0  ODOT   S A St  MAJART    701.897708   \n",
       "\n",
       "                                              geometry  \n",
       "612  MULTILINESTRING ((4256412.299 876698.068, 4256...  "
      ]
     },
     "execution_count": 18,
     "metadata": {},
     "output_type": "execute_result"
    }
   ],
   "source": [
    "SPRstreets[SPRstreets.COMPKEY == 1021028][['COMPKEY', 'OWNER', 'RLIDNAME', 'FCLASS', 'Shape_Length', 'geometry']]"
   ]
  },
  {
   "cell_type": "code",
   "execution_count": 19,
   "id": "a6218165",
   "metadata": {},
   "outputs": [
    {
     "data": {
      "text/plain": [
       "array([[4256412.29888451,  876698.06791338, 4257058.04986876,\n",
       "         876972.95866142]])"
      ]
     },
     "execution_count": 19,
     "metadata": {},
     "output_type": "execute_result"
    }
   ],
   "source": [
    "SPRstreets[SPRstreets.COMPKEY == 1021028].geometry.values.bounds"
   ]
  },
  {
   "cell_type": "code",
   "execution_count": 20,
   "id": "05083695",
   "metadata": {},
   "outputs": [
    {
     "data": {
      "text/html": [
       "<div>\n",
       "<style scoped>\n",
       "    .dataframe tbody tr th:only-of-type {\n",
       "        vertical-align: middle;\n",
       "    }\n",
       "\n",
       "    .dataframe tbody tr th {\n",
       "        vertical-align: top;\n",
       "    }\n",
       "\n",
       "    .dataframe thead th {\n",
       "        text-align: right;\n",
       "    }\n",
       "</style>\n",
       "<table border=\"1\" class=\"dataframe\">\n",
       "  <thead>\n",
       "    <tr style=\"text-align: right;\">\n",
       "      <th></th>\n",
       "      <th>sprid</th>\n",
       "      <th>owner</th>\n",
       "      <th>rlidname</th>\n",
       "      <th>fclass</th>\n",
       "      <th>Shape_Length</th>\n",
       "      <th>geometry</th>\n",
       "    </tr>\n",
       "  </thead>\n",
       "  <tbody>\n",
       "    <tr>\n",
       "      <th>2561</th>\n",
       "      <td>1021028.0</td>\n",
       "      <td>SPR</td>\n",
       "      <td>S A St</td>\n",
       "      <td>MINART</td>\n",
       "      <td>420.410569</td>\n",
       "      <td>MULTILINESTRING ((4256412.299 876698.068, 4256...</td>\n",
       "    </tr>\n",
       "    <tr>\n",
       "      <th>3851</th>\n",
       "      <td>1021028.0</td>\n",
       "      <td>ODOT</td>\n",
       "      <td>S A St</td>\n",
       "      <td>MINART</td>\n",
       "      <td>281.487144</td>\n",
       "      <td>MULTILINESTRING ((4256799.834 876860.924, 4256...</td>\n",
       "    </tr>\n",
       "  </tbody>\n",
       "</table>\n",
       "</div>"
      ],
      "text/plain": [
       "          sprid owner rlidname  fclass  Shape_Length  \\\n",
       "2561  1021028.0   SPR   S A St  MINART    420.410569   \n",
       "3851  1021028.0  ODOT   S A St  MINART    281.487144   \n",
       "\n",
       "                                               geometry  \n",
       "2561  MULTILINESTRING ((4256412.299 876698.068, 4256...  \n",
       "3851  MULTILINESTRING ((4256799.834 876860.924, 4256...  "
      ]
     },
     "execution_count": 20,
     "metadata": {},
     "output_type": "execute_result"
    }
   ],
   "source": [
    "CLstreets[CLstreets.sprid == 1021028][['sprid', 'owner', 'rlidname', 'fclass', 'Shape_Length', 'geometry']]"
   ]
  },
  {
   "cell_type": "code",
   "execution_count": 21,
   "id": "e66ab052",
   "metadata": {},
   "outputs": [
    {
     "data": {
      "text/plain": [
       "pandas.core.series.Series"
      ]
     },
     "execution_count": 21,
     "metadata": {},
     "output_type": "execute_result"
    }
   ],
   "source": [
    "type(CLstreets[CLstreets.sprid == 1021028].iloc[0])"
   ]
  },
  {
   "cell_type": "code",
   "execution_count": 22,
   "id": "389dcbc6",
   "metadata": {},
   "outputs": [
    {
     "data": {
      "image/svg+xml": [
       "<svg xmlns=\"http://www.w3.org/2000/svg\" xmlns:xlink=\"http://www.w3.org/1999/xlink\" width=\"300\" height=\"193.8588057733141\" viewBox=\"4256396.797467188 876682.5664960605 418.53826771490276 193.8588057733141\" preserveAspectRatio=\"xMinYMin meet\"><g transform=\"matrix(1,0,0,-1,0,1753558.9917978942)\"><g><polyline fill=\"none\" stroke=\"#66cc99\" stroke-width=\"2.790255118099352\" points=\"4256412.298884511,876698.0679133832 4256541.203740165,876755.0774278194 4256547.75,876757.7411417365 4256556.793307081,876761.4212598354 4256735.5731627345,876834.1722441018 4256739.544619426,876835.7883858234 4256741.395013124,876836.5413385779 4256778.5987532735,876851.6807742715 4256780.91010499,876852.6213910729 4256786.603674546,876854.9383202046 4256799.83431758,876860.923884511\" opacity=\"0.8\" /></g></g></svg>"
      ],
      "text/plain": [
       "<shapely.geometry.multilinestring.MultiLineString at 0x26a6bf47ee0>"
      ]
     },
     "execution_count": 22,
     "metadata": {},
     "output_type": "execute_result"
    }
   ],
   "source": [
    "CLstreets[CLstreets.sprid == 1021028].geometry.values[0]"
   ]
  },
  {
   "cell_type": "code",
   "execution_count": 23,
   "id": "b8e31ce0",
   "metadata": {},
   "outputs": [
    {
     "data": {
      "text/plain": [
       "(4256412.298884511, 876698.0679133832, 4256799.83431758, 876860.923884511)"
      ]
     },
     "execution_count": 23,
     "metadata": {},
     "output_type": "execute_result"
    }
   ],
   "source": [
    "CLstreets[CLstreets.sprid == 1021028].geometry.values[0].bounds"
   ]
  },
  {
   "cell_type": "code",
   "execution_count": 24,
   "id": "670e308f",
   "metadata": {},
   "outputs": [
    {
     "data": {
      "text/plain": [
       "tuple"
      ]
     },
     "execution_count": 24,
     "metadata": {},
     "output_type": "execute_result"
    }
   ],
   "source": [
    "type(CLstreets[CLstreets.sprid == 1021028].geometry.values[0].bounds)"
   ]
  },
  {
   "cell_type": "code",
   "execution_count": 26,
   "id": "d49a949b",
   "metadata": {},
   "outputs": [],
   "source": [
    "engine = create_engine(   \n",
    "\"mssql+pyodbc:///?odbc_connect=Driver={ODBC Driver 17 for SQL Server};\"\n",
    "\"Server=geodb.int.lcog.org,5433;Database=Springfield_Infrastructure_P;\"\n",
    "\"UID=dchen;PWD=SPEED-SURE-MAIL-behind\")"
   ]
  },
  {
   "cell_type": "code",
   "execution_count": 27,
   "id": "c973f7f6",
   "metadata": {},
   "outputs": [],
   "source": [
    "sql = '''\n",
    "SELECT\n",
    "RLIDNAME,\n",
    "ONE_WAY,\n",
    "SPEED,\n",
    "PAVED,\n",
    "FCLASS,\n",
    "OWNER,\n",
    "LANES,\n",
    "LMiles,\n",
    "COMPKEY,\n",
    "Shape.STAsBinary() AS GEOM\n",
    "FROM Springfield_Infrastructure_P.SPRADM.Streets_evw;\n",
    "'''"
   ]
  },
  {
   "cell_type": "code",
   "execution_count": 28,
   "id": "48f58d1c",
   "metadata": {},
   "outputs": [],
   "source": [
    "SPRstreet = gpd.GeoDataFrame.from_postgis(sql, engine, geom_col='GEOM')"
   ]
  },
  {
   "cell_type": "code",
   "execution_count": 29,
   "id": "3e810bca",
   "metadata": {},
   "outputs": [
    {
     "data": {
      "text/html": [
       "<div>\n",
       "<style scoped>\n",
       "    .dataframe tbody tr th:only-of-type {\n",
       "        vertical-align: middle;\n",
       "    }\n",
       "\n",
       "    .dataframe tbody tr th {\n",
       "        vertical-align: top;\n",
       "    }\n",
       "\n",
       "    .dataframe thead th {\n",
       "        text-align: right;\n",
       "    }\n",
       "</style>\n",
       "<table border=\"1\" class=\"dataframe\">\n",
       "  <thead>\n",
       "    <tr style=\"text-align: right;\">\n",
       "      <th></th>\n",
       "      <th>RLIDNAME</th>\n",
       "      <th>ONE_WAY</th>\n",
       "      <th>SPEED</th>\n",
       "      <th>PAVED</th>\n",
       "      <th>FCLASS</th>\n",
       "      <th>OWNER</th>\n",
       "      <th>LANES</th>\n",
       "      <th>LMiles</th>\n",
       "      <th>COMPKEY</th>\n",
       "      <th>GEOM</th>\n",
       "    </tr>\n",
       "  </thead>\n",
       "  <tbody>\n",
       "    <tr>\n",
       "      <th>3554</th>\n",
       "      <td>Hosanna Ln</td>\n",
       "      <td></td>\n",
       "      <td>0.0</td>\n",
       "      <td>N</td>\n",
       "      <td>LOCAL</td>\n",
       "      <td>PVT</td>\n",
       "      <td>0.0</td>\n",
       "      <td>0.0</td>\n",
       "      <td>1017281.0</td>\n",
       "      <td>LINESTRING (4257974.622 890358.737, 4258028.45...</td>\n",
       "    </tr>\n",
       "    <tr>\n",
       "      <th>3555</th>\n",
       "      <td>Main St</td>\n",
       "      <td>TF</td>\n",
       "      <td>30.0</td>\n",
       "      <td>Y</td>\n",
       "      <td>MAJART</td>\n",
       "      <td>ODOT</td>\n",
       "      <td>2.0</td>\n",
       "      <td>1021.0</td>\n",
       "      <td>100576.0</td>\n",
       "      <td>LINESTRING (4261145.210 877057.003, 4261160.83...</td>\n",
       "    </tr>\n",
       "    <tr>\n",
       "      <th>3556</th>\n",
       "      <td>Main St</td>\n",
       "      <td></td>\n",
       "      <td>40.0</td>\n",
       "      <td>Y</td>\n",
       "      <td>MAJART</td>\n",
       "      <td>ODOT</td>\n",
       "      <td>5.0</td>\n",
       "      <td>2556.0</td>\n",
       "      <td>101267.0</td>\n",
       "      <td>LINESTRING (4281660.835 876353.441, 4282171.46...</td>\n",
       "    </tr>\n",
       "    <tr>\n",
       "      <th>3557</th>\n",
       "      <td>Laura St</td>\n",
       "      <td></td>\n",
       "      <td>25.0</td>\n",
       "      <td>N</td>\n",
       "      <td>LOCAL</td>\n",
       "      <td>CITY</td>\n",
       "      <td>2.0</td>\n",
       "      <td>720.0</td>\n",
       "      <td>101981.0</td>\n",
       "      <td>LINESTRING (4256320.585 880618.066, 4256265.71...</td>\n",
       "    </tr>\n",
       "    <tr>\n",
       "      <th>3558</th>\n",
       "      <td>Olympic St</td>\n",
       "      <td></td>\n",
       "      <td>35.0</td>\n",
       "      <td>Y</td>\n",
       "      <td>MINART</td>\n",
       "      <td>CITY</td>\n",
       "      <td>3.0</td>\n",
       "      <td>898.0</td>\n",
       "      <td>100914.0</td>\n",
       "      <td>LINESTRING (4269077.460 881723.816, 4269376.71...</td>\n",
       "    </tr>\n",
       "  </tbody>\n",
       "</table>\n",
       "</div>"
      ],
      "text/plain": [
       "        RLIDNAME ONE_WAY  SPEED PAVED  FCLASS OWNER  LANES  LMiles    COMPKEY  \\\n",
       "3554  Hosanna Ln            0.0     N   LOCAL   PVT    0.0     0.0  1017281.0   \n",
       "3555     Main St      TF   30.0     Y  MAJART  ODOT    2.0  1021.0   100576.0   \n",
       "3556     Main St           40.0     Y  MAJART  ODOT    5.0  2556.0   101267.0   \n",
       "3557    Laura St           25.0     N   LOCAL  CITY    2.0   720.0   101981.0   \n",
       "3558  Olympic St           35.0     Y  MINART  CITY    3.0   898.0   100914.0   \n",
       "\n",
       "                                                   GEOM  \n",
       "3554  LINESTRING (4257974.622 890358.737, 4258028.45...  \n",
       "3555  LINESTRING (4261145.210 877057.003, 4261160.83...  \n",
       "3556  LINESTRING (4281660.835 876353.441, 4282171.46...  \n",
       "3557  LINESTRING (4256320.585 880618.066, 4256265.71...  \n",
       "3558  LINESTRING (4269077.460 881723.816, 4269376.71...  "
      ]
     },
     "execution_count": 29,
     "metadata": {},
     "output_type": "execute_result"
    }
   ],
   "source": [
    "SPRstreet.tail()"
   ]
  }
 ],
 "metadata": {
  "kernelspec": {
   "display_name": "Python 3",
   "language": "python",
   "name": "python3"
  },
  "language_info": {
   "codemirror_mode": {
    "name": "ipython",
    "version": 3
   },
   "file_extension": ".py",
   "mimetype": "text/x-python",
   "name": "python",
   "nbconvert_exporter": "python",
   "pygments_lexer": "ipython3",
   "version": "3.8.8"
  }
 },
 "nbformat": 4,
 "nbformat_minor": 5
}

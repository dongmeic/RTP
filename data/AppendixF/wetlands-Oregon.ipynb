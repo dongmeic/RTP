{
 "cells": [
  {
   "cell_type": "code",
   "execution_count": 1,
   "id": "4c9bbea9",
   "metadata": {},
   "outputs": [],
   "source": [
    "import os\n",
    "import geopandas as gpd"
   ]
  },
  {
   "cell_type": "code",
   "execution_count": 2,
   "id": "2523a211",
   "metadata": {},
   "outputs": [],
   "source": [
    "path = r'T:\\MPO\\RTP\\FY20 2045 Update\\Data and Resources\\Data\\ForAppendixF\\WaterQuality\\Wetlands'"
   ]
  },
  {
   "cell_type": "code",
   "execution_count": 3,
   "id": "c79cf3dc",
   "metadata": {},
   "outputs": [],
   "source": [
    "cob_lwi = gpd.read_file(os.path.join(path, 'Coburg_2000.gdb'), layer='WETLANDS_COB')"
   ]
  },
  {
   "cell_type": "code",
   "execution_count": 4,
   "id": "0eeee521",
   "metadata": {},
   "outputs": [],
   "source": [
    "spr_lwi = gpd.read_file(os.path.join(path, 'Springfield_1998.gdb'), layer='WETLANDS_SPR')"
   ]
  },
  {
   "cell_type": "code",
   "execution_count": 5,
   "id": "d463eac6",
   "metadata": {},
   "outputs": [],
   "source": [
    "sg_lwi = gpd.read_file(os.path.join(path, 'SpringfieldGlenwood_2010.gdb'), layer='WETLANDS_SG')"
   ]
  },
  {
   "cell_type": "code",
   "execution_count": 6,
   "id": "5e43d78d",
   "metadata": {},
   "outputs": [],
   "source": [
    "eug_lwi = gpd.read_file(os.path.join(path, 'Eugene_2005.gdb'), layer='WETLANDS_EUG')"
   ]
  },
  {
   "cell_type": "code",
   "execution_count": 7,
   "id": "240c8b11",
   "metadata": {},
   "outputs": [],
   "source": [
    "we_lwi = gpd.read_file(r'X:\\data\\natural\\eug\\Wetland\\wetlands.shp')"
   ]
  },
  {
   "cell_type": "code",
   "execution_count": 8,
   "id": "6fd10920",
   "metadata": {},
   "outputs": [
    {
     "data": {
      "text/plain": [
       "Index(['SITENAME', 'DATA_S_YR', 'CREAT_YR', 'DATA_METH', 'DATA_ACCU',\n",
       "       'COWARDIN', 'COWAR_S_YR', 'HGM', 'HGM_S_YR', 'POLY_S_ID',\n",
       "       'FIELD_OBS_LWI', 'DATA_S_TYP', 'HYD_BAR', 'HYD_DRA', 'HYD_FLO',\n",
       "       'WET_MGT', 'COV_TYP', 'VEG_SPEC', 'VEG_COND', 'VEG_S_YR', 'LSW',\n",
       "       'GOAL_5_17', 'SAC', 'DEVELOP', 'DSL_WD', 'DSL_FILE', 'MOSAIC', 'Acres',\n",
       "       'Shape_Length', 'Shape_Area', 'geometry'],\n",
       "      dtype='object')"
      ]
     },
     "execution_count": 8,
     "metadata": {},
     "output_type": "execute_result"
    }
   ],
   "source": [
    "eug_lwi.columns"
   ]
  },
  {
   "cell_type": "code",
   "execution_count": 9,
   "id": "5338b377",
   "metadata": {},
   "outputs": [],
   "source": [
    "we_lwi = we_lwi.to_crs(epsg=2992)"
   ]
  },
  {
   "cell_type": "code",
   "execution_count": 10,
   "id": "286cacc5",
   "metadata": {},
   "outputs": [
    {
     "data": {
      "text/plain": [
       "Index(['WETLANDS_', 'WETLANDS_I', 'PROPSTAT', 'ACRES', 'WET_TYPE',\n",
       "       'STUDY_AREA', 'STATUS', 'NEWSTAT', 'SOURCE', 'DATE_', 'SOURCE_NAM',\n",
       "       'OFF_SITE', 'INSIDE', 'DEPTH', 'PROPTYPE', 'BERM', 'DSL_PERMIT',\n",
       "       'ACE_PERMIT', 'geometry'],\n",
       "      dtype='object')"
      ]
     },
     "execution_count": 10,
     "metadata": {},
     "output_type": "execute_result"
    }
   ],
   "source": [
    "we_lwi.columns"
   ]
  },
  {
   "cell_type": "code",
   "execution_count": 11,
   "id": "8f6edcf1",
   "metadata": {},
   "outputs": [],
   "source": [
    "lwi = eug_lwi[['SITENAME', 'Acres', 'geometry']].append(spr_lwi[['SITENAME', 'Acres', 'geometry']])"
   ]
  },
  {
   "cell_type": "code",
   "execution_count": 12,
   "id": "3e607329",
   "metadata": {},
   "outputs": [],
   "source": [
    "lwi = lwi.append(cob_lwi[['SITENAME', 'Acres', 'geometry']])"
   ]
  },
  {
   "cell_type": "code",
   "execution_count": 13,
   "id": "f1ff81c6",
   "metadata": {},
   "outputs": [],
   "source": [
    "lwi = lwi.append(sg_lwi[['SITENAME', 'Acres', 'geometry']])"
   ]
  },
  {
   "cell_type": "code",
   "execution_count": 14,
   "id": "0e5d1d13",
   "metadata": {},
   "outputs": [
    {
     "data": {
      "text/html": [
       "<div>\n",
       "<style scoped>\n",
       "    .dataframe tbody tr th:only-of-type {\n",
       "        vertical-align: middle;\n",
       "    }\n",
       "\n",
       "    .dataframe tbody tr th {\n",
       "        vertical-align: top;\n",
       "    }\n",
       "\n",
       "    .dataframe thead th {\n",
       "        text-align: right;\n",
       "    }\n",
       "</style>\n",
       "<table border=\"1\" class=\"dataframe\">\n",
       "  <thead>\n",
       "    <tr style=\"text-align: right;\">\n",
       "      <th></th>\n",
       "      <th>SITENAME</th>\n",
       "      <th>Acres</th>\n",
       "      <th>geometry</th>\n",
       "    </tr>\n",
       "  </thead>\n",
       "  <tbody>\n",
       "    <tr>\n",
       "      <th>6</th>\n",
       "      <td>Springfield Glenwood</td>\n",
       "      <td>0.472493</td>\n",
       "      <td>MULTIPOLYGON (((642069.205 846235.061, 642070....</td>\n",
       "    </tr>\n",
       "    <tr>\n",
       "      <th>7</th>\n",
       "      <td>Springfield Glenwood</td>\n",
       "      <td>2.106775</td>\n",
       "      <td>MULTIPOLYGON (((642538.868 846345.369, 642525....</td>\n",
       "    </tr>\n",
       "    <tr>\n",
       "      <th>8</th>\n",
       "      <td>Springfield Glenwood</td>\n",
       "      <td>0.495555</td>\n",
       "      <td>MULTIPOLYGON (((642736.785 844890.745, 642736....</td>\n",
       "    </tr>\n",
       "    <tr>\n",
       "      <th>9</th>\n",
       "      <td>Springfield Glenwood</td>\n",
       "      <td>0.074678</td>\n",
       "      <td>MULTIPOLYGON (((642619.345 844728.716, 642583....</td>\n",
       "    </tr>\n",
       "    <tr>\n",
       "      <th>10</th>\n",
       "      <td>Springfield Glenwood</td>\n",
       "      <td>0.303320</td>\n",
       "      <td>MULTIPOLYGON (((642396.552 845343.387, 642400....</td>\n",
       "    </tr>\n",
       "  </tbody>\n",
       "</table>\n",
       "</div>"
      ],
      "text/plain": [
       "                SITENAME     Acres  \\\n",
       "6   Springfield Glenwood  0.472493   \n",
       "7   Springfield Glenwood  2.106775   \n",
       "8   Springfield Glenwood  0.495555   \n",
       "9   Springfield Glenwood  0.074678   \n",
       "10  Springfield Glenwood  0.303320   \n",
       "\n",
       "                                             geometry  \n",
       "6   MULTIPOLYGON (((642069.205 846235.061, 642070....  \n",
       "7   MULTIPOLYGON (((642538.868 846345.369, 642525....  \n",
       "8   MULTIPOLYGON (((642736.785 844890.745, 642736....  \n",
       "9   MULTIPOLYGON (((642619.345 844728.716, 642583....  \n",
       "10  MULTIPOLYGON (((642396.552 845343.387, 642400....  "
      ]
     },
     "execution_count": 14,
     "metadata": {},
     "output_type": "execute_result"
    }
   ],
   "source": [
    "lwi.tail()"
   ]
  },
  {
   "cell_type": "code",
   "execution_count": 15,
   "id": "117f9fcc",
   "metadata": {},
   "outputs": [],
   "source": [
    "we_lwi['SITENAME'] = 'West Eugene'"
   ]
  },
  {
   "cell_type": "code",
   "execution_count": 16,
   "id": "0ea575f4",
   "metadata": {},
   "outputs": [],
   "source": [
    "we_lwi.rename(columns={'ACRES':'Acres'}, inplace=True)"
   ]
  },
  {
   "cell_type": "code",
   "execution_count": 17,
   "id": "23e2c3d3",
   "metadata": {},
   "outputs": [],
   "source": [
    "lwi = lwi.append(we_lwi[['SITENAME', 'Acres', 'geometry']])"
   ]
  },
  {
   "cell_type": "code",
   "execution_count": 18,
   "id": "24260347",
   "metadata": {},
   "outputs": [],
   "source": [
    "lwi.rename(columns={'SITENAME': 'site', 'Acres':'acres'}, inplace=True)"
   ]
  },
  {
   "cell_type": "code",
   "execution_count": 19,
   "id": "f2e395ac",
   "metadata": {},
   "outputs": [],
   "source": [
    "lwi['notes'] = 'Local Wetlands Inventory'"
   ]
  },
  {
   "cell_type": "code",
   "execution_count": 20,
   "id": "3b0c7b39",
   "metadata": {},
   "outputs": [],
   "source": [
    "or_nwi = gpd.read_file(r'T:\\MPO\\RTP\\FY20 2045 Update\\Data and Resources\\Data\\ForAppendixF\\WaterQuality\\Wetlands\\OR_geodatabase_wetlands.gdb', \n",
    "                       layer='OR_Wetlands')"
   ]
  },
  {
   "cell_type": "code",
   "execution_count": 21,
   "id": "b35d47c0",
   "metadata": {},
   "outputs": [],
   "source": [
    "or_nwi['site'] = 'Oregon'"
   ]
  },
  {
   "cell_type": "code",
   "execution_count": 22,
   "id": "6c685eb4",
   "metadata": {},
   "outputs": [],
   "source": [
    "or_nwi.rename(columns={'ACRES':'acres'}, inplace=True)"
   ]
  },
  {
   "cell_type": "code",
   "execution_count": 23,
   "id": "1bc7df3d",
   "metadata": {},
   "outputs": [],
   "source": [
    "or_nwi['notes'] = 'National Wetlands Inventory'"
   ]
  },
  {
   "cell_type": "code",
   "execution_count": 24,
   "id": "fb4cac5f",
   "metadata": {},
   "outputs": [],
   "source": [
    "or_nwi = or_nwi.to_crs(epsg=2992)"
   ]
  },
  {
   "cell_type": "code",
   "execution_count": 25,
   "id": "5fc67329",
   "metadata": {},
   "outputs": [],
   "source": [
    "wetlands = or_nwi[['site', 'acres', 'notes', 'geometry']].append(lwi[['site', 'acres', 'notes', 'geometry']])"
   ]
  },
  {
   "cell_type": "code",
   "execution_count": 26,
   "id": "cc6e41eb",
   "metadata": {},
   "outputs": [
    {
     "data": {
      "text/html": [
       "<div>\n",
       "<style scoped>\n",
       "    .dataframe tbody tr th:only-of-type {\n",
       "        vertical-align: middle;\n",
       "    }\n",
       "\n",
       "    .dataframe tbody tr th {\n",
       "        vertical-align: top;\n",
       "    }\n",
       "\n",
       "    .dataframe thead th {\n",
       "        text-align: right;\n",
       "    }\n",
       "</style>\n",
       "<table border=\"1\" class=\"dataframe\">\n",
       "  <thead>\n",
       "    <tr style=\"text-align: right;\">\n",
       "      <th></th>\n",
       "      <th>site</th>\n",
       "      <th>acres</th>\n",
       "      <th>notes</th>\n",
       "      <th>geometry</th>\n",
       "    </tr>\n",
       "  </thead>\n",
       "  <tbody>\n",
       "    <tr>\n",
       "      <th>0</th>\n",
       "      <td>Oregon</td>\n",
       "      <td>11.793879</td>\n",
       "      <td>National Wetlands Inventory</td>\n",
       "      <td>MULTIPOLYGON (((775993.237 146324.880, 775992....</td>\n",
       "    </tr>\n",
       "    <tr>\n",
       "      <th>1</th>\n",
       "      <td>Oregon</td>\n",
       "      <td>17.770904</td>\n",
       "      <td>National Wetlands Inventory</td>\n",
       "      <td>MULTIPOLYGON (((629242.265 112643.825, 629242....</td>\n",
       "    </tr>\n",
       "    <tr>\n",
       "      <th>2</th>\n",
       "      <td>Oregon</td>\n",
       "      <td>55.145520</td>\n",
       "      <td>National Wetlands Inventory</td>\n",
       "      <td>MULTIPOLYGON (((628029.059 118091.978, 628040....</td>\n",
       "    </tr>\n",
       "    <tr>\n",
       "      <th>3</th>\n",
       "      <td>Oregon</td>\n",
       "      <td>495.257141</td>\n",
       "      <td>National Wetlands Inventory</td>\n",
       "      <td>MULTIPOLYGON (((741332.494 157274.420, 741354....</td>\n",
       "    </tr>\n",
       "    <tr>\n",
       "      <th>4</th>\n",
       "      <td>Oregon</td>\n",
       "      <td>629.884188</td>\n",
       "      <td>National Wetlands Inventory</td>\n",
       "      <td>MULTIPOLYGON (((601477.398 123011.755, 602466....</td>\n",
       "    </tr>\n",
       "  </tbody>\n",
       "</table>\n",
       "</div>"
      ],
      "text/plain": [
       "     site       acres                        notes  \\\n",
       "0  Oregon   11.793879  National Wetlands Inventory   \n",
       "1  Oregon   17.770904  National Wetlands Inventory   \n",
       "2  Oregon   55.145520  National Wetlands Inventory   \n",
       "3  Oregon  495.257141  National Wetlands Inventory   \n",
       "4  Oregon  629.884188  National Wetlands Inventory   \n",
       "\n",
       "                                            geometry  \n",
       "0  MULTIPOLYGON (((775993.237 146324.880, 775992....  \n",
       "1  MULTIPOLYGON (((629242.265 112643.825, 629242....  \n",
       "2  MULTIPOLYGON (((628029.059 118091.978, 628040....  \n",
       "3  MULTIPOLYGON (((741332.494 157274.420, 741354....  \n",
       "4  MULTIPOLYGON (((601477.398 123011.755, 602466....  "
      ]
     },
     "execution_count": 26,
     "metadata": {},
     "output_type": "execute_result"
    }
   ],
   "source": [
    "wetlands.head()"
   ]
  },
  {
   "cell_type": "code",
   "execution_count": 27,
   "id": "2a597747",
   "metadata": {},
   "outputs": [],
   "source": [
    "wetlands.to_file(r'T:\\MPO\\RTP\\FY20 2045 Update\\Data and Resources\\Data\\ForAppendixF\\WaterQuality\\wetlandsOregon.shp')"
   ]
  }
 ],
 "metadata": {
  "kernelspec": {
   "display_name": "Python 3",
   "language": "python",
   "name": "python3"
  },
  "language_info": {
   "codemirror_mode": {
    "name": "ipython",
    "version": 3
   },
   "file_extension": ".py",
   "mimetype": "text/x-python",
   "name": "python",
   "nbconvert_exporter": "python",
   "pygments_lexer": "ipython3",
   "version": "3.8.8"
  }
 },
 "nbformat": 4,
 "nbformat_minor": 5
}

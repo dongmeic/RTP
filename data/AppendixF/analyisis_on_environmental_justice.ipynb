{
 "cells": [
  {
   "cell_type": "code",
   "execution_count": 1,
   "id": "aca105d5",
   "metadata": {},
   "outputs": [],
   "source": [
    "import arcpy, os\n",
    "from arcpy import env"
   ]
  },
  {
   "cell_type": "code",
   "execution_count": 2,
   "id": "3e6e583d",
   "metadata": {},
   "outputs": [],
   "source": [
    "arcpy.env.overwriteOutput = True"
   ]
  },
  {
   "cell_type": "code",
   "execution_count": 4,
   "id": "cf4397ad",
   "metadata": {},
   "outputs": [],
   "source": [
    "path = r'T:\\MPO\\RTP\\FY20 2045 Update\\Data and Resources\\PerformanceAnalysis\\sidewalk_bikeway_trails'"
   ]
  },
  {
   "cell_type": "code",
   "execution_count": 10,
   "id": "5c3cc2c3",
   "metadata": {},
   "outputs": [],
   "source": [
    "fc = os.path.join(path, 'facilities_mpo.shp')"
   ]
  },
  {
   "cell_type": "code",
   "execution_count": 3,
   "id": "fe5f9d77",
   "metadata": {},
   "outputs": [],
   "source": [
    "env.workspace = r'T:\\MPO\\RTP\\FY20 2045 Update\\Maps\\Appendix F\\Maps4AppendixF\\Maps4AppendixF.gdb'"
   ]
  },
  {
   "cell_type": "code",
   "execution_count": 4,
   "id": "53f2593a",
   "metadata": {},
   "outputs": [],
   "source": [
    "titleVI = 'MPO_BG_TitleVI_FeatureToPoint'"
   ]
  },
  {
   "cell_type": "code",
   "execution_count": 14,
   "id": "b56ab3d2",
   "metadata": {},
   "outputs": [
    {
     "data": {
      "text/html": [
       "<h2>Output</h2><table><tr><th>id</th><th>value</th></tr><tr><td>0</td><td>a Layer object</td></tr><tr><td>1</td><td>3031</td></tr></table><h2>Messages</h2>Start Time: Thursday, August 12, 2021 5:32:17 PM<br/>Succeeded at Thursday, August 12, 2021 5:32:17 PM (Elapsed Time: 0.08 seconds)<br/><style>.rendered_html td, .rendered_html th {text-align: left;}.rendered_html tbody {border: 1px solid black;}</style>"
      ],
      "text/plain": [
       "<Result 'existingBikeways'>"
      ]
     },
     "execution_count": 14,
     "metadata": {},
     "output_type": "execute_result"
    }
   ],
   "source": [
    "arcpy.MakeFeatureLayer_management(fc, 'existingBikeways')\n",
    "arcpy.SelectLayerByAttribute_management('existingBikeways', 'NEW_SELECTION', \"\\\"mode\\\" = '{}'\".format('bikeway'))"
   ]
  },
  {
   "cell_type": "code",
   "execution_count": 15,
   "id": "838f2795",
   "metadata": {},
   "outputs": [
    {
     "data": {
      "text/html": [
       "<h2>Output</h2>T:\\MPO\\RTP\\FY20 2045 Update\\Maps\\Appendix F\\Maps4AppendixF\\Maps4AppendixF.gdb\\existingBikeways<h2>Messages</h2>Start Time: Thursday, August 12, 2021 5:35:33 PM<br/>Succeeded at Thursday, August 12, 2021 5:35:35 PM (Elapsed Time: 2.01 seconds)<br/><style>.rendered_html td, .rendered_html th {text-align: left;}.rendered_html tbody {border: 1px solid black;}</style>"
      ],
      "text/plain": [
       "<Result 'T:\\\\MPO\\\\RTP\\\\FY20 2045 Update\\\\Maps\\\\Appendix F\\\\Maps4AppendixF\\\\Maps4AppendixF.gdb\\\\existingBikeways'>"
      ]
     },
     "execution_count": 15,
     "metadata": {},
     "output_type": "execute_result"
    }
   ],
   "source": [
    "arcpy.CopyFeatures_management('existingBikeways', 'existingBikeways')"
   ]
  },
  {
   "cell_type": "code",
   "execution_count": 16,
   "id": "0ea50ec1",
   "metadata": {},
   "outputs": [
    {
     "data": {
      "text/html": [
       "<h2>Output</h2><table><tr><th>id</th><th>value</th></tr><tr><td>0</td><td>a Layer object</td></tr><tr><td>1</td><td>52406</td></tr></table><h2>Messages</h2>Start Time: Thursday, August 12, 2021 5:36:53 PM<br/>Succeeded at Thursday, August 12, 2021 5:36:54 PM (Elapsed Time: 0.08 seconds)<br/><style>.rendered_html td, .rendered_html th {text-align: left;}.rendered_html tbody {border: 1px solid black;}</style>"
      ],
      "text/plain": [
       "<Result 'existingSidewalks'>"
      ]
     },
     "execution_count": 16,
     "metadata": {},
     "output_type": "execute_result"
    }
   ],
   "source": [
    "arcpy.MakeFeatureLayer_management(fc, 'existingSidewalks')\n",
    "arcpy.SelectLayerByAttribute_management('existingSidewalks', 'NEW_SELECTION', \"\\\"mode\\\" = '{}'\".format('sidewalk'))"
   ]
  },
  {
   "cell_type": "code",
   "execution_count": 17,
   "id": "c9caafe5",
   "metadata": {},
   "outputs": [
    {
     "data": {
      "text/html": [
       "<h2>Output</h2>T:\\MPO\\RTP\\FY20 2045 Update\\Maps\\Appendix F\\Maps4AppendixF\\Maps4AppendixF.gdb\\existingSidewalks<h2>Messages</h2>Start Time: Thursday, August 12, 2021 5:37:18 PM<br/>Succeeded at Thursday, August 12, 2021 5:37:22 PM (Elapsed Time: 4.22 seconds)<br/><style>.rendered_html td, .rendered_html th {text-align: left;}.rendered_html tbody {border: 1px solid black;}</style>"
      ],
      "text/plain": [
       "<Result 'T:\\\\MPO\\\\RTP\\\\FY20 2045 Update\\\\Maps\\\\Appendix F\\\\Maps4AppendixF\\\\Maps4AppendixF.gdb\\\\existingSidewalks'>"
      ]
     },
     "execution_count": 17,
     "metadata": {},
     "output_type": "execute_result"
    }
   ],
   "source": [
    "arcpy.CopyFeatures_management('existingSidewalks', 'existingSidewalks')"
   ]
  },
  {
   "cell_type": "code",
   "execution_count": 20,
   "id": "21d8542c",
   "metadata": {},
   "outputs": [
    {
     "data": {
      "text/html": [
       "<h2>Output</h2><table><tr><th>id</th><th>value</th></tr><tr><td>0</td><td>a Layer object</td></tr><tr><td>1</td><td>MPO_BG_TitleVI_FeatureToPoin4</td></tr><tr><td>2</td><td>175</td></tr></table><h2>Messages</h2>Start Time: Thursday, August 12, 2021 5:50:15 PM<br/>Succeeded at Thursday, August 12, 2021 5:50:16 PM (Elapsed Time: 0.30 seconds)<br/><style>.rendered_html td, .rendered_html th {text-align: left;}.rendered_html tbody {border: 1px solid black;}</style>"
      ],
      "text/plain": [
       "<Result 'MPO_BG_TitleVI_FeatureToPoin4'>"
      ]
     },
     "execution_count": 20,
     "metadata": {},
     "output_type": "execute_result"
    }
   ],
   "source": [
    "arcpy.SelectLayerByLocation_management(titleVI, 'WITHIN_A_DISTANCE', 'existingBikeways', '0.5 miles', 'NEW_SELECTION')"
   ]
  },
  {
   "cell_type": "code",
   "execution_count": 23,
   "id": "27367379",
   "metadata": {},
   "outputs": [
    {
     "data": {
      "text/html": [
       "<h2>Output</h2>T:\\MPO\\RTP\\FY20 2045 Update\\Maps\\Appendix F\\Maps4AppendixF\\Maps4AppendixF.gdb\\TitleVIexistingBikeways<h2>Messages</h2>Start Time: Thursday, August 12, 2021 5:54:48 PM<br/>Succeeded at Thursday, August 12, 2021 5:54:50 PM (Elapsed Time: 1.96 seconds)<br/><style>.rendered_html td, .rendered_html th {text-align: left;}.rendered_html tbody {border: 1px solid black;}</style>"
      ],
      "text/plain": [
       "<Result 'T:\\\\MPO\\\\RTP\\\\FY20 2045 Update\\\\Maps\\\\Appendix F\\\\Maps4AppendixF\\\\Maps4AppendixF.gdb\\\\TitleVIexistingBikeways'>"
      ]
     },
     "execution_count": 23,
     "metadata": {},
     "output_type": "execute_result"
    }
   ],
   "source": [
    "# check the input feature from the above result\n",
    "arcpy.CopyFeatures_management('MPO_BG_TitleVI_FeatureToPoin4', 'TitleVIexistingBikeways')"
   ]
  },
  {
   "cell_type": "code",
   "execution_count": 24,
   "id": "1ca27b9c",
   "metadata": {},
   "outputs": [
    {
     "data": {
      "text/html": [
       "<h2>Output</h2>T:\\MPO\\RTP\\FY20 2045 Update\\Maps\\Appendix F\\Maps4AppendixF\\Maps4AppendixF.gdb\\existingBikePed<h2>Messages</h2>Start Time: Thursday, August 12, 2021 6:01:42 PM<br/>Succeeded at Thursday, August 12, 2021 6:01:46 PM (Elapsed Time: 4.64 seconds)<br/><style>.rendered_html td, .rendered_html th {text-align: left;}.rendered_html tbody {border: 1px solid black;}</style>"
      ],
      "text/plain": [
       "<Result 'T:\\\\MPO\\\\RTP\\\\FY20 2045 Update\\\\Maps\\\\Appendix F\\\\Maps4AppendixF\\\\Maps4AppendixF.gdb\\\\existingBikePed'>"
      ]
     },
     "execution_count": 24,
     "metadata": {},
     "output_type": "execute_result"
    }
   ],
   "source": [
    "arcpy.Merge_management(['existingBikeways', 'existingSidewalks'], 'existingBikePed')"
   ]
  },
  {
   "cell_type": "code",
   "execution_count": 25,
   "id": "efecde44",
   "metadata": {},
   "outputs": [
    {
     "data": {
      "text/html": [
       "<h2>Output</h2><table><tr><th>id</th><th>value</th></tr><tr><td>0</td><td>a Layer object</td></tr><tr><td>1</td><td>MPO_BG_TitleVI_FeatureToPoin7</td></tr><tr><td>2</td><td>166</td></tr></table><h2>Messages</h2>Start Time: Thursday, August 12, 2021 6:04:37 PM<br/>Succeeded at Thursday, August 12, 2021 6:04:38 PM (Elapsed Time: 0.56 seconds)<br/><style>.rendered_html td, .rendered_html th {text-align: left;}.rendered_html tbody {border: 1px solid black;}</style>"
      ],
      "text/plain": [
       "<Result 'MPO_BG_TitleVI_FeatureToPoin7'>"
      ]
     },
     "execution_count": 25,
     "metadata": {},
     "output_type": "execute_result"
    }
   ],
   "source": [
    "arcpy.SelectLayerByLocation_management(titleVI, 'WITHIN_A_DISTANCE', 'existingBikePed', '0.25 miles', 'NEW_SELECTION')"
   ]
  },
  {
   "cell_type": "code",
   "execution_count": 26,
   "id": "750803ae",
   "metadata": {},
   "outputs": [
    {
     "data": {
      "text/html": [
       "<h2>Output</h2>T:\\MPO\\RTP\\FY20 2045 Update\\Maps\\Appendix F\\Maps4AppendixF\\Maps4AppendixF.gdb\\TitleVIexistingBikePed<h2>Messages</h2>Start Time: Thursday, August 12, 2021 6:05:26 PM<br/>Succeeded at Thursday, August 12, 2021 6:05:27 PM (Elapsed Time: 1.52 seconds)<br/><style>.rendered_html td, .rendered_html th {text-align: left;}.rendered_html tbody {border: 1px solid black;}</style>"
      ],
      "text/plain": [
       "<Result 'T:\\\\MPO\\\\RTP\\\\FY20 2045 Update\\\\Maps\\\\Appendix F\\\\Maps4AppendixF\\\\Maps4AppendixF.gdb\\\\TitleVIexistingBikePed'>"
      ]
     },
     "execution_count": 26,
     "metadata": {},
     "output_type": "execute_result"
    }
   ],
   "source": [
    "# check the input feature from the above result\n",
    "arcpy.CopyFeatures_management('MPO_BG_TitleVI_FeatureToPoin7', 'TitleVIexistingBikePed')"
   ]
  },
  {
   "cell_type": "code",
   "execution_count": 2,
   "id": "7b7a61f4",
   "metadata": {},
   "outputs": [],
   "source": [
    "# run this part in the geopandas environment\n",
    "import geopandas as gpd\n",
    "import os"
   ]
  },
  {
   "cell_type": "code",
   "execution_count": 3,
   "id": "1ea7882d",
   "metadata": {},
   "outputs": [],
   "source": [
    "inpath = r'T:\\MPO\\RTP\\FY20 2045 Update\\Maps\\Appendix F\\Maps4AppendixF\\Maps4AppendixF.gdb'"
   ]
  },
  {
   "cell_type": "code",
   "execution_count": 18,
   "id": "8021d748",
   "metadata": {},
   "outputs": [],
   "source": [
    "BikePed2045 = gpd.read_file(r'T:\\MPO\\RTP\\FY20 2045 Update\\Data and Resources\\Data\\GISData\\Updated\\Constrained_BikePed.shp')"
   ]
  },
  {
   "cell_type": "code",
   "execution_count": 6,
   "id": "0d68db6f",
   "metadata": {},
   "outputs": [
    {
     "data": {
      "text/plain": [
       "(94, 13)"
      ]
     },
     "execution_count": 6,
     "metadata": {},
     "output_type": "execute_result"
    }
   ],
   "source": [
    "BikePed2045.shape"
   ]
  },
  {
   "cell_type": "code",
   "execution_count": 26,
   "id": "8b2ef5cd",
   "metadata": {},
   "outputs": [
    {
     "data": {
      "text/plain": [
       "Index(['Id', 'Category', 'Narration', 'RoughCost', 'YearRange', 'GeoLimits',\n",
       "       'JurisProjN', 'Length', 'Name', 'PrimJurisd', 'CostMax', 'CostMin',\n",
       "       'geometry'],\n",
       "      dtype='object')"
      ]
     },
     "execution_count": 26,
     "metadata": {},
     "output_type": "execute_result"
    }
   ],
   "source": [
    "BikePed2045.columns"
   ]
  },
  {
   "cell_type": "code",
   "execution_count": 25,
   "id": "f9bc4268",
   "metadata": {},
   "outputs": [],
   "source": [
    "BikePed2045.rename(columns={'RTP_ID':'Id'}, inplace=True)"
   ]
  },
  {
   "cell_type": "code",
   "execution_count": 28,
   "id": "619b07ba",
   "metadata": {},
   "outputs": [],
   "source": [
    "BikePaths2045 = BikePed2045[~BikePed2045['Narration'].str.contains(\"crosswalks\")]"
   ]
  },
  {
   "cell_type": "code",
   "execution_count": 12,
   "id": "f2284858",
   "metadata": {},
   "outputs": [],
   "source": [
    "BikePaths = gpd.read_file(inpath, layer='existingBikeways')"
   ]
  },
  {
   "cell_type": "code",
   "execution_count": 16,
   "id": "8f24ba09",
   "metadata": {},
   "outputs": [
    {
     "data": {
      "text/html": [
       "<div>\n",
       "<style scoped>\n",
       "    .dataframe tbody tr th:only-of-type {\n",
       "        vertical-align: middle;\n",
       "    }\n",
       "\n",
       "    .dataframe tbody tr th {\n",
       "        vertical-align: top;\n",
       "    }\n",
       "\n",
       "    .dataframe thead th {\n",
       "        text-align: right;\n",
       "    }\n",
       "</style>\n",
       "<table border=\"1\" class=\"dataframe\">\n",
       "  <thead>\n",
       "    <tr style=\"text-align: right;\">\n",
       "      <th></th>\n",
       "      <th>Id</th>\n",
       "      <th>mode</th>\n",
       "      <th>Shape_Length</th>\n",
       "      <th>geometry</th>\n",
       "    </tr>\n",
       "  </thead>\n",
       "  <tbody>\n",
       "    <tr>\n",
       "      <th>0</th>\n",
       "      <td>1</td>\n",
       "      <td>bikeway</td>\n",
       "      <td>327.237764</td>\n",
       "      <td>MULTILINESTRING ((-13692434.516 5474362.318, -...</td>\n",
       "    </tr>\n",
       "    <tr>\n",
       "      <th>1</th>\n",
       "      <td>2</td>\n",
       "      <td>bikeway</td>\n",
       "      <td>412.302246</td>\n",
       "      <td>MULTILINESTRING ((-13695736.452 5477500.916, -...</td>\n",
       "    </tr>\n",
       "    <tr>\n",
       "      <th>2</th>\n",
       "      <td>3</td>\n",
       "      <td>bikeway</td>\n",
       "      <td>684.602941</td>\n",
       "      <td>MULTILINESTRING ((-13695681.251 5477947.477, -...</td>\n",
       "    </tr>\n",
       "    <tr>\n",
       "      <th>3</th>\n",
       "      <td>4</td>\n",
       "      <td>bikeway</td>\n",
       "      <td>22.134867</td>\n",
       "      <td>MULTILINESTRING ((-13692366.321 5476009.686, -...</td>\n",
       "    </tr>\n",
       "    <tr>\n",
       "      <th>4</th>\n",
       "      <td>5</td>\n",
       "      <td>bikeway</td>\n",
       "      <td>526.492853</td>\n",
       "      <td>MULTILINESTRING ((-13701993.554 5464175.914, -...</td>\n",
       "    </tr>\n",
       "  </tbody>\n",
       "</table>\n",
       "</div>"
      ],
      "text/plain": [
       "   Id     mode  Shape_Length  \\\n",
       "0   1  bikeway    327.237764   \n",
       "1   2  bikeway    412.302246   \n",
       "2   3  bikeway    684.602941   \n",
       "3   4  bikeway     22.134867   \n",
       "4   5  bikeway    526.492853   \n",
       "\n",
       "                                            geometry  \n",
       "0  MULTILINESTRING ((-13692434.516 5474362.318, -...  \n",
       "1  MULTILINESTRING ((-13695736.452 5477500.916, -...  \n",
       "2  MULTILINESTRING ((-13695681.251 5477947.477, -...  \n",
       "3  MULTILINESTRING ((-13692366.321 5476009.686, -...  \n",
       "4  MULTILINESTRING ((-13701993.554 5464175.914, -...  "
      ]
     },
     "execution_count": 16,
     "metadata": {},
     "output_type": "execute_result"
    }
   ],
   "source": [
    "BikePaths.head()"
   ]
  },
  {
   "cell_type": "code",
   "execution_count": 15,
   "id": "3cf39df9",
   "metadata": {},
   "outputs": [],
   "source": [
    "BikePaths['Id'] = BikePaths.Id.astype(int)"
   ]
  },
  {
   "cell_type": "code",
   "execution_count": 29,
   "id": "bb34d5f4",
   "metadata": {},
   "outputs": [],
   "source": [
    "BikePaths2045 = BikePaths[['Id', 'geometry']].append(BikePaths2045[['Id', 'geometry']])"
   ]
  },
  {
   "cell_type": "code",
   "execution_count": 27,
   "id": "461fa865",
   "metadata": {},
   "outputs": [],
   "source": [
    "outpath = r'T:\\MPO\\RTP\\FY20 2045 Update\\Data and Resources\\Data\\ForAppendixF\\RTP'"
   ]
  },
  {
   "cell_type": "code",
   "execution_count": 31,
   "id": "0613cbbe",
   "metadata": {},
   "outputs": [],
   "source": [
    "BikePaths2045.to_file(os.path.join(outpath, 'BikePaths2045.shp'))"
   ]
  },
  {
   "cell_type": "code",
   "execution_count": 32,
   "id": "bffba438",
   "metadata": {},
   "outputs": [],
   "source": [
    "BikePed = gpd.read_file(inpath, layer='existingBikePed')"
   ]
  },
  {
   "cell_type": "code",
   "execution_count": 34,
   "id": "15d18490",
   "metadata": {},
   "outputs": [],
   "source": [
    "BikePed2045 = BikePed[['Id', 'geometry']].append(BikePed2045[['Id', 'geometry']])"
   ]
  },
  {
   "cell_type": "code",
   "execution_count": 35,
   "id": "78193c54",
   "metadata": {},
   "outputs": [],
   "source": [
    "BikePed2045.to_file(os.path.join(outpath, 'BikePed2045.shp'))"
   ]
  },
  {
   "cell_type": "code",
   "execution_count": 28,
   "id": "ac52813a",
   "metadata": {},
   "outputs": [
    {
     "data": {
      "text/html": [
       "<h2>Output</h2><table><tr><th>id</th><th>value</th></tr><tr><td>0</td><td>a Layer object</td></tr><tr><td>1</td><td>MPO_BG_TitleVI_FeatureToPoin10</td></tr><tr><td>2</td><td>175</td></tr></table><h2>Messages</h2>Start Time: Thursday, August 12, 2021 6:54:27 PM<br/>Succeeded at Thursday, August 12, 2021 6:54:27 PM (Elapsed Time: 0.07 seconds)<br/><style>.rendered_html td, .rendered_html th {text-align: left;}.rendered_html tbody {border: 1px solid black;}</style>"
      ],
      "text/plain": [
       "<Result 'MPO_BG_TitleVI_FeatureToPoin10'>"
      ]
     },
     "execution_count": 28,
     "metadata": {},
     "output_type": "execute_result"
    }
   ],
   "source": [
    "# run this part in the arcpy environment, need to run the outpath again\n",
    "arcpy.SelectLayerByLocation_management(titleVI, 'WITHIN_A_DISTANCE', os.path.join(outpath, 'BikePaths2045.shp'), \n",
    "                                       '0.5 miles', 'NEW_SELECTION')"
   ]
  },
  {
   "cell_type": "code",
   "execution_count": 29,
   "id": "001e437f",
   "metadata": {},
   "outputs": [
    {
     "data": {
      "text/html": [
       "<h2>Output</h2>T:\\MPO\\RTP\\FY20 2045 Update\\Maps\\Appendix F\\Maps4AppendixF\\Maps4AppendixF.gdb\\TitleVIproposedBikeways<h2>Messages</h2>Start Time: Thursday, August 12, 2021 6:55:14 PM<br/>Succeeded at Thursday, August 12, 2021 6:55:16 PM (Elapsed Time: 1.63 seconds)<br/><style>.rendered_html td, .rendered_html th {text-align: left;}.rendered_html tbody {border: 1px solid black;}</style>"
      ],
      "text/plain": [
       "<Result 'T:\\\\MPO\\\\RTP\\\\FY20 2045 Update\\\\Maps\\\\Appendix F\\\\Maps4AppendixF\\\\Maps4AppendixF.gdb\\\\TitleVIproposedBikeways'>"
      ]
     },
     "execution_count": 29,
     "metadata": {},
     "output_type": "execute_result"
    }
   ],
   "source": [
    "# check the input feature from the above result\n",
    "arcpy.CopyFeatures_management('MPO_BG_TitleVI_FeatureToPoin10', 'TitleVIproposedBikeways')"
   ]
  },
  {
   "cell_type": "code",
   "execution_count": 30,
   "id": "97b56a3d",
   "metadata": {},
   "outputs": [
    {
     "data": {
      "text/html": [
       "<h2>Output</h2><table><tr><th>id</th><th>value</th></tr><tr><td>0</td><td>a Layer object</td></tr><tr><td>1</td><td>MPO_BG_TitleVI_FeatureToPoin13</td></tr><tr><td>2</td><td>166</td></tr></table><h2>Messages</h2>Start Time: Thursday, August 12, 2021 6:56:13 PM<br/>Succeeded at Thursday, August 12, 2021 6:56:13 PM (Elapsed Time: 0.42 seconds)<br/><style>.rendered_html td, .rendered_html th {text-align: left;}.rendered_html tbody {border: 1px solid black;}</style>"
      ],
      "text/plain": [
       "<Result 'MPO_BG_TitleVI_FeatureToPoin13'>"
      ]
     },
     "execution_count": 30,
     "metadata": {},
     "output_type": "execute_result"
    }
   ],
   "source": [
    "arcpy.SelectLayerByLocation_management(titleVI, 'WITHIN_A_DISTANCE', os.path.join(outpath, 'BikePed2045.shp'), \n",
    "                                       '0.25 miles', 'NEW_SELECTION')"
   ]
  },
  {
   "cell_type": "code",
   "execution_count": 31,
   "id": "e8bdd238",
   "metadata": {},
   "outputs": [
    {
     "data": {
      "text/html": [
       "<h2>Output</h2>T:\\MPO\\RTP\\FY20 2045 Update\\Maps\\Appendix F\\Maps4AppendixF\\Maps4AppendixF.gdb\\TitleVIproposedBikePed<h2>Messages</h2>Start Time: Thursday, August 12, 2021 6:56:49 PM<br/>Succeeded at Thursday, August 12, 2021 6:56:50 PM (Elapsed Time: 1.56 seconds)<br/><style>.rendered_html td, .rendered_html th {text-align: left;}.rendered_html tbody {border: 1px solid black;}</style>"
      ],
      "text/plain": [
       "<Result 'T:\\\\MPO\\\\RTP\\\\FY20 2045 Update\\\\Maps\\\\Appendix F\\\\Maps4AppendixF\\\\Maps4AppendixF.gdb\\\\TitleVIproposedBikePed'>"
      ]
     },
     "execution_count": 31,
     "metadata": {},
     "output_type": "execute_result"
    }
   ],
   "source": [
    "# check the input feature from the above result\n",
    "arcpy.CopyFeatures_management('MPO_BG_TitleVI_FeatureToPoin13', 'TitleVIproposedBikePed')"
   ]
  },
  {
   "cell_type": "code",
   "execution_count": 32,
   "id": "2b51c3e2",
   "metadata": {},
   "outputs": [
    {
     "data": {
      "text/html": [
       "<h2>Output</h2><table><tr><th>id</th><th>value</th></tr><tr><td>0</td><td>a Layer object</td></tr><tr><td>1</td><td>MPO_BG_TitleVI_FeatureToPoin16</td></tr><tr><td>2</td><td>107</td></tr></table><h2>Messages</h2>Start Time: Thursday, August 12, 2021 8:14:52 PM<br/>Succeeded at Thursday, August 12, 2021 8:14:52 PM (Elapsed Time: 0.05 seconds)<br/><style>.rendered_html td, .rendered_html th {text-align: left;}.rendered_html tbody {border: 1px solid black;}</style>"
      ],
      "text/plain": [
       "<Result 'MPO_BG_TitleVI_FeatureToPoin16'>"
      ]
     },
     "execution_count": 32,
     "metadata": {},
     "output_type": "execute_result"
    }
   ],
   "source": [
    "arcpy.SelectLayerByLocation_management(titleVI, 'WITHIN_A_DISTANCE', \n",
    "                                       r'T:\\Data\\LTD Data\\2020 Winter LTD Routes and Stops\\Winter_2020_Stops.shp', \n",
    "                                       '0.25 miles', 'NEW_SELECTION')"
   ]
  },
  {
   "cell_type": "code",
   "execution_count": 33,
   "id": "db05f2fe",
   "metadata": {},
   "outputs": [
    {
     "data": {
      "text/html": [
       "<h2>Output</h2>T:\\MPO\\RTP\\FY20 2045 Update\\Maps\\Appendix F\\Maps4AppendixF\\Maps4AppendixF.gdb\\TitleVIexistingStops<h2>Messages</h2>Start Time: Thursday, August 12, 2021 8:15:45 PM<br/>Succeeded at Thursday, August 12, 2021 8:15:46 PM (Elapsed Time: 1.54 seconds)<br/><style>.rendered_html td, .rendered_html th {text-align: left;}.rendered_html tbody {border: 1px solid black;}</style>"
      ],
      "text/plain": [
       "<Result 'T:\\\\MPO\\\\RTP\\\\FY20 2045 Update\\\\Maps\\\\Appendix F\\\\Maps4AppendixF\\\\Maps4AppendixF.gdb\\\\TitleVIexistingStops'>"
      ]
     },
     "execution_count": 33,
     "metadata": {},
     "output_type": "execute_result"
    }
   ],
   "source": [
    "# check the input feature from the above result\n",
    "arcpy.CopyFeatures_management('MPO_BG_TitleVI_FeatureToPoin16', 'TitleVIexistingStops')"
   ]
  },
  {
   "cell_type": "code",
   "execution_count": 38,
   "id": "fa01b1a6",
   "metadata": {},
   "outputs": [],
   "source": [
    "# run this part in the geopandas environment\n",
    "TitleVIexistingBikeways = gpd.read_file(inpath, layer = 'TitleVIexistingBikeways')"
   ]
  },
  {
   "cell_type": "code",
   "execution_count": 40,
   "id": "5947e236",
   "metadata": {},
   "outputs": [
    {
     "data": {
      "text/plain": [
       "Index(['BlkGrp10', 'Shape_Leng', 'TotalPOP', 'PopEld', 'PctElderly',\n",
       "       'PctDisab', 'PopNInst5', 'PopNI5Disa', 'HHPop', 'GQPop', 'TotalDU',\n",
       "       'Occupancy', 'HH', 'HHPoor', 'PctPoor', 'PctMinor', 'PopMinor',\n",
       "       'PopWrkF16', 'PopWFUnEmp', 'PctUnEmp', 'HHsize', 'PopGE5', 'Pop5yrLEP',\n",
       "       'PctLEP', 'RenterHHs', 'OwnHHNoCar', 'RntHHNoCar', 'PctHH0car',\n",
       "       'HH0car', 'PctRentHH', 'Elderly', 'Disabled', 'Poor', 'Minority',\n",
       "       'UnEmp', 'LEP', 'HHzerocar', 'Renter', 'ComofConce', 'UGB', 'ORIG_FID',\n",
       "       'geometry'],\n",
       "      dtype='object')"
      ]
     },
     "execution_count": 40,
     "metadata": {},
     "output_type": "execute_result"
    }
   ],
   "source": [
    "TitleVIexistingBikeways.columns"
   ]
  },
  {
   "cell_type": "code",
   "execution_count": 73,
   "id": "782de643",
   "metadata": {},
   "outputs": [],
   "source": [
    "# select the routes with 15-minute headways\n",
    "routes15m = gpd.read_file(r'T:\\Data\\LTD Data\\2020 Winter LTD Routes and Stops\\Winter_2020_Routes.shp')"
   ]
  },
  {
   "cell_type": "code",
   "execution_count": 76,
   "id": "c3e50515",
   "metadata": {},
   "outputs": [],
   "source": [
    "# select the routes\n",
    "sel_routes = ['EmX', '41', '51', '52', '81', '82', '79x']"
   ]
  },
  {
   "cell_type": "code",
   "execution_count": 77,
   "id": "64b19fc5",
   "metadata": {},
   "outputs": [],
   "source": [
    "routes15m = routes15m[routes15m.ROUTE.isin(sel_routes)]"
   ]
  },
  {
   "cell_type": "code",
   "execution_count": 79,
   "id": "189f8f9d",
   "metadata": {},
   "outputs": [],
   "source": [
    "routes15m.to_file(r'T:\\MPO\\RTP\\FY20 2045 Update\\Data and Resources\\Data\\ForAppendixF\\RTP\\LTDroutes15m.shp')"
   ]
  },
  {
   "cell_type": "code",
   "execution_count": 5,
   "id": "3dc6eefb",
   "metadata": {},
   "outputs": [
    {
     "data": {
      "text/html": [
       "<h2>Output</h2><table><tr><th>id</th><th>value</th></tr><tr><td>0</td><td>a Layer object</td></tr><tr><td>1</td><td>MPO_BG_TitleVI_FeatureToPoin2</td></tr><tr><td>2</td><td>53</td></tr></table><h2>Messages</h2>Start Time: Wednesday, August 18, 2021 10:28:10 AM<br/>Succeeded at Wednesday, August 18, 2021 10:28:10 AM (Elapsed Time: 0.26 seconds)<br/><style>.rendered_html td, .rendered_html th {text-align: left;}.rendered_html tbody {border: 1px solid black;}</style>"
      ],
      "text/plain": [
       "<Result 'MPO_BG_TitleVI_FeatureToPoin2'>"
      ]
     },
     "execution_count": 5,
     "metadata": {},
     "output_type": "execute_result"
    }
   ],
   "source": [
    "arcpy.SelectLayerByLocation_management(titleVI, 'WITHIN_A_DISTANCE', \n",
    "                                       r'T:\\MPO\\RTP\\FY20 2045 Update\\Data and Resources\\Data\\ForAppendixF\\RTP\\LTDroutes15m.shp', \n",
    "                                       '0.25 miles', 'NEW_SELECTION')"
   ]
  },
  {
   "cell_type": "code",
   "execution_count": 6,
   "id": "34213c21",
   "metadata": {},
   "outputs": [
    {
     "data": {
      "text/html": [
       "<h2>Output</h2>T:\\MPO\\RTP\\FY20 2045 Update\\Maps\\Appendix F\\Maps4AppendixF\\Maps4AppendixF.gdb\\TitleVIexistingRoutes<h2>Messages</h2>Start Time: Wednesday, August 18, 2021 10:28:55 AM<br/>Succeeded at Wednesday, August 18, 2021 10:28:57 AM (Elapsed Time: 1.70 seconds)<br/><style>.rendered_html td, .rendered_html th {text-align: left;}.rendered_html tbody {border: 1px solid black;}</style>"
      ],
      "text/plain": [
       "<Result 'T:\\\\MPO\\\\RTP\\\\FY20 2045 Update\\\\Maps\\\\Appendix F\\\\Maps4AppendixF\\\\Maps4AppendixF.gdb\\\\TitleVIexistingRoutes'>"
      ]
     },
     "execution_count": 6,
     "metadata": {},
     "output_type": "execute_result"
    }
   ],
   "source": [
    "# check the input feature from the above result\n",
    "arcpy.CopyFeatures_management('MPO_BG_TitleVI_FeatureToPoin2', 'TitleVIexistingRoutes')"
   ]
  },
  {
   "cell_type": "code",
   "execution_count": 43,
   "id": "699a2fb0",
   "metadata": {},
   "outputs": [],
   "source": [
    "selected_vars = ['PopMinor', 'HHPoor', 'PopEld', 'PopNI5Disa', 'Pop5yrLEP']"
   ]
  },
  {
   "cell_type": "code",
   "execution_count": 80,
   "id": "adbd1f8c",
   "metadata": {},
   "outputs": [],
   "source": [
    "layers = ['TitleVIexistingBikeways', 'TitleVIproposedBikeways', \n",
    "          'TitleVIexistingBikePed', 'TitleVIproposedBikePed', \n",
    "          'TitleVIexistingRoutes']"
   ]
  },
  {
   "cell_type": "code",
   "execution_count": 63,
   "id": "55416764",
   "metadata": {},
   "outputs": [],
   "source": [
    "# to get the total population of minority, poor, elderly, disabled, LEP\n",
    "titleVIgdf = gpd.read_file(inpath, layer=titleVI)"
   ]
  },
  {
   "cell_type": "code",
   "execution_count": 64,
   "id": "4ec4c9b3",
   "metadata": {},
   "outputs": [],
   "source": [
    "v = []"
   ]
  },
  {
   "cell_type": "code",
   "execution_count": 65,
   "id": "a305648f",
   "metadata": {},
   "outputs": [],
   "source": [
    "for var in selected_vars:\n",
    "    v.append(titleVIgdf[var].sum())"
   ]
  },
  {
   "cell_type": "code",
   "execution_count": 66,
   "id": "9e868197",
   "metadata": {},
   "outputs": [
    {
     "data": {
      "text/plain": [
       "[55329.94269200296,\n",
       " 19521.671477170923,\n",
       " 43495.516962296184,\n",
       " 41446.06245311482,\n",
       " 7509.248123205389]"
      ]
     },
     "execution_count": 66,
     "metadata": {},
     "output_type": "execute_result"
    }
   ],
   "source": [
    "v"
   ]
  },
  {
   "cell_type": "code",
   "execution_count": 68,
   "id": "50ce5f91",
   "metadata": {},
   "outputs": [
    {
     "data": {
      "text/plain": [
       "'Pop5yrLEP'"
      ]
     },
     "execution_count": 68,
     "metadata": {},
     "output_type": "execute_result"
    }
   ],
   "source": [
    "var"
   ]
  },
  {
   "cell_type": "code",
   "execution_count": 71,
   "id": "b88af868",
   "metadata": {},
   "outputs": [
    {
     "data": {
      "text/plain": [
       "7509.248123205389"
      ]
     },
     "execution_count": 71,
     "metadata": {},
     "output_type": "execute_result"
    }
   ],
   "source": [
    "v[selected_vars.index(var)]"
   ]
  },
  {
   "cell_type": "code",
   "execution_count": 81,
   "id": "849040ae",
   "metadata": {},
   "outputs": [
    {
     "name": "stdout",
     "output_type": "stream",
     "text": [
      "Data from TitleVIexistingBikeways with a total population 261787.321568032:\n",
      "\n",
      "Percentage of PopMinor:\n",
      "98.21\n",
      "Percentage of HHPoor:\n",
      "98.81\n",
      "Percentage of PopEld:\n",
      "97.79\n",
      "Percentage of PopNI5Disa:\n",
      "97.64\n",
      "Percentage of Pop5yrLEP:\n",
      "99.54\n",
      "\n",
      "\n",
      "Data from TitleVIproposedBikeways with a total population 261787.321568032:\n",
      "\n",
      "Percentage of PopMinor:\n",
      "98.21\n",
      "Percentage of HHPoor:\n",
      "98.81\n",
      "Percentage of PopEld:\n",
      "97.79\n",
      "Percentage of PopNI5Disa:\n",
      "97.64\n",
      "Percentage of Pop5yrLEP:\n",
      "99.54\n",
      "\n",
      "\n",
      "Data from TitleVIexistingBikePed with a total population 255375.71607980086:\n",
      "\n",
      "Percentage of PopMinor:\n",
      "97.13\n",
      "Percentage of HHPoor:\n",
      "97.21\n",
      "Percentage of PopEld:\n",
      "94.92\n",
      "Percentage of PopNI5Disa:\n",
      "95.76\n",
      "Percentage of Pop5yrLEP:\n",
      "98.25\n",
      "\n",
      "\n",
      "Data from TitleVIproposedBikePed with a total population 255375.71607980086:\n",
      "\n",
      "Percentage of PopMinor:\n",
      "97.13\n",
      "Percentage of HHPoor:\n",
      "97.21\n",
      "Percentage of PopEld:\n",
      "94.92\n",
      "Percentage of PopNI5Disa:\n",
      "95.76\n",
      "Percentage of Pop5yrLEP:\n",
      "98.25\n",
      "\n",
      "\n",
      "Data from TitleVIexistingRoutes with a total population 80005.0:\n",
      "\n",
      "Percentage of PopMinor:\n",
      "36.81\n",
      "Percentage of HHPoor:\n",
      "50.03\n",
      "Percentage of PopEld:\n",
      "21.95\n",
      "Percentage of PopNI5Disa:\n",
      "29.76\n",
      "Percentage of Pop5yrLEP:\n",
      "43.04\n",
      "\n",
      "\n"
     ]
    }
   ],
   "source": [
    "for layer in layers:\n",
    "    titleVILayer = gpd.read_file(inpath, layer = layer)\n",
    "    print(\"Data from {0} with a total population {1}:\\n\".format(layer, \n",
    "                                                                titleVILayer['TotalPOP'].sum()))\n",
    "    for var in selected_vars:\n",
    "        print(\"Percentage of {0}:\".format(var))\n",
    "        print(round(titleVILayer[var].sum()/v[selected_vars.index(var)]*100,2))\n",
    "        #if var == 'HHPoor':\n",
    "        #    print(round(titleVILayer[var].sum()/titleVILayer['TotalPOP'].sum()*100,2))           \n",
    "        #else:\n",
    "        #    print(round(titleVILayer[var].sum()/titleVILayer['HH'].sum()*100,2))\n",
    "    print(\"\\n\")"
   ]
  },
  {
   "cell_type": "code",
   "execution_count": null,
   "id": "fddaddf3",
   "metadata": {},
   "outputs": [],
   "source": []
  }
 ],
 "metadata": {
  "kernelspec": {
   "display_name": "Python 3",
   "language": "python",
   "name": "python3"
  },
  "language_info": {
   "codemirror_mode": {
    "name": "ipython",
    "version": 3
   },
   "file_extension": ".py",
   "mimetype": "text/x-python",
   "name": "python",
   "nbconvert_exporter": "python",
   "pygments_lexer": "ipython3",
   "version": "3.8.8"
  }
 },
 "nbformat": 4,
 "nbformat_minor": 5
}

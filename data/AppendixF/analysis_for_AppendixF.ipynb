{
 "cells": [
  {
   "cell_type": "code",
   "execution_count": 1,
   "id": "127e2532",
   "metadata": {},
   "outputs": [],
   "source": [
    "import Analysis4AppendixF as aaf"
   ]
  },
  {
   "cell_type": "code",
   "execution_count": 6,
   "id": "f347039e",
   "metadata": {},
   "outputs": [],
   "source": [
    "# function to get unique values\n",
    "def unique(list1):\n",
    " \n",
    "    # intilize a null list\n",
    "    unique_list = []\n",
    "     \n",
    "    # traverse for all elements\n",
    "    for x in list1:\n",
    "        # check if exists in unique_list or not\n",
    "        if x not in unique_list:\n",
    "            unique_list.append(x)\n",
    "    return(unique_list)"
   ]
  },
  {
   "cell_type": "code",
   "execution_count": 2,
   "id": "689a7b28",
   "metadata": {},
   "outputs": [
    {
     "data": {
      "text/html": [
       "<div>\n",
       "<style scoped>\n",
       "    .dataframe tbody tr th:only-of-type {\n",
       "        vertical-align: middle;\n",
       "    }\n",
       "\n",
       "    .dataframe tbody tr th {\n",
       "        vertical-align: top;\n",
       "    }\n",
       "\n",
       "    .dataframe thead th {\n",
       "        text-align: right;\n",
       "    }\n",
       "</style>\n",
       "<table border=\"1\" class=\"dataframe\">\n",
       "  <thead>\n",
       "    <tr style=\"text-align: right;\">\n",
       "      <th></th>\n",
       "      <th>geometry</th>\n",
       "    </tr>\n",
       "    <tr>\n",
       "      <th>Category</th>\n",
       "      <th></th>\n",
       "    </tr>\n",
       "  </thead>\n",
       "  <tbody>\n",
       "    <tr>\n",
       "      <th>Study</th>\n",
       "      <td>4</td>\n",
       "    </tr>\n",
       "    <tr>\n",
       "      <th>Transit Oriented Development Implementation</th>\n",
       "      <td>1</td>\n",
       "    </tr>\n",
       "    <tr>\n",
       "      <th>Urban Standards</th>\n",
       "      <td>1</td>\n",
       "    </tr>\n",
       "  </tbody>\n",
       "</table>\n",
       "</div>"
      ],
      "text/plain": [
       "                                             geometry\n",
       "Category                                             \n",
       "Study                                               4\n",
       "Transit Oriented Development Implementation         1\n",
       "Urban Standards                                     1"
      ]
     },
     "execution_count": 2,
     "metadata": {},
     "output_type": "execute_result"
    }
   ],
   "source": [
    "# national register historic sites intersect with roadway lines\n",
    "aaf.RTP_counted_by_intersection()"
   ]
  },
  {
   "cell_type": "code",
   "execution_count": 4,
   "id": "2a01b89b",
   "metadata": {},
   "outputs": [
    {
     "data": {
      "text/html": [
       "<div>\n",
       "<style scoped>\n",
       "    .dataframe tbody tr th:only-of-type {\n",
       "        vertical-align: middle;\n",
       "    }\n",
       "\n",
       "    .dataframe tbody tr th {\n",
       "        vertical-align: top;\n",
       "    }\n",
       "\n",
       "    .dataframe thead th {\n",
       "        text-align: right;\n",
       "    }\n",
       "</style>\n",
       "<table border=\"1\" class=\"dataframe\">\n",
       "  <thead>\n",
       "    <tr style=\"text-align: right;\">\n",
       "      <th></th>\n",
       "      <th>geometry</th>\n",
       "    </tr>\n",
       "    <tr>\n",
       "      <th>Category</th>\n",
       "      <th></th>\n",
       "    </tr>\n",
       "  </thead>\n",
       "  <tbody>\n",
       "  </tbody>\n",
       "</table>\n",
       "</div>"
      ],
      "text/plain": [
       "Empty DataFrame\n",
       "Columns: [geometry]\n",
       "Index: []"
      ]
     },
     "execution_count": 4,
     "metadata": {},
     "output_type": "execute_result"
    }
   ],
   "source": [
    "# national register historic sites intersect with roadway points\n",
    "aaf.RTP_counted_by_intersection(shapefile='Roadway_points')"
   ]
  },
  {
   "cell_type": "code",
   "execution_count": 5,
   "id": "c0da9d40",
   "metadata": {},
   "outputs": [
    {
     "data": {
      "text/html": [
       "<div>\n",
       "<style scoped>\n",
       "    .dataframe tbody tr th:only-of-type {\n",
       "        vertical-align: middle;\n",
       "    }\n",
       "\n",
       "    .dataframe tbody tr th {\n",
       "        vertical-align: top;\n",
       "    }\n",
       "\n",
       "    .dataframe thead th {\n",
       "        text-align: right;\n",
       "    }\n",
       "</style>\n",
       "<table border=\"1\" class=\"dataframe\">\n",
       "  <thead>\n",
       "    <tr style=\"text-align: right;\">\n",
       "      <th></th>\n",
       "      <th>geometry</th>\n",
       "    </tr>\n",
       "    <tr>\n",
       "      <th>Category</th>\n",
       "      <th></th>\n",
       "    </tr>\n",
       "  </thead>\n",
       "  <tbody>\n",
       "  </tbody>\n",
       "</table>\n",
       "</div>"
      ],
      "text/plain": [
       "Empty DataFrame\n",
       "Columns: [geometry]\n",
       "Index: []"
      ]
     },
     "execution_count": 5,
     "metadata": {},
     "output_type": "execute_result"
    }
   ],
   "source": [
    "# national register historic districts intersect with roadway lines\n",
    "aaf.RTP_counted_by_intersection(file='NationalRegisterHistoricDistrictsCLMPO.shp')"
   ]
  },
  {
   "cell_type": "code",
   "execution_count": 6,
   "id": "3663663d",
   "metadata": {},
   "outputs": [
    {
     "data": {
      "text/html": [
       "<div>\n",
       "<style scoped>\n",
       "    .dataframe tbody tr th:only-of-type {\n",
       "        vertical-align: middle;\n",
       "    }\n",
       "\n",
       "    .dataframe tbody tr th {\n",
       "        vertical-align: top;\n",
       "    }\n",
       "\n",
       "    .dataframe thead th {\n",
       "        text-align: right;\n",
       "    }\n",
       "</style>\n",
       "<table border=\"1\" class=\"dataframe\">\n",
       "  <thead>\n",
       "    <tr style=\"text-align: right;\">\n",
       "      <th></th>\n",
       "      <th>geometry</th>\n",
       "    </tr>\n",
       "    <tr>\n",
       "      <th>Category</th>\n",
       "      <th></th>\n",
       "    </tr>\n",
       "  </thead>\n",
       "  <tbody>\n",
       "    <tr>\n",
       "      <th>On-Street Lanes or Routes With Road Project</th>\n",
       "      <td>1</td>\n",
       "    </tr>\n",
       "    <tr>\n",
       "      <th>On-Street Lanes or Routes Without Road Project</th>\n",
       "      <td>6</td>\n",
       "    </tr>\n",
       "  </tbody>\n",
       "</table>\n",
       "</div>"
      ],
      "text/plain": [
       "                                                geometry\n",
       "Category                                                \n",
       "On-Street Lanes or Routes With Road Project            1\n",
       "On-Street Lanes or Routes Without Road Project         6"
      ]
     },
     "execution_count": 6,
     "metadata": {},
     "output_type": "execute_result"
    }
   ],
   "source": [
    "# national register historic sites intersect with bike/pedestrain lines\n",
    "aaf.RTP_counted_by_intersection(shapefile='BikePed')"
   ]
  },
  {
   "cell_type": "code",
   "execution_count": 7,
   "id": "1ce626ea",
   "metadata": {},
   "outputs": [
    {
     "data": {
      "text/html": [
       "<div>\n",
       "<style scoped>\n",
       "    .dataframe tbody tr th:only-of-type {\n",
       "        vertical-align: middle;\n",
       "    }\n",
       "\n",
       "    .dataframe tbody tr th {\n",
       "        vertical-align: top;\n",
       "    }\n",
       "\n",
       "    .dataframe thead th {\n",
       "        text-align: right;\n",
       "    }\n",
       "</style>\n",
       "<table border=\"1\" class=\"dataframe\">\n",
       "  <thead>\n",
       "    <tr style=\"text-align: right;\">\n",
       "      <th></th>\n",
       "      <th>geometry</th>\n",
       "    </tr>\n",
       "    <tr>\n",
       "      <th>Category</th>\n",
       "      <th></th>\n",
       "    </tr>\n",
       "  </thead>\n",
       "  <tbody>\n",
       "  </tbody>\n",
       "</table>\n",
       "</div>"
      ],
      "text/plain": [
       "Empty DataFrame\n",
       "Columns: [geometry]\n",
       "Index: []"
      ]
     },
     "execution_count": 7,
     "metadata": {},
     "output_type": "execute_result"
    }
   ],
   "source": [
    "# national register historic sites intersect with bike/pedestrain points\n",
    "aaf.RTP_counted_by_intersection(shapefile='BikePed_points')"
   ]
  },
  {
   "cell_type": "code",
   "execution_count": 8,
   "id": "228a94a5",
   "metadata": {},
   "outputs": [
    {
     "data": {
      "text/html": [
       "<div>\n",
       "<style scoped>\n",
       "    .dataframe tbody tr th:only-of-type {\n",
       "        vertical-align: middle;\n",
       "    }\n",
       "\n",
       "    .dataframe tbody tr th {\n",
       "        vertical-align: top;\n",
       "    }\n",
       "\n",
       "    .dataframe thead th {\n",
       "        text-align: right;\n",
       "    }\n",
       "</style>\n",
       "<table border=\"1\" class=\"dataframe\">\n",
       "  <thead>\n",
       "    <tr style=\"text-align: right;\">\n",
       "      <th></th>\n",
       "      <th>geometry</th>\n",
       "    </tr>\n",
       "    <tr>\n",
       "      <th>Category</th>\n",
       "      <th></th>\n",
       "    </tr>\n",
       "  </thead>\n",
       "  <tbody>\n",
       "    <tr>\n",
       "      <th>Multi-Use Paths Without Road Project</th>\n",
       "      <td>1</td>\n",
       "    </tr>\n",
       "    <tr>\n",
       "      <th>On-Street Lanes or Routes Without Road Project</th>\n",
       "      <td>6</td>\n",
       "    </tr>\n",
       "  </tbody>\n",
       "</table>\n",
       "</div>"
      ],
      "text/plain": [
       "                                                geometry\n",
       "Category                                                \n",
       "Multi-Use Paths Without Road Project                   1\n",
       "On-Street Lanes or Routes Without Road Project         6"
      ]
     },
     "execution_count": 8,
     "metadata": {},
     "output_type": "execute_result"
    }
   ],
   "source": [
    "# national register historic districts intersect with bike/pedestrain lines\n",
    "aaf.RTP_counted_by_intersection(shapefile='BikePed',\n",
    "                                file='NationalRegisterHistoricDistrictsCLMPO.shp')"
   ]
  },
  {
   "cell_type": "code",
   "execution_count": 9,
   "id": "9e469074",
   "metadata": {},
   "outputs": [
    {
     "data": {
      "text/html": [
       "<div>\n",
       "<style scoped>\n",
       "    .dataframe tbody tr th:only-of-type {\n",
       "        vertical-align: middle;\n",
       "    }\n",
       "\n",
       "    .dataframe tbody tr th {\n",
       "        vertical-align: top;\n",
       "    }\n",
       "\n",
       "    .dataframe thead th {\n",
       "        text-align: right;\n",
       "    }\n",
       "</style>\n",
       "<table border=\"1\" class=\"dataframe\">\n",
       "  <thead>\n",
       "    <tr style=\"text-align: right;\">\n",
       "      <th></th>\n",
       "      <th>geometry</th>\n",
       "    </tr>\n",
       "    <tr>\n",
       "      <th>Category</th>\n",
       "      <th></th>\n",
       "    </tr>\n",
       "  </thead>\n",
       "  <tbody>\n",
       "    <tr>\n",
       "      <th>On-Street Lanes or Routes Without Road Project</th>\n",
       "      <td>1</td>\n",
       "    </tr>\n",
       "  </tbody>\n",
       "</table>\n",
       "</div>"
      ],
      "text/plain": [
       "                                                geometry\n",
       "Category                                                \n",
       "On-Street Lanes or Routes Without Road Project         1"
      ]
     },
     "execution_count": 9,
     "metadata": {},
     "output_type": "execute_result"
    }
   ],
   "source": [
    "# national register historic districts intersect with bike/pedestrain points\n",
    "aaf.RTP_counted_by_intersection(shapefile='BikePed_points',\n",
    "                                file='NationalRegisterHistoricDistrictsCLMPO.shp')"
   ]
  },
  {
   "cell_type": "code",
   "execution_count": 62,
   "id": "b79d1ef4",
   "metadata": {},
   "outputs": [],
   "source": [
    "# national register historic sites intersect with frequent transit network\n",
    "res = aaf.RTP_counted_by_intersection(shapefile='FrequentTransitNetwork', transit=True, ftn=True)"
   ]
  },
  {
   "cell_type": "code",
   "execution_count": 63,
   "id": "26c4318a",
   "metadata": {},
   "outputs": [],
   "source": [
    "sites = res.index"
   ]
  },
  {
   "cell_type": "code",
   "execution_count": 64,
   "id": "2341cf22",
   "metadata": {},
   "outputs": [],
   "source": [
    "# national register historic districts intersect with frequent transit network\n",
    "res = aaf.RTP_counted_by_intersection(shapefile='FrequentTransitNetwork', \n",
    "                                      file='NationalRegisterHistoricDistrictsCLMPO.shp',\n",
    "                                      transit=True, ftn=True)"
   ]
  },
  {
   "cell_type": "code",
   "execution_count": 65,
   "id": "ba7c72d4",
   "metadata": {},
   "outputs": [],
   "source": [
    "districts = res.index"
   ]
  },
  {
   "cell_type": "code",
   "execution_count": 66,
   "id": "1a86aea4",
   "metadata": {},
   "outputs": [
    {
     "data": {
      "text/plain": [
       "26"
      ]
     },
     "execution_count": 66,
     "metadata": {},
     "output_type": "execute_result"
    }
   ],
   "source": [
    "len(unique(list(sites)+list(districts)))"
   ]
  },
  {
   "cell_type": "code",
   "execution_count": 18,
   "id": "36d7bce7",
   "metadata": {},
   "outputs": [],
   "source": [
    "datapath = r'T:\\MPO\\RTP\\FY20 2045 Update\\Data and Resources\\Data\\ForAppendixF'"
   ]
  },
  {
   "cell_type": "code",
   "execution_count": 16,
   "id": "8a81e04b",
   "metadata": {},
   "outputs": [],
   "source": [
    "shapefile='stations'\n",
    "folder='Historic'\n",
    "file='NationalRegisterHistoricSitesCLMPO.shp'"
   ]
  },
  {
   "cell_type": "code",
   "execution_count": 14,
   "id": "86a10e52",
   "metadata": {},
   "outputs": [],
   "source": [
    "# check the intersection with the LTD stations\n",
    "import geopandas as gpd\n",
    "import os"
   ]
  },
  {
   "cell_type": "code",
   "execution_count": 19,
   "id": "afdc2c4b",
   "metadata": {},
   "outputs": [],
   "source": [
    "rtp = gpd.read_file(os.path.join(datapath, 'RTP', shapefile+'.shp'))"
   ]
  },
  {
   "cell_type": "code",
   "execution_count": 20,
   "id": "6d7fc87f",
   "metadata": {},
   "outputs": [],
   "source": [
    "rtp['buffered'] = rtp.buffer(100)\n",
    "rtp = rtp.set_geometry('buffered')\n",
    "rtp = rtp.to_crs(epsg=3857)\n",
    "env = gpd.read_file(os.path.join(datapath, folder, file))\n",
    "joined = gpd.tools.sjoin(rtp, env, how=\"inner\")"
   ]
  },
  {
   "cell_type": "code",
   "execution_count": 21,
   "id": "c9fc06fa",
   "metadata": {},
   "outputs": [
    {
     "data": {
      "text/html": [
       "<div>\n",
       "<style scoped>\n",
       "    .dataframe tbody tr th:only-of-type {\n",
       "        vertical-align: middle;\n",
       "    }\n",
       "\n",
       "    .dataframe tbody tr th {\n",
       "        vertical-align: top;\n",
       "    }\n",
       "\n",
       "    .dataframe thead th {\n",
       "        text-align: right;\n",
       "    }\n",
       "</style>\n",
       "<table border=\"1\" class=\"dataframe\">\n",
       "  <thead>\n",
       "    <tr style=\"text-align: right;\">\n",
       "      <th></th>\n",
       "      <th>name_left</th>\n",
       "      <th>longitude</th>\n",
       "      <th>latitude</th>\n",
       "      <th>geometry</th>\n",
       "      <th>buffered</th>\n",
       "      <th>index_right</th>\n",
       "      <th>id</th>\n",
       "      <th>name_right</th>\n",
       "      <th>address</th>\n",
       "      <th>city</th>\n",
       "      <th>yrbuilt</th>\n",
       "    </tr>\n",
       "  </thead>\n",
       "  <tbody>\n",
       "    <tr>\n",
       "      <th>8</th>\n",
       "      <td>LTD Eugene Station</td>\n",
       "      <td>-123.093686</td>\n",
       "      <td>44.048119</td>\n",
       "      <td>POINT (-13702726.473 5472891.696)</td>\n",
       "      <td>POLYGON ((-13702626.473 5472891.696, -13702626...</td>\n",
       "      <td>71</td>\n",
       "      <td>2067</td>\n",
       "      <td>Mcdonald Theatre</td>\n",
       "      <td>1004 Willamette St</td>\n",
       "      <td>Eugene</td>\n",
       "      <td>1925</td>\n",
       "    </tr>\n",
       "  </tbody>\n",
       "</table>\n",
       "</div>"
      ],
      "text/plain": [
       "            name_left   longitude   latitude  \\\n",
       "8  LTD Eugene Station -123.093686  44.048119   \n",
       "\n",
       "                            geometry  \\\n",
       "8  POINT (-13702726.473 5472891.696)   \n",
       "\n",
       "                                            buffered  index_right    id  \\\n",
       "8  POLYGON ((-13702626.473 5472891.696, -13702626...           71  2067   \n",
       "\n",
       "         name_right             address    city yrbuilt  \n",
       "8  Mcdonald Theatre  1004 Willamette St  Eugene    1925  "
      ]
     },
     "execution_count": 21,
     "metadata": {},
     "output_type": "execute_result"
    }
   ],
   "source": [
    "joined"
   ]
  },
  {
   "cell_type": "code",
   "execution_count": 22,
   "id": "d6974131",
   "metadata": {},
   "outputs": [],
   "source": [
    "joined = joined.drop_duplicates(subset=['name_left', 'geometry'])\n",
    "res = joined[['name_left', 'geometry']].groupby(['name_left']).agg('count')"
   ]
  },
  {
   "cell_type": "code",
   "execution_count": 23,
   "id": "bfe3c0c0",
   "metadata": {},
   "outputs": [
    {
     "data": {
      "text/html": [
       "<div>\n",
       "<style scoped>\n",
       "    .dataframe tbody tr th:only-of-type {\n",
       "        vertical-align: middle;\n",
       "    }\n",
       "\n",
       "    .dataframe tbody tr th {\n",
       "        vertical-align: top;\n",
       "    }\n",
       "\n",
       "    .dataframe thead th {\n",
       "        text-align: right;\n",
       "    }\n",
       "</style>\n",
       "<table border=\"1\" class=\"dataframe\">\n",
       "  <thead>\n",
       "    <tr style=\"text-align: right;\">\n",
       "      <th></th>\n",
       "      <th>geometry</th>\n",
       "    </tr>\n",
       "    <tr>\n",
       "      <th>name_left</th>\n",
       "      <th></th>\n",
       "    </tr>\n",
       "  </thead>\n",
       "  <tbody>\n",
       "    <tr>\n",
       "      <th>LTD Eugene Station</th>\n",
       "      <td>1</td>\n",
       "    </tr>\n",
       "  </tbody>\n",
       "</table>\n",
       "</div>"
      ],
      "text/plain": [
       "                    geometry\n",
       "name_left                   \n",
       "LTD Eugene Station         1"
      ]
     },
     "execution_count": 23,
     "metadata": {},
     "output_type": "execute_result"
    }
   ],
   "source": [
    "res"
   ]
  },
  {
   "cell_type": "code",
   "execution_count": 2,
   "id": "3d78fcb3",
   "metadata": {},
   "outputs": [],
   "source": [
    "# national register historic sites intersect with stations\n",
    "res = aaf.RTP_counted_by_intersection(shapefile='stations', transit=True)"
   ]
  },
  {
   "cell_type": "code",
   "execution_count": 3,
   "id": "c46866c8",
   "metadata": {},
   "outputs": [
    {
     "data": {
      "text/html": [
       "<div>\n",
       "<style scoped>\n",
       "    .dataframe tbody tr th:only-of-type {\n",
       "        vertical-align: middle;\n",
       "    }\n",
       "\n",
       "    .dataframe tbody tr th {\n",
       "        vertical-align: top;\n",
       "    }\n",
       "\n",
       "    .dataframe thead th {\n",
       "        text-align: right;\n",
       "    }\n",
       "</style>\n",
       "<table border=\"1\" class=\"dataframe\">\n",
       "  <thead>\n",
       "    <tr style=\"text-align: right;\">\n",
       "      <th></th>\n",
       "      <th>geometry</th>\n",
       "    </tr>\n",
       "    <tr>\n",
       "      <th>name_left</th>\n",
       "      <th></th>\n",
       "    </tr>\n",
       "  </thead>\n",
       "  <tbody>\n",
       "    <tr>\n",
       "      <th>LTD Eugene Station</th>\n",
       "      <td>1</td>\n",
       "    </tr>\n",
       "  </tbody>\n",
       "</table>\n",
       "</div>"
      ],
      "text/plain": [
       "                    geometry\n",
       "name_left                   \n",
       "LTD Eugene Station         1"
      ]
     },
     "execution_count": 3,
     "metadata": {},
     "output_type": "execute_result"
    }
   ],
   "source": [
    "res"
   ]
  },
  {
   "cell_type": "code",
   "execution_count": 5,
   "id": "3b65858f",
   "metadata": {},
   "outputs": [
    {
     "data": {
      "text/html": [
       "<div>\n",
       "<style scoped>\n",
       "    .dataframe tbody tr th:only-of-type {\n",
       "        vertical-align: middle;\n",
       "    }\n",
       "\n",
       "    .dataframe tbody tr th {\n",
       "        vertical-align: top;\n",
       "    }\n",
       "\n",
       "    .dataframe thead th {\n",
       "        text-align: right;\n",
       "    }\n",
       "</style>\n",
       "<table border=\"1\" class=\"dataframe\">\n",
       "  <thead>\n",
       "    <tr style=\"text-align: right;\">\n",
       "      <th></th>\n",
       "      <th>geometry</th>\n",
       "    </tr>\n",
       "    <tr>\n",
       "      <th>name_left</th>\n",
       "      <th></th>\n",
       "    </tr>\n",
       "  </thead>\n",
       "  <tbody>\n",
       "  </tbody>\n",
       "</table>\n",
       "</div>"
      ],
      "text/plain": [
       "Empty DataFrame\n",
       "Columns: [geometry]\n",
       "Index: []"
      ]
     },
     "execution_count": 5,
     "metadata": {},
     "output_type": "execute_result"
    }
   ],
   "source": [
    "# national register historic districts intersect with stations\n",
    "aaf.RTP_counted_by_intersection(shapefile='stations', file='NationalRegisterHistoricDistrictsCLMPO.shp', transit=True)"
   ]
  },
  {
   "cell_type": "code",
   "execution_count": 6,
   "id": "53f99cf9",
   "metadata": {},
   "outputs": [],
   "source": [
    "path = r'T:\\MPO\\RTP\\FY20 2045 Update\\Data and Resources\\Data\\GISData\\Updated'\n",
    "datapath = r'T:\\MPO\\RTP\\FY20 2045 Update\\Data and Resources\\Data\\ForAppendixF'"
   ]
  },
  {
   "cell_type": "code",
   "execution_count": 7,
   "id": "e227a06f",
   "metadata": {},
   "outputs": [],
   "source": [
    "shapefile='Roadway_lines'\n",
    "folder='WaterQuality'\n",
    "file='DEQ303dListedStreams.shp'"
   ]
  },
  {
   "cell_type": "code",
   "execution_count": 11,
   "id": "396d9567",
   "metadata": {},
   "outputs": [],
   "source": [
    "import geopandas as gpd\n",
    "import os"
   ]
  },
  {
   "cell_type": "code",
   "execution_count": 2,
   "id": "7da40ab6",
   "metadata": {},
   "outputs": [
    {
     "data": {
      "text/html": [
       "<div>\n",
       "<style scoped>\n",
       "    .dataframe tbody tr th:only-of-type {\n",
       "        vertical-align: middle;\n",
       "    }\n",
       "\n",
       "    .dataframe tbody tr th {\n",
       "        vertical-align: top;\n",
       "    }\n",
       "\n",
       "    .dataframe thead th {\n",
       "        text-align: right;\n",
       "    }\n",
       "</style>\n",
       "<table border=\"1\" class=\"dataframe\">\n",
       "  <thead>\n",
       "    <tr style=\"text-align: right;\">\n",
       "      <th></th>\n",
       "      <th>geometry</th>\n",
       "    </tr>\n",
       "    <tr>\n",
       "      <th>Category</th>\n",
       "      <th></th>\n",
       "    </tr>\n",
       "  </thead>\n",
       "  <tbody>\n",
       "    <tr>\n",
       "      <th>Added Freeway Lanes or Major Interchange Improvements</th>\n",
       "      <td>1</td>\n",
       "    </tr>\n",
       "    <tr>\n",
       "      <th>New Arterial Link or Interchange</th>\n",
       "      <td>1</td>\n",
       "    </tr>\n",
       "    <tr>\n",
       "      <th>Study</th>\n",
       "      <td>5</td>\n",
       "    </tr>\n",
       "    <tr>\n",
       "      <th>Urban Standards</th>\n",
       "      <td>1</td>\n",
       "    </tr>\n",
       "  </tbody>\n",
       "</table>\n",
       "</div>"
      ],
      "text/plain": [
       "                                                    geometry\n",
       "Category                                                    \n",
       "Added Freeway Lanes or Major Interchange Improv...         1\n",
       "New Arterial Link or Interchange                           1\n",
       "Study                                                      5\n",
       "Urban Standards                                            1"
      ]
     },
     "execution_count": 2,
     "metadata": {},
     "output_type": "execute_result"
    }
   ],
   "source": [
    "# DEQ303dListedStreams intersect with roadway lines\n",
    "aaf.RTP_counted_by_intersection(folder='WaterQuality', file='DEQ303dListedStreams.shp')"
   ]
  },
  {
   "cell_type": "code",
   "execution_count": 3,
   "id": "f70b63fd",
   "metadata": {},
   "outputs": [
    {
     "data": {
      "text/html": [
       "<div>\n",
       "<style scoped>\n",
       "    .dataframe tbody tr th:only-of-type {\n",
       "        vertical-align: middle;\n",
       "    }\n",
       "\n",
       "    .dataframe tbody tr th {\n",
       "        vertical-align: top;\n",
       "    }\n",
       "\n",
       "    .dataframe thead th {\n",
       "        text-align: right;\n",
       "    }\n",
       "</style>\n",
       "<table border=\"1\" class=\"dataframe\">\n",
       "  <thead>\n",
       "    <tr style=\"text-align: right;\">\n",
       "      <th></th>\n",
       "      <th>RTP_ID</th>\n",
       "    </tr>\n",
       "    <tr>\n",
       "      <th>Category</th>\n",
       "      <th></th>\n",
       "    </tr>\n",
       "  </thead>\n",
       "  <tbody>\n",
       "    <tr>\n",
       "      <th>Added Freeway Lanes or Major Interchange Improvements</th>\n",
       "      <td>{312}</td>\n",
       "    </tr>\n",
       "    <tr>\n",
       "      <th>New Arterial Link or Interchange</th>\n",
       "      <td>{512}</td>\n",
       "    </tr>\n",
       "    <tr>\n",
       "      <th>Study</th>\n",
       "      <td>{838, 555, 815, 210, 831}</td>\n",
       "    </tr>\n",
       "    <tr>\n",
       "      <th>Urban Standards</th>\n",
       "      <td>{481}</td>\n",
       "    </tr>\n",
       "  </tbody>\n",
       "</table>\n",
       "</div>"
      ],
      "text/plain": [
       "                                                                       RTP_ID\n",
       "Category                                                                     \n",
       "Added Freeway Lanes or Major Interchange Improv...                      {312}\n",
       "New Arterial Link or Interchange                                        {512}\n",
       "Study                                               {838, 555, 815, 210, 831}\n",
       "Urban Standards                                                         {481}"
      ]
     },
     "execution_count": 3,
     "metadata": {},
     "output_type": "execute_result"
    }
   ],
   "source": [
    "aaf.RTP_counted_by_intersection(folder='WaterQuality', file='DEQ303dListedStreams.shp', returnID=True)"
   ]
  },
  {
   "cell_type": "code",
   "execution_count": 11,
   "id": "167a236a",
   "metadata": {},
   "outputs": [
    {
     "data": {
      "text/html": [
       "<div>\n",
       "<style scoped>\n",
       "    .dataframe tbody tr th:only-of-type {\n",
       "        vertical-align: middle;\n",
       "    }\n",
       "\n",
       "    .dataframe tbody tr th {\n",
       "        vertical-align: top;\n",
       "    }\n",
       "\n",
       "    .dataframe thead th {\n",
       "        text-align: right;\n",
       "    }\n",
       "</style>\n",
       "<table border=\"1\" class=\"dataframe\">\n",
       "  <thead>\n",
       "    <tr style=\"text-align: right;\">\n",
       "      <th></th>\n",
       "      <th>geometry</th>\n",
       "    </tr>\n",
       "    <tr>\n",
       "      <th>Category</th>\n",
       "      <th></th>\n",
       "    </tr>\n",
       "  </thead>\n",
       "  <tbody>\n",
       "    <tr>\n",
       "      <th>Added Freeway Lanes or Major Interchange Improvements</th>\n",
       "      <td>1</td>\n",
       "    </tr>\n",
       "    <tr>\n",
       "      <th>Arterial Capacity Improvements</th>\n",
       "      <td>2</td>\n",
       "    </tr>\n",
       "    <tr>\n",
       "      <th>New Arterial Link or Interchange</th>\n",
       "      <td>1</td>\n",
       "    </tr>\n",
       "    <tr>\n",
       "      <th>New Collectors</th>\n",
       "      <td>1</td>\n",
       "    </tr>\n",
       "    <tr>\n",
       "      <th>Study</th>\n",
       "      <td>4</td>\n",
       "    </tr>\n",
       "    <tr>\n",
       "      <th>Urban Standards</th>\n",
       "      <td>5</td>\n",
       "    </tr>\n",
       "  </tbody>\n",
       "</table>\n",
       "</div>"
      ],
      "text/plain": [
       "                                                    geometry\n",
       "Category                                                    \n",
       "Added Freeway Lanes or Major Interchange Improv...         1\n",
       "Arterial Capacity Improvements                             2\n",
       "New Arterial Link or Interchange                           1\n",
       "New Collectors                                             1\n",
       "Study                                                      4\n",
       "Urban Standards                                            5"
      ]
     },
     "execution_count": 11,
     "metadata": {},
     "output_type": "execute_result"
    }
   ],
   "source": [
    "# Navigable Rivers intersect with roadway lines\n",
    "aaf.RTP_counted_by_intersection(folder='WaterQuality', file='NavigableRivers.shp')"
   ]
  },
  {
   "cell_type": "code",
   "execution_count": 4,
   "id": "1684b9df",
   "metadata": {},
   "outputs": [
    {
     "data": {
      "text/html": [
       "<div>\n",
       "<style scoped>\n",
       "    .dataframe tbody tr th:only-of-type {\n",
       "        vertical-align: middle;\n",
       "    }\n",
       "\n",
       "    .dataframe tbody tr th {\n",
       "        vertical-align: top;\n",
       "    }\n",
       "\n",
       "    .dataframe thead th {\n",
       "        text-align: right;\n",
       "    }\n",
       "</style>\n",
       "<table border=\"1\" class=\"dataframe\">\n",
       "  <thead>\n",
       "    <tr style=\"text-align: right;\">\n",
       "      <th></th>\n",
       "      <th>RTP_ID</th>\n",
       "    </tr>\n",
       "    <tr>\n",
       "      <th>Category</th>\n",
       "      <th></th>\n",
       "    </tr>\n",
       "  </thead>\n",
       "  <tbody>\n",
       "    <tr>\n",
       "      <th>Added Freeway Lanes or Major Interchange Improvements</th>\n",
       "      <td>{638}</td>\n",
       "    </tr>\n",
       "    <tr>\n",
       "      <th>Arterial Capacity Improvements</th>\n",
       "      <td>{713, 899}</td>\n",
       "    </tr>\n",
       "    <tr>\n",
       "      <th>New Arterial Link or Interchange</th>\n",
       "      <td>{512}</td>\n",
       "    </tr>\n",
       "    <tr>\n",
       "      <th>New Collectors</th>\n",
       "      <td>{703}</td>\n",
       "    </tr>\n",
       "    <tr>\n",
       "      <th>Study</th>\n",
       "      <td>{835, 555, 102, 831}</td>\n",
       "    </tr>\n",
       "    <tr>\n",
       "      <th>Urban Standards</th>\n",
       "      <td>{747, 826, 827, 828, 765}</td>\n",
       "    </tr>\n",
       "  </tbody>\n",
       "</table>\n",
       "</div>"
      ],
      "text/plain": [
       "                                                                       RTP_ID\n",
       "Category                                                                     \n",
       "Added Freeway Lanes or Major Interchange Improv...                      {638}\n",
       "Arterial Capacity Improvements                                     {713, 899}\n",
       "New Arterial Link or Interchange                                        {512}\n",
       "New Collectors                                                          {703}\n",
       "Study                                                    {835, 555, 102, 831}\n",
       "Urban Standards                                     {747, 826, 827, 828, 765}"
      ]
     },
     "execution_count": 4,
     "metadata": {},
     "output_type": "execute_result"
    }
   ],
   "source": [
    "aaf.RTP_counted_by_intersection(folder='WaterQuality', file='NavigableRivers.shp', returnID=True)"
   ]
  },
  {
   "cell_type": "code",
   "execution_count": 23,
   "id": "ff849e69",
   "metadata": {},
   "outputs": [
    {
     "data": {
      "text/html": [
       "<div>\n",
       "<style scoped>\n",
       "    .dataframe tbody tr th:only-of-type {\n",
       "        vertical-align: middle;\n",
       "    }\n",
       "\n",
       "    .dataframe tbody tr th {\n",
       "        vertical-align: top;\n",
       "    }\n",
       "\n",
       "    .dataframe thead th {\n",
       "        text-align: right;\n",
       "    }\n",
       "</style>\n",
       "<table border=\"1\" class=\"dataframe\">\n",
       "  <thead>\n",
       "    <tr style=\"text-align: right;\">\n",
       "      <th></th>\n",
       "      <th>geometry</th>\n",
       "    </tr>\n",
       "    <tr>\n",
       "      <th>Category</th>\n",
       "      <th></th>\n",
       "    </tr>\n",
       "  </thead>\n",
       "  <tbody>\n",
       "    <tr>\n",
       "      <th>Added Freeway Lanes or Major Interchange Improvements</th>\n",
       "      <td>2</td>\n",
       "    </tr>\n",
       "    <tr>\n",
       "      <th>Arterial Capacity Improvements</th>\n",
       "      <td>5</td>\n",
       "    </tr>\n",
       "    <tr>\n",
       "      <th>New Arterial Link or Interchange</th>\n",
       "      <td>1</td>\n",
       "    </tr>\n",
       "    <tr>\n",
       "      <th>New Collectors</th>\n",
       "      <td>14</td>\n",
       "    </tr>\n",
       "    <tr>\n",
       "      <th>Study</th>\n",
       "      <td>9</td>\n",
       "    </tr>\n",
       "    <tr>\n",
       "      <th>Urban Standards</th>\n",
       "      <td>19</td>\n",
       "    </tr>\n",
       "  </tbody>\n",
       "</table>\n",
       "</div>"
      ],
      "text/plain": [
       "                                                    geometry\n",
       "Category                                                    \n",
       "Added Freeway Lanes or Major Interchange Improv...         2\n",
       "Arterial Capacity Improvements                             5\n",
       "New Arterial Link or Interchange                           1\n",
       "New Collectors                                            14\n",
       "Study                                                      9\n",
       "Urban Standards                                           19"
      ]
     },
     "execution_count": 23,
     "metadata": {},
     "output_type": "execute_result"
    }
   ],
   "source": [
    "# wetlands intersect with roadway lines\n",
    "aaf.RTP_counted_by_intersection(folder='WaterQuality', file='wetlandsCLMPO.shp')"
   ]
  },
  {
   "cell_type": "code",
   "execution_count": 5,
   "id": "97753d1c",
   "metadata": {},
   "outputs": [
    {
     "data": {
      "text/html": [
       "<div>\n",
       "<style scoped>\n",
       "    .dataframe tbody tr th:only-of-type {\n",
       "        vertical-align: middle;\n",
       "    }\n",
       "\n",
       "    .dataframe tbody tr th {\n",
       "        vertical-align: top;\n",
       "    }\n",
       "\n",
       "    .dataframe thead th {\n",
       "        text-align: right;\n",
       "    }\n",
       "</style>\n",
       "<table border=\"1\" class=\"dataframe\">\n",
       "  <thead>\n",
       "    <tr style=\"text-align: right;\">\n",
       "      <th></th>\n",
       "      <th>RTP_ID</th>\n",
       "    </tr>\n",
       "    <tr>\n",
       "      <th>Category</th>\n",
       "      <th></th>\n",
       "    </tr>\n",
       "  </thead>\n",
       "  <tbody>\n",
       "    <tr>\n",
       "      <th>Added Freeway Lanes or Major Interchange Improvements</th>\n",
       "      <td>{312, 638}</td>\n",
       "    </tr>\n",
       "    <tr>\n",
       "      <th>Arterial Capacity Improvements</th>\n",
       "      <td>{713, 333, 602, 924, 830}</td>\n",
       "    </tr>\n",
       "    <tr>\n",
       "      <th>New Arterial Link or Interchange</th>\n",
       "      <td>{512}</td>\n",
       "    </tr>\n",
       "    <tr>\n",
       "      <th>New Collectors</th>\n",
       "      <td>{901, 777, 429, 783, 798, 81, 18, 435, 19, 22,...</td>\n",
       "    </tr>\n",
       "    <tr>\n",
       "      <th>Study</th>\n",
       "      <td>{96, 835, 838, 555, 815, 210, 211, 917, 831}</td>\n",
       "    </tr>\n",
       "    <tr>\n",
       "      <th>Urban Standards</th>\n",
       "      <td>{3, 6, 527, 784, 662, 664, 925, 554, 945, 54, ...</td>\n",
       "    </tr>\n",
       "  </tbody>\n",
       "</table>\n",
       "</div>"
      ],
      "text/plain": [
       "                                                                                               RTP_ID\n",
       "Category                                                                                             \n",
       "Added Freeway Lanes or Major Interchange Improv...                                         {312, 638}\n",
       "Arterial Capacity Improvements                                              {713, 333, 602, 924, 830}\n",
       "New Arterial Link or Interchange                                                                {512}\n",
       "New Collectors                                      {901, 777, 429, 783, 798, 81, 18, 435, 19, 22,...\n",
       "Study                                                    {96, 835, 838, 555, 815, 210, 211, 917, 831}\n",
       "Urban Standards                                     {3, 6, 527, 784, 662, 664, 925, 554, 945, 54, ..."
      ]
     },
     "execution_count": 5,
     "metadata": {},
     "output_type": "execute_result"
    }
   ],
   "source": [
    "aaf.RTP_counted_by_intersection(folder='WaterQuality', file='wetlandsCLMPO.shp', returnID=True)"
   ]
  },
  {
   "cell_type": "code",
   "execution_count": 26,
   "id": "b1328896",
   "metadata": {},
   "outputs": [],
   "source": [
    "# wetlands intersect with roadway lines\n",
    "df = aaf.RTP_counted_by_intersection(folder='WaterQuality', file='wetlandsCLMPO.shp', returnID=True)"
   ]
  },
  {
   "cell_type": "code",
   "execution_count": 28,
   "id": "8a21ec55",
   "metadata": {},
   "outputs": [
    {
     "data": {
      "text/plain": [
       "False"
      ]
     },
     "execution_count": 28,
     "metadata": {},
     "output_type": "execute_result"
    }
   ],
   "source": [
    "703 in df.loc['New Collectors','RTP_ID']"
   ]
  },
  {
   "cell_type": "code",
   "execution_count": 29,
   "id": "6b728f79",
   "metadata": {},
   "outputs": [
    {
     "data": {
      "text/plain": [
       "20"
      ]
     },
     "execution_count": 29,
     "metadata": {},
     "output_type": "execute_result"
    }
   ],
   "source": [
    "len(unique([747, 826, 827, 828, 765] + list(df.loc['Urban Standards','RTP_ID'])))"
   ]
  },
  {
   "cell_type": "code",
   "execution_count": 7,
   "id": "53f0c93e",
   "metadata": {},
   "outputs": [
    {
     "data": {
      "text/plain": [
       "10"
      ]
     },
     "execution_count": 7,
     "metadata": {},
     "output_type": "execute_result"
    }
   ],
   "source": [
    "len(unique([838, 555, 815, 210, 831, 835, 555, 102, 831, 96, 835, 838, 555, 815, 210, 211, 917, 831]))"
   ]
  },
  {
   "cell_type": "code",
   "execution_count": 14,
   "id": "eb72214a",
   "metadata": {},
   "outputs": [
    {
     "data": {
      "text/plain": [
       "6"
      ]
     },
     "execution_count": 14,
     "metadata": {},
     "output_type": "execute_result"
    }
   ],
   "source": [
    "len(unique([713, 899, 713, 333, 602, 924, 830]))"
   ]
  },
  {
   "cell_type": "code",
   "execution_count": 2,
   "id": "749a9b9a",
   "metadata": {},
   "outputs": [
    {
     "data": {
      "text/html": [
       "<div>\n",
       "<style scoped>\n",
       "    .dataframe tbody tr th:only-of-type {\n",
       "        vertical-align: middle;\n",
       "    }\n",
       "\n",
       "    .dataframe tbody tr th {\n",
       "        vertical-align: top;\n",
       "    }\n",
       "\n",
       "    .dataframe thead th {\n",
       "        text-align: right;\n",
       "    }\n",
       "</style>\n",
       "<table border=\"1\" class=\"dataframe\">\n",
       "  <thead>\n",
       "    <tr style=\"text-align: right;\">\n",
       "      <th></th>\n",
       "      <th>geometry</th>\n",
       "    </tr>\n",
       "    <tr>\n",
       "      <th>Category</th>\n",
       "      <th></th>\n",
       "    </tr>\n",
       "  </thead>\n",
       "  <tbody>\n",
       "    <tr>\n",
       "      <th>Added Freeway Lanes or Major Interchange Improvements</th>\n",
       "      <td>2</td>\n",
       "    </tr>\n",
       "    <tr>\n",
       "      <th>Arterial Capacity Improvements</th>\n",
       "      <td>3</td>\n",
       "    </tr>\n",
       "    <tr>\n",
       "      <th>New Arterial Link or Interchange</th>\n",
       "      <td>1</td>\n",
       "    </tr>\n",
       "    <tr>\n",
       "      <th>New Collectors</th>\n",
       "      <td>15</td>\n",
       "    </tr>\n",
       "    <tr>\n",
       "      <th>Study</th>\n",
       "      <td>7</td>\n",
       "    </tr>\n",
       "    <tr>\n",
       "      <th>Urban Standards</th>\n",
       "      <td>21</td>\n",
       "    </tr>\n",
       "  </tbody>\n",
       "</table>\n",
       "</div>"
      ],
      "text/plain": [
       "                                                    geometry\n",
       "Category                                                    \n",
       "Added Freeway Lanes or Major Interchange Improv...         2\n",
       "Arterial Capacity Improvements                             3\n",
       "New Arterial Link or Interchange                           1\n",
       "New Collectors                                            15\n",
       "Study                                                      7\n",
       "Urban Standards                                           21"
      ]
     },
     "execution_count": 2,
     "metadata": {},
     "output_type": "execute_result"
    }
   ],
   "source": [
    "# Conservation Opportunity Areas intersect with roadway lines\n",
    "aaf.RTP_counted_by_intersection(folder='SensitiveHabitats', file='ODFW_COAs_CLMPO.shp')"
   ]
  },
  {
   "cell_type": "code",
   "execution_count": 40,
   "id": "14f0eb49",
   "metadata": {},
   "outputs": [],
   "source": [
    "df1 = aaf.RTP_counted_by_intersection(folder='SensitiveHabitats', file='ODFW_COAs_CLMPO.shp', returnID = True)"
   ]
  },
  {
   "cell_type": "code",
   "execution_count": 42,
   "id": "3ae5fe21",
   "metadata": {},
   "outputs": [
    {
     "data": {
      "text/html": [
       "<div>\n",
       "<style scoped>\n",
       "    .dataframe tbody tr th:only-of-type {\n",
       "        vertical-align: middle;\n",
       "    }\n",
       "\n",
       "    .dataframe tbody tr th {\n",
       "        vertical-align: top;\n",
       "    }\n",
       "\n",
       "    .dataframe thead th {\n",
       "        text-align: right;\n",
       "    }\n",
       "</style>\n",
       "<table border=\"1\" class=\"dataframe\">\n",
       "  <thead>\n",
       "    <tr style=\"text-align: right;\">\n",
       "      <th></th>\n",
       "      <th>RTP_ID</th>\n",
       "    </tr>\n",
       "    <tr>\n",
       "      <th>Category</th>\n",
       "      <th></th>\n",
       "    </tr>\n",
       "  </thead>\n",
       "  <tbody>\n",
       "    <tr>\n",
       "      <th>Added Freeway Lanes or Major Interchange Improvements</th>\n",
       "      <td>{312, 638}</td>\n",
       "    </tr>\n",
       "    <tr>\n",
       "      <th>Arterial Capacity Improvements</th>\n",
       "      <td>{899, 333, 830}</td>\n",
       "    </tr>\n",
       "    <tr>\n",
       "      <th>New Arterial Link or Interchange</th>\n",
       "      <td>{512}</td>\n",
       "    </tr>\n",
       "    <tr>\n",
       "      <th>New Collectors</th>\n",
       "      <td>{705, 706, 897, 709, 777, 651, 715, 429, 783, ...</td>\n",
       "    </tr>\n",
       "    <tr>\n",
       "      <th>Study</th>\n",
       "      <td>{835, 838, 555, 815, 211, 824, 831}</td>\n",
       "    </tr>\n",
       "    <tr>\n",
       "      <th>Urban Standards</th>\n",
       "      <td>{390, 527, 144, 784, 662, 664, 809, 826, 827, ...</td>\n",
       "    </tr>\n",
       "  </tbody>\n",
       "</table>\n",
       "</div>"
      ],
      "text/plain": [
       "                                                                                               RTP_ID\n",
       "Category                                                                                             \n",
       "Added Freeway Lanes or Major Interchange Improv...                                         {312, 638}\n",
       "Arterial Capacity Improvements                                                        {899, 333, 830}\n",
       "New Arterial Link or Interchange                                                                {512}\n",
       "New Collectors                                      {705, 706, 897, 709, 777, 651, 715, 429, 783, ...\n",
       "Study                                                             {835, 838, 555, 815, 211, 824, 831}\n",
       "Urban Standards                                     {390, 527, 144, 784, 662, 664, 809, 826, 827, ..."
      ]
     },
     "execution_count": 42,
     "metadata": {},
     "output_type": "execute_result"
    }
   ],
   "source": [
    "df1"
   ]
  },
  {
   "cell_type": "code",
   "execution_count": 4,
   "id": "259b3aa2",
   "metadata": {},
   "outputs": [
    {
     "data": {
      "text/html": [
       "<div>\n",
       "<style scoped>\n",
       "    .dataframe tbody tr th:only-of-type {\n",
       "        vertical-align: middle;\n",
       "    }\n",
       "\n",
       "    .dataframe tbody tr th {\n",
       "        vertical-align: top;\n",
       "    }\n",
       "\n",
       "    .dataframe thead th {\n",
       "        text-align: right;\n",
       "    }\n",
       "</style>\n",
       "<table border=\"1\" class=\"dataframe\">\n",
       "  <thead>\n",
       "    <tr style=\"text-align: right;\">\n",
       "      <th></th>\n",
       "      <th>geometry</th>\n",
       "    </tr>\n",
       "    <tr>\n",
       "      <th>Category</th>\n",
       "      <th></th>\n",
       "    </tr>\n",
       "  </thead>\n",
       "  <tbody>\n",
       "    <tr>\n",
       "      <th>Added Freeway Lanes or Major Interchange Improvements</th>\n",
       "      <td>1</td>\n",
       "    </tr>\n",
       "    <tr>\n",
       "      <th>Arterial Capacity Improvements</th>\n",
       "      <td>1</td>\n",
       "    </tr>\n",
       "    <tr>\n",
       "      <th>New Collectors</th>\n",
       "      <td>1</td>\n",
       "    </tr>\n",
       "    <tr>\n",
       "      <th>Urban Standards</th>\n",
       "      <td>2</td>\n",
       "    </tr>\n",
       "  </tbody>\n",
       "</table>\n",
       "</div>"
      ],
      "text/plain": [
       "                                                    geometry\n",
       "Category                                                    \n",
       "Added Freeway Lanes or Major Interchange Improv...         1\n",
       "Arterial Capacity Improvements                             1\n",
       "New Collectors                                             1\n",
       "Urban Standards                                            2"
      ]
     },
     "execution_count": 4,
     "metadata": {},
     "output_type": "execute_result"
    }
   ],
   "source": [
    "# USFWS Critical Habitats intersect with roadway lines\n",
    "aaf.RTP_counted_by_intersection(folder='SensitiveHabitats', file='CRITHAB_CLMPO.shp')"
   ]
  },
  {
   "cell_type": "code",
   "execution_count": 41,
   "id": "1fcb67ba",
   "metadata": {},
   "outputs": [],
   "source": [
    "df2 = aaf.RTP_counted_by_intersection(folder='SensitiveHabitats', file='CRITHAB_CLMPO.shp', returnID = True)"
   ]
  },
  {
   "cell_type": "code",
   "execution_count": 43,
   "id": "a103d922",
   "metadata": {},
   "outputs": [
    {
     "data": {
      "text/html": [
       "<div>\n",
       "<style scoped>\n",
       "    .dataframe tbody tr th:only-of-type {\n",
       "        vertical-align: middle;\n",
       "    }\n",
       "\n",
       "    .dataframe tbody tr th {\n",
       "        vertical-align: top;\n",
       "    }\n",
       "\n",
       "    .dataframe thead th {\n",
       "        text-align: right;\n",
       "    }\n",
       "</style>\n",
       "<table border=\"1\" class=\"dataframe\">\n",
       "  <thead>\n",
       "    <tr style=\"text-align: right;\">\n",
       "      <th></th>\n",
       "      <th>RTP_ID</th>\n",
       "    </tr>\n",
       "    <tr>\n",
       "      <th>Category</th>\n",
       "      <th></th>\n",
       "    </tr>\n",
       "  </thead>\n",
       "  <tbody>\n",
       "    <tr>\n",
       "      <th>Added Freeway Lanes or Major Interchange Improvements</th>\n",
       "      <td>{312}</td>\n",
       "    </tr>\n",
       "    <tr>\n",
       "      <th>Arterial Capacity Improvements</th>\n",
       "      <td>{333}</td>\n",
       "    </tr>\n",
       "    <tr>\n",
       "      <th>New Collectors</th>\n",
       "      <td>{435}</td>\n",
       "    </tr>\n",
       "    <tr>\n",
       "      <th>Urban Standards</th>\n",
       "      <td>{481, 315}</td>\n",
       "    </tr>\n",
       "  </tbody>\n",
       "</table>\n",
       "</div>"
      ],
      "text/plain": [
       "                                                        RTP_ID\n",
       "Category                                                      \n",
       "Added Freeway Lanes or Major Interchange Improv...       {312}\n",
       "Arterial Capacity Improvements                           {333}\n",
       "New Collectors                                           {435}\n",
       "Urban Standards                                     {481, 315}"
      ]
     },
     "execution_count": 43,
     "metadata": {},
     "output_type": "execute_result"
    }
   ],
   "source": [
    "df2"
   ]
  },
  {
   "cell_type": "code",
   "execution_count": 45,
   "id": "7d9658ee",
   "metadata": {},
   "outputs": [
    {
     "data": {
      "text/plain": [
       "15"
      ]
     },
     "execution_count": 45,
     "metadata": {},
     "output_type": "execute_result"
    }
   ],
   "source": [
    "len(unique(list(df1.loc['New Collectors', 'RTP_ID'])+list(df2.loc['New Collectors', 'RTP_ID'])))"
   ]
  },
  {
   "cell_type": "code",
   "execution_count": 46,
   "id": "0cc17b42",
   "metadata": {},
   "outputs": [
    {
     "data": {
      "text/plain": [
       "21"
      ]
     },
     "execution_count": 46,
     "metadata": {},
     "output_type": "execute_result"
    }
   ],
   "source": [
    "len(unique(list(df1.loc['Urban Standards', 'RTP_ID'])+list(df2.loc['Urban Standards', 'RTP_ID'])))"
   ]
  },
  {
   "cell_type": "code",
   "execution_count": 19,
   "id": "ff65e0fa",
   "metadata": {},
   "outputs": [
    {
     "data": {
      "text/html": [
       "<div>\n",
       "<style scoped>\n",
       "    .dataframe tbody tr th:only-of-type {\n",
       "        vertical-align: middle;\n",
       "    }\n",
       "\n",
       "    .dataframe tbody tr th {\n",
       "        vertical-align: top;\n",
       "    }\n",
       "\n",
       "    .dataframe thead th {\n",
       "        text-align: right;\n",
       "    }\n",
       "</style>\n",
       "<table border=\"1\" class=\"dataframe\">\n",
       "  <thead>\n",
       "    <tr style=\"text-align: right;\">\n",
       "      <th></th>\n",
       "      <th>geometry</th>\n",
       "    </tr>\n",
       "    <tr>\n",
       "      <th>Category</th>\n",
       "      <th></th>\n",
       "    </tr>\n",
       "  </thead>\n",
       "  <tbody>\n",
       "    <tr>\n",
       "      <th>Added Freeway Lanes or Major Interchange Improvements</th>\n",
       "      <td>2</td>\n",
       "    </tr>\n",
       "    <tr>\n",
       "      <th>Arterial Capacity Improvements</th>\n",
       "      <td>2</td>\n",
       "    </tr>\n",
       "    <tr>\n",
       "      <th>New Arterial Link or Interchange</th>\n",
       "      <td>1</td>\n",
       "    </tr>\n",
       "    <tr>\n",
       "      <th>New Collectors</th>\n",
       "      <td>2</td>\n",
       "    </tr>\n",
       "    <tr>\n",
       "      <th>Study</th>\n",
       "      <td>6</td>\n",
       "    </tr>\n",
       "    <tr>\n",
       "      <th>Urban Standards</th>\n",
       "      <td>2</td>\n",
       "    </tr>\n",
       "  </tbody>\n",
       "</table>\n",
       "</div>"
      ],
      "text/plain": [
       "                                                    geometry\n",
       "Category                                                    \n",
       "Added Freeway Lanes or Major Interchange Improv...         2\n",
       "Arterial Capacity Improvements                             2\n",
       "New Arterial Link or Interchange                           1\n",
       "New Collectors                                             2\n",
       "Study                                                      6\n",
       "Urban Standards                                            2"
      ]
     },
     "execution_count": 19,
     "metadata": {},
     "output_type": "execute_result"
    }
   ],
   "source": [
    "# floodway intersects with roadway lines\n",
    "aaf.RTP_counted_by_intersection(folder='NaturalHazards', file='FloodwayCLMPO.shp')"
   ]
  },
  {
   "cell_type": "code",
   "execution_count": 50,
   "id": "7bcca849",
   "metadata": {},
   "outputs": [
    {
     "data": {
      "text/html": [
       "<div>\n",
       "<style scoped>\n",
       "    .dataframe tbody tr th:only-of-type {\n",
       "        vertical-align: middle;\n",
       "    }\n",
       "\n",
       "    .dataframe tbody tr th {\n",
       "        vertical-align: top;\n",
       "    }\n",
       "\n",
       "    .dataframe thead th {\n",
       "        text-align: right;\n",
       "    }\n",
       "</style>\n",
       "<table border=\"1\" class=\"dataframe\">\n",
       "  <thead>\n",
       "    <tr style=\"text-align: right;\">\n",
       "      <th></th>\n",
       "      <th>RTP_ID</th>\n",
       "    </tr>\n",
       "    <tr>\n",
       "      <th>Category</th>\n",
       "      <th></th>\n",
       "    </tr>\n",
       "  </thead>\n",
       "  <tbody>\n",
       "    <tr>\n",
       "      <th>Added Freeway Lanes or Major Interchange Improvements</th>\n",
       "      <td>{312, 638}</td>\n",
       "    </tr>\n",
       "    <tr>\n",
       "      <th>Arterial Capacity Improvements</th>\n",
       "      <td>{899, 830}</td>\n",
       "    </tr>\n",
       "    <tr>\n",
       "      <th>New Arterial Link or Interchange</th>\n",
       "      <td>{512}</td>\n",
       "    </tr>\n",
       "    <tr>\n",
       "      <th>New Collectors</th>\n",
       "      <td>{897, 756}</td>\n",
       "    </tr>\n",
       "    <tr>\n",
       "      <th>Study</th>\n",
       "      <td>{835, 838, 555, 815, 210, 831}</td>\n",
       "    </tr>\n",
       "    <tr>\n",
       "      <th>Urban Standards</th>\n",
       "      <td>{826, 98}</td>\n",
       "    </tr>\n",
       "  </tbody>\n",
       "</table>\n",
       "</div>"
      ],
      "text/plain": [
       "                                                                            RTP_ID\n",
       "Category                                                                          \n",
       "Added Freeway Lanes or Major Interchange Improv...                      {312, 638}\n",
       "Arterial Capacity Improvements                                          {899, 830}\n",
       "New Arterial Link or Interchange                                             {512}\n",
       "New Collectors                                                          {897, 756}\n",
       "Study                                               {835, 838, 555, 815, 210, 831}\n",
       "Urban Standards                                                          {826, 98}"
      ]
     },
     "execution_count": 50,
     "metadata": {},
     "output_type": "execute_result"
    }
   ],
   "source": [
    "aaf.RTP_counted_by_intersection(folder='NaturalHazards', file='FloodwayCLMPO.shp', returnID=True)"
   ]
  },
  {
   "cell_type": "code",
   "execution_count": 28,
   "id": "758b42ad",
   "metadata": {},
   "outputs": [
    {
     "data": {
      "text/html": [
       "<div>\n",
       "<style scoped>\n",
       "    .dataframe tbody tr th:only-of-type {\n",
       "        vertical-align: middle;\n",
       "    }\n",
       "\n",
       "    .dataframe tbody tr th {\n",
       "        vertical-align: top;\n",
       "    }\n",
       "\n",
       "    .dataframe thead th {\n",
       "        text-align: right;\n",
       "    }\n",
       "</style>\n",
       "<table border=\"1\" class=\"dataframe\">\n",
       "  <thead>\n",
       "    <tr style=\"text-align: right;\">\n",
       "      <th></th>\n",
       "      <th>geometry</th>\n",
       "    </tr>\n",
       "    <tr>\n",
       "      <th>Category</th>\n",
       "      <th></th>\n",
       "    </tr>\n",
       "  </thead>\n",
       "  <tbody>\n",
       "    <tr>\n",
       "      <th>Added Freeway Lanes or Major Interchange Improvements</th>\n",
       "      <td>2</td>\n",
       "    </tr>\n",
       "    <tr>\n",
       "      <th>Arterial Capacity Improvements</th>\n",
       "      <td>7</td>\n",
       "    </tr>\n",
       "    <tr>\n",
       "      <th>New Arterial Link or Interchange</th>\n",
       "      <td>1</td>\n",
       "    </tr>\n",
       "    <tr>\n",
       "      <th>New Collectors</th>\n",
       "      <td>14</td>\n",
       "    </tr>\n",
       "    <tr>\n",
       "      <th>Study</th>\n",
       "      <td>9</td>\n",
       "    </tr>\n",
       "    <tr>\n",
       "      <th>Transit Oriented Development Implementation</th>\n",
       "      <td>1</td>\n",
       "    </tr>\n",
       "    <tr>\n",
       "      <th>Urban Standards</th>\n",
       "      <td>20</td>\n",
       "    </tr>\n",
       "  </tbody>\n",
       "</table>\n",
       "</div>"
      ],
      "text/plain": [
       "                                                    geometry\n",
       "Category                                                    \n",
       "Added Freeway Lanes or Major Interchange Improv...         2\n",
       "Arterial Capacity Improvements                             7\n",
       "New Arterial Link or Interchange                           1\n",
       "New Collectors                                            14\n",
       "Study                                                      9\n",
       "Transit Oriented Development Implementation                1\n",
       "Urban Standards                                           20"
      ]
     },
     "execution_count": 28,
     "metadata": {},
     "output_type": "execute_result"
    }
   ],
   "source": [
    "# seismic hazards intersect with roadway lines\n",
    "aaf.RTP_counted_by_intersection(folder='NaturalHazards', file='EarthquakeLayer.shp')"
   ]
  },
  {
   "cell_type": "code",
   "execution_count": 52,
   "id": "7f6050d9",
   "metadata": {},
   "outputs": [],
   "source": [
    "df = aaf.RTP_counted_by_intersection(folder='NaturalHazards', file='EarthquakeLayer.shp', returnID=True)"
   ]
  },
  {
   "cell_type": "code",
   "execution_count": 53,
   "id": "fe7b2b15",
   "metadata": {},
   "outputs": [
    {
     "data": {
      "text/html": [
       "<div>\n",
       "<style scoped>\n",
       "    .dataframe tbody tr th:only-of-type {\n",
       "        vertical-align: middle;\n",
       "    }\n",
       "\n",
       "    .dataframe tbody tr th {\n",
       "        vertical-align: top;\n",
       "    }\n",
       "\n",
       "    .dataframe thead th {\n",
       "        text-align: right;\n",
       "    }\n",
       "</style>\n",
       "<table border=\"1\" class=\"dataframe\">\n",
       "  <thead>\n",
       "    <tr style=\"text-align: right;\">\n",
       "      <th></th>\n",
       "      <th>RTP_ID</th>\n",
       "    </tr>\n",
       "    <tr>\n",
       "      <th>Category</th>\n",
       "      <th></th>\n",
       "    </tr>\n",
       "  </thead>\n",
       "  <tbody>\n",
       "    <tr>\n",
       "      <th>Added Freeway Lanes or Major Interchange Improvements</th>\n",
       "      <td>{312, 638}</td>\n",
       "    </tr>\n",
       "    <tr>\n",
       "      <th>Arterial Capacity Improvements</th>\n",
       "      <td>{704, 899, 713, 333, 789, 602, 830}</td>\n",
       "    </tr>\n",
       "    <tr>\n",
       "      <th>New Arterial Link or Interchange</th>\n",
       "      <td>{512}</td>\n",
       "    </tr>\n",
       "    <tr>\n",
       "      <th>New Collectors</th>\n",
       "      <td>{897, 706, 707, 651, 715, 429, 798, 81, 18, 43...</td>\n",
       "    </tr>\n",
       "    <tr>\n",
       "      <th>Study</th>\n",
       "      <td>{96, 835, 102, 838, 555, 815, 210, 211, 831}</td>\n",
       "    </tr>\n",
       "    <tr>\n",
       "      <th>Transit Oriented Development Implementation</th>\n",
       "      <td>{411}</td>\n",
       "    </tr>\n",
       "    <tr>\n",
       "      <th>Urban Standards</th>\n",
       "      <td>{6, 390, 527, 144, 662, 664, 925, 809, 554, 94...</td>\n",
       "    </tr>\n",
       "  </tbody>\n",
       "</table>\n",
       "</div>"
      ],
      "text/plain": [
       "                                                                                               RTP_ID\n",
       "Category                                                                                             \n",
       "Added Freeway Lanes or Major Interchange Improv...                                         {312, 638}\n",
       "Arterial Capacity Improvements                                    {704, 899, 713, 333, 789, 602, 830}\n",
       "New Arterial Link or Interchange                                                                {512}\n",
       "New Collectors                                      {897, 706, 707, 651, 715, 429, 798, 81, 18, 43...\n",
       "Study                                                    {96, 835, 102, 838, 555, 815, 210, 211, 831}\n",
       "Transit Oriented Development Implementation                                                     {411}\n",
       "Urban Standards                                     {6, 390, 527, 144, 662, 664, 925, 809, 554, 94..."
      ]
     },
     "execution_count": 53,
     "metadata": {},
     "output_type": "execute_result"
    }
   ],
   "source": [
    "df"
   ]
  },
  {
   "cell_type": "code",
   "execution_count": 54,
   "id": "bae80e98",
   "metadata": {},
   "outputs": [
    {
     "data": {
      "text/plain": [
       "{18, 22, 57, 81, 318, 429, 435, 651, 706, 707, 715, 756, 798, 897}"
      ]
     },
     "execution_count": 54,
     "metadata": {},
     "output_type": "execute_result"
    }
   ],
   "source": [
    "df.loc['New Collectors', 'RTP_ID']"
   ]
  },
  {
   "cell_type": "code",
   "execution_count": 56,
   "id": "5def7bf0",
   "metadata": {
    "scrolled": true
   },
   "outputs": [
    {
     "data": {
      "text/plain": [
       "9"
      ]
     },
     "execution_count": 56,
     "metadata": {},
     "output_type": "execute_result"
    }
   ],
   "source": [
    "len(unique([835, 838, 555, 815, 210, 831] + list(df.loc['Study', 'RTP_ID'])))"
   ]
  },
  {
   "cell_type": "code",
   "execution_count": 57,
   "id": "e0da1353",
   "metadata": {},
   "outputs": [
    {
     "data": {
      "text/plain": [
       "{6,\n",
       " 54,\n",
       " 98,\n",
       " 144,\n",
       " 315,\n",
       " 343,\n",
       " 382,\n",
       " 390,\n",
       " 481,\n",
       " 527,\n",
       " 554,\n",
       " 662,\n",
       " 664,\n",
       " 747,\n",
       " 809,\n",
       " 826,\n",
       " 827,\n",
       " 828,\n",
       " 925,\n",
       " 945}"
      ]
     },
     "execution_count": 57,
     "metadata": {},
     "output_type": "execute_result"
    }
   ],
   "source": [
    "df.loc['Urban Standards', 'RTP_ID']"
   ]
  },
  {
   "cell_type": "code",
   "execution_count": 36,
   "id": "f3aea423",
   "metadata": {},
   "outputs": [
    {
     "data": {
      "text/html": [
       "<div>\n",
       "<style scoped>\n",
       "    .dataframe tbody tr th:only-of-type {\n",
       "        vertical-align: middle;\n",
       "    }\n",
       "\n",
       "    .dataframe tbody tr th {\n",
       "        vertical-align: top;\n",
       "    }\n",
       "\n",
       "    .dataframe thead th {\n",
       "        text-align: right;\n",
       "    }\n",
       "</style>\n",
       "<table border=\"1\" class=\"dataframe\">\n",
       "  <thead>\n",
       "    <tr style=\"text-align: right;\">\n",
       "      <th></th>\n",
       "      <th>geometry</th>\n",
       "    </tr>\n",
       "    <tr>\n",
       "      <th>Category</th>\n",
       "      <th></th>\n",
       "    </tr>\n",
       "  </thead>\n",
       "  <tbody>\n",
       "    <tr>\n",
       "      <th>Added Freeway Lanes or Major Interchange Improvements</th>\n",
       "      <td>2</td>\n",
       "    </tr>\n",
       "    <tr>\n",
       "      <th>Arterial Capacity Improvements</th>\n",
       "      <td>9</td>\n",
       "    </tr>\n",
       "    <tr>\n",
       "      <th>New Arterial Link or Interchange</th>\n",
       "      <td>1</td>\n",
       "    </tr>\n",
       "    <tr>\n",
       "      <th>New Collectors</th>\n",
       "      <td>25</td>\n",
       "    </tr>\n",
       "    <tr>\n",
       "      <th>Study</th>\n",
       "      <td>14</td>\n",
       "    </tr>\n",
       "    <tr>\n",
       "      <th>Transit Oriented Development Implementation</th>\n",
       "      <td>1</td>\n",
       "    </tr>\n",
       "    <tr>\n",
       "      <th>Urban Standards</th>\n",
       "      <td>36</td>\n",
       "    </tr>\n",
       "  </tbody>\n",
       "</table>\n",
       "</div>"
      ],
      "text/plain": [
       "                                                    geometry\n",
       "Category                                                    \n",
       "Added Freeway Lanes or Major Interchange Improv...         2\n",
       "Arterial Capacity Improvements                             9\n",
       "New Arterial Link or Interchange                           1\n",
       "New Collectors                                            25\n",
       "Study                                                     14\n",
       "Transit Oriented Development Implementation                1\n",
       "Urban Standards                                           36"
      ]
     },
     "execution_count": 36,
     "metadata": {},
     "output_type": "execute_result"
    }
   ],
   "source": [
    "# AirQualityMaintenanceArea intersects with roadway lines\n",
    "aaf.RTP_counted_by_intersection(folder='AirQuality', file='AirQualityMaintenanceArea.shp')"
   ]
  },
  {
   "cell_type": "code",
   "execution_count": 44,
   "id": "545cc19a",
   "metadata": {},
   "outputs": [
    {
     "data": {
      "text/html": [
       "<div>\n",
       "<style scoped>\n",
       "    .dataframe tbody tr th:only-of-type {\n",
       "        vertical-align: middle;\n",
       "    }\n",
       "\n",
       "    .dataframe tbody tr th {\n",
       "        vertical-align: top;\n",
       "    }\n",
       "\n",
       "    .dataframe thead th {\n",
       "        text-align: right;\n",
       "    }\n",
       "</style>\n",
       "<table border=\"1\" class=\"dataframe\">\n",
       "  <thead>\n",
       "    <tr style=\"text-align: right;\">\n",
       "      <th></th>\n",
       "      <th>geometry</th>\n",
       "    </tr>\n",
       "    <tr>\n",
       "      <th>Category</th>\n",
       "      <th></th>\n",
       "    </tr>\n",
       "  </thead>\n",
       "  <tbody>\n",
       "    <tr>\n",
       "      <th>Added Freeway Lanes or Major Interchange Improvements</th>\n",
       "      <td>1</td>\n",
       "    </tr>\n",
       "    <tr>\n",
       "      <th>Arterial Capacity Improvements</th>\n",
       "      <td>2</td>\n",
       "    </tr>\n",
       "    <tr>\n",
       "      <th>New Collectors</th>\n",
       "      <td>5</td>\n",
       "    </tr>\n",
       "    <tr>\n",
       "      <th>Study</th>\n",
       "      <td>12</td>\n",
       "    </tr>\n",
       "    <tr>\n",
       "      <th>Transit Oriented Development Implementation</th>\n",
       "      <td>1</td>\n",
       "    </tr>\n",
       "    <tr>\n",
       "      <th>Urban Standards</th>\n",
       "      <td>11</td>\n",
       "    </tr>\n",
       "  </tbody>\n",
       "</table>\n",
       "</div>"
      ],
      "text/plain": [
       "                                                    geometry\n",
       "Category                                                    \n",
       "Added Freeway Lanes or Major Interchange Improv...         1\n",
       "Arterial Capacity Improvements                             2\n",
       "New Collectors                                             5\n",
       "Study                                                     12\n",
       "Transit Oriented Development Implementation                1\n",
       "Urban Standards                                           11"
      ]
     },
     "execution_count": 44,
     "metadata": {},
     "output_type": "execute_result"
    }
   ],
   "source": [
    "# Equity Areas intersect with roadway lines\n",
    "aaf.RTP_counted_by_intersection(folder='EJ', file='equity_area.shp')"
   ]
  },
  {
   "cell_type": "code",
   "execution_count": 52,
   "id": "dc7b48ef",
   "metadata": {},
   "outputs": [
    {
     "data": {
      "text/html": [
       "<div>\n",
       "<style scoped>\n",
       "    .dataframe tbody tr th:only-of-type {\n",
       "        vertical-align: middle;\n",
       "    }\n",
       "\n",
       "    .dataframe tbody tr th {\n",
       "        vertical-align: top;\n",
       "    }\n",
       "\n",
       "    .dataframe thead th {\n",
       "        text-align: right;\n",
       "    }\n",
       "</style>\n",
       "<table border=\"1\" class=\"dataframe\">\n",
       "  <thead>\n",
       "    <tr style=\"text-align: right;\">\n",
       "      <th></th>\n",
       "      <th>geometry</th>\n",
       "    </tr>\n",
       "    <tr>\n",
       "      <th>Category</th>\n",
       "      <th></th>\n",
       "    </tr>\n",
       "  </thead>\n",
       "  <tbody>\n",
       "    <tr>\n",
       "      <th>Added Freeway Lanes or Major Interchange Improvements</th>\n",
       "      <td>2</td>\n",
       "    </tr>\n",
       "    <tr>\n",
       "      <th>Arterial Capacity Improvements</th>\n",
       "      <td>9</td>\n",
       "    </tr>\n",
       "    <tr>\n",
       "      <th>New Arterial Link or Interchange</th>\n",
       "      <td>1</td>\n",
       "    </tr>\n",
       "    <tr>\n",
       "      <th>New Collectors</th>\n",
       "      <td>25</td>\n",
       "    </tr>\n",
       "    <tr>\n",
       "      <th>Study</th>\n",
       "      <td>14</td>\n",
       "    </tr>\n",
       "    <tr>\n",
       "      <th>Transit Oriented Development Implementation</th>\n",
       "      <td>1</td>\n",
       "    </tr>\n",
       "    <tr>\n",
       "      <th>Urban Standards</th>\n",
       "      <td>36</td>\n",
       "    </tr>\n",
       "  </tbody>\n",
       "</table>\n",
       "</div>"
      ],
      "text/plain": [
       "                                                    geometry\n",
       "Category                                                    \n",
       "Added Freeway Lanes or Major Interchange Improv...         2\n",
       "Arterial Capacity Improvements                             9\n",
       "New Arterial Link or Interchange                           1\n",
       "New Collectors                                            25\n",
       "Study                                                     14\n",
       "Transit Oriented Development Implementation                1\n",
       "Urban Standards                                           36"
      ]
     },
     "execution_count": 52,
     "metadata": {},
     "output_type": "execute_result"
    }
   ],
   "source": [
    "#MPO area intersects with roadway lines\n",
    "aaf.RTP_counted_by_intersection(folder='RTP', file='MPO_Boundary.shp')"
   ]
  },
  {
   "cell_type": "code",
   "execution_count": 3,
   "id": "9ab867d9",
   "metadata": {},
   "outputs": [
    {
     "data": {
      "text/html": [
       "<div>\n",
       "<style scoped>\n",
       "    .dataframe tbody tr th:only-of-type {\n",
       "        vertical-align: middle;\n",
       "    }\n",
       "\n",
       "    .dataframe tbody tr th {\n",
       "        vertical-align: top;\n",
       "    }\n",
       "\n",
       "    .dataframe thead th {\n",
       "        text-align: right;\n",
       "    }\n",
       "</style>\n",
       "<table border=\"1\" class=\"dataframe\">\n",
       "  <thead>\n",
       "    <tr style=\"text-align: right;\">\n",
       "      <th></th>\n",
       "      <th>geometry</th>\n",
       "    </tr>\n",
       "    <tr>\n",
       "      <th>Category</th>\n",
       "      <th></th>\n",
       "    </tr>\n",
       "  </thead>\n",
       "  <tbody>\n",
       "  </tbody>\n",
       "</table>\n",
       "</div>"
      ],
      "text/plain": [
       "Empty DataFrame\n",
       "Columns: [geometry]\n",
       "Index: []"
      ]
     },
     "execution_count": 3,
     "metadata": {},
     "output_type": "execute_result"
    }
   ],
   "source": [
    "# DEQ303dListedStreams intersect with roadway points\n",
    "aaf.RTP_counted_by_intersection(shapefile='Roadway_points', folder='WaterQuality', file='DEQ303dListedStreams.shp')"
   ]
  },
  {
   "cell_type": "code",
   "execution_count": 12,
   "id": "0e99205a",
   "metadata": {},
   "outputs": [
    {
     "data": {
      "text/html": [
       "<div>\n",
       "<style scoped>\n",
       "    .dataframe tbody tr th:only-of-type {\n",
       "        vertical-align: middle;\n",
       "    }\n",
       "\n",
       "    .dataframe tbody tr th {\n",
       "        vertical-align: top;\n",
       "    }\n",
       "\n",
       "    .dataframe thead th {\n",
       "        text-align: right;\n",
       "    }\n",
       "</style>\n",
       "<table border=\"1\" class=\"dataframe\">\n",
       "  <thead>\n",
       "    <tr style=\"text-align: right;\">\n",
       "      <th></th>\n",
       "      <th>geometry</th>\n",
       "    </tr>\n",
       "    <tr>\n",
       "      <th>Category</th>\n",
       "      <th></th>\n",
       "    </tr>\n",
       "  </thead>\n",
       "  <tbody>\n",
       "  </tbody>\n",
       "</table>\n",
       "</div>"
      ],
      "text/plain": [
       "Empty DataFrame\n",
       "Columns: [geometry]\n",
       "Index: []"
      ]
     },
     "execution_count": 12,
     "metadata": {},
     "output_type": "execute_result"
    }
   ],
   "source": [
    "# Navigable Rivers intersect with roadway points\n",
    "aaf.RTP_counted_by_intersection(shapefile='Roadway_points', folder='WaterQuality', file='NavigableRivers.shp')"
   ]
  },
  {
   "cell_type": "code",
   "execution_count": 24,
   "id": "6649ca5f",
   "metadata": {
    "scrolled": true
   },
   "outputs": [
    {
     "data": {
      "text/html": [
       "<div>\n",
       "<style scoped>\n",
       "    .dataframe tbody tr th:only-of-type {\n",
       "        vertical-align: middle;\n",
       "    }\n",
       "\n",
       "    .dataframe tbody tr th {\n",
       "        vertical-align: top;\n",
       "    }\n",
       "\n",
       "    .dataframe thead th {\n",
       "        text-align: right;\n",
       "    }\n",
       "</style>\n",
       "<table border=\"1\" class=\"dataframe\">\n",
       "  <thead>\n",
       "    <tr style=\"text-align: right;\">\n",
       "      <th></th>\n",
       "      <th>geometry</th>\n",
       "    </tr>\n",
       "    <tr>\n",
       "      <th>Category</th>\n",
       "      <th></th>\n",
       "    </tr>\n",
       "  </thead>\n",
       "  <tbody>\n",
       "    <tr>\n",
       "      <th>Arterial Capacity Improvements</th>\n",
       "      <td>2</td>\n",
       "    </tr>\n",
       "  </tbody>\n",
       "</table>\n",
       "</div>"
      ],
      "text/plain": [
       "                                geometry\n",
       "Category                                \n",
       "Arterial Capacity Improvements         2"
      ]
     },
     "execution_count": 24,
     "metadata": {},
     "output_type": "execute_result"
    }
   ],
   "source": [
    "# wetlands intersect with roadway points\n",
    "aaf.RTP_counted_by_intersection(shapefile='Roadway_points', folder='WaterQuality', file='wetlandsCLMPO.shp')"
   ]
  },
  {
   "cell_type": "code",
   "execution_count": 3,
   "id": "5c4445af",
   "metadata": {},
   "outputs": [
    {
     "data": {
      "text/html": [
       "<div>\n",
       "<style scoped>\n",
       "    .dataframe tbody tr th:only-of-type {\n",
       "        vertical-align: middle;\n",
       "    }\n",
       "\n",
       "    .dataframe tbody tr th {\n",
       "        vertical-align: top;\n",
       "    }\n",
       "\n",
       "    .dataframe thead th {\n",
       "        text-align: right;\n",
       "    }\n",
       "</style>\n",
       "<table border=\"1\" class=\"dataframe\">\n",
       "  <thead>\n",
       "    <tr style=\"text-align: right;\">\n",
       "      <th></th>\n",
       "      <th>geometry</th>\n",
       "    </tr>\n",
       "    <tr>\n",
       "      <th>Category</th>\n",
       "      <th></th>\n",
       "    </tr>\n",
       "  </thead>\n",
       "  <tbody>\n",
       "    <tr>\n",
       "      <th>Arterial Capacity Improvements</th>\n",
       "      <td>3</td>\n",
       "    </tr>\n",
       "  </tbody>\n",
       "</table>\n",
       "</div>"
      ],
      "text/plain": [
       "                                geometry\n",
       "Category                                \n",
       "Arterial Capacity Improvements         3"
      ]
     },
     "execution_count": 3,
     "metadata": {},
     "output_type": "execute_result"
    }
   ],
   "source": [
    "# Conservation Opportunity Areas intersect with roadway points\n",
    "aaf.RTP_counted_by_intersection(shapefile='Roadway_points', folder='SensitiveHabitats', file='ODFW_COAs_CLMPO.shp')"
   ]
  },
  {
   "cell_type": "code",
   "execution_count": 5,
   "id": "283e7666",
   "metadata": {},
   "outputs": [
    {
     "data": {
      "text/html": [
       "<div>\n",
       "<style scoped>\n",
       "    .dataframe tbody tr th:only-of-type {\n",
       "        vertical-align: middle;\n",
       "    }\n",
       "\n",
       "    .dataframe tbody tr th {\n",
       "        vertical-align: top;\n",
       "    }\n",
       "\n",
       "    .dataframe thead th {\n",
       "        text-align: right;\n",
       "    }\n",
       "</style>\n",
       "<table border=\"1\" class=\"dataframe\">\n",
       "  <thead>\n",
       "    <tr style=\"text-align: right;\">\n",
       "      <th></th>\n",
       "      <th>geometry</th>\n",
       "    </tr>\n",
       "    <tr>\n",
       "      <th>Category</th>\n",
       "      <th></th>\n",
       "    </tr>\n",
       "  </thead>\n",
       "  <tbody>\n",
       "  </tbody>\n",
       "</table>\n",
       "</div>"
      ],
      "text/plain": [
       "Empty DataFrame\n",
       "Columns: [geometry]\n",
       "Index: []"
      ]
     },
     "execution_count": 5,
     "metadata": {},
     "output_type": "execute_result"
    }
   ],
   "source": [
    "# USFWS Critical Habitats intersect with roadway points\n",
    "aaf.RTP_counted_by_intersection(shapefile='Roadway_points', folder='SensitiveHabitats', file='CRITHAB_CLMPO.shp')"
   ]
  },
  {
   "cell_type": "code",
   "execution_count": 21,
   "id": "1ba436b7",
   "metadata": {},
   "outputs": [
    {
     "data": {
      "text/html": [
       "<div>\n",
       "<style scoped>\n",
       "    .dataframe tbody tr th:only-of-type {\n",
       "        vertical-align: middle;\n",
       "    }\n",
       "\n",
       "    .dataframe tbody tr th {\n",
       "        vertical-align: top;\n",
       "    }\n",
       "\n",
       "    .dataframe thead th {\n",
       "        text-align: right;\n",
       "    }\n",
       "</style>\n",
       "<table border=\"1\" class=\"dataframe\">\n",
       "  <thead>\n",
       "    <tr style=\"text-align: right;\">\n",
       "      <th></th>\n",
       "      <th>geometry</th>\n",
       "    </tr>\n",
       "    <tr>\n",
       "      <th>Category</th>\n",
       "      <th></th>\n",
       "    </tr>\n",
       "  </thead>\n",
       "  <tbody>\n",
       "  </tbody>\n",
       "</table>\n",
       "</div>"
      ],
      "text/plain": [
       "Empty DataFrame\n",
       "Columns: [geometry]\n",
       "Index: []"
      ]
     },
     "execution_count": 21,
     "metadata": {},
     "output_type": "execute_result"
    }
   ],
   "source": [
    "# floodway intersects with roadway points\n",
    "aaf.RTP_counted_by_intersection(shapefile='Roadway_points', folder='NaturalHazards', file='FloodwayCLMPO.shp')"
   ]
  },
  {
   "cell_type": "code",
   "execution_count": 29,
   "id": "e45430ac",
   "metadata": {},
   "outputs": [
    {
     "data": {
      "text/html": [
       "<div>\n",
       "<style scoped>\n",
       "    .dataframe tbody tr th:only-of-type {\n",
       "        vertical-align: middle;\n",
       "    }\n",
       "\n",
       "    .dataframe tbody tr th {\n",
       "        vertical-align: top;\n",
       "    }\n",
       "\n",
       "    .dataframe thead th {\n",
       "        text-align: right;\n",
       "    }\n",
       "</style>\n",
       "<table border=\"1\" class=\"dataframe\">\n",
       "  <thead>\n",
       "    <tr style=\"text-align: right;\">\n",
       "      <th></th>\n",
       "      <th>geometry</th>\n",
       "    </tr>\n",
       "    <tr>\n",
       "      <th>Category</th>\n",
       "      <th></th>\n",
       "    </tr>\n",
       "  </thead>\n",
       "  <tbody>\n",
       "    <tr>\n",
       "      <th>Arterial Capacity Improvements</th>\n",
       "      <td>2</td>\n",
       "    </tr>\n",
       "    <tr>\n",
       "      <th>Urban Standards</th>\n",
       "      <td>1</td>\n",
       "    </tr>\n",
       "  </tbody>\n",
       "</table>\n",
       "</div>"
      ],
      "text/plain": [
       "                                geometry\n",
       "Category                                \n",
       "Arterial Capacity Improvements         2\n",
       "Urban Standards                        1"
      ]
     },
     "execution_count": 29,
     "metadata": {},
     "output_type": "execute_result"
    }
   ],
   "source": [
    "# seismic hazards intersect with roadway points\n",
    "aaf.RTP_counted_by_intersection(shapefile='Roadway_points', folder='NaturalHazards', file='EarthquakeLayer.shp')"
   ]
  },
  {
   "cell_type": "code",
   "execution_count": 37,
   "id": "f663de09",
   "metadata": {},
   "outputs": [
    {
     "data": {
      "text/html": [
       "<div>\n",
       "<style scoped>\n",
       "    .dataframe tbody tr th:only-of-type {\n",
       "        vertical-align: middle;\n",
       "    }\n",
       "\n",
       "    .dataframe tbody tr th {\n",
       "        vertical-align: top;\n",
       "    }\n",
       "\n",
       "    .dataframe thead th {\n",
       "        text-align: right;\n",
       "    }\n",
       "</style>\n",
       "<table border=\"1\" class=\"dataframe\">\n",
       "  <thead>\n",
       "    <tr style=\"text-align: right;\">\n",
       "      <th></th>\n",
       "      <th>geometry</th>\n",
       "    </tr>\n",
       "    <tr>\n",
       "      <th>Category</th>\n",
       "      <th></th>\n",
       "    </tr>\n",
       "  </thead>\n",
       "  <tbody>\n",
       "    <tr>\n",
       "      <th>Added Freeway Lanes or Major Interchange Improvements</th>\n",
       "      <td>1</td>\n",
       "    </tr>\n",
       "    <tr>\n",
       "      <th>Arterial Capacity Improvements</th>\n",
       "      <td>13</td>\n",
       "    </tr>\n",
       "    <tr>\n",
       "      <th>New Collectors</th>\n",
       "      <td>1</td>\n",
       "    </tr>\n",
       "    <tr>\n",
       "      <th>Study</th>\n",
       "      <td>1</td>\n",
       "    </tr>\n",
       "    <tr>\n",
       "      <th>Urban Standards</th>\n",
       "      <td>1</td>\n",
       "    </tr>\n",
       "  </tbody>\n",
       "</table>\n",
       "</div>"
      ],
      "text/plain": [
       "                                                    geometry\n",
       "Category                                                    \n",
       "Added Freeway Lanes or Major Interchange Improv...         1\n",
       "Arterial Capacity Improvements                            13\n",
       "New Collectors                                             1\n",
       "Study                                                      1\n",
       "Urban Standards                                            1"
      ]
     },
     "execution_count": 37,
     "metadata": {},
     "output_type": "execute_result"
    }
   ],
   "source": [
    "# AirQualityMaintenanceArea intersects with roadway points\n",
    "aaf.RTP_counted_by_intersection(shapefile='Roadway_points', folder='AirQuality', file='AirQualityMaintenanceArea.shp')"
   ]
  },
  {
   "cell_type": "code",
   "execution_count": 45,
   "id": "6e6c7b8f",
   "metadata": {},
   "outputs": [
    {
     "data": {
      "text/html": [
       "<div>\n",
       "<style scoped>\n",
       "    .dataframe tbody tr th:only-of-type {\n",
       "        vertical-align: middle;\n",
       "    }\n",
       "\n",
       "    .dataframe tbody tr th {\n",
       "        vertical-align: top;\n",
       "    }\n",
       "\n",
       "    .dataframe thead th {\n",
       "        text-align: right;\n",
       "    }\n",
       "</style>\n",
       "<table border=\"1\" class=\"dataframe\">\n",
       "  <thead>\n",
       "    <tr style=\"text-align: right;\">\n",
       "      <th></th>\n",
       "      <th>geometry</th>\n",
       "    </tr>\n",
       "    <tr>\n",
       "      <th>Category</th>\n",
       "      <th></th>\n",
       "    </tr>\n",
       "  </thead>\n",
       "  <tbody>\n",
       "    <tr>\n",
       "      <th>Added Freeway Lanes or Major Interchange Improvements</th>\n",
       "      <td>1</td>\n",
       "    </tr>\n",
       "    <tr>\n",
       "      <th>Arterial Capacity Improvements</th>\n",
       "      <td>10</td>\n",
       "    </tr>\n",
       "    <tr>\n",
       "      <th>New Collectors</th>\n",
       "      <td>1</td>\n",
       "    </tr>\n",
       "    <tr>\n",
       "      <th>Study</th>\n",
       "      <td>1</td>\n",
       "    </tr>\n",
       "  </tbody>\n",
       "</table>\n",
       "</div>"
      ],
      "text/plain": [
       "                                                    geometry\n",
       "Category                                                    \n",
       "Added Freeway Lanes or Major Interchange Improv...         1\n",
       "Arterial Capacity Improvements                            10\n",
       "New Collectors                                             1\n",
       "Study                                                      1"
      ]
     },
     "execution_count": 45,
     "metadata": {},
     "output_type": "execute_result"
    }
   ],
   "source": [
    "# Equity Areas intersect with roadway points\n",
    "aaf.RTP_counted_by_intersection(shapefile='Roadway_points', folder='EJ', file='equity_area.shp')"
   ]
  },
  {
   "cell_type": "code",
   "execution_count": 53,
   "id": "ebaad4c0",
   "metadata": {},
   "outputs": [
    {
     "data": {
      "text/html": [
       "<div>\n",
       "<style scoped>\n",
       "    .dataframe tbody tr th:only-of-type {\n",
       "        vertical-align: middle;\n",
       "    }\n",
       "\n",
       "    .dataframe tbody tr th {\n",
       "        vertical-align: top;\n",
       "    }\n",
       "\n",
       "    .dataframe thead th {\n",
       "        text-align: right;\n",
       "    }\n",
       "</style>\n",
       "<table border=\"1\" class=\"dataframe\">\n",
       "  <thead>\n",
       "    <tr style=\"text-align: right;\">\n",
       "      <th></th>\n",
       "      <th>geometry</th>\n",
       "    </tr>\n",
       "    <tr>\n",
       "      <th>Category</th>\n",
       "      <th></th>\n",
       "    </tr>\n",
       "  </thead>\n",
       "  <tbody>\n",
       "    <tr>\n",
       "      <th>Added Freeway Lanes or Major Interchange Improvements</th>\n",
       "      <td>1</td>\n",
       "    </tr>\n",
       "    <tr>\n",
       "      <th>Arterial Capacity Improvements</th>\n",
       "      <td>13</td>\n",
       "    </tr>\n",
       "    <tr>\n",
       "      <th>New Collectors</th>\n",
       "      <td>1</td>\n",
       "    </tr>\n",
       "    <tr>\n",
       "      <th>Study</th>\n",
       "      <td>1</td>\n",
       "    </tr>\n",
       "    <tr>\n",
       "      <th>Urban Standards</th>\n",
       "      <td>1</td>\n",
       "    </tr>\n",
       "  </tbody>\n",
       "</table>\n",
       "</div>"
      ],
      "text/plain": [
       "                                                    geometry\n",
       "Category                                                    \n",
       "Added Freeway Lanes or Major Interchange Improv...         1\n",
       "Arterial Capacity Improvements                            13\n",
       "New Collectors                                             1\n",
       "Study                                                      1\n",
       "Urban Standards                                            1"
      ]
     },
     "execution_count": 53,
     "metadata": {},
     "output_type": "execute_result"
    }
   ],
   "source": [
    "#MPO area intersects with roadway points\n",
    "aaf.RTP_counted_by_intersection(shapefile='Roadway_points', folder='RTP', file='MPO_Boundary.shp')"
   ]
  },
  {
   "cell_type": "code",
   "execution_count": 4,
   "id": "ef5fb313",
   "metadata": {
    "scrolled": true
   },
   "outputs": [
    {
     "data": {
      "text/html": [
       "<div>\n",
       "<style scoped>\n",
       "    .dataframe tbody tr th:only-of-type {\n",
       "        vertical-align: middle;\n",
       "    }\n",
       "\n",
       "    .dataframe tbody tr th {\n",
       "        vertical-align: top;\n",
       "    }\n",
       "\n",
       "    .dataframe thead th {\n",
       "        text-align: right;\n",
       "    }\n",
       "</style>\n",
       "<table border=\"1\" class=\"dataframe\">\n",
       "  <thead>\n",
       "    <tr style=\"text-align: right;\">\n",
       "      <th></th>\n",
       "      <th>geometry</th>\n",
       "    </tr>\n",
       "    <tr>\n",
       "      <th>Category</th>\n",
       "      <th></th>\n",
       "    </tr>\n",
       "  </thead>\n",
       "  <tbody>\n",
       "    <tr>\n",
       "      <th>Multi-Use Paths Without Road Project</th>\n",
       "      <td>2</td>\n",
       "    </tr>\n",
       "    <tr>\n",
       "      <th>On-Street Lanes or Routes Without Road Project</th>\n",
       "      <td>2</td>\n",
       "    </tr>\n",
       "  </tbody>\n",
       "</table>\n",
       "</div>"
      ],
      "text/plain": [
       "                                                geometry\n",
       "Category                                                \n",
       "Multi-Use Paths Without Road Project                   2\n",
       "On-Street Lanes or Routes Without Road Project         2"
      ]
     },
     "execution_count": 4,
     "metadata": {},
     "output_type": "execute_result"
    }
   ],
   "source": [
    "# DEQ303dListedStreams intersect with bike/pedestrain lines\n",
    "aaf.RTP_counted_by_intersection(shapefile='BikePed', folder='WaterQuality', file='DEQ303dListedStreams.shp')"
   ]
  },
  {
   "cell_type": "code",
   "execution_count": 33,
   "id": "592ba070",
   "metadata": {},
   "outputs": [
    {
     "data": {
      "text/html": [
       "<div>\n",
       "<style scoped>\n",
       "    .dataframe tbody tr th:only-of-type {\n",
       "        vertical-align: middle;\n",
       "    }\n",
       "\n",
       "    .dataframe tbody tr th {\n",
       "        vertical-align: top;\n",
       "    }\n",
       "\n",
       "    .dataframe thead th {\n",
       "        text-align: right;\n",
       "    }\n",
       "</style>\n",
       "<table border=\"1\" class=\"dataframe\">\n",
       "  <thead>\n",
       "    <tr style=\"text-align: right;\">\n",
       "      <th></th>\n",
       "      <th>RTP_ID</th>\n",
       "    </tr>\n",
       "    <tr>\n",
       "      <th>Category</th>\n",
       "      <th></th>\n",
       "    </tr>\n",
       "  </thead>\n",
       "  <tbody>\n",
       "    <tr>\n",
       "      <th>Multi-Use Paths Without Road Project</th>\n",
       "      <td>{960, 804}</td>\n",
       "    </tr>\n",
       "    <tr>\n",
       "      <th>On-Street Lanes or Routes Without Road Project</th>\n",
       "      <td>{201, 175}</td>\n",
       "    </tr>\n",
       "  </tbody>\n",
       "</table>\n",
       "</div>"
      ],
      "text/plain": [
       "                                                    RTP_ID\n",
       "Category                                                  \n",
       "Multi-Use Paths Without Road Project            {960, 804}\n",
       "On-Street Lanes or Routes Without Road Project  {201, 175}"
      ]
     },
     "execution_count": 33,
     "metadata": {},
     "output_type": "execute_result"
    }
   ],
   "source": [
    "aaf.RTP_counted_by_intersection(shapefile='BikePed', folder='WaterQuality', file='DEQ303dListedStreams.shp', returnID=True)"
   ]
  },
  {
   "cell_type": "code",
   "execution_count": 32,
   "id": "1a6c03fc",
   "metadata": {},
   "outputs": [
    {
     "data": {
      "text/html": [
       "<div>\n",
       "<style scoped>\n",
       "    .dataframe tbody tr th:only-of-type {\n",
       "        vertical-align: middle;\n",
       "    }\n",
       "\n",
       "    .dataframe tbody tr th {\n",
       "        vertical-align: top;\n",
       "    }\n",
       "\n",
       "    .dataframe thead th {\n",
       "        text-align: right;\n",
       "    }\n",
       "</style>\n",
       "<table border=\"1\" class=\"dataframe\">\n",
       "  <thead>\n",
       "    <tr style=\"text-align: right;\">\n",
       "      <th></th>\n",
       "      <th>geometry</th>\n",
       "    </tr>\n",
       "    <tr>\n",
       "      <th>Category</th>\n",
       "      <th></th>\n",
       "    </tr>\n",
       "  </thead>\n",
       "  <tbody>\n",
       "    <tr>\n",
       "      <th>Multi-Use Paths Without Road Project</th>\n",
       "      <td>5</td>\n",
       "    </tr>\n",
       "    <tr>\n",
       "      <th>On-Street Lanes or Routes With Road Project</th>\n",
       "      <td>2</td>\n",
       "    </tr>\n",
       "    <tr>\n",
       "      <th>On-Street Lanes or Routes Without Road Project</th>\n",
       "      <td>4</td>\n",
       "    </tr>\n",
       "  </tbody>\n",
       "</table>\n",
       "</div>"
      ],
      "text/plain": [
       "                                                geometry\n",
       "Category                                                \n",
       "Multi-Use Paths Without Road Project                   5\n",
       "On-Street Lanes or Routes With Road Project            2\n",
       "On-Street Lanes or Routes Without Road Project         4"
      ]
     },
     "execution_count": 32,
     "metadata": {},
     "output_type": "execute_result"
    }
   ],
   "source": [
    "# Navigable Rivers intersect with bike/pedestrain lines\n",
    "aaf.RTP_counted_by_intersection(shapefile='BikePed', folder='WaterQuality', file='NavigableRivers.shp')"
   ]
  },
  {
   "cell_type": "code",
   "execution_count": 34,
   "id": "488d1e8c",
   "metadata": {},
   "outputs": [
    {
     "data": {
      "text/html": [
       "<div>\n",
       "<style scoped>\n",
       "    .dataframe tbody tr th:only-of-type {\n",
       "        vertical-align: middle;\n",
       "    }\n",
       "\n",
       "    .dataframe tbody tr th {\n",
       "        vertical-align: top;\n",
       "    }\n",
       "\n",
       "    .dataframe thead th {\n",
       "        text-align: right;\n",
       "    }\n",
       "</style>\n",
       "<table border=\"1\" class=\"dataframe\">\n",
       "  <thead>\n",
       "    <tr style=\"text-align: right;\">\n",
       "      <th></th>\n",
       "      <th>RTP_ID</th>\n",
       "    </tr>\n",
       "    <tr>\n",
       "      <th>Category</th>\n",
       "      <th></th>\n",
       "    </tr>\n",
       "  </thead>\n",
       "  <tbody>\n",
       "    <tr>\n",
       "      <th>Multi-Use Paths Without Road Project</th>\n",
       "      <td>{169, 753, 854, 122, 189}</td>\n",
       "    </tr>\n",
       "    <tr>\n",
       "      <th>On-Street Lanes or Routes With Road Project</th>\n",
       "      <td>{713, 861}</td>\n",
       "    </tr>\n",
       "    <tr>\n",
       "      <th>On-Street Lanes or Routes Without Road Project</th>\n",
       "      <td>{160, 187, 845, 518}</td>\n",
       "    </tr>\n",
       "  </tbody>\n",
       "</table>\n",
       "</div>"
      ],
      "text/plain": [
       "                                                                   RTP_ID\n",
       "Category                                                                 \n",
       "Multi-Use Paths Without Road Project            {169, 753, 854, 122, 189}\n",
       "On-Street Lanes or Routes With Road Project                    {713, 861}\n",
       "On-Street Lanes or Routes Without Road Project       {160, 187, 845, 518}"
      ]
     },
     "execution_count": 34,
     "metadata": {},
     "output_type": "execute_result"
    }
   ],
   "source": [
    "aaf.RTP_counted_by_intersection(shapefile='BikePed', folder='WaterQuality', file='NavigableRivers.shp', returnID=True)"
   ]
  },
  {
   "cell_type": "code",
   "execution_count": 25,
   "id": "6719c529",
   "metadata": {},
   "outputs": [
    {
     "data": {
      "text/html": [
       "<div>\n",
       "<style scoped>\n",
       "    .dataframe tbody tr th:only-of-type {\n",
       "        vertical-align: middle;\n",
       "    }\n",
       "\n",
       "    .dataframe tbody tr th {\n",
       "        vertical-align: top;\n",
       "    }\n",
       "\n",
       "    .dataframe thead th {\n",
       "        text-align: right;\n",
       "    }\n",
       "</style>\n",
       "<table border=\"1\" class=\"dataframe\">\n",
       "  <thead>\n",
       "    <tr style=\"text-align: right;\">\n",
       "      <th></th>\n",
       "      <th>geometry</th>\n",
       "    </tr>\n",
       "    <tr>\n",
       "      <th>Category</th>\n",
       "      <th></th>\n",
       "    </tr>\n",
       "  </thead>\n",
       "  <tbody>\n",
       "    <tr>\n",
       "      <th>Multi-Use Paths Without Road Project</th>\n",
       "      <td>19</td>\n",
       "    </tr>\n",
       "    <tr>\n",
       "      <th>On-Street Lanes or Routes With Road Project</th>\n",
       "      <td>8</td>\n",
       "    </tr>\n",
       "    <tr>\n",
       "      <th>On-Street Lanes or Routes Without Road Project</th>\n",
       "      <td>27</td>\n",
       "    </tr>\n",
       "  </tbody>\n",
       "</table>\n",
       "</div>"
      ],
      "text/plain": [
       "                                                geometry\n",
       "Category                                                \n",
       "Multi-Use Paths Without Road Project                  19\n",
       "On-Street Lanes or Routes With Road Project            8\n",
       "On-Street Lanes or Routes Without Road Project        27"
      ]
     },
     "execution_count": 25,
     "metadata": {},
     "output_type": "execute_result"
    }
   ],
   "source": [
    "# wetlands intersect with bike/pedestrain lines\n",
    "aaf.RTP_counted_by_intersection(shapefile='BikePed', folder='WaterQuality', file='wetlandsCLMPO.shp')"
   ]
  },
  {
   "cell_type": "code",
   "execution_count": 30,
   "id": "0cbad616",
   "metadata": {},
   "outputs": [],
   "source": [
    "df = aaf.RTP_counted_by_intersection(shapefile='BikePed', folder='WaterQuality', file='wetlandsCLMPO.shp', returnID=True)"
   ]
  },
  {
   "cell_type": "code",
   "execution_count": 35,
   "id": "419e32df",
   "metadata": {},
   "outputs": [
    {
     "data": {
      "text/plain": [
       "19"
      ]
     },
     "execution_count": 35,
     "metadata": {},
     "output_type": "execute_result"
    }
   ],
   "source": [
    "len(unique([960, 804, 169, 753, 854, 122, 189] + list(df.loc['Multi-Use Paths Without Road Project', 'RTP_ID'])))"
   ]
  },
  {
   "cell_type": "code",
   "execution_count": 36,
   "id": "8fa64da8",
   "metadata": {},
   "outputs": [
    {
     "data": {
      "text/plain": [
       "10"
      ]
     },
     "execution_count": 36,
     "metadata": {},
     "output_type": "execute_result"
    }
   ],
   "source": [
    "len(unique([201, 175, 713, 861]+list(df.loc['On-Street Lanes or Routes With Road Project', 'RTP_ID'])))"
   ]
  },
  {
   "cell_type": "code",
   "execution_count": 37,
   "id": "eaa6679f",
   "metadata": {},
   "outputs": [
    {
     "data": {
      "text/plain": [
       "29"
      ]
     },
     "execution_count": 37,
     "metadata": {},
     "output_type": "execute_result"
    }
   ],
   "source": [
    "len(unique([201, 175, 160, 187, 845, 518]+list(df.loc['On-Street Lanes or Routes Without Road Project', 'RTP_ID'])))"
   ]
  },
  {
   "cell_type": "code",
   "execution_count": 7,
   "id": "5f4479d7",
   "metadata": {},
   "outputs": [
    {
     "data": {
      "text/html": [
       "<div>\n",
       "<style scoped>\n",
       "    .dataframe tbody tr th:only-of-type {\n",
       "        vertical-align: middle;\n",
       "    }\n",
       "\n",
       "    .dataframe tbody tr th {\n",
       "        vertical-align: top;\n",
       "    }\n",
       "\n",
       "    .dataframe thead th {\n",
       "        text-align: right;\n",
       "    }\n",
       "</style>\n",
       "<table border=\"1\" class=\"dataframe\">\n",
       "  <thead>\n",
       "    <tr style=\"text-align: right;\">\n",
       "      <th></th>\n",
       "      <th>geometry</th>\n",
       "    </tr>\n",
       "    <tr>\n",
       "      <th>Category</th>\n",
       "      <th></th>\n",
       "    </tr>\n",
       "  </thead>\n",
       "  <tbody>\n",
       "    <tr>\n",
       "      <th>Multi-Use Paths Without Road Project</th>\n",
       "      <td>15</td>\n",
       "    </tr>\n",
       "    <tr>\n",
       "      <th>On-Street Lanes or Routes With Road Project</th>\n",
       "      <td>3</td>\n",
       "    </tr>\n",
       "    <tr>\n",
       "      <th>On-Street Lanes or Routes Without Road Project</th>\n",
       "      <td>20</td>\n",
       "    </tr>\n",
       "  </tbody>\n",
       "</table>\n",
       "</div>"
      ],
      "text/plain": [
       "                                                geometry\n",
       "Category                                                \n",
       "Multi-Use Paths Without Road Project                  15\n",
       "On-Street Lanes or Routes With Road Project            3\n",
       "On-Street Lanes or Routes Without Road Project        20"
      ]
     },
     "execution_count": 7,
     "metadata": {},
     "output_type": "execute_result"
    }
   ],
   "source": [
    "# Conservation Opportunity Areas intersect with bike/pedestrain lines\n",
    "aaf.RTP_counted_by_intersection(shapefile='BikePed', folder='SensitiveHabitats', file='ODFW_COAs_CLMPO.shp')"
   ]
  },
  {
   "cell_type": "code",
   "execution_count": 47,
   "id": "e28ee4c9",
   "metadata": {},
   "outputs": [],
   "source": [
    "df3 = aaf.RTP_counted_by_intersection(shapefile='BikePed', folder='SensitiveHabitats', file='ODFW_COAs_CLMPO.shp', \n",
    "                                      returnID = True)"
   ]
  },
  {
   "cell_type": "code",
   "execution_count": 6,
   "id": "cb83acd7",
   "metadata": {},
   "outputs": [
    {
     "data": {
      "text/html": [
       "<div>\n",
       "<style scoped>\n",
       "    .dataframe tbody tr th:only-of-type {\n",
       "        vertical-align: middle;\n",
       "    }\n",
       "\n",
       "    .dataframe tbody tr th {\n",
       "        vertical-align: top;\n",
       "    }\n",
       "\n",
       "    .dataframe thead th {\n",
       "        text-align: right;\n",
       "    }\n",
       "</style>\n",
       "<table border=\"1\" class=\"dataframe\">\n",
       "  <thead>\n",
       "    <tr style=\"text-align: right;\">\n",
       "      <th></th>\n",
       "      <th>geometry</th>\n",
       "    </tr>\n",
       "    <tr>\n",
       "      <th>Category</th>\n",
       "      <th></th>\n",
       "    </tr>\n",
       "  </thead>\n",
       "  <tbody>\n",
       "    <tr>\n",
       "      <th>On-Street Lanes or Routes With Road Project</th>\n",
       "      <td>1</td>\n",
       "    </tr>\n",
       "  </tbody>\n",
       "</table>\n",
       "</div>"
      ],
      "text/plain": [
       "                                             geometry\n",
       "Category                                             \n",
       "On-Street Lanes or Routes With Road Project         1"
      ]
     },
     "execution_count": 6,
     "metadata": {},
     "output_type": "execute_result"
    }
   ],
   "source": [
    "# USFWS Critical Habitats intersect with bike/pedestrain lines\n",
    "aaf.RTP_counted_by_intersection(shapefile='BikePed', folder='SensitiveHabitats', file='CRITHAB_CLMPO.shp')"
   ]
  },
  {
   "cell_type": "code",
   "execution_count": 48,
   "id": "7a388dcd",
   "metadata": {},
   "outputs": [
    {
     "data": {
      "text/html": [
       "<div>\n",
       "<style scoped>\n",
       "    .dataframe tbody tr th:only-of-type {\n",
       "        vertical-align: middle;\n",
       "    }\n",
       "\n",
       "    .dataframe tbody tr th {\n",
       "        vertical-align: top;\n",
       "    }\n",
       "\n",
       "    .dataframe thead th {\n",
       "        text-align: right;\n",
       "    }\n",
       "</style>\n",
       "<table border=\"1\" class=\"dataframe\">\n",
       "  <thead>\n",
       "    <tr style=\"text-align: right;\">\n",
       "      <th></th>\n",
       "      <th>RTP_ID</th>\n",
       "    </tr>\n",
       "    <tr>\n",
       "      <th>Category</th>\n",
       "      <th></th>\n",
       "    </tr>\n",
       "  </thead>\n",
       "  <tbody>\n",
       "    <tr>\n",
       "      <th>On-Street Lanes or Routes With Road Project</th>\n",
       "      <td>{315}</td>\n",
       "    </tr>\n",
       "  </tbody>\n",
       "</table>\n",
       "</div>"
      ],
      "text/plain": [
       "                                            RTP_ID\n",
       "Category                                          \n",
       "On-Street Lanes or Routes With Road Project  {315}"
      ]
     },
     "execution_count": 48,
     "metadata": {},
     "output_type": "execute_result"
    }
   ],
   "source": [
    "aaf.RTP_counted_by_intersection(shapefile='BikePed', folder='SensitiveHabitats', file='CRITHAB_CLMPO.shp', returnID=True)"
   ]
  },
  {
   "cell_type": "code",
   "execution_count": 49,
   "id": "224d7d67",
   "metadata": {},
   "outputs": [
    {
     "data": {
      "text/plain": [
       "True"
      ]
     },
     "execution_count": 49,
     "metadata": {},
     "output_type": "execute_result"
    }
   ],
   "source": [
    "315 in list(df3.loc['On-Street Lanes or Routes With Road Project', 'RTP_ID'])"
   ]
  },
  {
   "cell_type": "code",
   "execution_count": 22,
   "id": "08893bde",
   "metadata": {},
   "outputs": [
    {
     "data": {
      "text/html": [
       "<div>\n",
       "<style scoped>\n",
       "    .dataframe tbody tr th:only-of-type {\n",
       "        vertical-align: middle;\n",
       "    }\n",
       "\n",
       "    .dataframe tbody tr th {\n",
       "        vertical-align: top;\n",
       "    }\n",
       "\n",
       "    .dataframe thead th {\n",
       "        text-align: right;\n",
       "    }\n",
       "</style>\n",
       "<table border=\"1\" class=\"dataframe\">\n",
       "  <thead>\n",
       "    <tr style=\"text-align: right;\">\n",
       "      <th></th>\n",
       "      <th>geometry</th>\n",
       "    </tr>\n",
       "    <tr>\n",
       "      <th>Category</th>\n",
       "      <th></th>\n",
       "    </tr>\n",
       "  </thead>\n",
       "  <tbody>\n",
       "    <tr>\n",
       "      <th>Multi-Use Paths Without Road Project</th>\n",
       "      <td>8</td>\n",
       "    </tr>\n",
       "    <tr>\n",
       "      <th>On-Street Lanes or Routes Without Road Project</th>\n",
       "      <td>4</td>\n",
       "    </tr>\n",
       "  </tbody>\n",
       "</table>\n",
       "</div>"
      ],
      "text/plain": [
       "                                                geometry\n",
       "Category                                                \n",
       "Multi-Use Paths Without Road Project                   8\n",
       "On-Street Lanes or Routes Without Road Project         4"
      ]
     },
     "execution_count": 22,
     "metadata": {},
     "output_type": "execute_result"
    }
   ],
   "source": [
    "# floodway intersects with bike/pedestrain lines\n",
    "aaf.RTP_counted_by_intersection(shapefile='BikePed', folder='NaturalHazards', file='FloodwayCLMPO.shp')"
   ]
  },
  {
   "cell_type": "code",
   "execution_count": 58,
   "id": "64dd7740",
   "metadata": {},
   "outputs": [],
   "source": [
    "df1 = aaf.RTP_counted_by_intersection(shapefile='BikePed', folder='NaturalHazards', file='FloodwayCLMPO.shp', \n",
    "                                      returnID=True)"
   ]
  },
  {
   "cell_type": "code",
   "execution_count": 30,
   "id": "1e57f3f1",
   "metadata": {},
   "outputs": [
    {
     "data": {
      "text/html": [
       "<div>\n",
       "<style scoped>\n",
       "    .dataframe tbody tr th:only-of-type {\n",
       "        vertical-align: middle;\n",
       "    }\n",
       "\n",
       "    .dataframe tbody tr th {\n",
       "        vertical-align: top;\n",
       "    }\n",
       "\n",
       "    .dataframe thead th {\n",
       "        text-align: right;\n",
       "    }\n",
       "</style>\n",
       "<table border=\"1\" class=\"dataframe\">\n",
       "  <thead>\n",
       "    <tr style=\"text-align: right;\">\n",
       "      <th></th>\n",
       "      <th>geometry</th>\n",
       "    </tr>\n",
       "    <tr>\n",
       "      <th>Category</th>\n",
       "      <th></th>\n",
       "    </tr>\n",
       "  </thead>\n",
       "  <tbody>\n",
       "    <tr>\n",
       "      <th>Multi-Use Paths Without Road Project</th>\n",
       "      <td>22</td>\n",
       "    </tr>\n",
       "    <tr>\n",
       "      <th>On-Street Lanes or Routes With Road Project</th>\n",
       "      <td>6</td>\n",
       "    </tr>\n",
       "    <tr>\n",
       "      <th>On-Street Lanes or Routes Without Road Project</th>\n",
       "      <td>33</td>\n",
       "    </tr>\n",
       "  </tbody>\n",
       "</table>\n",
       "</div>"
      ],
      "text/plain": [
       "                                                geometry\n",
       "Category                                                \n",
       "Multi-Use Paths Without Road Project                  22\n",
       "On-Street Lanes or Routes With Road Project            6\n",
       "On-Street Lanes or Routes Without Road Project        33"
      ]
     },
     "execution_count": 30,
     "metadata": {},
     "output_type": "execute_result"
    }
   ],
   "source": [
    "# seismic hazards intersect with bike/pedestrain lines\n",
    "aaf.RTP_counted_by_intersection(shapefile='BikePed', folder='NaturalHazards', file='EarthquakeLayer.shp')"
   ]
  },
  {
   "cell_type": "code",
   "execution_count": 59,
   "id": "d654f897",
   "metadata": {},
   "outputs": [],
   "source": [
    "df2 = aaf.RTP_counted_by_intersection(shapefile='BikePed', folder='NaturalHazards', file='EarthquakeLayer.shp',\n",
    "                                     returnID=True)"
   ]
  },
  {
   "cell_type": "code",
   "execution_count": 60,
   "id": "2bf4fedb",
   "metadata": {},
   "outputs": [
    {
     "data": {
      "text/plain": [
       "21"
      ]
     },
     "execution_count": 60,
     "metadata": {},
     "output_type": "execute_result"
    }
   ],
   "source": [
    "len(unique(list(df1.loc['Multi-Use Paths Without Road Project', 'RTP_ID'])+list(df2.loc['Multi-Use Paths Without Road Project', 'RTP_ID'])))"
   ]
  },
  {
   "cell_type": "code",
   "execution_count": 61,
   "id": "d4923e1a",
   "metadata": {},
   "outputs": [
    {
     "data": {
      "text/plain": [
       "33"
      ]
     },
     "execution_count": 61,
     "metadata": {},
     "output_type": "execute_result"
    }
   ],
   "source": [
    "len(unique(list(df1.loc['On-Street Lanes or Routes Without Road Project', 'RTP_ID'])+list(df2.loc['On-Street Lanes or Routes Without Road Project', 'RTP_ID'])))"
   ]
  },
  {
   "cell_type": "code",
   "execution_count": 38,
   "id": "027b288a",
   "metadata": {},
   "outputs": [
    {
     "data": {
      "text/html": [
       "<div>\n",
       "<style scoped>\n",
       "    .dataframe tbody tr th:only-of-type {\n",
       "        vertical-align: middle;\n",
       "    }\n",
       "\n",
       "    .dataframe tbody tr th {\n",
       "        vertical-align: top;\n",
       "    }\n",
       "\n",
       "    .dataframe thead th {\n",
       "        text-align: right;\n",
       "    }\n",
       "</style>\n",
       "<table border=\"1\" class=\"dataframe\">\n",
       "  <thead>\n",
       "    <tr style=\"text-align: right;\">\n",
       "      <th></th>\n",
       "      <th>geometry</th>\n",
       "    </tr>\n",
       "    <tr>\n",
       "      <th>Category</th>\n",
       "      <th></th>\n",
       "    </tr>\n",
       "  </thead>\n",
       "  <tbody>\n",
       "    <tr>\n",
       "      <th>Multi-Use Paths Without Road Project</th>\n",
       "      <td>25</td>\n",
       "    </tr>\n",
       "    <tr>\n",
       "      <th>On-Street Lanes or Routes With Road Project</th>\n",
       "      <td>14</td>\n",
       "    </tr>\n",
       "    <tr>\n",
       "      <th>On-Street Lanes or Routes Without Road Project</th>\n",
       "      <td>51</td>\n",
       "    </tr>\n",
       "  </tbody>\n",
       "</table>\n",
       "</div>"
      ],
      "text/plain": [
       "                                                geometry\n",
       "Category                                                \n",
       "Multi-Use Paths Without Road Project                  25\n",
       "On-Street Lanes or Routes With Road Project           14\n",
       "On-Street Lanes or Routes Without Road Project        51"
      ]
     },
     "execution_count": 38,
     "metadata": {},
     "output_type": "execute_result"
    }
   ],
   "source": [
    "# AirQualityMaintenanceArea intersects with bike/pedestrain lines\n",
    "aaf.RTP_counted_by_intersection(shapefile='BikePed', folder='AirQuality', file='AirQualityMaintenanceArea.shp')"
   ]
  },
  {
   "cell_type": "code",
   "execution_count": 46,
   "id": "aafead99",
   "metadata": {},
   "outputs": [
    {
     "data": {
      "text/html": [
       "<div>\n",
       "<style scoped>\n",
       "    .dataframe tbody tr th:only-of-type {\n",
       "        vertical-align: middle;\n",
       "    }\n",
       "\n",
       "    .dataframe tbody tr th {\n",
       "        vertical-align: top;\n",
       "    }\n",
       "\n",
       "    .dataframe thead th {\n",
       "        text-align: right;\n",
       "    }\n",
       "</style>\n",
       "<table border=\"1\" class=\"dataframe\">\n",
       "  <thead>\n",
       "    <tr style=\"text-align: right;\">\n",
       "      <th></th>\n",
       "      <th>geometry</th>\n",
       "    </tr>\n",
       "    <tr>\n",
       "      <th>Category</th>\n",
       "      <th></th>\n",
       "    </tr>\n",
       "  </thead>\n",
       "  <tbody>\n",
       "    <tr>\n",
       "      <th>Multi-Use Paths Without Road Project</th>\n",
       "      <td>10</td>\n",
       "    </tr>\n",
       "    <tr>\n",
       "      <th>On-Street Lanes or Routes With Road Project</th>\n",
       "      <td>7</td>\n",
       "    </tr>\n",
       "    <tr>\n",
       "      <th>On-Street Lanes or Routes Without Road Project</th>\n",
       "      <td>29</td>\n",
       "    </tr>\n",
       "  </tbody>\n",
       "</table>\n",
       "</div>"
      ],
      "text/plain": [
       "                                                geometry\n",
       "Category                                                \n",
       "Multi-Use Paths Without Road Project                  10\n",
       "On-Street Lanes or Routes With Road Project            7\n",
       "On-Street Lanes or Routes Without Road Project        29"
      ]
     },
     "execution_count": 46,
     "metadata": {},
     "output_type": "execute_result"
    }
   ],
   "source": [
    "# Equity Areas intersect with bike/pedestrain lines\n",
    "aaf.RTP_counted_by_intersection(shapefile='BikePed', folder='EJ', file='equity_area.shp')"
   ]
  },
  {
   "cell_type": "code",
   "execution_count": 54,
   "id": "b582b888",
   "metadata": {},
   "outputs": [
    {
     "data": {
      "text/html": [
       "<div>\n",
       "<style scoped>\n",
       "    .dataframe tbody tr th:only-of-type {\n",
       "        vertical-align: middle;\n",
       "    }\n",
       "\n",
       "    .dataframe tbody tr th {\n",
       "        vertical-align: top;\n",
       "    }\n",
       "\n",
       "    .dataframe thead th {\n",
       "        text-align: right;\n",
       "    }\n",
       "</style>\n",
       "<table border=\"1\" class=\"dataframe\">\n",
       "  <thead>\n",
       "    <tr style=\"text-align: right;\">\n",
       "      <th></th>\n",
       "      <th>geometry</th>\n",
       "    </tr>\n",
       "    <tr>\n",
       "      <th>Category</th>\n",
       "      <th></th>\n",
       "    </tr>\n",
       "  </thead>\n",
       "  <tbody>\n",
       "    <tr>\n",
       "      <th>Multi-Use Paths Without Road Project</th>\n",
       "      <td>26</td>\n",
       "    </tr>\n",
       "    <tr>\n",
       "      <th>On-Street Lanes or Routes With Road Project</th>\n",
       "      <td>14</td>\n",
       "    </tr>\n",
       "    <tr>\n",
       "      <th>On-Street Lanes or Routes Without Road Project</th>\n",
       "      <td>52</td>\n",
       "    </tr>\n",
       "  </tbody>\n",
       "</table>\n",
       "</div>"
      ],
      "text/plain": [
       "                                                geometry\n",
       "Category                                                \n",
       "Multi-Use Paths Without Road Project                  26\n",
       "On-Street Lanes or Routes With Road Project           14\n",
       "On-Street Lanes or Routes Without Road Project        52"
      ]
     },
     "execution_count": 54,
     "metadata": {},
     "output_type": "execute_result"
    }
   ],
   "source": [
    "#MPO area intersects with bike/pedestrain lines\n",
    "aaf.RTP_counted_by_intersection(shapefile='BikePed', folder='RTP', file='MPO_Boundary.shp')"
   ]
  },
  {
   "cell_type": "code",
   "execution_count": 5,
   "id": "60856344",
   "metadata": {},
   "outputs": [
    {
     "data": {
      "text/html": [
       "<div>\n",
       "<style scoped>\n",
       "    .dataframe tbody tr th:only-of-type {\n",
       "        vertical-align: middle;\n",
       "    }\n",
       "\n",
       "    .dataframe tbody tr th {\n",
       "        vertical-align: top;\n",
       "    }\n",
       "\n",
       "    .dataframe thead th {\n",
       "        text-align: right;\n",
       "    }\n",
       "</style>\n",
       "<table border=\"1\" class=\"dataframe\">\n",
       "  <thead>\n",
       "    <tr style=\"text-align: right;\">\n",
       "      <th></th>\n",
       "      <th>geometry</th>\n",
       "    </tr>\n",
       "    <tr>\n",
       "      <th>Category</th>\n",
       "      <th></th>\n",
       "    </tr>\n",
       "  </thead>\n",
       "  <tbody>\n",
       "  </tbody>\n",
       "</table>\n",
       "</div>"
      ],
      "text/plain": [
       "Empty DataFrame\n",
       "Columns: [geometry]\n",
       "Index: []"
      ]
     },
     "execution_count": 5,
     "metadata": {},
     "output_type": "execute_result"
    }
   ],
   "source": [
    "# DEQ303dListedStreams intersect with bike/pedestrain points\n",
    "aaf.RTP_counted_by_intersection(shapefile='BikePed_points', folder='WaterQuality', file='DEQ303dListedStreams.shp')"
   ]
  },
  {
   "cell_type": "code",
   "execution_count": 38,
   "id": "a549fead",
   "metadata": {},
   "outputs": [
    {
     "data": {
      "text/html": [
       "<div>\n",
       "<style scoped>\n",
       "    .dataframe tbody tr th:only-of-type {\n",
       "        vertical-align: middle;\n",
       "    }\n",
       "\n",
       "    .dataframe tbody tr th {\n",
       "        vertical-align: top;\n",
       "    }\n",
       "\n",
       "    .dataframe thead th {\n",
       "        text-align: right;\n",
       "    }\n",
       "</style>\n",
       "<table border=\"1\" class=\"dataframe\">\n",
       "  <thead>\n",
       "    <tr style=\"text-align: right;\">\n",
       "      <th></th>\n",
       "      <th>RTP_ID</th>\n",
       "    </tr>\n",
       "    <tr>\n",
       "      <th>Category</th>\n",
       "      <th></th>\n",
       "    </tr>\n",
       "  </thead>\n",
       "  <tbody>\n",
       "    <tr>\n",
       "      <th>On-Street Lanes or Routes Without Road Project</th>\n",
       "      <td>{721}</td>\n",
       "    </tr>\n",
       "  </tbody>\n",
       "</table>\n",
       "</div>"
      ],
      "text/plain": [
       "                                               RTP_ID\n",
       "Category                                             \n",
       "On-Street Lanes or Routes Without Road Project  {721}"
      ]
     },
     "execution_count": 38,
     "metadata": {},
     "output_type": "execute_result"
    }
   ],
   "source": [
    "# Navigable Rivers intersect with bike/pedestrain points\n",
    "aaf.RTP_counted_by_intersection(shapefile='BikePed_points', folder='WaterQuality', file='NavigableRivers.shp', returnID=True)"
   ]
  },
  {
   "cell_type": "code",
   "execution_count": 39,
   "id": "57d1bc49",
   "metadata": {},
   "outputs": [
    {
     "data": {
      "text/html": [
       "<div>\n",
       "<style scoped>\n",
       "    .dataframe tbody tr th:only-of-type {\n",
       "        vertical-align: middle;\n",
       "    }\n",
       "\n",
       "    .dataframe tbody tr th {\n",
       "        vertical-align: top;\n",
       "    }\n",
       "\n",
       "    .dataframe thead th {\n",
       "        text-align: right;\n",
       "    }\n",
       "</style>\n",
       "<table border=\"1\" class=\"dataframe\">\n",
       "  <thead>\n",
       "    <tr style=\"text-align: right;\">\n",
       "      <th></th>\n",
       "      <th>RTP_ID</th>\n",
       "    </tr>\n",
       "    <tr>\n",
       "      <th>Category</th>\n",
       "      <th></th>\n",
       "    </tr>\n",
       "  </thead>\n",
       "  <tbody>\n",
       "    <tr>\n",
       "      <th>On-Street Lanes or Routes Without Road Project</th>\n",
       "      <td>{29}</td>\n",
       "    </tr>\n",
       "  </tbody>\n",
       "</table>\n",
       "</div>"
      ],
      "text/plain": [
       "                                               RTP_ID\n",
       "Category                                             \n",
       "On-Street Lanes or Routes Without Road Project   {29}"
      ]
     },
     "execution_count": 39,
     "metadata": {},
     "output_type": "execute_result"
    }
   ],
   "source": [
    "# wetlands intersect with bike/pedestrain points\n",
    "aaf.RTP_counted_by_intersection(shapefile='BikePed_points', folder='WaterQuality', file='wetlandsCLMPO.shp', returnID=True)"
   ]
  },
  {
   "cell_type": "code",
   "execution_count": 8,
   "id": "3d2b112d",
   "metadata": {},
   "outputs": [
    {
     "data": {
      "text/html": [
       "<div>\n",
       "<style scoped>\n",
       "    .dataframe tbody tr th:only-of-type {\n",
       "        vertical-align: middle;\n",
       "    }\n",
       "\n",
       "    .dataframe tbody tr th {\n",
       "        vertical-align: top;\n",
       "    }\n",
       "\n",
       "    .dataframe thead th {\n",
       "        text-align: right;\n",
       "    }\n",
       "</style>\n",
       "<table border=\"1\" class=\"dataframe\">\n",
       "  <thead>\n",
       "    <tr style=\"text-align: right;\">\n",
       "      <th></th>\n",
       "      <th>geometry</th>\n",
       "    </tr>\n",
       "    <tr>\n",
       "      <th>Category</th>\n",
       "      <th></th>\n",
       "    </tr>\n",
       "  </thead>\n",
       "  <tbody>\n",
       "    <tr>\n",
       "      <th>On-Street Lanes or Routes Without Road Project</th>\n",
       "      <td>2</td>\n",
       "    </tr>\n",
       "  </tbody>\n",
       "</table>\n",
       "</div>"
      ],
      "text/plain": [
       "                                                geometry\n",
       "Category                                                \n",
       "On-Street Lanes or Routes Without Road Project         2"
      ]
     },
     "execution_count": 8,
     "metadata": {},
     "output_type": "execute_result"
    }
   ],
   "source": [
    "# Conservation Opportunity Areas intersect with bike/pedestrain points\n",
    "aaf.RTP_counted_by_intersection(shapefile='BikePed_points', folder='SensitiveHabitats', file='ODFW_COAs_CLMPO.shp')"
   ]
  },
  {
   "cell_type": "code",
   "execution_count": 9,
   "id": "30d1d724",
   "metadata": {},
   "outputs": [
    {
     "data": {
      "text/html": [
       "<div>\n",
       "<style scoped>\n",
       "    .dataframe tbody tr th:only-of-type {\n",
       "        vertical-align: middle;\n",
       "    }\n",
       "\n",
       "    .dataframe tbody tr th {\n",
       "        vertical-align: top;\n",
       "    }\n",
       "\n",
       "    .dataframe thead th {\n",
       "        text-align: right;\n",
       "    }\n",
       "</style>\n",
       "<table border=\"1\" class=\"dataframe\">\n",
       "  <thead>\n",
       "    <tr style=\"text-align: right;\">\n",
       "      <th></th>\n",
       "      <th>geometry</th>\n",
       "    </tr>\n",
       "    <tr>\n",
       "      <th>Category</th>\n",
       "      <th></th>\n",
       "    </tr>\n",
       "  </thead>\n",
       "  <tbody>\n",
       "  </tbody>\n",
       "</table>\n",
       "</div>"
      ],
      "text/plain": [
       "Empty DataFrame\n",
       "Columns: [geometry]\n",
       "Index: []"
      ]
     },
     "execution_count": 9,
     "metadata": {},
     "output_type": "execute_result"
    }
   ],
   "source": [
    "# USFWS Critical Habitats intersect with bike/pedestrain points\n",
    "aaf.RTP_counted_by_intersection(shapefile='BikePed_points', folder='SensitiveHabitats', file='CRITHAB_CLMPO.shp')"
   ]
  },
  {
   "cell_type": "code",
   "execution_count": 23,
   "id": "ac340fc7",
   "metadata": {},
   "outputs": [
    {
     "data": {
      "text/html": [
       "<div>\n",
       "<style scoped>\n",
       "    .dataframe tbody tr th:only-of-type {\n",
       "        vertical-align: middle;\n",
       "    }\n",
       "\n",
       "    .dataframe tbody tr th {\n",
       "        vertical-align: top;\n",
       "    }\n",
       "\n",
       "    .dataframe thead th {\n",
       "        text-align: right;\n",
       "    }\n",
       "</style>\n",
       "<table border=\"1\" class=\"dataframe\">\n",
       "  <thead>\n",
       "    <tr style=\"text-align: right;\">\n",
       "      <th></th>\n",
       "      <th>geometry</th>\n",
       "    </tr>\n",
       "    <tr>\n",
       "      <th>Category</th>\n",
       "      <th></th>\n",
       "    </tr>\n",
       "  </thead>\n",
       "  <tbody>\n",
       "  </tbody>\n",
       "</table>\n",
       "</div>"
      ],
      "text/plain": [
       "Empty DataFrame\n",
       "Columns: [geometry]\n",
       "Index: []"
      ]
     },
     "execution_count": 23,
     "metadata": {},
     "output_type": "execute_result"
    }
   ],
   "source": [
    "# floodway intersects with bike/pedestrain points\n",
    "aaf.RTP_counted_by_intersection(shapefile='BikePed_points', folder='NaturalHazards', file='FloodwayCLMPO.shp')"
   ]
  },
  {
   "cell_type": "code",
   "execution_count": 31,
   "id": "e38d7e43",
   "metadata": {},
   "outputs": [
    {
     "data": {
      "text/html": [
       "<div>\n",
       "<style scoped>\n",
       "    .dataframe tbody tr th:only-of-type {\n",
       "        vertical-align: middle;\n",
       "    }\n",
       "\n",
       "    .dataframe tbody tr th {\n",
       "        vertical-align: top;\n",
       "    }\n",
       "\n",
       "    .dataframe thead th {\n",
       "        text-align: right;\n",
       "    }\n",
       "</style>\n",
       "<table border=\"1\" class=\"dataframe\">\n",
       "  <thead>\n",
       "    <tr style=\"text-align: right;\">\n",
       "      <th></th>\n",
       "      <th>geometry</th>\n",
       "    </tr>\n",
       "    <tr>\n",
       "      <th>Category</th>\n",
       "      <th></th>\n",
       "    </tr>\n",
       "  </thead>\n",
       "  <tbody>\n",
       "    <tr>\n",
       "      <th>On-Street Lanes or Routes Without Road Project</th>\n",
       "      <td>2</td>\n",
       "    </tr>\n",
       "  </tbody>\n",
       "</table>\n",
       "</div>"
      ],
      "text/plain": [
       "                                                geometry\n",
       "Category                                                \n",
       "On-Street Lanes or Routes Without Road Project         2"
      ]
     },
     "execution_count": 31,
     "metadata": {},
     "output_type": "execute_result"
    }
   ],
   "source": [
    "# seismic hazards intersect with bike/pedestrain points\n",
    "aaf.RTP_counted_by_intersection(shapefile='BikePed_points', folder='NaturalHazards', file='EarthquakeLayer.shp')"
   ]
  },
  {
   "cell_type": "code",
   "execution_count": 39,
   "id": "c690d105",
   "metadata": {},
   "outputs": [
    {
     "data": {
      "text/html": [
       "<div>\n",
       "<style scoped>\n",
       "    .dataframe tbody tr th:only-of-type {\n",
       "        vertical-align: middle;\n",
       "    }\n",
       "\n",
       "    .dataframe tbody tr th {\n",
       "        vertical-align: top;\n",
       "    }\n",
       "\n",
       "    .dataframe thead th {\n",
       "        text-align: right;\n",
       "    }\n",
       "</style>\n",
       "<table border=\"1\" class=\"dataframe\">\n",
       "  <thead>\n",
       "    <tr style=\"text-align: right;\">\n",
       "      <th></th>\n",
       "      <th>geometry</th>\n",
       "    </tr>\n",
       "    <tr>\n",
       "      <th>Category</th>\n",
       "      <th></th>\n",
       "    </tr>\n",
       "  </thead>\n",
       "  <tbody>\n",
       "    <tr>\n",
       "      <th>On-Street Lanes or Routes Without Road Project</th>\n",
       "      <td>14</td>\n",
       "    </tr>\n",
       "  </tbody>\n",
       "</table>\n",
       "</div>"
      ],
      "text/plain": [
       "                                                geometry\n",
       "Category                                                \n",
       "On-Street Lanes or Routes Without Road Project        14"
      ]
     },
     "execution_count": 39,
     "metadata": {},
     "output_type": "execute_result"
    }
   ],
   "source": [
    "# AirQualityMaintenanceArea intersects with bike/pedestrain points\n",
    "aaf.RTP_counted_by_intersection(shapefile='BikePed_points', folder='AirQuality', file='AirQualityMaintenanceArea.shp')"
   ]
  },
  {
   "cell_type": "code",
   "execution_count": 47,
   "id": "15296421",
   "metadata": {},
   "outputs": [
    {
     "data": {
      "text/html": [
       "<div>\n",
       "<style scoped>\n",
       "    .dataframe tbody tr th:only-of-type {\n",
       "        vertical-align: middle;\n",
       "    }\n",
       "\n",
       "    .dataframe tbody tr th {\n",
       "        vertical-align: top;\n",
       "    }\n",
       "\n",
       "    .dataframe thead th {\n",
       "        text-align: right;\n",
       "    }\n",
       "</style>\n",
       "<table border=\"1\" class=\"dataframe\">\n",
       "  <thead>\n",
       "    <tr style=\"text-align: right;\">\n",
       "      <th></th>\n",
       "      <th>geometry</th>\n",
       "    </tr>\n",
       "    <tr>\n",
       "      <th>Category</th>\n",
       "      <th></th>\n",
       "    </tr>\n",
       "  </thead>\n",
       "  <tbody>\n",
       "    <tr>\n",
       "      <th>On-Street Lanes or Routes Without Road Project</th>\n",
       "      <td>11</td>\n",
       "    </tr>\n",
       "  </tbody>\n",
       "</table>\n",
       "</div>"
      ],
      "text/plain": [
       "                                                geometry\n",
       "Category                                                \n",
       "On-Street Lanes or Routes Without Road Project        11"
      ]
     },
     "execution_count": 47,
     "metadata": {},
     "output_type": "execute_result"
    }
   ],
   "source": [
    "# Equity Areas intersect with bike/pedestrain points\n",
    "aaf.RTP_counted_by_intersection(shapefile='BikePed_points', folder='EJ', file='equity_area.shp')"
   ]
  },
  {
   "cell_type": "code",
   "execution_count": 55,
   "id": "77366257",
   "metadata": {},
   "outputs": [
    {
     "data": {
      "text/html": [
       "<div>\n",
       "<style scoped>\n",
       "    .dataframe tbody tr th:only-of-type {\n",
       "        vertical-align: middle;\n",
       "    }\n",
       "\n",
       "    .dataframe tbody tr th {\n",
       "        vertical-align: top;\n",
       "    }\n",
       "\n",
       "    .dataframe thead th {\n",
       "        text-align: right;\n",
       "    }\n",
       "</style>\n",
       "<table border=\"1\" class=\"dataframe\">\n",
       "  <thead>\n",
       "    <tr style=\"text-align: right;\">\n",
       "      <th></th>\n",
       "      <th>geometry</th>\n",
       "    </tr>\n",
       "    <tr>\n",
       "      <th>Category</th>\n",
       "      <th></th>\n",
       "    </tr>\n",
       "  </thead>\n",
       "  <tbody>\n",
       "    <tr>\n",
       "      <th>On-Street Lanes or Routes Without Road Project</th>\n",
       "      <td>14</td>\n",
       "    </tr>\n",
       "  </tbody>\n",
       "</table>\n",
       "</div>"
      ],
      "text/plain": [
       "                                                geometry\n",
       "Category                                                \n",
       "On-Street Lanes or Routes Without Road Project        14"
      ]
     },
     "execution_count": 55,
     "metadata": {},
     "output_type": "execute_result"
    }
   ],
   "source": [
    "#MPO area intersects with bike/pedestrain points\n",
    "aaf.RTP_counted_by_intersection(shapefile='BikePed_points', folder='RTP', file='MPO_Boundary.shp')"
   ]
  },
  {
   "cell_type": "code",
   "execution_count": 7,
   "id": "3e73d45b",
   "metadata": {},
   "outputs": [],
   "source": [
    "# DEQ303dListedStreams intersect with frequent transit network\n",
    "res = aaf.RTP_counted_by_intersection(shapefile='FrequentTransitNetwork', \n",
    "                                      folder='WaterQuality', file='DEQ303dListedStreams.shp',\n",
    "                                      transit=True, ftn=True)"
   ]
  },
  {
   "cell_type": "code",
   "execution_count": 8,
   "id": "f042e722",
   "metadata": {},
   "outputs": [
    {
     "data": {
      "text/plain": [
       "(20, 1)"
      ]
     },
     "execution_count": 8,
     "metadata": {},
     "output_type": "execute_result"
    }
   ],
   "source": [
    "res.shape"
   ]
  },
  {
   "cell_type": "code",
   "execution_count": 9,
   "id": "1160218b",
   "metadata": {},
   "outputs": [],
   "source": [
    "# DEQ303dListedStreams intersect with stations\n",
    "res = aaf.RTP_counted_by_intersection(shapefile='stations', \n",
    "                                      folder='WaterQuality', file='DEQ303dListedStreams.shp',\n",
    "                                      transit=True)"
   ]
  },
  {
   "cell_type": "code",
   "execution_count": 10,
   "id": "f5591093",
   "metadata": {},
   "outputs": [
    {
     "data": {
      "text/plain": [
       "(0, 1)"
      ]
     },
     "execution_count": 10,
     "metadata": {},
     "output_type": "execute_result"
    }
   ],
   "source": [
    "res.shape"
   ]
  },
  {
   "cell_type": "code",
   "execution_count": 8,
   "id": "1a7d5d43",
   "metadata": {},
   "outputs": [],
   "source": [
    "# Navigable Rivers intersect with frequent transit network\n",
    "res = aaf.RTP_counted_by_intersection(shapefile='FrequentTransitNetwork', \n",
    "                                      folder='WaterQuality', file='NavigableRivers.shp',\n",
    "                                      transit=True, ftn=True)"
   ]
  },
  {
   "cell_type": "code",
   "execution_count": 10,
   "id": "ed55a63c",
   "metadata": {},
   "outputs": [],
   "source": [
    "NR = res.index"
   ]
  },
  {
   "cell_type": "code",
   "execution_count": 17,
   "id": "eb0960cb",
   "metadata": {},
   "outputs": [],
   "source": [
    "# Navigable Rivers intersect with stations\n",
    "res = aaf.RTP_counted_by_intersection(shapefile='stations', \n",
    "                                      folder='WaterQuality', file='NavigableRivers.shp',\n",
    "                                      transit=True)"
   ]
  },
  {
   "cell_type": "code",
   "execution_count": 18,
   "id": "7a314ec9",
   "metadata": {},
   "outputs": [
    {
     "data": {
      "text/plain": [
       "(0, 1)"
      ]
     },
     "execution_count": 18,
     "metadata": {},
     "output_type": "execute_result"
    }
   ],
   "source": [
    "res.shape"
   ]
  },
  {
   "cell_type": "code",
   "execution_count": 11,
   "id": "51c16257",
   "metadata": {},
   "outputs": [],
   "source": [
    "# wetlands intersect with frequent transit network\n",
    "res = aaf.RTP_counted_by_intersection(shapefile='FrequentTransitNetwork', \n",
    "                                      folder='WaterQuality', file='wetlandsCLMPO.shp',\n",
    "                                      transit=True, ftn=True)"
   ]
  },
  {
   "cell_type": "code",
   "execution_count": 12,
   "id": "aae899f1",
   "metadata": {},
   "outputs": [],
   "source": [
    "WL = res.index"
   ]
  },
  {
   "cell_type": "code",
   "execution_count": 13,
   "id": "1232ae8a",
   "metadata": {},
   "outputs": [
    {
     "data": {
      "text/plain": [
       "31"
      ]
     },
     "execution_count": 13,
     "metadata": {},
     "output_type": "execute_result"
    }
   ],
   "source": [
    "len(unique(list(NR)+list(WL)))"
   ]
  },
  {
   "cell_type": "code",
   "execution_count": 21,
   "id": "ebb7dcfa",
   "metadata": {},
   "outputs": [],
   "source": [
    "# wetlands intersect with stations\n",
    "res = aaf.RTP_counted_by_intersection(shapefile='stations', \n",
    "                                      folder='WaterQuality', file='wetlandsCLMPO.shp',\n",
    "                                      transit=True)"
   ]
  },
  {
   "cell_type": "code",
   "execution_count": 22,
   "id": "d712f516",
   "metadata": {},
   "outputs": [
    {
     "data": {
      "text/plain": [
       "(4, 1)"
      ]
     },
     "execution_count": 22,
     "metadata": {},
     "output_type": "execute_result"
    }
   ],
   "source": [
    "res.shape"
   ]
  },
  {
   "cell_type": "code",
   "execution_count": 86,
   "id": "89d4b6ed",
   "metadata": {},
   "outputs": [],
   "source": [
    "# Conservation Opportunity Areas intersect with frequent transit network\n",
    "res = aaf.RTP_counted_by_intersection(shapefile='FrequentTransitNetwork', \n",
    "                                      folder='SensitiveHabitats', file='ODFW_COAs_CLMPO.shp',\n",
    "                                      transit=True, ftn=True)"
   ]
  },
  {
   "cell_type": "code",
   "execution_count": 87,
   "id": "20141eee",
   "metadata": {},
   "outputs": [],
   "source": [
    "COAs = res.index"
   ]
  },
  {
   "cell_type": "code",
   "execution_count": 13,
   "id": "d8dd52df",
   "metadata": {},
   "outputs": [],
   "source": [
    "# Conservation Opportunity Areas intersect with stations\n",
    "res = aaf.RTP_counted_by_intersection(shapefile='stations', \n",
    "                                      folder='SensitiveHabitats', file='ODFW_COAs_CLMPO.shp',\n",
    "                                      transit=True)"
   ]
  },
  {
   "cell_type": "code",
   "execution_count": 14,
   "id": "7a2e30bd",
   "metadata": {},
   "outputs": [
    {
     "data": {
      "text/plain": [
       "(3, 1)"
      ]
     },
     "execution_count": 14,
     "metadata": {},
     "output_type": "execute_result"
    }
   ],
   "source": [
    "res.shape"
   ]
  },
  {
   "cell_type": "code",
   "execution_count": 88,
   "id": "88a7bfd7",
   "metadata": {},
   "outputs": [],
   "source": [
    "# USFWS Critical Habitats intersect with frequent transit network\n",
    "res = aaf.RTP_counted_by_intersection(shapefile='FrequentTransitNetwork', \n",
    "                                      folder='SensitiveHabitats', file='CRITHAB_CLMPO.shp',\n",
    "                                      transit=True, ftn=True)"
   ]
  },
  {
   "cell_type": "code",
   "execution_count": 89,
   "id": "35379d17",
   "metadata": {},
   "outputs": [],
   "source": [
    "crithab = res.index"
   ]
  },
  {
   "cell_type": "code",
   "execution_count": 90,
   "id": "4fcde74b",
   "metadata": {},
   "outputs": [
    {
     "data": {
      "text/plain": [
       "29"
      ]
     },
     "execution_count": 90,
     "metadata": {},
     "output_type": "execute_result"
    }
   ],
   "source": [
    "len(unique(list(COAs) + list(crithab)))"
   ]
  },
  {
   "cell_type": "code",
   "execution_count": 17,
   "id": "b08ad2f0",
   "metadata": {},
   "outputs": [],
   "source": [
    "# USFWS Critical Habitats intersect with stations\n",
    "res = aaf.RTP_counted_by_intersection(shapefile='stations', \n",
    "                                      folder='SensitiveHabitats', file='CRITHAB_CLMPO.shp',\n",
    "                                      transit=True)"
   ]
  },
  {
   "cell_type": "code",
   "execution_count": 18,
   "id": "fec89ac1",
   "metadata": {},
   "outputs": [
    {
     "data": {
      "text/plain": [
       "(0, 1)"
      ]
     },
     "execution_count": 18,
     "metadata": {},
     "output_type": "execute_result"
    }
   ],
   "source": [
    "res.shape"
   ]
  },
  {
   "cell_type": "code",
   "execution_count": 60,
   "id": "c09c37d7",
   "metadata": {},
   "outputs": [],
   "source": [
    "# floodway intersects with frequent transit network\n",
    "res = aaf.RTP_counted_by_intersection(shapefile='FrequentTransitNetwork', \n",
    "                                      folder='NaturalHazards', file='FloodwayCLMPO.shp',\n",
    "                                      transit=True, ftn=True)"
   ]
  },
  {
   "cell_type": "code",
   "execution_count": 71,
   "id": "02c43e51",
   "metadata": {},
   "outputs": [],
   "source": [
    "floodwayFTN = res.index"
   ]
  },
  {
   "cell_type": "code",
   "execution_count": 26,
   "id": "daa181a9",
   "metadata": {},
   "outputs": [],
   "source": [
    "# floodways intersects with stations\n",
    "res = aaf.RTP_counted_by_intersection(shapefile='stations', \n",
    "                                      folder='NaturalHazards', file='FloodwayCLMPO.shp',\n",
    "                                      transit=True)"
   ]
  },
  {
   "cell_type": "code",
   "execution_count": 27,
   "id": "2114c674",
   "metadata": {},
   "outputs": [
    {
     "data": {
      "text/plain": [
       "(0, 1)"
      ]
     },
     "execution_count": 27,
     "metadata": {},
     "output_type": "execute_result"
    }
   ],
   "source": [
    "res.shape"
   ]
  },
  {
   "cell_type": "code",
   "execution_count": 72,
   "id": "6ea1987e",
   "metadata": {},
   "outputs": [],
   "source": [
    "# seismic hazards intersect with frequent transit network\n",
    "res = aaf.RTP_counted_by_intersection(shapefile='FrequentTransitNetwork', \n",
    "                                      folder='NaturalHazards', file='EarthquakeLayer.shp',\n",
    "                                      transit=True, ftn=True)"
   ]
  },
  {
   "cell_type": "code",
   "execution_count": 73,
   "id": "76b50afd",
   "metadata": {},
   "outputs": [],
   "source": [
    "earthquakeFTN = res.index"
   ]
  },
  {
   "cell_type": "code",
   "execution_count": 85,
   "id": "c5f58d48",
   "metadata": {},
   "outputs": [
    {
     "data": {
      "text/plain": [
       "29"
      ]
     },
     "execution_count": 85,
     "metadata": {},
     "output_type": "execute_result"
    }
   ],
   "source": [
    "len(unique(list(floodwayFTN) + list(earthquakeFTN)))"
   ]
  },
  {
   "cell_type": "code",
   "execution_count": 34,
   "id": "13d07998",
   "metadata": {},
   "outputs": [],
   "source": [
    "# seismic hazards intersect with stations\n",
    "res = aaf.RTP_counted_by_intersection(shapefile='stations', \n",
    "                                      folder='NaturalHazards', file='EarthquakeLayer.shp',\n",
    "                                      transit=True)"
   ]
  },
  {
   "cell_type": "code",
   "execution_count": 35,
   "id": "52d7d843",
   "metadata": {},
   "outputs": [
    {
     "data": {
      "text/plain": [
       "(7, 1)"
      ]
     },
     "execution_count": 35,
     "metadata": {},
     "output_type": "execute_result"
    }
   ],
   "source": [
    "res.shape"
   ]
  },
  {
   "cell_type": "code",
   "execution_count": 40,
   "id": "947652cd",
   "metadata": {},
   "outputs": [],
   "source": [
    "# AirQualityMaintenanceArea intersects with frequent transit network\n",
    "res = aaf.RTP_counted_by_intersection(shapefile='FrequentTransitNetwork', \n",
    "                                      folder='AirQuality', file='AirQualityMaintenanceArea.shp',\n",
    "                                      transit=True, ftn=True)"
   ]
  },
  {
   "cell_type": "code",
   "execution_count": 41,
   "id": "c26d6b4a",
   "metadata": {},
   "outputs": [
    {
     "data": {
      "text/plain": [
       "(31, 1)"
      ]
     },
     "execution_count": 41,
     "metadata": {},
     "output_type": "execute_result"
    }
   ],
   "source": [
    "res.shape"
   ]
  },
  {
   "cell_type": "code",
   "execution_count": 42,
   "id": "78ec4acd",
   "metadata": {},
   "outputs": [],
   "source": [
    "# AirQualityMaintenanceArea intersects with stations\n",
    "res = aaf.RTP_counted_by_intersection(shapefile='stations', \n",
    "                                      folder='AirQuality', file='AirQualityMaintenanceArea.shp',\n",
    "                                      transit=True)"
   ]
  },
  {
   "cell_type": "code",
   "execution_count": 43,
   "id": "ab92cd44",
   "metadata": {},
   "outputs": [
    {
     "data": {
      "text/plain": [
       "(10, 1)"
      ]
     },
     "execution_count": 43,
     "metadata": {},
     "output_type": "execute_result"
    }
   ],
   "source": [
    "res.shape"
   ]
  },
  {
   "cell_type": "code",
   "execution_count": 48,
   "id": "03d76157",
   "metadata": {},
   "outputs": [],
   "source": [
    "# equity_area intersects with frequent transit network\n",
    "res = aaf.RTP_counted_by_intersection(shapefile='FrequentTransitNetwork', \n",
    "                                      folder='EJ', file='equity_area.shp',\n",
    "                                      transit=True, ftn=True)"
   ]
  },
  {
   "cell_type": "code",
   "execution_count": 49,
   "id": "f3dbe4c6",
   "metadata": {},
   "outputs": [
    {
     "data": {
      "text/plain": [
       "(30, 1)"
      ]
     },
     "execution_count": 49,
     "metadata": {},
     "output_type": "execute_result"
    }
   ],
   "source": [
    "res.shape"
   ]
  },
  {
   "cell_type": "code",
   "execution_count": 50,
   "id": "312da30d",
   "metadata": {},
   "outputs": [],
   "source": [
    "# equity_area intersects with stations\n",
    "res = aaf.RTP_counted_by_intersection(shapefile='stations', \n",
    "                                      folder='EJ', file='equity_area.shp',\n",
    "                                      transit=True)"
   ]
  },
  {
   "cell_type": "code",
   "execution_count": 51,
   "id": "d587837b",
   "metadata": {},
   "outputs": [
    {
     "data": {
      "text/plain": [
       "(5, 1)"
      ]
     },
     "execution_count": 51,
     "metadata": {},
     "output_type": "execute_result"
    }
   ],
   "source": [
    "res.shape"
   ]
  },
  {
   "cell_type": "code",
   "execution_count": 56,
   "id": "f0cf7de7",
   "metadata": {},
   "outputs": [],
   "source": [
    "# MPO_area intersects with frequent transit network\n",
    "res = aaf.RTP_counted_by_intersection(shapefile='FrequentTransitNetwork', \n",
    "                                      folder='RTP', file='MPO_Boundary.shp',\n",
    "                                      transit=True, ftn=True)"
   ]
  },
  {
   "cell_type": "code",
   "execution_count": 57,
   "id": "34f69fe9",
   "metadata": {},
   "outputs": [
    {
     "data": {
      "text/plain": [
       "(31, 1)"
      ]
     },
     "execution_count": 57,
     "metadata": {},
     "output_type": "execute_result"
    }
   ],
   "source": [
    "res.shape"
   ]
  },
  {
   "cell_type": "code",
   "execution_count": 58,
   "id": "7954aada",
   "metadata": {},
   "outputs": [],
   "source": [
    "# MPO_area intersects with stations\n",
    "res = aaf.RTP_counted_by_intersection(shapefile='stations', \n",
    "                                      folder='RTP', file='MPO_Boundary.shp',\n",
    "                                      transit=True)"
   ]
  },
  {
   "cell_type": "code",
   "execution_count": 59,
   "id": "47551279",
   "metadata": {},
   "outputs": [
    {
     "data": {
      "text/plain": [
       "(11, 1)"
      ]
     },
     "execution_count": 59,
     "metadata": {},
     "output_type": "execute_result"
    }
   ],
   "source": [
    "res.shape"
   ]
  },
  {
   "cell_type": "code",
   "execution_count": null,
   "id": "1ba84a87",
   "metadata": {},
   "outputs": [],
   "source": []
  }
 ],
 "metadata": {
  "kernelspec": {
   "display_name": "Python 3",
   "language": "python",
   "name": "python3"
  },
  "language_info": {
   "codemirror_mode": {
    "name": "ipython",
    "version": 3
   },
   "file_extension": ".py",
   "mimetype": "text/x-python",
   "name": "python",
   "nbconvert_exporter": "python",
   "pygments_lexer": "ipython3",
   "version": "3.8.8"
  }
 },
 "nbformat": 4,
 "nbformat_minor": 5
}

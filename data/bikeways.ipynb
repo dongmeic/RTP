{
 "cells": [
  {
   "cell_type": "code",
   "execution_count": 1,
   "metadata": {},
   "outputs": [],
   "source": [
    "import geopandas as gpd\n",
    "import os\n",
    "from sqlalchemy import create_engine"
   ]
  },
  {
   "cell_type": "code",
   "execution_count": 2,
   "metadata": {},
   "outputs": [],
   "source": [
    "engine = create_engine(   \n",
    "\"mssql+pyodbc:///?odbc_connect=\"\n",
    "\"Driver%3D%7BODBC+Driver+17+for+SQL+Server%7D%3B\"\n",
    "\"Server%3Drliddb.int.lcog.org%2C5433%3B\"\n",
    "\"Database%3DRLIDGeo%3B\"\n",
    "\"Trusted_Connection%3Dyes%3B\"\n",
    "\"ApplicationIntent%3DReadWrite%3B\"\n",
    "\"WSID%3Dclwrk4087.int.lcog.org%3B\")"
   ]
  },
  {
   "cell_type": "code",
   "execution_count": 3,
   "metadata": {},
   "outputs": [],
   "source": [
    "sql = '''\n",
    "SELECT \n",
    "bike_segid AS id,\n",
    "name,\n",
    "ftypedes AS type,\n",
    "status,\n",
    "source,\n",
    "Shape.STAsBinary() AS geom\n",
    "FROM dbo.BikeFacility;\n",
    "'''"
   ]
  },
  {
   "cell_type": "code",
   "execution_count": 4,
   "metadata": {},
   "outputs": [],
   "source": [
    "bikeways = gpd.GeoDataFrame.from_postgis(sql, engine, geom_col='geom')"
   ]
  },
  {
   "cell_type": "code",
   "execution_count": 5,
   "metadata": {},
   "outputs": [
    {
     "data": {
      "text/html": [
       "<div>\n",
       "<style scoped>\n",
       "    .dataframe tbody tr th:only-of-type {\n",
       "        vertical-align: middle;\n",
       "    }\n",
       "\n",
       "    .dataframe tbody tr th {\n",
       "        vertical-align: top;\n",
       "    }\n",
       "\n",
       "    .dataframe thead th {\n",
       "        text-align: right;\n",
       "    }\n",
       "</style>\n",
       "<table border=\"1\" class=\"dataframe\">\n",
       "  <thead>\n",
       "    <tr style=\"text-align: right;\">\n",
       "      <th></th>\n",
       "      <th>id</th>\n",
       "      <th>name</th>\n",
       "      <th>type</th>\n",
       "      <th>status</th>\n",
       "      <th>source</th>\n",
       "      <th>geom</th>\n",
       "    </tr>\n",
       "  </thead>\n",
       "  <tbody>\n",
       "    <tr>\n",
       "      <th>0</th>\n",
       "      <td>NaN</td>\n",
       "      <td>Fox Hollow</td>\n",
       "      <td>Paved Shoulder</td>\n",
       "      <td>Built</td>\n",
       "      <td>LCOG</td>\n",
       "      <td>LINESTRING (4235685.620 849995.967, 4235843.30...</td>\n",
       "    </tr>\n",
       "    <tr>\n",
       "      <th>1</th>\n",
       "      <td>1.0</td>\n",
       "      <td>None</td>\n",
       "      <td>Paved Shoulder</td>\n",
       "      <td>Built</td>\n",
       "      <td>LCOG</td>\n",
       "      <td>LINESTRING (4216611.495 857908.927, 4216569.84...</td>\n",
       "    </tr>\n",
       "    <tr>\n",
       "      <th>2</th>\n",
       "      <td>2.0</td>\n",
       "      <td>Fox Hollow</td>\n",
       "      <td>Bike Route</td>\n",
       "      <td>Built</td>\n",
       "      <td>LCOG</td>\n",
       "      <td>LINESTRING (4240496.355 857938.484, 4240518.05...</td>\n",
       "    </tr>\n",
       "    <tr>\n",
       "      <th>3</th>\n",
       "      <td>3.0</td>\n",
       "      <td>Fox Hollow</td>\n",
       "      <td>Bike Route</td>\n",
       "      <td>Built</td>\n",
       "      <td>LCOG</td>\n",
       "      <td>LINESTRING (4240082.967 859115.739, 4240067.37...</td>\n",
       "    </tr>\n",
       "    <tr>\n",
       "      <th>4</th>\n",
       "      <td>4.0</td>\n",
       "      <td>None</td>\n",
       "      <td>Paved Shoulder</td>\n",
       "      <td>Built</td>\n",
       "      <td>LCOG</td>\n",
       "      <td>LINESTRING (4237189.007 859678.425, 4237156.94...</td>\n",
       "    </tr>\n",
       "  </tbody>\n",
       "</table>\n",
       "</div>"
      ],
      "text/plain": [
       "    id        name            type status source  \\\n",
       "0  NaN  Fox Hollow  Paved Shoulder  Built   LCOG   \n",
       "1  1.0        None  Paved Shoulder  Built   LCOG   \n",
       "2  2.0  Fox Hollow      Bike Route  Built   LCOG   \n",
       "3  3.0  Fox Hollow      Bike Route  Built   LCOG   \n",
       "4  4.0        None  Paved Shoulder  Built   LCOG   \n",
       "\n",
       "                                                geom  \n",
       "0  LINESTRING (4235685.620 849995.967, 4235843.30...  \n",
       "1  LINESTRING (4216611.495 857908.927, 4216569.84...  \n",
       "2  LINESTRING (4240496.355 857938.484, 4240518.05...  \n",
       "3  LINESTRING (4240082.967 859115.739, 4240067.37...  \n",
       "4  LINESTRING (4237189.007 859678.425, 4237156.94...  "
      ]
     },
     "execution_count": 5,
     "metadata": {},
     "output_type": "execute_result"
    }
   ],
   "source": [
    "bikeways.head()"
   ]
  },
  {
   "cell_type": "code",
   "execution_count": 6,
   "metadata": {},
   "outputs": [
    {
     "data": {
      "text/plain": [
       "Index(['id', 'name', 'type', 'status', 'source', 'geom'], dtype='object')"
      ]
     },
     "execution_count": 6,
     "metadata": {},
     "output_type": "execute_result"
    }
   ],
   "source": [
    "bikeways.columns"
   ]
  },
  {
   "cell_type": "code",
   "execution_count": 7,
   "metadata": {},
   "outputs": [
    {
     "data": {
      "text/plain": [
       "array(['Built', 'Future', None], dtype=object)"
      ]
     },
     "execution_count": 7,
     "metadata": {},
     "output_type": "execute_result"
    }
   ],
   "source": [
    "bikeways['status'].unique()"
   ]
  },
  {
   "cell_type": "code",
   "execution_count": 8,
   "metadata": {},
   "outputs": [
    {
     "data": {
      "text/plain": [
       "array(['Paved Shoulder', 'Bike Route',\n",
       "       'Pedestrian and Bicycle Access Way', 'Bike Lane',\n",
       "       'Shared Use Path', 'Neighborhood Greenway', 'Sidewalk',\n",
       "       'Connectivity for Routing', None], dtype=object)"
      ]
     },
     "execution_count": 8,
     "metadata": {},
     "output_type": "execute_result"
    }
   ],
   "source": [
    "bikeways['type'].unique()"
   ]
  },
  {
   "cell_type": "code",
   "execution_count": 9,
   "metadata": {},
   "outputs": [
    {
     "data": {
      "text/plain": [
       "array(['Bike Lane', 'Shared Use Path',\n",
       "       'Pedestrian and Bicycle Access Way', 'Bike Route'], dtype=object)"
      ]
     },
     "execution_count": 9,
     "metadata": {},
     "output_type": "execute_result"
    }
   ],
   "source": [
    "bikeways[bikeways['status'] == 'Future']['type'].unique()"
   ]
  },
  {
   "cell_type": "code",
   "execution_count": 10,
   "metadata": {},
   "outputs": [],
   "source": [
    "bikeways = bikeways[bikeways['status'] != 'Future']"
   ]
  },
  {
   "cell_type": "code",
   "execution_count": 11,
   "metadata": {},
   "outputs": [],
   "source": [
    "outpath = r'T:\\MPO\\RTP\\FY20 2045 Update\\Data and Resources\\PerformanceAnalysis\\sidewalk_bikeway_trails'"
   ]
  },
  {
   "cell_type": "code",
   "execution_count": 13,
   "metadata": {},
   "outputs": [],
   "source": [
    "bikeways.crs = \"EPSG:2914\""
   ]
  },
  {
   "cell_type": "code",
   "execution_count": 14,
   "metadata": {},
   "outputs": [],
   "source": [
    "bikeways = bikeways.to_crs(epsg=3857)"
   ]
  },
  {
   "cell_type": "code",
   "execution_count": 15,
   "metadata": {},
   "outputs": [],
   "source": [
    "bikeways.to_file(os.path.join(outpath, \"bikeways.shp\"))"
   ]
  },
  {
   "cell_type": "code",
   "execution_count": null,
   "metadata": {},
   "outputs": [],
   "source": []
  }
 ],
 "metadata": {
  "kernelspec": {
   "display_name": "Python 3",
   "language": "python",
   "name": "python3"
  },
  "language_info": {
   "codemirror_mode": {
    "name": "ipython",
    "version": 3
   },
   "file_extension": ".py",
   "mimetype": "text/x-python",
   "name": "python",
   "nbconvert_exporter": "python",
   "pygments_lexer": "ipython3",
   "version": "3.8.8"
  }
 },
 "nbformat": 4,
 "nbformat_minor": 4
}

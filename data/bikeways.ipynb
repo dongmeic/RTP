{
 "cells": [
  {
   "cell_type": "code",
   "execution_count": 1,
   "metadata": {},
   "outputs": [],
   "source": [
    "import geopandas as gpd\n",
    "from sqlalchemy import create_engine"
   ]
  },
  {
   "cell_type": "code",
   "execution_count": 2,
   "metadata": {},
   "outputs": [],
   "source": [
    "engine = create_engine(   \n",
    "\"mssql+pyodbc:///?odbc_connect=\"\n",
    "\"Driver%3D%7BODBC+Driver+17+for+SQL+Server%7D%3B\"\n",
    "\"Server%3Drliddb.int.lcog.org%2C5433%3B\"\n",
    "\"Database%3DRLIDGeo%3B\"\n",
    "\"Trusted_Connection%3Dyes%3B\"\n",
    "\"ApplicationIntent%3DReadWrite%3B\"\n",
    "\"WSID%3Dclwrk4087.int.lcog.org%3B\")"
   ]
  },
  {
   "cell_type": "code",
   "execution_count": 6,
   "metadata": {},
   "outputs": [],
   "source": [
    "sql = '''\n",
    "SELECT \n",
    "bike_segid AS id,\n",
    "name,\n",
    "ftypedes AS type,\n",
    "status,\n",
    "source,\n",
    "Shape.STAsBinary() AS geom\n",
    "FROM dbo.BikeFacility;\n",
    "'''"
   ]
  },
  {
   "cell_type": "code",
   "execution_count": 7,
   "metadata": {},
   "outputs": [],
   "source": [
    "bikeways = gpd.GeoDataFrame.from_postgis(sql, engine, geom_col='geom')"
   ]
  },
  {
   "cell_type": "code",
   "execution_count": 8,
   "metadata": {},
   "outputs": [
    {
     "data": {
      "text/html": [
       "<div>\n",
       "<style scoped>\n",
       "    .dataframe tbody tr th:only-of-type {\n",
       "        vertical-align: middle;\n",
       "    }\n",
       "\n",
       "    .dataframe tbody tr th {\n",
       "        vertical-align: top;\n",
       "    }\n",
       "\n",
       "    .dataframe thead th {\n",
       "        text-align: right;\n",
       "    }\n",
       "</style>\n",
       "<table border=\"1\" class=\"dataframe\">\n",
       "  <thead>\n",
       "    <tr style=\"text-align: right;\">\n",
       "      <th></th>\n",
       "      <th>id</th>\n",
       "      <th>name</th>\n",
       "      <th>type</th>\n",
       "      <th>status</th>\n",
       "      <th>source</th>\n",
       "      <th>geom</th>\n",
       "    </tr>\n",
       "  </thead>\n",
       "  <tbody>\n",
       "    <tr>\n",
       "      <th>0</th>\n",
       "      <td>1811.0</td>\n",
       "      <td>None</td>\n",
       "      <td>Bike Lane</td>\n",
       "      <td>Built</td>\n",
       "      <td>LCOG</td>\n",
       "      <td>LINESTRING (4232498.400 890342.859, 4232503.12...</td>\n",
       "    </tr>\n",
       "    <tr>\n",
       "      <th>1</th>\n",
       "      <td>1922.0</td>\n",
       "      <td>None</td>\n",
       "      <td>Bike Lane</td>\n",
       "      <td>Built</td>\n",
       "      <td>EUG</td>\n",
       "      <td>LINESTRING (4221261.880 881716.255, 4221250.79...</td>\n",
       "    </tr>\n",
       "    <tr>\n",
       "      <th>2</th>\n",
       "      <td>334.0</td>\n",
       "      <td>MLK Conn</td>\n",
       "      <td>Shared Use Path</td>\n",
       "      <td>Built</td>\n",
       "      <td>LCOG</td>\n",
       "      <td>LINESTRING (4242375.001 881677.312, 4242391.87...</td>\n",
       "    </tr>\n",
       "    <tr>\n",
       "      <th>3</th>\n",
       "      <td>1386.0</td>\n",
       "      <td>Amazon West Side Path</td>\n",
       "      <td>Shared Use Path</td>\n",
       "      <td>Built</td>\n",
       "      <td>LCOG</td>\n",
       "      <td>LINESTRING (4241981.175 869727.287, 4242063.69...</td>\n",
       "    </tr>\n",
       "    <tr>\n",
       "      <th>4</th>\n",
       "      <td>1088.0</td>\n",
       "      <td>Division Ave Conn Path</td>\n",
       "      <td>Shared Use Path</td>\n",
       "      <td>Built</td>\n",
       "      <td>EUG</td>\n",
       "      <td>LINESTRING (4234560.998 896781.132, 4234578.37...</td>\n",
       "    </tr>\n",
       "  </tbody>\n",
       "</table>\n",
       "</div>"
      ],
      "text/plain": [
       "       id                    name             type status source  \\\n",
       "0  1811.0                    None        Bike Lane  Built   LCOG   \n",
       "1  1922.0                    None        Bike Lane  Built    EUG   \n",
       "2   334.0                MLK Conn  Shared Use Path  Built   LCOG   \n",
       "3  1386.0   Amazon West Side Path  Shared Use Path  Built   LCOG   \n",
       "4  1088.0  Division Ave Conn Path  Shared Use Path  Built    EUG   \n",
       "\n",
       "                                                geom  \n",
       "0  LINESTRING (4232498.400 890342.859, 4232503.12...  \n",
       "1  LINESTRING (4221261.880 881716.255, 4221250.79...  \n",
       "2  LINESTRING (4242375.001 881677.312, 4242391.87...  \n",
       "3  LINESTRING (4241981.175 869727.287, 4242063.69...  \n",
       "4  LINESTRING (4234560.998 896781.132, 4234578.37...  "
      ]
     },
     "execution_count": 8,
     "metadata": {},
     "output_type": "execute_result"
    }
   ],
   "source": [
    "bikeways.head()"
   ]
  },
  {
   "cell_type": "code",
   "execution_count": 9,
   "metadata": {},
   "outputs": [],
   "source": [
    "outpath = r'T:\\MPO\\RTP\\FY20 2045 Update\\Data and Resources\\PerformanceAnalysis'"
   ]
  },
  {
   "cell_type": "code",
   "execution_count": 10,
   "metadata": {},
   "outputs": [],
   "source": [
    "import os"
   ]
  },
  {
   "cell_type": "code",
   "execution_count": 12,
   "metadata": {},
   "outputs": [],
   "source": [
    "bikeways.crs = \"EPSG:2914\""
   ]
  },
  {
   "cell_type": "code",
   "execution_count": 13,
   "metadata": {},
   "outputs": [],
   "source": [
    "bikeways.to_file(os.path.join(outpath, \"bikeways.shp\"))"
   ]
  },
  {
   "cell_type": "code",
   "execution_count": null,
   "metadata": {},
   "outputs": [],
   "source": []
  }
 ],
 "metadata": {
  "kernelspec": {
   "display_name": "Python 3",
   "language": "python",
   "name": "python3"
  },
  "language_info": {
   "codemirror_mode": {
    "name": "ipython",
    "version": 3
   },
   "file_extension": ".py",
   "mimetype": "text/x-python",
   "name": "python",
   "nbconvert_exporter": "python",
   "pygments_lexer": "ipython3",
   "version": "3.7.9"
  }
 },
 "nbformat": 4,
 "nbformat_minor": 4
}

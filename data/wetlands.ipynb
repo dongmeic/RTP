{
 "cells": [
  {
   "cell_type": "code",
   "execution_count": 1,
   "id": "ba7fbc8c",
   "metadata": {},
   "outputs": [],
   "source": [
    "import os\n",
    "import geopandas as gpd"
   ]
  },
  {
   "cell_type": "code",
   "execution_count": 2,
   "id": "48c34848",
   "metadata": {},
   "outputs": [],
   "source": [
    "path = r'T:\\MPO\\RTP\\FY20 2045 Update\\Data and Resources\\Data\\ForAppendixF\\WaterQuality\\Wetlands'"
   ]
  },
  {
   "cell_type": "code",
   "execution_count": 3,
   "id": "e1cabcb3",
   "metadata": {},
   "outputs": [],
   "source": [
    "cob_lwi = gpd.read_file(os.path.join(path, 'Coburg_2000.gdb'), layer='WETLANDS_COB')"
   ]
  },
  {
   "cell_type": "code",
   "execution_count": 4,
   "id": "d0c0ebf6",
   "metadata": {},
   "outputs": [],
   "source": [
    "spr_lwi = gpd.read_file(os.path.join(path, 'Springfield_1998.gdb'), layer='WETLANDS_SPR')"
   ]
  },
  {
   "cell_type": "code",
   "execution_count": 5,
   "id": "2e2e548e",
   "metadata": {},
   "outputs": [],
   "source": [
    "sg_lwi = gpd.read_file(os.path.join(path, 'SpringfieldGlenwood_2010.gdb'), layer='WETLANDS_SG')"
   ]
  },
  {
   "cell_type": "code",
   "execution_count": 6,
   "id": "58115b2f",
   "metadata": {},
   "outputs": [],
   "source": [
    "eug_lwi = gpd.read_file(os.path.join(path, 'Eugene_2005.gdb'), layer='WETLANDS_EUG')"
   ]
  },
  {
   "cell_type": "code",
   "execution_count": 7,
   "id": "727f5c94",
   "metadata": {},
   "outputs": [],
   "source": [
    "we_lwi = gpd.read_file(r'X:\\data\\natural\\eug\\Wetland\\wetlands.shp')"
   ]
  },
  {
   "cell_type": "code",
   "execution_count": 16,
   "id": "578e506e",
   "metadata": {},
   "outputs": [
    {
     "data": {
      "text/plain": [
       "Index(['SITENAME', 'DATA_S_YR', 'CREAT_YR', 'DATA_METH', 'DATA_ACCU',\n",
       "       'COWARDIN', 'COWAR_S_YR', 'HGM', 'HGM_S_YR', 'POLY_S_ID', 'DATA_S_TYP',\n",
       "       'HYD_BAR', 'HYD_DRA', 'HYD_FLO', 'WET_MGT', 'COV_TYP', 'VEG_SPEC',\n",
       "       'VEG_COND', 'VEG_S_YR', 'LSW', 'GOAL_5_17', 'SAC', 'DEVELOP', 'DSL_WD',\n",
       "       'DSL_FILE', 'MOSAIC', 'Acres', 'FIELD_OBS_LWI', 'Shape_Length',\n",
       "       'Shape_Area', 'geometry'],\n",
       "      dtype='object')"
      ]
     },
     "execution_count": 16,
     "metadata": {},
     "output_type": "execute_result"
    }
   ],
   "source": [
    "cob_lwi.columns"
   ]
  },
  {
   "cell_type": "code",
   "execution_count": 17,
   "id": "1a1c5a0b",
   "metadata": {},
   "outputs": [
    {
     "data": {
      "text/plain": [
       "Index(['SITENAME', 'DATA_S_YR', 'CREAT_YR', 'DATA_METH', 'DATA_ACCU',\n",
       "       'COWARDIN', 'COWAR_S_YR', 'HGM', 'HGM_S_YR', 'POLY_S_ID',\n",
       "       'FIELD_OBS_LWI', 'DATA_S_TYP', 'HYD_BAR', 'HYD_DRA', 'HYD_FLO',\n",
       "       'WET_MGT', 'COV_TYP', 'VEG_SPEC', 'VEG_COND', 'VEG_S_YR', 'LSW',\n",
       "       'GOAL_5_17', 'SAC', 'DEVELOP', 'DSL_WD', 'DSL_FILE', 'MOSAIC', 'Acres',\n",
       "       'Shape_Length', 'Shape_Area', 'geometry'],\n",
       "      dtype='object')"
      ]
     },
     "execution_count": 17,
     "metadata": {},
     "output_type": "execute_result"
    }
   ],
   "source": [
    "spr_lwi.columns"
   ]
  },
  {
   "cell_type": "code",
   "execution_count": 18,
   "id": "20c5496e",
   "metadata": {},
   "outputs": [
    {
     "data": {
      "text/plain": [
       "Index(['SITENAME', 'DATA_S_YR', 'CREAT_YR', 'DATA_METH', 'DATA_ACCU',\n",
       "       'COWARDIN', 'COWAR_S_YR', 'HGM', 'HGM_S_YR', 'POLY_S_ID',\n",
       "       'FIELD_OBS_LWI', 'DATA_S_TYP', 'HYD_BAR', 'HYD_DRA', 'HYD_FLO',\n",
       "       'WET_MGT', 'COV_TYP', 'VEG_SPEC', 'VEG_COND', 'VEG_S_YR', 'LSW',\n",
       "       'GOAL_5_17', 'SAC', 'DEVELOP', 'DSL_WD', 'DSL_FILE', 'MOSAIC', 'Acres',\n",
       "       'Shape_Length', 'Shape_Area', 'geometry'],\n",
       "      dtype='object')"
      ]
     },
     "execution_count": 18,
     "metadata": {},
     "output_type": "execute_result"
    }
   ],
   "source": [
    "sg_lwi.columns"
   ]
  },
  {
   "cell_type": "code",
   "execution_count": 19,
   "id": "cf1494f9",
   "metadata": {},
   "outputs": [
    {
     "data": {
      "text/plain": [
       "Index(['SITENAME', 'DATA_S_YR', 'CREAT_YR', 'DATA_METH', 'DATA_ACCU',\n",
       "       'COWARDIN', 'COWAR_S_YR', 'HGM', 'HGM_S_YR', 'POLY_S_ID',\n",
       "       'FIELD_OBS_LWI', 'DATA_S_TYP', 'HYD_BAR', 'HYD_DRA', 'HYD_FLO',\n",
       "       'WET_MGT', 'COV_TYP', 'VEG_SPEC', 'VEG_COND', 'VEG_S_YR', 'LSW',\n",
       "       'GOAL_5_17', 'SAC', 'DEVELOP', 'DSL_WD', 'DSL_FILE', 'MOSAIC', 'Acres',\n",
       "       'Shape_Length', 'Shape_Area', 'geometry'],\n",
       "      dtype='object')"
      ]
     },
     "execution_count": 19,
     "metadata": {},
     "output_type": "execute_result"
    }
   ],
   "source": [
    "eug_lwi.columns"
   ]
  },
  {
   "cell_type": "code",
   "execution_count": 14,
   "id": "8ea39a3f",
   "metadata": {},
   "outputs": [],
   "source": [
    "we_lwi = we_lwi.to_crs(epsg=2992)"
   ]
  },
  {
   "cell_type": "code",
   "execution_count": 20,
   "id": "2c325c50",
   "metadata": {},
   "outputs": [
    {
     "data": {
      "text/plain": [
       "Index(['WETLANDS_', 'WETLANDS_I', 'PROPSTAT', 'ACRES', 'WET_TYPE',\n",
       "       'STUDY_AREA', 'STATUS', 'NEWSTAT', 'SOURCE', 'DATE_', 'SOURCE_NAM',\n",
       "       'OFF_SITE', 'INSIDE', 'DEPTH', 'PROPTYPE', 'BERM', 'DSL_PERMIT',\n",
       "       'ACE_PERMIT', 'geometry'],\n",
       "      dtype='object')"
      ]
     },
     "execution_count": 20,
     "metadata": {},
     "output_type": "execute_result"
    }
   ],
   "source": [
    "we_lwi.columns"
   ]
  },
  {
   "cell_type": "code",
   "execution_count": 21,
   "id": "93df9807",
   "metadata": {},
   "outputs": [],
   "source": [
    "lwi = eug_lwi[['SITENAME', 'Acres', 'geometry']].append(spr_lwi[['SITENAME', 'Acres', 'geometry']])"
   ]
  },
  {
   "cell_type": "code",
   "execution_count": 22,
   "id": "bbe4d7d7",
   "metadata": {},
   "outputs": [],
   "source": [
    "lwi = lwi.append(cob_lwi[['SITENAME', 'Acres', 'geometry']])"
   ]
  },
  {
   "cell_type": "code",
   "execution_count": 23,
   "id": "c9cc0c61",
   "metadata": {},
   "outputs": [],
   "source": [
    "lwi = lwi.append(sg_lwi[['SITENAME', 'Acres', 'geometry']])"
   ]
  },
  {
   "cell_type": "code",
   "execution_count": 25,
   "id": "a177f791",
   "metadata": {},
   "outputs": [
    {
     "data": {
      "text/html": [
       "<div>\n",
       "<style scoped>\n",
       "    .dataframe tbody tr th:only-of-type {\n",
       "        vertical-align: middle;\n",
       "    }\n",
       "\n",
       "    .dataframe tbody tr th {\n",
       "        vertical-align: top;\n",
       "    }\n",
       "\n",
       "    .dataframe thead th {\n",
       "        text-align: right;\n",
       "    }\n",
       "</style>\n",
       "<table border=\"1\" class=\"dataframe\">\n",
       "  <thead>\n",
       "    <tr style=\"text-align: right;\">\n",
       "      <th></th>\n",
       "      <th>SITENAME</th>\n",
       "      <th>Acres</th>\n",
       "      <th>geometry</th>\n",
       "    </tr>\n",
       "  </thead>\n",
       "  <tbody>\n",
       "    <tr>\n",
       "      <th>6</th>\n",
       "      <td>Springfield Glenwood</td>\n",
       "      <td>0.472493</td>\n",
       "      <td>MULTIPOLYGON (((642069.205 846235.061, 642070....</td>\n",
       "    </tr>\n",
       "    <tr>\n",
       "      <th>7</th>\n",
       "      <td>Springfield Glenwood</td>\n",
       "      <td>2.106775</td>\n",
       "      <td>MULTIPOLYGON (((642538.868 846345.369, 642525....</td>\n",
       "    </tr>\n",
       "    <tr>\n",
       "      <th>8</th>\n",
       "      <td>Springfield Glenwood</td>\n",
       "      <td>0.495555</td>\n",
       "      <td>MULTIPOLYGON (((642736.785 844890.745, 642736....</td>\n",
       "    </tr>\n",
       "    <tr>\n",
       "      <th>9</th>\n",
       "      <td>Springfield Glenwood</td>\n",
       "      <td>0.074678</td>\n",
       "      <td>MULTIPOLYGON (((642619.345 844728.716, 642583....</td>\n",
       "    </tr>\n",
       "    <tr>\n",
       "      <th>10</th>\n",
       "      <td>Springfield Glenwood</td>\n",
       "      <td>0.303320</td>\n",
       "      <td>MULTIPOLYGON (((642396.552 845343.387, 642400....</td>\n",
       "    </tr>\n",
       "  </tbody>\n",
       "</table>\n",
       "</div>"
      ],
      "text/plain": [
       "                SITENAME     Acres  \\\n",
       "6   Springfield Glenwood  0.472493   \n",
       "7   Springfield Glenwood  2.106775   \n",
       "8   Springfield Glenwood  0.495555   \n",
       "9   Springfield Glenwood  0.074678   \n",
       "10  Springfield Glenwood  0.303320   \n",
       "\n",
       "                                             geometry  \n",
       "6   MULTIPOLYGON (((642069.205 846235.061, 642070....  \n",
       "7   MULTIPOLYGON (((642538.868 846345.369, 642525....  \n",
       "8   MULTIPOLYGON (((642736.785 844890.745, 642736....  \n",
       "9   MULTIPOLYGON (((642619.345 844728.716, 642583....  \n",
       "10  MULTIPOLYGON (((642396.552 845343.387, 642400....  "
      ]
     },
     "execution_count": 25,
     "metadata": {},
     "output_type": "execute_result"
    }
   ],
   "source": [
    "lwi.tail()"
   ]
  },
  {
   "cell_type": "code",
   "execution_count": 26,
   "id": "f04efc67",
   "metadata": {},
   "outputs": [],
   "source": [
    "we_lwi['SITENAME'] = 'West Eugene'"
   ]
  },
  {
   "cell_type": "code",
   "execution_count": 27,
   "id": "1114ce08",
   "metadata": {},
   "outputs": [],
   "source": [
    "we_lwi.rename(columns={'ACRES':'Acres'}, inplace=True)"
   ]
  },
  {
   "cell_type": "code",
   "execution_count": 29,
   "id": "4ab4aeaa",
   "metadata": {},
   "outputs": [],
   "source": [
    "lwi = lwi.append(we_lwi[['SITENAME', 'Acres', 'geometry']])"
   ]
  },
  {
   "cell_type": "code",
   "execution_count": 30,
   "id": "12182c90",
   "metadata": {},
   "outputs": [],
   "source": [
    "lwi.rename(columns={'SITENAME': 'site', 'Acres':'acres'}, inplace=True)"
   ]
  },
  {
   "cell_type": "code",
   "execution_count": 31,
   "id": "5d6a440b",
   "metadata": {},
   "outputs": [],
   "source": [
    "lwi['notes'] = 'Local Wetlands Inventory'"
   ]
  },
  {
   "cell_type": "code",
   "execution_count": 33,
   "id": "287b05ad",
   "metadata": {},
   "outputs": [],
   "source": [
    "or_nwi = gpd.read_file(r'T:\\MPO\\RTP\\FY20 2045 Update\\Maps\\Appendix F\\Maps4AppendixF\\Maps4AppendixF.gdb', \n",
    "                       layer='OR_Wetlands_Clip')"
   ]
  },
  {
   "cell_type": "code",
   "execution_count": 36,
   "id": "84eb083a",
   "metadata": {},
   "outputs": [],
   "source": [
    "or_nwi['site'] = 'Central Lane'"
   ]
  },
  {
   "cell_type": "code",
   "execution_count": 37,
   "id": "b31255a2",
   "metadata": {},
   "outputs": [],
   "source": [
    "or_nwi.rename(columns={'ACRES':'acres'}, inplace=True)"
   ]
  },
  {
   "cell_type": "code",
   "execution_count": 38,
   "id": "63c7416c",
   "metadata": {},
   "outputs": [],
   "source": [
    "or_nwi['notes'] = 'National Wetlands Inventory'"
   ]
  },
  {
   "cell_type": "code",
   "execution_count": 40,
   "id": "521d078a",
   "metadata": {},
   "outputs": [],
   "source": [
    "or_nwi = or_nwi.to_crs(epsg=2992)"
   ]
  },
  {
   "cell_type": "code",
   "execution_count": 41,
   "id": "33a4c304",
   "metadata": {},
   "outputs": [],
   "source": [
    "wetlands = or_nwi[['site', 'acres', 'notes', 'geometry']].append(lwi[['site', 'acres', 'notes', 'geometry']])"
   ]
  },
  {
   "cell_type": "code",
   "execution_count": 42,
   "id": "e5fc49aa",
   "metadata": {},
   "outputs": [
    {
     "data": {
      "text/html": [
       "<div>\n",
       "<style scoped>\n",
       "    .dataframe tbody tr th:only-of-type {\n",
       "        vertical-align: middle;\n",
       "    }\n",
       "\n",
       "    .dataframe tbody tr th {\n",
       "        vertical-align: top;\n",
       "    }\n",
       "\n",
       "    .dataframe thead th {\n",
       "        text-align: right;\n",
       "    }\n",
       "</style>\n",
       "<table border=\"1\" class=\"dataframe\">\n",
       "  <thead>\n",
       "    <tr style=\"text-align: right;\">\n",
       "      <th></th>\n",
       "      <th>site</th>\n",
       "      <th>acres</th>\n",
       "      <th>notes</th>\n",
       "      <th>geometry</th>\n",
       "    </tr>\n",
       "  </thead>\n",
       "  <tbody>\n",
       "    <tr>\n",
       "      <th>0</th>\n",
       "      <td>Central Lane</td>\n",
       "      <td>0.208836</td>\n",
       "      <td>National Wetlands Inventory</td>\n",
       "      <td>MULTIPOLYGON (((617961.381 839329.806, 617935....</td>\n",
       "    </tr>\n",
       "    <tr>\n",
       "      <th>1</th>\n",
       "      <td>Central Lane</td>\n",
       "      <td>0.190918</td>\n",
       "      <td>National Wetlands Inventory</td>\n",
       "      <td>MULTIPOLYGON (((614532.414 851116.396, 614468....</td>\n",
       "    </tr>\n",
       "    <tr>\n",
       "      <th>2</th>\n",
       "      <td>Central Lane</td>\n",
       "      <td>0.350687</td>\n",
       "      <td>National Wetlands Inventory</td>\n",
       "      <td>MULTIPOLYGON (((619008.864 861154.105, 619008....</td>\n",
       "    </tr>\n",
       "    <tr>\n",
       "      <th>3</th>\n",
       "      <td>Central Lane</td>\n",
       "      <td>1.287783</td>\n",
       "      <td>National Wetlands Inventory</td>\n",
       "      <td>MULTIPOLYGON (((630712.763 868791.180, 630713....</td>\n",
       "    </tr>\n",
       "    <tr>\n",
       "      <th>4</th>\n",
       "      <td>Central Lane</td>\n",
       "      <td>2.490703</td>\n",
       "      <td>National Wetlands Inventory</td>\n",
       "      <td>MULTIPOLYGON (((619104.817 877625.172, 619103....</td>\n",
       "    </tr>\n",
       "  </tbody>\n",
       "</table>\n",
       "</div>"
      ],
      "text/plain": [
       "           site     acres                        notes  \\\n",
       "0  Central Lane  0.208836  National Wetlands Inventory   \n",
       "1  Central Lane  0.190918  National Wetlands Inventory   \n",
       "2  Central Lane  0.350687  National Wetlands Inventory   \n",
       "3  Central Lane  1.287783  National Wetlands Inventory   \n",
       "4  Central Lane  2.490703  National Wetlands Inventory   \n",
       "\n",
       "                                            geometry  \n",
       "0  MULTIPOLYGON (((617961.381 839329.806, 617935....  \n",
       "1  MULTIPOLYGON (((614532.414 851116.396, 614468....  \n",
       "2  MULTIPOLYGON (((619008.864 861154.105, 619008....  \n",
       "3  MULTIPOLYGON (((630712.763 868791.180, 630713....  \n",
       "4  MULTIPOLYGON (((619104.817 877625.172, 619103....  "
      ]
     },
     "execution_count": 42,
     "metadata": {},
     "output_type": "execute_result"
    }
   ],
   "source": [
    "wetlands.head()"
   ]
  },
  {
   "cell_type": "code",
   "execution_count": 43,
   "id": "7082d76b",
   "metadata": {},
   "outputs": [],
   "source": [
    "wetlands.to_file(os.path.join(path, 'wetlandsCLMPO.shp'))"
   ]
  }
 ],
 "metadata": {
  "kernelspec": {
   "display_name": "Python 3",
   "language": "python",
   "name": "python3"
  },
  "language_info": {
   "codemirror_mode": {
    "name": "ipython",
    "version": 3
   },
   "file_extension": ".py",
   "mimetype": "text/x-python",
   "name": "python",
   "nbconvert_exporter": "python",
   "pygments_lexer": "ipython3",
   "version": "3.8.8"
  }
 },
 "nbformat": 4,
 "nbformat_minor": 5
}

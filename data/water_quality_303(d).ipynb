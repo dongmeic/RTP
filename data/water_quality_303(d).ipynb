{
 "cells": [
  {
   "cell_type": "code",
   "execution_count": 1,
   "id": "0cba58e4",
   "metadata": {},
   "outputs": [],
   "source": [
    "import os\n",
    "import geopandas as gpd"
   ]
  },
  {
   "cell_type": "code",
   "execution_count": 2,
   "id": "5363c020",
   "metadata": {},
   "outputs": [],
   "source": [
    "path = r'T:\\MPO\\RTP\\FY20 2045 Update\\Data and Resources\\Data\\ForAppendixF\\WaterQuality'"
   ]
  },
  {
   "cell_type": "code",
   "execution_count": 3,
   "id": "97635274",
   "metadata": {},
   "outputs": [],
   "source": [
    "DEQ303dListedStreams = gpd.read_file(os.path.join(path, 'WQ_2010_IntegratedReport_V3', 'Assessment.gdb'), \n",
    "                                    layer='ORStreamsWaterQuality_2010_V3')"
   ]
  },
  {
   "cell_type": "code",
   "execution_count": 4,
   "id": "f685df15",
   "metadata": {},
   "outputs": [
    {
     "data": {
      "text/plain": [
       "Index(['Segment_ID', 'Assessment_ID', 'Record_ID', 'Stream_Lake_Name',\n",
       "       'Stream_Name', 'Lake_Name', 'Beach_Name', 'LLID_Stream_Lake',\n",
       "       'LLID_Stream', 'LLID_Lake', 'EPA_Beach_ID', 'HUC_4th_Code',\n",
       "       'HUC_4th_Name', 'HUC_3rd_Name', 'Miles', 'RM1', 'RM2', 'SegmentMiles',\n",
       "       'Pollutant', 'Pollutant_ID', 'Season', 'Season_ID', 'AssessmentYear',\n",
       "       'AssessmentDate', 'Action', 'Action_ID', 'Criteria', 'Criteria_ID',\n",
       "       'AffectedUse', 'Listing_Status', 'Status_ID', 'PreviousStatus',\n",
       "       'PreviousAction', 'ListingYear', 'TMDLInfo', 'Comments', 'Shape_Length',\n",
       "       'Summary', 'geometry'],\n",
       "      dtype='object')"
      ]
     },
     "execution_count": 4,
     "metadata": {},
     "output_type": "execute_result"
    }
   ],
   "source": [
    "DEQ303dListedStreams.columns"
   ]
  },
  {
   "cell_type": "code",
   "execution_count": 5,
   "id": "59278d2f",
   "metadata": {},
   "outputs": [
    {
     "data": {
      "text/plain": [
       "array(['Cat 5: Water quality limited, 303(d) list, TMDL needed',\n",
       "       'Attaining', '303(d)', 'Insufficient data', 'TMDL approved',\n",
       "       'Cat 3:  Insufficient data',\n",
       "       'Water quality limited not needing a TMDL',\n",
       "       'Cat 3B:  Potential concern',\n",
       "       'Cat 2:  Attaining some criteria/uses',\n",
       "       'Cat 4A:  Water quality limited, TMDL approved',\n",
       "       'Potential concern', 'Criteria change or use clarification',\n",
       "       'Segment modified', 'Inactive',\n",
       "       'Cat 3C: Impairing pollutant unknown',\n",
       "       'Cat 4B:  Water quality limited, other control measures',\n",
       "       'Cat 4C:  Water quality limited, not a pollutant',\n",
       "       'Aesthetics; Livestock watering; Fishing; Water contact recreation; Water supply'],\n",
       "      dtype=object)"
      ]
     },
     "execution_count": 5,
     "metadata": {},
     "output_type": "execute_result"
    }
   ],
   "source": [
    "DEQ303dListedStreams.Listing_Status.unique()"
   ]
  },
  {
   "cell_type": "code",
   "execution_count": 6,
   "id": "6e58d033",
   "metadata": {},
   "outputs": [],
   "source": [
    "DEQ303dListedStreams = DEQ303dListedStreams[DEQ303dListedStreams.Listing_Status.isin(['Cat 5: Water quality limited, 303(d) list, TMDL needed', \n",
    "                                                                                      '303(d)'])]"
   ]
  },
  {
   "cell_type": "code",
   "execution_count": 7,
   "id": "d36f5e86",
   "metadata": {},
   "outputs": [
    {
     "data": {
      "text/plain": [
       "(1839, 39)"
      ]
     },
     "execution_count": 7,
     "metadata": {},
     "output_type": "execute_result"
    }
   ],
   "source": [
    "DEQ303dListedStreams.shape"
   ]
  },
  {
   "cell_type": "code",
   "execution_count": 13,
   "id": "e610a2b0",
   "metadata": {},
   "outputs": [
    {
     "data": {
      "text/plain": [
       "829"
      ]
     },
     "execution_count": 13,
     "metadata": {},
     "output_type": "execute_result"
    }
   ],
   "source": [
    "len(DEQ303dListedStreams.Stream_Lake_Name.unique())"
   ]
  },
  {
   "cell_type": "code",
   "execution_count": 14,
   "id": "24c5894a",
   "metadata": {},
   "outputs": [],
   "source": [
    "DEQ303dListedStreams = DEQ303dListedStreams.rename(columns={'Assessment_ID':'AssessID', \n",
    "                                                            'Stream_Lake_Name':'Name',\n",
    "                                                            'AssessmentYear':'AssessYear',\n",
    "                                                            'Listing_Status': 'Status'})"
   ]
  },
  {
   "cell_type": "code",
   "execution_count": 15,
   "id": "c27ec109",
   "metadata": {},
   "outputs": [],
   "source": [
    "DEQ303dListedStreams = DEQ303dListedStreams[['Segment_ID', 'Record_ID', 'AssessID', 'Name', 'Status',\n",
    "                                             'AssessYear', 'Comments', 'Summary', 'geometry']]"
   ]
  },
  {
   "cell_type": "code",
   "execution_count": 17,
   "id": "c571823b",
   "metadata": {},
   "outputs": [
    {
     "data": {
      "text/plain": [
       "array([' ', 'Impaired conditions downstream of discharge outfall.',\n",
       "       'Corrected record (sda 12DEC2013). ',\n",
       "       'EPA error - duplicate listing. Duplicate (see Assessment_ID = 14137 or  27889)\\r\\n ',\n",
       "       'EPA error - TMDL approved. Documented in TMDL to exceed chlorophyll a criteria. TMDL addresses chlorophyll a associated with algae blooms.  Duplicate Record_ID (20340) & Segment_ID (2560) (see Assesment_ID = 26380 or 28663).\\r\\n',\n",
       "       '',\n",
       "       'EPA error - duplicate listing. Duplicate Record_ID (6550) & Segment_ID (1430) (see Assessment_ID = 18618).\\r\\n',\n",
       "       'EPA error - TMDL approved. Duplicate Record_ID (8025) & Segment_ID (1658) (see Assessment ID = 24513).',\n",
       "       'EPA error - duplicate listing.  See  Assessment_ID = 15123.',\n",
       "       'Note: EPA duplicate listing (see Record_ID = 24599 & Assessment_ID = 28338).',\n",
       "       'EPA created the LLID for this seep instead of using the stream LLID.  The seep (a point feature) is assigned the stream LLID here.  Specific LLIDs exists in EPA data. See also Assessment_ID =28088.',\n",
       "       'Note: EPA duplicate listing (see Record_ID = 24598 & Assessment_ID = 28337).',\n",
       "       'Waterbody name varies as Powder River / Phillips Reservoir (or Mason Lake, Phillips Lake, Mason Reservoir) but is the same location.',\n",
       "       'EPA created the LLID for this seep instead of using the stream LLID.  The seep (a point feature) is assigned the stream LLID here.  Specific LLIDs exists in EPA data. See also Assessment_ID =28090.',\n",
       "       'Note: EPA assigned LLID 1171410437824 to HUC 17050119 Willow, which is not consistent with DEQ information. This record is included here in HUC 17050110 Lower Owyhee.',\n",
       "       'Note: Possible incorrect LLID 1221913420005 that corresponds to Klamath River.',\n",
       "       'Stream is was previously misidentified as Boulder Creek.',\n",
       "       'Error - listing should have been reported in 2004.',\n",
       "       'Small number of reference sites in Northern Basin and Range region. Insufficient information to de-list based on PREDATOR model scores.',\n",
       "       'TMDL does not cover assessments based on new data. New macroinvertebrate data indicate a biological impairment and are not sufficient to de-list.',\n",
       "       '7 health advisories issued by Oregon Harmful Algae Bloom Surveillance (HABS) program through October 2010 based on cell counts or toxicity levels.',\n",
       "       '1 health advisory issued by Oregon Harmful Algae Bloom Surveillance (HABS) program through October 2010 based on cell counts or toxicity levels.',\n",
       "       '1 health advisory issued by US Forest Service through October 2010 based on cell counts or toxicity levels.',\n",
       "       'OR DHS revised fish consumption advisory issued 7/9/1996 due to elevated levels of mercury in fish caught in East Lake. Mercury levels higher than found in 1994.',\n",
       "       '4 health advisories issued by Oregon Harmful Algae Bloom Surveillance (HABS) program through October 2010 based on cell counts or toxicity levels.',\n",
       "       '2 health advisories issued by Oregon Harmful Algae Bloom Surveillance (HABS) program through October 2010 based on cell counts or toxicity levels.',\n",
       "       'OR DHS fish consumption advisory issued 1/18/2006 due to elevated levels of mercury in fish caught in Emigrant Reservoir.',\n",
       "       'EPA error - duplicate listing. Duplicate Record_ID (6550) & Segment_ID (1430) (see Assessment_ID =  28153).\\r\\n',\n",
       "       'Umpqua Basin TMDL approved 4/12/2007 for some pollutants; not all listed pollutants were addressed.',\n",
       "       '3 health advisories issued by Oregon Harmful Algae Bloom Surveillance (HABS) program through October 2010 based on cell counts or toxicity levels.',\n",
       "       'The Willamette Basin TMDL, approved by EPA in 2006, developed a TMDL for mercury. EPA did not approve this TMDL for Amazon Creek.',\n",
       "       'Carlton, City of. 7out of 9 reporting years with high turbidity. PWS has numerous shutdowns due to recent high turbidity. Documented in Turbidity Report.',\n",
       "       'The Willamette Basin TMDL, approved by EPA in 2006, developed a TMDL for temperature in the Long Tom River based on Oregon’s cool water temperature criterion. EPA deferred approval of this TMDL.',\n",
       "       'Yamhill, City of. 8 out of 9 reporting years with high turbidity. PWS has numerous shutdowns and was forced to add pre-treatment to handle high turbidity. Documented in Turbidity Report.',\n",
       "       '1 health advisory issued by Oregon Harmful Algae Bloom Surveillance (HABS) program through October 2010 based on cell counts or toxicity levels. Related to Lawson Bar.',\n",
       "       '1 health advisory issued by Oregon Harmful Algae Bloom Surveillance (HABS) program through October 2010 based on cell counts or toxicity levels.  Ref – Kahn, Jacob.  Lake Selmac Toxic Algal Sampling 2004 Summary Report. Aquatic Ecosystem Sciences, LLC.',\n",
       "       'Documented reports of excessive growths of nonnative aquatic plants, Myriophyllum aquaticum, commonly called parrotfeather or parrotsfeather, which are on ODA’s \"B\" list of Noxious Weeds.',\n",
       "       'Siletz, City of. 6 out of 9 reporting years with high turbidity. PWS has numerous shutdowns and is being forced to add raw water storage to handle recent high turbidity. Documented in Turbidity Report.',\n",
       "       'Arch Cape Water District. 4 out of 4 reporting years with high turbidity. PWS has numerous shutdowns and is being forced to upgrade treatment plant to handle recent high turbidity. Documented in Turbidity Report.',\n",
       "       'EPA error - duplicate listing.  See  Assessment_ID = 28509.',\n",
       "       '11 Beach Advisories issued when single sample exceeded 158 organisms.',\n",
       "       '9 Beach Advisories issued when single sample exceeded 158 organisms.',\n",
       "       '8 Beach Advisories issued when single sample exceeded 158 organisms.',\n",
       "       '3 Beach Advisories issued when single sample exceeded 158 organisms.',\n",
       "       '5 Beach Advisories issued when single sample exceeded 158 organisms.',\n",
       "       '4 Beach Advisories issued when single sample exceeded 158 organisms.',\n",
       "       '1 Beach Advisories issued when single sample exceeded 158 organisms.',\n",
       "       '10 Beach Advisories issued when single sample exceeded 158 organisms.',\n",
       "       '2 Beach Advisories issued when single sample exceeded 158 organisms.'],\n",
       "      dtype=object)"
      ]
     },
     "execution_count": 17,
     "metadata": {},
     "output_type": "execute_result"
    }
   ],
   "source": [
    "DEQ303dListedStreams.Comments.unique()"
   ]
  },
  {
   "cell_type": "code",
   "execution_count": 18,
   "id": "56d5bf8c",
   "metadata": {},
   "outputs": [
    {
     "data": {
      "text/html": [
       "<div>\n",
       "<style scoped>\n",
       "    .dataframe tbody tr th:only-of-type {\n",
       "        vertical-align: middle;\n",
       "    }\n",
       "\n",
       "    .dataframe tbody tr th {\n",
       "        vertical-align: top;\n",
       "    }\n",
       "\n",
       "    .dataframe thead th {\n",
       "        text-align: right;\n",
       "    }\n",
       "</style>\n",
       "<table border=\"1\" class=\"dataframe\">\n",
       "  <thead>\n",
       "    <tr style=\"text-align: right;\">\n",
       "      <th></th>\n",
       "      <th>Segment_ID</th>\n",
       "      <th>Record_ID</th>\n",
       "      <th>AssessID</th>\n",
       "      <th>Name</th>\n",
       "      <th>Status</th>\n",
       "      <th>AssessYear</th>\n",
       "      <th>Comments</th>\n",
       "      <th>Summary</th>\n",
       "      <th>geometry</th>\n",
       "    </tr>\n",
       "  </thead>\n",
       "  <tbody>\n",
       "    <tr>\n",
       "      <th>386</th>\n",
       "      <td>7716</td>\n",
       "      <td>20847</td>\n",
       "      <td>27889</td>\n",
       "      <td>Burnt River</td>\n",
       "      <td>Cat 5: Water quality limited, 303(d) list, TMD...</td>\n",
       "      <td>2010</td>\n",
       "      <td>EPA error - duplicate listing. Duplicate (see ...</td>\n",
       "      <td>EPA addition to 303(d) list 12/14/2012:  Four ...</td>\n",
       "      <td>MULTILINESTRING Z ((2168166.181 970807.906 0.0...</td>\n",
       "    </tr>\n",
       "  </tbody>\n",
       "</table>\n",
       "</div>"
      ],
      "text/plain": [
       "     Segment_ID  Record_ID  AssessID         Name  \\\n",
       "386        7716      20847     27889  Burnt River   \n",
       "\n",
       "                                                Status  AssessYear  \\\n",
       "386  Cat 5: Water quality limited, 303(d) list, TMD...        2010   \n",
       "\n",
       "                                              Comments  \\\n",
       "386  EPA error - duplicate listing. Duplicate (see ...   \n",
       "\n",
       "                                               Summary  \\\n",
       "386  EPA addition to 303(d) list 12/14/2012:  Four ...   \n",
       "\n",
       "                                              geometry  \n",
       "386  MULTILINESTRING Z ((2168166.181 970807.906 0.0...  "
      ]
     },
     "execution_count": 18,
     "metadata": {},
     "output_type": "execute_result"
    }
   ],
   "source": [
    "DEQ303dListedStreams[DEQ303dListedStreams.Comments == 'EPA error - duplicate listing. Duplicate (see Assessment_ID = 14137 or  27889)\\r\\n ']"
   ]
  },
  {
   "cell_type": "code",
   "execution_count": 23,
   "id": "76252d14",
   "metadata": {},
   "outputs": [
    {
     "data": {
      "text/plain": [
       "1364"
      ]
     },
     "execution_count": 23,
     "metadata": {},
     "output_type": "execute_result"
    }
   ],
   "source": [
    "len(DEQ303dListedStreams.Segment_ID.unique())"
   ]
  },
  {
   "cell_type": "code",
   "execution_count": 24,
   "id": "1154a685",
   "metadata": {},
   "outputs": [
    {
     "data": {
      "text/plain": [
       "1839"
      ]
     },
     "execution_count": 24,
     "metadata": {},
     "output_type": "execute_result"
    }
   ],
   "source": [
    "DEQ303dListedStreams.shape[0]"
   ]
  },
  {
   "cell_type": "code",
   "execution_count": 25,
   "id": "819995cd",
   "metadata": {},
   "outputs": [
    {
     "data": {
      "text/plain": [
       "1836"
      ]
     },
     "execution_count": 25,
     "metadata": {},
     "output_type": "execute_result"
    }
   ],
   "source": [
    "len(DEQ303dListedStreams.AssessID.unique())"
   ]
  },
  {
   "cell_type": "code",
   "execution_count": 26,
   "id": "c354c494",
   "metadata": {},
   "outputs": [
    {
     "data": {
      "text/plain": [
       "1350"
      ]
     },
     "execution_count": 26,
     "metadata": {},
     "output_type": "execute_result"
    }
   ],
   "source": [
    "len(DEQ303dListedStreams.geometry.unique())"
   ]
  },
  {
   "cell_type": "code",
   "execution_count": 27,
   "id": "3265c7e8",
   "metadata": {},
   "outputs": [],
   "source": [
    "DEQ303dListedStreams.to_file(os.path.join(path, 'DEQ303dListedStreams.shp'))"
   ]
  }
 ],
 "metadata": {
  "kernelspec": {
   "display_name": "Python 3",
   "language": "python",
   "name": "python3"
  },
  "language_info": {
   "codemirror_mode": {
    "name": "ipython",
    "version": 3
   },
   "file_extension": ".py",
   "mimetype": "text/x-python",
   "name": "python",
   "nbconvert_exporter": "python",
   "pygments_lexer": "ipython3",
   "version": "3.8.8"
  }
 },
 "nbformat": 4,
 "nbformat_minor": 5
}

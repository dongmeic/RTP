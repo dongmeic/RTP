{
 "cells": [
  {
   "cell_type": "code",
   "execution_count": 1,
   "id": "invalid-travel",
   "metadata": {},
   "outputs": [],
   "source": [
    "import propy_utilities as ppu"
   ]
  },
  {
   "cell_type": "code",
   "execution_count": 2,
   "id": "tropical-demonstration",
   "metadata": {},
   "outputs": [],
   "source": [
    "url_string = 'https://gateway.maps.rlid.org/maps1/rest/services/MPO/Interactive_Bike_Map/MapServer/13?f=pjson'"
   ]
  },
  {
   "cell_type": "code",
   "execution_count": 7,
   "id": "short-berkeley",
   "metadata": {},
   "outputs": [],
   "source": [
    "filename = 'BikeBoulevard1'"
   ]
  },
  {
   "cell_type": "markdown",
   "id": "olive-defensive",
   "metadata": {},
   "source": [
    "ppu.json2shp(url_string, filename)"
   ]
  },
  {
   "cell_type": "code",
   "execution_count": null,
   "id": "durable-standing",
   "metadata": {},
   "outputs": [],
   "source": []
  }
 ],
 "metadata": {
  "kernelspec": {
   "display_name": "Python 3",
   "language": "python",
   "name": "python3"
  },
  "language_info": {
   "codemirror_mode": {
    "name": "ipython",
    "version": 3
   },
   "file_extension": ".py",
   "mimetype": "text/x-python",
   "name": "python",
   "nbconvert_exporter": "python",
   "pygments_lexer": "ipython3",
   "version": "3.8.8"
  }
 },
 "nbformat": 4,
 "nbformat_minor": 5
}

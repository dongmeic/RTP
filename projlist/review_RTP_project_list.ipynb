{
 "cells": [
  {
   "cell_type": "code",
   "execution_count": 46,
   "id": "d69e3844",
   "metadata": {},
   "outputs": [],
   "source": [
    "import pandas as pd\n",
    "import numpy as np"
   ]
  },
  {
   "cell_type": "code",
   "execution_count": 3,
   "id": "71024da4",
   "metadata": {},
   "outputs": [
    {
     "data": {
      "text/plain": [
       "['Auto Constrained - Arterial Lin',\n",
       " 'Auto Constrained - Added Fwy',\n",
       " 'Auto Constrained - Arterial Cap',\n",
       " 'Auto Constrained - New Collecto',\n",
       " 'Auto Constrained - Urban Stnds',\n",
       " 'Auto Constrained - Study',\n",
       " 'Auto Constrained - TOD',\n",
       " 'Auto Illustrative - New Arteria',\n",
       " 'Auto Illustrative - New Collect',\n",
       " 'Auto Illustrative - Art Cap',\n",
       " 'Auto Illustrative - Added Freew',\n",
       " 'Auto Illustrative - Urban Stnds',\n",
       " 'Transit Constrained',\n",
       " 'Transit Illustrative',\n",
       " 'Bike Constrained - woutRd',\n",
       " 'Bike Constrained - wRd',\n",
       " 'Bike Constrained - onstreet w',\n",
       " 'Bike Constrained - onstreet wou',\n",
       " 'Bike Illustrative - woutRD',\n",
       " 'Bike Illustrative - withRd',\n",
       " 'Bike Illustrative - onstreet w',\n",
       " 'Table Data',\n",
       " 'Bike Illustrative onstreet wout']"
      ]
     },
     "execution_count": 3,
     "metadata": {},
     "output_type": "execute_result"
    }
   ],
   "source": [
    "# tried office365 API to access via url and didn't work due to issues with the installation of package\n",
    "# download the file and save it in the same path\n",
    "#url = 'https://lanecouncilofgovernments-my.sharepoint.com/:x:/g/personal/sshoaf_lcog_org/EaiRosQicVhNrRvpKjgrZ9cByrC1Z6D7esomrXNvMsHxUw?e=VFaLaP'\n",
    "xl = pd.ExcelFile('Working DRAFT 2045 Project List.xlsx')\n",
    "xl.sheet_names"
   ]
  },
  {
   "cell_type": "code",
   "execution_count": 4,
   "id": "ed18bd21",
   "metadata": {},
   "outputs": [],
   "source": [
    "sheet_name = xl.sheet_names[0]"
   ]
  },
  {
   "cell_type": "code",
   "execution_count": 26,
   "id": "31cc31dd",
   "metadata": {},
   "outputs": [],
   "source": [
    "df = xl.parse(sheet_name)"
   ]
  },
  {
   "cell_type": "code",
   "execution_count": 34,
   "id": "45c70eb2",
   "metadata": {},
   "outputs": [
    {
     "data": {
      "text/plain": [
       "'New Arterial Link or Interchange'"
      ]
     },
     "execution_count": 34,
     "metadata": {},
     "output_type": "execute_result"
    }
   ],
   "source": [
    "df['Name'][0].split(\":  \")[1]"
   ]
  },
  {
   "cell_type": "code",
   "execution_count": 49,
   "id": "bfd7efeb",
   "metadata": {},
   "outputs": [],
   "source": [
    "df = df.drop(labels=0, axis=0)"
   ]
  },
  {
   "cell_type": "code",
   "execution_count": 12,
   "id": "66e38c1e",
   "metadata": {},
   "outputs": [
    {
     "data": {
      "text/plain": [
       "['Name',\n",
       " 'Geographic Limits',\n",
       " 'Description',\n",
       " 'Primary\\nJurisdiction',\n",
       " 'Air Quality Status',\n",
       " 'Estimated Cost (20XX)',\n",
       " 'Estimated Year of Construction\\n(4-Year Window)',\n",
       " 'Year of Construction\\nCost Range',\n",
       " 'Unnamed: 8',\n",
       " 'Length',\n",
       " 'RTP #',\n",
       " 'Federal Functional Class',\n",
       " 'Jurisdictional Project #',\n",
       " 'Project Status? (Completed, incomplete, etc.)']"
      ]
     },
     "execution_count": 12,
     "metadata": {},
     "output_type": "execute_result"
    }
   ],
   "source": [
    "list(df.columns)"
   ]
  },
  {
   "cell_type": "code",
   "execution_count": 13,
   "id": "10adbea6",
   "metadata": {},
   "outputs": [],
   "source": [
    "import re"
   ]
  },
  {
   "cell_type": "code",
   "execution_count": 16,
   "id": "e8714a63",
   "metadata": {},
   "outputs": [
    {
     "data": {
      "text/plain": [
       "['Auto Constrained - Arterial Lin',\n",
       " 'Auto Constrained - Added Fwy',\n",
       " 'Auto Constrained - Arterial Cap',\n",
       " 'Auto Constrained - New Collecto',\n",
       " 'Auto Constrained - Urban Stnds',\n",
       " 'Auto Constrained - Study',\n",
       " 'Auto Constrained - TOD']"
      ]
     },
     "execution_count": 16,
     "metadata": {},
     "output_type": "execute_result"
    }
   ],
   "source": [
    "sheetList = xl.sheet_names\n",
    " \n",
    "pattern = \"Auto Constrained\"\n",
    " \n",
    "[sheet for sheet in sheetList if re.match(pattern, sheet)]"
   ]
  },
  {
   "cell_type": "code",
   "execution_count": 50,
   "id": "76248be7",
   "metadata": {},
   "outputs": [
    {
     "data": {
      "text/plain": [
       "array([512, 27, 30], dtype=object)"
      ]
     },
     "execution_count": 50,
     "metadata": {},
     "output_type": "execute_result"
    }
   ],
   "source": [
    "df['RTP #'].unique()"
   ]
  },
  {
   "cell_type": "code",
   "execution_count": 18,
   "id": "bef91370",
   "metadata": {},
   "outputs": [],
   "source": [
    "def getSheetnames(excel='Working DRAFT 2045 Project List.xlsx',\n",
    "                 pattern='Auto Constrained'):\n",
    "    xl = pd.ExcelFile(excel)\n",
    "    sheetList = xl.sheet_names\n",
    "    return [sheet for sheet in sheetList if re.match(pattern, sheet)]"
   ]
  },
  {
   "cell_type": "code",
   "execution_count": 118,
   "id": "81b71638",
   "metadata": {},
   "outputs": [],
   "source": [
    "def getRTPid(excel='Working DRAFT 2045 Project List.xlsx',\n",
    "             sheet_name='Auto Constrained - Arterial Lin'):\n",
    "    xl = pd.ExcelFile(excel)\n",
    "    df = xl.parse(sheet_name)\n",
    "    name = df['Name'][0].split(\":\")[1].lstrip()\n",
    "    df = df.drop(labels=0, axis=0)\n",
    "    rtplist = df['RTP #'].unique()\n",
    "    strlist = [item for item in rtplist if type(item) == str]\n",
    "    if len(strlist) > 0:\n",
    "        for s in strlist:\n",
    "            rtplist = rtplist[rtplist != s]\n",
    "    b = [x for x in rtplist if str(x) != 'nan']\n",
    "    res = [ele for ele in b if ele > 0]\n",
    "    return name, res"
   ]
  },
  {
   "cell_type": "code",
   "execution_count": 91,
   "id": "1e7f4a10",
   "metadata": {},
   "outputs": [],
   "source": [
    "sheet_name='Auto Constrained - Study'"
   ]
  },
  {
   "cell_type": "code",
   "execution_count": 92,
   "id": "2691c122",
   "metadata": {},
   "outputs": [],
   "source": [
    "df = xl.parse(sheet_name)"
   ]
  },
  {
   "cell_type": "code",
   "execution_count": 93,
   "id": "25284ce5",
   "metadata": {},
   "outputs": [
    {
     "data": {
      "text/plain": [
       "'Study'"
      ]
     },
     "execution_count": 93,
     "metadata": {},
     "output_type": "execute_result"
    }
   ],
   "source": [
    "df['Name'][0].split(\":\")[1].lstrip()"
   ]
  },
  {
   "cell_type": "code",
   "execution_count": 94,
   "id": "eb2ad838",
   "metadata": {},
   "outputs": [],
   "source": [
    "df = df.drop(labels=0, axis=0)"
   ]
  },
  {
   "cell_type": "code",
   "execution_count": 95,
   "id": "dc45d16a",
   "metadata": {
    "scrolled": true
   },
   "outputs": [],
   "source": [
    "rtplist = df['RTP #'].unique()"
   ]
  },
  {
   "cell_type": "code",
   "execution_count": 96,
   "id": "e40ea025",
   "metadata": {},
   "outputs": [
    {
     "data": {
      "text/plain": [
       "array([96, 835, 838, 608, 718, 823, 818, 849, 819, 916, 815, 824, 829,\n",
       "       831, 917, 918, 26, 31, '\\xa0', 210, 102, 557, '485, 454', 211, 555,\n",
       "       nan], dtype=object)"
      ]
     },
     "execution_count": 96,
     "metadata": {},
     "output_type": "execute_result"
    }
   ],
   "source": [
    "rtplist"
   ]
  },
  {
   "cell_type": "code",
   "execution_count": 124,
   "id": "a525746b",
   "metadata": {},
   "outputs": [
    {
     "data": {
      "text/plain": [
       "['\\xa0', '485, 454']"
      ]
     },
     "execution_count": 124,
     "metadata": {},
     "output_type": "execute_result"
    }
   ],
   "source": [
    "[item for item in df['RTP #'].unique() if type(item) is str]"
   ]
  },
  {
   "cell_type": "code",
   "execution_count": 125,
   "id": "379f3440",
   "metadata": {},
   "outputs": [],
   "source": [
    "rtplist = df['RTP #'].unique()\n",
    "strlist = [item for item in rtplist if type(item) is str]\n",
    "if len(strlist) > 0:\n",
    "    for s in strlist:\n",
    "        rtplist = rtplist[rtplist != s]"
   ]
  },
  {
   "cell_type": "code",
   "execution_count": 136,
   "id": "6322b65b",
   "metadata": {},
   "outputs": [
    {
     "data": {
      "text/plain": [
       "array([96, 835, 838, 608, 718, 823, 818, 849, 819, 916, 815, 824, 829,\n",
       "       831, 917, 918, 26, 31, 210, 102, 557, 211, 555, nan], dtype=object)"
      ]
     },
     "execution_count": 136,
     "metadata": {},
     "output_type": "execute_result"
    }
   ],
   "source": [
    "a = rtplist\n",
    "a"
   ]
  },
  {
   "cell_type": "code",
   "execution_count": 141,
   "id": "1f1e2256",
   "metadata": {},
   "outputs": [
    {
     "data": {
      "text/plain": [
       "array([ 96., 835., 838., 608., 718., 823., 818., 849., 819., 916., 815.,\n",
       "       824., 829., 831., 917., 918.,  26.,  31., 210., 102., 557., 211.,\n",
       "       555.])"
      ]
     },
     "execution_count": 141,
     "metadata": {},
     "output_type": "execute_result"
    }
   ],
   "source": [
    "a = a.astype(float)\n",
    "a[~np.isnan(a)]"
   ]
  },
  {
   "cell_type": "code",
   "execution_count": 133,
   "id": "9b521607",
   "metadata": {},
   "outputs": [
    {
     "data": {
      "text/plain": [
       "int"
      ]
     },
     "execution_count": 133,
     "metadata": {},
     "output_type": "execute_result"
    }
   ],
   "source": [
    "type(a[0])"
   ]
  },
  {
   "cell_type": "code",
   "execution_count": null,
   "id": "1c28a14d",
   "metadata": {},
   "outputs": [],
   "source": []
  },
  {
   "cell_type": "code",
   "execution_count": null,
   "id": "bf9feb15",
   "metadata": {},
   "outputs": [],
   "source": []
  }
 ],
 "metadata": {
  "kernelspec": {
   "display_name": "Python 3",
   "language": "python",
   "name": "python3"
  },
  "language_info": {
   "codemirror_mode": {
    "name": "ipython",
    "version": 3
   },
   "file_extension": ".py",
   "mimetype": "text/x-python",
   "name": "python",
   "nbconvert_exporter": "python",
   "pygments_lexer": "ipython3",
   "version": "3.8.8"
  }
 },
 "nbformat": 4,
 "nbformat_minor": 5
}

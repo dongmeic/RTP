{
 "cells": [
  {
   "cell_type": "code",
   "execution_count": 46,
   "id": "75968413",
   "metadata": {},
   "outputs": [],
   "source": [
    "import pandas as pd\n",
    "import numpy as np"
   ]
  },
  {
   "cell_type": "code",
   "execution_count": 3,
   "id": "39f51bd8",
   "metadata": {},
   "outputs": [
    {
     "data": {
      "text/plain": [
       "['Auto Constrained - Arterial Lin',\n",
       " 'Auto Constrained - Added Fwy',\n",
       " 'Auto Constrained - Arterial Cap',\n",
       " 'Auto Constrained - New Collecto',\n",
       " 'Auto Constrained - Urban Stnds',\n",
       " 'Auto Constrained - Study',\n",
       " 'Auto Constrained - TOD',\n",
       " 'Auto Illustrative - New Arteria',\n",
       " 'Auto Illustrative - New Collect',\n",
       " 'Auto Illustrative - Art Cap',\n",
       " 'Auto Illustrative - Added Freew',\n",
       " 'Auto Illustrative - Urban Stnds',\n",
       " 'Transit Constrained',\n",
       " 'Transit Illustrative',\n",
       " 'Bike Constrained - woutRd',\n",
       " 'Bike Constrained - wRd',\n",
       " 'Bike Constrained - onstreet w',\n",
       " 'Bike Constrained - onstreet wou',\n",
       " 'Bike Illustrative - woutRD',\n",
       " 'Bike Illustrative - withRd',\n",
       " 'Bike Illustrative - onstreet w',\n",
       " 'Table Data',\n",
       " 'Bike Illustrative onstreet wout']"
      ]
     },
     "execution_count": 3,
     "metadata": {},
     "output_type": "execute_result"
    }
   ],
   "source": [
    "# tried office365 API to access via url and didn't work due to issues with the installation of package\n",
    "# download the file and save it in the same path\n",
    "#url = 'https://lanecouncilofgovernments-my.sharepoint.com/:x:/g/personal/sshoaf_lcog_org/EaiRosQicVhNrRvpKjgrZ9cByrC1Z6D7esomrXNvMsHxUw?e=VFaLaP'\n",
    "xl = pd.ExcelFile('Working DRAFT 2045 Project List.xlsx')\n",
    "xl.sheet_names"
   ]
  },
  {
   "cell_type": "code",
   "execution_count": 4,
   "id": "b576ec6a",
   "metadata": {},
   "outputs": [],
   "source": [
    "sheet_name = xl.sheet_names[0]"
   ]
  },
  {
   "cell_type": "code",
   "execution_count": 142,
   "id": "e42dc810",
   "metadata": {},
   "outputs": [],
   "source": [
    "df = xl.parse('Auto Illustrative - New Arteria')"
   ]
  },
  {
   "cell_type": "code",
   "execution_count": 144,
   "id": "0664739e",
   "metadata": {},
   "outputs": [
    {
     "data": {
      "text/plain": [
       "(0, 14)"
      ]
     },
     "execution_count": 144,
     "metadata": {},
     "output_type": "execute_result"
    }
   ],
   "source": [
    "df.shape"
   ]
  },
  {
   "cell_type": "code",
   "execution_count": 49,
   "id": "2232dd8e",
   "metadata": {},
   "outputs": [],
   "source": [
    "df = df.drop(labels=0, axis=0)"
   ]
  },
  {
   "cell_type": "code",
   "execution_count": 12,
   "id": "740431a2",
   "metadata": {},
   "outputs": [
    {
     "data": {
      "text/plain": [
       "['Name',\n",
       " 'Geographic Limits',\n",
       " 'Description',\n",
       " 'Primary\\nJurisdiction',\n",
       " 'Air Quality Status',\n",
       " 'Estimated Cost (20XX)',\n",
       " 'Estimated Year of Construction\\n(4-Year Window)',\n",
       " 'Year of Construction\\nCost Range',\n",
       " 'Unnamed: 8',\n",
       " 'Length',\n",
       " 'RTP #',\n",
       " 'Federal Functional Class',\n",
       " 'Jurisdictional Project #',\n",
       " 'Project Status? (Completed, incomplete, etc.)']"
      ]
     },
     "execution_count": 12,
     "metadata": {},
     "output_type": "execute_result"
    }
   ],
   "source": [
    "list(df.columns)"
   ]
  },
  {
   "cell_type": "code",
   "execution_count": 13,
   "id": "480808cb",
   "metadata": {},
   "outputs": [],
   "source": [
    "import re"
   ]
  },
  {
   "cell_type": "code",
   "execution_count": 16,
   "id": "8e253319",
   "metadata": {},
   "outputs": [
    {
     "data": {
      "text/plain": [
       "['Auto Constrained - Arterial Lin',\n",
       " 'Auto Constrained - Added Fwy',\n",
       " 'Auto Constrained - Arterial Cap',\n",
       " 'Auto Constrained - New Collecto',\n",
       " 'Auto Constrained - Urban Stnds',\n",
       " 'Auto Constrained - Study',\n",
       " 'Auto Constrained - TOD']"
      ]
     },
     "execution_count": 16,
     "metadata": {},
     "output_type": "execute_result"
    }
   ],
   "source": [
    "sheetList = xl.sheet_names\n",
    " \n",
    "pattern = \"Auto Constrained\"\n",
    " \n",
    "[sheet for sheet in sheetList if re.match(pattern, sheet)]"
   ]
  },
  {
   "cell_type": "code",
   "execution_count": 50,
   "id": "a8355308",
   "metadata": {},
   "outputs": [
    {
     "data": {
      "text/plain": [
       "array([512, 27, 30], dtype=object)"
      ]
     },
     "execution_count": 50,
     "metadata": {},
     "output_type": "execute_result"
    }
   ],
   "source": [
    "df['RTP #'].unique()"
   ]
  },
  {
   "cell_type": "code",
   "execution_count": 18,
   "id": "c21cd584",
   "metadata": {},
   "outputs": [],
   "source": [
    "def getSheetnames(excel='Working DRAFT 2045 Project List.xlsx',\n",
    "                 pattern='Auto Constrained'):\n",
    "    xl = pd.ExcelFile(excel)\n",
    "    sheetList = xl.sheet_names\n",
    "    return [sheet for sheet in sheetList if re.match(pattern, sheet)]"
   ]
  },
  {
   "cell_type": "code",
   "execution_count": 118,
   "id": "ee7883a9",
   "metadata": {},
   "outputs": [],
   "source": [
    "def getRTPid(excel='Working DRAFT 2045 Project List.xlsx',\n",
    "             sheet_name='Auto Constrained - Arterial Lin'):\n",
    "    xl = pd.ExcelFile(excel)\n",
    "    df = xl.parse(sheet_name)\n",
    "    name = df['Name'][0].split(\":\")[1].lstrip()\n",
    "    df = df.drop(labels=0, axis=0)\n",
    "    rtplist = df['RTP #'].unique()\n",
    "    strlist = [item for item in rtplist if type(item) == str]\n",
    "    if len(strlist) > 0:\n",
    "        for s in strlist:\n",
    "            rtplist = rtplist[rtplist != s]\n",
    "    b = [x for x in rtplist if str(x) != 'nan']\n",
    "    res = [ele for ele in b if ele > 0]\n",
    "    return name, res"
   ]
  },
  {
   "cell_type": "code",
   "execution_count": 91,
   "id": "9428aec4",
   "metadata": {},
   "outputs": [],
   "source": [
    "sheet_name='Auto Constrained - Study'"
   ]
  },
  {
   "cell_type": "code",
   "execution_count": 92,
   "id": "de03c6b3",
   "metadata": {},
   "outputs": [],
   "source": [
    "df = xl.parse(sheet_name)"
   ]
  },
  {
   "cell_type": "code",
   "execution_count": 93,
   "id": "ed0e0297",
   "metadata": {},
   "outputs": [
    {
     "data": {
      "text/plain": [
       "'Study'"
      ]
     },
     "execution_count": 93,
     "metadata": {},
     "output_type": "execute_result"
    }
   ],
   "source": [
    "df['Name'][0].split(\":\")[1].lstrip()"
   ]
  },
  {
   "cell_type": "code",
   "execution_count": 94,
   "id": "32b2b205",
   "metadata": {},
   "outputs": [],
   "source": [
    "df = df.drop(labels=0, axis=0)"
   ]
  },
  {
   "cell_type": "code",
   "execution_count": 95,
   "id": "3d5e2ddc",
   "metadata": {
    "scrolled": true
   },
   "outputs": [],
   "source": [
    "rtplist = df['RTP #'].unique()"
   ]
  },
  {
   "cell_type": "code",
   "execution_count": 96,
   "id": "0b46beca",
   "metadata": {},
   "outputs": [
    {
     "data": {
      "text/plain": [
       "array([96, 835, 838, 608, 718, 823, 818, 849, 819, 916, 815, 824, 829,\n",
       "       831, 917, 918, 26, 31, '\\xa0', 210, 102, 557, '485, 454', 211, 555,\n",
       "       nan], dtype=object)"
      ]
     },
     "execution_count": 96,
     "metadata": {},
     "output_type": "execute_result"
    }
   ],
   "source": [
    "rtplist"
   ]
  },
  {
   "cell_type": "code",
   "execution_count": 124,
   "id": "633e986e",
   "metadata": {},
   "outputs": [
    {
     "data": {
      "text/plain": [
       "['\\xa0', '485, 454']"
      ]
     },
     "execution_count": 124,
     "metadata": {},
     "output_type": "execute_result"
    }
   ],
   "source": [
    "[item for item in df['RTP #'].unique() if type(item) is str]"
   ]
  },
  {
   "cell_type": "code",
   "execution_count": 125,
   "id": "9b5d42c4",
   "metadata": {},
   "outputs": [],
   "source": [
    "rtplist = df['RTP #'].unique()\n",
    "strlist = [item for item in rtplist if type(item) is str]\n",
    "if len(strlist) > 0:\n",
    "    for s in strlist:\n",
    "        rtplist = rtplist[rtplist != s]"
   ]
  },
  {
   "cell_type": "code",
   "execution_count": 136,
   "id": "56dcae95",
   "metadata": {},
   "outputs": [
    {
     "data": {
      "text/plain": [
       "array([96, 835, 838, 608, 718, 823, 818, 849, 819, 916, 815, 824, 829,\n",
       "       831, 917, 918, 26, 31, 210, 102, 557, 211, 555, nan], dtype=object)"
      ]
     },
     "execution_count": 136,
     "metadata": {},
     "output_type": "execute_result"
    }
   ],
   "source": [
    "a = rtplist\n",
    "a"
   ]
  },
  {
   "cell_type": "code",
   "execution_count": 141,
   "id": "86f70d6e",
   "metadata": {},
   "outputs": [
    {
     "data": {
      "text/plain": [
       "array([ 96., 835., 838., 608., 718., 823., 818., 849., 819., 916., 815.,\n",
       "       824., 829., 831., 917., 918.,  26.,  31., 210., 102., 557., 211.,\n",
       "       555.])"
      ]
     },
     "execution_count": 141,
     "metadata": {},
     "output_type": "execute_result"
    }
   ],
   "source": [
    "a = a.astype(float)\n",
    "a[~np.isnan(a)]"
   ]
  },
  {
   "cell_type": "code",
   "execution_count": 146,
   "id": "76c3279f",
   "metadata": {},
   "outputs": [
    {
     "data": {
      "text/plain": [
       "['Auto Constrained - Arterial Lin',\n",
       " 'Auto Constrained - Added Freewa',\n",
       " 'Auto Constrained - Arterial Cap',\n",
       " 'Auto Constrained - New Collecto',\n",
       " 'Auto Constrained - Urban Stnds',\n",
       " 'Auto Constrained - Study',\n",
       " 'Auto Constrained - TOD',\n",
       " 'Auto Illustrative - New Arteria',\n",
       " 'Auto Illustrative - New Collect',\n",
       " 'Auto Illustrative - Art Cap',\n",
       " 'Auto Illustrative - Added Freew',\n",
       " 'Auto Illustrative - Urban Stds',\n",
       " 'Transit Constrained',\n",
       " 'Transit Illustrative',\n",
       " 'Bike Constrained - woutRd',\n",
       " 'Bike Constrained - wRd',\n",
       " 'Bike Constrained - onstreet w',\n",
       " 'Bike Constrained - onstreet wou',\n",
       " 'Bike Illustrative - woutRD',\n",
       " 'Bike Illustrative - withRd',\n",
       " 'Bike Illustrative - onstreet w',\n",
       " 'Bike Illustrative onstreet wout',\n",
       " 'Table Data']"
      ]
     },
     "execution_count": 146,
     "metadata": {},
     "output_type": "execute_result"
    }
   ],
   "source": [
    "# check the project list in 2040\n",
    "xl = pd.ExcelFile('2040 Project List_Consolidated draft with AQ (ORIGINAL).xlsx')\n",
    "xl.sheet_names"
   ]
  }
 ],
 "metadata": {
  "kernelspec": {
   "display_name": "Python 3",
   "language": "python",
   "name": "python3"
  },
  "language_info": {
   "codemirror_mode": {
    "name": "ipython",
    "version": 3
   },
   "file_extension": ".py",
   "mimetype": "text/x-python",
   "name": "python",
   "nbconvert_exporter": "python",
   "pygments_lexer": "ipython3",
   "version": "3.8.8"
  }
 },
 "nbformat": 4,
 "nbformat_minor": 5
}

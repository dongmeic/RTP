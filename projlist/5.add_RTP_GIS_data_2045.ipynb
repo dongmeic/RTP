{
 "cells": [
  {
   "cell_type": "code",
   "execution_count": 1,
   "id": "25b685ba",
   "metadata": {},
   "outputs": [],
   "source": [
    "import random, os\n",
    "from random import seed\n",
    "from random import randint\n",
    "import review_RTP as RTP\n",
    "import pandas as pd\n",
    "import geopandas as gpd\n",
    "import numpy as np"
   ]
  },
  {
   "cell_type": "code",
   "execution_count": 2,
   "id": "1b59fbac",
   "metadata": {},
   "outputs": [
    {
     "name": "stdout",
     "output_type": "stream",
     "text": [
      "Constrained_Roadway_lines\n"
     ]
    },
    {
     "name": "stderr",
     "output_type": "stream",
     "text": [
      "T:\\GitHub\\RTP\\projlist\\review_RTP.py:113: UserWarning: Column names longer than 10 characters will be truncated when saved to ESRI Shapefile.\n",
      "  newgdf.to_file(os.path.join(path, layer+'.shp'))\n"
     ]
    },
    {
     "name": "stdout",
     "output_type": "stream",
     "text": [
      "Constrained_Roadway_points\n",
      "Illustrative_Roadway_lines\n",
      "Illustrative_Roadway_points\n",
      "Constrained_BikePed\n",
      "Constrained_BikePed_points\n",
      "Illustrative_BikePed\n"
     ]
    }
   ],
   "source": [
    "# Step 1\n",
    "RTP.getOldGISdata()"
   ]
  },
  {
   "cell_type": "code",
   "execution_count": 2,
   "id": "320c0c79",
   "metadata": {},
   "outputs": [
    {
     "name": "stdout",
     "output_type": "stream",
     "text": [
      "Constrained_Roadway_lines\n",
      "Constrained_Roadway_points\n",
      "Illustrative_Roadway_lines\n",
      "Illustrative_Roadway_points\n",
      "Constrained_BikePed\n",
      "Constrained_BikePed_points\n",
      "Illustrative_BikePed\n"
     ]
    }
   ],
   "source": [
    "# Step 2\n",
    "RTP.updateOldGISdata()"
   ]
  },
  {
   "cell_type": "code",
   "execution_count": 2,
   "id": "261eb08f",
   "metadata": {},
   "outputs": [
    {
     "name": "stdout",
     "output_type": "stream",
     "text": [
      "Project ID 821 is NOT in the layer Constrained_Roadway_lines\n",
      "Project ID 821 is in the layer Constrained_Roadway_points\n"
     ]
    },
    {
     "name": "stderr",
     "output_type": "stream",
     "text": [
      "C:\\Users\\clid1852\\.conda\\envs\\geoenv\\lib\\site-packages\\pandas\\core\\frame.py:4441: SettingWithCopyWarning: \n",
      "A value is trying to be set on a copy of a slice from a DataFrame\n",
      "\n",
      "See the caveats in the documentation: https://pandas.pydata.org/pandas-docs/stable/user_guide/indexing.html#returning-a-view-versus-a-copy\n",
      "  return super().rename(\n"
     ]
    },
    {
     "name": "stdout",
     "output_type": "stream",
     "text": [
      "Project ID 827 is in the layer Constrained_Roadway_lines\n"
     ]
    },
    {
     "name": "stderr",
     "output_type": "stream",
     "text": [
      "C:\\Users\\clid1852\\.conda\\envs\\geoenv\\lib\\site-packages\\pandas\\core\\frame.py:4441: SettingWithCopyWarning: \n",
      "A value is trying to be set on a copy of a slice from a DataFrame\n",
      "\n",
      "See the caveats in the documentation: https://pandas.pydata.org/pandas-docs/stable/user_guide/indexing.html#returning-a-view-versus-a-copy\n",
      "  return super().rename(\n"
     ]
    },
    {
     "name": "stdout",
     "output_type": "stream",
     "text": [
      "Project ID 827 is NOT in the layer Constrained_Roadway_points\n",
      "Project ID 828 is in the layer Constrained_Roadway_lines\n"
     ]
    },
    {
     "name": "stderr",
     "output_type": "stream",
     "text": [
      "C:\\Users\\clid1852\\.conda\\envs\\geoenv\\lib\\site-packages\\pandas\\core\\frame.py:4441: SettingWithCopyWarning: \n",
      "A value is trying to be set on a copy of a slice from a DataFrame\n",
      "\n",
      "See the caveats in the documentation: https://pandas.pydata.org/pandas-docs/stable/user_guide/indexing.html#returning-a-view-versus-a-copy\n",
      "  return super().rename(\n"
     ]
    },
    {
     "name": "stdout",
     "output_type": "stream",
     "text": [
      "Project ID 828 is in the layer Constrained_Roadway_points\n",
      "Pass RTP 828 for the layer Constrained_Roadway_points\n",
      "Project ID 784 is in the layer Constrained_Roadway_lines\n"
     ]
    },
    {
     "name": "stderr",
     "output_type": "stream",
     "text": [
      "C:\\Users\\clid1852\\.conda\\envs\\geoenv\\lib\\site-packages\\pandas\\core\\frame.py:4441: SettingWithCopyWarning: \n",
      "A value is trying to be set on a copy of a slice from a DataFrame\n",
      "\n",
      "See the caveats in the documentation: https://pandas.pydata.org/pandas-docs/stable/user_guide/indexing.html#returning-a-view-versus-a-copy\n",
      "  return super().rename(\n"
     ]
    },
    {
     "name": "stdout",
     "output_type": "stream",
     "text": [
      "Project ID 784 is NOT in the layer Constrained_Roadway_points\n",
      "Project ID 521 is in the layer Constrained_BikePed\n"
     ]
    },
    {
     "name": "stderr",
     "output_type": "stream",
     "text": [
      "C:\\Users\\clid1852\\.conda\\envs\\geoenv\\lib\\site-packages\\pandas\\core\\frame.py:4441: SettingWithCopyWarning: \n",
      "A value is trying to be set on a copy of a slice from a DataFrame\n",
      "\n",
      "See the caveats in the documentation: https://pandas.pydata.org/pandas-docs/stable/user_guide/indexing.html#returning-a-view-versus-a-copy\n",
      "  return super().rename(\n"
     ]
    },
    {
     "name": "stdout",
     "output_type": "stream",
     "text": [
      "Project ID 521 is NOT in the layer Constrained_BikePed_points\n",
      "Project ID 812 is NOT in the layer Illustrative_BikePed\n"
     ]
    }
   ],
   "source": [
    "# Step 3\n",
    "RTP.addOldGISdata()"
   ]
  },
  {
   "cell_type": "code",
   "execution_count": 2,
   "id": "d9feb910",
   "metadata": {},
   "outputs": [
    {
     "name": "stdout",
     "output_type": "stream",
     "text": [
      "Constrained_Roadway_lines\n",
      "   RTP_ID                                     Category  \\\n",
      "0     460                              Urban Standards   \n",
      "1     144                              Urban Standards   \n",
      "2     382                              Urban Standards   \n",
      "3     390                              Urban Standards   \n",
      "4     411  Transit Oriented Development Implementation   \n",
      "\n",
      "                                           Narration  RoughCost  YearRange  \\\n",
      "0  Upgrade Awbrey Lane consistent with major coll...  8700000.0        NaN   \n",
      "1  Upgrade Dillard Rd consistent with major colle...  8100000.0        NaN   \n",
      "2  Upgrade Fox Hollow Rd consistent with major co...  5700000.0        NaN   \n",
      "3  Construct sidewalk on the west side of Gilham ...   272000.0        NaN   \n",
      "4  Convert 8th Avenue to a two-way street with pr...  3200000.0  2020-2024   \n",
      "\n",
      "                          GeoLimits            JurisProjN Length  \\\n",
      "0        Prairie Road to Highway 99   ETSP-UD-9; LCTSP-12    1.3   \n",
      "1        43rd Ave to the Eugene UGB                 UD-23    1.4   \n",
      "2          Donald Street to the UGB  ETSP-UD-24; LCTSP-48    0.9   \n",
      "3  Ashbury Drive to Mirror Pond Way            LCTSP-52a;    NaN   \n",
      "4   High Street to Jefferson Street                   NaN    NaN   \n",
      "\n",
      "              Name           PrimJurisd CostMax CostMin  \\\n",
      "0      Awbrey Lane  Eugene, Lane County     NaN     NaN   \n",
      "1     Dillard Road               Eugene     NaN     NaN   \n",
      "2  Fox Hollow Road  Eugene, Lane County     NaN     NaN   \n",
      "3      Gilham Road  Lane County, Eugene     NaN     NaN   \n",
      "4       8th Avenue               Eugene     NaN     NaN   \n",
      "\n",
      "                                            geometry  \n",
      "0  MULTILINESTRING Z ((4213636.025 908391.144 0.0...  \n",
      "1  MULTILINESTRING Z ((4244021.818 862922.884 0.0...  \n",
      "2  MULTILINESTRING Z ((4240082.435 859126.006 0.0...  \n",
      "3  MULTILINESTRING Z ((4243390.119 898907.416 0.0...  \n",
      "4  MULTILINESTRING Z ((4237275.593 879591.155 0.0...  \n",
      "Added projects ['Awbrey Lane' 'Dillard Road' 'Fox Hollow Road' 'Gilham Road' '8th Avenue'] to the layer Constrained_Roadway_lines\n",
      "Constrained_Roadway_points\n",
      "    RTP_ID                                           Category  \\\n",
      "12     722                     Arterial Capacity Improvements   \n",
      "13     723                     Arterial Capacity Improvements   \n",
      "14     849                                              Study   \n",
      "15      32                     Arterial Capacity Improvements   \n",
      "16     821  Added Freeway Lanes or Major Interchange Impro...   \n",
      "\n",
      "                                            Narration  RoughCost  YearRange  \\\n",
      "12  Construct right-turn lane on westbound approac...     320000  2020-2024   \n",
      "13                             Construct a roundabout    1900000  2030-2034   \n",
      "14    Intersection study to improve pedestrian safety      75000  2020-2024   \n",
      "15  Traffic control improvements or undercrossing ...    3000000  2030-2034   \n",
      "16                                 Add lanes on ramps  2000000.0  2030-2034   \n",
      "\n",
      "                         GeoLimits JurisProjN  Length  \\\n",
      "12                   @ 19th Street       R-30    0.00   \n",
      "13                  @ Marcola Road       R-31    0.00   \n",
      "14          @ Centennial Boulevard        S-6    0.00   \n",
      "15            @ Bob Straub Parkway       R-44    0.00   \n",
      "16  @ Mohawk Boulevard Interchange               0.68   \n",
      "\n",
      "                                   Name                           PrimJurisd  \\\n",
      "12                         Marcola Road                          Springfield   \n",
      "13                          28th Street                          Springfield   \n",
      "14                      Pioneer Parkway                          Springfield   \n",
      "15                         Daisy Street                          Springfield   \n",
      "16  Eugene-Springfield Highway (OR 126)  non exempt;  regionally significant   \n",
      "\n",
      "    CostMax  CostMin                        geometry  \n",
      "12     None     None  POINT (4265103.585 883675.503)  \n",
      "13     None     None  POINT (4268010.835 883595.878)  \n",
      "14     None     None  POINT (4257787.126 881088.302)  \n",
      "15     None     None  POINT (4282508.459 874866.129)  \n",
      "16  3464862  3066559  POINT (4264807.358 882857.271)  \n",
      "Added projects [] to the layer Constrained_Roadway_points\n",
      "Illustrative_Roadway_lines\n",
      "    RTP_ID                        Category  \\\n",
      "16     836  Arterial Capacity Improvements   \n",
      "5      470  Arterial Capacity Improvements   \n",
      "6      149  Arterial Capacity Improvements   \n",
      "7      353  Arterial Capacity Improvements   \n",
      "8      193                 Urban Standards   \n",
      "\n",
      "                                            Narration   RoughCost  \\\n",
      "16  Convert Glenwood Blvd. from three-lane to five...     2210000   \n",
      "5   Widen 30th Avenue structure over I-5 as well a...  65000000.0   \n",
      "6   Construct to major collector standards with tw...   2875000.0   \n",
      "7   Construct to major collector standards with tw...    600000.0   \n",
      "8   Modify Oakdale Ave to a two-lane cross-section...         NaN   \n",
      "\n",
      "          YearRange                               GeoLimits JurisProjN Length  \\\n",
      "16        2035-2040                   I-5 to Franklin Blvd.       R-15    0.5   \n",
      "5   Beyond 20 years  31st Ave/McVay Highway/I-5 Interchange   LCTSP-5a    NaN   \n",
      "6   Beyond 20 years            Barger Drive to Airport Road  LCTSP-56b    NaN   \n",
      "7   Beyond 20 years                Highway 126 to Crow Road  LCTSP-56c    NaN   \n",
      "8               NaN        Pheasant Blvd. to Game Farm Road      US-19    NaN   \n",
      "\n",
      "                                      Name           PrimJurisd CostMax  \\\n",
      "16                           Glenwood Blvd          Springfield    None   \n",
      "5   30th Ave/McVay Highway/I-5 Interchange    Lane County, ODOT     NaN   \n",
      "6                          Green Hill Road  Lane County, Eugene     NaN   \n",
      "7                          Green Hill Road  Lane County, Eugene     NaN   \n",
      "8                              Oakdale Ave          Springfield     NaN   \n",
      "\n",
      "   CostMin                                           geometry  \n",
      "16    None  LINESTRING (4252852.710 877060.192, 4252858.04...  \n",
      "5      NaN  MULTILINESTRING Z ((4257172.035 865346.770 0.0...  \n",
      "6      NaN  MULTILINESTRING Z ((4209746.867 892807.426 0.0...  \n",
      "7      NaN  MULTILINESTRING Z ((4209255.044 880804.642 0.0...  \n",
      "8      NaN  MULTILINESTRING Z ((4255518.356 887376.885 0.0...  \n",
      "Added projects ['30th Ave/McVay Highway/I-5 Interchange' 'Green Hill Road'\n",
      " 'Green Hill Road' 'Oakdale Ave'] to the layer Illustrative_Roadway_lines\n",
      "Illustrative_Roadway_points\n",
      "   RTP_ID                                           Category  \\\n",
      "0     257  Added Freeway Lanes or Major Interchange Impro...   \n",
      "1     727  Added Freeway Lanes or Major Interchange Impro...   \n",
      "2    1004  Added Freeway Lanes or Major Interchange Impro...   \n",
      "3     728  Added Freeway Lanes or Major Interchange Impro...   \n",
      "0     492                     Arterial Capacity Improvements   \n",
      "\n",
      "                                           Narration RoughCost  \\\n",
      "0  Interchange reconstruction to improve operatio...  65000000   \n",
      "1                           Interchange improvements  21700000   \n",
      "2                           Interchange improvements  35000000   \n",
      "3                                   Widen to 6 lanes  29000000   \n",
      "0  Remove clover ramp to improve access. (Depende...  950000.0   \n",
      "\n",
      "         YearRange                                          GeoLimits  \\\n",
      "0        2035-2040  30th Avenue/McVay Highway\\nI-105 to Highway 58...   \n",
      "1        2035-2040                          Pioneer Parkway/ Q Street   \n",
      "2        2035-2040             @ City of Coburg interchange (Phase 2)   \n",
      "3        2035-2040                            I-5 to Mohawk Boulevard   \n",
      "0  Beyond 20 years                         30th Ave Exit to Gonyea Rd   \n",
      "\n",
      "                                          JurisProjN Length  \\\n",
      "0  Lane County TSP project 5a, Eugene TSP project...   5.66   \n",
      "1           OR126E Expressway Management Plan (2006)    0.0   \n",
      "2                                           LCTSP-27    0.0   \n",
      "3           OR126E Expressway Management Plan (2006)    2.6   \n",
      "0                                           LCTSP-5b    NaN   \n",
      "\n",
      "                                                Name         PrimJurisd  \\\n",
      "0                                                I-5               ODOT   \n",
      "1  Eugene-Springfield Highway (OR-126E) at Pionee...               ODOT   \n",
      "2                                                I-5  ODOT, Lane County   \n",
      "3               Eugene-Springfield Highway (OR-126E)               ODOT   \n",
      "0                                 30th Ave Exit Ramp        Lane County   \n",
      "\n",
      "  CostMax CostMin                                geometry  \n",
      "0    None    None          POINT (4257500.635 865403.596)  \n",
      "1    None    None          POINT (4257439.926 882709.465)  \n",
      "2    None    None          POINT (4251319.241 910593.079)  \n",
      "3    None    None          POINT (4264807.358 882857.271)  \n",
      "0     NaN     NaN  POINT Z (4253187.636 865855.726 0.000)  \n",
      "Added projects ['30th Ave Exit Ramp'] to the layer Illustrative_Roadway_points\n",
      "Constrained_BikePed\n"
     ]
    },
    {
     "name": "stdout",
     "output_type": "stream",
     "text": [
      "    RTP_ID                                        Category  \\\n",
      "89     521  On-Street Lanes or Routes Without Road Project   \n",
      "9      170            Multi-Use Paths Without Road Project   \n",
      "10     173            Multi-Use Paths Without Road Project   \n",
      "11     410            Multi-Use Paths Without Road Project   \n",
      "12     299  On-Street Lanes or Routes Without Road Project   \n",
      "\n",
      "                                            Narration  RoughCost  YearRange  \\\n",
      "89                                  Bicycle Boulevard   116000.0  2020-2024   \n",
      "9       Construct a separated multi-use path facility  2700000.0        NaN   \n",
      "10  Construct consistent with Beaver-Hunsunker Cor...  9300000.0        NaN   \n",
      "11  Construct multi-use path on both sides of Bob ...  3000000.0        NaN   \n",
      "12     Add crosswalks on Pioneer Parkway with signage    80000.0  2020-2024   \n",
      "\n",
      "                                            GeoLimits JurisProjN Length  \\\n",
      "89                           Lake Drive to River Road     PB-161   0.75   \n",
      "9   Beaver Street to Wilkes street along Eugene's UGB  LCTSP-18a    NaN   \n",
      "10                         Division Ave to River Road  LCTSP-18b    NaN   \n",
      "11                         57th Street to Jasper Road  LCTSP-21a    NaN   \n",
      "12             Pioneer Parkway at D, E, and F Streets      PB-21    NaN   \n",
      "\n",
      "                             Name   PrimJurisd CostMax CostMin  \\\n",
      "89                      Horn Lane       Eugene    None    None   \n",
      "9    Beaver-Wilkes Multi-Use Path  Lane County     NaN     NaN   \n",
      "10  Beaver Street - Hunsaker Lane  Lane County     NaN     NaN   \n",
      "11             Bob Straub Parkway  Lane County     NaN     NaN   \n",
      "12                Pioneer Parkway  Springfield     NaN     NaN   \n",
      "\n",
      "                                             geometry  \n",
      "89  LINESTRING (4228364.186 891132.186, 4228400.09...  \n",
      "9   MULTILINESTRING Z ((4234585.967 896812.567 0.0...  \n",
      "10  MULTILINESTRING Z ((4234555.714 896769.792 0.0...  \n",
      "11  MULTILINESTRING Z ((4283888.919 866009.319 0.0...  \n",
      "12  MULTILINESTRING Z ((4258256.920 878504.495 0.0...  \n",
      "Added projects ['Beaver-Wilkes Multi-Use Path' 'Beaver Street - Hunsaker Lane'\n",
      " 'Bob Straub Parkway' 'Pioneer Parkway'] to the layer Constrained_BikePed\n",
      "Constrained_BikePed_points\n",
      "    RTP_ID                                        Category  \\\n",
      "9      821  On-Street Lanes or Routes Without Road Project   \n",
      "10     923  On-Street Lanes or Routes Without Road Project   \n",
      "11      24  On-Street Lanes or Routes Without Road Project   \n",
      "12      28  On-Street Lanes or Routes Without Road Project   \n",
      "13      29  On-Street Lanes or Routes Without Road Project   \n",
      "\n",
      "                                            Narration RoughCost  YearRange  \\\n",
      "9   Add bicycle facility signing and striping to i...     10000  2025-2029   \n",
      "10              Add a mid-block crosswalk with a RRFB     90000  2030-2034   \n",
      "11  Add a pedestrian/bicycle signal and crossing, ...     90000  2020-2024   \n",
      "12                            Add crosswalk with RRFB     90000  2025-2029   \n",
      "13                            Add crosswalk with RRFB     90000  2025-2029   \n",
      "\n",
      "         GeoLimits JurisProjN Length                Name  \\\n",
      "9       @ D Street      PB-25      0          5th Street   \n",
      "10   @ 38th Street      PB-34      0         Main Street   \n",
      "11  @ Daisy Street      PB-43      0  Bob Straub Parkway   \n",
      "12   @ 66th Street      PB-47      0       Thurston Road   \n",
      "13     69th Street      PB-48      0       Thurston Road   \n",
      "\n",
      "                  PrimJurisd CostMax CostMin                        geometry  \n",
      "9                Springfield    None    None  POINT (4258915.454 878479.638)  \n",
      "10               Springfield    None    None  POINT (4271202.769 876698.524)  \n",
      "11  Lane County, Springfield    None    None  POINT (4282508.459 874866.129)  \n",
      "12               Springfield    None    None  POINT (4287555.960 879061.503)  \n",
      "13               Springfield    None    None  POINT (4289269.835 879035.691)  \n",
      "Added projects [] to the layer Constrained_BikePed_points\n",
      "Illustrative_BikePed\n",
      "    RTP_ID                                     Category  \\\n",
      "12     912         Multi-Use Paths Without Road Project   \n",
      "13     814         Multi-Use Paths Without Road Project   \n",
      "14     512  On-Street Lanes or Routes With Road Project   \n",
      "13     216         Multi-Use Paths Without Road Project   \n",
      "14     136         Multi-Use Paths Without Road Project   \n",
      "\n",
      "                                            Narration RoughCost  \\\n",
      "12  Construct a new multi-use 12-foot wide path al...   3100000   \n",
      "13  Construct a new multi-use 12-foot wide path pa...         -   \n",
      "14                                       Striped Lane    701000   \n",
      "13  Construct a new multi-use 12-foot wide path in...       NaN   \n",
      "14  Construct a new multi-use 12-foot wide path fr...       NaN   \n",
      "\n",
      "          YearRange                                    GeoLimits JurisProjN  \\\n",
      "12        2035-2040              South 2nd Street to Island Park      PB-27   \n",
      "13  Beyond 20 years  Willamette River Area Path to By-Gully Path      PB-12   \n",
      "14        2035-2040                    Loan Oak to Beaver Street     PB-481   \n",
      "13  Beyond 20 years                    Pioneer Parkway to Don St       PB-7   \n",
      "14  Beyond 20 years                       Dornoch St to Laura St       PB-6   \n",
      "\n",
      "   Length                                       Name   PrimJurisd CostMax  \\\n",
      "12   0.18                         New multi-use path  Springfield    None   \n",
      "13   0.95                                   I-5 Path  Springfield    None   \n",
      "14   0.89                            Division Avenue       Eugene           \n",
      "13    NaN                          Extend EWEB Trail  Springfield     NaN   \n",
      "14    NaN  Springfield Christian School Channel Path  Springfield     NaN   \n",
      "\n",
      "   CostMin                                           geometry  \n",
      "12    None  LINESTRING (4257084.555 876889.033, 4257112.27...  \n",
      "13    None  LINESTRING (4250992.000 877571.974, 4250976.26...  \n",
      "14          LINESTRING (4231842.450 897199.079, 4231879.02...  \n",
      "13     NaN  MULTILINESTRING Z ((4257197.914 884139.625 0.0...  \n",
      "14     NaN  MULTILINESTRING Z ((4252356.275 886008.171 0.0...  \n",
      "Added projects ['Extend EWEB Trail' 'Springfield Christian School Channel Path'] to the layer Illustrative_BikePed\n"
     ]
    }
   ],
   "source": [
    "# Step 4\n",
    "RTP.addNewgdf()"
   ]
  },
  {
   "cell_type": "code",
   "execution_count": 2,
   "id": "6587b11c",
   "metadata": {},
   "outputs": [],
   "source": [
    "IDs40 = RTP.getMappedIDs()"
   ]
  },
  {
   "cell_type": "code",
   "execution_count": 3,
   "id": "4d0e3459",
   "metadata": {},
   "outputs": [],
   "source": [
    "IDs45 = RTP.getMappedIDs(year=2045)"
   ]
  },
  {
   "cell_type": "code",
   "execution_count": 4,
   "id": "9913691a",
   "metadata": {},
   "outputs": [
    {
     "data": {
      "text/plain": [
       "221"
      ]
     },
     "execution_count": 4,
     "metadata": {},
     "output_type": "execute_result"
    }
   ],
   "source": [
    "len(IDs45)"
   ]
  },
  {
   "cell_type": "code",
   "execution_count": 5,
   "id": "034cc600",
   "metadata": {},
   "outputs": [
    {
     "data": {
      "text/plain": [
       "255"
      ]
     },
     "execution_count": 5,
     "metadata": {},
     "output_type": "execute_result"
    }
   ],
   "source": [
    "len(IDs40)"
   ]
  },
  {
   "cell_type": "code",
   "execution_count": 4,
   "id": "c540e50e",
   "metadata": {},
   "outputs": [],
   "source": [
    "#newIDs = random.sample([i for i in range(100,500) if i not in IDs45], toMap.shape[0])"
   ]
  },
  {
   "cell_type": "code",
   "execution_count": 14,
   "id": "790dc070",
   "metadata": {},
   "outputs": [],
   "source": [
    "#LineProj = mappedNewProj[mappedNewProj.Name != '30th Ave Exit Ramp'] # RTP - 492"
   ]
  }
 ],
 "metadata": {
  "kernelspec": {
   "display_name": "Python 3",
   "language": "python",
   "name": "python3"
  },
  "language_info": {
   "codemirror_mode": {
    "name": "ipython",
    "version": 3
   },
   "file_extension": ".py",
   "mimetype": "text/x-python",
   "name": "python",
   "nbconvert_exporter": "python",
   "pygments_lexer": "ipython3",
   "version": "3.8.8"
  }
 },
 "nbformat": 4,
 "nbformat_minor": 5
}

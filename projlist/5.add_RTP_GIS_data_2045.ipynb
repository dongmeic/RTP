{
 "cells": [
  {
   "cell_type": "code",
   "execution_count": 1,
   "id": "2639e68a",
   "metadata": {},
   "outputs": [],
   "source": [
    "import random, os\n",
    "from random import seed\n",
    "from random import randint\n",
    "import review_RTP as RTP\n",
    "import pandas as pd\n",
    "import geopandas as gpd\n",
    "import numpy as np"
   ]
  },
  {
   "cell_type": "code",
   "execution_count": 2,
   "id": "ec4d88ee",
   "metadata": {},
   "outputs": [
    {
     "name": "stdout",
     "output_type": "stream",
     "text": [
      "Constrained_Roadway_lines\n"
     ]
    },
    {
     "name": "stderr",
     "output_type": "stream",
     "text": [
      "T:\\GitHub\\RTP\\projlist\\review_RTP.py:130: UserWarning: Column names longer than 10 characters will be truncated when saved to ESRI Shapefile.\n",
      "  newgdf.to_file(os.path.join(path, layer+'.shp'))\n"
     ]
    },
    {
     "name": "stdout",
     "output_type": "stream",
     "text": [
      "Constrained_Roadway_points\n",
      "Illustrative_Roadway_lines\n",
      "Illustrative_Roadway_points\n",
      "Constrained_BikePed\n",
      "Constrained_BikePed_points\n",
      "Illustrative_BikePed\n"
     ]
    }
   ],
   "source": [
    "# Step 1\n",
    "RTP.getOldGISdata()"
   ]
  },
  {
   "cell_type": "code",
   "execution_count": 2,
   "id": "59279fe5",
   "metadata": {},
   "outputs": [
    {
     "name": "stdout",
     "output_type": "stream",
     "text": [
      "Constrained_Roadway_lines\n",
      "Constrained_Roadway_points\n",
      "Illustrative_Roadway_lines\n",
      "Illustrative_Roadway_points\n",
      "Constrained_BikePed\n",
      "Constrained_BikePed_points\n",
      "Illustrative_BikePed\n"
     ]
    }
   ],
   "source": [
    "# Step 2\n",
    "RTP.updateOldGISdata()"
   ]
  },
  {
   "cell_type": "code",
   "execution_count": 3,
   "id": "2e3a27ce",
   "metadata": {},
   "outputs": [
    {
     "name": "stdout",
     "output_type": "stream",
     "text": [
      "Project ID 821 is NOT in the layer Constrained_Roadway_lines\n",
      "Project ID 821 is in the layer Constrained_Roadway_points\n"
     ]
    },
    {
     "name": "stderr",
     "output_type": "stream",
     "text": [
      "C:\\Users\\clid1852\\.conda\\envs\\geoenv\\lib\\site-packages\\pandas\\core\\frame.py:4441: SettingWithCopyWarning: \n",
      "A value is trying to be set on a copy of a slice from a DataFrame\n",
      "\n",
      "See the caveats in the documentation: https://pandas.pydata.org/pandas-docs/stable/user_guide/indexing.html#returning-a-view-versus-a-copy\n",
      "  return super().rename(\n"
     ]
    },
    {
     "name": "stdout",
     "output_type": "stream",
     "text": [
      "Project ID 827 is in the layer Constrained_Roadway_lines\n"
     ]
    },
    {
     "name": "stderr",
     "output_type": "stream",
     "text": [
      "C:\\Users\\clid1852\\.conda\\envs\\geoenv\\lib\\site-packages\\pandas\\core\\frame.py:4441: SettingWithCopyWarning: \n",
      "A value is trying to be set on a copy of a slice from a DataFrame\n",
      "\n",
      "See the caveats in the documentation: https://pandas.pydata.org/pandas-docs/stable/user_guide/indexing.html#returning-a-view-versus-a-copy\n",
      "  return super().rename(\n"
     ]
    },
    {
     "name": "stdout",
     "output_type": "stream",
     "text": [
      "Project ID 827 is NOT in the layer Constrained_Roadway_points\n",
      "Project ID 828 is in the layer Constrained_Roadway_lines\n"
     ]
    },
    {
     "name": "stderr",
     "output_type": "stream",
     "text": [
      "C:\\Users\\clid1852\\.conda\\envs\\geoenv\\lib\\site-packages\\pandas\\core\\frame.py:4441: SettingWithCopyWarning: \n",
      "A value is trying to be set on a copy of a slice from a DataFrame\n",
      "\n",
      "See the caveats in the documentation: https://pandas.pydata.org/pandas-docs/stable/user_guide/indexing.html#returning-a-view-versus-a-copy\n",
      "  return super().rename(\n"
     ]
    },
    {
     "name": "stdout",
     "output_type": "stream",
     "text": [
      "Project ID 828 is in the layer Constrained_Roadway_points\n",
      "Pass RTP 828 for the layer Constrained_Roadway_points\n",
      "Project ID 784 is in the layer Constrained_Roadway_lines\n"
     ]
    },
    {
     "name": "stderr",
     "output_type": "stream",
     "text": [
      "C:\\Users\\clid1852\\.conda\\envs\\geoenv\\lib\\site-packages\\pandas\\core\\frame.py:4441: SettingWithCopyWarning: \n",
      "A value is trying to be set on a copy of a slice from a DataFrame\n",
      "\n",
      "See the caveats in the documentation: https://pandas.pydata.org/pandas-docs/stable/user_guide/indexing.html#returning-a-view-versus-a-copy\n",
      "  return super().rename(\n"
     ]
    },
    {
     "name": "stdout",
     "output_type": "stream",
     "text": [
      "Project ID 784 is NOT in the layer Constrained_Roadway_points\n",
      "Project ID 521 is in the layer Constrained_BikePed\n"
     ]
    },
    {
     "name": "stderr",
     "output_type": "stream",
     "text": [
      "C:\\Users\\clid1852\\.conda\\envs\\geoenv\\lib\\site-packages\\pandas\\core\\frame.py:4441: SettingWithCopyWarning: \n",
      "A value is trying to be set on a copy of a slice from a DataFrame\n",
      "\n",
      "See the caveats in the documentation: https://pandas.pydata.org/pandas-docs/stable/user_guide/indexing.html#returning-a-view-versus-a-copy\n",
      "  return super().rename(\n"
     ]
    },
    {
     "name": "stdout",
     "output_type": "stream",
     "text": [
      "Project ID 521 is NOT in the layer Constrained_BikePed_points\n",
      "Project ID 812 is NOT in the layer Illustrative_BikePed\n"
     ]
    }
   ],
   "source": [
    "# Step 3\n",
    "RTP.addOldGISdata()"
   ]
  },
  {
   "cell_type": "code",
   "execution_count": 4,
   "id": "c412a1a3",
   "metadata": {},
   "outputs": [
    {
     "name": "stdout",
     "output_type": "stream",
     "text": [
      "Constrained_Roadway_lines\n",
      "Added projects ['Awbrey Lane' 'Dillard Road' 'Fox Hollow Road' 'Gilham Road' '8th Avenue'] to the layer Constrained_Roadway_lines\n",
      "Constrained_Roadway_points\n",
      "Added projects [] to the layer Constrained_Roadway_points\n",
      "Illustrative_Roadway_lines\n",
      "Added projects ['30th Ave/McVay Highway/I-5 Interchange' 'Green Hill Road'\n",
      " 'Green Hill Road' 'Oakdale Ave'] to the layer Illustrative_Roadway_lines\n",
      "Illustrative_Roadway_points\n",
      "Added projects ['30th Ave Exit Ramp'] to the layer Illustrative_Roadway_points\n",
      "Constrained_BikePed\n",
      "Added projects ['Beaver-Wilkes Multi-Use Path' 'Beaver Street - Hunsaker Lane'\n",
      " 'Bob Straub Parkway' 'Pioneer Parkway'] to the layer Constrained_BikePed\n",
      "Constrained_BikePed_points\n",
      "Added projects [] to the layer Constrained_BikePed_points\n",
      "Illustrative_BikePed\n",
      "Added projects ['Extend EWEB Trail' 'Springfield Christian School Channel Path'] to the layer Illustrative_BikePed\n"
     ]
    }
   ],
   "source": [
    "# Step 4\n",
    "RTP.addNewgdf()"
   ]
  },
  {
   "cell_type": "code",
   "execution_count": 2,
   "id": "18d74261",
   "metadata": {},
   "outputs": [],
   "source": [
    "# Step 5\n",
    "RTP.addFinal()"
   ]
  },
  {
   "cell_type": "code",
   "execution_count": 3,
   "id": "44b229d9",
   "metadata": {},
   "outputs": [],
   "source": [
    "IDs40 = RTP.getMappedIDs()"
   ]
  },
  {
   "cell_type": "code",
   "execution_count": 4,
   "id": "ace28a51",
   "metadata": {},
   "outputs": [],
   "source": [
    "IDs45 = RTP.getMappedIDs(year=2045)"
   ]
  },
  {
   "cell_type": "code",
   "execution_count": 5,
   "id": "7c1f3e55",
   "metadata": {},
   "outputs": [
    {
     "data": {
      "text/plain": [
       "205"
      ]
     },
     "execution_count": 5,
     "metadata": {},
     "output_type": "execute_result"
    }
   ],
   "source": [
    "len(IDs45)"
   ]
  },
  {
   "cell_type": "code",
   "execution_count": 6,
   "id": "d1a1fc70",
   "metadata": {},
   "outputs": [
    {
     "data": {
      "text/plain": [
       "255"
      ]
     },
     "execution_count": 6,
     "metadata": {},
     "output_type": "execute_result"
    }
   ],
   "source": [
    "len(IDs40)"
   ]
  },
  {
   "cell_type": "code",
   "execution_count": 4,
   "id": "0031c610",
   "metadata": {},
   "outputs": [],
   "source": [
    "#newIDs = random.sample([i for i in range(100,500) if i not in IDs45], toMap.shape[0])"
   ]
  },
  {
   "cell_type": "code",
   "execution_count": 14,
   "id": "5cc028e0",
   "metadata": {},
   "outputs": [],
   "source": [
    "#LineProj = mappedNewProj[mappedNewProj.Name != '30th Ave Exit Ramp'] # RTP - 492"
   ]
  }
 ],
 "metadata": {
  "kernelspec": {
   "display_name": "Python 3",
   "language": "python",
   "name": "python3"
  },
  "language_info": {
   "codemirror_mode": {
    "name": "ipython",
    "version": 3
   },
   "file_extension": ".py",
   "mimetype": "text/x-python",
   "name": "python",
   "nbconvert_exporter": "python",
   "pygments_lexer": "ipython3",
   "version": "3.8.8"
  }
 },
 "nbformat": 4,
 "nbformat_minor": 5
}

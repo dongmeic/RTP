{
 "cells": [
  {
   "cell_type": "code",
   "execution_count": 1,
   "id": "5689f2b8",
   "metadata": {},
   "outputs": [],
   "source": [
    "import random, os\n",
    "from random import seed\n",
    "from random import randint\n",
    "import review_RTP as RTP\n",
    "import pandas as pd\n",
    "import geopandas as gpd\n",
    "import numpy as np"
   ]
  },
  {
   "cell_type": "code",
   "execution_count": 2,
   "id": "379f26f8",
   "metadata": {},
   "outputs": [
    {
     "name": "stdout",
     "output_type": "stream",
     "text": [
      "Constrained_Roadway_lines\n"
     ]
    },
    {
     "name": "stderr",
     "output_type": "stream",
     "text": [
      "T:\\GitHub\\RTP\\projlist\\review_RTP.py:130: UserWarning: Column names longer than 10 characters will be truncated when saved to ESRI Shapefile.\n",
      "  newgdf.to_file(os.path.join(path, layer+'.shp'))\n"
     ]
    },
    {
     "name": "stdout",
     "output_type": "stream",
     "text": [
      "Constrained_Roadway_points\n",
      "Illustrative_Roadway_lines\n",
      "Illustrative_Roadway_points\n",
      "Constrained_BikePed\n",
      "Constrained_BikePed_points\n",
      "Illustrative_BikePed\n"
     ]
    }
   ],
   "source": [
    "# Step 1\n",
    "RTP.getOldGISdata()"
   ]
  },
  {
   "cell_type": "code",
   "execution_count": 2,
   "id": "040374cb",
   "metadata": {},
   "outputs": [
    {
     "name": "stdout",
     "output_type": "stream",
     "text": [
      "Constrained_Roadway_lines\n",
      "Constrained_Roadway_points\n",
      "Illustrative_Roadway_lines\n",
      "Illustrative_Roadway_points\n",
      "Constrained_BikePed\n",
      "Constrained_BikePed_points\n",
      "Illustrative_BikePed\n"
     ]
    }
   ],
   "source": [
    "# Step 2\n",
    "RTP.updateOldGISdata()"
   ]
  },
  {
   "cell_type": "code",
   "execution_count": 3,
   "id": "5b74d69f",
   "metadata": {},
   "outputs": [
    {
     "name": "stdout",
     "output_type": "stream",
     "text": [
      "Project ID 821 is NOT in the layer Constrained_Roadway_lines\n",
      "Project ID 821 is in the layer Constrained_Roadway_points\n"
     ]
    },
    {
     "name": "stderr",
     "output_type": "stream",
     "text": [
      "C:\\Users\\clid1852\\.conda\\envs\\geoenv\\lib\\site-packages\\pandas\\core\\frame.py:4441: SettingWithCopyWarning: \n",
      "A value is trying to be set on a copy of a slice from a DataFrame\n",
      "\n",
      "See the caveats in the documentation: https://pandas.pydata.org/pandas-docs/stable/user_guide/indexing.html#returning-a-view-versus-a-copy\n",
      "  return super().rename(\n"
     ]
    },
    {
     "name": "stdout",
     "output_type": "stream",
     "text": [
      "Project ID 827 is in the layer Constrained_Roadway_lines\n"
     ]
    },
    {
     "name": "stderr",
     "output_type": "stream",
     "text": [
      "C:\\Users\\clid1852\\.conda\\envs\\geoenv\\lib\\site-packages\\pandas\\core\\frame.py:4441: SettingWithCopyWarning: \n",
      "A value is trying to be set on a copy of a slice from a DataFrame\n",
      "\n",
      "See the caveats in the documentation: https://pandas.pydata.org/pandas-docs/stable/user_guide/indexing.html#returning-a-view-versus-a-copy\n",
      "  return super().rename(\n"
     ]
    },
    {
     "name": "stdout",
     "output_type": "stream",
     "text": [
      "Project ID 827 is NOT in the layer Constrained_Roadway_points\n",
      "Project ID 828 is in the layer Constrained_Roadway_lines\n"
     ]
    },
    {
     "name": "stderr",
     "output_type": "stream",
     "text": [
      "C:\\Users\\clid1852\\.conda\\envs\\geoenv\\lib\\site-packages\\pandas\\core\\frame.py:4441: SettingWithCopyWarning: \n",
      "A value is trying to be set on a copy of a slice from a DataFrame\n",
      "\n",
      "See the caveats in the documentation: https://pandas.pydata.org/pandas-docs/stable/user_guide/indexing.html#returning-a-view-versus-a-copy\n",
      "  return super().rename(\n"
     ]
    },
    {
     "name": "stdout",
     "output_type": "stream",
     "text": [
      "Project ID 828 is in the layer Constrained_Roadway_points\n",
      "Pass RTP 828 for the layer Constrained_Roadway_points\n",
      "Project ID 784 is in the layer Constrained_Roadway_lines\n"
     ]
    },
    {
     "name": "stderr",
     "output_type": "stream",
     "text": [
      "C:\\Users\\clid1852\\.conda\\envs\\geoenv\\lib\\site-packages\\pandas\\core\\frame.py:4441: SettingWithCopyWarning: \n",
      "A value is trying to be set on a copy of a slice from a DataFrame\n",
      "\n",
      "See the caveats in the documentation: https://pandas.pydata.org/pandas-docs/stable/user_guide/indexing.html#returning-a-view-versus-a-copy\n",
      "  return super().rename(\n"
     ]
    },
    {
     "name": "stdout",
     "output_type": "stream",
     "text": [
      "Project ID 784 is NOT in the layer Constrained_Roadway_points\n",
      "Project ID 521 is in the layer Constrained_BikePed\n"
     ]
    },
    {
     "name": "stderr",
     "output_type": "stream",
     "text": [
      "C:\\Users\\clid1852\\.conda\\envs\\geoenv\\lib\\site-packages\\pandas\\core\\frame.py:4441: SettingWithCopyWarning: \n",
      "A value is trying to be set on a copy of a slice from a DataFrame\n",
      "\n",
      "See the caveats in the documentation: https://pandas.pydata.org/pandas-docs/stable/user_guide/indexing.html#returning-a-view-versus-a-copy\n",
      "  return super().rename(\n"
     ]
    },
    {
     "name": "stdout",
     "output_type": "stream",
     "text": [
      "Project ID 521 is NOT in the layer Constrained_BikePed_points\n",
      "Project ID 812 is NOT in the layer Illustrative_BikePed\n"
     ]
    }
   ],
   "source": [
    "# Step 3\n",
    "RTP.addOldGISdata()"
   ]
  },
  {
   "cell_type": "code",
   "execution_count": 2,
   "id": "5a51016b",
   "metadata": {},
   "outputs": [
    {
     "name": "stdout",
     "output_type": "stream",
     "text": [
      "Constrained_Roadway_lines\n",
      "Added projects ['Awbrey Lane' 'Dillard Road' 'Fox Hollow Road' 'Gilham Road' '8th Avenue'] to the layer Constrained_Roadway_lines\n",
      "Constrained_Roadway_points\n",
      "Added projects [] to the layer Constrained_Roadway_points\n",
      "Illustrative_Roadway_lines\n",
      "Added projects ['30th Ave/McVay Highway/I-5 Interchange' 'Green Hill Road'\n",
      " 'Green Hill Road' 'Oakdale Ave'] to the layer Illustrative_Roadway_lines\n",
      "Illustrative_Roadway_points\n",
      "Added projects ['30th Ave Exit Ramp'] to the layer Illustrative_Roadway_points\n",
      "Constrained_BikePed\n",
      "Added projects ['Beaver-Wilkes Multi-Use Path' 'Beaver Street - Hunsaker Lane'\n",
      " 'Bob Straub Parkway' 'Pioneer Parkway'] to the layer Constrained_BikePed\n",
      "Constrained_BikePed_points\n",
      "Added projects [] to the layer Constrained_BikePed_points\n",
      "Illustrative_BikePed\n",
      "Added projects ['Extend EWEB Trail'] to the layer Illustrative_BikePed\n"
     ]
    }
   ],
   "source": [
    "# Step 4 - 1\n",
    "RTP.addNewgdf()"
   ]
  },
  {
   "cell_type": "code",
   "execution_count": 3,
   "id": "453306c9",
   "metadata": {},
   "outputs": [],
   "source": [
    "# Step 4 - 2 - data is overwritten\n",
    "RTP.addProj()\n",
    "RTP.addProj(ID=738)"
   ]
  },
  {
   "cell_type": "code",
   "execution_count": 4,
   "id": "dbd0183d",
   "metadata": {},
   "outputs": [],
   "source": [
    "IDs40 = RTP.getMappedIDs()"
   ]
  },
  {
   "cell_type": "code",
   "execution_count": 5,
   "id": "8c1a5177",
   "metadata": {},
   "outputs": [],
   "source": [
    "IDs45 = RTP.getMappedIDs(year=2045)"
   ]
  },
  {
   "cell_type": "code",
   "execution_count": 6,
   "id": "c60e5d32",
   "metadata": {},
   "outputs": [
    {
     "data": {
      "text/plain": [
       "222"
      ]
     },
     "execution_count": 6,
     "metadata": {},
     "output_type": "execute_result"
    }
   ],
   "source": [
    "len(IDs45)"
   ]
  },
  {
   "cell_type": "code",
   "execution_count": 7,
   "id": "c0b566f4",
   "metadata": {},
   "outputs": [
    {
     "data": {
      "text/plain": [
       "255"
      ]
     },
     "execution_count": 7,
     "metadata": {},
     "output_type": "execute_result"
    }
   ],
   "source": [
    "len(IDs40)"
   ]
  },
  {
   "cell_type": "code",
   "execution_count": 8,
   "id": "f0e5fc0d",
   "metadata": {},
   "outputs": [],
   "source": [
    "toMap = RTP.getToMap()"
   ]
  },
  {
   "cell_type": "code",
   "execution_count": 8,
   "id": "94523a14",
   "metadata": {},
   "outputs": [
    {
     "data": {
      "text/plain": [
       "array(['Improvements within Jasper-Natron Area', 'Awbrey Lane',\n",
       "       'Dillard Road', 'Fox Hollow Road', 'Gilham Road', '8th Avenue',\n",
       "       '30th Ave/McVay Highway/I-5 Interchange', '30th Ave Exit Ramp',\n",
       "       'Green Hill Road', 'Oakdale Ave', 'Beaver-Wilkes Multi-Use Path',\n",
       "       'Beaver Street - Hunsaker Lane', 'Bob Straub Parkway',\n",
       "       'Pioneer Parkway', 'Extend EWEB Trail',\n",
       "       'Springfield Christian School Channel Path'], dtype=object)"
      ]
     },
     "execution_count": 8,
     "metadata": {},
     "output_type": "execute_result"
    }
   ],
   "source": [
    "toMap.Name.unique()"
   ]
  },
  {
   "cell_type": "code",
   "execution_count": 9,
   "id": "834f6a6b",
   "metadata": {},
   "outputs": [
    {
     "data": {
      "text/plain": [
       "Index(['Name', 'GeographicLimits', 'Description', 'PrimaryJurisdiction',\n",
       "       'EstimatedCost', 'EstimatedYearofConstruction',\n",
       "       'YearofConstructionCostMin', 'YearofConstructionCostMax', 'Length',\n",
       "       'RTP', 'JurisdictionalProject#', 'Category', 'In'],\n",
       "      dtype='object')"
      ]
     },
     "execution_count": 9,
     "metadata": {},
     "output_type": "execute_result"
    }
   ],
   "source": [
    "toMap.columns"
   ]
  },
  {
   "cell_type": "code",
   "execution_count": 17,
   "id": "23ef3f57",
   "metadata": {},
   "outputs": [
    {
     "data": {
      "text/html": [
       "<div>\n",
       "<style scoped>\n",
       "    .dataframe tbody tr th:only-of-type {\n",
       "        vertical-align: middle;\n",
       "    }\n",
       "\n",
       "    .dataframe tbody tr th {\n",
       "        vertical-align: top;\n",
       "    }\n",
       "\n",
       "    .dataframe thead th {\n",
       "        text-align: right;\n",
       "    }\n",
       "</style>\n",
       "<table border=\"1\" class=\"dataframe\">\n",
       "  <thead>\n",
       "    <tr style=\"text-align: right;\">\n",
       "      <th></th>\n",
       "      <th>Name</th>\n",
       "      <th>GeographicLimits</th>\n",
       "      <th>Description</th>\n",
       "      <th>PrimaryJurisdiction</th>\n",
       "      <th>EstimatedCost</th>\n",
       "      <th>EstimatedYearofConstruction</th>\n",
       "      <th>YearofConstructionCostMin</th>\n",
       "      <th>YearofConstructionCostMax</th>\n",
       "      <th>Length</th>\n",
       "      <th>RTP</th>\n",
       "      <th>JurisdictionalProject#</th>\n",
       "      <th>Category</th>\n",
       "      <th>In</th>\n",
       "    </tr>\n",
       "  </thead>\n",
       "  <tbody>\n",
       "    <tr>\n",
       "      <th>24</th>\n",
       "      <td>Springfield Christian School Channel Path</td>\n",
       "      <td>Dornoch St to Laura St</td>\n",
       "      <td>Construct a new multi-use 12-foot wide path fr...</td>\n",
       "      <td>Springfield</td>\n",
       "      <td>NaN</td>\n",
       "      <td>Beyond 20 years</td>\n",
       "      <td>NaN</td>\n",
       "      <td>NaN</td>\n",
       "      <td>NaN</td>\n",
       "      <td>NaN</td>\n",
       "      <td>PB-6</td>\n",
       "      <td>Multi-Use Paths Without Road Project</td>\n",
       "      <td>Bike Illustrative</td>\n",
       "    </tr>\n",
       "  </tbody>\n",
       "</table>\n",
       "</div>"
      ],
      "text/plain": [
       "                                         Name        GeographicLimits  \\\n",
       "24  Springfield Christian School Channel Path  Dornoch St to Laura St   \n",
       "\n",
       "                                          Description PrimaryJurisdiction  \\\n",
       "24  Construct a new multi-use 12-foot wide path fr...         Springfield   \n",
       "\n",
       "    EstimatedCost EstimatedYearofConstruction  YearofConstructionCostMin  \\\n",
       "24            NaN             Beyond 20 years                        NaN   \n",
       "\n",
       "    YearofConstructionCostMax Length  RTP JurisdictionalProject#  \\\n",
       "24                        NaN    NaN  NaN                   PB-6   \n",
       "\n",
       "                                Category                  In  \n",
       "24  Multi-Use Paths Without Road Project  Bike Illustrative   "
      ]
     },
     "execution_count": 17,
     "metadata": {},
     "output_type": "execute_result"
    }
   ],
   "source": [
    "toMap.tail(1)"
   ]
  },
  {
   "cell_type": "code",
   "execution_count": 10,
   "id": "ed6bd2b0",
   "metadata": {},
   "outputs": [
    {
     "data": {
      "text/plain": [
       "Int64Index([0, 1, 2, 3, 4, 11, 12, 13, 14, 15, 16, 17, 18, 19, 21, 23, 24], dtype='int64')"
      ]
     },
     "execution_count": 10,
     "metadata": {},
     "output_type": "execute_result"
    }
   ],
   "source": [
    "toMap.index"
   ]
  },
  {
   "cell_type": "code",
   "execution_count": null,
   "id": "99753ed7",
   "metadata": {},
   "outputs": [],
   "source": [
    "#newIDs = random.sample([i for i in range(100,500) if i not in IDs45], toMap.shape[0])"
   ]
  },
  {
   "cell_type": "code",
   "execution_count": 14,
   "id": "159dfc74",
   "metadata": {},
   "outputs": [],
   "source": [
    "#LineProj = mappedNewProj[mappedNewProj.Name != '30th Ave Exit Ramp'] # RTP - 492"
   ]
  },
  {
   "cell_type": "code",
   "execution_count": 11,
   "id": "55a36ad4",
   "metadata": {},
   "outputs": [],
   "source": [
    "inpath = r'T:\\MPO\\RTP\\FY16 2040 Update\\Data\\RTP_2040_Data.gdb'"
   ]
  },
  {
   "cell_type": "code",
   "execution_count": 12,
   "id": "b79c2128",
   "metadata": {},
   "outputs": [],
   "source": [
    "gdf = gpd.read_file(inpath, layer='Illustrative_BikePed')"
   ]
  },
  {
   "cell_type": "code",
   "execution_count": 14,
   "id": "d5636fb6",
   "metadata": {},
   "outputs": [],
   "source": [
    "Proj = gdf[gdf.NAME == 'SCS Channel Path']"
   ]
  },
  {
   "cell_type": "code",
   "execution_count": 15,
   "id": "d49104ef",
   "metadata": {},
   "outputs": [
    {
     "data": {
      "text/html": [
       "<div>\n",
       "<style scoped>\n",
       "    .dataframe tbody tr th:only-of-type {\n",
       "        vertical-align: middle;\n",
       "    }\n",
       "\n",
       "    .dataframe tbody tr th {\n",
       "        vertical-align: top;\n",
       "    }\n",
       "\n",
       "    .dataframe thead th {\n",
       "        text-align: right;\n",
       "    }\n",
       "</style>\n",
       "<table border=\"1\" class=\"dataframe\">\n",
       "  <thead>\n",
       "    <tr style=\"text-align: right;\">\n",
       "      <th></th>\n",
       "      <th>OBJECTID</th>\n",
       "      <th>LENGTH</th>\n",
       "      <th>FTYPE</th>\n",
       "      <th>STATUS</th>\n",
       "      <th>SOURCE</th>\n",
       "      <th>EUG_ID</th>\n",
       "      <th>EUG_CODE</th>\n",
       "      <th>LCOG_CODE</th>\n",
       "      <th>PROJNUM</th>\n",
       "      <th>NAME</th>\n",
       "      <th>...</th>\n",
       "      <th>Shape_Leng</th>\n",
       "      <th>Category</th>\n",
       "      <th>Priority_S</th>\n",
       "      <th>MTIP_Categ</th>\n",
       "      <th>MTIP_Lette</th>\n",
       "      <th>RTP_ID</th>\n",
       "      <th>Shape_Length</th>\n",
       "      <th>Archive</th>\n",
       "      <th>Duplicate</th>\n",
       "      <th>geometry</th>\n",
       "    </tr>\n",
       "  </thead>\n",
       "  <tbody>\n",
       "    <tr>\n",
       "      <th>13</th>\n",
       "      <td>NaN</td>\n",
       "      <td>0.784145</td>\n",
       "      <td>None</td>\n",
       "      <td>None</td>\n",
       "      <td>None</td>\n",
       "      <td>NaN</td>\n",
       "      <td>NaN</td>\n",
       "      <td>NaN</td>\n",
       "      <td>NaN</td>\n",
       "      <td>SCS Channel Path</td>\n",
       "      <td>...</td>\n",
       "      <td>4140.291983</td>\n",
       "      <td>8</td>\n",
       "      <td>None</td>\n",
       "      <td>None</td>\n",
       "      <td>None</td>\n",
       "      <td>738</td>\n",
       "      <td>4140.291983</td>\n",
       "      <td>None</td>\n",
       "      <td>None</td>\n",
       "      <td>MULTILINESTRING ((4256362.424 885250.912, 4256...</td>\n",
       "    </tr>\n",
       "  </tbody>\n",
       "</table>\n",
       "<p>1 rows × 29 columns</p>\n",
       "</div>"
      ],
      "text/plain": [
       "    OBJECTID    LENGTH FTYPE STATUS SOURCE  EUG_ID  EUG_CODE  LCOG_CODE  \\\n",
       "13       NaN  0.784145  None   None   None     NaN       NaN        NaN   \n",
       "\n",
       "    PROJNUM              NAME  ...   Shape_Leng Category Priority_S  \\\n",
       "13      NaN  SCS Channel Path  ...  4140.291983        8       None   \n",
       "\n",
       "   MTIP_Categ MTIP_Lette  RTP_ID Shape_Length  Archive Duplicate  \\\n",
       "13       None       None     738  4140.291983     None      None   \n",
       "\n",
       "                                             geometry  \n",
       "13  MULTILINESTRING ((4256362.424 885250.912, 4256...  \n",
       "\n",
       "[1 rows x 29 columns]"
      ]
     },
     "execution_count": 15,
     "metadata": {},
     "output_type": "execute_result"
    }
   ],
   "source": [
    "Proj"
   ]
  },
  {
   "cell_type": "code",
   "execution_count": 16,
   "id": "3b45311d",
   "metadata": {},
   "outputs": [
    {
     "data": {
      "text/plain": [
       "13    738\n",
       "Name: RTP_ID, dtype: int64"
      ]
     },
     "execution_count": 16,
     "metadata": {},
     "output_type": "execute_result"
    }
   ],
   "source": [
    "Proj['RTP_ID']"
   ]
  }
 ],
 "metadata": {
  "kernelspec": {
   "display_name": "Python 3",
   "language": "python",
   "name": "python3"
  },
  "language_info": {
   "codemirror_mode": {
    "name": "ipython",
    "version": 3
   },
   "file_extension": ".py",
   "mimetype": "text/x-python",
   "name": "python",
   "nbconvert_exporter": "python",
   "pygments_lexer": "ipython3",
   "version": "3.8.8"
  }
 },
 "nbformat": 4,
 "nbformat_minor": 5
}

{
 "cells": [
  {
   "cell_type": "code",
   "execution_count": 1,
   "id": "8969c002",
   "metadata": {},
   "outputs": [],
   "source": [
    "import random\n",
    "from random import seed\n",
    "from random import randint\n",
    "import review_RTP as RTP"
   ]
  },
  {
   "cell_type": "code",
   "execution_count": 2,
   "id": "4ba7d42d",
   "metadata": {},
   "outputs": [],
   "source": [
    "IDs40 = RTP.getMappedIDs()"
   ]
  },
  {
   "cell_type": "code",
   "execution_count": 3,
   "id": "3a9b2cac",
   "metadata": {},
   "outputs": [],
   "source": [
    "IDs45 = RTP.getMappedIDs(year=2045)"
   ]
  },
  {
   "cell_type": "code",
   "execution_count": 5,
   "id": "94ed0a36",
   "metadata": {},
   "outputs": [
    {
     "data": {
      "text/plain": [
       "205"
      ]
     },
     "execution_count": 5,
     "metadata": {},
     "output_type": "execute_result"
    }
   ],
   "source": [
    "len(IDs45)"
   ]
  },
  {
   "cell_type": "code",
   "execution_count": 17,
   "id": "14ca08b9",
   "metadata": {},
   "outputs": [
    {
     "data": {
      "text/plain": [
       "255"
      ]
     },
     "execution_count": 17,
     "metadata": {},
     "output_type": "execute_result"
    }
   ],
   "source": [
    "len(IDs40)"
   ]
  },
  {
   "cell_type": "code",
   "execution_count": 2,
   "id": "2d74c998",
   "metadata": {},
   "outputs": [],
   "source": [
    "toMap = RTP.getToMap()"
   ]
  },
  {
   "cell_type": "code",
   "execution_count": 4,
   "id": "45c94675",
   "metadata": {},
   "outputs": [],
   "source": [
    "newIDs = random.sample([i for i in range(100,500) if i not in IDs45], toMap.shape[0])"
   ]
  },
  {
   "cell_type": "code",
   "execution_count": 6,
   "id": "f83b604a",
   "metadata": {},
   "outputs": [
    {
     "data": {
      "text/plain": [
       "[488,\n",
       " 460,\n",
       " 144,\n",
       " 382,\n",
       " 390,\n",
       " 411,\n",
       " 470,\n",
       " 492,\n",
       " 149,\n",
       " 353,\n",
       " 193,\n",
       " 170,\n",
       " 173,\n",
       " 410,\n",
       " 299,\n",
       " 216,\n",
       " 136]"
      ]
     },
     "execution_count": 6,
     "metadata": {},
     "output_type": "execute_result"
    }
   ],
   "source": [
    "newIDs"
   ]
  },
  {
   "cell_type": "code",
   "execution_count": null,
   "id": "653fc8d7",
   "metadata": {},
   "outputs": [],
   "source": []
  }
 ],
 "metadata": {
  "kernelspec": {
   "display_name": "Python 3",
   "language": "python",
   "name": "python3"
  },
  "language_info": {
   "codemirror_mode": {
    "name": "ipython",
    "version": 3
   },
   "file_extension": ".py",
   "mimetype": "text/x-python",
   "name": "python",
   "nbconvert_exporter": "python",
   "pygments_lexer": "ipython3",
   "version": "3.8.8"
  }
 },
 "nbformat": 4,
 "nbformat_minor": 5
}

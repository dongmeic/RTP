{
 "cells": [
  {
   "cell_type": "code",
   "execution_count": 1,
   "metadata": {},
   "outputs": [],
   "source": [
    "import geopandas as gpd\n",
    "import fiona, re\n",
    "import numpy as np\n",
    "import review_RTP as RTP\n",
    "import collections"
   ]
  },
  {
   "cell_type": "code",
   "execution_count": 2,
   "metadata": {},
   "outputs": [],
   "source": [
    "IDs = RTP.reviewIDforGIS().RTP_ID.values"
   ]
  },
  {
   "cell_type": "code",
   "execution_count": 6,
   "metadata": {},
   "outputs": [
    {
     "data": {
      "text/plain": [
       "array([924, 333, 828,  32, 918, 813, 515, 518, 524, 536, 539], dtype=int64)"
      ]
     },
     "execution_count": 6,
     "metadata": {},
     "output_type": "execute_result"
    }
   ],
   "source": [
    "IDs"
   ]
  },
  {
   "cell_type": "code",
   "execution_count": 3,
   "metadata": {},
   "outputs": [],
   "source": [
    "targetLayers = RTP.targetLayers()"
   ]
  },
  {
   "cell_type": "code",
   "execution_count": 4,
   "metadata": {},
   "outputs": [],
   "source": [
    "inpath = r'T:\\MPO\\RTP\\FY16 2040 Update\\Data\\RTP_2040_Data.gdb'"
   ]
  },
  {
   "cell_type": "code",
   "execution_count": 5,
   "metadata": {},
   "outputs": [
    {
     "name": "stdout",
     "output_type": "stream",
     "text": [
      "Constrained_Roadway_lines\n",
      "    OBJECTID    LENGTH      JURISOLD  TPNUM               NAMEOLD  \\\n",
      "22     191.0  1.701165  Eugene, ODOT  333.0        W. 11th Avenue   \n",
      "57      58.0  0.499605   Springfield  930.0  Centennial Boulevard   \n",
      "66      11.0  0.461218   Springfield  918.0           35th Street   \n",
      "75       0.0  0.492735   Springfield    0.0            E 19th Ave   \n",
      "92      77.0  2.053979   Springfield   98.0         Thurston Road   \n",
      "\n",
      "                                NAME                         LIMITS  \\\n",
      "22                    W. 11th Avenue      Green Hill Rd to Terry St   \n",
      "57  Centennial Blvd/ Industrial Blvd     28th Street to 35th Street   \n",
      "66                       35th Street   Olympic Street to Commercial   \n",
      "75                  East 19th Avenue  Henderson Avenue to McVay Hwy   \n",
      "92                     Thurston Road             Weaver Road to UGB   \n",
      "\n",
      "                  JURISDICTI        STATUS CATEGORY  ...  FUNCTIONAL  \\\n",
      "22              Eugene, ODOT  Unprogrammed        4  ...               \n",
      "57               Springfield  Unprogrammed        4  ...               \n",
      "66               Springfield  Unprogrammed        5  ...               \n",
      "75  Springfield, Lane County                      5  ...               \n",
      "92               Lane County  Unprogrammed        5  ...               \n",
      "\n",
      "     Shape_Leng  MTIP_Categ MTIP_Lette RTP_ID  Shape_Length  Duplicate  \\\n",
      "22  5530.705767          99               333   8982.168627              \n",
      "57  2637.919222          99               924   2637.919347              \n",
      "66  2435.234106          99               918   2435.234204              \n",
      "75     0.000000                           828   2601.647044              \n",
      "92  5551.773775          99                32  10845.028648              \n",
      "\n",
      "   Archived Study                                           geometry  \n",
      "22                 MULTILINESTRING ((4212647.645 879483.078, 4212...  \n",
      "57                 MULTILINESTRING ((4270214.750 880150.407, 4269...  \n",
      "66                 MULTILINESTRING ((4270286.460 881686.566, 4270...  \n",
      "75                 MULTILINESTRING ((4253799.210 875031.378, 4255...  \n",
      "92                 MULTILINESTRING ((4290970.526 878348.072, 4290...  \n",
      "\n",
      "[5 rows x 21 columns]\n",
      "Index(['OBJECTID', 'LENGTH', 'JURISOLD', 'TPNUM', 'NAMEOLD', 'NAME', 'LIMITS',\n",
      "       'JURISDICTI', 'STATUS', 'CATEGORY', 'SYMBOL', 'FUNCTIONAL',\n",
      "       'Shape_Leng', 'MTIP_Categ', 'MTIP_Lette', 'RTP_ID', 'Shape_Length',\n",
      "       'Duplicate', 'Archived', 'Study', 'geometry'],\n",
      "      dtype='object')\n",
      "Constrained_Roadway_points\n",
      "    OBJECTID  AREA  PERIMETER  MTPROJ_  MTPROJ_ID  PROJNUM1        JURIS  \\\n",
      "13      58.0   0.0        0.0      0.0        0.0       0.0  Springfield   \n",
      "14       7.0   0.0        0.0      8.0       45.0     253.0  Springfield   \n",
      "22       NaN   NaN        NaN      NaN        NaN       NaN  Springfield   \n",
      "\n",
      "    NEWNUM                NAME                NAME_1  ...    STATCODEDE  \\\n",
      "13   828.0            Q Street              Q Street  ...  Unprogrammed   \n",
      "14   924.0     Centennial Blvd  Centennial Boulevard  ...  Unprogrammed   \n",
      "22     NaN  Bob Straub Parkway    Bob Straub Parkway  ...          None   \n",
      "\n",
      "                        PROJCATGNA SYMBOL Category  MTIP_Categ MTIP_Lette  \\\n",
      "13  Arterial Capacity Improvements    3.0        3                          \n",
      "14  Arterial Capacity Improvements    3.0        3          99              \n",
      "22  Arterial Capacity Improvements    NaN        3        None       None   \n",
      "\n",
      "   RTP_ID Duplicate  Study                        geometry  \n",
      "13    828      None   None  POINT (4259094.085 882999.816)  \n",
      "14    924      None   None  POINT (4267610.210 880529.128)  \n",
      "22     32      None   None  POINT (4282508.459 874866.129)  \n",
      "\n",
      "[3 rows x 22 columns]\n",
      "Index(['OBJECTID', 'AREA', 'PERIMETER', 'MTPROJ_', 'MTPROJ_ID', 'PROJNUM1',\n",
      "       'JURIS', 'NEWNUM', 'NAME', 'NAME_1', 'LIMITS', 'DESCRIPTIO',\n",
      "       'STATCODEDE', 'PROJCATGNA', 'SYMBOL', 'Category', 'MTIP_Categ',\n",
      "       'MTIP_Lette', 'RTP_ID', 'Duplicate', 'Study', 'geometry'],\n",
      "      dtype='object')\n",
      "Constrained_BikePed\n",
      "     OBJECTID    LENGTH FTYPE STATUS SOURCE  EUG_ID  EUG_CODE  LCOG_CODE  \\\n",
      "8      1484.0  1.047499  lane   plan   lcog     NaN       0.0        0.0   \n",
      "31      957.0  0.529546  lane   plan   lcog     NaN      31.0       31.0   \n",
      "32      968.0  1.092580  rout   plan   lcog     NaN      32.0       32.0   \n",
      "34     1076.0  0.959950  lane   plan   lcog     NaN      31.0       31.0   \n",
      "35      578.0  0.864265  lane   plan   lcog     NaN      31.0       31.0   \n",
      "36      958.0  1.027936  lane   plan   lcog     NaN      31.0       31.0   \n",
      "53        NaN  0.316850  None   None   None     NaN       NaN        NaN   \n",
      "63      837.0  0.461213  lane   plan   lcog     0.0      31.0       31.0   \n",
      "78        NaN  0.585686  None   None   None     NaN       NaN        NaN   \n",
      "110     957.0  0.529546  lane   plan   lcog     NaN      31.0       31.0   \n",
      "111     968.0  1.092580  rout   plan   lcog     NaN      32.0       32.0   \n",
      "112    1076.0  0.959950  lane   plan   lcog     NaN      31.0       31.0   \n",
      "113     578.0  0.864265  lane   plan   lcog     NaN      31.0       31.0   \n",
      "114     958.0  1.027936  lane   plan   lcog     NaN      31.0       31.0   \n",
      "\n",
      "     PROJNUM                      NAME  ... Category Priority_S MTIP_Categ  \\\n",
      "8      333.0          West 11th Avenue  ...        6          N         99   \n",
      "31     515.0              Grove Street  ...        5          N         99   \n",
      "32     518.0                  Hilliard  ...        7          N         99   \n",
      "34     524.0             Howard Avenue  ...        7          N         99   \n",
      "35     536.0  Lake Dr/Horn/N. Park Ave  ...        7          N         99   \n",
      "36     539.0            N. Park Avenue  ...        7          N         99   \n",
      "53       NaN             Anderson Lane  ...        8       None       None   \n",
      "63     918.0               35th Street  ...        6          Y         99   \n",
      "78       NaN             Anderson Lane  ...        7       None       None   \n",
      "110    515.0              Grove Street  ...        7          N         99   \n",
      "111    518.0                  Hilliard  ...        5          N         99   \n",
      "112    524.0             Howard Avenue  ...        5          N         99   \n",
      "113    536.0  Lake Dr/Horn/N. Park Ave  ...        5          N         99   \n",
      "114    539.0            N. Park Avenue  ...        5          N         99   \n",
      "\n",
      "    MTIP_Lette RTP_ID  Shape_Length Study  Duplicate Archived  \\\n",
      "8                 333   5530.807825  None       None     None   \n",
      "31                515   2796.006269  None       None     None   \n",
      "32                518   5768.836017  None       None     None   \n",
      "34                524   5068.544082  None       None     None   \n",
      "35                536   4563.330641  None       None     None   \n",
      "36                539   5427.512805  None       None     None   \n",
      "53        None    813   1672.971821  None       None     None   \n",
      "63                918   2435.207694  None       None     None   \n",
      "78        None    813   3092.427964  None       None     None   \n",
      "110               515   2796.006269  None       None     None   \n",
      "111               518   5768.836017  None       None     None   \n",
      "112               524   5068.544082  None       None     None   \n",
      "113               536   4563.330641  None       None     None   \n",
      "114               539   5427.512805  None       None     None   \n",
      "\n",
      "                                              geometry  \n",
      "8    MULTILINESTRING ((4209268.086 880788.508, 4209...  \n",
      "31   MULTILINESTRING ((4228219.071 896195.789, 4228...  \n",
      "32   MULTILINESTRING ((4228135.108 890099.965, 4228...  \n",
      "34   MULTILINESTRING ((4226609.605 893471.489, 4227...  \n",
      "35   MULTILINESTRING ((4228379.111 893372.519, 4228...  \n",
      "36   MULTILINESTRING ((4226625.100 894322.232, 4226...  \n",
      "53   MULTILINESTRING ((4251522.210 880948.378, 4251...  \n",
      "63   MULTILINESTRING ((4270286.460 881686.566, 4270...  \n",
      "78   MULTILINESTRING ((4251522.210 880948.378, 4251...  \n",
      "110  MULTILINESTRING ((4228219.071 896195.789, 4228...  \n",
      "111  MULTILINESTRING ((4228135.108 890099.965, 4228...  \n",
      "112  MULTILINESTRING ((4226609.605 893471.489, 4227...  \n",
      "113  MULTILINESTRING ((4228379.111 893372.519, 4228...  \n",
      "114  MULTILINESTRING ((4226625.100 894322.232, 4226...  \n",
      "\n",
      "[14 rows x 30 columns]\n",
      "Index(['OBJECTID', 'LENGTH', 'FTYPE', 'STATUS', 'SOURCE', 'EUG_ID', 'EUG_CODE',\n",
      "       'LCOG_CODE', 'PROJNUM', 'NAME', 'NAME2', 'JURIS', 'LIMITS',\n",
      "       'JURIS_PRIM', 'STATUS_COD', 'BIKECATGCO', 'HASAUTO', 'CLASSCODE',\n",
      "       'symbology_', 'Shape_Leng', 'Category', 'Priority_S', 'MTIP_Categ',\n",
      "       'MTIP_Lette', 'RTP_ID', 'Shape_Length', 'Study', 'Duplicate',\n",
      "       'Archived', 'geometry'],\n",
      "      dtype='object')\n"
     ]
    }
   ],
   "source": [
    "# check the repeated ID in GIS\n",
    "for layer in targetLayers:\n",
    "    gdf = RTP.reviewIDinGIS(layer=layer, IDs=IDs)\n",
    "    if gdf.shape[0] > 0:\n",
    "        print(layer)\n",
    "        print(gdf)\n",
    "        print(gdf.columns)"
   ]
  },
  {
   "cell_type": "code",
   "execution_count": 9,
   "metadata": {},
   "outputs": [
    {
     "name": "stdout",
     "output_type": "stream",
     "text": [
      "ID [1100, 312] are duplicated [7, 2] times in layer Constrained_Roadway_lines\n",
      "Constrained_Roadway_points has all unique IDs\n",
      "ID [66] are duplicated [2] times in layer Illustrative_Roadway_lines\n",
      "Illustrative_Roadway_points has all unique IDs\n",
      "ID [515, 518, 524, 536, 539, 759, 813] are duplicated [2, 2, 2, 2, 2, 2, 2] times in layer Constrained_BikePed\n",
      "ID [721, 720, 922] are duplicated [2, 5, 2] times in layer Constrained_BikePed_points\n",
      "Illustrative_BikePed has all unique IDs\n"
     ]
    }
   ],
   "source": [
    "# check duplicated spatial features in 2040\n",
    "for layer in targetLayers:\n",
    "    gdf = gpd.read_file(inpath, layer=layer)\n",
    "    if gdf.shape[0] > len(gdf.RTP_ID.unique()):\n",
    "        IDs = [item for item, count in collections.Counter(gdf.RTP_ID.values).items() if count > 1]\n",
    "        Counts = [count for item, count in collections.Counter(gdf.RTP_ID.values).items() if count > 1]\n",
    "        print(\"ID {0} are duplicated {1} times in layer {2}\".format(IDs, Counts, layer))\n",
    "    else:\n",
    "        print(\"{0} has all unique IDs\".format(layer))  "
   ]
  },
  {
   "cell_type": "code",
   "execution_count": 11,
   "metadata": {},
   "outputs": [],
   "source": [
    "layers = fiona.listlayers(inpath)"
   ]
  },
  {
   "cell_type": "code",
   "execution_count": 12,
   "metadata": {},
   "outputs": [
    {
     "data": {
      "text/plain": [
       "['FC_roadwaypts',\n",
       " 'FC_roadway',\n",
       " 'Future_roadwaypts',\n",
       " 'Future_roadway',\n",
       " 'FC_bike',\n",
       " 'PriorityBike',\n",
       " 'Future_bike',\n",
       " 'StreetsAnno',\n",
       " 'RiverAnno',\n",
       " 'deqStreamAnno',\n",
       " 'NHS',\n",
       " 'statefreight_rt',\n",
       " 'Constrained_Roadway_lines',\n",
       " 'Constrained_Roadway_points',\n",
       " 'Constrained_BikePed',\n",
       " 'Illustrative_BikePed',\n",
       " 'Illustrative_Roadway_lines',\n",
       " 'Illustrative_Roadway_points',\n",
       " 'Constrained_StudyAreas',\n",
       " 'Constrained_BikePed_points',\n",
       " 'Constrained_BikePed_P1',\n",
       " 'Constrained_BikePed_points_P1',\n",
       " 'Constrained_Roadway_lines_P1',\n",
       " 'Constrained_Roadway_points_P1',\n",
       " 'Illustrative_BikePed_P1',\n",
       " 'Illustrative_Roadway_lines_P1',\n",
       " 'Illustrative_Roadway_points_P1',\n",
       " 'FiscallyConstrained_TransitProjects',\n",
       " 'Illustrative_TransitProjects']"
      ]
     },
     "execution_count": 12,
     "metadata": {},
     "output_type": "execute_result"
    }
   ],
   "source": [
    "layers"
   ]
  },
  {
   "cell_type": "code",
   "execution_count": 14,
   "metadata": {},
   "outputs": [],
   "source": [
    "layer = 'Constrained_BikePed'\n",
    "#layer = 'Constrained_Roadway_points'\n",
    "#layer = 'Constrained_Roadway_lines'\n",
    "#layer = 'Illustrative_TransitProjects'\n",
    "gdf = gpd.read_file(inpath, layer=layer)"
   ]
  },
  {
   "cell_type": "code",
   "execution_count": 15,
   "metadata": {},
   "outputs": [
    {
     "data": {
      "text/plain": [
       "['OBJECTID',\n",
       " 'LENGTH',\n",
       " 'FTYPE',\n",
       " 'STATUS',\n",
       " 'SOURCE',\n",
       " 'EUG_ID',\n",
       " 'EUG_CODE',\n",
       " 'LCOG_CODE',\n",
       " 'PROJNUM',\n",
       " 'NAME',\n",
       " 'NAME2',\n",
       " 'JURIS',\n",
       " 'LIMITS',\n",
       " 'JURIS_PRIM',\n",
       " 'STATUS_COD',\n",
       " 'BIKECATGCO',\n",
       " 'HASAUTO',\n",
       " 'CLASSCODE',\n",
       " 'symbology_',\n",
       " 'Shape_Leng',\n",
       " 'Category',\n",
       " 'Priority_S',\n",
       " 'MTIP_Categ',\n",
       " 'MTIP_Lette',\n",
       " 'RTP_ID',\n",
       " 'Shape_Length',\n",
       " 'Study',\n",
       " 'Duplicate',\n",
       " 'Archived',\n",
       " 'geometry']"
      ]
     },
     "execution_count": 15,
     "metadata": {},
     "output_type": "execute_result"
    }
   ],
   "source": [
    "list(gdf.columns)"
   ]
  },
  {
   "cell_type": "code",
   "execution_count": 9,
   "metadata": {},
   "outputs": [
    {
     "data": {
      "text/plain": [
       "(114, 21)"
      ]
     },
     "execution_count": 9,
     "metadata": {},
     "output_type": "execute_result"
    }
   ],
   "source": [
    "gdf.shape"
   ]
  },
  {
   "cell_type": "code",
   "execution_count": 10,
   "metadata": {},
   "outputs": [
    {
     "data": {
      "text/html": [
       "<div>\n",
       "<style scoped>\n",
       "    .dataframe tbody tr th:only-of-type {\n",
       "        vertical-align: middle;\n",
       "    }\n",
       "\n",
       "    .dataframe tbody tr th {\n",
       "        vertical-align: top;\n",
       "    }\n",
       "\n",
       "    .dataframe thead th {\n",
       "        text-align: right;\n",
       "    }\n",
       "</style>\n",
       "<table border=\"1\" class=\"dataframe\">\n",
       "  <thead>\n",
       "    <tr style=\"text-align: right;\">\n",
       "      <th></th>\n",
       "      <th>RTP_ID</th>\n",
       "      <th>NAME</th>\n",
       "      <th>LIMITS</th>\n",
       "      <th>CATEGORY</th>\n",
       "    </tr>\n",
       "  </thead>\n",
       "  <tbody>\n",
       "    <tr>\n",
       "      <th>22</th>\n",
       "      <td>333</td>\n",
       "      <td>W. 11th Avenue</td>\n",
       "      <td>Green Hill Rd to Terry St</td>\n",
       "      <td>4</td>\n",
       "    </tr>\n",
       "    <tr>\n",
       "      <th>57</th>\n",
       "      <td>924</td>\n",
       "      <td>Centennial Blvd/ Industrial Blvd</td>\n",
       "      <td>28th Street to 35th Street</td>\n",
       "      <td>4</td>\n",
       "    </tr>\n",
       "    <tr>\n",
       "      <th>66</th>\n",
       "      <td>918</td>\n",
       "      <td>35th Street</td>\n",
       "      <td>Olympic Street to Commercial</td>\n",
       "      <td>5</td>\n",
       "    </tr>\n",
       "    <tr>\n",
       "      <th>75</th>\n",
       "      <td>828</td>\n",
       "      <td>East 19th Avenue</td>\n",
       "      <td>Henderson Avenue to McVay Hwy</td>\n",
       "      <td>5</td>\n",
       "    </tr>\n",
       "    <tr>\n",
       "      <th>92</th>\n",
       "      <td>32</td>\n",
       "      <td>Thurston Road</td>\n",
       "      <td>Weaver Road to UGB</td>\n",
       "      <td>5</td>\n",
       "    </tr>\n",
       "  </tbody>\n",
       "</table>\n",
       "</div>"
      ],
      "text/plain": [
       "    RTP_ID                              NAME                         LIMITS  \\\n",
       "22     333                    W. 11th Avenue      Green Hill Rd to Terry St   \n",
       "57     924  Centennial Blvd/ Industrial Blvd     28th Street to 35th Street   \n",
       "66     918                       35th Street   Olympic Street to Commercial   \n",
       "75     828                  East 19th Avenue  Henderson Avenue to McVay Hwy   \n",
       "92      32                     Thurston Road             Weaver Road to UGB   \n",
       "\n",
       "   CATEGORY  \n",
       "22        4  \n",
       "57        4  \n",
       "66        5  \n",
       "75        5  \n",
       "92        5  "
      ]
     },
     "execution_count": 10,
     "metadata": {},
     "output_type": "execute_result"
    }
   ],
   "source": [
    "# Constrained_Roadway_lines\n",
    "gdf[gdf.RTP_ID.isin(IDs)][['RTP_ID', 'NAME', 'LIMITS', 'CATEGORY']]"
   ]
  },
  {
   "cell_type": "code",
   "execution_count": 13,
   "metadata": {},
   "outputs": [
    {
     "data": {
      "text/html": [
       "<div>\n",
       "<style scoped>\n",
       "    .dataframe tbody tr th:only-of-type {\n",
       "        vertical-align: middle;\n",
       "    }\n",
       "\n",
       "    .dataframe tbody tr th {\n",
       "        vertical-align: top;\n",
       "    }\n",
       "\n",
       "    .dataframe thead th {\n",
       "        text-align: right;\n",
       "    }\n",
       "</style>\n",
       "<table border=\"1\" class=\"dataframe\">\n",
       "  <thead>\n",
       "    <tr style=\"text-align: right;\">\n",
       "      <th></th>\n",
       "      <th>RTP_ID</th>\n",
       "      <th>NAME</th>\n",
       "      <th>LIMITS</th>\n",
       "      <th>Category</th>\n",
       "    </tr>\n",
       "  </thead>\n",
       "  <tbody>\n",
       "    <tr>\n",
       "      <th>13</th>\n",
       "      <td>828</td>\n",
       "      <td>Q Street</td>\n",
       "      <td>@ 5th Street</td>\n",
       "      <td>3</td>\n",
       "    </tr>\n",
       "    <tr>\n",
       "      <th>14</th>\n",
       "      <td>924</td>\n",
       "      <td>Centennial Blvd</td>\n",
       "      <td>@ 28th Street</td>\n",
       "      <td>3</td>\n",
       "    </tr>\n",
       "    <tr>\n",
       "      <th>22</th>\n",
       "      <td>32</td>\n",
       "      <td>Bob Straub Parkway</td>\n",
       "      <td>@ Daisy Street</td>\n",
       "      <td>3</td>\n",
       "    </tr>\n",
       "  </tbody>\n",
       "</table>\n",
       "</div>"
      ],
      "text/plain": [
       "    RTP_ID                NAME          LIMITS Category\n",
       "13     828            Q Street    @ 5th Street        3\n",
       "14     924     Centennial Blvd   @ 28th Street        3\n",
       "22      32  Bob Straub Parkway  @ Daisy Street        3"
      ]
     },
     "execution_count": 13,
     "metadata": {},
     "output_type": "execute_result"
    }
   ],
   "source": [
    "#Constrained_Roadway_points\n",
    "gdf[gdf.RTP_ID.isin(IDs)][['RTP_ID', 'NAME', 'LIMITS', 'Category']]"
   ]
  },
  {
   "cell_type": "code",
   "execution_count": 16,
   "metadata": {},
   "outputs": [
    {
     "data": {
      "text/html": [
       "<div>\n",
       "<style scoped>\n",
       "    .dataframe tbody tr th:only-of-type {\n",
       "        vertical-align: middle;\n",
       "    }\n",
       "\n",
       "    .dataframe tbody tr th {\n",
       "        vertical-align: top;\n",
       "    }\n",
       "\n",
       "    .dataframe thead th {\n",
       "        text-align: right;\n",
       "    }\n",
       "</style>\n",
       "<table border=\"1\" class=\"dataframe\">\n",
       "  <thead>\n",
       "    <tr style=\"text-align: right;\">\n",
       "      <th></th>\n",
       "      <th>RTP_ID</th>\n",
       "      <th>NAME</th>\n",
       "      <th>LIMITS</th>\n",
       "      <th>Category</th>\n",
       "    </tr>\n",
       "  </thead>\n",
       "  <tbody>\n",
       "    <tr>\n",
       "      <th>8</th>\n",
       "      <td>333</td>\n",
       "      <td>West 11th Avenue</td>\n",
       "      <td>Green Hill Rd to Terry St</td>\n",
       "      <td>6</td>\n",
       "    </tr>\n",
       "    <tr>\n",
       "      <th>31</th>\n",
       "      <td>515</td>\n",
       "      <td>Grove Street</td>\n",
       "      <td>Silver Lane  to Howard Avenue</td>\n",
       "      <td>5</td>\n",
       "    </tr>\n",
       "    <tr>\n",
       "      <th>32</th>\n",
       "      <td>518</td>\n",
       "      <td>Hilliard</td>\n",
       "      <td>N. Park Avenue to W. Bank Trail</td>\n",
       "      <td>7</td>\n",
       "    </tr>\n",
       "    <tr>\n",
       "      <th>34</th>\n",
       "      <td>524</td>\n",
       "      <td>Howard Avenue</td>\n",
       "      <td>N. Park Avenue to River Road</td>\n",
       "      <td>7</td>\n",
       "    </tr>\n",
       "    <tr>\n",
       "      <th>35</th>\n",
       "      <td>536</td>\n",
       "      <td>Lake Dr/Horn/N. Park Ave</td>\n",
       "      <td>Howard  Ave to Northwest Expressway</td>\n",
       "      <td>7</td>\n",
       "    </tr>\n",
       "    <tr>\n",
       "      <th>36</th>\n",
       "      <td>539</td>\n",
       "      <td>N. Park Avenue</td>\n",
       "      <td>Maxwell Road to Horn Lane</td>\n",
       "      <td>7</td>\n",
       "    </tr>\n",
       "    <tr>\n",
       "      <th>53</th>\n",
       "      <td>813</td>\n",
       "      <td>Anderson Lane</td>\n",
       "      <td>Anderson Lane to Quinalt Street</td>\n",
       "      <td>8</td>\n",
       "    </tr>\n",
       "    <tr>\n",
       "      <th>63</th>\n",
       "      <td>918</td>\n",
       "      <td>35th Street</td>\n",
       "      <td>Olympic Street to Commercial Avenue</td>\n",
       "      <td>6</td>\n",
       "    </tr>\n",
       "    <tr>\n",
       "      <th>78</th>\n",
       "      <td>813</td>\n",
       "      <td>Anderson Lane</td>\n",
       "      <td>Anderson Street and Quinalt Street</td>\n",
       "      <td>7</td>\n",
       "    </tr>\n",
       "    <tr>\n",
       "      <th>110</th>\n",
       "      <td>515</td>\n",
       "      <td>Grove Street</td>\n",
       "      <td>Silver Lane  to Howard Avenue</td>\n",
       "      <td>7</td>\n",
       "    </tr>\n",
       "    <tr>\n",
       "      <th>111</th>\n",
       "      <td>518</td>\n",
       "      <td>Hilliard</td>\n",
       "      <td>N. Park Avenue to W. Bank Trail</td>\n",
       "      <td>5</td>\n",
       "    </tr>\n",
       "    <tr>\n",
       "      <th>112</th>\n",
       "      <td>524</td>\n",
       "      <td>Howard Avenue</td>\n",
       "      <td>N. Park Avenue to River Road</td>\n",
       "      <td>5</td>\n",
       "    </tr>\n",
       "    <tr>\n",
       "      <th>113</th>\n",
       "      <td>536</td>\n",
       "      <td>Lake Dr/Horn/N. Park Ave</td>\n",
       "      <td>Howard  Ave to Northwest Expressway</td>\n",
       "      <td>5</td>\n",
       "    </tr>\n",
       "    <tr>\n",
       "      <th>114</th>\n",
       "      <td>539</td>\n",
       "      <td>N. Park Avenue</td>\n",
       "      <td>Maxwell Road to Horn Lane</td>\n",
       "      <td>5</td>\n",
       "    </tr>\n",
       "  </tbody>\n",
       "</table>\n",
       "</div>"
      ],
      "text/plain": [
       "     RTP_ID                      NAME                               LIMITS  \\\n",
       "8       333          West 11th Avenue            Green Hill Rd to Terry St   \n",
       "31      515              Grove Street        Silver Lane  to Howard Avenue   \n",
       "32      518                  Hilliard      N. Park Avenue to W. Bank Trail   \n",
       "34      524             Howard Avenue         N. Park Avenue to River Road   \n",
       "35      536  Lake Dr/Horn/N. Park Ave  Howard  Ave to Northwest Expressway   \n",
       "36      539            N. Park Avenue            Maxwell Road to Horn Lane   \n",
       "53      813             Anderson Lane      Anderson Lane to Quinalt Street   \n",
       "63      918               35th Street  Olympic Street to Commercial Avenue   \n",
       "78      813             Anderson Lane   Anderson Street and Quinalt Street   \n",
       "110     515              Grove Street        Silver Lane  to Howard Avenue   \n",
       "111     518                  Hilliard      N. Park Avenue to W. Bank Trail   \n",
       "112     524             Howard Avenue         N. Park Avenue to River Road   \n",
       "113     536  Lake Dr/Horn/N. Park Ave  Howard  Ave to Northwest Expressway   \n",
       "114     539            N. Park Avenue            Maxwell Road to Horn Lane   \n",
       "\n",
       "    Category  \n",
       "8          6  \n",
       "31         5  \n",
       "32         7  \n",
       "34         7  \n",
       "35         7  \n",
       "36         7  \n",
       "53         8  \n",
       "63         6  \n",
       "78         7  \n",
       "110        7  \n",
       "111        5  \n",
       "112        5  \n",
       "113        5  \n",
       "114        5  "
      ]
     },
     "execution_count": 16,
     "metadata": {},
     "output_type": "execute_result"
    }
   ],
   "source": [
    "#Constrained_BikePed\n",
    "gdf[gdf.RTP_ID.isin(IDs)][['RTP_ID', 'NAME', 'LIMITS', 'Category']]"
   ]
  },
  {
   "cell_type": "code",
   "execution_count": 3,
   "metadata": {},
   "outputs": [
    {
     "data": {
      "text/plain": [
       "['Constrained_Roadway_lines',\n",
       " 'Constrained_Roadway_points',\n",
       " 'Constrained_Roadway_lines_P1',\n",
       " 'Constrained_Roadway_points_P1']"
      ]
     },
     "execution_count": 3,
     "metadata": {},
     "output_type": "execute_result"
    }
   ],
   "source": [
    "RTP.getLayernames()"
   ]
  },
  {
   "cell_type": "code",
   "execution_count": 9,
   "metadata": {},
   "outputs": [
    {
     "data": {
      "text/plain": [
       "array([1100,  602,  497,  318,  429,  435,  441,  537,  651,  315,  343,\n",
       "        414,  481,  670,  210,  619,  333,  638,  527,  554,  747,  765,\n",
       "        809,  211,  506,  555,  312,  838,   66,  789,  836,  704,  713,\n",
       "        899,  830,  715,  756,   18,   57,   81,   87,  703,  777,  783,\n",
       "        798,  897,  901,  707,  706,  705,  786,  924,   19,   22,  709,\n",
       "        750,    3,    6,   54,  909,  918,  933,  945,  962,  920,  925,\n",
       "        710,  826,  827,  828,  784,  250,  823,  818,  819,  824,  917,\n",
       "        737,  631,  499,  725,  558,  562,  561,  559,  560,   32,  914,\n",
       "        915,  512,  662,  632,   98,  664,  102,  503,   96,  835,  815,\n",
       "        831,  485,  454,  603,  487,  486,  489,  490], dtype=int64)"
      ]
     },
     "execution_count": 9,
     "metadata": {},
     "output_type": "execute_result"
    }
   ],
   "source": [
    "constr_rw_l.RTP_ID.unique()"
   ]
  },
  {
   "cell_type": "code",
   "execution_count": 9,
   "metadata": {},
   "outputs": [
    {
     "data": {
      "text/plain": [
       "['Constrained_Roadway_lines', 'Constrained_Roadway_points']"
      ]
     },
     "execution_count": 9,
     "metadata": {},
     "output_type": "execute_result"
    }
   ],
   "source": [
    "[item for item in getLayernames() if 'P1' not in item]"
   ]
  },
  {
   "cell_type": "code",
   "execution_count": 2,
   "metadata": {},
   "outputs": [
    {
     "data": {
      "text/plain": [
       "[1100,\n",
       " 602,\n",
       " 497,\n",
       " 318,\n",
       " 429,\n",
       " 435,\n",
       " 441,\n",
       " 537,\n",
       " 651,\n",
       " 315,\n",
       " 343,\n",
       " 414,\n",
       " 481,\n",
       " 670,\n",
       " 210,\n",
       " 619,\n",
       " 333,\n",
       " 638,\n",
       " 527,\n",
       " 554,\n",
       " 747,\n",
       " 765,\n",
       " 809,\n",
       " 211,\n",
       " 506,\n",
       " 555,\n",
       " 312,\n",
       " 838,\n",
       " 66,\n",
       " 789,\n",
       " 836,\n",
       " 704,\n",
       " 713,\n",
       " 899,\n",
       " 830,\n",
       " 715,\n",
       " 756,\n",
       " 18,\n",
       " 57,\n",
       " 81,\n",
       " 87,\n",
       " 703,\n",
       " 777,\n",
       " 783,\n",
       " 798,\n",
       " 897,\n",
       " 901,\n",
       " 707,\n",
       " 706,\n",
       " 705,\n",
       " 786,\n",
       " 924,\n",
       " 19,\n",
       " 22,\n",
       " 709,\n",
       " 750,\n",
       " 3,\n",
       " 6,\n",
       " 54,\n",
       " 909,\n",
       " 918,\n",
       " 933,\n",
       " 945,\n",
       " 962,\n",
       " 920,\n",
       " 925,\n",
       " 710,\n",
       " 826,\n",
       " 827,\n",
       " 828,\n",
       " 784,\n",
       " 250,\n",
       " 823,\n",
       " 818,\n",
       " 819,\n",
       " 824,\n",
       " 917,\n",
       " 737,\n",
       " 631,\n",
       " 499,\n",
       " 725,\n",
       " 558,\n",
       " 562,\n",
       " 561,\n",
       " 559,\n",
       " 560,\n",
       " 32,\n",
       " 914,\n",
       " 915,\n",
       " 512,\n",
       " 662,\n",
       " 632,\n",
       " 98,\n",
       " 664,\n",
       " 102,\n",
       " 503,\n",
       " 96,\n",
       " 835,\n",
       " 815,\n",
       " 831,\n",
       " 485,\n",
       " 454,\n",
       " 603,\n",
       " 487,\n",
       " 486,\n",
       " 489,\n",
       " 490]"
      ]
     },
     "execution_count": 2,
     "metadata": {},
     "output_type": "execute_result"
    }
   ],
   "source": [
    "RTP.LayerRTPid(layer = 'Constrained_Roadway_lines')"
   ]
  },
  {
   "cell_type": "code",
   "execution_count": 10,
   "metadata": {},
   "outputs": [],
   "source": [
    "def LayerRTPid(gdb_file = r'T:\\MPO\\RTP\\FY16 2040 Update\\Data\\RTP_2040_Data.gdb',\n",
    "               layer='Constrained_Roadway_lines_P1'):\n",
    "    gpdfile = gpd.read_file(gdb_file, layer=layer)\n",
    "    a = gpdfile.RTP_ID.unique()\n",
    "    return a[~np.isnan(a)].astype(int).tolist()"
   ]
  },
  {
   "cell_type": "code",
   "execution_count": null,
   "metadata": {},
   "outputs": [],
   "source": []
  }
 ],
 "metadata": {
  "kernelspec": {
   "display_name": "Python 3",
   "language": "python",
   "name": "python3"
  },
  "language_info": {
   "codemirror_mode": {
    "name": "ipython",
    "version": 3
   },
   "file_extension": ".py",
   "mimetype": "text/x-python",
   "name": "python",
   "nbconvert_exporter": "python",
   "pygments_lexer": "ipython3",
   "version": "3.8.8"
  }
 },
 "nbformat": 4,
 "nbformat_minor": 4
}

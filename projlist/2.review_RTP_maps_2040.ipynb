{
 "cells": [
  {
   "cell_type": "code",
   "execution_count": 1,
   "metadata": {},
   "outputs": [],
   "source": [
    "import geopandas as gpd\n",
    "import fiona, re\n",
    "import numpy as np"
   ]
  },
  {
   "cell_type": "code",
   "execution_count": 2,
   "metadata": {},
   "outputs": [],
   "source": [
    "gdb_file = r'T:\\MPO\\RTP\\FY16 2040 Update\\Data\\RTP_2040_Data.gdb'\n",
    "layers = fiona.listlayers(gdb_file)"
   ]
  },
  {
   "cell_type": "code",
   "execution_count": 3,
   "metadata": {},
   "outputs": [
    {
     "data": {
      "text/plain": [
       "['FC_roadwaypts',\n",
       " 'FC_roadway',\n",
       " 'Future_roadwaypts',\n",
       " 'Future_roadway',\n",
       " 'FC_bike',\n",
       " 'PriorityBike',\n",
       " 'Future_bike',\n",
       " 'StreetsAnno',\n",
       " 'RiverAnno',\n",
       " 'deqStreamAnno',\n",
       " 'NHS',\n",
       " 'statefreight_rt',\n",
       " 'Constrained_Roadway_lines',\n",
       " 'Constrained_Roadway_points',\n",
       " 'Constrained_BikePed',\n",
       " 'Illustrative_BikePed',\n",
       " 'Illustrative_Roadway_lines',\n",
       " 'Illustrative_Roadway_points',\n",
       " 'Constrained_StudyAreas',\n",
       " 'Constrained_BikePed_points',\n",
       " 'Constrained_BikePed_P1',\n",
       " 'Constrained_BikePed_points_P1',\n",
       " 'Constrained_Roadway_lines_P1',\n",
       " 'Constrained_Roadway_points_P1',\n",
       " 'Illustrative_BikePed_P1',\n",
       " 'Illustrative_Roadway_lines_P1',\n",
       " 'Illustrative_Roadway_points_P1',\n",
       " 'FiscallyConstrained_TransitProjects',\n",
       " 'Illustrative_TransitProjects']"
      ]
     },
     "execution_count": 3,
     "metadata": {},
     "output_type": "execute_result"
    }
   ],
   "source": [
    "layers"
   ]
  },
  {
   "cell_type": "code",
   "execution_count": 4,
   "metadata": {},
   "outputs": [],
   "source": [
    "layer = 'FiscallyConstrained_TransitProjects'\n",
    "#layer = 'Illustrative_TransitProjects'\n",
    "gdf = gpd.read_file(gdb_file, layer=layer)"
   ]
  },
  {
   "cell_type": "code",
   "execution_count": 5,
   "metadata": {},
   "outputs": [
    {
     "data": {
      "text/plain": [
       "['Name', 'SHAPE_Length', 'geometry']"
      ]
     },
     "execution_count": 5,
     "metadata": {},
     "output_type": "execute_result"
    }
   ],
   "source": [
    "list(gdf.columns)"
   ]
  },
  {
   "cell_type": "code",
   "execution_count": 6,
   "metadata": {},
   "outputs": [
    {
     "data": {
      "text/plain": [
       "(14, 3)"
      ]
     },
     "execution_count": 6,
     "metadata": {},
     "output_type": "execute_result"
    }
   ],
   "source": [
    "gdf.shape"
   ]
  },
  {
   "cell_type": "code",
   "execution_count": 7,
   "metadata": {},
   "outputs": [],
   "source": [
    "def getLayernames(gdb_file = r'T:\\MPO\\RTP\\FY16 2040 Update\\Data\\RTP_2040_Data.gdb',\n",
    "                  pattern='Constrained_Roadway'):\n",
    "    layers = fiona.listlayers(gdb_file)\n",
    "    return [layer for layer in layers if re.match(pattern, layer)]"
   ]
  },
  {
   "cell_type": "code",
   "execution_count": 8,
   "metadata": {},
   "outputs": [
    {
     "data": {
      "text/plain": [
       "['Constrained_Roadway_lines',\n",
       " 'Constrained_Roadway_points',\n",
       " 'Constrained_Roadway_lines_P1',\n",
       " 'Constrained_Roadway_points_P1']"
      ]
     },
     "execution_count": 8,
     "metadata": {},
     "output_type": "execute_result"
    }
   ],
   "source": [
    "getLayernames()"
   ]
  },
  {
   "cell_type": "code",
   "execution_count": 9,
   "metadata": {},
   "outputs": [
    {
     "data": {
      "text/plain": [
       "['Constrained_Roadway_lines', 'Constrained_Roadway_points']"
      ]
     },
     "execution_count": 9,
     "metadata": {},
     "output_type": "execute_result"
    }
   ],
   "source": [
    "[item for item in getLayernames() if 'P1' not in item]"
   ]
  },
  {
   "cell_type": "code",
   "execution_count": 10,
   "metadata": {},
   "outputs": [],
   "source": [
    "def LayerRTPid(gdb_file = r'T:\\MPO\\RTP\\FY16 2040 Update\\Data\\RTP_2040_Data.gdb',\n",
    "               layer='Constrained_Roadway_lines_P1'):\n",
    "    gpdfile = gpd.read_file(gdb_file, layer=layer)\n",
    "    a = gpdfile.RTP_ID.unique()\n",
    "    return a[~np.isnan(a)].astype(int).tolist()"
   ]
  },
  {
   "cell_type": "code",
   "execution_count": 11,
   "metadata": {},
   "outputs": [
    {
     "data": {
      "text/plain": [
       "[1100,\n",
       " 602,\n",
       " 497,\n",
       " 318,\n",
       " 429,\n",
       " 435,\n",
       " 441,\n",
       " 537,\n",
       " 651,\n",
       " 315,\n",
       " 343,\n",
       " 414,\n",
       " 481,\n",
       " 670,\n",
       " 210,\n",
       " 619,\n",
       " 333,\n",
       " 638,\n",
       " 527,\n",
       " 554,\n",
       " 747,\n",
       " 765,\n",
       " 809,\n",
       " 211,\n",
       " 506,\n",
       " 555,\n",
       " 312,\n",
       " 838,\n",
       " 66,\n",
       " 789,\n",
       " 836,\n",
       " 704,\n",
       " 713,\n",
       " 899,\n",
       " 830,\n",
       " 715,\n",
       " 756,\n",
       " 18,\n",
       " 57,\n",
       " 81,\n",
       " 87,\n",
       " 703,\n",
       " 777,\n",
       " 783,\n",
       " 798,\n",
       " 897,\n",
       " 901,\n",
       " 707,\n",
       " 706,\n",
       " 705,\n",
       " 786,\n",
       " 924,\n",
       " 19,\n",
       " 22,\n",
       " 709,\n",
       " 750,\n",
       " 3,\n",
       " 6,\n",
       " 54,\n",
       " 909,\n",
       " 918,\n",
       " 933,\n",
       " 945,\n",
       " 962,\n",
       " 920,\n",
       " 925,\n",
       " 710,\n",
       " 826,\n",
       " 827,\n",
       " 828,\n",
       " 784,\n",
       " 250,\n",
       " 823,\n",
       " 818,\n",
       " 819,\n",
       " 824,\n",
       " 917,\n",
       " 737,\n",
       " 631,\n",
       " 499,\n",
       " 725,\n",
       " 558,\n",
       " 562,\n",
       " 561,\n",
       " 559,\n",
       " 560,\n",
       " 32,\n",
       " 914,\n",
       " 915,\n",
       " 512,\n",
       " 662,\n",
       " 632,\n",
       " 98,\n",
       " 664,\n",
       " 102,\n",
       " 503,\n",
       " 96,\n",
       " 835,\n",
       " 815,\n",
       " 831,\n",
       " 485,\n",
       " 454,\n",
       " 603,\n",
       " 487,\n",
       " 486,\n",
       " 489,\n",
       " 490]"
      ]
     },
     "execution_count": 11,
     "metadata": {},
     "output_type": "execute_result"
    }
   ],
   "source": [
    "LayerRTPid(layer = 'Constrained_Roadway_lines')"
   ]
  }
 ],
 "metadata": {
  "kernelspec": {
   "display_name": "Python 3",
   "language": "python",
   "name": "python3"
  },
  "language_info": {
   "codemirror_mode": {
    "name": "ipython",
    "version": 3
   },
   "file_extension": ".py",
   "mimetype": "text/x-python",
   "name": "python",
   "nbconvert_exporter": "python",
   "pygments_lexer": "ipython3",
   "version": "3.8.8"
  }
 },
 "nbformat": 4,
 "nbformat_minor": 4
}

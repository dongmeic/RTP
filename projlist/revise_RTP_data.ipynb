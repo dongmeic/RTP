{
 "cells": [
  {
   "cell_type": "code",
   "execution_count": 1,
   "id": "3106144b",
   "metadata": {},
   "outputs": [],
   "source": [
    "import review_RTP as RTP\n",
    "import numpy as np\n",
    "import geopandas as gpd\n",
    "import os"
   ]
  },
  {
   "cell_type": "code",
   "execution_count": 2,
   "id": "aae94538",
   "metadata": {},
   "outputs": [],
   "source": [
    "targetLayers = RTP.targetLayers()"
   ]
  },
  {
   "cell_type": "code",
   "execution_count": 3,
   "id": "9a743e7a",
   "metadata": {},
   "outputs": [],
   "source": [
    "inpath = r'T:\\MPO\\RTP\\FY16 2040 Update\\Data\\RTP_2040_Data.gdb'\n",
    "path = r'T:\\MPO\\RTP\\FY20 2045 Update\\Data and Resources\\Data'"
   ]
  },
  {
   "cell_type": "code",
   "execution_count": 7,
   "id": "a80a7e51",
   "metadata": {},
   "outputs": [],
   "source": [
    "tablePatterns = np.array(['Auto Constrained', 'Auto Illustrative', 'Bike Constrained', 'Bike Illustrative'])\n",
    "layerPatterns = np.array(['Constrained_Roadway', 'Illustrative_Roadway', 'Constrained_BikePed', 'Illustrative_BikePed'])"
   ]
  },
  {
   "cell_type": "code",
   "execution_count": 8,
   "id": "d1c2e054",
   "metadata": {},
   "outputs": [
    {
     "name": "stdout",
     "output_type": "stream",
     "text": [
      "Constrained_Roadway_lines\n"
     ]
    },
    {
     "name": "stderr",
     "output_type": "stream",
     "text": [
      "<ipython-input-8-e935b767af78>:12: UserWarning: Column names longer than 10 characters will be truncated when saved to ESRI Shapefile.\n",
      "  newgdf.to_file(os.path.join(path, layer+'.shp'))\n"
     ]
    },
    {
     "name": "stdout",
     "output_type": "stream",
     "text": [
      "Constrained_Roadway_points\n",
      "Illustrative_Roadway_lines\n",
      "Illustrative_Roadway_points\n",
      "Constrained_BikePed\n",
      "Constrained_BikePed_points\n",
      "Illustrative_BikePed\n"
     ]
    }
   ],
   "source": [
    "for layer in targetLayers:\n",
    "    print(layer)\n",
    "    gdf = gpd.read_file(inpath, layer=layer)\n",
    "    l = layer.split('_')\n",
    "    layerPattern = l[0] + '_' + l[1] \n",
    "    i=np.min(np.where(layerPatterns == layerPattern))\n",
    "    tablerPattern = tablePatterns[i]\n",
    "    res=RTP.getIDs(Tablepattern=tablerPattern,\n",
    "           Layerpattern=layerPattern)\n",
    "    commonIDs=RTP.matchID(res[0], res[1])[2]\n",
    "    newgdf = gdf[gdf.RTP_ID.isin(commonIDs)]\n",
    "    newgdf.to_file(os.path.join(path, layer+'.shp'))"
   ]
  },
  {
   "cell_type": "code",
   "execution_count": 19,
   "id": "ff9cdd54",
   "metadata": {},
   "outputs": [],
   "source": [
    "df = RTP.modifyRTP(RTP.combineTables())"
   ]
  },
  {
   "cell_type": "code",
   "execution_count": 8,
   "id": "fd36c76c",
   "metadata": {},
   "outputs": [
    {
     "data": {
      "text/html": [
       "<div>\n",
       "<style scoped>\n",
       "    .dataframe tbody tr th:only-of-type {\n",
       "        vertical-align: middle;\n",
       "    }\n",
       "\n",
       "    .dataframe tbody tr th {\n",
       "        vertical-align: top;\n",
       "    }\n",
       "\n",
       "    .dataframe thead th {\n",
       "        text-align: right;\n",
       "    }\n",
       "</style>\n",
       "<table border=\"1\" class=\"dataframe\">\n",
       "  <thead>\n",
       "    <tr style=\"text-align: right;\">\n",
       "      <th></th>\n",
       "      <th>Name</th>\n",
       "      <th>GeographicLimits</th>\n",
       "      <th>PrimaryJurisdiction</th>\n",
       "      <th>EstimatedCost(2016)</th>\n",
       "      <th>EstimatedYearofConstruction(4-YearWindow)</th>\n",
       "      <th>YearofConstructionCostMin</th>\n",
       "      <th>YearofConstructionCostMax</th>\n",
       "      <th>Length</th>\n",
       "      <th>RTP</th>\n",
       "      <th>Category</th>\n",
       "    </tr>\n",
       "  </thead>\n",
       "  <tbody>\n",
       "    <tr>\n",
       "      <th>0</th>\n",
       "      <td>Eugene-Springfield Highway (SR-126)</td>\n",
       "      <td>at Main Street</td>\n",
       "      <td>ODOT</td>\n",
       "      <td>50000000.0</td>\n",
       "      <td>2030-2034</td>\n",
       "      <td>7.666397e+07</td>\n",
       "      <td>8.662156e+07</td>\n",
       "      <td>0.0</td>\n",
       "      <td>27</td>\n",
       "      <td>New Arterial Link or Interchange</td>\n",
       "    </tr>\n",
       "    <tr>\n",
       "      <th>1</th>\n",
       "      <td>Eugene-Springfield Highway (SR-126)</td>\n",
       "      <td>at 52nd Street</td>\n",
       "      <td>ODOT</td>\n",
       "      <td>40000000.0</td>\n",
       "      <td>2025-2029</td>\n",
       "      <td>5.264874e+07</td>\n",
       "      <td>5.948708e+07</td>\n",
       "      <td>0.0</td>\n",
       "      <td>30</td>\n",
       "      <td>New Arterial Link or Interchange</td>\n",
       "    </tr>\n",
       "    <tr>\n",
       "      <th>2</th>\n",
       "      <td>Beltline Local Arterial Bridge</td>\n",
       "      <td>Beaver Street to Delta Highway</td>\n",
       "      <td>ODOT, Lane County, City of Eugene</td>\n",
       "      <td>83000000.0</td>\n",
       "      <td>2025-2029</td>\n",
       "      <td>1.092461e+08</td>\n",
       "      <td>1.234357e+08</td>\n",
       "      <td>0.95</td>\n",
       "      <td>512</td>\n",
       "      <td>New Arterial Link or Interchange</td>\n",
       "    </tr>\n",
       "    <tr>\n",
       "      <th>3</th>\n",
       "      <td>Delta/ Beltline Interchange</td>\n",
       "      <td>NaN</td>\n",
       "      <td>ODOT</td>\n",
       "      <td>20000000.0</td>\n",
       "      <td>2020-2024</td>\n",
       "      <td>2.259772e+07</td>\n",
       "      <td>2.553285e+07</td>\n",
       "      <td>0.25</td>\n",
       "      <td>638</td>\n",
       "      <td>Added Freeway Lanes or Major Interchange Impro...</td>\n",
       "    </tr>\n",
       "    <tr>\n",
       "      <th>4</th>\n",
       "      <td>Randy Pape Beltline Highway</td>\n",
       "      <td>Roosevelt Boulevard to W. 11th Avenue</td>\n",
       "      <td>ODOT, Eugene</td>\n",
       "      <td>28100000.0</td>\n",
       "      <td>2030-2034</td>\n",
       "      <td>4.308515e+07</td>\n",
       "      <td>4.868131e+07</td>\n",
       "      <td>1.1</td>\n",
       "      <td>312</td>\n",
       "      <td>Added Freeway Lanes or Major Interchange Impro...</td>\n",
       "    </tr>\n",
       "  </tbody>\n",
       "</table>\n",
       "</div>"
      ],
      "text/plain": [
       "                                  Name                       GeographicLimits  \\\n",
       "0  Eugene-Springfield Highway (SR-126)                         at Main Street   \n",
       "1  Eugene-Springfield Highway (SR-126)                         at 52nd Street   \n",
       "2       Beltline Local Arterial Bridge         Beaver Street to Delta Highway   \n",
       "3          Delta/ Beltline Interchange                                    NaN   \n",
       "4          Randy Pape Beltline Highway  Roosevelt Boulevard to W. 11th Avenue   \n",
       "\n",
       "                 PrimaryJurisdiction  EstimatedCost(2016)  \\\n",
       "0                               ODOT           50000000.0   \n",
       "1                               ODOT           40000000.0   \n",
       "2  ODOT, Lane County, City of Eugene           83000000.0   \n",
       "3                               ODOT           20000000.0   \n",
       "4                       ODOT, Eugene           28100000.0   \n",
       "\n",
       "  EstimatedYearofConstruction(4-YearWindow)  YearofConstructionCostMin  \\\n",
       "0                                 2030-2034               7.666397e+07   \n",
       "1                                 2025-2029               5.264874e+07   \n",
       "2                                 2025-2029               1.092461e+08   \n",
       "3                                 2020-2024               2.259772e+07   \n",
       "4                                 2030-2034               4.308515e+07   \n",
       "\n",
       "   YearofConstructionCostMax Length  RTP  \\\n",
       "0               8.662156e+07    0.0   27   \n",
       "1               5.948708e+07    0.0   30   \n",
       "2               1.234357e+08   0.95  512   \n",
       "3               2.553285e+07   0.25  638   \n",
       "4               4.868131e+07    1.1  312   \n",
       "\n",
       "                                            Category  \n",
       "0                   New Arterial Link or Interchange  \n",
       "1                   New Arterial Link or Interchange  \n",
       "2                   New Arterial Link or Interchange  \n",
       "3  Added Freeway Lanes or Major Interchange Impro...  \n",
       "4  Added Freeway Lanes or Major Interchange Impro...  "
      ]
     },
     "execution_count": 8,
     "metadata": {},
     "output_type": "execute_result"
    }
   ],
   "source": [
    "df.head()"
   ]
  },
  {
   "cell_type": "code",
   "execution_count": 4,
   "id": "b37342d3",
   "metadata": {},
   "outputs": [],
   "source": [
    "df45 = RTP.modifyRTP(RTP.combineTables(year=2045))"
   ]
  },
  {
   "cell_type": "code",
   "execution_count": 10,
   "id": "b6349f89",
   "metadata": {},
   "outputs": [
    {
     "data": {
      "text/html": [
       "<div>\n",
       "<style scoped>\n",
       "    .dataframe tbody tr th:only-of-type {\n",
       "        vertical-align: middle;\n",
       "    }\n",
       "\n",
       "    .dataframe tbody tr th {\n",
       "        vertical-align: top;\n",
       "    }\n",
       "\n",
       "    .dataframe thead th {\n",
       "        text-align: right;\n",
       "    }\n",
       "</style>\n",
       "<table border=\"1\" class=\"dataframe\">\n",
       "  <thead>\n",
       "    <tr style=\"text-align: right;\">\n",
       "      <th></th>\n",
       "      <th>Name45</th>\n",
       "      <th>GeographicLimits45</th>\n",
       "      <th>Description45</th>\n",
       "      <th>PrimaryJurisdiction45</th>\n",
       "      <th>EstimatedYearofConstruction(4-YearWindow)45</th>\n",
       "      <th>YearofConstructionCostMin45</th>\n",
       "      <th>YearofConstructionCostMax45</th>\n",
       "      <th>Length45</th>\n",
       "      <th>RTP45</th>\n",
       "      <th>Category45</th>\n",
       "    </tr>\n",
       "  </thead>\n",
       "  <tbody>\n",
       "    <tr>\n",
       "      <th>0</th>\n",
       "      <td>Beltline Local Arterial Bridge</td>\n",
       "      <td>Beaver Street to Delta Highway</td>\n",
       "      <td>Construct new 2-lane arterial bridge over the ...</td>\n",
       "      <td>ODOT, Lane County, City of Eugene</td>\n",
       "      <td>2025-2029</td>\n",
       "      <td>NaN</td>\n",
       "      <td>NaN</td>\n",
       "      <td>0.95</td>\n",
       "      <td>512</td>\n",
       "      <td>New Arterial Link or Interchange</td>\n",
       "    </tr>\n",
       "    <tr>\n",
       "      <th>1</th>\n",
       "      <td>Eugene-Springfield Highway (SR-126)</td>\n",
       "      <td>at Main Street</td>\n",
       "      <td>Construct interchange</td>\n",
       "      <td>ODOT</td>\n",
       "      <td>2030-2034</td>\n",
       "      <td>NaN</td>\n",
       "      <td>NaN</td>\n",
       "      <td>0.0</td>\n",
       "      <td>27</td>\n",
       "      <td>New Arterial Link or Interchange</td>\n",
       "    </tr>\n",
       "    <tr>\n",
       "      <th>2</th>\n",
       "      <td>Eugene-Springfield Highway (SR-126)</td>\n",
       "      <td>at 52nd Street</td>\n",
       "      <td>Construct interchange</td>\n",
       "      <td>ODOT</td>\n",
       "      <td>2025-2029</td>\n",
       "      <td>NaN</td>\n",
       "      <td>NaN</td>\n",
       "      <td>0.0</td>\n",
       "      <td>30</td>\n",
       "      <td>New Arterial Link or Interchange</td>\n",
       "    </tr>\n",
       "    <tr>\n",
       "      <th>3</th>\n",
       "      <td>Randy Pape Beltline Highway</td>\n",
       "      <td>Roosevelt Boulevard to W. 11th Avenue</td>\n",
       "      <td>Add lanes on Belltine Highway and provide inte...</td>\n",
       "      <td>ODOT, Eugene</td>\n",
       "      <td>2030-2034</td>\n",
       "      <td>NaN</td>\n",
       "      <td>NaN</td>\n",
       "      <td>1.1</td>\n",
       "      <td>312</td>\n",
       "      <td>Added Freeway Lanes or Major Interchange Impro...</td>\n",
       "    </tr>\n",
       "    <tr>\n",
       "      <th>4</th>\n",
       "      <td>Delta/Beltline Interchange</td>\n",
       "      <td>NaN</td>\n",
       "      <td>Interim/safety improvements; replace/revise ex...</td>\n",
       "      <td>ODOT</td>\n",
       "      <td>2020-2024</td>\n",
       "      <td>NaN</td>\n",
       "      <td>NaN</td>\n",
       "      <td>0.25</td>\n",
       "      <td>638</td>\n",
       "      <td>Added Freeway Lanes or Major Interchange Impro...</td>\n",
       "    </tr>\n",
       "  </tbody>\n",
       "</table>\n",
       "</div>"
      ],
      "text/plain": [
       "                                Name45                     GeographicLimits45  \\\n",
       "0       Beltline Local Arterial Bridge         Beaver Street to Delta Highway   \n",
       "1  Eugene-Springfield Highway (SR-126)                         at Main Street   \n",
       "2  Eugene-Springfield Highway (SR-126)                         at 52nd Street   \n",
       "3          Randy Pape Beltline Highway  Roosevelt Boulevard to W. 11th Avenue   \n",
       "4           Delta/Beltline Interchange                                    NaN   \n",
       "\n",
       "                                       Description45  \\\n",
       "0  Construct new 2-lane arterial bridge over the ...   \n",
       "1                              Construct interchange   \n",
       "2                              Construct interchange   \n",
       "3  Add lanes on Belltine Highway and provide inte...   \n",
       "4  Interim/safety improvements; replace/revise ex...   \n",
       "\n",
       "               PrimaryJurisdiction45  \\\n",
       "0  ODOT, Lane County, City of Eugene   \n",
       "1                               ODOT   \n",
       "2                               ODOT   \n",
       "3                       ODOT, Eugene   \n",
       "4                               ODOT   \n",
       "\n",
       "  EstimatedYearofConstruction(4-YearWindow)45 YearofConstructionCostMin45  \\\n",
       "0                                   2025-2029                         NaN   \n",
       "1                                   2030-2034                         NaN   \n",
       "2                                   2025-2029                         NaN   \n",
       "3                                   2030-2034                         NaN   \n",
       "4                                   2020-2024                         NaN   \n",
       "\n",
       "  YearofConstructionCostMax45 Length45  RTP45  \\\n",
       "0                         NaN     0.95    512   \n",
       "1                         NaN      0.0     27   \n",
       "2                         NaN      0.0     30   \n",
       "3                         NaN      1.1    312   \n",
       "4                         NaN     0.25    638   \n",
       "\n",
       "                                          Category45  \n",
       "0                   New Arterial Link or Interchange  \n",
       "1                   New Arterial Link or Interchange  \n",
       "2                   New Arterial Link or Interchange  \n",
       "3  Added Freeway Lanes or Major Interchange Impro...  \n",
       "4  Added Freeway Lanes or Major Interchange Impro...  "
      ]
     },
     "execution_count": 10,
     "metadata": {},
     "output_type": "execute_result"
    }
   ],
   "source": [
    "df45.head()"
   ]
  },
  {
   "cell_type": "code",
   "execution_count": 19,
   "id": "c29f9c93",
   "metadata": {},
   "outputs": [
    {
     "data": {
      "text/plain": [
       "226"
      ]
     },
     "execution_count": 19,
     "metadata": {},
     "output_type": "execute_result"
    }
   ],
   "source": [
    "len([N for N in list(df.RTP.unique()) if N in list(df45.RTP.unique())])"
   ]
  },
  {
   "cell_type": "code",
   "execution_count": 22,
   "id": "11224716",
   "metadata": {},
   "outputs": [
    {
     "data": {
      "text/plain": [
       "31"
      ]
     },
     "execution_count": 22,
     "metadata": {},
     "output_type": "execute_result"
    }
   ],
   "source": [
    "len([N for N in list(df.RTP.unique()) if N not in list(df45.RTP.unique())])"
   ]
  },
  {
   "cell_type": "code",
   "execution_count": 21,
   "id": "974d7b36",
   "metadata": {},
   "outputs": [
    {
     "data": {
      "text/plain": [
       "[nan, '\\xa0', 'MM-22']"
      ]
     },
     "execution_count": 21,
     "metadata": {},
     "output_type": "execute_result"
    }
   ],
   "source": [
    "[N for N in list(df45.RTP.unique()) if N not in list(df.RTP.unique())]"
   ]
  },
  {
   "cell_type": "code",
   "execution_count": 20,
   "id": "7e62d74e",
   "metadata": {},
   "outputs": [],
   "source": [
    "df.columns = df.columns + '40'\n",
    "df.rename(columns={\"RTP40\": \"RTP\"}, inplace = True)"
   ]
  },
  {
   "cell_type": "code",
   "execution_count": 11,
   "id": "c126a5f2",
   "metadata": {},
   "outputs": [],
   "source": [
    "df45.columns = df45.columns + '45'\n",
    "df45.rename(columns={\"RTP45\": \"RTP\"}, inplace = True)"
   ]
  },
  {
   "cell_type": "code",
   "execution_count": 21,
   "id": "1cb93f0c",
   "metadata": {},
   "outputs": [],
   "source": [
    "data = df.merge(df45, on='RTP')"
   ]
  },
  {
   "cell_type": "code",
   "execution_count": 13,
   "id": "6566976c",
   "metadata": {},
   "outputs": [
    {
     "data": {
      "text/html": [
       "<div>\n",
       "<style scoped>\n",
       "    .dataframe tbody tr th:only-of-type {\n",
       "        vertical-align: middle;\n",
       "    }\n",
       "\n",
       "    .dataframe tbody tr th {\n",
       "        vertical-align: top;\n",
       "    }\n",
       "\n",
       "    .dataframe thead th {\n",
       "        text-align: right;\n",
       "    }\n",
       "</style>\n",
       "<table border=\"1\" class=\"dataframe\">\n",
       "  <thead>\n",
       "    <tr style=\"text-align: right;\">\n",
       "      <th></th>\n",
       "      <th>Name40</th>\n",
       "      <th>GeographicLimits40</th>\n",
       "      <th>PrimaryJurisdiction40</th>\n",
       "      <th>EstimatedCost(2016)40</th>\n",
       "      <th>EstimatedYearofConstruction(4-YearWindow)40</th>\n",
       "      <th>YearofConstructionCostMin40</th>\n",
       "      <th>YearofConstructionCostMax40</th>\n",
       "      <th>Length40</th>\n",
       "      <th>RTP</th>\n",
       "      <th>Category40</th>\n",
       "      <th>Name45</th>\n",
       "      <th>GeographicLimits45</th>\n",
       "      <th>Description45</th>\n",
       "      <th>PrimaryJurisdiction45</th>\n",
       "      <th>EstimatedYearofConstruction(4-YearWindow)45</th>\n",
       "      <th>YearofConstructionCostMin45</th>\n",
       "      <th>YearofConstructionCostMax45</th>\n",
       "      <th>Length45</th>\n",
       "      <th>Category45</th>\n",
       "    </tr>\n",
       "  </thead>\n",
       "  <tbody>\n",
       "    <tr>\n",
       "      <th>0</th>\n",
       "      <td>Eugene-Springfield Highway (SR-126)</td>\n",
       "      <td>at Main Street</td>\n",
       "      <td>ODOT</td>\n",
       "      <td>50000000.0</td>\n",
       "      <td>2030-2034</td>\n",
       "      <td>7.666397e+07</td>\n",
       "      <td>8.662156e+07</td>\n",
       "      <td>0.0</td>\n",
       "      <td>27</td>\n",
       "      <td>New Arterial Link or Interchange</td>\n",
       "      <td>Eugene-Springfield Highway (SR-126)</td>\n",
       "      <td>at Main Street</td>\n",
       "      <td>Construct interchange</td>\n",
       "      <td>ODOT</td>\n",
       "      <td>2030-2034</td>\n",
       "      <td>NaN</td>\n",
       "      <td>NaN</td>\n",
       "      <td>0.0</td>\n",
       "      <td>New Arterial Link or Interchange</td>\n",
       "    </tr>\n",
       "    <tr>\n",
       "      <th>1</th>\n",
       "      <td>Eugene-Springfield Highway (SR-126)</td>\n",
       "      <td>at Main Street</td>\n",
       "      <td>ODOT</td>\n",
       "      <td>50000000.0</td>\n",
       "      <td>2030-2034</td>\n",
       "      <td>7.666397e+07</td>\n",
       "      <td>8.662156e+07</td>\n",
       "      <td>0.0</td>\n",
       "      <td>27</td>\n",
       "      <td>New Arterial Link or Interchange</td>\n",
       "      <td>Mountaingate Drive</td>\n",
       "      <td>Mountaingate Entrance to Dogwood Street</td>\n",
       "      <td>Add shared-use signing and striping, construct...</td>\n",
       "      <td>Springfield</td>\n",
       "      <td>2030-2024</td>\n",
       "      <td>NaN</td>\n",
       "      <td>NaN</td>\n",
       "      <td>0.77</td>\n",
       "      <td>On-Street Lanes or Routes Without Road Project</td>\n",
       "    </tr>\n",
       "    <tr>\n",
       "      <th>2</th>\n",
       "      <td>Mountaingate Drive</td>\n",
       "      <td>Mountaingate Entrance to Dogwood Street</td>\n",
       "      <td>Springfield</td>\n",
       "      <td>260000.0</td>\n",
       "      <td>2016-2019</td>\n",
       "      <td>2.600000e+05</td>\n",
       "      <td>2.849373e+05</td>\n",
       "      <td>0.77</td>\n",
       "      <td>27</td>\n",
       "      <td>On-Street Lanes or Routes Without Road Project</td>\n",
       "      <td>Eugene-Springfield Highway (SR-126)</td>\n",
       "      <td>at Main Street</td>\n",
       "      <td>Construct interchange</td>\n",
       "      <td>ODOT</td>\n",
       "      <td>2030-2034</td>\n",
       "      <td>NaN</td>\n",
       "      <td>NaN</td>\n",
       "      <td>0.0</td>\n",
       "      <td>New Arterial Link or Interchange</td>\n",
       "    </tr>\n",
       "    <tr>\n",
       "      <th>3</th>\n",
       "      <td>Mountaingate Drive</td>\n",
       "      <td>Mountaingate Entrance to Dogwood Street</td>\n",
       "      <td>Springfield</td>\n",
       "      <td>260000.0</td>\n",
       "      <td>2016-2019</td>\n",
       "      <td>2.600000e+05</td>\n",
       "      <td>2.849373e+05</td>\n",
       "      <td>0.77</td>\n",
       "      <td>27</td>\n",
       "      <td>On-Street Lanes or Routes Without Road Project</td>\n",
       "      <td>Mountaingate Drive</td>\n",
       "      <td>Mountaingate Entrance to Dogwood Street</td>\n",
       "      <td>Add shared-use signing and striping, construct...</td>\n",
       "      <td>Springfield</td>\n",
       "      <td>2030-2024</td>\n",
       "      <td>NaN</td>\n",
       "      <td>NaN</td>\n",
       "      <td>0.77</td>\n",
       "      <td>On-Street Lanes or Routes Without Road Project</td>\n",
       "    </tr>\n",
       "    <tr>\n",
       "      <th>4</th>\n",
       "      <td>Eugene-Springfield Highway (SR-126)</td>\n",
       "      <td>at 52nd Street</td>\n",
       "      <td>ODOT</td>\n",
       "      <td>40000000.0</td>\n",
       "      <td>2025-2029</td>\n",
       "      <td>5.264874e+07</td>\n",
       "      <td>5.948708e+07</td>\n",
       "      <td>0.0</td>\n",
       "      <td>30</td>\n",
       "      <td>New Arterial Link or Interchange</td>\n",
       "      <td>Eugene-Springfield Highway (SR-126)</td>\n",
       "      <td>at 52nd Street</td>\n",
       "      <td>Construct interchange</td>\n",
       "      <td>ODOT</td>\n",
       "      <td>2025-2029</td>\n",
       "      <td>NaN</td>\n",
       "      <td>NaN</td>\n",
       "      <td>0.0</td>\n",
       "      <td>New Arterial Link or Interchange</td>\n",
       "    </tr>\n",
       "  </tbody>\n",
       "</table>\n",
       "</div>"
      ],
      "text/plain": [
       "                                Name40  \\\n",
       "0  Eugene-Springfield Highway (SR-126)   \n",
       "1  Eugene-Springfield Highway (SR-126)   \n",
       "2                   Mountaingate Drive   \n",
       "3                   Mountaingate Drive   \n",
       "4  Eugene-Springfield Highway (SR-126)   \n",
       "\n",
       "                        GeographicLimits40 PrimaryJurisdiction40  \\\n",
       "0                           at Main Street                  ODOT   \n",
       "1                           at Main Street                  ODOT   \n",
       "2  Mountaingate Entrance to Dogwood Street           Springfield   \n",
       "3  Mountaingate Entrance to Dogwood Street           Springfield   \n",
       "4                           at 52nd Street                  ODOT   \n",
       "\n",
       "   EstimatedCost(2016)40 EstimatedYearofConstruction(4-YearWindow)40  \\\n",
       "0             50000000.0                                   2030-2034   \n",
       "1             50000000.0                                   2030-2034   \n",
       "2               260000.0                                   2016-2019   \n",
       "3               260000.0                                   2016-2019   \n",
       "4             40000000.0                                   2025-2029   \n",
       "\n",
       "   YearofConstructionCostMin40  YearofConstructionCostMax40 Length40  RTP  \\\n",
       "0                 7.666397e+07                 8.662156e+07      0.0   27   \n",
       "1                 7.666397e+07                 8.662156e+07      0.0   27   \n",
       "2                 2.600000e+05                 2.849373e+05     0.77   27   \n",
       "3                 2.600000e+05                 2.849373e+05     0.77   27   \n",
       "4                 5.264874e+07                 5.948708e+07      0.0   30   \n",
       "\n",
       "                                       Category40  \\\n",
       "0                New Arterial Link or Interchange   \n",
       "1                New Arterial Link or Interchange   \n",
       "2  On-Street Lanes or Routes Without Road Project   \n",
       "3  On-Street Lanes or Routes Without Road Project   \n",
       "4                New Arterial Link or Interchange   \n",
       "\n",
       "                                Name45  \\\n",
       "0  Eugene-Springfield Highway (SR-126)   \n",
       "1                   Mountaingate Drive   \n",
       "2  Eugene-Springfield Highway (SR-126)   \n",
       "3                   Mountaingate Drive   \n",
       "4  Eugene-Springfield Highway (SR-126)   \n",
       "\n",
       "                        GeographicLimits45  \\\n",
       "0                           at Main Street   \n",
       "1  Mountaingate Entrance to Dogwood Street   \n",
       "2                           at Main Street   \n",
       "3  Mountaingate Entrance to Dogwood Street   \n",
       "4                           at 52nd Street   \n",
       "\n",
       "                                       Description45 PrimaryJurisdiction45  \\\n",
       "0                              Construct interchange                  ODOT   \n",
       "1  Add shared-use signing and striping, construct...           Springfield   \n",
       "2                              Construct interchange                  ODOT   \n",
       "3  Add shared-use signing and striping, construct...           Springfield   \n",
       "4                              Construct interchange                  ODOT   \n",
       "\n",
       "  EstimatedYearofConstruction(4-YearWindow)45 YearofConstructionCostMin45  \\\n",
       "0                                   2030-2034                         NaN   \n",
       "1                                   2030-2024                         NaN   \n",
       "2                                   2030-2034                         NaN   \n",
       "3                                   2030-2024                         NaN   \n",
       "4                                   2025-2029                         NaN   \n",
       "\n",
       "  YearofConstructionCostMax45 Length45  \\\n",
       "0                         NaN      0.0   \n",
       "1                         NaN     0.77   \n",
       "2                         NaN      0.0   \n",
       "3                         NaN     0.77   \n",
       "4                         NaN      0.0   \n",
       "\n",
       "                                       Category45  \n",
       "0                New Arterial Link or Interchange  \n",
       "1  On-Street Lanes or Routes Without Road Project  \n",
       "2                New Arterial Link or Interchange  \n",
       "3  On-Street Lanes or Routes Without Road Project  \n",
       "4                New Arterial Link or Interchange  "
      ]
     },
     "execution_count": 13,
     "metadata": {},
     "output_type": "execute_result"
    }
   ],
   "source": [
    "data.head()"
   ]
  },
  {
   "cell_type": "code",
   "execution_count": 23,
   "id": "38dbae51",
   "metadata": {},
   "outputs": [],
   "source": [
    "def compareDiff(a, b):\n",
    "    if type(a) is float and type(b) is float:\n",
    "        res = b - a\n",
    "    elif a != b:\n",
    "        res = 999\n",
    "    else:\n",
    "        res = 0\n",
    "    return res"
   ]
  },
  {
   "cell_type": "code",
   "execution_count": 24,
   "id": "6d661f71",
   "metadata": {},
   "outputs": [],
   "source": [
    "df = RTP.modifyRTP(RTP.combineTables())\n",
    "df45 = RTP.modifyRTP(RTP.combineTables(year=2045))\n",
    "cols = [col for col in list(df.columns) if col in list(df45.columns)]"
   ]
  },
  {
   "cell_type": "code",
   "execution_count": 25,
   "id": "b7138541",
   "metadata": {},
   "outputs": [
    {
     "data": {
      "text/plain": [
       "'Name'"
      ]
     },
     "execution_count": 25,
     "metadata": {},
     "output_type": "execute_result"
    }
   ],
   "source": [
    "col = cols[0]\n",
    "col"
   ]
  },
  {
   "cell_type": "code",
   "execution_count": 32,
   "id": "e0a122df",
   "metadata": {},
   "outputs": [],
   "source": [
    "def checkDiff(data):\n",
    "    df = RTP.modifyRTP(RTP.combineTables())\n",
    "    df45 = RTP.modifyRTP(RTP.combineTables(year=2045))\n",
    "    cols = [col for col in list(df.columns) if (col in list(df45.columns)) and (col != 'RTP')]\n",
    "    for col in cols:\n",
    "        data[col+'Diff'] = data[[col+'40', col+'45']].apply(lambda row: compareDiff(row[col+'40'], row[col+'45']), axis = 1)\n",
    "    return data"
   ]
  },
  {
   "cell_type": "code",
   "execution_count": 33,
   "id": "fdec194b",
   "metadata": {},
   "outputs": [],
   "source": [
    "data = checkDiff(data)"
   ]
  },
  {
   "cell_type": "code",
   "execution_count": 34,
   "id": "c6f63a3f",
   "metadata": {},
   "outputs": [
    {
     "data": {
      "text/plain": [
       "Index(['Name40', 'GeographicLimits40', 'PrimaryJurisdiction40',\n",
       "       'EstimatedCost(2016)40', 'EstimatedYearofConstruction(4-YearWindow)40',\n",
       "       'YearofConstructionCostMin40', 'YearofConstructionCostMax40',\n",
       "       'Length40', 'RTP', 'Category40', 'Name45', 'GeographicLimits45',\n",
       "       'Description45', 'PrimaryJurisdiction45',\n",
       "       'EstimatedYearofConstruction(4-YearWindow)45',\n",
       "       'YearofConstructionCostMin45', 'YearofConstructionCostMax45',\n",
       "       'Length45', 'Category45', 'NameDiff', 'GeographicLimitsDiff',\n",
       "       'PrimaryJurisdictionDiff',\n",
       "       'EstimatedYearofConstruction(4-YearWindow)Diff',\n",
       "       'YearofConstructionCostMinDiff', 'YearofConstructionCostMaxDiff',\n",
       "       'LengthDiff', 'CategoryDiff'],\n",
       "      dtype='object')"
      ]
     },
     "execution_count": 34,
     "metadata": {},
     "output_type": "execute_result"
    }
   ],
   "source": [
    "data.columns"
   ]
  },
  {
   "cell_type": "code",
   "execution_count": null,
   "id": "29131196",
   "metadata": {},
   "outputs": [],
   "source": [
    "data['LengthDiff'].value_counts()"
   ]
  },
  {
   "cell_type": "code",
   "execution_count": 37,
   "id": "585d7bff",
   "metadata": {},
   "outputs": [
    {
     "data": {
      "text/plain": [
       " 0.00      368\n",
       " 0.01        3\n",
       " 999.00      3\n",
       "-0.06        2\n",
       " 0.06        2\n",
       "-0.01        2\n",
       " 0.11        2\n",
       " 0.24        2\n",
       "-0.11        2\n",
       "-0.24        2\n",
       " 1.20        1\n",
       " 2.93        1\n",
       "-0.70        1\n",
       " 0.16        1\n",
       "-0.77        1\n",
       " 0.11        1\n",
       "-0.16        1\n",
       " 0.43        1\n",
       " 0.41        1\n",
       " 0.11        1\n",
       " 0.50        1\n",
       "-1.20        1\n",
       "-0.97        1\n",
       " 0.26        1\n",
       "-0.11        1\n",
       "-2.02        1\n",
       " 1.00        1\n",
       "-1.00        1\n",
       "-0.26        1\n",
       "-0.13        1\n",
       "-0.14        1\n",
       "-0.30        1\n",
       " 0.07        1\n",
       "-0.24        1\n",
       " 0.77        1\n",
       "-0.11        1\n",
       " 0.05        1\n",
       "-2.93        1\n",
       " 0.97        1\n",
       "-0.06        1\n",
       "-0.35        1\n",
       " 0.13        1\n",
       " 0.30        1\n",
       "-0.50        1\n",
       "-0.41        1\n",
       " 0.24        1\n",
       " 0.14        1\n",
       " 0.31        1\n",
       "-0.06        1\n",
       " 0.35        1\n",
       "-0.31        1\n",
       " 0.06        1\n",
       "-0.05        1\n",
       "Name: LengthDiff, dtype: int64"
      ]
     },
     "execution_count": 37,
     "metadata": {},
     "output_type": "execute_result"
    }
   ],
   "source": [
    "data['LengthDiff'].value_counts()"
   ]
  }
 ],
 "metadata": {
  "kernelspec": {
   "display_name": "Python 3",
   "language": "python",
   "name": "python3"
  },
  "language_info": {
   "codemirror_mode": {
    "name": "ipython",
    "version": 3
   },
   "file_extension": ".py",
   "mimetype": "text/x-python",
   "name": "python",
   "nbconvert_exporter": "python",
   "pygments_lexer": "ipython3",
   "version": "3.8.8"
  }
 },
 "nbformat": 4,
 "nbformat_minor": 5
}

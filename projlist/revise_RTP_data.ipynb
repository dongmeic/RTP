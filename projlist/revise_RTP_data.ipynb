{
 "cells": [
  {
   "cell_type": "code",
   "execution_count": 1,
   "id": "e7e8a8ae",
   "metadata": {},
   "outputs": [],
   "source": [
    "import review_RTP as RTP\n",
    "import numpy as np\n",
    "import geopandas as gpd\n",
    "import os"
   ]
  },
  {
   "cell_type": "code",
   "execution_count": 2,
   "id": "6ebc9973",
   "metadata": {},
   "outputs": [],
   "source": [
    "targetLayers = RTP.targetLayers()"
   ]
  },
  {
   "cell_type": "code",
   "execution_count": 3,
   "id": "fb5e6dd0",
   "metadata": {},
   "outputs": [],
   "source": [
    "inpath = r'T:\\MPO\\RTP\\FY16 2040 Update\\Data\\RTP_2040_Data.gdb'\n",
    "path = r'T:\\MPO\\RTP\\FY20 2045 Update\\Data and Resources\\Data'"
   ]
  },
  {
   "cell_type": "code",
   "execution_count": 7,
   "id": "4fffa80f",
   "metadata": {},
   "outputs": [],
   "source": [
    "tablePatterns = np.array(['Auto Constrained', 'Auto Illustrative', 'Bike Constrained', 'Bike Illustrative'])\n",
    "layerPatterns = np.array(['Constrained_Roadway', 'Illustrative_Roadway', 'Constrained_BikePed', 'Illustrative_BikePed'])"
   ]
  },
  {
   "cell_type": "code",
   "execution_count": 8,
   "id": "0d8fad33",
   "metadata": {},
   "outputs": [
    {
     "name": "stdout",
     "output_type": "stream",
     "text": [
      "Constrained_Roadway_lines\n"
     ]
    },
    {
     "name": "stderr",
     "output_type": "stream",
     "text": [
      "<ipython-input-8-e935b767af78>:12: UserWarning: Column names longer than 10 characters will be truncated when saved to ESRI Shapefile.\n",
      "  newgdf.to_file(os.path.join(path, layer+'.shp'))\n"
     ]
    },
    {
     "name": "stdout",
     "output_type": "stream",
     "text": [
      "Constrained_Roadway_points\n",
      "Illustrative_Roadway_lines\n",
      "Illustrative_Roadway_points\n",
      "Constrained_BikePed\n",
      "Constrained_BikePed_points\n",
      "Illustrative_BikePed\n"
     ]
    }
   ],
   "source": [
    "for layer in targetLayers:\n",
    "    print(layer)\n",
    "    gdf = gpd.read_file(inpath, layer=layer)\n",
    "    l = layer.split('_')\n",
    "    layerPattern = l[0] + '_' + l[1] \n",
    "    i=np.min(np.where(layerPatterns == layerPattern))\n",
    "    tablerPattern = tablePatterns[i]\n",
    "    res=RTP.getIDs(Tablepattern=tablerPattern,\n",
    "           Layerpattern=layerPattern)\n",
    "    commonIDs=RTP.matchID(res[0], res[1])[2]\n",
    "    newgdf = gdf[gdf.RTP_ID.isin(commonIDs)]\n",
    "    newgdf.to_file(os.path.join(path, layer+'.shp'))"
   ]
  },
  {
   "cell_type": "code",
   "execution_count": 2,
   "id": "7b417754",
   "metadata": {},
   "outputs": [],
   "source": [
    "df = RTP.modifyRTP(RTP.combineTables())"
   ]
  },
  {
   "cell_type": "code",
   "execution_count": 3,
   "id": "cddb53fb",
   "metadata": {},
   "outputs": [
    {
     "data": {
      "text/html": [
       "<div>\n",
       "<style scoped>\n",
       "    .dataframe tbody tr th:only-of-type {\n",
       "        vertical-align: middle;\n",
       "    }\n",
       "\n",
       "    .dataframe tbody tr th {\n",
       "        vertical-align: top;\n",
       "    }\n",
       "\n",
       "    .dataframe thead th {\n",
       "        text-align: right;\n",
       "    }\n",
       "</style>\n",
       "<table border=\"1\" class=\"dataframe\">\n",
       "  <thead>\n",
       "    <tr style=\"text-align: right;\">\n",
       "      <th></th>\n",
       "      <th>Name</th>\n",
       "      <th>GeographicLimits</th>\n",
       "      <th>Description</th>\n",
       "      <th>PrimaryJurisdiction</th>\n",
       "      <th>EstimatedCost</th>\n",
       "      <th>EstimatedYearofConstruction</th>\n",
       "      <th>YearofConstructionCostMin</th>\n",
       "      <th>YearofConstructionCostMax</th>\n",
       "      <th>Length</th>\n",
       "      <th>RTP</th>\n",
       "      <th>Category</th>\n",
       "    </tr>\n",
       "  </thead>\n",
       "  <tbody>\n",
       "    <tr>\n",
       "      <th>0</th>\n",
       "      <td>Eugene-Springfield Highway (SR-126)</td>\n",
       "      <td>at Main Street</td>\n",
       "      <td>Construct interchange</td>\n",
       "      <td>ODOT</td>\n",
       "      <td>50000000.0</td>\n",
       "      <td>2030-2034</td>\n",
       "      <td>7.666397e+07</td>\n",
       "      <td>8.662156e+07</td>\n",
       "      <td>0.0</td>\n",
       "      <td>27</td>\n",
       "      <td>New Arterial Link or Interchange</td>\n",
       "    </tr>\n",
       "    <tr>\n",
       "      <th>1</th>\n",
       "      <td>Eugene-Springfield Highway (SR-126)</td>\n",
       "      <td>at 52nd Street</td>\n",
       "      <td>Construct interchange</td>\n",
       "      <td>ODOT</td>\n",
       "      <td>40000000.0</td>\n",
       "      <td>2025-2029</td>\n",
       "      <td>5.264874e+07</td>\n",
       "      <td>5.948708e+07</td>\n",
       "      <td>0.0</td>\n",
       "      <td>30</td>\n",
       "      <td>New Arterial Link or Interchange</td>\n",
       "    </tr>\n",
       "    <tr>\n",
       "      <th>2</th>\n",
       "      <td>Beltline Local Arterial Bridge</td>\n",
       "      <td>Beaver Street to Delta Highway</td>\n",
       "      <td>Construct new arterial bridge with up to 4 lan...</td>\n",
       "      <td>ODOT, Lane County, City of Eugene</td>\n",
       "      <td>83000000.0</td>\n",
       "      <td>2025-2029</td>\n",
       "      <td>1.092461e+08</td>\n",
       "      <td>1.234357e+08</td>\n",
       "      <td>0.95</td>\n",
       "      <td>512</td>\n",
       "      <td>New Arterial Link or Interchange</td>\n",
       "    </tr>\n",
       "    <tr>\n",
       "      <th>3</th>\n",
       "      <td>Delta/ Beltline Interchange</td>\n",
       "      <td>NaN</td>\n",
       "      <td>Interim/safety improvements; replace/revise ex...</td>\n",
       "      <td>ODOT</td>\n",
       "      <td>20000000.0</td>\n",
       "      <td>2020-2024</td>\n",
       "      <td>2.259772e+07</td>\n",
       "      <td>2.553285e+07</td>\n",
       "      <td>0.25</td>\n",
       "      <td>638</td>\n",
       "      <td>Added Freeway Lanes or Major Interchange Impro...</td>\n",
       "    </tr>\n",
       "    <tr>\n",
       "      <th>4</th>\n",
       "      <td>Randy Pape Beltline Highway</td>\n",
       "      <td>Roosevelt Boulevard to W. 11th Avenue</td>\n",
       "      <td>Add lanes on Randy Pape Belltine Highway and p...</td>\n",
       "      <td>ODOT, Eugene</td>\n",
       "      <td>28100000.0</td>\n",
       "      <td>2030-2034</td>\n",
       "      <td>4.308515e+07</td>\n",
       "      <td>4.868131e+07</td>\n",
       "      <td>1.1</td>\n",
       "      <td>312</td>\n",
       "      <td>Added Freeway Lanes or Major Interchange Impro...</td>\n",
       "    </tr>\n",
       "  </tbody>\n",
       "</table>\n",
       "</div>"
      ],
      "text/plain": [
       "                                  Name                       GeographicLimits  \\\n",
       "0  Eugene-Springfield Highway (SR-126)                         at Main Street   \n",
       "1  Eugene-Springfield Highway (SR-126)                         at 52nd Street   \n",
       "2       Beltline Local Arterial Bridge         Beaver Street to Delta Highway   \n",
       "3          Delta/ Beltline Interchange                                    NaN   \n",
       "4          Randy Pape Beltline Highway  Roosevelt Boulevard to W. 11th Avenue   \n",
       "\n",
       "                                         Description  \\\n",
       "0                              Construct interchange   \n",
       "1                              Construct interchange   \n",
       "2  Construct new arterial bridge with up to 4 lan...   \n",
       "3  Interim/safety improvements; replace/revise ex...   \n",
       "4  Add lanes on Randy Pape Belltine Highway and p...   \n",
       "\n",
       "                 PrimaryJurisdiction  EstimatedCost  \\\n",
       "0                               ODOT     50000000.0   \n",
       "1                               ODOT     40000000.0   \n",
       "2  ODOT, Lane County, City of Eugene     83000000.0   \n",
       "3                               ODOT     20000000.0   \n",
       "4                       ODOT, Eugene     28100000.0   \n",
       "\n",
       "  EstimatedYearofConstruction  YearofConstructionCostMin  \\\n",
       "0                   2030-2034               7.666397e+07   \n",
       "1                   2025-2029               5.264874e+07   \n",
       "2                   2025-2029               1.092461e+08   \n",
       "3                   2020-2024               2.259772e+07   \n",
       "4                   2030-2034               4.308515e+07   \n",
       "\n",
       "   YearofConstructionCostMax Length  RTP  \\\n",
       "0               8.662156e+07    0.0   27   \n",
       "1               5.948708e+07    0.0   30   \n",
       "2               1.234357e+08   0.95  512   \n",
       "3               2.553285e+07   0.25  638   \n",
       "4               4.868131e+07    1.1  312   \n",
       "\n",
       "                                            Category  \n",
       "0                   New Arterial Link or Interchange  \n",
       "1                   New Arterial Link or Interchange  \n",
       "2                   New Arterial Link or Interchange  \n",
       "3  Added Freeway Lanes or Major Interchange Impro...  \n",
       "4  Added Freeway Lanes or Major Interchange Impro...  "
      ]
     },
     "execution_count": 3,
     "metadata": {},
     "output_type": "execute_result"
    }
   ],
   "source": [
    "df.head()"
   ]
  },
  {
   "cell_type": "code",
   "execution_count": 53,
   "id": "e92b6860",
   "metadata": {},
   "outputs": [
    {
     "data": {
      "text/plain": [
       "(318, 11)"
      ]
     },
     "execution_count": 53,
     "metadata": {},
     "output_type": "execute_result"
    }
   ],
   "source": [
    "df.shape"
   ]
  },
  {
   "cell_type": "code",
   "execution_count": 7,
   "id": "81d501ff",
   "metadata": {},
   "outputs": [],
   "source": [
    "df45 = RTP.modifyRTP(RTP.combineTables(year=2045))"
   ]
  },
  {
   "cell_type": "code",
   "execution_count": 8,
   "id": "de205a8d",
   "metadata": {},
   "outputs": [
    {
     "data": {
      "text/html": [
       "<div>\n",
       "<style scoped>\n",
       "    .dataframe tbody tr th:only-of-type {\n",
       "        vertical-align: middle;\n",
       "    }\n",
       "\n",
       "    .dataframe tbody tr th {\n",
       "        vertical-align: top;\n",
       "    }\n",
       "\n",
       "    .dataframe thead th {\n",
       "        text-align: right;\n",
       "    }\n",
       "</style>\n",
       "<table border=\"1\" class=\"dataframe\">\n",
       "  <thead>\n",
       "    <tr style=\"text-align: right;\">\n",
       "      <th></th>\n",
       "      <th>Name</th>\n",
       "      <th>GeographicLimits</th>\n",
       "      <th>Description</th>\n",
       "      <th>PrimaryJurisdiction</th>\n",
       "      <th>EstimatedCost</th>\n",
       "      <th>EstimatedYearofConstruction</th>\n",
       "      <th>YearofConstructionCostMin</th>\n",
       "      <th>YearofConstructionCostMax</th>\n",
       "      <th>Length</th>\n",
       "      <th>RTP</th>\n",
       "      <th>Category</th>\n",
       "    </tr>\n",
       "  </thead>\n",
       "  <tbody>\n",
       "    <tr>\n",
       "      <th>0</th>\n",
       "      <td>Beltline Local Arterial Bridge</td>\n",
       "      <td>Beaver Street to Delta Highway</td>\n",
       "      <td>Construct new 2-lane arterial bridge over the ...</td>\n",
       "      <td>ODOT, Lane County, City of Eugene</td>\n",
       "      <td>83000000.0</td>\n",
       "      <td>2025-2029</td>\n",
       "      <td>NaN</td>\n",
       "      <td>NaN</td>\n",
       "      <td>0.95</td>\n",
       "      <td>512</td>\n",
       "      <td>New Arterial Link or Interchange</td>\n",
       "    </tr>\n",
       "    <tr>\n",
       "      <th>1</th>\n",
       "      <td>Eugene-Springfield Highway (SR-126)</td>\n",
       "      <td>at Main Street</td>\n",
       "      <td>Construct interchange</td>\n",
       "      <td>ODOT</td>\n",
       "      <td>50000000.0</td>\n",
       "      <td>2030-2034</td>\n",
       "      <td>NaN</td>\n",
       "      <td>NaN</td>\n",
       "      <td>0.0</td>\n",
       "      <td>27</td>\n",
       "      <td>New Arterial Link or Interchange</td>\n",
       "    </tr>\n",
       "    <tr>\n",
       "      <th>2</th>\n",
       "      <td>Eugene-Springfield Highway (SR-126)</td>\n",
       "      <td>at 52nd Street</td>\n",
       "      <td>Construct interchange</td>\n",
       "      <td>ODOT</td>\n",
       "      <td>40000000.0</td>\n",
       "      <td>2025-2029</td>\n",
       "      <td>NaN</td>\n",
       "      <td>NaN</td>\n",
       "      <td>0.0</td>\n",
       "      <td>30</td>\n",
       "      <td>New Arterial Link or Interchange</td>\n",
       "    </tr>\n",
       "    <tr>\n",
       "      <th>3</th>\n",
       "      <td>Randy Pape Beltline Highway</td>\n",
       "      <td>Roosevelt Boulevard to W. 11th Avenue</td>\n",
       "      <td>Add lanes on Belltine Highway and provide inte...</td>\n",
       "      <td>ODOT, Eugene</td>\n",
       "      <td>28100000.0</td>\n",
       "      <td>2030-2034</td>\n",
       "      <td>NaN</td>\n",
       "      <td>NaN</td>\n",
       "      <td>1.1</td>\n",
       "      <td>312</td>\n",
       "      <td>Added Freeway Lanes or Major Interchange Impro...</td>\n",
       "    </tr>\n",
       "    <tr>\n",
       "      <th>4</th>\n",
       "      <td>Delta/Beltline Interchange</td>\n",
       "      <td>NaN</td>\n",
       "      <td>Interim/safety improvements; replace/revise ex...</td>\n",
       "      <td>ODOT</td>\n",
       "      <td>20000000.0</td>\n",
       "      <td>2020-2024</td>\n",
       "      <td>NaN</td>\n",
       "      <td>NaN</td>\n",
       "      <td>0.25</td>\n",
       "      <td>638</td>\n",
       "      <td>Added Freeway Lanes or Major Interchange Impro...</td>\n",
       "    </tr>\n",
       "  </tbody>\n",
       "</table>\n",
       "</div>"
      ],
      "text/plain": [
       "                                  Name                       GeographicLimits  \\\n",
       "0       Beltline Local Arterial Bridge         Beaver Street to Delta Highway   \n",
       "1  Eugene-Springfield Highway (SR-126)                         at Main Street   \n",
       "2  Eugene-Springfield Highway (SR-126)                         at 52nd Street   \n",
       "3          Randy Pape Beltline Highway  Roosevelt Boulevard to W. 11th Avenue   \n",
       "4           Delta/Beltline Interchange                                    NaN   \n",
       "\n",
       "                                         Description  \\\n",
       "0  Construct new 2-lane arterial bridge over the ...   \n",
       "1                              Construct interchange   \n",
       "2                              Construct interchange   \n",
       "3  Add lanes on Belltine Highway and provide inte...   \n",
       "4  Interim/safety improvements; replace/revise ex...   \n",
       "\n",
       "                 PrimaryJurisdiction EstimatedCost  \\\n",
       "0  ODOT, Lane County, City of Eugene    83000000.0   \n",
       "1                               ODOT    50000000.0   \n",
       "2                               ODOT    40000000.0   \n",
       "3                       ODOT, Eugene    28100000.0   \n",
       "4                               ODOT    20000000.0   \n",
       "\n",
       "  EstimatedYearofConstruction YearofConstructionCostMin  \\\n",
       "0                   2025-2029                       NaN   \n",
       "1                   2030-2034                       NaN   \n",
       "2                   2025-2029                       NaN   \n",
       "3                   2030-2034                       NaN   \n",
       "4                   2020-2024                       NaN   \n",
       "\n",
       "  YearofConstructionCostMax Length  RTP  \\\n",
       "0                       NaN   0.95  512   \n",
       "1                       NaN    0.0   27   \n",
       "2                       NaN    0.0   30   \n",
       "3                       NaN    1.1  312   \n",
       "4                       NaN   0.25  638   \n",
       "\n",
       "                                            Category  \n",
       "0                   New Arterial Link or Interchange  \n",
       "1                   New Arterial Link or Interchange  \n",
       "2                   New Arterial Link or Interchange  \n",
       "3  Added Freeway Lanes or Major Interchange Impro...  \n",
       "4  Added Freeway Lanes or Major Interchange Impro...  "
      ]
     },
     "execution_count": 8,
     "metadata": {},
     "output_type": "execute_result"
    }
   ],
   "source": [
    "df45.head()"
   ]
  },
  {
   "cell_type": "code",
   "execution_count": 19,
   "id": "c5e68776",
   "metadata": {},
   "outputs": [
    {
     "data": {
      "text/plain": [
       "226"
      ]
     },
     "execution_count": 19,
     "metadata": {},
     "output_type": "execute_result"
    }
   ],
   "source": [
    "len([N for N in list(df.RTP.unique()) if N in list(df45.RTP.unique())])"
   ]
  },
  {
   "cell_type": "code",
   "execution_count": 22,
   "id": "d079964e",
   "metadata": {},
   "outputs": [
    {
     "data": {
      "text/plain": [
       "31"
      ]
     },
     "execution_count": 22,
     "metadata": {},
     "output_type": "execute_result"
    }
   ],
   "source": [
    "len([N for N in list(df.RTP.unique()) if N not in list(df45.RTP.unique())])"
   ]
  },
  {
   "cell_type": "code",
   "execution_count": 21,
   "id": "ac66e5ba",
   "metadata": {},
   "outputs": [
    {
     "data": {
      "text/plain": [
       "[nan, '\\xa0', 'MM-22']"
      ]
     },
     "execution_count": 21,
     "metadata": {},
     "output_type": "execute_result"
    }
   ],
   "source": [
    "[N for N in list(df45.RTP.unique()) if N not in list(df.RTP.unique())]"
   ]
  },
  {
   "cell_type": "code",
   "execution_count": 11,
   "id": "72afa0d4",
   "metadata": {},
   "outputs": [
    {
     "data": {
      "text/plain": [
       "(273, 12)"
      ]
     },
     "execution_count": 11,
     "metadata": {},
     "output_type": "execute_result"
    }
   ],
   "source": [
    "df45.shape"
   ]
  },
  {
   "cell_type": "code",
   "execution_count": 3,
   "id": "d3f85f88",
   "metadata": {},
   "outputs": [],
   "source": [
    "data = RTP.checkDiff()"
   ]
  },
  {
   "cell_type": "code",
   "execution_count": 4,
   "id": "a2e09844",
   "metadata": {},
   "outputs": [
    {
     "data": {
      "text/plain": [
       "Index(['Name40', 'GeographicLimits40', 'Description40',\n",
       "       'PrimaryJurisdiction40', 'EstimatedCost40',\n",
       "       'EstimatedYearofConstruction40', 'YearofConstructionCostMin40',\n",
       "       'YearofConstructionCostMax40', 'Length40', 'RTP40', 'Category40',\n",
       "       'Name45', 'GeographicLimits45', 'Description45',\n",
       "       'PrimaryJurisdiction45', 'EstimatedCost45',\n",
       "       'EstimatedYearofConstruction45', 'YearofConstructionCostMin45',\n",
       "       'YearofConstructionCostMax45', 'Length45', 'RTP45', 'Category45',\n",
       "       'NameDiff', 'GeographicLimitsDiff', 'DescriptionDiff',\n",
       "       'PrimaryJurisdictionDiff', 'EstimatedCostDiff',\n",
       "       'EstimatedYearofConstructionDiff', 'YearofConstructionCostMinDiff',\n",
       "       'YearofConstructionCostMaxDiff', 'LengthDiff', 'RTPDiff',\n",
       "       'CategoryDiff'],\n",
       "      dtype='object')"
      ]
     },
     "execution_count": 4,
     "metadata": {},
     "output_type": "execute_result"
    }
   ],
   "source": [
    "data.columns"
   ]
  },
  {
   "cell_type": "code",
   "execution_count": 5,
   "id": "b4decb90",
   "metadata": {},
   "outputs": [
    {
     "data": {
      "text/plain": [
       "0    139\n",
       "Name: GeographicLimitsDiff, dtype: int64"
      ]
     },
     "execution_count": 5,
     "metadata": {},
     "output_type": "execute_result"
    }
   ],
   "source": [
    "data['GeographicLimitsDiff'].value_counts()"
   ]
  },
  {
   "cell_type": "code",
   "execution_count": 6,
   "id": "965b977b",
   "metadata": {},
   "outputs": [
    {
     "data": {
      "text/plain": [
       "0    139\n",
       "Name: CategoryDiff, dtype: int64"
      ]
     },
     "execution_count": 6,
     "metadata": {},
     "output_type": "execute_result"
    }
   ],
   "source": [
    "data['CategoryDiff'].value_counts()"
   ]
  },
  {
   "cell_type": "code",
   "execution_count": 7,
   "id": "373c7e64",
   "metadata": {},
   "outputs": [
    {
     "data": {
      "text/plain": [
       "0.0    138\n",
       "Name: LengthDiff, dtype: int64"
      ]
     },
     "execution_count": 7,
     "metadata": {},
     "output_type": "execute_result"
    }
   ],
   "source": [
    "data['LengthDiff'].value_counts()"
   ]
  },
  {
   "cell_type": "code",
   "execution_count": 7,
   "id": "3e522c27",
   "metadata": {},
   "outputs": [
    {
     "data": {
      "text/plain": [
       "(139, 33)"
      ]
     },
     "execution_count": 7,
     "metadata": {},
     "output_type": "execute_result"
    }
   ],
   "source": [
    "data.shape"
   ]
  },
  {
   "cell_type": "code",
   "execution_count": 24,
   "id": "5c0dca32",
   "metadata": {},
   "outputs": [],
   "source": []
  },
  {
   "cell_type": "code",
   "execution_count": 25,
   "id": "c1512e25",
   "metadata": {},
   "outputs": [],
   "source": []
  },
  {
   "cell_type": "code",
   "execution_count": 26,
   "id": "91e14b14",
   "metadata": {},
   "outputs": [],
   "source": []
  }
 ],
 "metadata": {
  "kernelspec": {
   "display_name": "Python 3",
   "language": "python",
   "name": "python3"
  },
  "language_info": {
   "codemirror_mode": {
    "name": "ipython",
    "version": 3
   },
   "file_extension": ".py",
   "mimetype": "text/x-python",
   "name": "python",
   "nbconvert_exporter": "python",
   "pygments_lexer": "ipython3",
   "version": "3.8.8"
  }
 },
 "nbformat": 4,
 "nbformat_minor": 5
}

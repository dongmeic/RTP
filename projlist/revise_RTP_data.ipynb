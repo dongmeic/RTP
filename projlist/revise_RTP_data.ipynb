{
 "cells": [
  {
   "cell_type": "code",
   "execution_count": 9,
   "id": "94a20c4f",
   "metadata": {},
   "outputs": [],
   "source": [
    "import review_RTP as RTP\n",
    "import numpy as np\n",
    "import geopandas as gpd\n",
    "import os"
   ]
  },
  {
   "cell_type": "code",
   "execution_count": 2,
   "id": "22abf842",
   "metadata": {},
   "outputs": [],
   "source": [
    "targetLayers = RTP.targetLayers()"
   ]
  },
  {
   "cell_type": "code",
   "execution_count": 3,
   "id": "f167b48d",
   "metadata": {},
   "outputs": [],
   "source": [
    "inpath = r'T:\\MPO\\RTP\\FY16 2040 Update\\Data\\RTP_2040_Data.gdb'\n",
    "path = r'T:\\MPO\\RTP\\FY20 2045 Update\\Data and Resources\\Data'"
   ]
  },
  {
   "cell_type": "code",
   "execution_count": 7,
   "id": "445aa123",
   "metadata": {},
   "outputs": [],
   "source": [
    "tablePatterns = np.array(['Auto Constrained', 'Auto Illustrative', 'Bike Constrained', 'Bike Illustrative'])\n",
    "layerPatterns = np.array(['Constrained_Roadway', 'Illustrative_Roadway', 'Constrained_BikePed', 'Illustrative_BikePed'])"
   ]
  },
  {
   "cell_type": "code",
   "execution_count": 8,
   "id": "c07559dc",
   "metadata": {},
   "outputs": [
    {
     "name": "stdout",
     "output_type": "stream",
     "text": [
      "Constrained_Roadway_lines\n"
     ]
    },
    {
     "name": "stderr",
     "output_type": "stream",
     "text": [
      "<ipython-input-8-e935b767af78>:12: UserWarning: Column names longer than 10 characters will be truncated when saved to ESRI Shapefile.\n",
      "  newgdf.to_file(os.path.join(path, layer+'.shp'))\n"
     ]
    },
    {
     "name": "stdout",
     "output_type": "stream",
     "text": [
      "Constrained_Roadway_points\n",
      "Illustrative_Roadway_lines\n",
      "Illustrative_Roadway_points\n",
      "Constrained_BikePed\n",
      "Constrained_BikePed_points\n",
      "Illustrative_BikePed\n"
     ]
    }
   ],
   "source": [
    "for layer in targetLayers:\n",
    "    print(layer)\n",
    "    gdf = gpd.read_file(inpath, layer=layer)\n",
    "    l = layer.split('_')\n",
    "    layerPattern = l[0] + '_' + l[1] \n",
    "    i=np.min(np.where(layerPatterns == layerPattern))\n",
    "    tablerPattern = tablePatterns[i]\n",
    "    res=RTP.getIDs(Tablepattern=tablerPattern,\n",
    "           Layerpattern=layerPattern)\n",
    "    commonIDs=RTP.matchID(res[0], res[1])[2]\n",
    "    newgdf = gdf[gdf.RTP_ID.isin(commonIDs)]\n",
    "    newgdf.to_file(os.path.join(path, layer+'.shp'))"
   ]
  },
  {
   "cell_type": "code",
   "execution_count": null,
   "id": "ff185088",
   "metadata": {},
   "outputs": [],
   "source": []
  }
 ],
 "metadata": {
  "kernelspec": {
   "display_name": "Python 3",
   "language": "python",
   "name": "python3"
  },
  "language_info": {
   "codemirror_mode": {
    "name": "ipython",
    "version": 3
   },
   "file_extension": ".py",
   "mimetype": "text/x-python",
   "name": "python",
   "nbconvert_exporter": "python",
   "pygments_lexer": "ipython3",
   "version": "3.8.8"
  }
 },
 "nbformat": 4,
 "nbformat_minor": 5
}

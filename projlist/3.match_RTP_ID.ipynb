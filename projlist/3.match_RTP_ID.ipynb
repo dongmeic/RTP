{
 "cells": [
  {
   "cell_type": "code",
   "execution_count": 1,
   "id": "678442c4",
   "metadata": {},
   "outputs": [],
   "source": [
    "import review_RTP as RTP\n",
    "import pandas as pd\n",
    "import os, sys"
   ]
  },
  {
   "cell_type": "code",
   "execution_count": 2,
   "id": "d39968b8",
   "metadata": {},
   "outputs": [],
   "source": [
    "df40r = RTP.combineTables(excludeTransit = True)\n",
    "df45r = RTP.combineTables(year=2045, excludeTransit = True)"
   ]
  },
  {
   "cell_type": "code",
   "execution_count": 3,
   "id": "bee12f0c",
   "metadata": {},
   "outputs": [
    {
     "data": {
      "text/plain": [
       "(306, 14)"
      ]
     },
     "execution_count": 3,
     "metadata": {},
     "output_type": "execute_result"
    }
   ],
   "source": [
    "df40r.shape"
   ]
  },
  {
   "cell_type": "code",
   "execution_count": 4,
   "id": "60e859f7",
   "metadata": {},
   "outputs": [],
   "source": [
    "df40 = RTP.modifyRTP(RTP.combineTables(excludeTransit = True)) "
   ]
  },
  {
   "cell_type": "code",
   "execution_count": 5,
   "id": "b89f937e",
   "metadata": {},
   "outputs": [
    {
     "data": {
      "text/plain": [
       "(298, 14)"
      ]
     },
     "execution_count": 5,
     "metadata": {},
     "output_type": "execute_result"
    }
   ],
   "source": [
    "df40.shape"
   ]
  },
  {
   "cell_type": "code",
   "execution_count": 6,
   "id": "6a2a6bbd",
   "metadata": {},
   "outputs": [
    {
     "data": {
      "text/plain": [
       "8"
      ]
     },
     "execution_count": 6,
     "metadata": {},
     "output_type": "execute_result"
    }
   ],
   "source": [
    "df40r.shape[0] - df40.shape[0]"
   ]
  },
  {
   "cell_type": "code",
   "execution_count": 7,
   "id": "b5e891e7",
   "metadata": {},
   "outputs": [
    {
     "data": {
      "text/plain": [
       "6"
      ]
     },
     "execution_count": 7,
     "metadata": {},
     "output_type": "execute_result"
    }
   ],
   "source": [
    "df40r[df40r.RTP.astype(str) == 'nan'].shape[0]"
   ]
  },
  {
   "cell_type": "code",
   "execution_count": 8,
   "id": "921af570",
   "metadata": {},
   "outputs": [
    {
     "data": {
      "text/plain": [
       "['33,36, 39, 42, 45, 48, 51, 57', nan, '485, 454']"
      ]
     },
     "execution_count": 8,
     "metadata": {},
     "output_type": "execute_result"
    }
   ],
   "source": [
    "[rtp for rtp in list(df40r.RTP.unique()) if rtp not in list(df40.RTP.unique())]"
   ]
  },
  {
   "cell_type": "code",
   "execution_count": 9,
   "id": "cc2bf9f2",
   "metadata": {},
   "outputs": [],
   "source": [
    "df45 = RTP.modifyRTP(RTP.combineTables(year=2045, excludeTransit = True))"
   ]
  },
  {
   "cell_type": "code",
   "execution_count": 10,
   "id": "027dae45",
   "metadata": {},
   "outputs": [
    {
     "data": {
      "text/plain": [
       "(279, 13)"
      ]
     },
     "execution_count": 10,
     "metadata": {},
     "output_type": "execute_result"
    }
   ],
   "source": [
    "df45r.shape"
   ]
  },
  {
   "cell_type": "code",
   "execution_count": 11,
   "id": "b32b9c9b",
   "metadata": {},
   "outputs": [
    {
     "data": {
      "text/plain": [
       "(254, 13)"
      ]
     },
     "execution_count": 11,
     "metadata": {},
     "output_type": "execute_result"
    }
   ],
   "source": [
    "df45.shape"
   ]
  },
  {
   "cell_type": "code",
   "execution_count": 12,
   "id": "9b65778b",
   "metadata": {},
   "outputs": [
    {
     "data": {
      "text/plain": [
       "25"
      ]
     },
     "execution_count": 12,
     "metadata": {},
     "output_type": "execute_result"
    }
   ],
   "source": [
    "df45r.shape[0] - df45.shape[0]"
   ]
  },
  {
   "cell_type": "code",
   "execution_count": 13,
   "id": "1ea0fe04",
   "metadata": {},
   "outputs": [
    {
     "data": {
      "text/plain": [
       "19"
      ]
     },
     "execution_count": 13,
     "metadata": {},
     "output_type": "execute_result"
    }
   ],
   "source": [
    "df45r[df45r.RTP.astype(str) == 'nan'].shape[0]"
   ]
  },
  {
   "cell_type": "code",
   "execution_count": 14,
   "id": "958c180c",
   "metadata": {},
   "outputs": [
    {
     "data": {
      "text/plain": [
       "['33,36, 39, 42, 45, 48, 51, 57', nan, '\\xa0', '485, 454', 'MM-22']"
      ]
     },
     "execution_count": 14,
     "metadata": {},
     "output_type": "execute_result"
    }
   ],
   "source": [
    "excluded = [rtp for rtp in list(df45r.RTP.unique()) if rtp not in list(df45.RTP.unique())]\n",
    "excluded"
   ]
  },
  {
   "cell_type": "code",
   "execution_count": 15,
   "id": "c2b5c0b4",
   "metadata": {},
   "outputs": [],
   "source": [
    "DataExcluded = df45r[df45r.RTP.isin(excluded)]"
   ]
  },
  {
   "cell_type": "code",
   "execution_count": 16,
   "id": "4d1341f6",
   "metadata": {},
   "outputs": [],
   "source": [
    "path = r'T:\\MPO\\RTP\\FY20 2045 Update\\Data and Resources\\ProjectReview'"
   ]
  },
  {
   "cell_type": "code",
   "execution_count": 17,
   "id": "e162c7b2",
   "metadata": {},
   "outputs": [],
   "source": [
    "DataExcluded.to_csv(os.path.join(path,'projects_wo_unique_IDs.csv'), index=False)"
   ]
  },
  {
   "cell_type": "code",
   "execution_count": 37,
   "id": "2e6b4a1f",
   "metadata": {},
   "outputs": [
    {
     "data": {
      "text/plain": [
       "(25, 12)"
      ]
     },
     "execution_count": 37,
     "metadata": {},
     "output_type": "execute_result"
    }
   ],
   "source": [
    "DataExcluded.shape"
   ]
  },
  {
   "cell_type": "code",
   "execution_count": 24,
   "id": "b34b45a8",
   "metadata": {},
   "outputs": [
    {
     "data": {
      "text/plain": [
       "['Name',\n",
       " 'GeographicLimits',\n",
       " 'Description',\n",
       " 'PrimaryJurisdiction',\n",
       " 'EstimatedCost',\n",
       " 'EstimatedYearofConstruction',\n",
       " 'YearofConstructionCostMin',\n",
       " 'YearofConstructionCostMax',\n",
       " 'Length',\n",
       " 'RTP',\n",
       " 'JurisdictionalProject#',\n",
       " 'Comments',\n",
       " 'Category']"
      ]
     },
     "execution_count": 24,
     "metadata": {},
     "output_type": "execute_result"
    }
   ],
   "source": [
    "list(df40.columns)"
   ]
  },
  {
   "cell_type": "code",
   "execution_count": 25,
   "id": "5347e559",
   "metadata": {},
   "outputs": [
    {
     "data": {
      "text/plain": [
       "248"
      ]
     },
     "execution_count": 25,
     "metadata": {},
     "output_type": "execute_result"
    }
   ],
   "source": [
    "len(df40.RTP.unique())"
   ]
  },
  {
   "cell_type": "code",
   "execution_count": 26,
   "id": "cac82574",
   "metadata": {},
   "outputs": [
    {
     "data": {
      "text/plain": [
       "30"
      ]
     },
     "execution_count": 26,
     "metadata": {},
     "output_type": "execute_result"
    }
   ],
   "source": [
    "# missing RTP ID in 2045\n",
    "missingIDs = [rtp for rtp in df40.RTP.unique() if rtp not in df45.RTP.unique()]\n",
    "len(missingIDs)"
   ]
  },
  {
   "cell_type": "code",
   "execution_count": 27,
   "id": "b0230cc1",
   "metadata": {},
   "outputs": [
    {
     "data": {
      "text/plain": [
       "[606,\n",
       " 537,\n",
       " 499,\n",
       " 725,\n",
       " 558,\n",
       " 562,\n",
       " 561,\n",
       " 559,\n",
       " 560,\n",
       " 914,\n",
       " 915,\n",
       " 563,\n",
       " 67,\n",
       " 794,\n",
       " 797,\n",
       " 498,\n",
       " 485,\n",
       " 109,\n",
       " 188,\n",
       " 296,\n",
       " 306,\n",
       " 334,\n",
       " 97,\n",
       " 453,\n",
       " 957,\n",
       " 922,\n",
       " 25,\n",
       " 23,\n",
       " 738,\n",
       " 716]"
      ]
     },
     "execution_count": 27,
     "metadata": {},
     "output_type": "execute_result"
    }
   ],
   "source": [
    "missingIDs"
   ]
  },
  {
   "cell_type": "code",
   "execution_count": 28,
   "id": "c0492239",
   "metadata": {},
   "outputs": [
    {
     "data": {
      "text/plain": [
       "31"
      ]
     },
     "execution_count": 28,
     "metadata": {},
     "output_type": "execute_result"
    }
   ],
   "source": [
    "missingIDs_r = [rtp for rtp in df40r.RTP.unique() if rtp not in df45r.RTP.unique()]\n",
    "len(missingIDs_r)"
   ]
  },
  {
   "cell_type": "code",
   "execution_count": 38,
   "id": "041e6ce4",
   "metadata": {},
   "outputs": [
    {
     "data": {
      "text/plain": [
       "[]"
      ]
     },
     "execution_count": 38,
     "metadata": {},
     "output_type": "execute_result"
    }
   ],
   "source": [
    "# new RTP ID in 2045, are the projects moving around different categories?\n",
    "[rtp for rtp in df45.RTP.unique() if rtp not in df40.RTP.unique()]"
   ]
  },
  {
   "cell_type": "code",
   "execution_count": 40,
   "id": "11f3f953",
   "metadata": {},
   "outputs": [],
   "source": [
    "addedProjects = pd.read_csv(os.path.join(path, 'addedProjects.csv'))"
   ]
  },
  {
   "cell_type": "code",
   "execution_count": 41,
   "id": "d2f59bba",
   "metadata": {},
   "outputs": [
    {
     "data": {
      "text/plain": [
       "0    821\n",
       "1    827\n",
       "2    828\n",
       "3    784\n",
       "4    521\n",
       "5    812\n",
       "Name: RTP, dtype: int64"
      ]
     },
     "execution_count": 41,
     "metadata": {},
     "output_type": "execute_result"
    }
   ],
   "source": [
    "addedProjects.RTP"
   ]
  },
  {
   "cell_type": "code",
   "execution_count": 51,
   "id": "53505b51",
   "metadata": {},
   "outputs": [
    {
     "data": {
      "text/html": [
       "<div>\n",
       "<style scoped>\n",
       "    .dataframe tbody tr th:only-of-type {\n",
       "        vertical-align: middle;\n",
       "    }\n",
       "\n",
       "    .dataframe tbody tr th {\n",
       "        vertical-align: top;\n",
       "    }\n",
       "\n",
       "    .dataframe thead th {\n",
       "        text-align: right;\n",
       "    }\n",
       "</style>\n",
       "<table border=\"1\" class=\"dataframe\">\n",
       "  <thead>\n",
       "    <tr style=\"text-align: right;\">\n",
       "      <th></th>\n",
       "      <th>RTP</th>\n",
       "      <th>Category</th>\n",
       "      <th>In</th>\n",
       "      <th>Name</th>\n",
       "      <th>GeographicLimits</th>\n",
       "    </tr>\n",
       "  </thead>\n",
       "  <tbody>\n",
       "    <tr>\n",
       "      <th>4</th>\n",
       "      <td>521</td>\n",
       "      <td>On-Street Lanes or Routes Without Road Project</td>\n",
       "      <td>BikeConstrained</td>\n",
       "      <td>Horn Lane</td>\n",
       "      <td>Lake Drive to River Road</td>\n",
       "    </tr>\n",
       "    <tr>\n",
       "      <th>3</th>\n",
       "      <td>784</td>\n",
       "      <td>Urban Standards</td>\n",
       "      <td>AutoConstrained</td>\n",
       "      <td>Yolanda Avenue</td>\n",
       "      <td>23rd Street to 31st Street</td>\n",
       "    </tr>\n",
       "    <tr>\n",
       "      <th>5</th>\n",
       "      <td>812</td>\n",
       "      <td>Multi-Use Paths Without Road Project</td>\n",
       "      <td>BikeIllustrative</td>\n",
       "      <td>By Gully Path Extension</td>\n",
       "      <td>Pioneer Parkway to 5th Street</td>\n",
       "    </tr>\n",
       "    <tr>\n",
       "      <th>0</th>\n",
       "      <td>821</td>\n",
       "      <td>Added Freeway Lanes or Major Interchange Impro...</td>\n",
       "      <td>AutoConstrained</td>\n",
       "      <td>Eugene-Springfield Highway (OR 126)</td>\n",
       "      <td>@ Mohawk Boulevard Interchange</td>\n",
       "    </tr>\n",
       "    <tr>\n",
       "      <th>1</th>\n",
       "      <td>827</td>\n",
       "      <td>Urban Standards</td>\n",
       "      <td>AutoConstrained</td>\n",
       "      <td>Henderson Avenue</td>\n",
       "      <td>Franklin Boulevard to East 19th Avenue</td>\n",
       "    </tr>\n",
       "    <tr>\n",
       "      <th>2</th>\n",
       "      <td>828</td>\n",
       "      <td>Urban Standards</td>\n",
       "      <td>AutoConstrained</td>\n",
       "      <td>East 19th Avenue</td>\n",
       "      <td>Henderson Avenue to McVay Hwy</td>\n",
       "    </tr>\n",
       "  </tbody>\n",
       "</table>\n",
       "</div>"
      ],
      "text/plain": [
       "   RTP                                           Category                In  \\\n",
       "4  521     On-Street Lanes or Routes Without Road Project   BikeConstrained   \n",
       "3  784                                    Urban Standards   AutoConstrained   \n",
       "5  812               Multi-Use Paths Without Road Project  BikeIllustrative   \n",
       "0  821  Added Freeway Lanes or Major Interchange Impro...   AutoConstrained   \n",
       "1  827                                    Urban Standards   AutoConstrained   \n",
       "2  828                                    Urban Standards   AutoConstrained   \n",
       "\n",
       "                                  Name                        GeographicLimits  \n",
       "4                            Horn Lane                Lake Drive to River Road  \n",
       "3                       Yolanda Avenue              23rd Street to 31st Street  \n",
       "5              By Gully Path Extension           Pioneer Parkway to 5th Street  \n",
       "0  Eugene-Springfield Highway (OR 126)          @ Mohawk Boulevard Interchange  \n",
       "1                     Henderson Avenue  Franklin Boulevard to East 19th Avenue  \n",
       "2                     East 19th Avenue          Henderson Avenue to McVay Hwy   "
      ]
     },
     "execution_count": 51,
     "metadata": {},
     "output_type": "execute_result"
    }
   ],
   "source": [
    "addedProjects[['RTP', 'Category', 'In', 'Name', 'GeographicLimits']].sort_values(by=['RTP'])"
   ]
  },
  {
   "cell_type": "code",
   "execution_count": 50,
   "id": "a3afb7ea",
   "metadata": {},
   "outputs": [
    {
     "data": {
      "text/html": [
       "<div>\n",
       "<style scoped>\n",
       "    .dataframe tbody tr th:only-of-type {\n",
       "        vertical-align: middle;\n",
       "    }\n",
       "\n",
       "    .dataframe tbody tr th {\n",
       "        vertical-align: top;\n",
       "    }\n",
       "\n",
       "    .dataframe thead th {\n",
       "        text-align: right;\n",
       "    }\n",
       "</style>\n",
       "<table border=\"1\" class=\"dataframe\">\n",
       "  <thead>\n",
       "    <tr style=\"text-align: right;\">\n",
       "      <th></th>\n",
       "      <th>RTP</th>\n",
       "      <th>Category</th>\n",
       "      <th>Name</th>\n",
       "      <th>GeographicLimits</th>\n",
       "    </tr>\n",
       "  </thead>\n",
       "  <tbody>\n",
       "    <tr>\n",
       "      <th>242</th>\n",
       "      <td>521</td>\n",
       "      <td>On-Street Lanes or Routes Without Road Project</td>\n",
       "      <td>Horn Lane</td>\n",
       "      <td>Lake Drive to River Road</td>\n",
       "    </tr>\n",
       "    <tr>\n",
       "      <th>249</th>\n",
       "      <td>521</td>\n",
       "      <td>On-Street Lanes or Routes Without Road Project</td>\n",
       "      <td>Horn Lane</td>\n",
       "      <td>Lake Drive to River Road</td>\n",
       "    </tr>\n",
       "    <tr>\n",
       "      <th>68</th>\n",
       "      <td>784</td>\n",
       "      <td>Urban Standards</td>\n",
       "      <td>Yolanda Avenue</td>\n",
       "      <td>23rd Street to 31st Street</td>\n",
       "    </tr>\n",
       "    <tr>\n",
       "      <th>101</th>\n",
       "      <td>784</td>\n",
       "      <td>Urban Standards</td>\n",
       "      <td>Yolanda Avenue</td>\n",
       "      <td>23rd Street to 31st Street</td>\n",
       "    </tr>\n",
       "    <tr>\n",
       "      <th>257</th>\n",
       "      <td>784</td>\n",
       "      <td>On-Street Lanes or Routes Without Road Project</td>\n",
       "      <td>Yolanda Avenue</td>\n",
       "      <td>23rd Street to 31st Street</td>\n",
       "    </tr>\n",
       "    <tr>\n",
       "      <th>159</th>\n",
       "      <td>812</td>\n",
       "      <td>Multi-Use Paths Without Road Project</td>\n",
       "      <td>By Gully Extension</td>\n",
       "      <td>Pioneer Parkway to 5th Street</td>\n",
       "    </tr>\n",
       "    <tr>\n",
       "      <th>6</th>\n",
       "      <td>821</td>\n",
       "      <td>Arterial Capacity Improvements</td>\n",
       "      <td>Eugene-Springfield Highway (OR 126)</td>\n",
       "      <td>@ Mohawk Boulevard Interchange</td>\n",
       "    </tr>\n",
       "    <tr>\n",
       "      <th>278</th>\n",
       "      <td>821</td>\n",
       "      <td>On-Street Lanes or Routes Without Road Project</td>\n",
       "      <td>5th Street</td>\n",
       "      <td>@ D Street</td>\n",
       "    </tr>\n",
       "    <tr>\n",
       "      <th>70</th>\n",
       "      <td>827</td>\n",
       "      <td>Urban Standards</td>\n",
       "      <td>Henderson Avenue</td>\n",
       "      <td>Franklin Blvd to E. 19th Ave.</td>\n",
       "    </tr>\n",
       "    <tr>\n",
       "      <th>99</th>\n",
       "      <td>827</td>\n",
       "      <td>Urban Standards</td>\n",
       "      <td>Henderson Avenue</td>\n",
       "      <td>Franklin Boulevard to East 19th Avenue</td>\n",
       "    </tr>\n",
       "    <tr>\n",
       "      <th>14</th>\n",
       "      <td>828</td>\n",
       "      <td>Arterial Capacity Improvements</td>\n",
       "      <td>Q Street Intersection Improvements</td>\n",
       "      <td>Intersection of Q Street and 5th</td>\n",
       "    </tr>\n",
       "    <tr>\n",
       "      <th>59</th>\n",
       "      <td>828</td>\n",
       "      <td>Urban Standards</td>\n",
       "      <td>E. 19th</td>\n",
       "      <td>Henerson - McVay</td>\n",
       "    </tr>\n",
       "    <tr>\n",
       "      <th>100</th>\n",
       "      <td>828</td>\n",
       "      <td>Urban Standards</td>\n",
       "      <td>East 19th Avenue</td>\n",
       "      <td>Henderson Avenue to McVay Hwy</td>\n",
       "    </tr>\n",
       "  </tbody>\n",
       "</table>\n",
       "</div>"
      ],
      "text/plain": [
       "     RTP                                        Category  \\\n",
       "242  521  On-Street Lanes or Routes Without Road Project   \n",
       "249  521  On-Street Lanes or Routes Without Road Project   \n",
       "68   784                                 Urban Standards   \n",
       "101  784                                 Urban Standards   \n",
       "257  784  On-Street Lanes or Routes Without Road Project   \n",
       "159  812            Multi-Use Paths Without Road Project   \n",
       "6    821                  Arterial Capacity Improvements   \n",
       "278  821  On-Street Lanes or Routes Without Road Project   \n",
       "70   827                                 Urban Standards   \n",
       "99   827                                 Urban Standards   \n",
       "14   828                  Arterial Capacity Improvements   \n",
       "59   828                                 Urban Standards   \n",
       "100  828                                 Urban Standards   \n",
       "\n",
       "                                    Name  \\\n",
       "242                            Horn Lane   \n",
       "249                            Horn Lane   \n",
       "68                        Yolanda Avenue   \n",
       "101                       Yolanda Avenue   \n",
       "257                       Yolanda Avenue   \n",
       "159                   By Gully Extension   \n",
       "6    Eugene-Springfield Highway (OR 126)   \n",
       "278                           5th Street   \n",
       "70                      Henderson Avenue   \n",
       "99                      Henderson Avenue   \n",
       "14    Q Street Intersection Improvements   \n",
       "59                               E. 19th   \n",
       "100                     East 19th Avenue   \n",
       "\n",
       "                           GeographicLimits  \n",
       "242                Lake Drive to River Road  \n",
       "249                Lake Drive to River Road  \n",
       "68               23rd Street to 31st Street  \n",
       "101              23rd Street to 31st Street  \n",
       "257              23rd Street to 31st Street  \n",
       "159           Pioneer Parkway to 5th Street  \n",
       "6            @ Mohawk Boulevard Interchange  \n",
       "278                              @ D Street  \n",
       "70            Franklin Blvd to E. 19th Ave.  \n",
       "99   Franklin Boulevard to East 19th Avenue  \n",
       "14         Intersection of Q Street and 5th  \n",
       "59                         Henerson - McVay  \n",
       "100          Henderson Avenue to McVay Hwy   "
      ]
     },
     "execution_count": 50,
     "metadata": {},
     "output_type": "execute_result"
    }
   ],
   "source": [
    "df40[df40.RTP.isin(addedProjects.RTP)][['RTP', 'Category', 'Name', 'GeographicLimits']].sort_values(by=['RTP'])"
   ]
  },
  {
   "cell_type": "code",
   "execution_count": 52,
   "id": "bc31fed3",
   "metadata": {},
   "outputs": [
    {
     "data": {
      "text/html": [
       "<div>\n",
       "<style scoped>\n",
       "    .dataframe tbody tr th:only-of-type {\n",
       "        vertical-align: middle;\n",
       "    }\n",
       "\n",
       "    .dataframe tbody tr th {\n",
       "        vertical-align: top;\n",
       "    }\n",
       "\n",
       "    .dataframe thead th {\n",
       "        text-align: right;\n",
       "    }\n",
       "</style>\n",
       "<table border=\"1\" class=\"dataframe\">\n",
       "  <thead>\n",
       "    <tr style=\"text-align: right;\">\n",
       "      <th></th>\n",
       "      <th>RTP</th>\n",
       "      <th>Category</th>\n",
       "      <th>Name</th>\n",
       "      <th>GeographicLimits</th>\n",
       "    </tr>\n",
       "  </thead>\n",
       "  <tbody>\n",
       "    <tr>\n",
       "      <th>253</th>\n",
       "      <td>521</td>\n",
       "      <td>On-Street Lanes or Routes Without Road Project</td>\n",
       "      <td>Horn Lane</td>\n",
       "      <td>Lake Drive to River Road</td>\n",
       "    </tr>\n",
       "    <tr>\n",
       "      <th>76</th>\n",
       "      <td>784</td>\n",
       "      <td>Urban Standards</td>\n",
       "      <td>Yolanda Avenue</td>\n",
       "      <td>23rd Street to 31st Street</td>\n",
       "    </tr>\n",
       "    <tr>\n",
       "      <th>201</th>\n",
       "      <td>784</td>\n",
       "      <td>On-Street Lanes or Routes Without Road Project</td>\n",
       "      <td>Yolanda Avenue</td>\n",
       "      <td>23rd Street to 31st Street</td>\n",
       "    </tr>\n",
       "    <tr>\n",
       "      <th>263</th>\n",
       "      <td>812</td>\n",
       "      <td>Multi-Use Paths Without Road Project</td>\n",
       "      <td>By Gully Path Extension</td>\n",
       "      <td>Pioneer Parkway to 5th Street</td>\n",
       "    </tr>\n",
       "    <tr>\n",
       "      <th>5</th>\n",
       "      <td>821</td>\n",
       "      <td>Added Freeway Lanes or Major Interchange Impro...</td>\n",
       "      <td>Eugene-Springfield Highway (OR 126)</td>\n",
       "      <td>@ Mohawk Boulevard Interchange</td>\n",
       "    </tr>\n",
       "    <tr>\n",
       "      <th>223</th>\n",
       "      <td>821</td>\n",
       "      <td>On-Street Lanes or Routes Without Road Project</td>\n",
       "      <td>5th Street</td>\n",
       "      <td>@ D Street</td>\n",
       "    </tr>\n",
       "    <tr>\n",
       "      <th>74</th>\n",
       "      <td>827</td>\n",
       "      <td>Urban Standards</td>\n",
       "      <td>Henderson Avenue</td>\n",
       "      <td>Franklin Boulevard to East 19th Avenue</td>\n",
       "    </tr>\n",
       "    <tr>\n",
       "      <th>12</th>\n",
       "      <td>828</td>\n",
       "      <td>Arterial Capacity Improvements</td>\n",
       "      <td>Q Street Intersection Improvements</td>\n",
       "      <td>Intersection of Q Street and 5th</td>\n",
       "    </tr>\n",
       "    <tr>\n",
       "      <th>75</th>\n",
       "      <td>828</td>\n",
       "      <td>Urban Standards</td>\n",
       "      <td>East 19th Avenue</td>\n",
       "      <td>Henderson Avenue to McVay Hwy</td>\n",
       "    </tr>\n",
       "  </tbody>\n",
       "</table>\n",
       "</div>"
      ],
      "text/plain": [
       "     RTP                                           Category  \\\n",
       "253  521     On-Street Lanes or Routes Without Road Project   \n",
       "76   784                                    Urban Standards   \n",
       "201  784     On-Street Lanes or Routes Without Road Project   \n",
       "263  812               Multi-Use Paths Without Road Project   \n",
       "5    821  Added Freeway Lanes or Major Interchange Impro...   \n",
       "223  821     On-Street Lanes or Routes Without Road Project   \n",
       "74   827                                    Urban Standards   \n",
       "12   828                     Arterial Capacity Improvements   \n",
       "75   828                                    Urban Standards   \n",
       "\n",
       "                                    Name  \\\n",
       "253                            Horn Lane   \n",
       "76                        Yolanda Avenue   \n",
       "201                       Yolanda Avenue   \n",
       "263              By Gully Path Extension   \n",
       "5    Eugene-Springfield Highway (OR 126)   \n",
       "223                           5th Street   \n",
       "74                      Henderson Avenue   \n",
       "12    Q Street Intersection Improvements   \n",
       "75                      East 19th Avenue   \n",
       "\n",
       "                           GeographicLimits  \n",
       "253                Lake Drive to River Road  \n",
       "76               23rd Street to 31st Street  \n",
       "201              23rd Street to 31st Street  \n",
       "263           Pioneer Parkway to 5th Street  \n",
       "5            @ Mohawk Boulevard Interchange  \n",
       "223                              @ D Street  \n",
       "74   Franklin Boulevard to East 19th Avenue  \n",
       "12         Intersection of Q Street and 5th  \n",
       "75           Henderson Avenue to McVay Hwy   "
      ]
     },
     "execution_count": 52,
     "metadata": {},
     "output_type": "execute_result"
    }
   ],
   "source": [
    "df45[df45.RTP.isin(addedProjects.RTP)][['RTP', 'Category', 'Name', 'GeographicLimits']].sort_values(by=['RTP'])"
   ]
  },
  {
   "cell_type": "code",
   "execution_count": 53,
   "id": "e3ee58eb",
   "metadata": {},
   "outputs": [
    {
     "data": {
      "text/html": [
       "<div>\n",
       "<style scoped>\n",
       "    .dataframe tbody tr th:only-of-type {\n",
       "        vertical-align: middle;\n",
       "    }\n",
       "\n",
       "    .dataframe tbody tr th {\n",
       "        vertical-align: top;\n",
       "    }\n",
       "\n",
       "    .dataframe thead th {\n",
       "        text-align: right;\n",
       "    }\n",
       "</style>\n",
       "<table border=\"1\" class=\"dataframe\">\n",
       "  <thead>\n",
       "    <tr style=\"text-align: right;\">\n",
       "      <th></th>\n",
       "      <th>Name</th>\n",
       "      <th>GeographicLimits</th>\n",
       "      <th>Description</th>\n",
       "      <th>PrimaryJurisdiction</th>\n",
       "      <th>EstimatedCost</th>\n",
       "      <th>EstimatedYearofConstruction</th>\n",
       "      <th>YearofConstructionCostMin</th>\n",
       "      <th>YearofConstructionCostMax</th>\n",
       "      <th>Length</th>\n",
       "      <th>RTP</th>\n",
       "      <th>JurisdictionalProject#</th>\n",
       "      <th>Category</th>\n",
       "    </tr>\n",
       "  </thead>\n",
       "  <tbody>\n",
       "    <tr>\n",
       "      <th>3</th>\n",
       "      <td>Randy Pape Beltline Highway</td>\n",
       "      <td>Roosevelt Boulevard to W. 11th Avenue</td>\n",
       "      <td>Add lanes on Belltine Highway and provide inte...</td>\n",
       "      <td>ODOT, Eugene</td>\n",
       "      <td>28100000.0</td>\n",
       "      <td>2030-2034</td>\n",
       "      <td>NaN</td>\n",
       "      <td>NaN</td>\n",
       "      <td>1.1</td>\n",
       "      <td>312</td>\n",
       "      <td>ETSP MM-20</td>\n",
       "      <td>Added Freeway Lanes or Major Interchange Impro...</td>\n",
       "    </tr>\n",
       "  </tbody>\n",
       "</table>\n",
       "</div>"
      ],
      "text/plain": [
       "                          Name                       GeographicLimits  \\\n",
       "3  Randy Pape Beltline Highway  Roosevelt Boulevard to W. 11th Avenue   \n",
       "\n",
       "                                         Description PrimaryJurisdiction  \\\n",
       "3  Add lanes on Belltine Highway and provide inte...        ODOT, Eugene   \n",
       "\n",
       "  EstimatedCost EstimatedYearofConstruction YearofConstructionCostMin  \\\n",
       "3    28100000.0                   2030-2034                       NaN   \n",
       "\n",
       "  YearofConstructionCostMax Length  RTP JurisdictionalProject#  \\\n",
       "3                       NaN    1.1  312             ETSP MM-20   \n",
       "\n",
       "                                            Category  \n",
       "3  Added Freeway Lanes or Major Interchange Impro...  "
      ]
     },
     "execution_count": 53,
     "metadata": {},
     "output_type": "execute_result"
    }
   ],
   "source": [
    "df45[df45.RTP == 312]"
   ]
  },
  {
   "cell_type": "code",
   "execution_count": 54,
   "id": "97f31053",
   "metadata": {},
   "outputs": [
    {
     "data": {
      "text/html": [
       "<div>\n",
       "<style scoped>\n",
       "    .dataframe tbody tr th:only-of-type {\n",
       "        vertical-align: middle;\n",
       "    }\n",
       "\n",
       "    .dataframe tbody tr th {\n",
       "        vertical-align: top;\n",
       "    }\n",
       "\n",
       "    .dataframe thead th {\n",
       "        text-align: right;\n",
       "    }\n",
       "</style>\n",
       "<table border=\"1\" class=\"dataframe\">\n",
       "  <thead>\n",
       "    <tr style=\"text-align: right;\">\n",
       "      <th></th>\n",
       "      <th>Name</th>\n",
       "      <th>GeographicLimits</th>\n",
       "      <th>Description</th>\n",
       "      <th>PrimaryJurisdiction</th>\n",
       "      <th>EstimatedCost</th>\n",
       "      <th>EstimatedYearofConstruction</th>\n",
       "      <th>YearofConstructionCostMin</th>\n",
       "      <th>YearofConstructionCostMax</th>\n",
       "      <th>Length</th>\n",
       "      <th>RTP</th>\n",
       "      <th>JurisdictionalProject#</th>\n",
       "      <th>Comments</th>\n",
       "      <th>Category</th>\n",
       "    </tr>\n",
       "  </thead>\n",
       "  <tbody>\n",
       "    <tr>\n",
       "      <th>4</th>\n",
       "      <td>Randy Pape Beltline Highway</td>\n",
       "      <td>Roosevelt Boulevard to W. 11th Avenue</td>\n",
       "      <td>Add lanes on Randy Pape Belltine Highway and p...</td>\n",
       "      <td>ODOT, Eugene</td>\n",
       "      <td>28100000.0</td>\n",
       "      <td>2030-2034</td>\n",
       "      <td>4.308515e+07</td>\n",
       "      <td>4.868131e+07</td>\n",
       "      <td>1.1</td>\n",
       "      <td>312</td>\n",
       "      <td>MM-20</td>\n",
       "      <td>Updated - Rob</td>\n",
       "      <td>Added Freeway Lanes or Major Interchange Impro...</td>\n",
       "    </tr>\n",
       "  </tbody>\n",
       "</table>\n",
       "</div>"
      ],
      "text/plain": [
       "                          Name                       GeographicLimits  \\\n",
       "4  Randy Pape Beltline Highway  Roosevelt Boulevard to W. 11th Avenue   \n",
       "\n",
       "                                         Description PrimaryJurisdiction  \\\n",
       "4  Add lanes on Randy Pape Belltine Highway and p...        ODOT, Eugene   \n",
       "\n",
       "   EstimatedCost EstimatedYearofConstruction  YearofConstructionCostMin  \\\n",
       "4     28100000.0                   2030-2034               4.308515e+07   \n",
       "\n",
       "   YearofConstructionCostMax Length  RTP JurisdictionalProject#  \\\n",
       "4               4.868131e+07    1.1  312                  MM-20   \n",
       "\n",
       "        Comments                                           Category  \n",
       "4  Updated - Rob  Added Freeway Lanes or Major Interchange Impro...  "
      ]
     },
     "execution_count": 54,
     "metadata": {},
     "output_type": "execute_result"
    }
   ],
   "source": [
    "df40[df40.RTP == 312]"
   ]
  },
  {
   "cell_type": "code",
   "execution_count": 42,
   "id": "cd197383",
   "metadata": {},
   "outputs": [
    {
     "data": {
      "text/plain": [
       "[]"
      ]
     },
     "execution_count": 42,
     "metadata": {},
     "output_type": "execute_result"
    }
   ],
   "source": [
    "[ID for ID in addedProjects.RTP if ID not in df40.RTP.unique()]"
   ]
  },
  {
   "cell_type": "code",
   "execution_count": 30,
   "id": "c56401f7",
   "metadata": {},
   "outputs": [
    {
     "data": {
      "text/plain": [
       "[nan, '\\xa0', 'MM-22']"
      ]
     },
     "execution_count": 30,
     "metadata": {},
     "output_type": "execute_result"
    }
   ],
   "source": [
    "[rtp for rtp in df45r.RTP.unique() if rtp not in df40r.RTP.unique()]"
   ]
  },
  {
   "cell_type": "code",
   "execution_count": 2,
   "id": "5b174170",
   "metadata": {},
   "outputs": [
    {
     "name": "stdout",
     "output_type": "stream",
     "text": [
      "Auto Constrained - Arterial Lin\n",
      "Auto Constrained - Added Freewa\n",
      "Auto Constrained - Arterial Cap\n",
      "Auto Constrained - New Collecto\n",
      "Auto Constrained - Urban Stnds\n",
      "Auto Constrained - Study\n",
      "Auto Constrained - TOD\n",
      "Constrained_Roadway_lines\n",
      "Constrained_Roadway_points\n"
     ]
    }
   ],
   "source": [
    "res = RTP.getIDs(Tablepattern='Auto Constrained',\n",
    "           Layerpattern='Constrained_Roadway')"
   ]
  },
  {
   "cell_type": "code",
   "execution_count": 3,
   "id": "5e669fc7",
   "metadata": {},
   "outputs": [
    {
     "data": {
      "text/plain": [
       "[27, 30, 119, 557, 608, 718, 916, 829, 26, 31]"
      ]
     },
     "execution_count": 3,
     "metadata": {},
     "output_type": "execute_result"
    }
   ],
   "source": [
    "# new ID\n",
    "RTP.matchID(res[0], res[1])[0]"
   ]
  },
  {
   "cell_type": "code",
   "execution_count": 4,
   "id": "169a6e54",
   "metadata": {},
   "outputs": [
    {
     "data": {
      "text/plain": [
       "19"
      ]
     },
     "execution_count": 4,
     "metadata": {},
     "output_type": "execute_result"
    }
   ],
   "source": [
    "# missing ID\n",
    "len(RTP.matchID(res[0], res[1])[1])"
   ]
  },
  {
   "cell_type": "code",
   "execution_count": 5,
   "id": "7a1fbbd4",
   "metadata": {},
   "outputs": [
    {
     "data": {
      "text/plain": [
       "112"
      ]
     },
     "execution_count": 5,
     "metadata": {},
     "output_type": "execute_result"
    }
   ],
   "source": [
    "# common ID\n",
    "len(RTP.matchID(res[0], res[1])[2])"
   ]
  },
  {
   "cell_type": "code",
   "execution_count": 6,
   "id": "584686b6",
   "metadata": {},
   "outputs": [
    {
     "name": "stdout",
     "output_type": "stream",
     "text": [
      "Auto Illustrative - New Arteria\n",
      "Auto Illustrative - New Collect\n",
      "Auto Illustrative - Art Cap\n",
      "Auto Illustrative - Added Freew\n",
      "Auto Illustrative - Urban Stds\n",
      "Illustrative_Roadway_lines\n",
      "Illustrative_Roadway_points\n"
     ]
    }
   ],
   "source": [
    "res = RTP.getIDs(Tablepattern='Auto Illustrative',\n",
    "           Layerpattern='Illustrative_Roadway')"
   ]
  },
  {
   "cell_type": "code",
   "execution_count": 7,
   "id": "85c5ed6f",
   "metadata": {},
   "outputs": [
    {
     "data": {
      "text/plain": [
       "[]"
      ]
     },
     "execution_count": 7,
     "metadata": {},
     "output_type": "execute_result"
    }
   ],
   "source": [
    "# new ID\n",
    "RTP.matchID(res[0], res[1])[0]"
   ]
  },
  {
   "cell_type": "code",
   "execution_count": 8,
   "id": "4566cfa0",
   "metadata": {},
   "outputs": [
    {
     "data": {
      "text/plain": [
       "1"
      ]
     },
     "execution_count": 8,
     "metadata": {},
     "output_type": "execute_result"
    }
   ],
   "source": [
    "# missing ID\n",
    "len(RTP.matchID(res[0], res[1])[1])"
   ]
  },
  {
   "cell_type": "code",
   "execution_count": 9,
   "id": "a69ffcda",
   "metadata": {},
   "outputs": [
    {
     "data": {
      "text/plain": [
       "19"
      ]
     },
     "execution_count": 9,
     "metadata": {},
     "output_type": "execute_result"
    }
   ],
   "source": [
    "# common ID\n",
    "len(RTP.matchID(res[0], res[1])[2])"
   ]
  },
  {
   "cell_type": "code",
   "execution_count": 10,
   "id": "5bf21a2c",
   "metadata": {},
   "outputs": [
    {
     "name": "stdout",
     "output_type": "stream",
     "text": [
      "Bike Constrained - woutRd\n",
      "Bike Constrained - wRd\n",
      "Bike Constrained - onstreet w\n",
      "Bike Constrained - onstreet wou\n",
      "Constrained_BikePed\n",
      "Constrained_BikePed_points\n"
     ]
    }
   ],
   "source": [
    "res = RTP.getIDs(Tablepattern='Bike Constrained',\n",
    "           Layerpattern='Constrained_BikePed')"
   ]
  },
  {
   "cell_type": "code",
   "execution_count": 11,
   "id": "eaf35318",
   "metadata": {},
   "outputs": [
    {
     "data": {
      "text/plain": [
       "[426, 245, 454, 632]"
      ]
     },
     "execution_count": 11,
     "metadata": {},
     "output_type": "execute_result"
    }
   ],
   "source": [
    "# new ID\n",
    "RTP.matchID(res[0], res[1])[0]"
   ]
  },
  {
   "cell_type": "code",
   "execution_count": 12,
   "id": "6cd27ab9",
   "metadata": {},
   "outputs": [
    {
     "data": {
      "text/plain": [
       "3"
      ]
     },
     "execution_count": 12,
     "metadata": {},
     "output_type": "execute_result"
    }
   ],
   "source": [
    "# missing ID\n",
    "len(RTP.matchID(res[0], res[1])[1])"
   ]
  },
  {
   "cell_type": "code",
   "execution_count": 13,
   "id": "bc0dd9a8",
   "metadata": {},
   "outputs": [
    {
     "data": {
      "text/plain": [
       "127"
      ]
     },
     "execution_count": 13,
     "metadata": {},
     "output_type": "execute_result"
    }
   ],
   "source": [
    "# common ID\n",
    "len(RTP.matchID(res[0], res[1])[2])"
   ]
  },
  {
   "cell_type": "code",
   "execution_count": 14,
   "id": "920136f1",
   "metadata": {},
   "outputs": [
    {
     "name": "stdout",
     "output_type": "stream",
     "text": [
      "Bike Illustrative - woutRD\n",
      "Bike Illustrative - withRd\n",
      "Bike Illustrative - onstreet w\n",
      "Bike Illustrative onstreet wout\n",
      "Illustrative_BikePed\n"
     ]
    }
   ],
   "source": [
    "res = RTP.getIDs(Tablepattern='Bike Illustrative',\n",
    "           Layerpattern='Illustrative_BikePed')"
   ]
  },
  {
   "cell_type": "code",
   "execution_count": 15,
   "id": "76e8281e",
   "metadata": {},
   "outputs": [
    {
     "data": {
      "text/plain": [
       "[]"
      ]
     },
     "execution_count": 15,
     "metadata": {},
     "output_type": "execute_result"
    }
   ],
   "source": [
    "# new ID\n",
    "RTP.matchID(res[0], res[1])[0]"
   ]
  },
  {
   "cell_type": "code",
   "execution_count": 16,
   "id": "01ed75f7",
   "metadata": {},
   "outputs": [
    {
     "data": {
      "text/plain": [
       "[460]"
      ]
     },
     "execution_count": 16,
     "metadata": {},
     "output_type": "execute_result"
    }
   ],
   "source": [
    "# missing ID\n",
    "RTP.matchID(res[0], res[1])[1]"
   ]
  },
  {
   "cell_type": "code",
   "execution_count": 17,
   "id": "561158e9",
   "metadata": {},
   "outputs": [
    {
     "data": {
      "text/plain": [
       "18"
      ]
     },
     "execution_count": 17,
     "metadata": {},
     "output_type": "execute_result"
    }
   ],
   "source": [
    "# common ID\n",
    "len(RTP.matchID(res[0], res[1])[2])"
   ]
  },
  {
   "cell_type": "code",
   "execution_count": 3,
   "id": "b62d86a9",
   "metadata": {},
   "outputs": [
    {
     "data": {
      "text/plain": [
       "['Auto Constrained - Arterial Lin',\n",
       " 'Auto Constrained - Added Freewa',\n",
       " 'Auto Constrained - Arterial Cap',\n",
       " 'Auto Constrained - New Collecto',\n",
       " 'Auto Constrained - Urban Stnds',\n",
       " 'Auto Constrained - Study',\n",
       " 'Auto Constrained - TOD',\n",
       " 'Auto Illustrative - New Arteria',\n",
       " 'Auto Illustrative - New Collect',\n",
       " 'Auto Illustrative - Art Cap',\n",
       " 'Auto Illustrative - Added Freew',\n",
       " 'Auto Illustrative - Urban Stnds',\n",
       " 'Transit Constrained',\n",
       " 'Transit Illustrative',\n",
       " 'Bike Constrained - woutRd',\n",
       " 'Bike Constrained - wRd',\n",
       " 'Bike Constrained - onstreet w',\n",
       " 'Bike Constrained - onstreet wou',\n",
       " 'Bike Illustrative - woutRD',\n",
       " 'Bike Illustrative - withRd',\n",
       " 'Bike Illustrative - onstreet w',\n",
       " 'Table Data',\n",
       " 'Bike Illustrative onstreet wout']"
      ]
     },
     "execution_count": 3,
     "metadata": {},
     "output_type": "execute_result"
    }
   ],
   "source": [
    "excel='Working DRAFT 2045 Project List.xlsx'\n",
    "xl = pd.ExcelFile(excel)\n",
    "sheetList = xl.sheet_names\n",
    "sheetList"
   ]
  },
  {
   "cell_type": "code",
   "execution_count": 2,
   "id": "8206101d",
   "metadata": {},
   "outputs": [
    {
     "data": {
      "text/plain": [
       "['Auto Constrained - Arterial Lin',\n",
       " 'Auto Constrained - Added Freewa',\n",
       " 'Auto Constrained - Arterial Cap',\n",
       " 'Auto Constrained - New Collecto',\n",
       " 'Auto Constrained - Urban Stnds',\n",
       " 'Auto Constrained - Study',\n",
       " 'Auto Constrained - TOD',\n",
       " 'Auto Illustrative - New Arteria',\n",
       " 'Auto Illustrative - New Collect',\n",
       " 'Auto Illustrative - Art Cap',\n",
       " 'Auto Illustrative - Added Freew',\n",
       " 'Auto Illustrative - Urban Stnds',\n",
       " 'Transit Constrained',\n",
       " 'Transit Illustrative',\n",
       " 'Bike Constrained - woutRd',\n",
       " 'Bike Constrained - wRd',\n",
       " 'Bike Constrained - onstreet w',\n",
       " 'Bike Constrained - onstreet wou',\n",
       " 'Bike Illustrative - woutRD',\n",
       " 'Bike Illustrative - withRd',\n",
       " 'Bike Illustrative - onstreet w',\n",
       " 'Bike Illustrative onstreet wout',\n",
       " 'Table Data']"
      ]
     },
     "execution_count": 2,
     "metadata": {},
     "output_type": "execute_result"
    }
   ],
   "source": [
    "excel='2040 Project List_Consolidated draft with AQ (ORIGINAL).xlsx'\n",
    "xl = pd.ExcelFile(excel)\n",
    "sheetList2 = xl.sheet_names\n",
    "sheetList2"
   ]
  },
  {
   "cell_type": "code",
   "execution_count": 6,
   "id": "e60a9e86",
   "metadata": {},
   "outputs": [],
   "source": [
    "sheetList2.remove('Table Data')"
   ]
  },
  {
   "cell_type": "code",
   "execution_count": 7,
   "id": "ce3a09f0",
   "metadata": {},
   "outputs": [
    {
     "data": {
      "text/plain": [
       "22"
      ]
     },
     "execution_count": 7,
     "metadata": {},
     "output_type": "execute_result"
    }
   ],
   "source": [
    "len(sheetList2)"
   ]
  },
  {
   "cell_type": "code",
   "execution_count": 8,
   "id": "e759a561",
   "metadata": {},
   "outputs": [
    {
     "data": {
      "text/plain": [
       "['Auto Constrained - Arterial Lin',\n",
       " 'Auto Constrained - Added Freewa',\n",
       " 'Auto Constrained - Arterial Cap',\n",
       " 'Auto Constrained - New Collecto',\n",
       " 'Auto Constrained - Urban Stnds',\n",
       " 'Auto Constrained - Study',\n",
       " 'Auto Constrained - TOD',\n",
       " 'Auto Illustrative - New Arteria',\n",
       " 'Auto Illustrative - New Collect',\n",
       " 'Auto Illustrative - Art Cap',\n",
       " 'Auto Illustrative - Added Freew',\n",
       " 'Auto Illustrative - Urban Stnds',\n",
       " 'Transit Constrained',\n",
       " 'Transit Illustrative',\n",
       " 'Bike Constrained - woutRd',\n",
       " 'Bike Constrained - wRd',\n",
       " 'Bike Constrained - onstreet w',\n",
       " 'Bike Constrained - onstreet wou',\n",
       " 'Bike Illustrative - woutRD',\n",
       " 'Bike Illustrative - withRd',\n",
       " 'Bike Illustrative - onstreet w',\n",
       " 'Bike Illustrative onstreet wout']"
      ]
     },
     "execution_count": 8,
     "metadata": {},
     "output_type": "execute_result"
    }
   ],
   "source": [
    "sheetList2"
   ]
  },
  {
   "cell_type": "code",
   "execution_count": 9,
   "id": "6120f80e",
   "metadata": {},
   "outputs": [],
   "source": [
    "outpath = r'T:\\MPO\\RTP\\FY20 2045 Update\\Data and Resources\\ProjectReview'\n",
    "file = os.path.join(outpath, \"review_by_table.txt\")\n",
    "if os.path.exists(file):\n",
    "    os.remove(file)\n",
    "RTP.projectReviebyTable(sheetList2)"
   ]
  },
  {
   "cell_type": "code",
   "execution_count": null,
   "id": "56c4e1d7",
   "metadata": {},
   "outputs": [],
   "source": []
  }
 ],
 "metadata": {
  "kernelspec": {
   "display_name": "Python 3",
   "language": "python",
   "name": "python3"
  },
  "language_info": {
   "codemirror_mode": {
    "name": "ipython",
    "version": 3
   },
   "file_extension": ".py",
   "mimetype": "text/x-python",
   "name": "python",
   "nbconvert_exporter": "python",
   "pygments_lexer": "ipython3",
   "version": "3.8.8"
  }
 },
 "nbformat": 4,
 "nbformat_minor": 5
}

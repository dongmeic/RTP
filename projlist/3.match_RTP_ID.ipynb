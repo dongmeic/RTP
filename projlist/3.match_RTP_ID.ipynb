{
 "cells": [
  {
   "cell_type": "code",
   "execution_count": 1,
   "id": "0759c863",
   "metadata": {},
   "outputs": [],
   "source": [
    "import review_RTP as RTP\n",
    "import pandas as pd\n",
    "import os, sys"
   ]
  },
  {
   "cell_type": "code",
   "execution_count": 39,
   "id": "133da48f",
   "metadata": {},
   "outputs": [],
   "source": [
    "df40r = RTP.combineTables(excludeTransit = True)\n",
    "df45r = RTP.combineTables(year=2045, excludeTransit = True)"
   ]
  },
  {
   "cell_type": "code",
   "execution_count": 40,
   "id": "de064518",
   "metadata": {},
   "outputs": [
    {
     "data": {
      "text/plain": [
       "(306, 13)"
      ]
     },
     "execution_count": 40,
     "metadata": {},
     "output_type": "execute_result"
    }
   ],
   "source": [
    "df40r.shape"
   ]
  },
  {
   "cell_type": "code",
   "execution_count": 31,
   "id": "d5458732",
   "metadata": {},
   "outputs": [],
   "source": [
    "df40 = RTP.modifyRTP(RTP.combineTables(excludeTransit = True)) "
   ]
  },
  {
   "cell_type": "code",
   "execution_count": 41,
   "id": "151815da",
   "metadata": {},
   "outputs": [
    {
     "data": {
      "text/plain": [
       "(298, 13)"
      ]
     },
     "execution_count": 41,
     "metadata": {},
     "output_type": "execute_result"
    }
   ],
   "source": [
    "df40.shape"
   ]
  },
  {
   "cell_type": "code",
   "execution_count": 42,
   "id": "867ca182",
   "metadata": {},
   "outputs": [
    {
     "data": {
      "text/plain": [
       "8"
      ]
     },
     "execution_count": 42,
     "metadata": {},
     "output_type": "execute_result"
    }
   ],
   "source": [
    "df40r.shape[0] - df40.shape[0]"
   ]
  },
  {
   "cell_type": "code",
   "execution_count": 48,
   "id": "c52f3875",
   "metadata": {},
   "outputs": [
    {
     "data": {
      "text/plain": [
       "6"
      ]
     },
     "execution_count": 48,
     "metadata": {},
     "output_type": "execute_result"
    }
   ],
   "source": [
    "df40r[df40r.RTP.astype(str) == 'nan'].shape[0]"
   ]
  },
  {
   "cell_type": "code",
   "execution_count": 49,
   "id": "779e0019",
   "metadata": {},
   "outputs": [
    {
     "data": {
      "text/plain": [
       "['33,36, 39, 42, 45, 48, 51, 57', nan, '485, 454']"
      ]
     },
     "execution_count": 49,
     "metadata": {},
     "output_type": "execute_result"
    }
   ],
   "source": [
    "[rtp for rtp in list(df40r.RTP.unique()) if rtp not in list(df40.RTP.unique())]"
   ]
  },
  {
   "cell_type": "code",
   "execution_count": 32,
   "id": "43581b1b",
   "metadata": {},
   "outputs": [],
   "source": [
    "df45 = RTP.modifyRTP(RTP.combineTables(year=2045, excludeTransit = True))"
   ]
  },
  {
   "cell_type": "code",
   "execution_count": 51,
   "id": "652b01f3",
   "metadata": {},
   "outputs": [
    {
     "data": {
      "text/plain": [
       "(279, 12)"
      ]
     },
     "execution_count": 51,
     "metadata": {},
     "output_type": "execute_result"
    }
   ],
   "source": [
    "df45r.shape"
   ]
  },
  {
   "cell_type": "code",
   "execution_count": 52,
   "id": "f173fa68",
   "metadata": {},
   "outputs": [
    {
     "data": {
      "text/plain": [
       "(254, 12)"
      ]
     },
     "execution_count": 52,
     "metadata": {},
     "output_type": "execute_result"
    }
   ],
   "source": [
    "df45.shape"
   ]
  },
  {
   "cell_type": "code",
   "execution_count": 43,
   "id": "503ddd5f",
   "metadata": {},
   "outputs": [
    {
     "data": {
      "text/plain": [
       "25"
      ]
     },
     "execution_count": 43,
     "metadata": {},
     "output_type": "execute_result"
    }
   ],
   "source": [
    "df45r.shape[0] - df45.shape[0]"
   ]
  },
  {
   "cell_type": "code",
   "execution_count": 47,
   "id": "39c83661",
   "metadata": {},
   "outputs": [
    {
     "data": {
      "text/plain": [
       "19"
      ]
     },
     "execution_count": 47,
     "metadata": {},
     "output_type": "execute_result"
    }
   ],
   "source": [
    "df45r[df45r.RTP.astype(str) == 'nan'].shape[0]"
   ]
  },
  {
   "cell_type": "code",
   "execution_count": 50,
   "id": "70878638",
   "metadata": {},
   "outputs": [
    {
     "data": {
      "text/plain": [
       "['33,36, 39, 42, 45, 48, 51, 57', nan, '\\xa0', '485, 454', 'MM-22']"
      ]
     },
     "execution_count": 50,
     "metadata": {},
     "output_type": "execute_result"
    }
   ],
   "source": [
    "[rtp for rtp in list(df45r.RTP.unique()) if rtp not in list(df45.RTP.unique())]"
   ]
  },
  {
   "cell_type": "code",
   "execution_count": 29,
   "id": "7b4e7832",
   "metadata": {},
   "outputs": [
    {
     "data": {
      "text/plain": [
       "['Name',\n",
       " 'GeographicLimits',\n",
       " 'Description',\n",
       " 'PrimaryJurisdiction',\n",
       " 'EstimatedCost',\n",
       " 'EstimatedYearofConstruction',\n",
       " 'YearofConstructionCostMin',\n",
       " 'YearofConstructionCostMax',\n",
       " 'Length',\n",
       " 'RTP',\n",
       " 'JurisdictionalProject#',\n",
       " 'Comments',\n",
       " 'Category']"
      ]
     },
     "execution_count": 29,
     "metadata": {},
     "output_type": "execute_result"
    }
   ],
   "source": [
    "list(df40.columns)"
   ]
  },
  {
   "cell_type": "code",
   "execution_count": 34,
   "id": "3921c466",
   "metadata": {},
   "outputs": [
    {
     "data": {
      "text/plain": [
       "248"
      ]
     },
     "execution_count": 34,
     "metadata": {},
     "output_type": "execute_result"
    }
   ],
   "source": [
    "len(df40.RTP.unique())"
   ]
  },
  {
   "cell_type": "code",
   "execution_count": 37,
   "id": "fcea20dc",
   "metadata": {},
   "outputs": [
    {
     "data": {
      "text/plain": [
       "30"
      ]
     },
     "execution_count": 37,
     "metadata": {},
     "output_type": "execute_result"
    }
   ],
   "source": [
    "# missing RTP ID in 2045\n",
    "missingIDs = [rtp for rtp in df40.RTP.unique() if rtp not in df45.RTP.unique()]\n",
    "len(missingIDs)"
   ]
  },
  {
   "cell_type": "code",
   "execution_count": 38,
   "id": "fcf150f1",
   "metadata": {},
   "outputs": [
    {
     "data": {
      "text/plain": [
       "[606,\n",
       " 537,\n",
       " 499,\n",
       " 725,\n",
       " 558,\n",
       " 562,\n",
       " 561,\n",
       " 559,\n",
       " 560,\n",
       " 914,\n",
       " 915,\n",
       " 563,\n",
       " 67,\n",
       " 794,\n",
       " 797,\n",
       " 498,\n",
       " 485,\n",
       " 109,\n",
       " 188,\n",
       " 296,\n",
       " 306,\n",
       " 334,\n",
       " 97,\n",
       " 453,\n",
       " 957,\n",
       " 922,\n",
       " 25,\n",
       " 23,\n",
       " 738,\n",
       " 716]"
      ]
     },
     "execution_count": 38,
     "metadata": {},
     "output_type": "execute_result"
    }
   ],
   "source": [
    "missingIDs"
   ]
  },
  {
   "cell_type": "code",
   "execution_count": 53,
   "id": "da6a30b8",
   "metadata": {},
   "outputs": [
    {
     "data": {
      "text/plain": [
       "31"
      ]
     },
     "execution_count": 53,
     "metadata": {},
     "output_type": "execute_result"
    }
   ],
   "source": [
    "missingIDs_r = [rtp for rtp in df40r.RTP.unique() if rtp not in df45r.RTP.unique()]\n",
    "len(missingIDs_r)"
   ]
  },
  {
   "cell_type": "code",
   "execution_count": 36,
   "id": "a4ece8e5",
   "metadata": {},
   "outputs": [
    {
     "data": {
      "text/plain": [
       "[]"
      ]
     },
     "execution_count": 36,
     "metadata": {},
     "output_type": "execute_result"
    }
   ],
   "source": [
    "# new RTP ID in 2045\n",
    "[rtp for rtp in df45.RTP.unique() if rtp not in df40.RTP.unique()]"
   ]
  },
  {
   "cell_type": "code",
   "execution_count": 54,
   "id": "50a7be82",
   "metadata": {},
   "outputs": [
    {
     "data": {
      "text/plain": [
       "[nan, '\\xa0', 'MM-22']"
      ]
     },
     "execution_count": 54,
     "metadata": {},
     "output_type": "execute_result"
    }
   ],
   "source": [
    "[rtp for rtp in df45r.RTP.unique() if rtp not in df40r.RTP.unique()]"
   ]
  },
  {
   "cell_type": "code",
   "execution_count": 2,
   "id": "5356caa2",
   "metadata": {},
   "outputs": [
    {
     "name": "stdout",
     "output_type": "stream",
     "text": [
      "Auto Constrained - Arterial Lin\n",
      "Auto Constrained - Added Freewa\n",
      "Auto Constrained - Arterial Cap\n",
      "Auto Constrained - New Collecto\n",
      "Auto Constrained - Urban Stnds\n",
      "Auto Constrained - Study\n",
      "Auto Constrained - TOD\n",
      "Constrained_Roadway_lines\n",
      "Constrained_Roadway_points\n"
     ]
    }
   ],
   "source": [
    "res = RTP.getIDs(Tablepattern='Auto Constrained',\n",
    "           Layerpattern='Constrained_Roadway')"
   ]
  },
  {
   "cell_type": "code",
   "execution_count": 3,
   "id": "986bbd42",
   "metadata": {},
   "outputs": [
    {
     "data": {
      "text/plain": [
       "[27, 30, 119, 557, 608, 718, 916, 829, 26, 31]"
      ]
     },
     "execution_count": 3,
     "metadata": {},
     "output_type": "execute_result"
    }
   ],
   "source": [
    "# new ID\n",
    "RTP.matchID(res[0], res[1])[0]"
   ]
  },
  {
   "cell_type": "code",
   "execution_count": 4,
   "id": "489bdffd",
   "metadata": {},
   "outputs": [
    {
     "data": {
      "text/plain": [
       "19"
      ]
     },
     "execution_count": 4,
     "metadata": {},
     "output_type": "execute_result"
    }
   ],
   "source": [
    "# missing ID\n",
    "len(RTP.matchID(res[0], res[1])[1])"
   ]
  },
  {
   "cell_type": "code",
   "execution_count": 5,
   "id": "06ef92ad",
   "metadata": {},
   "outputs": [
    {
     "data": {
      "text/plain": [
       "112"
      ]
     },
     "execution_count": 5,
     "metadata": {},
     "output_type": "execute_result"
    }
   ],
   "source": [
    "# common ID\n",
    "len(RTP.matchID(res[0], res[1])[2])"
   ]
  },
  {
   "cell_type": "code",
   "execution_count": 6,
   "id": "8c13d073",
   "metadata": {},
   "outputs": [
    {
     "name": "stdout",
     "output_type": "stream",
     "text": [
      "Auto Illustrative - New Arteria\n",
      "Auto Illustrative - New Collect\n",
      "Auto Illustrative - Art Cap\n",
      "Auto Illustrative - Added Freew\n",
      "Auto Illustrative - Urban Stds\n",
      "Illustrative_Roadway_lines\n",
      "Illustrative_Roadway_points\n"
     ]
    }
   ],
   "source": [
    "res = RTP.getIDs(Tablepattern='Auto Illustrative',\n",
    "           Layerpattern='Illustrative_Roadway')"
   ]
  },
  {
   "cell_type": "code",
   "execution_count": 7,
   "id": "dddf10e8",
   "metadata": {},
   "outputs": [
    {
     "data": {
      "text/plain": [
       "[]"
      ]
     },
     "execution_count": 7,
     "metadata": {},
     "output_type": "execute_result"
    }
   ],
   "source": [
    "# new ID\n",
    "RTP.matchID(res[0], res[1])[0]"
   ]
  },
  {
   "cell_type": "code",
   "execution_count": 8,
   "id": "65be4040",
   "metadata": {},
   "outputs": [
    {
     "data": {
      "text/plain": [
       "1"
      ]
     },
     "execution_count": 8,
     "metadata": {},
     "output_type": "execute_result"
    }
   ],
   "source": [
    "# missing ID\n",
    "len(RTP.matchID(res[0], res[1])[1])"
   ]
  },
  {
   "cell_type": "code",
   "execution_count": 9,
   "id": "e3f2b9ae",
   "metadata": {},
   "outputs": [
    {
     "data": {
      "text/plain": [
       "19"
      ]
     },
     "execution_count": 9,
     "metadata": {},
     "output_type": "execute_result"
    }
   ],
   "source": [
    "# common ID\n",
    "len(RTP.matchID(res[0], res[1])[2])"
   ]
  },
  {
   "cell_type": "code",
   "execution_count": 10,
   "id": "220fd175",
   "metadata": {},
   "outputs": [
    {
     "name": "stdout",
     "output_type": "stream",
     "text": [
      "Bike Constrained - woutRd\n",
      "Bike Constrained - wRd\n",
      "Bike Constrained - onstreet w\n",
      "Bike Constrained - onstreet wou\n",
      "Constrained_BikePed\n",
      "Constrained_BikePed_points\n"
     ]
    }
   ],
   "source": [
    "res = RTP.getIDs(Tablepattern='Bike Constrained',\n",
    "           Layerpattern='Constrained_BikePed')"
   ]
  },
  {
   "cell_type": "code",
   "execution_count": 11,
   "id": "7569ccbd",
   "metadata": {},
   "outputs": [
    {
     "data": {
      "text/plain": [
       "[426, 245, 454, 632]"
      ]
     },
     "execution_count": 11,
     "metadata": {},
     "output_type": "execute_result"
    }
   ],
   "source": [
    "# new ID\n",
    "RTP.matchID(res[0], res[1])[0]"
   ]
  },
  {
   "cell_type": "code",
   "execution_count": 12,
   "id": "f7367bbc",
   "metadata": {},
   "outputs": [
    {
     "data": {
      "text/plain": [
       "3"
      ]
     },
     "execution_count": 12,
     "metadata": {},
     "output_type": "execute_result"
    }
   ],
   "source": [
    "# missing ID\n",
    "len(RTP.matchID(res[0], res[1])[1])"
   ]
  },
  {
   "cell_type": "code",
   "execution_count": 13,
   "id": "d577793d",
   "metadata": {},
   "outputs": [
    {
     "data": {
      "text/plain": [
       "127"
      ]
     },
     "execution_count": 13,
     "metadata": {},
     "output_type": "execute_result"
    }
   ],
   "source": [
    "# common ID\n",
    "len(RTP.matchID(res[0], res[1])[2])"
   ]
  },
  {
   "cell_type": "code",
   "execution_count": 14,
   "id": "d7f4ea3a",
   "metadata": {},
   "outputs": [
    {
     "name": "stdout",
     "output_type": "stream",
     "text": [
      "Bike Illustrative - woutRD\n",
      "Bike Illustrative - withRd\n",
      "Bike Illustrative - onstreet w\n",
      "Bike Illustrative onstreet wout\n",
      "Illustrative_BikePed\n"
     ]
    }
   ],
   "source": [
    "res = RTP.getIDs(Tablepattern='Bike Illustrative',\n",
    "           Layerpattern='Illustrative_BikePed')"
   ]
  },
  {
   "cell_type": "code",
   "execution_count": 15,
   "id": "36c6e154",
   "metadata": {},
   "outputs": [
    {
     "data": {
      "text/plain": [
       "[]"
      ]
     },
     "execution_count": 15,
     "metadata": {},
     "output_type": "execute_result"
    }
   ],
   "source": [
    "# new ID\n",
    "RTP.matchID(res[0], res[1])[0]"
   ]
  },
  {
   "cell_type": "code",
   "execution_count": 16,
   "id": "b3377438",
   "metadata": {},
   "outputs": [
    {
     "data": {
      "text/plain": [
       "[460]"
      ]
     },
     "execution_count": 16,
     "metadata": {},
     "output_type": "execute_result"
    }
   ],
   "source": [
    "# missing ID\n",
    "RTP.matchID(res[0], res[1])[1]"
   ]
  },
  {
   "cell_type": "code",
   "execution_count": 17,
   "id": "17f69a28",
   "metadata": {},
   "outputs": [
    {
     "data": {
      "text/plain": [
       "18"
      ]
     },
     "execution_count": 17,
     "metadata": {},
     "output_type": "execute_result"
    }
   ],
   "source": [
    "# common ID\n",
    "len(RTP.matchID(res[0], res[1])[2])"
   ]
  },
  {
   "cell_type": "code",
   "execution_count": 3,
   "id": "6ebe5270",
   "metadata": {},
   "outputs": [
    {
     "data": {
      "text/plain": [
       "['Auto Constrained - Arterial Lin',\n",
       " 'Auto Constrained - Added Freewa',\n",
       " 'Auto Constrained - Arterial Cap',\n",
       " 'Auto Constrained - New Collecto',\n",
       " 'Auto Constrained - Urban Stnds',\n",
       " 'Auto Constrained - Study',\n",
       " 'Auto Constrained - TOD',\n",
       " 'Auto Illustrative - New Arteria',\n",
       " 'Auto Illustrative - New Collect',\n",
       " 'Auto Illustrative - Art Cap',\n",
       " 'Auto Illustrative - Added Freew',\n",
       " 'Auto Illustrative - Urban Stnds',\n",
       " 'Transit Constrained',\n",
       " 'Transit Illustrative',\n",
       " 'Bike Constrained - woutRd',\n",
       " 'Bike Constrained - wRd',\n",
       " 'Bike Constrained - onstreet w',\n",
       " 'Bike Constrained - onstreet wou',\n",
       " 'Bike Illustrative - woutRD',\n",
       " 'Bike Illustrative - withRd',\n",
       " 'Bike Illustrative - onstreet w',\n",
       " 'Table Data',\n",
       " 'Bike Illustrative onstreet wout']"
      ]
     },
     "execution_count": 3,
     "metadata": {},
     "output_type": "execute_result"
    }
   ],
   "source": [
    "excel='Working DRAFT 2045 Project List.xlsx'\n",
    "xl = pd.ExcelFile(excel)\n",
    "sheetList = xl.sheet_names\n",
    "sheetList"
   ]
  },
  {
   "cell_type": "code",
   "execution_count": 2,
   "id": "f421a61f",
   "metadata": {},
   "outputs": [
    {
     "data": {
      "text/plain": [
       "['Auto Constrained - Arterial Lin',\n",
       " 'Auto Constrained - Added Freewa',\n",
       " 'Auto Constrained - Arterial Cap',\n",
       " 'Auto Constrained - New Collecto',\n",
       " 'Auto Constrained - Urban Stnds',\n",
       " 'Auto Constrained - Study',\n",
       " 'Auto Constrained - TOD',\n",
       " 'Auto Illustrative - New Arteria',\n",
       " 'Auto Illustrative - New Collect',\n",
       " 'Auto Illustrative - Art Cap',\n",
       " 'Auto Illustrative - Added Freew',\n",
       " 'Auto Illustrative - Urban Stnds',\n",
       " 'Transit Constrained',\n",
       " 'Transit Illustrative',\n",
       " 'Bike Constrained - woutRd',\n",
       " 'Bike Constrained - wRd',\n",
       " 'Bike Constrained - onstreet w',\n",
       " 'Bike Constrained - onstreet wou',\n",
       " 'Bike Illustrative - woutRD',\n",
       " 'Bike Illustrative - withRd',\n",
       " 'Bike Illustrative - onstreet w',\n",
       " 'Bike Illustrative onstreet wout',\n",
       " 'Table Data']"
      ]
     },
     "execution_count": 2,
     "metadata": {},
     "output_type": "execute_result"
    }
   ],
   "source": [
    "excel='2040 Project List_Consolidated draft with AQ (ORIGINAL).xlsx'\n",
    "xl = pd.ExcelFile(excel)\n",
    "sheetList2 = xl.sheet_names\n",
    "sheetList2"
   ]
  },
  {
   "cell_type": "code",
   "execution_count": 6,
   "id": "7222e8e1",
   "metadata": {},
   "outputs": [],
   "source": [
    "sheetList2.remove('Table Data')"
   ]
  },
  {
   "cell_type": "code",
   "execution_count": 7,
   "id": "9adca38e",
   "metadata": {},
   "outputs": [
    {
     "data": {
      "text/plain": [
       "22"
      ]
     },
     "execution_count": 7,
     "metadata": {},
     "output_type": "execute_result"
    }
   ],
   "source": [
    "len(sheetList2)"
   ]
  },
  {
   "cell_type": "code",
   "execution_count": 8,
   "id": "e8ec6426",
   "metadata": {},
   "outputs": [
    {
     "data": {
      "text/plain": [
       "['Auto Constrained - Arterial Lin',\n",
       " 'Auto Constrained - Added Freewa',\n",
       " 'Auto Constrained - Arterial Cap',\n",
       " 'Auto Constrained - New Collecto',\n",
       " 'Auto Constrained - Urban Stnds',\n",
       " 'Auto Constrained - Study',\n",
       " 'Auto Constrained - TOD',\n",
       " 'Auto Illustrative - New Arteria',\n",
       " 'Auto Illustrative - New Collect',\n",
       " 'Auto Illustrative - Art Cap',\n",
       " 'Auto Illustrative - Added Freew',\n",
       " 'Auto Illustrative - Urban Stnds',\n",
       " 'Transit Constrained',\n",
       " 'Transit Illustrative',\n",
       " 'Bike Constrained - woutRd',\n",
       " 'Bike Constrained - wRd',\n",
       " 'Bike Constrained - onstreet w',\n",
       " 'Bike Constrained - onstreet wou',\n",
       " 'Bike Illustrative - woutRD',\n",
       " 'Bike Illustrative - withRd',\n",
       " 'Bike Illustrative - onstreet w',\n",
       " 'Bike Illustrative onstreet wout']"
      ]
     },
     "execution_count": 8,
     "metadata": {},
     "output_type": "execute_result"
    }
   ],
   "source": [
    "sheetList2"
   ]
  },
  {
   "cell_type": "code",
   "execution_count": 9,
   "id": "66f9416b",
   "metadata": {},
   "outputs": [],
   "source": [
    "outpath = r'T:\\MPO\\RTP\\FY20 2045 Update\\Data and Resources\\ProjectReview'\n",
    "file = os.path.join(outpath, \"review_by_table.txt\")\n",
    "if os.path.exists(file):\n",
    "    os.remove(file)\n",
    "RTP.projectReviebyTable(sheetList2)"
   ]
  },
  {
   "cell_type": "code",
   "execution_count": null,
   "id": "9fee4423",
   "metadata": {},
   "outputs": [],
   "source": []
  }
 ],
 "metadata": {
  "kernelspec": {
   "display_name": "Python 3",
   "language": "python",
   "name": "python3"
  },
  "language_info": {
   "codemirror_mode": {
    "name": "ipython",
    "version": 3
   },
   "file_extension": ".py",
   "mimetype": "text/x-python",
   "name": "python",
   "nbconvert_exporter": "python",
   "pygments_lexer": "ipython3",
   "version": "3.8.8"
  }
 },
 "nbformat": 4,
 "nbformat_minor": 5
}

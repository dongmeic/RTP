{
 "cells": [
  {
   "cell_type": "code",
   "execution_count": 1,
   "id": "c7c3ab23",
   "metadata": {},
   "outputs": [],
   "source": [
    "import review_RTP as RTP\n",
    "import pandas as pd\n",
    "import os, sys"
   ]
  },
  {
   "cell_type": "code",
   "execution_count": 39,
   "id": "5edcc931",
   "metadata": {},
   "outputs": [],
   "source": [
    "df40r = RTP.combineTables(excludeTransit = True)\n",
    "df45r = RTP.combineTables(year=2045, excludeTransit = True)"
   ]
  },
  {
   "cell_type": "code",
   "execution_count": 40,
   "id": "76cebb69",
   "metadata": {},
   "outputs": [
    {
     "data": {
      "text/plain": [
       "(306, 13)"
      ]
     },
     "execution_count": 40,
     "metadata": {},
     "output_type": "execute_result"
    }
   ],
   "source": [
    "df40r.shape"
   ]
  },
  {
   "cell_type": "code",
   "execution_count": 31,
   "id": "9dac8686",
   "metadata": {},
   "outputs": [],
   "source": [
    "df40 = RTP.modifyRTP(RTP.combineTables(excludeTransit = True)) "
   ]
  },
  {
   "cell_type": "code",
   "execution_count": 41,
   "id": "480abd2e",
   "metadata": {},
   "outputs": [
    {
     "data": {
      "text/plain": [
       "(298, 13)"
      ]
     },
     "execution_count": 41,
     "metadata": {},
     "output_type": "execute_result"
    }
   ],
   "source": [
    "df40.shape"
   ]
  },
  {
   "cell_type": "code",
   "execution_count": 42,
   "id": "5954e3d5",
   "metadata": {},
   "outputs": [
    {
     "data": {
      "text/plain": [
       "8"
      ]
     },
     "execution_count": 42,
     "metadata": {},
     "output_type": "execute_result"
    }
   ],
   "source": [
    "df40r.shape[0] - df40.shape[0]"
   ]
  },
  {
   "cell_type": "code",
   "execution_count": 48,
   "id": "87af75a3",
   "metadata": {},
   "outputs": [
    {
     "data": {
      "text/plain": [
       "6"
      ]
     },
     "execution_count": 48,
     "metadata": {},
     "output_type": "execute_result"
    }
   ],
   "source": [
    "df40r[df40r.RTP.astype(str) == 'nan'].shape[0]"
   ]
  },
  {
   "cell_type": "code",
   "execution_count": 49,
   "id": "8dafc87a",
   "metadata": {},
   "outputs": [
    {
     "data": {
      "text/plain": [
       "['33,36, 39, 42, 45, 48, 51, 57', nan, '485, 454']"
      ]
     },
     "execution_count": 49,
     "metadata": {},
     "output_type": "execute_result"
    }
   ],
   "source": [
    "[rtp for rtp in list(df40r.RTP.unique()) if rtp not in list(df40.RTP.unique())]"
   ]
  },
  {
   "cell_type": "code",
   "execution_count": 32,
   "id": "bfffa998",
   "metadata": {},
   "outputs": [],
   "source": [
    "df45 = RTP.modifyRTP(RTP.combineTables(year=2045, excludeTransit = True))"
   ]
  },
  {
   "cell_type": "code",
   "execution_count": 51,
   "id": "bdbdb95d",
   "metadata": {},
   "outputs": [
    {
     "data": {
      "text/plain": [
       "(279, 12)"
      ]
     },
     "execution_count": 51,
     "metadata": {},
     "output_type": "execute_result"
    }
   ],
   "source": [
    "df45r.shape"
   ]
  },
  {
   "cell_type": "code",
   "execution_count": 52,
   "id": "1dc0ef5a",
   "metadata": {},
   "outputs": [
    {
     "data": {
      "text/plain": [
       "(254, 12)"
      ]
     },
     "execution_count": 52,
     "metadata": {},
     "output_type": "execute_result"
    }
   ],
   "source": [
    "df45.shape"
   ]
  },
  {
   "cell_type": "code",
   "execution_count": 43,
   "id": "340b7124",
   "metadata": {},
   "outputs": [
    {
     "data": {
      "text/plain": [
       "25"
      ]
     },
     "execution_count": 43,
     "metadata": {},
     "output_type": "execute_result"
    }
   ],
   "source": [
    "df45r.shape[0] - df45.shape[0]"
   ]
  },
  {
   "cell_type": "code",
   "execution_count": 47,
   "id": "e6df3344",
   "metadata": {},
   "outputs": [
    {
     "data": {
      "text/plain": [
       "19"
      ]
     },
     "execution_count": 47,
     "metadata": {},
     "output_type": "execute_result"
    }
   ],
   "source": [
    "df45r[df45r.RTP.astype(str) == 'nan'].shape[0]"
   ]
  },
  {
   "cell_type": "code",
   "execution_count": 50,
   "id": "f1e1c1a7",
   "metadata": {},
   "outputs": [
    {
     "data": {
      "text/plain": [
       "['33,36, 39, 42, 45, 48, 51, 57', nan, '\\xa0', '485, 454', 'MM-22']"
      ]
     },
     "execution_count": 50,
     "metadata": {},
     "output_type": "execute_result"
    }
   ],
   "source": [
    "[rtp for rtp in list(df45r.RTP.unique()) if rtp not in list(df45.RTP.unique())]"
   ]
  },
  {
   "cell_type": "code",
   "execution_count": 29,
   "id": "a1de154a",
   "metadata": {},
   "outputs": [
    {
     "data": {
      "text/plain": [
       "['Name',\n",
       " 'GeographicLimits',\n",
       " 'Description',\n",
       " 'PrimaryJurisdiction',\n",
       " 'EstimatedCost',\n",
       " 'EstimatedYearofConstruction',\n",
       " 'YearofConstructionCostMin',\n",
       " 'YearofConstructionCostMax',\n",
       " 'Length',\n",
       " 'RTP',\n",
       " 'JurisdictionalProject#',\n",
       " 'Comments',\n",
       " 'Category']"
      ]
     },
     "execution_count": 29,
     "metadata": {},
     "output_type": "execute_result"
    }
   ],
   "source": [
    "list(df40.columns)"
   ]
  },
  {
   "cell_type": "code",
   "execution_count": 34,
   "id": "684fa36e",
   "metadata": {},
   "outputs": [
    {
     "data": {
      "text/plain": [
       "248"
      ]
     },
     "execution_count": 34,
     "metadata": {},
     "output_type": "execute_result"
    }
   ],
   "source": [
    "len(df40.RTP.unique())"
   ]
  },
  {
   "cell_type": "code",
   "execution_count": 37,
   "id": "90044c4f",
   "metadata": {},
   "outputs": [
    {
     "data": {
      "text/plain": [
       "30"
      ]
     },
     "execution_count": 37,
     "metadata": {},
     "output_type": "execute_result"
    }
   ],
   "source": [
    "# missing RTP ID in 2045\n",
    "missingIDs = [rtp for rtp in df40.RTP.unique() if rtp not in df45.RTP.unique()]\n",
    "len(missingIDs)"
   ]
  },
  {
   "cell_type": "code",
   "execution_count": 38,
   "id": "55a55475",
   "metadata": {},
   "outputs": [
    {
     "data": {
      "text/plain": [
       "[606,\n",
       " 537,\n",
       " 499,\n",
       " 725,\n",
       " 558,\n",
       " 562,\n",
       " 561,\n",
       " 559,\n",
       " 560,\n",
       " 914,\n",
       " 915,\n",
       " 563,\n",
       " 67,\n",
       " 794,\n",
       " 797,\n",
       " 498,\n",
       " 485,\n",
       " 109,\n",
       " 188,\n",
       " 296,\n",
       " 306,\n",
       " 334,\n",
       " 97,\n",
       " 453,\n",
       " 957,\n",
       " 922,\n",
       " 25,\n",
       " 23,\n",
       " 738,\n",
       " 716]"
      ]
     },
     "execution_count": 38,
     "metadata": {},
     "output_type": "execute_result"
    }
   ],
   "source": [
    "missingIDs"
   ]
  },
  {
   "cell_type": "code",
   "execution_count": 53,
   "id": "40aa3870",
   "metadata": {},
   "outputs": [
    {
     "data": {
      "text/plain": [
       "31"
      ]
     },
     "execution_count": 53,
     "metadata": {},
     "output_type": "execute_result"
    }
   ],
   "source": [
    "missingIDs_r = [rtp for rtp in df40r.RTP.unique() if rtp not in df45r.RTP.unique()]\n",
    "len(missingIDs_r)"
   ]
  },
  {
   "cell_type": "code",
   "execution_count": 36,
   "id": "ff6f8e83",
   "metadata": {},
   "outputs": [
    {
     "data": {
      "text/plain": [
       "[]"
      ]
     },
     "execution_count": 36,
     "metadata": {},
     "output_type": "execute_result"
    }
   ],
   "source": [
    "# new RTP ID in 2045\n",
    "[rtp for rtp in df45.RTP.unique() if rtp not in df40.RTP.unique()]"
   ]
  },
  {
   "cell_type": "code",
   "execution_count": 54,
   "id": "b89e44f7",
   "metadata": {},
   "outputs": [
    {
     "data": {
      "text/plain": [
       "[nan, '\\xa0', 'MM-22']"
      ]
     },
     "execution_count": 54,
     "metadata": {},
     "output_type": "execute_result"
    }
   ],
   "source": [
    "[rtp for rtp in df45r.RTP.unique() if rtp not in df40r.RTP.unique()]"
   ]
  },
  {
   "cell_type": "code",
   "execution_count": 2,
   "id": "032bb34b",
   "metadata": {},
   "outputs": [
    {
     "name": "stdout",
     "output_type": "stream",
     "text": [
      "Auto Constrained - Arterial Lin\n",
      "Auto Constrained - Added Freewa\n",
      "Auto Constrained - Arterial Cap\n",
      "Auto Constrained - New Collecto\n",
      "Auto Constrained - Urban Stnds\n",
      "Auto Constrained - Study\n",
      "Auto Constrained - TOD\n",
      "Constrained_Roadway_lines\n",
      "Constrained_Roadway_points\n"
     ]
    }
   ],
   "source": [
    "res = RTP.getIDs(Tablepattern='Auto Constrained',\n",
    "           Layerpattern='Constrained_Roadway')"
   ]
  },
  {
   "cell_type": "code",
   "execution_count": 3,
   "id": "e10f134f",
   "metadata": {},
   "outputs": [
    {
     "data": {
      "text/plain": [
       "[27, 30, 119, 557, 608, 718, 916, 829, 26, 31]"
      ]
     },
     "execution_count": 3,
     "metadata": {},
     "output_type": "execute_result"
    }
   ],
   "source": [
    "# new ID\n",
    "RTP.matchID(res[0], res[1])[0]"
   ]
  },
  {
   "cell_type": "code",
   "execution_count": 4,
   "id": "37ba930f",
   "metadata": {},
   "outputs": [
    {
     "data": {
      "text/plain": [
       "19"
      ]
     },
     "execution_count": 4,
     "metadata": {},
     "output_type": "execute_result"
    }
   ],
   "source": [
    "# missing ID\n",
    "len(RTP.matchID(res[0], res[1])[1])"
   ]
  },
  {
   "cell_type": "code",
   "execution_count": 5,
   "id": "b9358bcd",
   "metadata": {},
   "outputs": [
    {
     "data": {
      "text/plain": [
       "112"
      ]
     },
     "execution_count": 5,
     "metadata": {},
     "output_type": "execute_result"
    }
   ],
   "source": [
    "# common ID\n",
    "len(RTP.matchID(res[0], res[1])[2])"
   ]
  },
  {
   "cell_type": "code",
   "execution_count": 6,
   "id": "56279f7f",
   "metadata": {},
   "outputs": [
    {
     "name": "stdout",
     "output_type": "stream",
     "text": [
      "Auto Illustrative - New Arteria\n",
      "Auto Illustrative - New Collect\n",
      "Auto Illustrative - Art Cap\n",
      "Auto Illustrative - Added Freew\n",
      "Auto Illustrative - Urban Stds\n",
      "Illustrative_Roadway_lines\n",
      "Illustrative_Roadway_points\n"
     ]
    }
   ],
   "source": [
    "res = RTP.getIDs(Tablepattern='Auto Illustrative',\n",
    "           Layerpattern='Illustrative_Roadway')"
   ]
  },
  {
   "cell_type": "code",
   "execution_count": 7,
   "id": "2868e447",
   "metadata": {},
   "outputs": [
    {
     "data": {
      "text/plain": [
       "[]"
      ]
     },
     "execution_count": 7,
     "metadata": {},
     "output_type": "execute_result"
    }
   ],
   "source": [
    "# new ID\n",
    "RTP.matchID(res[0], res[1])[0]"
   ]
  },
  {
   "cell_type": "code",
   "execution_count": 8,
   "id": "9084e36c",
   "metadata": {},
   "outputs": [
    {
     "data": {
      "text/plain": [
       "1"
      ]
     },
     "execution_count": 8,
     "metadata": {},
     "output_type": "execute_result"
    }
   ],
   "source": [
    "# missing ID\n",
    "len(RTP.matchID(res[0], res[1])[1])"
   ]
  },
  {
   "cell_type": "code",
   "execution_count": 9,
   "id": "ac3f2c1f",
   "metadata": {},
   "outputs": [
    {
     "data": {
      "text/plain": [
       "19"
      ]
     },
     "execution_count": 9,
     "metadata": {},
     "output_type": "execute_result"
    }
   ],
   "source": [
    "# common ID\n",
    "len(RTP.matchID(res[0], res[1])[2])"
   ]
  },
  {
   "cell_type": "code",
   "execution_count": 10,
   "id": "769a95d8",
   "metadata": {},
   "outputs": [
    {
     "name": "stdout",
     "output_type": "stream",
     "text": [
      "Bike Constrained - woutRd\n",
      "Bike Constrained - wRd\n",
      "Bike Constrained - onstreet w\n",
      "Bike Constrained - onstreet wou\n",
      "Constrained_BikePed\n",
      "Constrained_BikePed_points\n"
     ]
    }
   ],
   "source": [
    "res = RTP.getIDs(Tablepattern='Bike Constrained',\n",
    "           Layerpattern='Constrained_BikePed')"
   ]
  },
  {
   "cell_type": "code",
   "execution_count": 11,
   "id": "fcf5855d",
   "metadata": {},
   "outputs": [
    {
     "data": {
      "text/plain": [
       "[426, 245, 454, 632]"
      ]
     },
     "execution_count": 11,
     "metadata": {},
     "output_type": "execute_result"
    }
   ],
   "source": [
    "# new ID\n",
    "RTP.matchID(res[0], res[1])[0]"
   ]
  },
  {
   "cell_type": "code",
   "execution_count": 12,
   "id": "2b57286b",
   "metadata": {},
   "outputs": [
    {
     "data": {
      "text/plain": [
       "3"
      ]
     },
     "execution_count": 12,
     "metadata": {},
     "output_type": "execute_result"
    }
   ],
   "source": [
    "# missing ID\n",
    "len(RTP.matchID(res[0], res[1])[1])"
   ]
  },
  {
   "cell_type": "code",
   "execution_count": 13,
   "id": "27932a27",
   "metadata": {},
   "outputs": [
    {
     "data": {
      "text/plain": [
       "127"
      ]
     },
     "execution_count": 13,
     "metadata": {},
     "output_type": "execute_result"
    }
   ],
   "source": [
    "# common ID\n",
    "len(RTP.matchID(res[0], res[1])[2])"
   ]
  },
  {
   "cell_type": "code",
   "execution_count": 14,
   "id": "5369a509",
   "metadata": {},
   "outputs": [
    {
     "name": "stdout",
     "output_type": "stream",
     "text": [
      "Bike Illustrative - woutRD\n",
      "Bike Illustrative - withRd\n",
      "Bike Illustrative - onstreet w\n",
      "Bike Illustrative onstreet wout\n",
      "Illustrative_BikePed\n"
     ]
    }
   ],
   "source": [
    "res = RTP.getIDs(Tablepattern='Bike Illustrative',\n",
    "           Layerpattern='Illustrative_BikePed')"
   ]
  },
  {
   "cell_type": "code",
   "execution_count": 15,
   "id": "224f1931",
   "metadata": {},
   "outputs": [
    {
     "data": {
      "text/plain": [
       "[]"
      ]
     },
     "execution_count": 15,
     "metadata": {},
     "output_type": "execute_result"
    }
   ],
   "source": [
    "# new ID\n",
    "RTP.matchID(res[0], res[1])[0]"
   ]
  },
  {
   "cell_type": "code",
   "execution_count": 16,
   "id": "22b3167c",
   "metadata": {},
   "outputs": [
    {
     "data": {
      "text/plain": [
       "[460]"
      ]
     },
     "execution_count": 16,
     "metadata": {},
     "output_type": "execute_result"
    }
   ],
   "source": [
    "# missing ID\n",
    "RTP.matchID(res[0], res[1])[1]"
   ]
  },
  {
   "cell_type": "code",
   "execution_count": 17,
   "id": "e3d86b57",
   "metadata": {},
   "outputs": [
    {
     "data": {
      "text/plain": [
       "18"
      ]
     },
     "execution_count": 17,
     "metadata": {},
     "output_type": "execute_result"
    }
   ],
   "source": [
    "# common ID\n",
    "len(RTP.matchID(res[0], res[1])[2])"
   ]
  },
  {
   "cell_type": "code",
   "execution_count": 3,
   "id": "80c0e6db",
   "metadata": {},
   "outputs": [
    {
     "data": {
      "text/plain": [
       "['Auto Constrained - Arterial Lin',\n",
       " 'Auto Constrained - Added Freewa',\n",
       " 'Auto Constrained - Arterial Cap',\n",
       " 'Auto Constrained - New Collecto',\n",
       " 'Auto Constrained - Urban Stnds',\n",
       " 'Auto Constrained - Study',\n",
       " 'Auto Constrained - TOD',\n",
       " 'Auto Illustrative - New Arteria',\n",
       " 'Auto Illustrative - New Collect',\n",
       " 'Auto Illustrative - Art Cap',\n",
       " 'Auto Illustrative - Added Freew',\n",
       " 'Auto Illustrative - Urban Stnds',\n",
       " 'Transit Constrained',\n",
       " 'Transit Illustrative',\n",
       " 'Bike Constrained - woutRd',\n",
       " 'Bike Constrained - wRd',\n",
       " 'Bike Constrained - onstreet w',\n",
       " 'Bike Constrained - onstreet wou',\n",
       " 'Bike Illustrative - woutRD',\n",
       " 'Bike Illustrative - withRd',\n",
       " 'Bike Illustrative - onstreet w',\n",
       " 'Table Data',\n",
       " 'Bike Illustrative onstreet wout']"
      ]
     },
     "execution_count": 3,
     "metadata": {},
     "output_type": "execute_result"
    }
   ],
   "source": [
    "excel='Working DRAFT 2045 Project List.xlsx'\n",
    "xl = pd.ExcelFile(excel)\n",
    "sheetList = xl.sheet_names\n",
    "sheetList"
   ]
  },
  {
   "cell_type": "code",
   "execution_count": 2,
   "id": "8139d193",
   "metadata": {},
   "outputs": [
    {
     "data": {
      "text/plain": [
       "['Auto Constrained - Arterial Lin',\n",
       " 'Auto Constrained - Added Freewa',\n",
       " 'Auto Constrained - Arterial Cap',\n",
       " 'Auto Constrained - New Collecto',\n",
       " 'Auto Constrained - Urban Stnds',\n",
       " 'Auto Constrained - Study',\n",
       " 'Auto Constrained - TOD',\n",
       " 'Auto Illustrative - New Arteria',\n",
       " 'Auto Illustrative - New Collect',\n",
       " 'Auto Illustrative - Art Cap',\n",
       " 'Auto Illustrative - Added Freew',\n",
       " 'Auto Illustrative - Urban Stnds',\n",
       " 'Transit Constrained',\n",
       " 'Transit Illustrative',\n",
       " 'Bike Constrained - woutRd',\n",
       " 'Bike Constrained - wRd',\n",
       " 'Bike Constrained - onstreet w',\n",
       " 'Bike Constrained - onstreet wou',\n",
       " 'Bike Illustrative - woutRD',\n",
       " 'Bike Illustrative - withRd',\n",
       " 'Bike Illustrative - onstreet w',\n",
       " 'Bike Illustrative onstreet wout',\n",
       " 'Table Data']"
      ]
     },
     "execution_count": 2,
     "metadata": {},
     "output_type": "execute_result"
    }
   ],
   "source": [
    "excel='2040 Project List_Consolidated draft with AQ (ORIGINAL).xlsx'\n",
    "xl = pd.ExcelFile(excel)\n",
    "sheetList2 = xl.sheet_names\n",
    "sheetList2"
   ]
  },
  {
   "cell_type": "code",
   "execution_count": 6,
   "id": "db348b2e",
   "metadata": {},
   "outputs": [
    {
     "data": {
      "text/plain": [
       "23"
      ]
     },
     "execution_count": 6,
     "metadata": {},
     "output_type": "execute_result"
    }
   ],
   "source": [
    "len(sheetList)"
   ]
  },
  {
   "cell_type": "code",
   "execution_count": 7,
   "id": "7fad2573",
   "metadata": {},
   "outputs": [
    {
     "data": {
      "text/html": [
       "<div>\n",
       "<style scoped>\n",
       "    .dataframe tbody tr th:only-of-type {\n",
       "        vertical-align: middle;\n",
       "    }\n",
       "\n",
       "    .dataframe tbody tr th {\n",
       "        vertical-align: top;\n",
       "    }\n",
       "\n",
       "    .dataframe thead th {\n",
       "        text-align: right;\n",
       "    }\n",
       "</style>\n",
       "<table border=\"1\" class=\"dataframe\">\n",
       "  <thead>\n",
       "    <tr style=\"text-align: right;\">\n",
       "      <th></th>\n",
       "      <th>Name</th>\n",
       "      <th>GeographicLimits</th>\n",
       "      <th>Description</th>\n",
       "      <th>PrimaryJurisdiction</th>\n",
       "      <th>AirQualityStatus</th>\n",
       "      <th>EstimatedCost(2011)</th>\n",
       "      <th>EstimatedCost</th>\n",
       "      <th>EstimatedYearofConstruction</th>\n",
       "      <th>YearofConstructionCostMin</th>\n",
       "      <th>YearofConstructionCostMax</th>\n",
       "      <th>Length</th>\n",
       "      <th>RTP</th>\n",
       "      <th>FederalFunctionalClass</th>\n",
       "      <th>JurisdictionalProject#</th>\n",
       "      <th>Comments</th>\n",
       "      <th>InflationRate</th>\n",
       "      <th>Category</th>\n",
       "    </tr>\n",
       "  </thead>\n",
       "  <tbody>\n",
       "    <tr>\n",
       "      <th>1</th>\n",
       "      <td>Eugene-Springfield Highway (SR-126)</td>\n",
       "      <td>at Main Street</td>\n",
       "      <td>Construct interchange</td>\n",
       "      <td>ODOT</td>\n",
       "      <td>non-exempt; regionally significant</td>\n",
       "      <td>50000000.0</td>\n",
       "      <td>50000000.0</td>\n",
       "      <td>2030-2034</td>\n",
       "      <td>7.666397e+07</td>\n",
       "      <td>8.662156e+07</td>\n",
       "      <td>0.00</td>\n",
       "      <td>27.0</td>\n",
       "      <td>Other Freeways and Expressways</td>\n",
       "      <td>NaN</td>\n",
       "      <td>NaN</td>\n",
       "      <td>NaN</td>\n",
       "      <td>New Arterial Link or Interchange</td>\n",
       "    </tr>\n",
       "    <tr>\n",
       "      <th>2</th>\n",
       "      <td>Eugene-Springfield Highway (SR-126)</td>\n",
       "      <td>at 52nd Street</td>\n",
       "      <td>Construct interchange</td>\n",
       "      <td>ODOT</td>\n",
       "      <td>non-exempt; regionally significant</td>\n",
       "      <td>40000000.0</td>\n",
       "      <td>40000000.0</td>\n",
       "      <td>2025-2029</td>\n",
       "      <td>5.264874e+07</td>\n",
       "      <td>5.948708e+07</td>\n",
       "      <td>0.00</td>\n",
       "      <td>30.0</td>\n",
       "      <td>Other Freeways and Expressways</td>\n",
       "      <td>NaN</td>\n",
       "      <td>NaN</td>\n",
       "      <td>NaN</td>\n",
       "      <td>New Arterial Link or Interchange</td>\n",
       "    </tr>\n",
       "    <tr>\n",
       "      <th>3</th>\n",
       "      <td>Beltline Local Arterial Bridge</td>\n",
       "      <td>Beaver Street to Delta Highway</td>\n",
       "      <td>Construct new arterial bridge with up to 4 lan...</td>\n",
       "      <td>ODOT, Lane County, City of Eugene</td>\n",
       "      <td>non-exempt; regionally significant; project of...</td>\n",
       "      <td>32000000.0</td>\n",
       "      <td>83000000.0</td>\n",
       "      <td>2025-2029</td>\n",
       "      <td>1.092461e+08</td>\n",
       "      <td>1.234357e+08</td>\n",
       "      <td>0.95</td>\n",
       "      <td>512.0</td>\n",
       "      <td>minor arterial</td>\n",
       "      <td>ETSP MM-3</td>\n",
       "      <td>NaN</td>\n",
       "      <td>NaN</td>\n",
       "      <td>New Arterial Link or Interchange</td>\n",
       "    </tr>\n",
       "  </tbody>\n",
       "</table>\n",
       "</div>"
      ],
      "text/plain": [
       "                                  Name                GeographicLimits  \\\n",
       "1  Eugene-Springfield Highway (SR-126)                  at Main Street   \n",
       "2  Eugene-Springfield Highway (SR-126)                  at 52nd Street   \n",
       "3       Beltline Local Arterial Bridge  Beaver Street to Delta Highway   \n",
       "\n",
       "                                         Description  \\\n",
       "1                              Construct interchange   \n",
       "2                              Construct interchange   \n",
       "3  Construct new arterial bridge with up to 4 lan...   \n",
       "\n",
       "                 PrimaryJurisdiction  \\\n",
       "1                               ODOT   \n",
       "2                               ODOT   \n",
       "3  ODOT, Lane County, City of Eugene   \n",
       "\n",
       "                                    AirQualityStatus  EstimatedCost(2011)  \\\n",
       "1                 non-exempt; regionally significant           50000000.0   \n",
       "2                 non-exempt; regionally significant           40000000.0   \n",
       "3  non-exempt; regionally significant; project of...           32000000.0   \n",
       "\n",
       "   EstimatedCost EstimatedYearofConstruction  YearofConstructionCostMin  \\\n",
       "1     50000000.0                   2030-2034               7.666397e+07   \n",
       "2     40000000.0                   2025-2029               5.264874e+07   \n",
       "3     83000000.0                   2025-2029               1.092461e+08   \n",
       "\n",
       "   YearofConstructionCostMax  Length    RTP          FederalFunctionalClass  \\\n",
       "1               8.662156e+07    0.00   27.0  Other Freeways and Expressways   \n",
       "2               5.948708e+07    0.00   30.0  Other Freeways and Expressways   \n",
       "3               1.234357e+08    0.95  512.0                  minor arterial   \n",
       "\n",
       "  JurisdictionalProject#  Comments  InflationRate  \\\n",
       "1                    NaN       NaN            NaN   \n",
       "2                    NaN       NaN            NaN   \n",
       "3              ETSP MM-3       NaN            NaN   \n",
       "\n",
       "                           Category  \n",
       "1  New Arterial Link or Interchange  \n",
       "2  New Arterial Link or Interchange  \n",
       "3  New Arterial Link or Interchange  "
      ]
     },
     "execution_count": 7,
     "metadata": {},
     "output_type": "execute_result"
    }
   ],
   "source": [
    "RTP.readTable()"
   ]
  },
  {
   "cell_type": "code",
   "execution_count": 8,
   "id": "34930c0b",
   "metadata": {},
   "outputs": [
    {
     "data": {
      "text/html": [
       "<div>\n",
       "<style scoped>\n",
       "    .dataframe tbody tr th:only-of-type {\n",
       "        vertical-align: middle;\n",
       "    }\n",
       "\n",
       "    .dataframe tbody tr th {\n",
       "        vertical-align: top;\n",
       "    }\n",
       "\n",
       "    .dataframe thead th {\n",
       "        text-align: right;\n",
       "    }\n",
       "</style>\n",
       "<table border=\"1\" class=\"dataframe\">\n",
       "  <thead>\n",
       "    <tr style=\"text-align: right;\">\n",
       "      <th></th>\n",
       "      <th>Name</th>\n",
       "      <th>GeographicLimits</th>\n",
       "      <th>Description</th>\n",
       "      <th>PrimaryJurisdiction</th>\n",
       "      <th>AirQualityStatus</th>\n",
       "      <th>EstimatedCost</th>\n",
       "      <th>EstimatedYearofConstruction</th>\n",
       "      <th>YearofConstructionCostMin</th>\n",
       "      <th>YearofConstructionCostMax</th>\n",
       "      <th>Length</th>\n",
       "      <th>RTP</th>\n",
       "      <th>FederalFunctionalClass</th>\n",
       "      <th>JurisdictionalProject#</th>\n",
       "      <th>ProjectStatus?(Completed,incomplete,etc.)</th>\n",
       "      <th>Category</th>\n",
       "    </tr>\n",
       "  </thead>\n",
       "  <tbody>\n",
       "    <tr>\n",
       "      <th>1</th>\n",
       "      <td>Beltline Local Arterial Bridge</td>\n",
       "      <td>Beaver Street to Delta Highway</td>\n",
       "      <td>Construct new 2-lane arterial bridge over the ...</td>\n",
       "      <td>ODOT, Lane County, City of Eugene</td>\n",
       "      <td>non-exempt; regionally significant; project of...</td>\n",
       "      <td>83000000.0</td>\n",
       "      <td>2025-2029</td>\n",
       "      <td>NaN</td>\n",
       "      <td>NaN</td>\n",
       "      <td>0.95</td>\n",
       "      <td>512</td>\n",
       "      <td>minor arterial</td>\n",
       "      <td>ETSP MM-3</td>\n",
       "      <td>incomplete</td>\n",
       "      <td>New Arterial Link or Interchange</td>\n",
       "    </tr>\n",
       "    <tr>\n",
       "      <th>2</th>\n",
       "      <td>Eugene-Springfield Highway (SR-126)</td>\n",
       "      <td>at Main Street</td>\n",
       "      <td>Construct interchange</td>\n",
       "      <td>ODOT</td>\n",
       "      <td>non-exempt; regionally significant</td>\n",
       "      <td>50000000.0</td>\n",
       "      <td>2030-2034</td>\n",
       "      <td>NaN</td>\n",
       "      <td>NaN</td>\n",
       "      <td>0.00</td>\n",
       "      <td>27</td>\n",
       "      <td>Other Freeways and Expressways</td>\n",
       "      <td>STSP R-43</td>\n",
       "      <td>NaN</td>\n",
       "      <td>New Arterial Link or Interchange</td>\n",
       "    </tr>\n",
       "    <tr>\n",
       "      <th>3</th>\n",
       "      <td>Eugene-Springfield Highway (SR-126)</td>\n",
       "      <td>at 52nd Street</td>\n",
       "      <td>Construct interchange</td>\n",
       "      <td>ODOT</td>\n",
       "      <td>non-exempt; regionally significant</td>\n",
       "      <td>40000000.0</td>\n",
       "      <td>2025-2029</td>\n",
       "      <td>NaN</td>\n",
       "      <td>NaN</td>\n",
       "      <td>0.00</td>\n",
       "      <td>30</td>\n",
       "      <td>Other Freeways and Expressways</td>\n",
       "      <td>STSP R-40</td>\n",
       "      <td>NaN</td>\n",
       "      <td>New Arterial Link or Interchange</td>\n",
       "    </tr>\n",
       "  </tbody>\n",
       "</table>\n",
       "</div>"
      ],
      "text/plain": [
       "                                  Name                GeographicLimits  \\\n",
       "1       Beltline Local Arterial Bridge  Beaver Street to Delta Highway   \n",
       "2  Eugene-Springfield Highway (SR-126)                  at Main Street   \n",
       "3  Eugene-Springfield Highway (SR-126)                  at 52nd Street   \n",
       "\n",
       "                                         Description  \\\n",
       "1  Construct new 2-lane arterial bridge over the ...   \n",
       "2                              Construct interchange   \n",
       "3                              Construct interchange   \n",
       "\n",
       "                 PrimaryJurisdiction  \\\n",
       "1  ODOT, Lane County, City of Eugene   \n",
       "2                               ODOT   \n",
       "3                               ODOT   \n",
       "\n",
       "                                    AirQualityStatus  EstimatedCost  \\\n",
       "1  non-exempt; regionally significant; project of...     83000000.0   \n",
       "2                 non-exempt; regionally significant     50000000.0   \n",
       "3                 non-exempt; regionally significant     40000000.0   \n",
       "\n",
       "  EstimatedYearofConstruction  YearofConstructionCostMin  \\\n",
       "1                   2025-2029                        NaN   \n",
       "2                   2030-2034                        NaN   \n",
       "3                   2025-2029                        NaN   \n",
       "\n",
       "   YearofConstructionCostMax  Length  RTP          FederalFunctionalClass  \\\n",
       "1                        NaN    0.95  512                  minor arterial   \n",
       "2                        NaN    0.00   27  Other Freeways and Expressways   \n",
       "3                        NaN    0.00   30  Other Freeways and Expressways   \n",
       "\n",
       "  JurisdictionalProject# ProjectStatus?(Completed,incomplete,etc.)  \\\n",
       "1              ETSP MM-3                                incomplete   \n",
       "2              STSP R-43                                       NaN   \n",
       "3              STSP R-40                                       NaN   \n",
       "\n",
       "                           Category  \n",
       "1  New Arterial Link or Interchange  \n",
       "2  New Arterial Link or Interchange  \n",
       "3  New Arterial Link or Interchange  "
      ]
     },
     "execution_count": 8,
     "metadata": {},
     "output_type": "execute_result"
    }
   ],
   "source": [
    "RTP.readTable(year=2045)"
   ]
  },
  {
   "cell_type": "code",
   "execution_count": 3,
   "id": "c244140c",
   "metadata": {},
   "outputs": [],
   "source": [
    "sheetList2.remove('Table Data')\n",
    "sheetList2.remove('Transit Constrained')\n",
    "sheetList2.remove('Transit Illustrative')"
   ]
  },
  {
   "cell_type": "code",
   "execution_count": 4,
   "id": "4ccc0fc8",
   "metadata": {},
   "outputs": [
    {
     "data": {
      "text/plain": [
       "['Auto Constrained - Arterial Lin',\n",
       " 'Auto Constrained - Added Freewa',\n",
       " 'Auto Constrained - Arterial Cap',\n",
       " 'Auto Constrained - New Collecto',\n",
       " 'Auto Constrained - Urban Stnds',\n",
       " 'Auto Constrained - Study',\n",
       " 'Auto Constrained - TOD',\n",
       " 'Auto Illustrative - New Arteria',\n",
       " 'Auto Illustrative - New Collect',\n",
       " 'Auto Illustrative - Art Cap',\n",
       " 'Auto Illustrative - Added Freew',\n",
       " 'Auto Illustrative - Urban Stnds',\n",
       " 'Bike Constrained - woutRd',\n",
       " 'Bike Constrained - wRd',\n",
       " 'Bike Constrained - onstreet w',\n",
       " 'Bike Constrained - onstreet wou',\n",
       " 'Bike Illustrative - woutRD',\n",
       " 'Bike Illustrative - withRd',\n",
       " 'Bike Illustrative - onstreet w',\n",
       " 'Bike Illustrative onstreet wout']"
      ]
     },
     "execution_count": 4,
     "metadata": {},
     "output_type": "execute_result"
    }
   ],
   "source": [
    "sheetList2"
   ]
  },
  {
   "cell_type": "code",
   "execution_count": 5,
   "id": "d367b1de",
   "metadata": {},
   "outputs": [],
   "source": [
    "outpath = r'T:\\MPO\\RTP\\FY20 2045 Update\\Data and Resources\\ProjectReview'\n",
    "file = os.path.join(outpath, \"review_by_table.txt\")\n",
    "if os.path.exists(file):\n",
    "    os.remove(file)\n",
    "RTP.projectReviebyTable(sheetList2)"
   ]
  },
  {
   "cell_type": "code",
   "execution_count": null,
   "id": "b7bbbf2d",
   "metadata": {},
   "outputs": [],
   "source": []
  }
 ],
 "metadata": {
  "kernelspec": {
   "display_name": "Python 3",
   "language": "python",
   "name": "python3"
  },
  "language_info": {
   "codemirror_mode": {
    "name": "ipython",
    "version": 3
   },
   "file_extension": ".py",
   "mimetype": "text/x-python",
   "name": "python",
   "nbconvert_exporter": "python",
   "pygments_lexer": "ipython3",
   "version": "3.8.8"
  }
 },
 "nbformat": 4,
 "nbformat_minor": 5
}

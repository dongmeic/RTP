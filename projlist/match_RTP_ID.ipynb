{
 "cells": [
  {
   "cell_type": "code",
   "execution_count": 1,
   "id": "701f9c24",
   "metadata": {},
   "outputs": [],
   "source": [
    "import review_RTP as RTP"
   ]
  },
  {
   "cell_type": "code",
   "execution_count": 7,
   "id": "3b84b3c5",
   "metadata": {},
   "outputs": [
    {
     "name": "stdout",
     "output_type": "stream",
     "text": [
      "Auto Constrained - Arterial Lin\n",
      "Auto Constrained - Added Fwy\n",
      "Auto Constrained - Arterial Cap\n",
      "Auto Constrained - New Collecto\n",
      "Auto Constrained - Urban Stnds\n",
      "Auto Constrained - Study\n",
      "Auto Constrained - TOD\n",
      "Constrained_Roadway_lines\n",
      "Constrained_Roadway_points\n"
     ]
    }
   ],
   "source": [
    "res = RTP.getIDs(Tablepattern='Auto Constrained',\n",
    "           Layerpattern='Constrained_Roadway')"
   ]
  },
  {
   "cell_type": "code",
   "execution_count": 2,
   "id": "e7b3b598",
   "metadata": {},
   "outputs": [
    {
     "name": "stdout",
     "output_type": "stream",
     "text": [
      "Auto Illustrative - New Arteria\n",
      "Auto Illustrative - New Collect\n",
      "Auto Illustrative - Art Cap\n",
      "Auto Illustrative - Added Freew\n",
      "Auto Illustrative - Urban Stnds\n",
      "Illustrative_Roadway_lines\n",
      "Illustrative_Roadway_points\n"
     ]
    }
   ],
   "source": [
    "res = RTP.getIDs(Tablepattern='Auto Illustrative',\n",
    "           Layerpattern='Illustrative_Roadway')"
   ]
  },
  {
   "cell_type": "code",
   "execution_count": 8,
   "id": "00e0ead8",
   "metadata": {},
   "outputs": [
    {
     "name": "stdout",
     "output_type": "stream",
     "text": [
      "Bike Constrained - woutRd\n",
      "Bike Constrained - wRd\n",
      "Bike Constrained - onstreet w\n",
      "Bike Constrained - onstreet wou\n",
      "Constrained_BikePed\n",
      "Constrained_BikePed_points\n"
     ]
    }
   ],
   "source": [
    "res = RTP.getIDs(Tablepattern='Bike Constrained',\n",
    "           Layerpattern='Constrained_BikePed')"
   ]
  },
  {
   "cell_type": "code",
   "execution_count": 12,
   "id": "1839a299",
   "metadata": {},
   "outputs": [
    {
     "name": "stdout",
     "output_type": "stream",
     "text": [
      "Bike Illustrative - woutRD\n",
      "Bike Illustrative - withRd\n",
      "Bike Illustrative - onstreet w\n",
      "Bike Illustrative onstreet wout\n",
      "Illustrative_BikePed\n"
     ]
    }
   ],
   "source": [
    "res = RTP.getIDs(Tablepattern='Bike Illustrative',\n",
    "           Layerpattern='Illustrative_BikePed')"
   ]
  },
  {
   "cell_type": "code",
   "execution_count": 16,
   "id": "3ee6f305",
   "metadata": {},
   "outputs": [
    {
     "name": "stdout",
     "output_type": "stream",
     "text": [
      "Transit Constrained\n",
      "FiscallyConstrained_TransitProjects\n"
     ]
    },
    {
     "ename": "AttributeError",
     "evalue": "'GeoDataFrame' object has no attribute 'RTP_ID'",
     "output_type": "error",
     "traceback": [
      "\u001b[1;31m---------------------------------------------------------------------------\u001b[0m",
      "\u001b[1;31mAttributeError\u001b[0m                            Traceback (most recent call last)",
      "\u001b[1;32m<ipython-input-16-69087cf49fa2>\u001b[0m in \u001b[0;36m<module>\u001b[1;34m\u001b[0m\n\u001b[1;32m----> 1\u001b[1;33m res = RTP.getIDs(Tablepattern='Transit Constrained',\n\u001b[0m\u001b[0;32m      2\u001b[0m            Layerpattern='FiscallyConstrained_TransitProjects')\n",
      "\u001b[1;32mT:\\GitHub\\RTP\\projlist\\review_RTP.py\u001b[0m in \u001b[0;36mgetIDs\u001b[1;34m(excel, Tablepattern, Layerpattern)\u001b[0m\n\u001b[0;32m     28\u001b[0m     \u001b[1;32mfor\u001b[0m \u001b[0mlayer\u001b[0m \u001b[1;32min\u001b[0m \u001b[0mlayers\u001b[0m\u001b[1;33m:\u001b[0m\u001b[1;33m\u001b[0m\u001b[1;33m\u001b[0m\u001b[0m\n\u001b[0;32m     29\u001b[0m         \u001b[0mprint\u001b[0m\u001b[1;33m(\u001b[0m\u001b[0mlayer\u001b[0m\u001b[1;33m)\u001b[0m\u001b[1;33m\u001b[0m\u001b[1;33m\u001b[0m\u001b[0m\n\u001b[1;32m---> 30\u001b[1;33m         \u001b[0ml\u001b[0m \u001b[1;33m=\u001b[0m \u001b[0mLayerRTPid\u001b[0m\u001b[1;33m(\u001b[0m\u001b[0mlayer\u001b[0m \u001b[1;33m=\u001b[0m \u001b[0mlayer\u001b[0m\u001b[1;33m)\u001b[0m\u001b[1;33m\u001b[0m\u001b[1;33m\u001b[0m\u001b[0m\n\u001b[0m\u001b[0;32m     31\u001b[0m         \u001b[0mrtpid_layer\u001b[0m \u001b[1;33m+=\u001b[0m \u001b[0ml\u001b[0m\u001b[1;33m\u001b[0m\u001b[1;33m\u001b[0m\u001b[0m\n\u001b[0;32m     32\u001b[0m \u001b[1;33m\u001b[0m\u001b[0m\n",
      "\u001b[1;32mT:\\GitHub\\RTP\\projlist\\review_RTP.py\u001b[0m in \u001b[0;36mLayerRTPid\u001b[1;34m(gdb_file, layer)\u001b[0m\n\u001b[0;32m     36\u001b[0m                layer='Constrained_Roadway_lines_P1'):\n\u001b[0;32m     37\u001b[0m     \u001b[0mgpdfile\u001b[0m \u001b[1;33m=\u001b[0m \u001b[0mgpd\u001b[0m\u001b[1;33m.\u001b[0m\u001b[0mread_file\u001b[0m\u001b[1;33m(\u001b[0m\u001b[0mgdb_file\u001b[0m\u001b[1;33m,\u001b[0m \u001b[0mlayer\u001b[0m\u001b[1;33m=\u001b[0m\u001b[0mlayer\u001b[0m\u001b[1;33m)\u001b[0m\u001b[1;33m\u001b[0m\u001b[1;33m\u001b[0m\u001b[0m\n\u001b[1;32m---> 38\u001b[1;33m     \u001b[0ma\u001b[0m \u001b[1;33m=\u001b[0m \u001b[0mgpdfile\u001b[0m\u001b[1;33m.\u001b[0m\u001b[0mRTP_ID\u001b[0m\u001b[1;33m.\u001b[0m\u001b[0munique\u001b[0m\u001b[1;33m(\u001b[0m\u001b[1;33m)\u001b[0m\u001b[1;33m\u001b[0m\u001b[1;33m\u001b[0m\u001b[0m\n\u001b[0m\u001b[0;32m     39\u001b[0m     \u001b[1;32mreturn\u001b[0m \u001b[0ma\u001b[0m\u001b[1;33m[\u001b[0m\u001b[1;33m~\u001b[0m\u001b[0mnp\u001b[0m\u001b[1;33m.\u001b[0m\u001b[0misnan\u001b[0m\u001b[1;33m(\u001b[0m\u001b[0ma\u001b[0m\u001b[1;33m)\u001b[0m\u001b[1;33m]\u001b[0m\u001b[1;33m.\u001b[0m\u001b[0mastype\u001b[0m\u001b[1;33m(\u001b[0m\u001b[0mint\u001b[0m\u001b[1;33m)\u001b[0m\u001b[1;33m.\u001b[0m\u001b[0mtolist\u001b[0m\u001b[1;33m(\u001b[0m\u001b[1;33m)\u001b[0m\u001b[1;33m\u001b[0m\u001b[1;33m\u001b[0m\u001b[0m\n\u001b[0;32m     40\u001b[0m \u001b[1;33m\u001b[0m\u001b[0m\n",
      "\u001b[1;32m~\\.conda\\envs\\geoenv\\lib\\site-packages\\pandas\\core\\generic.py\u001b[0m in \u001b[0;36m__getattr__\u001b[1;34m(self, name)\u001b[0m\n\u001b[0;32m   5463\u001b[0m             \u001b[1;32mif\u001b[0m \u001b[0mself\u001b[0m\u001b[1;33m.\u001b[0m\u001b[0m_info_axis\u001b[0m\u001b[1;33m.\u001b[0m\u001b[0m_can_hold_identifiers_and_holds_name\u001b[0m\u001b[1;33m(\u001b[0m\u001b[0mname\u001b[0m\u001b[1;33m)\u001b[0m\u001b[1;33m:\u001b[0m\u001b[1;33m\u001b[0m\u001b[1;33m\u001b[0m\u001b[0m\n\u001b[0;32m   5464\u001b[0m                 \u001b[1;32mreturn\u001b[0m \u001b[0mself\u001b[0m\u001b[1;33m[\u001b[0m\u001b[0mname\u001b[0m\u001b[1;33m]\u001b[0m\u001b[1;33m\u001b[0m\u001b[1;33m\u001b[0m\u001b[0m\n\u001b[1;32m-> 5465\u001b[1;33m             \u001b[1;32mreturn\u001b[0m \u001b[0mobject\u001b[0m\u001b[1;33m.\u001b[0m\u001b[0m__getattribute__\u001b[0m\u001b[1;33m(\u001b[0m\u001b[0mself\u001b[0m\u001b[1;33m,\u001b[0m \u001b[0mname\u001b[0m\u001b[1;33m)\u001b[0m\u001b[1;33m\u001b[0m\u001b[1;33m\u001b[0m\u001b[0m\n\u001b[0m\u001b[0;32m   5466\u001b[0m \u001b[1;33m\u001b[0m\u001b[0m\n\u001b[0;32m   5467\u001b[0m     \u001b[1;32mdef\u001b[0m \u001b[0m__setattr__\u001b[0m\u001b[1;33m(\u001b[0m\u001b[0mself\u001b[0m\u001b[1;33m,\u001b[0m \u001b[0mname\u001b[0m\u001b[1;33m:\u001b[0m \u001b[0mstr\u001b[0m\u001b[1;33m,\u001b[0m \u001b[0mvalue\u001b[0m\u001b[1;33m)\u001b[0m \u001b[1;33m->\u001b[0m \u001b[1;32mNone\u001b[0m\u001b[1;33m:\u001b[0m\u001b[1;33m\u001b[0m\u001b[1;33m\u001b[0m\u001b[0m\n",
      "\u001b[1;31mAttributeError\u001b[0m: 'GeoDataFrame' object has no attribute 'RTP_ID'"
     ]
    }
   ],
   "source": [
    "res = RTP.getIDs(Tablepattern='Transit Constrained',\n",
    "           Layerpattern='FiscallyConstrained_TransitProjects')"
   ]
  },
  {
   "cell_type": "code",
   "execution_count": 13,
   "id": "680b4034",
   "metadata": {},
   "outputs": [
    {
     "data": {
      "text/plain": [
       "1"
      ]
     },
     "execution_count": 13,
     "metadata": {},
     "output_type": "execute_result"
    }
   ],
   "source": [
    "# new ID\n",
    "len(RTP.matchID(res[0], res[1])[0])"
   ]
  },
  {
   "cell_type": "code",
   "execution_count": 14,
   "id": "ef11f29e",
   "metadata": {},
   "outputs": [
    {
     "data": {
      "text/plain": [
       "3"
      ]
     },
     "execution_count": 14,
     "metadata": {},
     "output_type": "execute_result"
    }
   ],
   "source": [
    "# missing ID\n",
    "len(RTP.matchID(res[0], res[1])[1])"
   ]
  },
  {
   "cell_type": "code",
   "execution_count": 15,
   "id": "57eef5f4",
   "metadata": {},
   "outputs": [
    {
     "data": {
      "text/plain": [
       "16"
      ]
     },
     "execution_count": 15,
     "metadata": {},
     "output_type": "execute_result"
    }
   ],
   "source": [
    "# common ID\n",
    "len(RTP.matchID(res[0], res[1])[2])"
   ]
  },
  {
   "cell_type": "code",
   "execution_count": 2,
   "id": "4bf12292",
   "metadata": {},
   "outputs": [],
   "source": [
    "sheetNames = RTP.getSheetnames()"
   ]
  },
  {
   "cell_type": "code",
   "execution_count": 3,
   "id": "397e978c",
   "metadata": {},
   "outputs": [
    {
     "data": {
      "text/plain": [
       "['Auto Constrained - Arterial Lin',\n",
       " 'Auto Constrained - Added Fwy',\n",
       " 'Auto Constrained - Arterial Cap',\n",
       " 'Auto Constrained - New Collecto',\n",
       " 'Auto Constrained - Urban Stnds',\n",
       " 'Auto Constrained - Study',\n",
       " 'Auto Constrained - TOD']"
      ]
     },
     "execution_count": 3,
     "metadata": {},
     "output_type": "execute_result"
    }
   ],
   "source": [
    "sheetNames"
   ]
  },
  {
   "cell_type": "code",
   "execution_count": 4,
   "id": "1ad4de4c",
   "metadata": {},
   "outputs": [
    {
     "name": "stdout",
     "output_type": "stream",
     "text": [
      "Auto Constrained - Arterial Lin\n",
      "Auto Constrained - Added Fwy\n",
      "Auto Constrained - Arterial Cap\n",
      "Auto Constrained - New Collecto\n",
      "Auto Constrained - Urban Stnds\n",
      "Auto Constrained - Study\n",
      "Auto Constrained - TOD\n"
     ]
    }
   ],
   "source": [
    "rtpid_table = []\n",
    "for sheetName in sheetNames:\n",
    "    print(sheetName)\n",
    "    l = RTP.getRTPid(sheet_name=sheetName)[1]\n",
    "    rtpid_table += l"
   ]
  },
  {
   "cell_type": "code",
   "execution_count": 5,
   "id": "8ed7427b",
   "metadata": {},
   "outputs": [],
   "source": [
    "layers = [item for item in RTP.getLayernames() if 'P1' not in item]"
   ]
  },
  {
   "cell_type": "code",
   "execution_count": 6,
   "id": "62f68653",
   "metadata": {
    "scrolled": true
   },
   "outputs": [
    {
     "name": "stdout",
     "output_type": "stream",
     "text": [
      "Constrained_Roadway_lines\n",
      "Constrained_Roadway_points\n"
     ]
    }
   ],
   "source": [
    "rtpid_layer = []\n",
    "for layer in layers:\n",
    "    print(layer)\n",
    "    l = RTP.LayerRTPid(layer = layer)\n",
    "    rtpid_layer += l"
   ]
  },
  {
   "cell_type": "code",
   "execution_count": 8,
   "id": "605f006e",
   "metadata": {},
   "outputs": [
    {
     "data": {
      "text/plain": [
       "[27, 30, 119, 608, 718, 916, 829, 26, 31, 557]"
      ]
     },
     "execution_count": 8,
     "metadata": {},
     "output_type": "execute_result"
    }
   ],
   "source": [
    "# new ID\n",
    "RTP.matchID(rtpid_table, rtpid_layer)[0]"
   ]
  },
  {
   "cell_type": "code",
   "execution_count": 10,
   "id": "87040314",
   "metadata": {},
   "outputs": [
    {
     "data": {
      "text/plain": [
       "30"
      ]
     },
     "execution_count": 10,
     "metadata": {},
     "output_type": "execute_result"
    }
   ],
   "source": [
    "# missed ID\n",
    "len(RTP.matchID(rtpid_table, rtpid_layer)[1])"
   ]
  },
  {
   "cell_type": "code",
   "execution_count": 11,
   "id": "65a57f39",
   "metadata": {},
   "outputs": [
    {
     "data": {
      "text/plain": [
       "100"
      ]
     },
     "execution_count": 11,
     "metadata": {},
     "output_type": "execute_result"
    }
   ],
   "source": [
    "# common ID\n",
    "len(RTP.matchID(rtpid_table, rtpid_layer)[2])"
   ]
  },
  {
   "cell_type": "code",
   "execution_count": null,
   "id": "52f42547",
   "metadata": {},
   "outputs": [],
   "source": []
  }
 ],
 "metadata": {
  "kernelspec": {
   "display_name": "Python 3",
   "language": "python",
   "name": "python3"
  },
  "language_info": {
   "codemirror_mode": {
    "name": "ipython",
    "version": 3
   },
   "file_extension": ".py",
   "mimetype": "text/x-python",
   "name": "python",
   "nbconvert_exporter": "python",
   "pygments_lexer": "ipython3",
   "version": "3.8.8"
  }
 },
 "nbformat": 4,
 "nbformat_minor": 5
}

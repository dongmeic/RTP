{
 "cells": [
  {
   "cell_type": "code",
   "execution_count": 1,
   "id": "abf47943",
   "metadata": {},
   "outputs": [],
   "source": [
    "import review_RTP as RTP"
   ]
  },
  {
   "cell_type": "code",
   "execution_count": 2,
   "id": "a87a5286",
   "metadata": {},
   "outputs": [],
   "source": [
    "sheetNames = RTP.getSheetnames()"
   ]
  },
  {
   "cell_type": "code",
   "execution_count": 3,
   "id": "04ab4d89",
   "metadata": {},
   "outputs": [
    {
     "data": {
      "text/plain": [
       "['Auto Constrained - Arterial Lin',\n",
       " 'Auto Constrained - Added Fwy',\n",
       " 'Auto Constrained - Arterial Cap',\n",
       " 'Auto Constrained - New Collecto',\n",
       " 'Auto Constrained - Urban Stnds',\n",
       " 'Auto Constrained - Study',\n",
       " 'Auto Constrained - TOD']"
      ]
     },
     "execution_count": 3,
     "metadata": {},
     "output_type": "execute_result"
    }
   ],
   "source": [
    "sheetNames"
   ]
  },
  {
   "cell_type": "code",
   "execution_count": 4,
   "id": "67a4202b",
   "metadata": {},
   "outputs": [
    {
     "data": {
      "text/plain": [
       "[512, 27, 30]"
      ]
     },
     "execution_count": 4,
     "metadata": {},
     "output_type": "execute_result"
    }
   ],
   "source": [
    "RTP.getRTPid(sheet_name=sheetNames[0])[1]"
   ]
  },
  {
   "cell_type": "code",
   "execution_count": 4,
   "id": "86f024b7",
   "metadata": {},
   "outputs": [
    {
     "name": "stdout",
     "output_type": "stream",
     "text": [
      "Auto Constrained - Arterial Lin\n",
      "Auto Constrained - Added Fwy\n",
      "Auto Constrained - Arterial Cap\n",
      "Auto Constrained - New Collecto\n",
      "Auto Constrained - Urban Stnds\n",
      "Auto Constrained - Study\n",
      "Auto Constrained - TOD\n"
     ]
    }
   ],
   "source": [
    "rtpid_table = []\n",
    "for sheetName in sheetNames:\n",
    "    print(sheetName)\n",
    "    l = RTP.getRTPid(sheet_name=sheetName)[1]\n",
    "    rtpid_table += l"
   ]
  },
  {
   "cell_type": "code",
   "execution_count": 5,
   "id": "c66aca4a",
   "metadata": {},
   "outputs": [],
   "source": [
    "layers = [item for item in RTP.getLayernames() if 'P1' not in item]"
   ]
  },
  {
   "cell_type": "code",
   "execution_count": 6,
   "id": "b771b606",
   "metadata": {
    "scrolled": true
   },
   "outputs": [
    {
     "name": "stdout",
     "output_type": "stream",
     "text": [
      "Constrained_Roadway_lines\n",
      "Constrained_Roadway_points\n"
     ]
    }
   ],
   "source": [
    "rtpid_layer = []\n",
    "for layer in layers:\n",
    "    print(layer)\n",
    "    l = RTP.LayerRTPid(layer = layer)\n",
    "    rtpid_layer += l"
   ]
  },
  {
   "cell_type": "code",
   "execution_count": 7,
   "id": "af70ae6d",
   "metadata": {},
   "outputs": [
    {
     "data": {
      "text/plain": [
       "False"
      ]
     },
     "execution_count": 7,
     "metadata": {},
     "output_type": "execute_result"
    }
   ],
   "source": [
    "check =  all(item in rtpid_table for item in rtpid_layer)\n",
    "check"
   ]
  },
  {
   "cell_type": "code",
   "execution_count": 8,
   "id": "a4bf5179",
   "metadata": {
    "scrolled": true
   },
   "outputs": [
    {
     "data": {
      "text/plain": [
       "False"
      ]
     },
     "execution_count": 8,
     "metadata": {},
     "output_type": "execute_result"
    }
   ],
   "source": [
    "check =  all(item in rtpid_layer for item in rtpid_table)\n",
    "check"
   ]
  },
  {
   "cell_type": "code",
   "execution_count": 20,
   "id": "27ed823f",
   "metadata": {},
   "outputs": [
    {
     "data": {
      "text/plain": [
       "10"
      ]
     },
     "execution_count": 20,
     "metadata": {},
     "output_type": "execute_result"
    }
   ],
   "source": [
    "newRTPid = [a for a in rtpid_table if a not in rtpid_layer]\n",
    "len(newRTPid)"
   ]
  },
  {
   "cell_type": "code",
   "execution_count": 19,
   "id": "950d762a",
   "metadata": {},
   "outputs": [
    {
     "data": {
      "text/plain": [
       "30"
      ]
     },
     "execution_count": 19,
     "metadata": {},
     "output_type": "execute_result"
    }
   ],
   "source": [
    "missedRTPid = [a for a in rtpid_layer if a not in rtpid_table]\n",
    "len(missedRTPid)"
   ]
  },
  {
   "cell_type": "code",
   "execution_count": 18,
   "id": "d601784b",
   "metadata": {},
   "outputs": [
    {
     "data": {
      "text/plain": [
       "100"
      ]
     },
     "execution_count": 18,
     "metadata": {},
     "output_type": "execute_result"
    }
   ],
   "source": [
    "commonid = [a for a in rtpid_table if a in rtpid_layer]\n",
    "len(commonid)"
   ]
  },
  {
   "cell_type": "code",
   "execution_count": null,
   "id": "69a4e1f1",
   "metadata": {},
   "outputs": [],
   "source": []
  }
 ],
 "metadata": {
  "kernelspec": {
   "display_name": "Python 3",
   "language": "python",
   "name": "python3"
  },
  "language_info": {
   "codemirror_mode": {
    "name": "ipython",
    "version": 3
   },
   "file_extension": ".py",
   "mimetype": "text/x-python",
   "name": "python",
   "nbconvert_exporter": "python",
   "pygments_lexer": "ipython3",
   "version": "3.8.8"
  }
 },
 "nbformat": 4,
 "nbformat_minor": 5
}

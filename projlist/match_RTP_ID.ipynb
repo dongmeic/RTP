{
 "cells": [
  {
   "cell_type": "code",
   "execution_count": 1,
   "id": "4c769b77",
   "metadata": {},
   "outputs": [],
   "source": [
    "import review_RTP as RTP"
   ]
  },
  {
   "cell_type": "code",
   "execution_count": 17,
   "id": "124746b7",
   "metadata": {},
   "outputs": [
    {
     "name": "stdout",
     "output_type": "stream",
     "text": [
      "Auto Constrained - Arterial Lin\n",
      "Auto Constrained - Added Fwy\n",
      "Auto Constrained - Arterial Cap\n",
      "Auto Constrained - New Collecto\n",
      "Auto Constrained - Urban Stnds\n",
      "Auto Constrained - Study\n",
      "Auto Constrained - TOD\n",
      "Constrained_Roadway_lines\n",
      "Constrained_Roadway_points\n"
     ]
    }
   ],
   "source": [
    "res = RTP.getIDs(Tablepattern='Auto Constrained',\n",
    "           Layerpattern='Constrained_Roadway')"
   ]
  },
  {
   "cell_type": "code",
   "execution_count": 2,
   "id": "15f8d9b4",
   "metadata": {},
   "outputs": [
    {
     "name": "stdout",
     "output_type": "stream",
     "text": [
      "Auto Illustrative - New Arteria\n",
      "Auto Illustrative - New Collect\n",
      "Auto Illustrative - Art Cap\n",
      "Auto Illustrative - Added Freew\n",
      "Auto Illustrative - Urban Stnds\n",
      "Illustrative_Roadway_lines\n",
      "Illustrative_Roadway_points\n"
     ]
    }
   ],
   "source": [
    "res = RTP.getIDs(Tablepattern='Auto Illustrative',\n",
    "           Layerpattern='Illustrative_Roadway')"
   ]
  },
  {
   "cell_type": "code",
   "execution_count": 8,
   "id": "18330b0c",
   "metadata": {},
   "outputs": [
    {
     "name": "stdout",
     "output_type": "stream",
     "text": [
      "Bike Constrained - woutRd\n",
      "Bike Constrained - wRd\n",
      "Bike Constrained - onstreet w\n",
      "Bike Constrained - onstreet wou\n",
      "Constrained_BikePed\n",
      "Constrained_BikePed_points\n"
     ]
    }
   ],
   "source": [
    "res = RTP.getIDs(Tablepattern='Bike Constrained',\n",
    "           Layerpattern='Constrained_BikePed')"
   ]
  },
  {
   "cell_type": "code",
   "execution_count": 12,
   "id": "c261b550",
   "metadata": {},
   "outputs": [
    {
     "name": "stdout",
     "output_type": "stream",
     "text": [
      "Bike Illustrative - woutRD\n",
      "Bike Illustrative - withRd\n",
      "Bike Illustrative - onstreet w\n",
      "Bike Illustrative onstreet wout\n",
      "Illustrative_BikePed\n"
     ]
    }
   ],
   "source": [
    "res = RTP.getIDs(Tablepattern='Bike Illustrative',\n",
    "           Layerpattern='Illustrative_BikePed')"
   ]
  },
  {
   "cell_type": "code",
   "execution_count": 13,
   "id": "a81ce53b",
   "metadata": {},
   "outputs": [
    {
     "data": {
      "text/plain": [
       "1"
      ]
     },
     "execution_count": 13,
     "metadata": {},
     "output_type": "execute_result"
    }
   ],
   "source": [
    "# new ID\n",
    "len(RTP.matchID(res[0], res[1])[0])"
   ]
  },
  {
   "cell_type": "code",
   "execution_count": 14,
   "id": "b216d4ae",
   "metadata": {},
   "outputs": [
    {
     "data": {
      "text/plain": [
       "3"
      ]
     },
     "execution_count": 14,
     "metadata": {},
     "output_type": "execute_result"
    }
   ],
   "source": [
    "# missing ID\n",
    "len(RTP.matchID(res[0], res[1])[1])"
   ]
  },
  {
   "cell_type": "code",
   "execution_count": 20,
   "id": "333eb75f",
   "metadata": {},
   "outputs": [
    {
     "data": {
      "text/plain": [
       "[3,\n",
       " 6,\n",
       " 18,\n",
       " 19,\n",
       " 22,\n",
       " 32,\n",
       " 54,\n",
       " 69,\n",
       " 75,\n",
       " 81,\n",
       " 87,\n",
       " 96,\n",
       " 98,\n",
       " 102,\n",
       " 210,\n",
       " 211,\n",
       " 312,\n",
       " 315,\n",
       " 318,\n",
       " 333,\n",
       " 333,\n",
       " 343,\n",
       " 414,\n",
       " 429,\n",
       " 435,\n",
       " 441,\n",
       " 481,\n",
       " 497,\n",
       " 512,\n",
       " 527,\n",
       " 554,\n",
       " 555,\n",
       " 602,\n",
       " 603,\n",
       " 631,\n",
       " 632,\n",
       " 638,\n",
       " 651,\n",
       " 662,\n",
       " 664,\n",
       " 670,\n",
       " 703,\n",
       " 704,\n",
       " 705,\n",
       " 706,\n",
       " 707,\n",
       " 709,\n",
       " 710,\n",
       " 712,\n",
       " 713,\n",
       " 715,\n",
       " 717,\n",
       " 722,\n",
       " 723,\n",
       " 737,\n",
       " 744,\n",
       " 747,\n",
       " 750,\n",
       " 756,\n",
       " 765,\n",
       " 777,\n",
       " 783,\n",
       " 784,\n",
       " 785,\n",
       " 786,\n",
       " 789,\n",
       " 798,\n",
       " 809,\n",
       " 815,\n",
       " 818,\n",
       " 819,\n",
       " 821,\n",
       " 823,\n",
       " 824,\n",
       " 826,\n",
       " 827,\n",
       " 828,\n",
       " 828,\n",
       " 830,\n",
       " 831,\n",
       " 835,\n",
       " 838,\n",
       " 849,\n",
       " 897,\n",
       " 898,\n",
       " 899,\n",
       " 901,\n",
       " 909,\n",
       " 917,\n",
       " 918,\n",
       " 918,\n",
       " 920,\n",
       " 924,\n",
       " 924,\n",
       " 925,\n",
       " 927,\n",
       " 933,\n",
       " 945,\n",
       " 951,\n",
       " 962]"
      ]
     },
     "execution_count": 20,
     "metadata": {},
     "output_type": "execute_result"
    }
   ],
   "source": [
    "# common ID\n",
    "sorted(RTP.matchID(res[0], res[1])[2])"
   ]
  },
  {
   "cell_type": "code",
   "execution_count": 19,
   "id": "900231a0",
   "metadata": {},
   "outputs": [],
   "source": [
    "sheetNames = RTP.getSheetnames()"
   ]
  },
  {
   "cell_type": "code",
   "execution_count": 3,
   "id": "6a0603bd",
   "metadata": {},
   "outputs": [
    {
     "data": {
      "text/plain": [
       "['Auto Constrained - Arterial Lin',\n",
       " 'Auto Constrained - Added Fwy',\n",
       " 'Auto Constrained - Arterial Cap',\n",
       " 'Auto Constrained - New Collecto',\n",
       " 'Auto Constrained - Urban Stnds',\n",
       " 'Auto Constrained - Study',\n",
       " 'Auto Constrained - TOD']"
      ]
     },
     "execution_count": 3,
     "metadata": {},
     "output_type": "execute_result"
    }
   ],
   "source": [
    "sheetNames"
   ]
  },
  {
   "cell_type": "code",
   "execution_count": 4,
   "id": "fa586760",
   "metadata": {},
   "outputs": [
    {
     "name": "stdout",
     "output_type": "stream",
     "text": [
      "Auto Constrained - Arterial Lin\n",
      "Auto Constrained - Added Fwy\n",
      "Auto Constrained - Arterial Cap\n",
      "Auto Constrained - New Collecto\n",
      "Auto Constrained - Urban Stnds\n",
      "Auto Constrained - Study\n",
      "Auto Constrained - TOD\n"
     ]
    }
   ],
   "source": [
    "rtpid_table = []\n",
    "for sheetName in sheetNames:\n",
    "    print(sheetName)\n",
    "    l = RTP.getRTPid(sheet_name=sheetName)[1]\n",
    "    rtpid_table += l"
   ]
  },
  {
   "cell_type": "code",
   "execution_count": 5,
   "id": "e55dd380",
   "metadata": {},
   "outputs": [],
   "source": [
    "layers = [item for item in RTP.getLayernames() if 'P1' not in item]"
   ]
  },
  {
   "cell_type": "code",
   "execution_count": 6,
   "id": "e1830a63",
   "metadata": {
    "scrolled": true
   },
   "outputs": [
    {
     "name": "stdout",
     "output_type": "stream",
     "text": [
      "Constrained_Roadway_lines\n",
      "Constrained_Roadway_points\n"
     ]
    }
   ],
   "source": [
    "rtpid_layer = []\n",
    "for layer in layers:\n",
    "    print(layer)\n",
    "    l = RTP.LayerRTPid(layer = layer)\n",
    "    rtpid_layer += l"
   ]
  },
  {
   "cell_type": "code",
   "execution_count": 8,
   "id": "df321ae9",
   "metadata": {},
   "outputs": [
    {
     "data": {
      "text/plain": [
       "[27, 30, 119, 608, 718, 916, 829, 26, 31, 557]"
      ]
     },
     "execution_count": 8,
     "metadata": {},
     "output_type": "execute_result"
    }
   ],
   "source": [
    "# new ID\n",
    "RTP.matchID(rtpid_table, rtpid_layer)[0]"
   ]
  },
  {
   "cell_type": "code",
   "execution_count": 10,
   "id": "971c3f4a",
   "metadata": {},
   "outputs": [
    {
     "data": {
      "text/plain": [
       "30"
      ]
     },
     "execution_count": 10,
     "metadata": {},
     "output_type": "execute_result"
    }
   ],
   "source": [
    "# missed ID\n",
    "len(RTP.matchID(rtpid_table, rtpid_layer)[1])"
   ]
  },
  {
   "cell_type": "code",
   "execution_count": 11,
   "id": "3c277acb",
   "metadata": {},
   "outputs": [
    {
     "data": {
      "text/plain": [
       "100"
      ]
     },
     "execution_count": 11,
     "metadata": {},
     "output_type": "execute_result"
    }
   ],
   "source": [
    "# common ID\n",
    "len(RTP.matchID(rtpid_table, rtpid_layer)[2])"
   ]
  },
  {
   "cell_type": "code",
   "execution_count": null,
   "id": "29737a2a",
   "metadata": {},
   "outputs": [],
   "source": []
  }
 ],
 "metadata": {
  "kernelspec": {
   "display_name": "Python 3",
   "language": "python",
   "name": "python3"
  },
  "language_info": {
   "codemirror_mode": {
    "name": "ipython",
    "version": 3
   },
   "file_extension": ".py",
   "mimetype": "text/x-python",
   "name": "python",
   "nbconvert_exporter": "python",
   "pygments_lexer": "ipython3",
   "version": "3.8.8"
  }
 },
 "nbformat": 4,
 "nbformat_minor": 5
}
